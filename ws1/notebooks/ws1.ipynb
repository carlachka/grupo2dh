{
 "cells": [
  {
   "cell_type": "markdown",
   "metadata": {},
   "source": [
    "<a id=\"section_toc\"></a> \n",
    "## Tabla de Contenidos\n",
    "\n",
    "[Consigna](#section_consigna)\n",
    "\n",
    "[Dataset_full](#section_full_dataset)\n",
    "\n",
    "Filtro\n",
    "\n",
    "$\\hspace{.5cm}$[Columnas_1](#section_col1)\n",
    "\n",
    "[Dataset_CABA](#section_CABA)\n",
    "\n",
    "[Dataset_BPC](#section_BPC)\n",
    "\n",
    "[Dataset_Palermo](#section_palermo)\n",
    "\n",
    "Filtro\n",
    "\n",
    "$\\hspace{.5cm}$[Agrupacion Columnas_2](#section_col2)\n",
    "\n",
    "[Analisis descriptivo pre limpieza](#section_EDA)\n",
    "\n",
    "[Detección de valores faltantes](#section_deteccion_faltantes)\n",
    "\n",
    "Estrategias  \n",
    "\n",
    "$\\hspace{.5cm}$[Drop](#section_drop)\n",
    "\n",
    "$\\hspace{.5cm}$[Imputación](#section_imputacion)\n",
    "\n",
    "[Duplicados](#section_duplicados)\n",
    "\n",
    "[Nuevas_columnas](#section_nuevas)\n",
    "\n",
    "[Agregacion de data externa](#section_externa)"
   ]
  },
  {
   "cell_type": "markdown",
   "metadata": {},
   "source": [
    "\n",
    "\n",
    "<a id=\"section_consigna\"></a> \n",
    "## Consigna\n",
    "\n",
    "[volver a TOC](#section_toc)\n",
    "\n",
    "**Properati. Workshop 1**\n",
    "\n",
    "y = precio por metro cuadrado de una propiedad en USD\n",
    "\n",
    "El dataset de Properati es de tamaño entre pequeño y mediano, pero tiene dos complejidades a las que\n",
    "deberá prestarle atención:\n",
    "* Peso de missing data en algunas variables relevantes.\n",
    "* Será importante tener en cuenta el problema de la influencia espacial en los precios\n",
    "por metro cuadrado. En efecto, es probable que existan diferencias importantes de\n",
    "en las diferentes geografías, barrios y zonas analizadas.\n",
    "\n",
    "\n",
    "Objetivos:\n",
    "* Efectuar una limpieza del dataset provisto. Particularmente, deberá diseñar\n",
    "estrategias para lidiar con los datos perdidos en ciertas variables.\n",
    "* Realizar un análisis descriptivo de las principales variables.\n",
    "* Crear nuevas columnas a partir de las características dadas que puedan tener valor predictivo."
   ]
  },
  {
   "cell_type": "code",
   "execution_count": 220,
   "metadata": {},
   "outputs": [],
   "source": [
    "import pandas as pd\n",
    "import numpy as np\n",
    "\n",
    "import matplotlib as mpl\n",
    "import matplotlib.pyplot as plt\n",
    "import seaborn as sns\n",
    "#import missingno as msno\n",
    "import requests\n",
    "sns.set() #par que es?"
   ]
  },
  {
   "cell_type": "markdown",
   "metadata": {},
   "source": [
    "<a id=\"section_full_dataset\"></a> \n",
    "## Dataset full\n",
    "\n",
    "[volver a TOC](#section_toc)"
   ]
  },
  {
   "cell_type": "code",
   "execution_count": 147,
   "metadata": {},
   "outputs": [],
   "source": [
    "df = pd.read_csv(\"properati.csv\", index_col=0)"
   ]
  },
  {
   "cell_type": "code",
   "execution_count": 148,
   "metadata": {
    "scrolled": true
   },
   "outputs": [
    {
     "data": {
      "text/html": [
       "<div>\n",
       "<style scoped>\n",
       "    .dataframe tbody tr th:only-of-type {\n",
       "        vertical-align: middle;\n",
       "    }\n",
       "\n",
       "    .dataframe tbody tr th {\n",
       "        vertical-align: top;\n",
       "    }\n",
       "\n",
       "    .dataframe thead th {\n",
       "        text-align: right;\n",
       "    }\n",
       "</style>\n",
       "<table border=\"1\" class=\"dataframe\">\n",
       "  <thead>\n",
       "    <tr style=\"text-align: right;\">\n",
       "      <th></th>\n",
       "      <th>operation</th>\n",
       "      <th>property_type</th>\n",
       "      <th>place_name</th>\n",
       "      <th>place_with_parent_names</th>\n",
       "      <th>country_name</th>\n",
       "      <th>state_name</th>\n",
       "      <th>geonames_id</th>\n",
       "      <th>lat-lon</th>\n",
       "      <th>lat</th>\n",
       "      <th>lon</th>\n",
       "      <th>...</th>\n",
       "      <th>surface_covered_in_m2</th>\n",
       "      <th>price_usd_per_m2</th>\n",
       "      <th>price_per_m2</th>\n",
       "      <th>floor</th>\n",
       "      <th>rooms</th>\n",
       "      <th>expenses</th>\n",
       "      <th>properati_url</th>\n",
       "      <th>description</th>\n",
       "      <th>title</th>\n",
       "      <th>image_thumbnail</th>\n",
       "    </tr>\n",
       "  </thead>\n",
       "  <tbody>\n",
       "    <tr>\n",
       "      <th>0</th>\n",
       "      <td>sell</td>\n",
       "      <td>PH</td>\n",
       "      <td>Mataderos</td>\n",
       "      <td>|Argentina|Capital Federal|Mataderos|</td>\n",
       "      <td>Argentina</td>\n",
       "      <td>Capital Federal</td>\n",
       "      <td>3430787.0</td>\n",
       "      <td>-34.6618237,-58.5088387</td>\n",
       "      <td>-34.661824</td>\n",
       "      <td>-58.508839</td>\n",
       "      <td>...</td>\n",
       "      <td>40.0</td>\n",
       "      <td>1127.272727</td>\n",
       "      <td>1550.000000</td>\n",
       "      <td>NaN</td>\n",
       "      <td>NaN</td>\n",
       "      <td>NaN</td>\n",
       "      <td>http://www.properati.com.ar/15bo8_venta_ph_mat...</td>\n",
       "      <td>2 AMBIENTES TIPO CASA PLANTA BAJA POR PASILLO,...</td>\n",
       "      <td>2 AMB TIPO CASA SIN EXPENSAS EN PB</td>\n",
       "      <td>https://thumbs4.properati.com/8/BluUYiHJLhgIIK...</td>\n",
       "    </tr>\n",
       "    <tr>\n",
       "      <th>1</th>\n",
       "      <td>sell</td>\n",
       "      <td>apartment</td>\n",
       "      <td>La Plata</td>\n",
       "      <td>|Argentina|Bs.As. G.B.A. Zona Sur|La Plata|</td>\n",
       "      <td>Argentina</td>\n",
       "      <td>Bs.As. G.B.A. Zona Sur</td>\n",
       "      <td>3432039.0</td>\n",
       "      <td>-34.9038831,-57.9643295</td>\n",
       "      <td>-34.903883</td>\n",
       "      <td>-57.964330</td>\n",
       "      <td>...</td>\n",
       "      <td>NaN</td>\n",
       "      <td>NaN</td>\n",
       "      <td>NaN</td>\n",
       "      <td>NaN</td>\n",
       "      <td>NaN</td>\n",
       "      <td>NaN</td>\n",
       "      <td>http://www.properati.com.ar/15bob_venta_depart...</td>\n",
       "      <td>Venta de departamento en décimo piso al frente...</td>\n",
       "      <td>VENTA Depto 2 dorm. a estrenar 7 e/ 36 y 37   ...</td>\n",
       "      <td>https://thumbs4.properati.com/7/ikpVBu2ztHA7jv...</td>\n",
       "    </tr>\n",
       "    <tr>\n",
       "      <th>2</th>\n",
       "      <td>sell</td>\n",
       "      <td>apartment</td>\n",
       "      <td>Mataderos</td>\n",
       "      <td>|Argentina|Capital Federal|Mataderos|</td>\n",
       "      <td>Argentina</td>\n",
       "      <td>Capital Federal</td>\n",
       "      <td>3430787.0</td>\n",
       "      <td>-34.6522615,-58.5229825</td>\n",
       "      <td>-34.652262</td>\n",
       "      <td>-58.522982</td>\n",
       "      <td>...</td>\n",
       "      <td>55.0</td>\n",
       "      <td>1309.090909</td>\n",
       "      <td>1309.090909</td>\n",
       "      <td>NaN</td>\n",
       "      <td>NaN</td>\n",
       "      <td>NaN</td>\n",
       "      <td>http://www.properati.com.ar/15bod_venta_depart...</td>\n",
       "      <td>2 AMBIENTES 3ER PISO LATERAL LIVING COMEDOR AM...</td>\n",
       "      <td>2 AMB 3ER PISO CON ASCENSOR APTO CREDITO</td>\n",
       "      <td>https://thumbs4.properati.com/5/SXKr34F_IwG3W_...</td>\n",
       "    </tr>\n",
       "    <tr>\n",
       "      <th>3</th>\n",
       "      <td>sell</td>\n",
       "      <td>PH</td>\n",
       "      <td>Liniers</td>\n",
       "      <td>|Argentina|Capital Federal|Liniers|</td>\n",
       "      <td>Argentina</td>\n",
       "      <td>Capital Federal</td>\n",
       "      <td>3431333.0</td>\n",
       "      <td>-34.6477969,-58.5164244</td>\n",
       "      <td>-34.647797</td>\n",
       "      <td>-58.516424</td>\n",
       "      <td>...</td>\n",
       "      <td>NaN</td>\n",
       "      <td>NaN</td>\n",
       "      <td>NaN</td>\n",
       "      <td>NaN</td>\n",
       "      <td>NaN</td>\n",
       "      <td>NaN</td>\n",
       "      <td>http://www.properati.com.ar/15boh_venta_ph_lin...</td>\n",
       "      <td>PH 3 ambientes con patio. Hay 3 deptos en lote...</td>\n",
       "      <td>PH 3 amb. cfte. reciclado</td>\n",
       "      <td>https://thumbs4.properati.com/3/DgIfX-85Mog5SP...</td>\n",
       "    </tr>\n",
       "    <tr>\n",
       "      <th>4</th>\n",
       "      <td>sell</td>\n",
       "      <td>apartment</td>\n",
       "      <td>Centro</td>\n",
       "      <td>|Argentina|Buenos Aires Costa Atlántica|Mar de...</td>\n",
       "      <td>Argentina</td>\n",
       "      <td>Buenos Aires Costa Atlántica</td>\n",
       "      <td>3435548.0</td>\n",
       "      <td>-38.0026256,-57.5494468</td>\n",
       "      <td>-38.002626</td>\n",
       "      <td>-57.549447</td>\n",
       "      <td>...</td>\n",
       "      <td>35.0</td>\n",
       "      <td>1828.571429</td>\n",
       "      <td>1828.571429</td>\n",
       "      <td>NaN</td>\n",
       "      <td>NaN</td>\n",
       "      <td>NaN</td>\n",
       "      <td>http://www.properati.com.ar/15bok_venta_depart...</td>\n",
       "      <td>DEPARTAMENTO CON FANTÁSTICA ILUMINACIÓN NATURA...</td>\n",
       "      <td>DEPTO 2 AMB AL CONTRAFRENTE ZONA CENTRO/PLAZA ...</td>\n",
       "      <td>https://thumbs4.properati.com/5/xrRqlNcSI_vs-f...</td>\n",
       "    </tr>\n",
       "  </tbody>\n",
       "</table>\n",
       "<p>5 rows × 25 columns</p>\n",
       "</div>"
      ],
      "text/plain": [
       "  operation property_type place_name  \\\n",
       "0      sell            PH  Mataderos   \n",
       "1      sell     apartment   La Plata   \n",
       "2      sell     apartment  Mataderos   \n",
       "3      sell            PH    Liniers   \n",
       "4      sell     apartment     Centro   \n",
       "\n",
       "                             place_with_parent_names country_name  \\\n",
       "0              |Argentina|Capital Federal|Mataderos|    Argentina   \n",
       "1        |Argentina|Bs.As. G.B.A. Zona Sur|La Plata|    Argentina   \n",
       "2              |Argentina|Capital Federal|Mataderos|    Argentina   \n",
       "3                |Argentina|Capital Federal|Liniers|    Argentina   \n",
       "4  |Argentina|Buenos Aires Costa Atlántica|Mar de...    Argentina   \n",
       "\n",
       "                     state_name  geonames_id                  lat-lon  \\\n",
       "0               Capital Federal    3430787.0  -34.6618237,-58.5088387   \n",
       "1        Bs.As. G.B.A. Zona Sur    3432039.0  -34.9038831,-57.9643295   \n",
       "2               Capital Federal    3430787.0  -34.6522615,-58.5229825   \n",
       "3               Capital Federal    3431333.0  -34.6477969,-58.5164244   \n",
       "4  Buenos Aires Costa Atlántica    3435548.0  -38.0026256,-57.5494468   \n",
       "\n",
       "         lat        lon  ...  surface_covered_in_m2 price_usd_per_m2  \\\n",
       "0 -34.661824 -58.508839  ...                   40.0      1127.272727   \n",
       "1 -34.903883 -57.964330  ...                    NaN              NaN   \n",
       "2 -34.652262 -58.522982  ...                   55.0      1309.090909   \n",
       "3 -34.647797 -58.516424  ...                    NaN              NaN   \n",
       "4 -38.002626 -57.549447  ...                   35.0      1828.571429   \n",
       "\n",
       "   price_per_m2  floor  rooms  expenses  \\\n",
       "0   1550.000000    NaN    NaN       NaN   \n",
       "1           NaN    NaN    NaN       NaN   \n",
       "2   1309.090909    NaN    NaN       NaN   \n",
       "3           NaN    NaN    NaN       NaN   \n",
       "4   1828.571429    NaN    NaN       NaN   \n",
       "\n",
       "                                       properati_url  \\\n",
       "0  http://www.properati.com.ar/15bo8_venta_ph_mat...   \n",
       "1  http://www.properati.com.ar/15bob_venta_depart...   \n",
       "2  http://www.properati.com.ar/15bod_venta_depart...   \n",
       "3  http://www.properati.com.ar/15boh_venta_ph_lin...   \n",
       "4  http://www.properati.com.ar/15bok_venta_depart...   \n",
       "\n",
       "                                         description  \\\n",
       "0  2 AMBIENTES TIPO CASA PLANTA BAJA POR PASILLO,...   \n",
       "1  Venta de departamento en décimo piso al frente...   \n",
       "2  2 AMBIENTES 3ER PISO LATERAL LIVING COMEDOR AM...   \n",
       "3  PH 3 ambientes con patio. Hay 3 deptos en lote...   \n",
       "4  DEPARTAMENTO CON FANTÁSTICA ILUMINACIÓN NATURA...   \n",
       "\n",
       "                                               title  \\\n",
       "0                 2 AMB TIPO CASA SIN EXPENSAS EN PB   \n",
       "1  VENTA Depto 2 dorm. a estrenar 7 e/ 36 y 37   ...   \n",
       "2           2 AMB 3ER PISO CON ASCENSOR APTO CREDITO   \n",
       "3                       PH 3 amb. cfte. reciclado      \n",
       "4  DEPTO 2 AMB AL CONTRAFRENTE ZONA CENTRO/PLAZA ...   \n",
       "\n",
       "                                     image_thumbnail  \n",
       "0  https://thumbs4.properati.com/8/BluUYiHJLhgIIK...  \n",
       "1  https://thumbs4.properati.com/7/ikpVBu2ztHA7jv...  \n",
       "2  https://thumbs4.properati.com/5/SXKr34F_IwG3W_...  \n",
       "3  https://thumbs4.properati.com/3/DgIfX-85Mog5SP...  \n",
       "4  https://thumbs4.properati.com/5/xrRqlNcSI_vs-f...  \n",
       "\n",
       "[5 rows x 25 columns]"
      ]
     },
     "execution_count": 148,
     "metadata": {},
     "output_type": "execute_result"
    }
   ],
   "source": [
    "df.head(5)"
   ]
  },
  {
   "cell_type": "markdown",
   "metadata": {},
   "source": [
    "El dataset contiene información sobre todas las propiedades georeferenciadas de la base\n",
    "de datos de la empresa. La información de cada propiedad que incluye es la siguiente:\n",
    "* Fecha de creación\n",
    "* Tipo de la propiedad (house, apartment, ph)\n",
    "* Operación del aviso (sell, rent)\n",
    "* Nombre del lugar\n",
    "* Nombre del lugar + nombre de sus ‘padres’\n",
    "* ID de geonames del lugar (si está disponible)\n",
    "* Latitud,Longitud\n",
    "* Precio original del aviso\n",
    "* Moneda original del aviso (ARS, USD)\n",
    "* Precio del aviso en moneda local (ARS)\n",
    "* Precio aproximado en USD\n",
    "* Superficie en m2\n",
    "* Superficie cubierta en m2\n",
    "* Precio en USD/m2\n",
    "* Precio por m2\n",
    "* N° de piso, si corresponde\n",
    "* Ambientes\n",
    "* URL en Properati\n",
    "* Descripción\n",
    "* Título\n",
    "* URL de un thumbnail de la primer foto"
   ]
  },
  {
   "cell_type": "code",
   "execution_count": 149,
   "metadata": {},
   "outputs": [
    {
     "name": "stdout",
     "output_type": "stream",
     "text": [
      "<class 'pandas.core.frame.DataFrame'>\n",
      "Int64Index: 121220 entries, 0 to 121219\n",
      "Data columns (total 25 columns):\n",
      " #   Column                      Non-Null Count   Dtype  \n",
      "---  ------                      --------------   -----  \n",
      " 0   operation                   121220 non-null  object \n",
      " 1   property_type               121220 non-null  object \n",
      " 2   place_name                  121197 non-null  object \n",
      " 3   place_with_parent_names     121220 non-null  object \n",
      " 4   country_name                121220 non-null  object \n",
      " 5   state_name                  121220 non-null  object \n",
      " 6   geonames_id                 102503 non-null  float64\n",
      " 7   lat-lon                     69670 non-null   object \n",
      " 8   lat                         69670 non-null   float64\n",
      " 9   lon                         69670 non-null   float64\n",
      " 10  price                       100810 non-null  float64\n",
      " 11  currency                    100809 non-null  object \n",
      " 12  price_aprox_local_currency  100810 non-null  float64\n",
      " 13  price_aprox_usd             100810 non-null  float64\n",
      " 14  surface_total_in_m2         81892 non-null   float64\n",
      " 15  surface_covered_in_m2       101313 non-null  float64\n",
      " 16  price_usd_per_m2            68617 non-null   float64\n",
      " 17  price_per_m2                87658 non-null   float64\n",
      " 18  floor                       7899 non-null    float64\n",
      " 19  rooms                       47390 non-null   float64\n",
      " 20  expenses                    14262 non-null   float64\n",
      " 21  properati_url               121220 non-null  object \n",
      " 22  description                 121218 non-null  object \n",
      " 23  title                       121220 non-null  object \n",
      " 24  image_thumbnail             118108 non-null  object \n",
      "dtypes: float64(13), object(12)\n",
      "memory usage: 24.0+ MB\n"
     ]
    }
   ],
   "source": [
    "df.info()"
   ]
  },
  {
   "cell_type": "code",
   "execution_count": 150,
   "metadata": {},
   "outputs": [
    {
     "data": {
      "text/html": [
       "<div>\n",
       "<style scoped>\n",
       "    .dataframe tbody tr th:only-of-type {\n",
       "        vertical-align: middle;\n",
       "    }\n",
       "\n",
       "    .dataframe tbody tr th {\n",
       "        vertical-align: top;\n",
       "    }\n",
       "\n",
       "    .dataframe thead th {\n",
       "        text-align: right;\n",
       "    }\n",
       "</style>\n",
       "<table border=\"1\" class=\"dataframe\">\n",
       "  <thead>\n",
       "    <tr style=\"text-align: right;\">\n",
       "      <th></th>\n",
       "      <th>geonames_id</th>\n",
       "      <th>lat</th>\n",
       "      <th>lon</th>\n",
       "      <th>price</th>\n",
       "      <th>price_aprox_local_currency</th>\n",
       "      <th>price_aprox_usd</th>\n",
       "      <th>surface_total_in_m2</th>\n",
       "      <th>surface_covered_in_m2</th>\n",
       "      <th>price_usd_per_m2</th>\n",
       "      <th>price_per_m2</th>\n",
       "      <th>floor</th>\n",
       "      <th>rooms</th>\n",
       "      <th>expenses</th>\n",
       "    </tr>\n",
       "  </thead>\n",
       "  <tbody>\n",
       "    <tr>\n",
       "      <th>count</th>\n",
       "      <td>1.025030e+05</td>\n",
       "      <td>69670.000000</td>\n",
       "      <td>69670.000000</td>\n",
       "      <td>1.008100e+05</td>\n",
       "      <td>1.008100e+05</td>\n",
       "      <td>1.008100e+05</td>\n",
       "      <td>81892.000000</td>\n",
       "      <td>101313.000000</td>\n",
       "      <td>68617.000000</td>\n",
       "      <td>8.765800e+04</td>\n",
       "      <td>7899.000000</td>\n",
       "      <td>47390.000000</td>\n",
       "      <td>1.426200e+04</td>\n",
       "    </tr>\n",
       "    <tr>\n",
       "      <th>mean</th>\n",
       "      <td>3.574442e+06</td>\n",
       "      <td>-34.626210</td>\n",
       "      <td>-59.266290</td>\n",
       "      <td>4.685259e+05</td>\n",
       "      <td>4.229397e+06</td>\n",
       "      <td>2.397006e+05</td>\n",
       "      <td>233.795328</td>\n",
       "      <td>133.050181</td>\n",
       "      <td>2160.086916</td>\n",
       "      <td>6.912216e+03</td>\n",
       "      <td>17.452336</td>\n",
       "      <td>3.080840</td>\n",
       "      <td>5.009234e+03</td>\n",
       "    </tr>\n",
       "    <tr>\n",
       "      <th>std</th>\n",
       "      <td>3.541306e+05</td>\n",
       "      <td>1.980936</td>\n",
       "      <td>2.299922</td>\n",
       "      <td>2.260101e+06</td>\n",
       "      <td>6.904714e+06</td>\n",
       "      <td>3.913239e+05</td>\n",
       "      <td>1782.222147</td>\n",
       "      <td>724.351479</td>\n",
       "      <td>2759.288621</td>\n",
       "      <td>2.837864e+04</td>\n",
       "      <td>120.243621</td>\n",
       "      <td>1.860773</td>\n",
       "      <td>1.204403e+05</td>\n",
       "    </tr>\n",
       "    <tr>\n",
       "      <th>min</th>\n",
       "      <td>3.427208e+06</td>\n",
       "      <td>-54.823985</td>\n",
       "      <td>-75.678931</td>\n",
       "      <td>0.000000e+00</td>\n",
       "      <td>0.000000e+00</td>\n",
       "      <td>0.000000e+00</td>\n",
       "      <td>0.000000</td>\n",
       "      <td>0.000000</td>\n",
       "      <td>0.600000</td>\n",
       "      <td>1.510204e+00</td>\n",
       "      <td>1.000000</td>\n",
       "      <td>1.000000</td>\n",
       "      <td>1.000000e+00</td>\n",
       "    </tr>\n",
       "    <tr>\n",
       "      <th>25%</th>\n",
       "      <td>3.430234e+06</td>\n",
       "      <td>-34.669065</td>\n",
       "      <td>-58.727040</td>\n",
       "      <td>1.100000e+05</td>\n",
       "      <td>1.583309e+06</td>\n",
       "      <td>8.973388e+04</td>\n",
       "      <td>50.000000</td>\n",
       "      <td>45.000000</td>\n",
       "      <td>1218.181818</td>\n",
       "      <td>1.550000e+03</td>\n",
       "      <td>1.000000</td>\n",
       "      <td>2.000000</td>\n",
       "      <td>1.000000e+03</td>\n",
       "    </tr>\n",
       "    <tr>\n",
       "      <th>50%</th>\n",
       "      <td>3.433910e+06</td>\n",
       "      <td>-34.597985</td>\n",
       "      <td>-58.480128</td>\n",
       "      <td>1.850000e+05</td>\n",
       "      <td>2.558452e+06</td>\n",
       "      <td>1.450000e+05</td>\n",
       "      <td>84.000000</td>\n",
       "      <td>75.000000</td>\n",
       "      <td>1800.000000</td>\n",
       "      <td>2.213115e+03</td>\n",
       "      <td>3.000000</td>\n",
       "      <td>3.000000</td>\n",
       "      <td>2.000000e+03</td>\n",
       "    </tr>\n",
       "    <tr>\n",
       "      <th>75%</th>\n",
       "      <td>3.836668e+06</td>\n",
       "      <td>-34.441299</td>\n",
       "      <td>-58.395908</td>\n",
       "      <td>4.200000e+05</td>\n",
       "      <td>4.675792e+06</td>\n",
       "      <td>2.650000e+05</td>\n",
       "      <td>200.000000</td>\n",
       "      <td>150.000000</td>\n",
       "      <td>2486.411765</td>\n",
       "      <td>3.355549e+03</td>\n",
       "      <td>6.000000</td>\n",
       "      <td>4.000000</td>\n",
       "      <td>4.000000e+03</td>\n",
       "    </tr>\n",
       "    <tr>\n",
       "      <th>max</th>\n",
       "      <td>6.948895e+06</td>\n",
       "      <td>4.545843</td>\n",
       "      <td>-53.733330</td>\n",
       "      <td>6.500000e+08</td>\n",
       "      <td>8.212711e+08</td>\n",
       "      <td>4.654544e+07</td>\n",
       "      <td>200000.000000</td>\n",
       "      <td>187000.000000</td>\n",
       "      <td>206333.333333</td>\n",
       "      <td>4.000000e+06</td>\n",
       "      <td>3150.000000</td>\n",
       "      <td>32.000000</td>\n",
       "      <td>1.000150e+07</td>\n",
       "    </tr>\n",
       "  </tbody>\n",
       "</table>\n",
       "</div>"
      ],
      "text/plain": [
       "        geonames_id           lat           lon         price  \\\n",
       "count  1.025030e+05  69670.000000  69670.000000  1.008100e+05   \n",
       "mean   3.574442e+06    -34.626210    -59.266290  4.685259e+05   \n",
       "std    3.541306e+05      1.980936      2.299922  2.260101e+06   \n",
       "min    3.427208e+06    -54.823985    -75.678931  0.000000e+00   \n",
       "25%    3.430234e+06    -34.669065    -58.727040  1.100000e+05   \n",
       "50%    3.433910e+06    -34.597985    -58.480128  1.850000e+05   \n",
       "75%    3.836668e+06    -34.441299    -58.395908  4.200000e+05   \n",
       "max    6.948895e+06      4.545843    -53.733330  6.500000e+08   \n",
       "\n",
       "       price_aprox_local_currency  price_aprox_usd  surface_total_in_m2  \\\n",
       "count                1.008100e+05     1.008100e+05         81892.000000   \n",
       "mean                 4.229397e+06     2.397006e+05           233.795328   \n",
       "std                  6.904714e+06     3.913239e+05          1782.222147   \n",
       "min                  0.000000e+00     0.000000e+00             0.000000   \n",
       "25%                  1.583309e+06     8.973388e+04            50.000000   \n",
       "50%                  2.558452e+06     1.450000e+05            84.000000   \n",
       "75%                  4.675792e+06     2.650000e+05           200.000000   \n",
       "max                  8.212711e+08     4.654544e+07        200000.000000   \n",
       "\n",
       "       surface_covered_in_m2  price_usd_per_m2  price_per_m2        floor  \\\n",
       "count          101313.000000      68617.000000  8.765800e+04  7899.000000   \n",
       "mean              133.050181       2160.086916  6.912216e+03    17.452336   \n",
       "std               724.351479       2759.288621  2.837864e+04   120.243621   \n",
       "min                 0.000000          0.600000  1.510204e+00     1.000000   \n",
       "25%                45.000000       1218.181818  1.550000e+03     1.000000   \n",
       "50%                75.000000       1800.000000  2.213115e+03     3.000000   \n",
       "75%               150.000000       2486.411765  3.355549e+03     6.000000   \n",
       "max            187000.000000     206333.333333  4.000000e+06  3150.000000   \n",
       "\n",
       "              rooms      expenses  \n",
       "count  47390.000000  1.426200e+04  \n",
       "mean       3.080840  5.009234e+03  \n",
       "std        1.860773  1.204403e+05  \n",
       "min        1.000000  1.000000e+00  \n",
       "25%        2.000000  1.000000e+03  \n",
       "50%        3.000000  2.000000e+03  \n",
       "75%        4.000000  4.000000e+03  \n",
       "max       32.000000  1.000150e+07  "
      ]
     },
     "execution_count": 150,
     "metadata": {},
     "output_type": "execute_result"
    }
   ],
   "source": [
    "df.describe()"
   ]
  },
  {
   "cell_type": "code",
   "execution_count": 151,
   "metadata": {},
   "outputs": [
    {
     "data": {
      "text/plain": [
       "Córdoba          9254\n",
       "Rosario          8504\n",
       "Mar del Plata    6534\n",
       "Tigre            3324\n",
       "Nordelta         3315\n",
       "Belgrano         2992\n",
       "Palermo          2885\n",
       "La Plata         2534\n",
       "Caballito        2273\n",
       "Pilar            2228\n",
       "Name: place_name, dtype: int64"
      ]
     },
     "execution_count": 151,
     "metadata": {},
     "output_type": "execute_result"
    }
   ],
   "source": [
    "df.place_name.value_counts().head(10)"
   ]
  },
  {
   "cell_type": "code",
   "execution_count": 152,
   "metadata": {
    "scrolled": true
   },
   "outputs": [
    {
     "data": {
      "text/plain": [
       "Capital Federal                 32316\n",
       "Bs.As. G.B.A. Zona Norte        25560\n",
       "Bs.As. G.B.A. Zona Sur          13952\n",
       "Córdoba                         12069\n",
       "Santa Fe                        10172\n",
       "Buenos Aires Costa Atlántica    10006\n",
       "Bs.As. G.B.A. Zona Oeste         9322\n",
       "Buenos Aires Interior            2291\n",
       "Río Negro                         808\n",
       "Neuquén                           733\n",
       "Mendoza                           681\n",
       "Tucumán                           674\n",
       "Corrientes                        583\n",
       "Misiones                          464\n",
       "Entre Ríos                        369\n",
       "Salta                             278\n",
       "Chubut                            259\n",
       "San Luis                          252\n",
       "La Pampa                          157\n",
       "Formosa                            65\n",
       "Chaco                              57\n",
       "San Juan                           40\n",
       "Tierra Del Fuego                   31\n",
       "Catamarca                          27\n",
       "Jujuy                              26\n",
       "Santa Cruz                         20\n",
       "La Rioja                            4\n",
       "Santiago Del Estero                 4\n",
       "Name: state_name, dtype: int64"
      ]
     },
     "execution_count": 152,
     "metadata": {},
     "output_type": "execute_result"
    }
   ],
   "source": [
    "df.state_name.value_counts()"
   ]
  },
  {
   "cell_type": "code",
   "execution_count": 153,
   "metadata": {},
   "outputs": [
    {
     "name": "stdout",
     "output_type": "stream",
     "text": [
      "(121220, 25)\n",
      "Index(['operation', 'property_type', 'place_name', 'place_with_parent_names',\n",
      "       'country_name', 'state_name', 'geonames_id', 'lat-lon', 'lat', 'lon',\n",
      "       'price', 'currency', 'price_aprox_local_currency', 'price_aprox_usd',\n",
      "       'surface_total_in_m2', 'surface_covered_in_m2', 'price_usd_per_m2',\n",
      "       'price_per_m2', 'floor', 'rooms', 'expenses', 'properati_url',\n",
      "       'description', 'title', 'image_thumbnail'],\n",
      "      dtype='object')\n",
      "operation                      object\n",
      "property_type                  object\n",
      "place_name                     object\n",
      "place_with_parent_names        object\n",
      "country_name                   object\n",
      "state_name                     object\n",
      "geonames_id                   float64\n",
      "lat-lon                        object\n",
      "lat                           float64\n",
      "lon                           float64\n",
      "price                         float64\n",
      "currency                       object\n",
      "price_aprox_local_currency    float64\n",
      "price_aprox_usd               float64\n",
      "surface_total_in_m2           float64\n",
      "surface_covered_in_m2         float64\n",
      "price_usd_per_m2              float64\n",
      "price_per_m2                  float64\n",
      "floor                         float64\n",
      "rooms                         float64\n",
      "expenses                      float64\n",
      "properati_url                  object\n",
      "description                    object\n",
      "title                          object\n",
      "image_thumbnail                object\n",
      "dtype: object\n"
     ]
    }
   ],
   "source": [
    "print(df.shape)\n",
    "print(df.columns)\n",
    "print(df.dtypes)"
   ]
  },
  {
   "cell_type": "code",
   "execution_count": 165,
   "metadata": {},
   "outputs": [
    {
     "data": {
      "text/plain": [
       "floor                         0.934837\n",
       "expenses                      0.882346\n",
       "rooms                         0.609058\n",
       "price_usd_per_m2              0.433947\n",
       "lon                           0.425260\n",
       "lat                           0.425260\n",
       "surface_total_in_m2           0.324435\n",
       "price_per_m2                  0.276869\n",
       "currency                      0.168380\n",
       "price_aprox_usd               0.168372\n",
       "price_aprox_local_currency    0.168372\n",
       "price                         0.168372\n",
       "surface_covered_in_m2         0.164222\n",
       "place_name                    0.000190\n",
       "description                   0.000016\n",
       "title                         0.000000\n",
       "state_name                    0.000000\n",
       "property_type                 0.000000\n",
       "dtype: float64"
      ]
     },
     "execution_count": 165,
     "metadata": {},
     "output_type": "execute_result"
    }
   ],
   "source": [
    "por_nulos = df.isnull().sum() / data.shape[0]\n",
    "por_nulos_sorted = por_nulos.sort_values(ascending=False)\n",
    "por_nulos_sorted"
   ]
  },
  {
   "cell_type": "markdown",
   "metadata": {},
   "source": [
    "\n",
    "\n",
    "<a id=\"section_col1\"></a> \n",
    "## Columnas 1\n",
    "\n",
    "[volver a TOC](#section_toc)"
   ]
  },
  {
   "cell_type": "markdown",
   "metadata": {},
   "source": [
    "Conclusion de primer filtro de columnas no utiles:\n",
    "\n",
    "* 'operation. todo el dataset tiene valor 'sell'\n",
    "* 'place_with_parent_names' esta pais|estad|barrio todo junto. Ya tenemos esta informacion en place_name en barrio\n",
    "* 'country_name' esta Argentina solo\n",
    "* 'image_thumbnail' no util para predecir\n",
    "* 'lat-lon' repetido, ya esta lat y long.\n",
    "\n",
    "* geomnae_id no util\n",
    "* properati_url no util\n"
   ]
  },
  {
   "cell_type": "code",
   "execution_count": 155,
   "metadata": {},
   "outputs": [],
   "source": [
    "#Primer filtro\n",
    "desired_col= ['property_type', 'place_name', 'state_name', 'lat', 'lon', 'price', 'currency',\n",
    "       'price_aprox_local_currency', 'price_aprox_usd', 'surface_total_in_m2',\n",
    "       'surface_covered_in_m2', 'price_usd_per_m2', 'price_per_m2', 'floor',\n",
    "       'rooms', 'expenses', 'description', 'title']\n",
    "#, 'geonames_id' and , 'properati_url'\n",
    "#df_caba= caba[desired_col]\n",
    "df= df[desired_col]"
   ]
  },
  {
   "cell_type": "code",
   "execution_count": 156,
   "metadata": {},
   "outputs": [
    {
     "data": {
      "text/plain": [
       "1.0      2080\n",
       "2.0      1542\n",
       "3.0       914\n",
       "4.0       658\n",
       "5.0       484\n",
       "         ... \n",
       "124.0       1\n",
       "691.0       1\n",
       "205.0       1\n",
       "302.0       1\n",
       "30.0        1\n",
       "Name: floor, Length: 182, dtype: int64"
      ]
     },
     "execution_count": 156,
     "metadata": {},
     "output_type": "execute_result"
    }
   ],
   "source": [
    "#posibles variables no utiles\n",
    "df.floor.value_counts() # floor, pisos, la vamos a filtrar y sacar outliers"
   ]
  },
  {
   "cell_type": "markdown",
   "metadata": {},
   "source": [
    "\n",
    "<a id=\"section_CABA\"></a> \n",
    "## CABA\n",
    "\n",
    "[volver a TOC](#section_toc)"
   ]
  },
  {
   "cell_type": "code",
   "execution_count": 157,
   "metadata": {},
   "outputs": [
    {
     "data": {
      "text/plain": [
       "Capital Federal    32316\n",
       "Name: state_name, dtype: int64"
      ]
     },
     "execution_count": 157,
     "metadata": {},
     "output_type": "execute_result"
    }
   ],
   "source": [
    "caba = df.loc[data.state_name == 'Capital Federal', :]\n",
    "caba.head(3)\n",
    "type(caba)\n",
    "caba.state_name.value_counts()"
   ]
  },
  {
   "cell_type": "code",
   "execution_count": 158,
   "metadata": {},
   "outputs": [
    {
     "data": {
      "text/html": [
       "<div>\n",
       "<style scoped>\n",
       "    .dataframe tbody tr th:only-of-type {\n",
       "        vertical-align: middle;\n",
       "    }\n",
       "\n",
       "    .dataframe tbody tr th {\n",
       "        vertical-align: top;\n",
       "    }\n",
       "\n",
       "    .dataframe thead tr th {\n",
       "        text-align: left;\n",
       "    }\n",
       "\n",
       "    .dataframe thead tr:last-of-type th {\n",
       "        text-align: right;\n",
       "    }\n",
       "</style>\n",
       "<table border=\"1\" class=\"dataframe\">\n",
       "  <thead>\n",
       "    <tr>\n",
       "      <th></th>\n",
       "      <th></th>\n",
       "      <th colspan=\"3\" halign=\"left\">price</th>\n",
       "      <th>rooms</th>\n",
       "      <th colspan=\"3\" halign=\"left\">surface_covered_in_m2</th>\n",
       "    </tr>\n",
       "    <tr>\n",
       "      <th></th>\n",
       "      <th></th>\n",
       "      <th>mean</th>\n",
       "      <th>median</th>\n",
       "      <th>std</th>\n",
       "      <th>count</th>\n",
       "      <th>mean</th>\n",
       "      <th>median</th>\n",
       "      <th>std</th>\n",
       "    </tr>\n",
       "    <tr>\n",
       "      <th>place_name</th>\n",
       "      <th>rooms</th>\n",
       "      <th></th>\n",
       "      <th></th>\n",
       "      <th></th>\n",
       "      <th></th>\n",
       "      <th></th>\n",
       "      <th></th>\n",
       "      <th></th>\n",
       "    </tr>\n",
       "  </thead>\n",
       "  <tbody>\n",
       "    <tr>\n",
       "      <th rowspan=\"5\" valign=\"top\">Abasto</th>\n",
       "      <th>1.0</th>\n",
       "      <td>66583.33</td>\n",
       "      <td>62000.0</td>\n",
       "      <td>16597.96</td>\n",
       "      <td>12</td>\n",
       "      <td>33.27</td>\n",
       "      <td>30.0</td>\n",
       "      <td>7.82</td>\n",
       "    </tr>\n",
       "    <tr>\n",
       "      <th>2.0</th>\n",
       "      <td>93241.67</td>\n",
       "      <td>79450.0</td>\n",
       "      <td>32499.50</td>\n",
       "      <td>12</td>\n",
       "      <td>41.25</td>\n",
       "      <td>42.5</td>\n",
       "      <td>8.21</td>\n",
       "    </tr>\n",
       "    <tr>\n",
       "      <th>3.0</th>\n",
       "      <td>144352.94</td>\n",
       "      <td>139500.0</td>\n",
       "      <td>41936.99</td>\n",
       "      <td>17</td>\n",
       "      <td>71.25</td>\n",
       "      <td>67.5</td>\n",
       "      <td>19.36</td>\n",
       "    </tr>\n",
       "    <tr>\n",
       "      <th>4.0</th>\n",
       "      <td>154375.00</td>\n",
       "      <td>160000.0</td>\n",
       "      <td>13146.84</td>\n",
       "      <td>17</td>\n",
       "      <td>35.00</td>\n",
       "      <td>5.0</td>\n",
       "      <td>33.50</td>\n",
       "    </tr>\n",
       "    <tr>\n",
       "      <th>5.0</th>\n",
       "      <td>234633.33</td>\n",
       "      <td>244000.0</td>\n",
       "      <td>26235.54</td>\n",
       "      <td>3</td>\n",
       "      <td>119.67</td>\n",
       "      <td>104.0</td>\n",
       "      <td>36.14</td>\n",
       "    </tr>\n",
       "    <tr>\n",
       "      <th>...</th>\n",
       "      <th>...</th>\n",
       "      <td>...</td>\n",
       "      <td>...</td>\n",
       "      <td>...</td>\n",
       "      <td>...</td>\n",
       "      <td>...</td>\n",
       "      <td>...</td>\n",
       "      <td>...</td>\n",
       "    </tr>\n",
       "    <tr>\n",
       "      <th rowspan=\"5\" valign=\"top\">Villa del Parque</th>\n",
       "      <th>4.0</th>\n",
       "      <td>251179.07</td>\n",
       "      <td>223000.0</td>\n",
       "      <td>100646.70</td>\n",
       "      <td>44</td>\n",
       "      <td>100.56</td>\n",
       "      <td>93.0</td>\n",
       "      <td>45.34</td>\n",
       "    </tr>\n",
       "    <tr>\n",
       "      <th>5.0</th>\n",
       "      <td>492500.00</td>\n",
       "      <td>520000.0</td>\n",
       "      <td>161941.35</td>\n",
       "      <td>4</td>\n",
       "      <td>159.75</td>\n",
       "      <td>192.5</td>\n",
       "      <td>98.83</td>\n",
       "    </tr>\n",
       "    <tr>\n",
       "      <th>6.0</th>\n",
       "      <td>413333.33</td>\n",
       "      <td>370000.0</td>\n",
       "      <td>92915.73</td>\n",
       "      <td>4</td>\n",
       "      <td>163.50</td>\n",
       "      <td>112.0</td>\n",
       "      <td>185.82</td>\n",
       "    </tr>\n",
       "    <tr>\n",
       "      <th>7.0</th>\n",
       "      <td>320000.00</td>\n",
       "      <td>320000.0</td>\n",
       "      <td>0.00</td>\n",
       "      <td>3</td>\n",
       "      <td>377.33</td>\n",
       "      <td>481.0</td>\n",
       "      <td>179.56</td>\n",
       "    </tr>\n",
       "    <tr>\n",
       "      <th>8.0</th>\n",
       "      <td>435000.00</td>\n",
       "      <td>435000.0</td>\n",
       "      <td>91923.88</td>\n",
       "      <td>2</td>\n",
       "      <td>20.00</td>\n",
       "      <td>20.0</td>\n",
       "      <td>0.00</td>\n",
       "    </tr>\n",
       "  </tbody>\n",
       "</table>\n",
       "<p>468 rows × 7 columns</p>\n",
       "</div>"
      ],
      "text/plain": [
       "                            price                      rooms  \\\n",
       "                             mean    median        std count   \n",
       "place_name       rooms                                         \n",
       "Abasto           1.0     66583.33   62000.0   16597.96    12   \n",
       "                 2.0     93241.67   79450.0   32499.50    12   \n",
       "                 3.0    144352.94  139500.0   41936.99    17   \n",
       "                 4.0    154375.00  160000.0   13146.84    17   \n",
       "                 5.0    234633.33  244000.0   26235.54     3   \n",
       "...                           ...       ...        ...   ...   \n",
       "Villa del Parque 4.0    251179.07  223000.0  100646.70    44   \n",
       "                 5.0    492500.00  520000.0  161941.35     4   \n",
       "                 6.0    413333.33  370000.0   92915.73     4   \n",
       "                 7.0    320000.00  320000.0       0.00     3   \n",
       "                 8.0    435000.00  435000.0   91923.88     2   \n",
       "\n",
       "                       surface_covered_in_m2                 \n",
       "                                        mean median     std  \n",
       "place_name       rooms                                       \n",
       "Abasto           1.0                   33.27   30.0    7.82  \n",
       "                 2.0                   41.25   42.5    8.21  \n",
       "                 3.0                   71.25   67.5   19.36  \n",
       "                 4.0                   35.00    5.0   33.50  \n",
       "                 5.0                  119.67  104.0   36.14  \n",
       "...                                      ...    ...     ...  \n",
       "Villa del Parque 4.0                  100.56   93.0   45.34  \n",
       "                 5.0                  159.75  192.5   98.83  \n",
       "                 6.0                  163.50  112.0  185.82  \n",
       "                 7.0                  377.33  481.0  179.56  \n",
       "                 8.0                   20.00   20.0    0.00  \n",
       "\n",
       "[468 rows x 7 columns]"
      ]
     },
     "execution_count": 158,
     "metadata": {},
     "output_type": "execute_result"
    }
   ],
   "source": [
    "caba.pivot_table(index=['place_name', 'rooms'], \n",
    "                                aggfunc={'rooms': 'count', \n",
    "                                         'price': ['mean', 'median', 'std'],\n",
    "                                         'surface_covered_in_m2': ['mean', 'median', 'std']\n",
    "                                         }\n",
    "                                ).round(2)"
   ]
  },
  {
   "cell_type": "markdown",
   "metadata": {},
   "source": [
    "\n",
    "<a id=\"section_BPC\"></a> \n",
    "## Belgrano, Palermo y Caballito\n",
    "\n",
    "[volver a TOC](#section_toc)\n"
   ]
  },
  {
   "cell_type": "markdown",
   "metadata": {},
   "source": [
    "Tomamos como muestra los barrios de Belgrano, Palermo y Caballito. \n",
    "Dentro de CABA, son los barrios con mayor datos disponibles.\n",
    "Asimismo, no poseeen niveles socioeconomicos extremadamente disimiles. "
   ]
  },
  {
   "cell_type": "code",
   "execution_count": 204,
   "metadata": {},
   "outputs": [
    {
     "data": {
      "text/html": [
       "<div>\n",
       "<style scoped>\n",
       "    .dataframe tbody tr th:only-of-type {\n",
       "        vertical-align: middle;\n",
       "    }\n",
       "\n",
       "    .dataframe tbody tr th {\n",
       "        vertical-align: top;\n",
       "    }\n",
       "\n",
       "    .dataframe thead th {\n",
       "        text-align: right;\n",
       "    }\n",
       "</style>\n",
       "<table border=\"1\" class=\"dataframe\">\n",
       "  <thead>\n",
       "    <tr style=\"text-align: right;\">\n",
       "      <th></th>\n",
       "      <th>property_type</th>\n",
       "      <th>place_name</th>\n",
       "      <th>state_name</th>\n",
       "      <th>lat</th>\n",
       "      <th>lon</th>\n",
       "      <th>price</th>\n",
       "      <th>currency</th>\n",
       "      <th>price_aprox_local_currency</th>\n",
       "      <th>price_aprox_usd</th>\n",
       "      <th>surface_total_in_m2</th>\n",
       "      <th>surface_covered_in_m2</th>\n",
       "      <th>price_usd_per_m2</th>\n",
       "      <th>price_per_m2</th>\n",
       "      <th>floor</th>\n",
       "      <th>rooms</th>\n",
       "      <th>expenses</th>\n",
       "      <th>description</th>\n",
       "      <th>title</th>\n",
       "    </tr>\n",
       "  </thead>\n",
       "  <tbody>\n",
       "    <tr>\n",
       "      <th>7</th>\n",
       "      <td>apartment</td>\n",
       "      <td>Belgrano</td>\n",
       "      <td>Capital Federal</td>\n",
       "      <td>-34.559873</td>\n",
       "      <td>-58.443362</td>\n",
       "      <td>138000.0</td>\n",
       "      <td>USD</td>\n",
       "      <td>2434941.00</td>\n",
       "      <td>138000.0</td>\n",
       "      <td>45.0</td>\n",
       "      <td>40.0</td>\n",
       "      <td>3066.666667</td>\n",
       "      <td>3450.000000</td>\n",
       "      <td>NaN</td>\n",
       "      <td>NaN</td>\n",
       "      <td>NaN</td>\n",
       "      <td>EXCELENTE MONOAMBIENTE A ESTRENAR AMPLIO SUPER...</td>\n",
       "      <td>JOSE HERNANDEZ 1400 MONOAMBIENTE  ESTRENAR CAT...</td>\n",
       "    </tr>\n",
       "    <tr>\n",
       "      <th>8</th>\n",
       "      <td>apartment</td>\n",
       "      <td>Belgrano</td>\n",
       "      <td>Capital Federal</td>\n",
       "      <td>-34.559873</td>\n",
       "      <td>-58.443362</td>\n",
       "      <td>195000.0</td>\n",
       "      <td>USD</td>\n",
       "      <td>3440677.50</td>\n",
       "      <td>195000.0</td>\n",
       "      <td>65.0</td>\n",
       "      <td>60.0</td>\n",
       "      <td>3000.000000</td>\n",
       "      <td>3250.000000</td>\n",
       "      <td>NaN</td>\n",
       "      <td>NaN</td>\n",
       "      <td>NaN</td>\n",
       "      <td>EXCELENTE DOS AMBIENTES  ESTRENAR AMPLIO SUPER...</td>\n",
       "      <td>JOSE HERNANDEZ   1400 DOS AMBIENTES ESTRENAR ,...</td>\n",
       "    </tr>\n",
       "    <tr>\n",
       "      <th>19</th>\n",
       "      <td>apartment</td>\n",
       "      <td>Palermo</td>\n",
       "      <td>Capital Federal</td>\n",
       "      <td>-34.580504</td>\n",
       "      <td>-58.405874</td>\n",
       "      <td>350000.0</td>\n",
       "      <td>USD</td>\n",
       "      <td>6175575.00</td>\n",
       "      <td>350000.0</td>\n",
       "      <td>104.0</td>\n",
       "      <td>96.0</td>\n",
       "      <td>3365.384615</td>\n",
       "      <td>3645.833333</td>\n",
       "      <td>NaN</td>\n",
       "      <td>3.0</td>\n",
       "      <td>NaN</td>\n",
       "      <td>Excelente semipiso al contra frente en Bulnes ...</td>\n",
       "      <td>Bulnes y Libertador: espectacular pulmón, con ...</td>\n",
       "    </tr>\n",
       "    <tr>\n",
       "      <th>21</th>\n",
       "      <td>apartment</td>\n",
       "      <td>Palermo</td>\n",
       "      <td>Capital Federal</td>\n",
       "      <td>-34.590926</td>\n",
       "      <td>-58.411665</td>\n",
       "      <td>270500.0</td>\n",
       "      <td>USD</td>\n",
       "      <td>4772837.25</td>\n",
       "      <td>270500.0</td>\n",
       "      <td>118.0</td>\n",
       "      <td>73.0</td>\n",
       "      <td>2292.372881</td>\n",
       "      <td>3705.479452</td>\n",
       "      <td>NaN</td>\n",
       "      <td>4.0</td>\n",
       "      <td>NaN</td>\n",
       "      <td>EXCELENTE ZONA, MULTIPLES MEDIOS DE TRANSPORTE...</td>\n",
       "      <td>Departamento de 4 ambientes en Venta en Palermo</td>\n",
       "    </tr>\n",
       "    <tr>\n",
       "      <th>52</th>\n",
       "      <td>apartment</td>\n",
       "      <td>Caballito</td>\n",
       "      <td>Capital Federal</td>\n",
       "      <td>-34.622211</td>\n",
       "      <td>-58.439128</td>\n",
       "      <td>110000.0</td>\n",
       "      <td>USD</td>\n",
       "      <td>1940895.00</td>\n",
       "      <td>110000.0</td>\n",
       "      <td>50.0</td>\n",
       "      <td>50.0</td>\n",
       "      <td>2200.000000</td>\n",
       "      <td>2200.000000</td>\n",
       "      <td>NaN</td>\n",
       "      <td>3.0</td>\n",
       "      <td>NaN</td>\n",
       "      <td>Departamento de 3 Ambientes al Contrafrente. S...</td>\n",
       "      <td>CABALLITO 3 AMB. EN VENTA Listo para escriturar</td>\n",
       "    </tr>\n",
       "  </tbody>\n",
       "</table>\n",
       "</div>"
      ],
      "text/plain": [
       "   property_type place_name       state_name        lat        lon     price  \\\n",
       "7      apartment   Belgrano  Capital Federal -34.559873 -58.443362  138000.0   \n",
       "8      apartment   Belgrano  Capital Federal -34.559873 -58.443362  195000.0   \n",
       "19     apartment    Palermo  Capital Federal -34.580504 -58.405874  350000.0   \n",
       "21     apartment    Palermo  Capital Federal -34.590926 -58.411665  270500.0   \n",
       "52     apartment  Caballito  Capital Federal -34.622211 -58.439128  110000.0   \n",
       "\n",
       "   currency  price_aprox_local_currency  price_aprox_usd  surface_total_in_m2  \\\n",
       "7       USD                  2434941.00         138000.0                 45.0   \n",
       "8       USD                  3440677.50         195000.0                 65.0   \n",
       "19      USD                  6175575.00         350000.0                104.0   \n",
       "21      USD                  4772837.25         270500.0                118.0   \n",
       "52      USD                  1940895.00         110000.0                 50.0   \n",
       "\n",
       "    surface_covered_in_m2  price_usd_per_m2  price_per_m2  floor  rooms  \\\n",
       "7                    40.0       3066.666667   3450.000000    NaN    NaN   \n",
       "8                    60.0       3000.000000   3250.000000    NaN    NaN   \n",
       "19                   96.0       3365.384615   3645.833333    NaN    3.0   \n",
       "21                   73.0       2292.372881   3705.479452    NaN    4.0   \n",
       "52                   50.0       2200.000000   2200.000000    NaN    3.0   \n",
       "\n",
       "    expenses                                        description  \\\n",
       "7        NaN  EXCELENTE MONOAMBIENTE A ESTRENAR AMPLIO SUPER...   \n",
       "8        NaN  EXCELENTE DOS AMBIENTES  ESTRENAR AMPLIO SUPER...   \n",
       "19       NaN  Excelente semipiso al contra frente en Bulnes ...   \n",
       "21       NaN  EXCELENTE ZONA, MULTIPLES MEDIOS DE TRANSPORTE...   \n",
       "52       NaN  Departamento de 3 Ambientes al Contrafrente. S...   \n",
       "\n",
       "                                                title  \n",
       "7   JOSE HERNANDEZ 1400 MONOAMBIENTE  ESTRENAR CAT...  \n",
       "8   JOSE HERNANDEZ   1400 DOS AMBIENTES ESTRENAR ,...  \n",
       "19  Bulnes y Libertador: espectacular pulmón, con ...  \n",
       "21    Departamento de 4 ambientes en Venta en Palermo  \n",
       "52    CABALLITO 3 AMB. EN VENTA Listo para escriturar  "
      ]
     },
     "execution_count": 204,
     "metadata": {},
     "output_type": "execute_result"
    }
   ],
   "source": [
    "# 3 barrios\n",
    "df_barrios = caba[(caba['place_name'] == 'Belgrano') | (caba['place_name'] == 'Palermo') | (caba['place_name'] == 'Caballito')]\n",
    "df_barrios.head(5)"
   ]
  },
  {
   "cell_type": "code",
   "execution_count": 205,
   "metadata": {},
   "outputs": [
    {
     "data": {
      "text/plain": [
       "Belgrano     2992\n",
       "Palermo      2885\n",
       "Caballito    2273\n",
       "Name: place_name, dtype: int64"
      ]
     },
     "execution_count": 205,
     "metadata": {},
     "output_type": "execute_result"
    }
   ],
   "source": [
    "df_barrios.place_name.value_counts()"
   ]
  },
  {
   "cell_type": "code",
   "execution_count": 206,
   "metadata": {},
   "outputs": [
    {
     "name": "stdout",
     "output_type": "stream",
     "text": [
      "<class 'pandas.core.frame.DataFrame'>\n",
      "Int64Index: 8150 entries, 7 to 121215\n",
      "Data columns (total 18 columns):\n",
      " #   Column                      Non-Null Count  Dtype  \n",
      "---  ------                      --------------  -----  \n",
      " 0   property_type               8150 non-null   object \n",
      " 1   place_name                  8150 non-null   object \n",
      " 2   state_name                  8150 non-null   object \n",
      " 3   lat                         5886 non-null   float64\n",
      " 4   lon                         5886 non-null   float64\n",
      " 5   price                       7108 non-null   float64\n",
      " 6   currency                    7108 non-null   object \n",
      " 7   price_aprox_local_currency  7108 non-null   float64\n",
      " 8   price_aprox_usd             7108 non-null   float64\n",
      " 9   surface_total_in_m2         6774 non-null   float64\n",
      " 10  surface_covered_in_m2       7720 non-null   float64\n",
      " 11  price_usd_per_m2            5788 non-null   float64\n",
      " 12  price_per_m2                6763 non-null   float64\n",
      " 13  floor                       842 non-null    float64\n",
      " 14  rooms                       3522 non-null   float64\n",
      " 15  expenses                    2081 non-null   float64\n",
      " 16  description                 8150 non-null   object \n",
      " 17  title                       8150 non-null   object \n",
      "dtypes: float64(12), object(6)\n",
      "memory usage: 1.2+ MB\n"
     ]
    }
   ],
   "source": [
    "df_barrios.info()"
   ]
  },
  {
   "cell_type": "code",
   "execution_count": 207,
   "metadata": {},
   "outputs": [
    {
     "data": {
      "text/plain": [
       "floor                         89.668712\n",
       "expenses                      74.466258\n",
       "rooms                         56.785276\n",
       "price_usd_per_m2              28.981595\n",
       "lon                           27.779141\n",
       "lat                           27.779141\n",
       "price_per_m2                  17.018405\n",
       "surface_total_in_m2           16.883436\n",
       "price_aprox_usd               12.785276\n",
       "price_aprox_local_currency    12.785276\n",
       "currency                      12.785276\n",
       "price                         12.785276\n",
       "surface_covered_in_m2          5.276074\n",
       "state_name                     0.000000\n",
       "place_name                     0.000000\n",
       "title                          0.000000\n",
       "description                    0.000000\n",
       "property_type                  0.000000\n",
       "dtype: float64"
      ]
     },
     "execution_count": 207,
     "metadata": {},
     "output_type": "execute_result"
    }
   ],
   "source": [
    "#vemos los nulos en % y descendiente\n",
    "por_nul_b = df_barrios.isnull().sum()/df_barrios.shape[0]*100\n",
    "por_nul_sorted_b = por_nul_b.sort_values(ascending=False)\n",
    "por_nul_sorted_b"
   ]
  },
  {
   "cell_type": "code",
   "execution_count": 208,
   "metadata": {},
   "outputs": [
    {
     "data": {
      "text/html": [
       "<div>\n",
       "<style scoped>\n",
       "    .dataframe tbody tr th:only-of-type {\n",
       "        vertical-align: middle;\n",
       "    }\n",
       "\n",
       "    .dataframe tbody tr th {\n",
       "        vertical-align: top;\n",
       "    }\n",
       "\n",
       "    .dataframe thead th {\n",
       "        text-align: right;\n",
       "    }\n",
       "</style>\n",
       "<table border=\"1\" class=\"dataframe\">\n",
       "  <thead>\n",
       "    <tr style=\"text-align: right;\">\n",
       "      <th></th>\n",
       "      <th>column_name</th>\n",
       "      <th>missing_count</th>\n",
       "      <th>missing_ratio</th>\n",
       "    </tr>\n",
       "  </thead>\n",
       "  <tbody>\n",
       "    <tr>\n",
       "      <th>0</th>\n",
       "      <td>property_type</td>\n",
       "      <td>0</td>\n",
       "      <td>0.000000</td>\n",
       "    </tr>\n",
       "    <tr>\n",
       "      <th>1</th>\n",
       "      <td>place_name</td>\n",
       "      <td>0</td>\n",
       "      <td>0.000000</td>\n",
       "    </tr>\n",
       "    <tr>\n",
       "      <th>2</th>\n",
       "      <td>state_name</td>\n",
       "      <td>0</td>\n",
       "      <td>0.000000</td>\n",
       "    </tr>\n",
       "    <tr>\n",
       "      <th>3</th>\n",
       "      <td>lat</td>\n",
       "      <td>2264</td>\n",
       "      <td>0.277791</td>\n",
       "    </tr>\n",
       "    <tr>\n",
       "      <th>4</th>\n",
       "      <td>lon</td>\n",
       "      <td>2264</td>\n",
       "      <td>0.277791</td>\n",
       "    </tr>\n",
       "    <tr>\n",
       "      <th>5</th>\n",
       "      <td>price</td>\n",
       "      <td>1042</td>\n",
       "      <td>0.127853</td>\n",
       "    </tr>\n",
       "    <tr>\n",
       "      <th>6</th>\n",
       "      <td>currency</td>\n",
       "      <td>1042</td>\n",
       "      <td>0.127853</td>\n",
       "    </tr>\n",
       "    <tr>\n",
       "      <th>7</th>\n",
       "      <td>price_aprox_local_currency</td>\n",
       "      <td>1042</td>\n",
       "      <td>0.127853</td>\n",
       "    </tr>\n",
       "    <tr>\n",
       "      <th>8</th>\n",
       "      <td>price_aprox_usd</td>\n",
       "      <td>1042</td>\n",
       "      <td>0.127853</td>\n",
       "    </tr>\n",
       "    <tr>\n",
       "      <th>9</th>\n",
       "      <td>surface_total_in_m2</td>\n",
       "      <td>1376</td>\n",
       "      <td>0.168834</td>\n",
       "    </tr>\n",
       "    <tr>\n",
       "      <th>10</th>\n",
       "      <td>surface_covered_in_m2</td>\n",
       "      <td>430</td>\n",
       "      <td>0.052761</td>\n",
       "    </tr>\n",
       "    <tr>\n",
       "      <th>11</th>\n",
       "      <td>price_usd_per_m2</td>\n",
       "      <td>2362</td>\n",
       "      <td>0.289816</td>\n",
       "    </tr>\n",
       "    <tr>\n",
       "      <th>12</th>\n",
       "      <td>price_per_m2</td>\n",
       "      <td>1387</td>\n",
       "      <td>0.170184</td>\n",
       "    </tr>\n",
       "    <tr>\n",
       "      <th>13</th>\n",
       "      <td>floor</td>\n",
       "      <td>7308</td>\n",
       "      <td>0.896687</td>\n",
       "    </tr>\n",
       "    <tr>\n",
       "      <th>14</th>\n",
       "      <td>rooms</td>\n",
       "      <td>4628</td>\n",
       "      <td>0.567853</td>\n",
       "    </tr>\n",
       "    <tr>\n",
       "      <th>15</th>\n",
       "      <td>expenses</td>\n",
       "      <td>6069</td>\n",
       "      <td>0.744663</td>\n",
       "    </tr>\n",
       "    <tr>\n",
       "      <th>16</th>\n",
       "      <td>description</td>\n",
       "      <td>0</td>\n",
       "      <td>0.000000</td>\n",
       "    </tr>\n",
       "    <tr>\n",
       "      <th>17</th>\n",
       "      <td>title</td>\n",
       "      <td>0</td>\n",
       "      <td>0.000000</td>\n",
       "    </tr>\n",
       "  </tbody>\n",
       "</table>\n",
       "</div>"
      ],
      "text/plain": [
       "                   column_name  missing_count  missing_ratio\n",
       "0                property_type              0       0.000000\n",
       "1                   place_name              0       0.000000\n",
       "2                   state_name              0       0.000000\n",
       "3                          lat           2264       0.277791\n",
       "4                          lon           2264       0.277791\n",
       "5                        price           1042       0.127853\n",
       "6                     currency           1042       0.127853\n",
       "7   price_aprox_local_currency           1042       0.127853\n",
       "8              price_aprox_usd           1042       0.127853\n",
       "9          surface_total_in_m2           1376       0.168834\n",
       "10       surface_covered_in_m2            430       0.052761\n",
       "11            price_usd_per_m2           2362       0.289816\n",
       "12                price_per_m2           1387       0.170184\n",
       "13                       floor           7308       0.896687\n",
       "14                       rooms           4628       0.567853\n",
       "15                    expenses           6069       0.744663\n",
       "16                 description              0       0.000000\n",
       "17                       title              0       0.000000"
      ]
     },
     "execution_count": 208,
     "metadata": {},
     "output_type": "execute_result"
    }
   ],
   "source": [
    "missing_df = df_barrios.isnull().sum(axis=0).reset_index()\n",
    "missing_df.columns = ['column_name', 'missing_count']\n",
    "missing_df['missing_ratio'] = missing_df['missing_count'] / df_barrios.shape[0]\n",
    "missing_df#.ix[missing_df['missing_ratio']>0.999]"
   ]
  },
  {
   "cell_type": "markdown",
   "metadata": {},
   "source": [
    "Agrupacion columnas por tipo\n",
    "\n",
    "<a id=\"section_col2\"></a> \n",
    "## Agrupacion columnas 2\n",
    "\n",
    "[volver a TOC](#section_toc)"
   ]
  },
  {
   "cell_type": "code",
   "execution_count": 209,
   "metadata": {},
   "outputs": [],
   "source": [
    "\n",
    "#Segundo filtro columnas_agrupacion\n",
    "\n",
    "#Columnas de precio, posible dependientes\n",
    "price = [\"price\", \"currency\", \"price_aprox_local_currency\", \"price_aprox_usd\", \"price_usd_per_m2\", \"price_per_m2\"]\n",
    "price.remove(\"currency\")\n",
    "#price= df_barrios[price_col]\n",
    "\n",
    "#quant\n",
    "quantitative = [f for f in df_barrios.columns if df_barrios.dtypes[f] != 'object']\n",
    "#quantitative.remove('geonames_id')\n",
    "quantitative.remove(\"price\")\n",
    "quantitative.remove(\"price_aprox_local_currency\")\n",
    "quantitative.remove(\"price_aprox_usd\")\n",
    "quantitative.remove(\"price_usd_per_m2\")\n",
    "quantitative.remove(\"price_per_m2\")\n",
    "\n",
    "#qual\n",
    "qualitative = [f for f in df_barrios.columns if df_barrios.dtypes[f] == 'object']\n",
    "qualitative.remove(\"currency\")\n",
    "#qualitative.remove(\"properati_url\")"
   ]
  },
  {
   "cell_type": "code",
   "execution_count": 210,
   "metadata": {},
   "outputs": [
    {
     "name": "stdout",
     "output_type": "stream",
     "text": [
      "['lat', 'lon', 'surface_total_in_m2', 'surface_covered_in_m2', 'floor', 'rooms', 'expenses']\n",
      "['property_type', 'place_name', 'state_name', 'description', 'title']\n",
      "['price', 'price_aprox_local_currency', 'price_aprox_usd', 'price_usd_per_m2', 'price_per_m2']\n"
     ]
    }
   ],
   "source": [
    "print(quantitative)\n",
    "print(qualitative)\n",
    "print(price)"
   ]
  },
  {
   "cell_type": "markdown",
   "metadata": {},
   "source": [
    "<a id=\"section_palermo\"></a> \n",
    "## Palermo\n",
    "\n",
    "[volver a TOC](#section_toc)"
   ]
  },
  {
   "cell_type": "code",
   "execution_count": 211,
   "metadata": {},
   "outputs": [
    {
     "data": {
      "text/plain": [
       "(2885, 18)"
      ]
     },
     "execution_count": 211,
     "metadata": {},
     "output_type": "execute_result"
    }
   ],
   "source": [
    "palermo = df_barrios.loc[data.place_name == 'Palermo', : ]\n",
    "\n",
    "por_nul_p = palermo.isnull().sum()/palermo.shape[0]*100\n",
    "por_nul_sorted_p = por_nul_p.sort_values(ascending=False)\n",
    "\n",
    "lat_max = palermo.lat.max()\n",
    "lat_min = palermo.lat.min()\n",
    "lon_max = palermo.lon.max()\n",
    "lon_min = palermo.lon.min()\n",
    "\n",
    "palermo.shape\n",
    "#por_nul_sorted"
   ]
  },
  {
   "cell_type": "code",
   "execution_count": 212,
   "metadata": {},
   "outputs": [
    {
     "data": {
      "text/plain": [
       "floor                         89.046794\n",
       "expenses                      71.646447\n",
       "rooms                         57.019064\n",
       "price_usd_per_m2              31.265165\n",
       "lon                           27.694974\n",
       "lat                           27.694974\n",
       "surface_total_in_m2           19.168111\n",
       "price_per_m2                  18.301560\n",
       "price_aprox_usd               12.720971\n",
       "price_aprox_local_currency    12.720971\n",
       "currency                      12.720971\n",
       "price                         12.720971\n",
       "surface_covered_in_m2          6.967071\n",
       "state_name                     0.000000\n",
       "place_name                     0.000000\n",
       "title                          0.000000\n",
       "description                    0.000000\n",
       "property_type                  0.000000\n",
       "dtype: float64"
      ]
     },
     "execution_count": 212,
     "metadata": {},
     "output_type": "execute_result"
    }
   ],
   "source": [
    "por_nul4 = palermo.isnull().sum()/palermo.shape[0]*100\n",
    "por_nul_sorted4 = por_nul4.sort_values(ascending=False)\n",
    "por_nul_sorted4"
   ]
  },
  {
   "cell_type": "markdown",
   "metadata": {},
   "source": [
    "<a id=\"section_EDA\"></a> \n",
    "## Analisis descriptivo pre limpieza\n",
    "\n",
    "[volver a TOC](#section_toc)"
   ]
  },
  {
   "cell_type": "code",
   "execution_count": 213,
   "metadata": {},
   "outputs": [
    {
     "data": {
      "text/plain": [
       "<AxesSubplot:>"
      ]
     },
     "execution_count": 213,
     "metadata": {},
     "output_type": "execute_result"
    },
    {
     "data": {
      "image/png": "[encoded data removed]",
      "text/plain": [
       "<Figure size 432x288 with 1 Axes>"
      ]
     },
     "metadata": {},
     "output_type": "display_data"
    }
   ],
   "source": [
    "missing = df_barrios.isnull().sum()\n",
    "missing = missing[missing > 0]\n",
    "missing.sort_values(inplace=True)\n",
    "missing.plot.bar()"
   ]
  },
  {
   "cell_type": "code",
   "execution_count": 214,
   "metadata": {
    "scrolled": true
   },
   "outputs": [
    {
     "data": {
      "text/plain": [
       "<AxesSubplot:title={'center':'Normal'}, xlabel='price_per_m2'>"
      ]
     },
     "execution_count": 214,
     "metadata": {},
     "output_type": "execute_result"
    },
    {
     "data": {
      "image/png": "[encoded data removed]",
      "text/plain": [
       "<Figure size 432x288 with 1 Axes>"
      ]
     },
     "metadata": {},
     "output_type": "display_data"
    }
   ],
   "source": [
    "import scipy.stats as st #falta trabajar la dependiente!\n",
    "y = df_barrios['price_per_m2']\n",
    "#plt.figure(1); plt.title('Johnson SU')\n",
    "#sns.distplot(y, kde=False, fit=st.johnsonsu)\n",
    "plt.figure(2); plt.title('Normal')\n",
    "sns.distplot(y, kde=False, fit=st.norm)\n",
    "#plt.figure(3); plt.title('Log Normal')\n",
    "#sns.distplot(y, kde=False, fit=st.lognorm)"
   ]
  },
  {
   "cell_type": "code",
   "execution_count": 215,
   "metadata": {
    "scrolled": true
   },
   "outputs": [
    {
     "data": {
      "image/png": "[encoded data removed]",
      "text/plain": [
       "<Figure size 432x864 with 7 Axes>"
      ]
     },
     "metadata": {},
     "output_type": "display_data"
    }
   ],
   "source": [
    "f = pd.melt(df_barrios, value_vars=quantitative)\n",
    "g = sns.FacetGrid(f, col=\"variable\",  col_wrap=2, sharex=False, sharey=False)\n",
    "g = g.map(sns.distplot, \"value\")"
   ]
  },
  {
   "cell_type": "code",
   "execution_count": 199,
   "metadata": {
    "scrolled": true
   },
   "outputs": [
    {
     "data": {
      "image/png": "[encoded data removed]",
      "text/plain": [
       "<Figure size 432x648 with 5 Axes>"
      ]
     },
     "metadata": {},
     "output_type": "display_data"
    }
   ],
   "source": [
    "f = pd.melt(df_barrios, value_vars=price)\n",
    "g = sns.FacetGrid(f, col=\"variable\",  col_wrap=2, sharex=False, sharey=False)\n",
    "g = g.map(sns.distplot, \"value\")"
   ]
  },
  {
   "cell_type": "code",
   "execution_count": 217,
   "metadata": {},
   "outputs": [],
   "source": [
    "# for c in qualitative:\n",
    "#     df_barrios[c] = df_barrios[c].astype('category')\n",
    "#     if df_barrios[c].isnull().any():\n",
    "#         df_barrios[c] = df_barrios[c].cat.add_categories(['MISSING'])\n",
    "#         df_barrios[c] = df_barrios[c].fillna('MISSING')\n",
    "\n",
    "# def boxplot(x, y, **kwargs):\n",
    "#     sns.boxplot(x=x, y=y)\n",
    "#     x=plt.xticks(rotation=90)\n",
    "# f = pd.melt(df_barrios, id_vars=['price_per_m2'], value_vars=qualitative)\n",
    "# g = sns.FacetGrid(f, col=\"variable\",  col_wrap=2, sharex=False, sharey=False)\n",
    "# g = g.map(boxplot, \"value\", \"price_per_m2\")"
   ]
  },
  {
   "cell_type": "code",
   "execution_count": 218,
   "metadata": {
    "scrolled": false
   },
   "outputs": [
    {
     "data": {
      "text/plain": [
       "<Figure size 864x864 with 0 Axes>"
      ]
     },
     "metadata": {},
     "output_type": "display_data"
    },
    {
     "data": {
      "image/png": "[encoded data removed]",
      "text/plain": [
       "<Figure size 720x720 with 3 Axes>"
      ]
     },
     "metadata": {},
     "output_type": "display_data"
    }
   ],
   "source": [
    "plt.figure(figsize=(12,12))\n",
    "sns.jointplot(x=df_barrios.lat.values, y=df_barrios.lon.values, height=10)\n",
    "plt.ylabel('Longitude', fontsize=12)\n",
    "plt.xlabel('Latitude', fontsize=12)\n",
    "plt.show()"
   ]
  },
  {
   "cell_type": "code",
   "execution_count": 219,
   "metadata": {},
   "outputs": [
    {
     "data": {
      "image/png": "[encoded data removed]",
      "text/plain": [
       "<Figure size 432x288 with 1 Axes>"
      ]
     },
     "metadata": {
      "needs_background": "light"
     },
     "output_type": "display_data"
    },
    {
     "data": {
      "image/png": "[encoded data removed]",
      "text/plain": [
       "<Figure size 432x288 with 1 Axes>"
      ]
     },
     "metadata": {
      "needs_background": "light"
     },
     "output_type": "display_data"
    }
   ],
   "source": [
    "#room - -esto seria la justificacion para agrupar los valores mas alla de 5 habitaciones en una sola categoria\n",
    "\n",
    "%matplotlib inline\n",
    "room = caba['rooms']\n",
    "plt.hist(room, bins=(0,1,2,3,4,5,6,7,8,9,10))\n",
    "plt.xlabel('Habitaciones')\n",
    "plt.ylabel('Observaciones')\n",
    "plt.title(r'CABA (rooms)')\n",
    "#plt.axis([40, 160, 0, 0.03])\n",
    "#plt.grid(True)\n",
    "plt.show()\n",
    "\n",
    "room2 = df_barrios['rooms']\n",
    "plt.hist(room2, bins=(0,1,2,3,4,5,6,7,8,9,10))\n",
    "plt.xlabel('Habitaciones')\n",
    "plt.ylabel('Observaciones')\n",
    "plt.title(r'Belgrano, Palermo y Caballito (rooms)')\n",
    "#plt.axis([40, 160, 0, 0.03])\n",
    "#plt.grid(True)\n",
    "plt.show()"
   ]
  },
  {
   "cell_type": "markdown",
   "metadata": {},
   "source": [
    "<a id=\"section_deteccion_faltantes\"></a> \n",
    "## Detección de valores faltantes\n",
    "\n",
    "[volver a TOC](#section_toc)"
   ]
  },
  {
   "cell_type": "code",
   "execution_count": 26,
   "metadata": {},
   "outputs": [
    {
     "data": {
      "text/plain": [
       "floor                         89.668712\n",
       "expenses                      74.466258\n",
       "rooms                         56.785276\n",
       "price_usd_per_m2              28.981595\n",
       "lon                           27.779141\n",
       "lat                           27.779141\n",
       "price_per_m2                  17.018405\n",
       "surface_total_in_m2           16.883436\n",
       "price_aprox_usd               12.785276\n",
       "price_aprox_local_currency    12.785276\n",
       "currency                      12.785276\n",
       "price                         12.785276\n",
       "surface_covered_in_m2          5.276074\n",
       "geonames_id                    0.000000\n",
       "place_name                     0.000000\n",
       "state_name                     0.000000\n",
       "title                          0.000000\n",
       "description                    0.000000\n",
       "properati_url                  0.000000\n",
       "property_type                  0.000000\n",
       "dtype: float64"
      ]
     },
     "execution_count": 26,
     "metadata": {},
     "output_type": "execute_result"
    }
   ],
   "source": [
    "#vemos los nulos en % y descendiente\n",
    "por_nul = df_barrios.isnull().sum()/df_barrios.shape[0]*100\n",
    "por_nul_sorted = por_nul.sort_values(ascending=False)\n",
    "por_nul_sorted"
   ]
  },
  {
   "cell_type": "code",
   "execution_count": 221,
   "metadata": {
    "scrolled": true
   },
   "outputs": [
    {
     "data": {
      "text/plain": [
       "<AxesSubplot:>"
      ]
     },
     "execution_count": 221,
     "metadata": {},
     "output_type": "execute_result"
    },
    {
     "data": {
      "image/png": "[encoded data removed]",
      "text/plain": [
       "<Figure size 432x288 with 1 Axes>"
      ]
     },
     "metadata": {},
     "output_type": "display_data"
    }
   ],
   "source": [
    "missing = df_barrios.isnull().sum()\n",
    "missing = missing[missing > 0]\n",
    "missing.sort_values(inplace=True)\n",
    "missing.plot.bar()"
   ]
  },
  {
   "cell_type": "code",
   "execution_count": 222,
   "metadata": {},
   "outputs": [
    {
     "data": {
      "text/html": [
       "<div>\n",
       "<style scoped>\n",
       "    .dataframe tbody tr th:only-of-type {\n",
       "        vertical-align: middle;\n",
       "    }\n",
       "\n",
       "    .dataframe tbody tr th {\n",
       "        vertical-align: top;\n",
       "    }\n",
       "\n",
       "    .dataframe thead th {\n",
       "        text-align: right;\n",
       "    }\n",
       "</style>\n",
       "<table border=\"1\" class=\"dataframe\">\n",
       "  <thead>\n",
       "    <tr style=\"text-align: right;\">\n",
       "      <th></th>\n",
       "      <th>column_name</th>\n",
       "      <th>missing_count</th>\n",
       "      <th>missing_ratio</th>\n",
       "    </tr>\n",
       "  </thead>\n",
       "  <tbody>\n",
       "    <tr>\n",
       "      <th>0</th>\n",
       "      <td>property_type</td>\n",
       "      <td>0</td>\n",
       "      <td>0.000000</td>\n",
       "    </tr>\n",
       "    <tr>\n",
       "      <th>1</th>\n",
       "      <td>place_name</td>\n",
       "      <td>0</td>\n",
       "      <td>0.000000</td>\n",
       "    </tr>\n",
       "    <tr>\n",
       "      <th>2</th>\n",
       "      <td>state_name</td>\n",
       "      <td>0</td>\n",
       "      <td>0.000000</td>\n",
       "    </tr>\n",
       "    <tr>\n",
       "      <th>3</th>\n",
       "      <td>lat</td>\n",
       "      <td>2264</td>\n",
       "      <td>0.277791</td>\n",
       "    </tr>\n",
       "    <tr>\n",
       "      <th>4</th>\n",
       "      <td>lon</td>\n",
       "      <td>2264</td>\n",
       "      <td>0.277791</td>\n",
       "    </tr>\n",
       "    <tr>\n",
       "      <th>5</th>\n",
       "      <td>price</td>\n",
       "      <td>1042</td>\n",
       "      <td>0.127853</td>\n",
       "    </tr>\n",
       "    <tr>\n",
       "      <th>6</th>\n",
       "      <td>currency</td>\n",
       "      <td>1042</td>\n",
       "      <td>0.127853</td>\n",
       "    </tr>\n",
       "    <tr>\n",
       "      <th>7</th>\n",
       "      <td>price_aprox_local_currency</td>\n",
       "      <td>1042</td>\n",
       "      <td>0.127853</td>\n",
       "    </tr>\n",
       "    <tr>\n",
       "      <th>8</th>\n",
       "      <td>price_aprox_usd</td>\n",
       "      <td>1042</td>\n",
       "      <td>0.127853</td>\n",
       "    </tr>\n",
       "    <tr>\n",
       "      <th>9</th>\n",
       "      <td>surface_total_in_m2</td>\n",
       "      <td>1376</td>\n",
       "      <td>0.168834</td>\n",
       "    </tr>\n",
       "    <tr>\n",
       "      <th>10</th>\n",
       "      <td>surface_covered_in_m2</td>\n",
       "      <td>430</td>\n",
       "      <td>0.052761</td>\n",
       "    </tr>\n",
       "    <tr>\n",
       "      <th>11</th>\n",
       "      <td>price_usd_per_m2</td>\n",
       "      <td>2362</td>\n",
       "      <td>0.289816</td>\n",
       "    </tr>\n",
       "    <tr>\n",
       "      <th>12</th>\n",
       "      <td>price_per_m2</td>\n",
       "      <td>1387</td>\n",
       "      <td>0.170184</td>\n",
       "    </tr>\n",
       "    <tr>\n",
       "      <th>13</th>\n",
       "      <td>floor</td>\n",
       "      <td>7308</td>\n",
       "      <td>0.896687</td>\n",
       "    </tr>\n",
       "    <tr>\n",
       "      <th>14</th>\n",
       "      <td>rooms</td>\n",
       "      <td>4628</td>\n",
       "      <td>0.567853</td>\n",
       "    </tr>\n",
       "    <tr>\n",
       "      <th>15</th>\n",
       "      <td>expenses</td>\n",
       "      <td>6069</td>\n",
       "      <td>0.744663</td>\n",
       "    </tr>\n",
       "    <tr>\n",
       "      <th>16</th>\n",
       "      <td>description</td>\n",
       "      <td>0</td>\n",
       "      <td>0.000000</td>\n",
       "    </tr>\n",
       "    <tr>\n",
       "      <th>17</th>\n",
       "      <td>title</td>\n",
       "      <td>0</td>\n",
       "      <td>0.000000</td>\n",
       "    </tr>\n",
       "  </tbody>\n",
       "</table>\n",
       "</div>"
      ],
      "text/plain": [
       "                   column_name  missing_count  missing_ratio\n",
       "0                property_type              0       0.000000\n",
       "1                   place_name              0       0.000000\n",
       "2                   state_name              0       0.000000\n",
       "3                          lat           2264       0.277791\n",
       "4                          lon           2264       0.277791\n",
       "5                        price           1042       0.127853\n",
       "6                     currency           1042       0.127853\n",
       "7   price_aprox_local_currency           1042       0.127853\n",
       "8              price_aprox_usd           1042       0.127853\n",
       "9          surface_total_in_m2           1376       0.168834\n",
       "10       surface_covered_in_m2            430       0.052761\n",
       "11            price_usd_per_m2           2362       0.289816\n",
       "12                price_per_m2           1387       0.170184\n",
       "13                       floor           7308       0.896687\n",
       "14                       rooms           4628       0.567853\n",
       "15                    expenses           6069       0.744663\n",
       "16                 description              0       0.000000\n",
       "17                       title              0       0.000000"
      ]
     },
     "execution_count": 222,
     "metadata": {},
     "output_type": "execute_result"
    }
   ],
   "source": [
    "missing_df = df_barrios.isnull().sum(axis=0).reset_index()\n",
    "missing_df.columns = ['column_name', 'missing_count']\n",
    "missing_df['missing_ratio'] = missing_df['missing_count'] / df_barrios.shape[0]\n",
    "missing_df#.ix[missing_df['missing_ratio']>0.999]"
   ]
  },
  {
   "cell_type": "markdown",
   "metadata": {},
   "source": [
    "Creamos un nuevo dataframe (df): \n",
    "\n",
    "*   sin tener en cuenta los datos (de precio) expresados unicamente en ARS. El 84% de todos los datos están expresados en USD.\n",
    "*   Seleccionamos los datos sean solo departamentos (apartments) para nuestro analisis, dado que comprende un 91% de las propiedades."
   ]
  },
  {
   "cell_type": "code",
   "execution_count": 27,
   "metadata": {},
   "outputs": [],
   "source": [
    "df_barrios_usd = df_barrios[df_barrios['currency'] != 'ARS'] \n",
    "#Creamos un nuevo df sin tener en cuenta los datos con ARS, el 84% estan expresados en USD.\n",
    "\n",
    "df_barrios_usd_apto = df_barrios[df_barrios['property_type'] == 'apartment']\n",
    "#Seleccionamos los datos sean solo departamentos para nuestro analisis, dado que comprende un 91% de las propiedades.\n"
   ]
  },
  {
   "cell_type": "code",
   "execution_count": 28,
   "metadata": {},
   "outputs": [
    {
     "data": {
      "text/plain": [
       "floor                         81.325153\n",
       "expenses                      66.429448\n",
       "rooms                         51.239264\n",
       "lon                           26.736196\n",
       "lat                           26.736196\n",
       "price_usd_per_m2              25.975460\n",
       "price_per_m2                  15.460123\n",
       "surface_total_in_m2           14.711656\n",
       "price_aprox_usd               11.742331\n",
       "price_aprox_local_currency    11.742331\n",
       "currency                      11.742331\n",
       "price                         11.742331\n",
       "surface_covered_in_m2          4.588957\n",
       "geonames_id                    0.000000\n",
       "place_name                     0.000000\n",
       "state_name                     0.000000\n",
       "title                          0.000000\n",
       "description                    0.000000\n",
       "properati_url                  0.000000\n",
       "property_type                  0.000000\n",
       "dtype: float64"
      ]
     },
     "execution_count": 28,
     "metadata": {},
     "output_type": "execute_result"
    }
   ],
   "source": [
    "#vemos los nulos en % y descendiente\n",
    "por_nulos2 = df_barrios_usd_apto.isnull().sum()/df_barrios.shape[0]*100\n",
    "por_nulos_sorted2 = por_nulos2.sort_values(ascending=False)\n",
    "por_nulos_sorted2"
   ]
  },
  {
   "cell_type": "markdown",
   "metadata": {},
   "source": [
    "<a id=\"section_duplicados\"></a> \n",
    "## Duplicados\n",
    "\n",
    "[volver a TOC](#section_toc)"
   ]
  },
  {
   "cell_type": "markdown",
   "metadata": {},
   "source": [
    "<a id=\"section_nuevas\"></a> \n",
    "## Nuevas columnas\n",
    "\n",
    "[volver a TOC](#section_toc)"
   ]
  },
  {
   "cell_type": "code",
   "execution_count": 107,
   "metadata": {
    "scrolled": true
   },
   "outputs": [
    {
     "data": {
      "text/plain": [
       "CategoricalDtype(categories=[' \\tExcelente Piso de 6 ambientes con dependencia.3 cocheras fijas (2 cubiertas y 1 descubierta)228m2 tot mas cocheras y bauleraEdificio 10 pisos.Expensas $ 20.000 Seguridad 24hsCalefaccion y Agua caliente individual por caldera propiaBaños y cocina reciclados hace 8 años aprox.Pisos en todo el depto madera tarugada y ceramicos en cocina y bañosPalier privadoLiving comedor en L 7x5 + 4x5 a Balcon al frenteToillete de recepcionEstar/Escritorio 4x44 dormitorios: 4x5 - 3,50x4 - suite 5x4,50 c/vestidor - 5x3,502 baños completos (1ste)Cocina 4x8Lavadero separadoDependencia de servicio con su baño',\n",
       "                  '                                                                   IDEAL INVERSOR- APTO CRÉDITO.Departamento de 3 ambientes que este momento cuenta con una subdivisión ,living-comedor amplio con salida al balcon corrido,cocina independiente luminosa y lavadero .pasillo distribuidor que lleva a las dos habitaciones ambas  con su placard empotrado y vista abierta.Bajas expensas .Proximo a el parque Rivadavia ,transportes cercanos: Linea E (AV. LA PLATA) ,7, 15, 25, 53, 56, 65, 84, 85, 88, 96, 97, 112, 126, 180, 181.',\n",
       "                  '                         EN VENTA LOCAL EN PALERMO 230 M2 SIN EXPENSAS APTO TODO RUBRO                    ',\n",
       "                  '                         Edificio en construcción . NO APTO CRÉDITO.Exclusivas viviendas y estudios en el barrio de Belgrano! 12 pisos de viviendas y unidades aptas profesionales con el mejor diseño y terminaciones, a una exclusiva zona a una cuadra de Av. Cabildo y a metros de los mejores accesos , metrobus y subte D. El edificio cuenta con un Hall de acceso con toilette, en subsuelo se podrá encontrar bauleras, laundry y cinco espacios guarda coches opcionales.Los pisos 11 y 12 se disponen de terraza solarium,asador,sauna,ducha finlandesa, s.u.m y piscina.                     ',\n",
       "                  '                         MONOAMBIENTE  AL FRENTE CON BALCÓN TERRAZA,  SUPER LUMINOSO . Piso de madera, agua caliente central, calefacción por piso radiante eléctrico. Cocina con anafe a gas y horno eléctrico. Campana de acero . Detalles de diseño y categoríaEXCLUSIVA TORRE DE CATEGORÍA , 5 PISOS DE VIVIENDAS Y ESTUDIOS CON AMPLIAS VISUALES, UBICADA EN UNA EXCELENTE AMENITIES EN EL ÚLTIMO PISO : SPA, SUM ,LAUNDRY , PISICINA Y SOLARIUM ',\n",
       "                  '                         MONOAMBIENTE DIVISIBLE AL FRENTE CON BALCÓN, SUPER LUMINOSO EXCLUSIVA TORRE DE CATEGORÍA , 5 PISOS DE VIVIENDAS Y ESTUDIOS CON AMPLIAS VISUALES, UBICADA EN UNA EXCELENTE AMENITIES EN EL ÚLTIMO PISO : SPA, SUM ,LAUNDRY , PISICINA Y SOLARIUM ',\n",
       "                  '                        Ambiente a estrenar de 31 metros en una excelente ubicación, cerca del Metrobus y línea D Congreso de Tucumán. Edificio con amenities, laundry y parrilla. Súper moderno, con seguridad 24 hs.',\n",
       "                  '                        Departamento de 3 ambientes ubicado en un muy lindo entorno Living comedor al frente con salida a Balcon corrido, buena vista, 2 dormitorios 1 baño completo cocina en LCochera fija y cubierta y posibilidad de 2 da cochera.Apto Credito.Si necesita Vender su propiedad consulte con Nosotros.                    ',\n",
       "                  '                        Departamento de dos ambientes con dormitorio en suite y toilette.Living comedor y dormitorio con  salida a amplio balcón terraza con parrilla. En exclusiva torre de categoría , 5 pisos de viviendas y estudios con amplias visuales, ubicada en esquina de Roosevelt  y Arribeños.La unidad cuenta también  con  otra  terraza , a la cual se accede por escalera desde el balcón terraza.Amenities en el último piso: Piscina y solarium , sauna, laundry, SUM.Agua caliente central, cocina con anafe a gas y horno eléctrico.',\n",
       "                  '                        EXC DPTO 3 AMB AL FTE A  3 CDRAS DE SUBTE CONGRESO.( LINEA D)LIV CDOR PISOS PARQUET , CON SALIDA A BCON AL FTE, COCINA , CDOR DIARIO, LAV INDEP, DEP Y BÑO SERVICIO,2 DORMIT AMPLIOS C/PLAC, 1 BAÑO CON ANTEBAÑO .TOTALMENTE RECICLADO ! DIGNO DE VER!!POSIBIL COCHERA EN ALQUILER A 20MTS. LAS EXPENSAS INCLUYEN AYSA.                    ',\n",
       "                  ...\n",
       "                  'Áreas verdes y esparcimiento desarrollados en 1360m2  Piscina para adultos de 3.50m x 12.50mJacuzzi al aire libreSolariumQuincho con 2 parrillas y cocina incorporadaGimnasio equipadoVestuarios en amenitiesSala de RelaxSaunaS.U.M con cocina y toiletteLaundryEspacio guarda bicicletasSE VENDE CON RENTA',\n",
       "                  'Áreas verdes y esparcimiento desarrollados en 1360m2 > Piscina para adultos de 3.50m x 12.50m> Jacuzzi al aire libre> Solarium> Quincho con 2 parrillas y cocina incorporada> Gimnasio equipado> Vestuarios en amenities> Sala de Relax> Sauna> S.U.M con cocina y toilette> Laundry> Espacio guarda bicicletas',\n",
       "                  'Áreas verdes y esparcimiento desarrollados en 1360m2 > Piscina para adultos de 3.50m x 12.50m> Jacuzzi al aire libre> Solarium> Quincho con 2 parrillas y cocina incorporada> Gimnasio equipado> Vestuarios en amenities> Sala de Relax> Sauna> S.U.M con cocina y toilette> Laundry> Espacio guarda bicicletasSE VENDE CON RENTA',\n",
       "                  'ÚLTIMA UNIDAD DISPONIBLE. 6º B, CONTRAFRENTE. SEMIPISO 2 AMBIENTES 43 M2 CUBIERTOS + BALCÓN (7 X 1). SUPERFICIE TOTAL: 50 M2. ENTREGA EN 90 DÍAS. Gurruchaga al 2400 - Palermo - CABA.Inmejorable ubicación, a metros de Avenida Santa Fe, Jardín Botánico, Subte D e innumerables medios de transporte.Edificio de categoría con laundry, SUM, solarium y jacuzzi.Unidades de 1 y 2 ambientes, con balcón. Apto profesional. 8 pisos, 3 departamentos por piso, ascensor automático. ENVIANOS TU CONSULTA, TENEMOS OFERTAS EN INMUEBLES USADOS, NUMEROSOS EMPRENDIMIENTOS EN CAPITAL, CON ENTREGA INMEDIATA, APTOS CRÉDITO BANCARIO Y EMPRENDIMIENTOS DESDE EL POZO, CON FINANCIACIÓN EN PESOS, SIN REQUISITOS. ',\n",
       "                  'Única unidad integrada por dos departamentos: Dto. de 3 ambientes con dependencia al contrafrente: - Entrada principal y de servicio con puerta blindada - Amplio living con salida a jardín propio 12.00 x 8.00 mts - 2 Dormitorios ambos con placard - Baño completo y toilette de recepción - Comedor diario - Cocina con muebles bajos y altos - Dependencia de servicio con baño y lavadero - Patio Dto. de 2 ambientes al frente: - Puerta blindada - Hall de 1.75 x 1.25 mts. - Living-comedor de 5.00 x 2.40 mts. - Cocina de 3.40 x 2.30 mts. - Dormitorio con placard de 4.05 x 3.75 mts. - Baño completo - Patio de 3.85 x 3.50 mts. UF de 165 m2 totales + jardín y patios',\n",
       "                  'Único duplex en \"Las Cañitas\". Ecológico y sustentable 3 ambientes de 85m2 totales. Se encuentra refaccionado íntegramente a nuevo con materiales de primera calidad! APTO CRÉDITO HIPOTECARIO VENTA DIRECTA, LISTO PARA HABITAR! Edificio Torre con seguridad 24hs. ANTIGÜEDAD EDIFICIO: 30 AÑOS (NO TIENE AMENITIES) REFACCIONADO: HACE 3 MESES Piso 12 al frente. Luz todo el día! Vista abierta orientación al río. Amplios ventanales en todos sus ambientes. La totalidad de las aberturas son de aluminio con DVH (reduce los costos de calefacción y refrigeración). Puerta blindada marca \"Pentágono\" con circuito cerrado de tv incorporado. Iluminación led dimerizable (Bajo consumo). PLANTA BAJA (42m2 totales) -Living comedor con salida a balcón corrido. -Moderna cocina con lavadero incorporado. Instalación de anafe a gas y horno eléctrico (Ambos marca Ariston). Barra desayunadora. -Toilette de recepción (Artefactos FV linea Premium) PLANTA ALTA (43m2) -Dos amplias habitaciones con excelentes placares (frentes espejados e interiores) MEDIDA AMBAS HABITACIONES 3x3,50 -Gran pasillo utilizable como sector de estudio. Placard en pasillo. -Baño completo (Artefactos FV linea Premium) Agua caliente y losa radiante central. EXPENSAS $3.900.- OPCIONAL Cochera fija y cubierta y baulera de buenas dimensiones USD25.000.- Ubicación estratégica! A metros del Subte D \"Estación Ministro Carranza\", Tren \"Mitre\" y múltiples lineas de Colectivos sobre las AV. Luis María Campos y AV. Cabildo \"METROBUS\" (59, 118, 29, 64, 12, 15, 68, 152 y mas). CONSULTAS CAROLINA 1536510851 (CEL/WHATSAPP) ',\n",
       "                  'Único duplex en \"Las Cañitas\". Ecológico y sustentable 3 ambientes de 85m2 totales. Se encuentra refaccionado íntegramente a nuevo con materiales de primera calidad! El precio incluye cochera fija y cubierta y baulera de buenas dimensiones. APTO CRÉDITO HIPOTECARIO VENTA DIRECTA, LISTO PARA HABITAR! Edificio Torre con seguridad 24hs. ANTIGÜEDAD EDIFICIO: 30 AÑOS (NO TIENE AMENITIES) REFACCIONADO: HACE 3 MESES Piso 12 al frente. Luz todo el día! Vista abierta orientación al río. Amplios ventanales en todos sus ambientes. La totalidad de las aberturas son de aluminio con DVH (reduce los costos de calefacción y refrigeración). Puerta blindada marca \"Pentágono\" con circuito cerrado de tv incorporado. Iluminación led dimerizable (Bajo consumo). PLANTA BAJA (42m2 totales) -Living comedor con salida a balcón corrido. -Moderna cocina con lavadero incorporado. Instalación de anafe a gas y horno eléctrico (Ambos marca Ariston). Barra desayunadora. -Toilette de recepción (Artefactos FV linea Premium) PLANTA ALTA (43m2) -Dos amplias habitaciones con excelentes placares (frentes espejados e interiores) MEDIDA AMBAS HABITACIONES 3x3,50 -Gran pasillo utilizable como sector de estudio. Placard en pasillo. -Baño completo (Artefactos FV linea Premium) Agua caliente y losa radiante central. EXPENSAS $3.900.- Ubicación estratégica! A metros del Subte D \"Estación Ministro Carranza\", Tren \"Mitre\" y múltiples lineas de Colectivos sobre las AV. Luis María Campos y AV. Cabildo \"METROBUS\" (59, 118, 29, 64, 12, 15, 68, 152 y mas). CONSULTAS CAROLINA 153-651-0851 (CEL/WHATSAPP) ',\n",
       "                  '�Excelente Departamento 3 Ambientes con dependencia de servicio �Semi-piso  �Frente con 2 balcones muy luminoso (piso alto) palier semi-privado �Living comedor 7,4 x 3,4 �Edificio tipo torre de categoría �Espacio guarda-coche excelente ubicación (zona exclusiva)CONSÚLTENOS JUMO INMOBILIARIA48642655/ -  - JUMO INMOBILIARIA',\n",
       "                  '�Excelente departamento de 3 ambientes �A estrenar al frente�73m2 con balcón corrido de 8,5m x 1,1m�Amplio living comedor de 8,5m x 3,5m �Baño completo y toilette�Dormitorios con placar y pisos flotantes�Portero visor - Ascensor automático �Terraza con parrilla �Edificio de categoría con excelentes terminaciones �Escrituras directa �Apto crédito hipotecario�Opción cochera cubierta fija�Excelente ubicación a 3 cuadras del Cid CampeadorCONSÚLTENOSJUMO INMOBILIARIATELF: 48642299 - 48662655 -  -  - JUMO INMOBILIARIA',\n",
       "                  '�Excelente departamento un ambiente divisible a estrenar al frente con balcón aterrazado�Muy luminoso�Orientación norte �Notables detalles de terminación�Placard�Aire acondicionado split frio-calor�Spar en cocina�El edificio posee parrilla�Solarium Deck con ducha�Laundry �Bajas expensas (incluyen AYSA y ABL) �A 3 cuadras de plaza IrlandaCONSÚLTENOSJUMO INMOBILIARIATELF: 48642299 - 48662655 -  -  - JUMO INMOBILIARIA'],\n",
       "                 ordered=False)"
      ]
     },
     "execution_count": 107,
     "metadata": {},
     "output_type": "execute_result"
    }
   ],
   "source": [
    "df_barrios.description.dtype"
   ]
  },
  {
   "cell_type": "code",
   "execution_count": 106,
   "metadata": {},
   "outputs": [
    {
     "data": {
      "text/plain": [
       "CategoricalDtype(categories=['  Departamento 2 ambientes Venta Belgrano duplex',\n",
       "                  '  VALENTIN VIRASORO 1600, Caballito 2 Amb a Estrenar  ',\n",
       "                  ' 1 AMB CON BALCON TERRAZA BELGRANO',\n",
       "                  ' 2 Ambientes con Cocina Integrada en Belgrano R',\n",
       "                  ' 3 Ambientes, Barrio Norte , Frente , Balcón terraza , Excelente luminosidad',\n",
       "                  ' A ZONA PARQUE RIVADAVIA',\n",
       "                  ' Amplio 3 amb c/ baño, toilette y balcón - A mts Av Libertador',\n",
       "                  ' Av del Libertador 3500 - Palermo - Capital Federal',\n",
       "                  ' Av. Santafe 4900 PALERMO (SIN COCHERA  USD 220000 ) HERMOSO DEPTO 4 AMBIENTES.',\n",
       "                  ' Bulnes 1900 - Palermo',\n",
       "                  ...\n",
       "                  '¡AMBIENTE UNICO CON COCHERA EN TERRAZAS AL POLO!',\n",
       "                  '¡INCREIBLE! 2 amb A ESTRENAR en Belgrano c/ Gran Terraza',\n",
       "                  '¡OPORTUNIDAD! Exc 1amb c/ Bcón - Amenities - Apto Prof. - A ESTRENAR!!!',\n",
       "                  '¡OPORTUNIDAD! Exc 1amb c/ Bcón al Fte, Apto Profesional - Amenities!! - A ESTRENAR',\n",
       "                  '¡OPORTUNIDAD! Exc 1amb c/ Bcón al Fte-Amenities-Apto Prof.-A ESTRENAR!!!',\n",
       "                  '¡OPORTUNIDAD! Exc 1amb c/ Bcón. al Fte y Placard-Apto Prof.-A ESTRENAR!!',\n",
       "                  '¡Oportunidad! Exc 2 amb A ESTRENAR c/ Bcón. en Caballito c/ Amenities-Apto Prof.!',\n",
       "                  'Árabe Siria 2800 - Vista al Botánico en edificio racionalista!',\n",
       "                  'ÚNICO DUPLEX 3 AMB LAS CAÑITAS. COCHERA CUB Y BAULERA',\n",
       "                  'ÚNICO DUPLEX 3 AMB LAS CAÑITAS. OPCIONAL COCHERA Y BAULERA'],\n",
       "                 ordered=False)"
      ]
     },
     "execution_count": 106,
     "metadata": {},
     "output_type": "execute_result"
    }
   ],
   "source": [
    "df_barrios.title.dtype"
   ]
  },
  {
   "cell_type": "code",
   "execution_count": 126,
   "metadata": {},
   "outputs": [],
   "source": [
    "description = df_barrios.description\n",
    "\n",
    "#description.index('pileta')"
   ]
  },
  {
   "cell_type": "markdown",
   "metadata": {},
   "source": [
    "<a id=\"section_externa\"></a> \n",
    "## Data set externos\n",
    "\n",
    "[volver a TOC](#section_toc)"
   ]
  },
  {
   "cell_type": "markdown",
   "metadata": {},
   "source": [
    "**Data sets externos**\n",
    "\n",
    "* Agreguen toda otra información construida a partir de los datos originales (o incluso información externa) que consideren relevante y útil para resolver los objetivos planteados."
   ]
  },
  {
   "cell_type": "code",
   "execution_count": 118,
   "metadata": {},
   "outputs": [],
   "source": [
    "subte_data = \"https://raw.githubusercontent.com/carlachka/grupo2dh/master/ws1/data/subte.csv\"\n",
    "ferro_data = \"https://raw.githubusercontent.com/carlachka/grupo2dh/master//ws1/data/ferrocarril.csv\"\n",
    "paradas_df = \"https://raw.githubusercontent.com/carlachka/grupo2dh/master//ws1/data/paradas.csv\"\n",
    "\n",
    "subte = pd.read_csv(subte_data) \n",
    "ferro = pd.read_csv(ferro_data)\n",
    "colec = pd.read_csv(paradas_df)\n",
    "\n",
    "#palermo = \"https://raw.githubusercontent.com/carlachka/grupo2dh/master/paler.csv\"\n",
    "#palerm = pd.read_csv(palermo)"
   ]
  },
  {
   "cell_type": "code",
   "execution_count": 119,
   "metadata": {},
   "outputs": [
    {
     "data": {
      "text/html": [
       "<div>\n",
       "<style scoped>\n",
       "    .dataframe tbody tr th:only-of-type {\n",
       "        vertical-align: middle;\n",
       "    }\n",
       "\n",
       "    .dataframe tbody tr th {\n",
       "        vertical-align: top;\n",
       "    }\n",
       "\n",
       "    .dataframe thead th {\n",
       "        text-align: right;\n",
       "    }\n",
       "</style>\n",
       "<table border=\"1\" class=\"dataframe\">\n",
       "  <thead>\n",
       "    <tr style=\"text-align: right;\">\n",
       "      <th></th>\n",
       "      <th>long</th>\n",
       "      <th>lat</th>\n",
       "      <th>id</th>\n",
       "      <th>estacion</th>\n",
       "      <th>linea</th>\n",
       "    </tr>\n",
       "  </thead>\n",
       "  <tbody>\n",
       "    <tr>\n",
       "      <th>0</th>\n",
       "      <td>-58.398928</td>\n",
       "      <td>-34.635750</td>\n",
       "      <td>1.0</td>\n",
       "      <td>CASEROS</td>\n",
       "      <td>H</td>\n",
       "    </tr>\n",
       "    <tr>\n",
       "      <th>1</th>\n",
       "      <td>-58.400970</td>\n",
       "      <td>-34.629376</td>\n",
       "      <td>2.0</td>\n",
       "      <td>INCLAN - MEZQUITA AL AHMAD</td>\n",
       "      <td>H</td>\n",
       "    </tr>\n",
       "    <tr>\n",
       "      <th>2</th>\n",
       "      <td>-58.402323</td>\n",
       "      <td>-34.623092</td>\n",
       "      <td>3.0</td>\n",
       "      <td>HUMBERTO 1°</td>\n",
       "      <td>H</td>\n",
       "    </tr>\n",
       "  </tbody>\n",
       "</table>\n",
       "</div>"
      ],
      "text/plain": [
       "        long        lat   id                    estacion linea\n",
       "0 -58.398928 -34.635750  1.0                     CASEROS     H\n",
       "1 -58.400970 -34.629376  2.0  INCLAN - MEZQUITA AL AHMAD     H\n",
       "2 -58.402323 -34.623092  3.0                 HUMBERTO 1°     H"
      ]
     },
     "execution_count": 119,
     "metadata": {},
     "output_type": "execute_result"
    }
   ],
   "source": [
    "subte.head(3) # long lat id estacion linea"
   ]
  },
  {
   "cell_type": "code",
   "execution_count": 120,
   "metadata": {},
   "outputs": [
    {
     "data": {
      "text/plain": [
       "RETIRO                        2\n",
       "INDEPENDENCIA                 2\n",
       "PUEYRREDON                    2\n",
       "SAENZ PEÑA                    1\n",
       "ONCE - 30 DE DICIEMBRE        1\n",
       "                             ..\n",
       "ACOYTE                        1\n",
       "INCLAN - MEZQUITA AL AHMAD    1\n",
       "ENTRE RIOS - RODOLFO WALSH    1\n",
       "AV. DE MAYO                   1\n",
       "SAN JOSÉ DE FLORES            1\n",
       "Name: estacion, Length: 87, dtype: int64"
      ]
     },
     "execution_count": 120,
     "metadata": {},
     "output_type": "execute_result"
    }
   ],
   "source": [
    "subte.estacion.value_counts().sort_values(ascending=False)"
   ]
  },
  {
   "cell_type": "code",
   "execution_count": 121,
   "metadata": {},
   "outputs": [
    {
     "data": {
      "text/html": [
       "<div>\n",
       "<style scoped>\n",
       "    .dataframe tbody tr th:only-of-type {\n",
       "        vertical-align: middle;\n",
       "    }\n",
       "\n",
       "    .dataframe tbody tr th {\n",
       "        vertical-align: top;\n",
       "    }\n",
       "\n",
       "    .dataframe thead th {\n",
       "        text-align: right;\n",
       "    }\n",
       "</style>\n",
       "<table border=\"1\" class=\"dataframe\">\n",
       "  <thead>\n",
       "    <tr style=\"text-align: right;\">\n",
       "      <th></th>\n",
       "      <th>stop_id</th>\n",
       "      <th>stop_code</th>\n",
       "      <th>stop_name</th>\n",
       "      <th>stop_lat</th>\n",
       "      <th>stop_lon</th>\n",
       "      <th>direction_id</th>\n",
       "      <th>route_id</th>\n",
       "      <th>agency_id</th>\n",
       "      <th>route_short_name</th>\n",
       "      <th>route_long_name</th>\n",
       "      <th>route_desc</th>\n",
       "      <th>route_type</th>\n",
       "    </tr>\n",
       "  </thead>\n",
       "  <tbody>\n",
       "    <tr>\n",
       "      <th>0</th>\n",
       "      <td>201</td>\n",
       "      <td>201</td>\n",
       "      <td>1520 DEFENSA</td>\n",
       "      <td>-34.625663</td>\n",
       "      <td>-58.371042</td>\n",
       "      <td>1</td>\n",
       "      <td>108</td>\n",
       "      <td>26</td>\n",
       "      <td>22A</td>\n",
       "      <td>JNAMBA022</td>\n",
       "      <td>Retiro - Cno. Centenario y Lavalleja</td>\n",
       "      <td>3</td>\n",
       "    </tr>\n",
       "    <tr>\n",
       "      <th>1</th>\n",
       "      <td>2072</td>\n",
       "      <td>2072</td>\n",
       "      <td>722 REGIMIENTO DE PATRICIOS AV.</td>\n",
       "      <td>-34.636743</td>\n",
       "      <td>-58.369765</td>\n",
       "      <td>1</td>\n",
       "      <td>108</td>\n",
       "      <td>26</td>\n",
       "      <td>22A</td>\n",
       "      <td>JNAMBA022</td>\n",
       "      <td>Retiro - Cno. Centenario y Lavalleja</td>\n",
       "      <td>3</td>\n",
       "    </tr>\n",
       "    <tr>\n",
       "      <th>2</th>\n",
       "      <td>2079</td>\n",
       "      <td>2079</td>\n",
       "      <td>324 REGIMIENTO DE PATRICIOS AV.</td>\n",
       "      <td>-34.632942</td>\n",
       "      <td>-58.370332</td>\n",
       "      <td>1</td>\n",
       "      <td>108</td>\n",
       "      <td>26</td>\n",
       "      <td>22A</td>\n",
       "      <td>JNAMBA022</td>\n",
       "      <td>Retiro - Cno. Centenario y Lavalleja</td>\n",
       "      <td>3</td>\n",
       "    </tr>\n",
       "  </tbody>\n",
       "</table>\n",
       "</div>"
      ],
      "text/plain": [
       "   stop_id  stop_code                        stop_name   stop_lat   stop_lon  \\\n",
       "0      201        201                     1520 DEFENSA -34.625663 -58.371042   \n",
       "1     2072       2072  722 REGIMIENTO DE PATRICIOS AV. -34.636743 -58.369765   \n",
       "2     2079       2079  324 REGIMIENTO DE PATRICIOS AV. -34.632942 -58.370332   \n",
       "\n",
       "   direction_id  route_id  agency_id route_short_name route_long_name  \\\n",
       "0             1       108         26              22A       JNAMBA022   \n",
       "1             1       108         26              22A       JNAMBA022   \n",
       "2             1       108         26              22A       JNAMBA022   \n",
       "\n",
       "                              route_desc  route_type  \n",
       "0  Retiro - Cno. Centenario y Lavalleja            3  \n",
       "1  Retiro - Cno. Centenario y Lavalleja            3  \n",
       "2  Retiro - Cno. Centenario y Lavalleja            3  "
      ]
     },
     "execution_count": 121,
     "metadata": {},
     "output_type": "execute_result"
    }
   ],
   "source": [
    "colec.head(3)"
   ]
  },
  {
   "cell_type": "code",
   "execution_count": 122,
   "metadata": {},
   "outputs": [],
   "source": [
    "#Cambio los nombres de las columnas de paradas de colectivos\n",
    "colec = colec.rename({\n",
    "    'stop_lat': 'lat',\n",
    "    'stop_lon': 'long',\n",
    "}, axis=1)"
   ]
  },
  {
   "cell_type": "markdown",
   "metadata": {},
   "source": [
    "Todas las lat y long en los 4 dataframes son float."
   ]
  },
  {
   "cell_type": "markdown",
   "metadata": {},
   "source": [
    "**Distancia entre dos puntos de latitud y longitud - Haversine_formula**"
   ]
  },
  {
   "cell_type": "markdown",
   "metadata": {},
   "source": [
    "The [haversine](https://en.wikipedia.org/wiki/Haversine_formula) formula allows the haversine of Θ (that is, hav(Θ)) to be computed directly from the latitude and longitude of the two points.\n",
    "\n",
    "<img src=\"h_formula.png\" alt=\"Drawing\" style=\"width: 400px;\"/>\n",
    "\n",
    "\n",
    "* φ1, φ2 are the latitude of point 1 and latitude of point 2 (in radians),\n",
    "* λ1, λ2 are the longitude of point 1 and longitude of point 2 (in radians).\n",
    "\n",
    "As similar formula can be written using cosines (sometimes called the spherical law of cosines, not to be confused with the law of cosines for plane geometry) instead of haversines, but if the two points are close together (e.g. a kilometer apart, on the Earth) you might end up with an inaccurate answer. Since the haversine formula uses sines, it avoids that problem.\n",
    "\n",
    "A [simplified formula](http://www.movable-type.co.uk/scripts/latlong.html) says:\n",
    "\n",
    "<img src=\"h_simple.png\" alt=\"Drawing\" style=\"width: 600px;\"/>\n"
   ]
  },
  {
   "cell_type": "code",
   "execution_count": 123,
   "metadata": {},
   "outputs": [],
   "source": [
    "#vectorized numpy version of the same function\n",
    "\n",
    "import numpy as np\n",
    "\n",
    "def haversine_np(lon1, lat1, lon2, lat2):\n",
    "    \"\"\"\n",
    "    Calculate the great circle distance between two points\n",
    "    on the earth (specified in decimal degrees)\n",
    "\n",
    "    All args must be of equal length.    \n",
    "\n",
    "    \"\"\"\n",
    "    lon1, lat1, lon2, lat2 = map(np.radians, [lon1, lat1, lon2, lat2])\n",
    "\n",
    "    dlon = lon2 - lon1\n",
    "    dlat = lat2 - lat1\n",
    "\n",
    "    a = np.sin(dlat/2.0)**2 + np.cos(lat1) * np.cos(lat2) * np.sin(dlon/2.0)**2\n",
    "\n",
    "    c = 2 * np.arcsin(np.sqrt(a))\n",
    "    \n",
    "    km = 6367 * c  #el radio de la tierra no es 6371 km??\n",
    "    \n",
    "    return km\n",
    "\n"
   ]
  },
  {
   "cell_type": "code",
   "execution_count": 124,
   "metadata": {},
   "outputs": [],
   "source": [
    "lon1, lon2, lat1, lat2 = np.random.randn(4, 1000000)\n",
    "df = pd.DataFrame(data={'lon1':lon1,'lon2':lon2,'lat1':lat1,'lat2':lat2})\n",
    "km = haversine_np(df['lon1'],df['lat1'],df['lon2'],df['lat2'])\n",
    "df['distance'] = haversine_np(df['lon1'],df['lat1'],df['lon2'],df['lat2'])"
   ]
  },
  {
   "cell_type": "code",
   "execution_count": 155,
   "metadata": {},
   "outputs": [],
   "source": [
    "lat_max = paler.lat.max()\n",
    "lat_min = paler.lat.min()\n",
    "lon_max = paler.lon.max()\n",
    "lon_min = paler.lon.min()"
   ]
  },
  {
   "cell_type": "code",
   "execution_count": 205,
   "metadata": {},
   "outputs": [
    {
     "name": "stdout",
     "output_type": "stream",
     "text": [
      "(90, 5)\n",
      "(42463, 12)\n",
      "(230, 11)\n"
     ]
    }
   ],
   "source": [
    "subte.head(3) # long lat id estacion linea AGREGAR subte\n",
    "colec.head(3) # lat long stop_id route_id  AGREGAR colectivo\n",
    "ferro.head(3) # lat long id nombre barrio  AGREGAR ferrocarril\n",
    "print(subte.shape)\n",
    "print(colec.shape)\n",
    "print(ferro.shape)"
   ]
  },
  {
   "cell_type": "code",
   "execution_count": 176,
   "metadata": {},
   "outputs": [
    {
     "name": "stdout",
     "output_type": "stream",
     "text": [
      "(90, 5)\n",
      "(42463, 12)\n",
      "(230, 11)\n"
     ]
    }
   ],
   "source": [
    "print(subte.shape)\n",
    "print(colec.shape)\n",
    "print(ferro.shape)"
   ]
  },
  {
   "cell_type": "code",
   "execution_count": 125,
   "metadata": {},
   "outputs": [
    {
     "data": {
      "text/html": [
       "<div>\n",
       "<style scoped>\n",
       "    .dataframe tbody tr th:only-of-type {\n",
       "        vertical-align: middle;\n",
       "    }\n",
       "\n",
       "    .dataframe tbody tr th {\n",
       "        vertical-align: top;\n",
       "    }\n",
       "\n",
       "    .dataframe thead th {\n",
       "        text-align: right;\n",
       "    }\n",
       "</style>\n",
       "<table border=\"1\" class=\"dataframe\">\n",
       "  <thead>\n",
       "    <tr style=\"text-align: right;\">\n",
       "      <th></th>\n",
       "      <th>distance</th>\n",
       "    </tr>\n",
       "  </thead>\n",
       "  <tbody>\n",
       "    <tr>\n",
       "      <th>0</th>\n",
       "      <td>NaN</td>\n",
       "    </tr>\n",
       "    <tr>\n",
       "      <th>1</th>\n",
       "      <td>NaN</td>\n",
       "    </tr>\n",
       "    <tr>\n",
       "      <th>2</th>\n",
       "      <td>NaN</td>\n",
       "    </tr>\n",
       "    <tr>\n",
       "      <th>3</th>\n",
       "      <td>NaN</td>\n",
       "    </tr>\n",
       "    <tr>\n",
       "      <th>4</th>\n",
       "      <td>NaN</td>\n",
       "    </tr>\n",
       "    <tr>\n",
       "      <th>5</th>\n",
       "      <td>NaN</td>\n",
       "    </tr>\n",
       "    <tr>\n",
       "      <th>6</th>\n",
       "      <td>NaN</td>\n",
       "    </tr>\n",
       "    <tr>\n",
       "      <th>7</th>\n",
       "      <td>NaN</td>\n",
       "    </tr>\n",
       "    <tr>\n",
       "      <th>8</th>\n",
       "      <td>NaN</td>\n",
       "    </tr>\n",
       "    <tr>\n",
       "      <th>9</th>\n",
       "      <td>NaN</td>\n",
       "    </tr>\n",
       "    <tr>\n",
       "      <th>10</th>\n",
       "      <td>NaN</td>\n",
       "    </tr>\n",
       "    <tr>\n",
       "      <th>11</th>\n",
       "      <td>NaN</td>\n",
       "    </tr>\n",
       "    <tr>\n",
       "      <th>12</th>\n",
       "      <td>NaN</td>\n",
       "    </tr>\n",
       "    <tr>\n",
       "      <th>13</th>\n",
       "      <td>NaN</td>\n",
       "    </tr>\n",
       "    <tr>\n",
       "      <th>14</th>\n",
       "      <td>NaN</td>\n",
       "    </tr>\n",
       "    <tr>\n",
       "      <th>15</th>\n",
       "      <td>NaN</td>\n",
       "    </tr>\n",
       "    <tr>\n",
       "      <th>16</th>\n",
       "      <td>NaN</td>\n",
       "    </tr>\n",
       "    <tr>\n",
       "      <th>17</th>\n",
       "      <td>NaN</td>\n",
       "    </tr>\n",
       "    <tr>\n",
       "      <th>18</th>\n",
       "      <td>NaN</td>\n",
       "    </tr>\n",
       "    <tr>\n",
       "      <th>19</th>\n",
       "      <td>3.788954</td>\n",
       "    </tr>\n",
       "    <tr>\n",
       "      <th>20</th>\n",
       "      <td>NaN</td>\n",
       "    </tr>\n",
       "    <tr>\n",
       "      <th>21</th>\n",
       "      <td>2.666489</td>\n",
       "    </tr>\n",
       "    <tr>\n",
       "      <th>22</th>\n",
       "      <td>NaN</td>\n",
       "    </tr>\n",
       "    <tr>\n",
       "      <th>23</th>\n",
       "      <td>NaN</td>\n",
       "    </tr>\n",
       "    <tr>\n",
       "      <th>24</th>\n",
       "      <td>NaN</td>\n",
       "    </tr>\n",
       "  </tbody>\n",
       "</table>\n",
       "</div>"
      ],
      "text/plain": [
       "    distance\n",
       "0        NaN\n",
       "1        NaN\n",
       "2        NaN\n",
       "3        NaN\n",
       "4        NaN\n",
       "5        NaN\n",
       "6        NaN\n",
       "7        NaN\n",
       "8        NaN\n",
       "9        NaN\n",
       "10       NaN\n",
       "11       NaN\n",
       "12       NaN\n",
       "13       NaN\n",
       "14       NaN\n",
       "15       NaN\n",
       "16       NaN\n",
       "17       NaN\n",
       "18       NaN\n",
       "19  3.788954\n",
       "20       NaN\n",
       "21  2.666489\n",
       "22       NaN\n",
       "23       NaN\n",
       "24       NaN"
      ]
     },
     "execution_count": 125,
     "metadata": {},
     "output_type": "execute_result"
    }
   ],
   "source": [
    "dist = pd.DataFrame() \n",
    "\n",
    "dist['distance'] = haversine_np(palermo['lon'],palermo['lat'],subte['long'],subte['lat'])\n",
    "dist.head(25)"
   ]
  },
  {
   "cell_type": "code",
   "execution_count": 127,
   "metadata": {},
   "outputs": [],
   "source": [
    "#for loop paara dummy:cercania a estacion de subte"
   ]
  },
  {
   "cell_type": "markdown",
   "metadata": {},
   "source": [
    "<a id=\"section_foursquare\"></a> \n",
    "## Fousquare (Dani)\n",
    "\n",
    "[volver a TOC](#section_toc)"
   ]
  },
  {
   "cell_type": "code",
   "execution_count": null,
   "metadata": {},
   "outputs": [],
   "source": [
    "#stack over formula\n",
    "#https://en.wikipedia.org/wiki/Haversine_formula\n",
    "\n",
    "from math import cos, asin, sqrt, pi\n",
    "\n",
    "def distance(lat1, lon1, lat2, lon2):\n",
    "    p = pi/180\n",
    "    a = 0.5 - cos((lat2-lat1)*p)/2 + cos(lat1*p) * cos(lat2*p) * (1-cos((lon2-lon1)*p))/2\n",
    "    return 12742 * asin(sqrt(a)) #2*R*asin..."
   ]
  },
  {
   "cell_type": "code",
   "execution_count": 128,
   "metadata": {},
   "outputs": [
    {
     "name": "stdout",
     "output_type": "stream",
     "text": [
      "Your credentails:\n",
      "CLIENT_ID: R4IHAX3SZWGI4FBGVPG0GWN3COMXJXBBYZSBEL04NA130FIO\n",
      "CLIENT_SECRET:5M21HY12HU5J4UH0AKW3NPEVY1KQLNL5LD4ZP4MQZ3LFBYF4\n"
     ]
    }
   ],
   "source": [
    "# Define Foursquare Credentials and Version\n",
    "CLIENT_ID = 'R4IHAX3SZWGI4FBGVPG0GWN3COMXJXBBYZSBEL04NA130FIO' # your Foursquare ID\n",
    "CLIENT_SECRET = '5M21HY12HU5J4UH0AKW3NPEVY1KQLNL5LD4ZP4MQZ3LFBYF4' # your Foursquare Secret\n",
    "VERSION = '20200929' # Foursquare API version\n",
    "\n",
    "print('Your credentails:')\n",
    "print('CLIENT_ID: ' + CLIENT_ID)\n",
    "print('CLIENT_SECRET:' + CLIENT_SECRET)\n"
   ]
  },
  {
   "cell_type": "code",
   "execution_count": 129,
   "metadata": {},
   "outputs": [],
   "source": [
    "LIMIT = 1000\n",
    "radius = 500\n",
    "query = 'Metro Station'"
   ]
  },
  {
   "cell_type": "code",
   "execution_count": 130,
   "metadata": {},
   "outputs": [],
   "source": [
    "def metro_stations_near(lat, lon):\n",
    "\n",
    "    url = 'https://api.foursquare.com/v2/venues/explore?&client_id={}&client_secret={}&v={}&ll={},{}&radius={}&limit={}&query={}'.format(\n",
    "        CLIENT_ID, \n",
    "        CLIENT_SECRET, \n",
    "        VERSION, \n",
    "        lat, \n",
    "        lon, \n",
    "        radius, \n",
    "        LIMIT,\n",
    "        query)\n",
    "    \n",
    "    results = requests.get(url).json()\n",
    "    venues = results['response']['totalResults']\n",
    "    \n",
    "    return venues"
   ]
  },
  {
   "cell_type": "code",
   "execution_count": 131,
   "metadata": {},
   "outputs": [
    {
     "ename": "KeyError",
     "evalue": "'totalResults'",
     "output_type": "error",
     "traceback": [
      "\u001b[0;31m---------------------------------------------------------------------------\u001b[0m",
      "\u001b[0;31mKeyError\u001b[0m                                  Traceback (most recent call last)",
      "\u001b[0;32m<ipython-input-131-515c8c084137>\u001b[0m in \u001b[0;36m<module>\u001b[0;34m\u001b[0m\n\u001b[0;32m----> 1\u001b[0;31m \u001b[0mdata\u001b[0m\u001b[0;34m[\u001b[0m\u001b[0;34m'train_sub_stations_near'\u001b[0m\u001b[0;34m]\u001b[0m \u001b[0;34m=\u001b[0m \u001b[0mdf_barrios\u001b[0m\u001b[0;34m.\u001b[0m\u001b[0mapply\u001b[0m\u001b[0;34m(\u001b[0m\u001b[0;32mlambda\u001b[0m \u001b[0mx\u001b[0m\u001b[0;34m:\u001b[0m \u001b[0mmetro_stations_near\u001b[0m\u001b[0;34m(\u001b[0m\u001b[0mx\u001b[0m\u001b[0;34m.\u001b[0m\u001b[0mlat\u001b[0m\u001b[0;34m,\u001b[0m \u001b[0mx\u001b[0m\u001b[0;34m.\u001b[0m\u001b[0mlon\u001b[0m\u001b[0;34m)\u001b[0m\u001b[0;34m,\u001b[0m \u001b[0maxis\u001b[0m\u001b[0;34m=\u001b[0m\u001b[0;36m1\u001b[0m\u001b[0;34m)\u001b[0m\u001b[0;34m\u001b[0m\u001b[0;34m\u001b[0m\u001b[0m\n\u001b[0m",
      "\u001b[0;32m/opt/anaconda3/envs/dhdsblend/lib/python3.7/site-packages/pandas/core/frame.py\u001b[0m in \u001b[0;36mapply\u001b[0;34m(self, func, axis, raw, result_type, args, **kwds)\u001b[0m\n\u001b[1;32m   6876\u001b[0m             \u001b[0mkwds\u001b[0m\u001b[0;34m=\u001b[0m\u001b[0mkwds\u001b[0m\u001b[0;34m,\u001b[0m\u001b[0;34m\u001b[0m\u001b[0;34m\u001b[0m\u001b[0m\n\u001b[1;32m   6877\u001b[0m         )\n\u001b[0;32m-> 6878\u001b[0;31m         \u001b[0;32mreturn\u001b[0m \u001b[0mop\u001b[0m\u001b[0;34m.\u001b[0m\u001b[0mget_result\u001b[0m\u001b[0;34m(\u001b[0m\u001b[0;34m)\u001b[0m\u001b[0;34m\u001b[0m\u001b[0;34m\u001b[0m\u001b[0m\n\u001b[0m\u001b[1;32m   6879\u001b[0m \u001b[0;34m\u001b[0m\u001b[0m\n\u001b[1;32m   6880\u001b[0m     \u001b[0;32mdef\u001b[0m \u001b[0mapplymap\u001b[0m\u001b[0;34m(\u001b[0m\u001b[0mself\u001b[0m\u001b[0;34m,\u001b[0m \u001b[0mfunc\u001b[0m\u001b[0;34m)\u001b[0m \u001b[0;34m->\u001b[0m \u001b[0;34m\"DataFrame\"\u001b[0m\u001b[0;34m:\u001b[0m\u001b[0;34m\u001b[0m\u001b[0;34m\u001b[0m\u001b[0m\n",
      "\u001b[0;32m/opt/anaconda3/envs/dhdsblend/lib/python3.7/site-packages/pandas/core/apply.py\u001b[0m in \u001b[0;36mget_result\u001b[0;34m(self)\u001b[0m\n\u001b[1;32m    184\u001b[0m             \u001b[0;32mreturn\u001b[0m \u001b[0mself\u001b[0m\u001b[0;34m.\u001b[0m\u001b[0mapply_raw\u001b[0m\u001b[0;34m(\u001b[0m\u001b[0;34m)\u001b[0m\u001b[0;34m\u001b[0m\u001b[0;34m\u001b[0m\u001b[0m\n\u001b[1;32m    185\u001b[0m \u001b[0;34m\u001b[0m\u001b[0m\n\u001b[0;32m--> 186\u001b[0;31m         \u001b[0;32mreturn\u001b[0m \u001b[0mself\u001b[0m\u001b[0;34m.\u001b[0m\u001b[0mapply_standard\u001b[0m\u001b[0;34m(\u001b[0m\u001b[0;34m)\u001b[0m\u001b[0;34m\u001b[0m\u001b[0;34m\u001b[0m\u001b[0m\n\u001b[0m\u001b[1;32m    187\u001b[0m \u001b[0;34m\u001b[0m\u001b[0m\n\u001b[1;32m    188\u001b[0m     \u001b[0;32mdef\u001b[0m \u001b[0mapply_empty_result\u001b[0m\u001b[0;34m(\u001b[0m\u001b[0mself\u001b[0m\u001b[0;34m)\u001b[0m\u001b[0;34m:\u001b[0m\u001b[0;34m\u001b[0m\u001b[0;34m\u001b[0m\u001b[0m\n",
      "\u001b[0;32m/opt/anaconda3/envs/dhdsblend/lib/python3.7/site-packages/pandas/core/apply.py\u001b[0m in \u001b[0;36mapply_standard\u001b[0;34m(self)\u001b[0m\n\u001b[1;32m    311\u001b[0m \u001b[0;34m\u001b[0m\u001b[0m\n\u001b[1;32m    312\u001b[0m         \u001b[0;31m# compute the result using the series generator\u001b[0m\u001b[0;34m\u001b[0m\u001b[0;34m\u001b[0m\u001b[0;34m\u001b[0m\u001b[0m\n\u001b[0;32m--> 313\u001b[0;31m         \u001b[0mresults\u001b[0m\u001b[0;34m,\u001b[0m \u001b[0mres_index\u001b[0m \u001b[0;34m=\u001b[0m \u001b[0mself\u001b[0m\u001b[0;34m.\u001b[0m\u001b[0mapply_series_generator\u001b[0m\u001b[0;34m(\u001b[0m\u001b[0;34m)\u001b[0m\u001b[0;34m\u001b[0m\u001b[0;34m\u001b[0m\u001b[0m\n\u001b[0m\u001b[1;32m    314\u001b[0m \u001b[0;34m\u001b[0m\u001b[0m\n\u001b[1;32m    315\u001b[0m         \u001b[0;31m# wrap results\u001b[0m\u001b[0;34m\u001b[0m\u001b[0;34m\u001b[0m\u001b[0;34m\u001b[0m\u001b[0m\n",
      "\u001b[0;32m/opt/anaconda3/envs/dhdsblend/lib/python3.7/site-packages/pandas/core/apply.py\u001b[0m in \u001b[0;36mapply_series_generator\u001b[0;34m(self)\u001b[0m\n\u001b[1;32m    339\u001b[0m         \u001b[0;32melse\u001b[0m\u001b[0;34m:\u001b[0m\u001b[0;34m\u001b[0m\u001b[0;34m\u001b[0m\u001b[0m\n\u001b[1;32m    340\u001b[0m             \u001b[0;32mfor\u001b[0m \u001b[0mi\u001b[0m\u001b[0;34m,\u001b[0m \u001b[0mv\u001b[0m \u001b[0;32min\u001b[0m \u001b[0menumerate\u001b[0m\u001b[0;34m(\u001b[0m\u001b[0mseries_gen\u001b[0m\u001b[0;34m)\u001b[0m\u001b[0;34m:\u001b[0m\u001b[0;34m\u001b[0m\u001b[0;34m\u001b[0m\u001b[0m\n\u001b[0;32m--> 341\u001b[0;31m                 \u001b[0mresults\u001b[0m\u001b[0;34m[\u001b[0m\u001b[0mi\u001b[0m\u001b[0;34m]\u001b[0m \u001b[0;34m=\u001b[0m \u001b[0mself\u001b[0m\u001b[0;34m.\u001b[0m\u001b[0mf\u001b[0m\u001b[0;34m(\u001b[0m\u001b[0mv\u001b[0m\u001b[0;34m)\u001b[0m\u001b[0;34m\u001b[0m\u001b[0;34m\u001b[0m\u001b[0m\n\u001b[0m\u001b[1;32m    342\u001b[0m                 \u001b[0mkeys\u001b[0m\u001b[0;34m.\u001b[0m\u001b[0mappend\u001b[0m\u001b[0;34m(\u001b[0m\u001b[0mv\u001b[0m\u001b[0;34m.\u001b[0m\u001b[0mname\u001b[0m\u001b[0;34m)\u001b[0m\u001b[0;34m\u001b[0m\u001b[0;34m\u001b[0m\u001b[0m\n\u001b[1;32m    343\u001b[0m \u001b[0;34m\u001b[0m\u001b[0m\n",
      "\u001b[0;32m<ipython-input-131-515c8c084137>\u001b[0m in \u001b[0;36m<lambda>\u001b[0;34m(x)\u001b[0m\n\u001b[0;32m----> 1\u001b[0;31m \u001b[0mdata\u001b[0m\u001b[0;34m[\u001b[0m\u001b[0;34m'train_sub_stations_near'\u001b[0m\u001b[0;34m]\u001b[0m \u001b[0;34m=\u001b[0m \u001b[0mdf_barrios\u001b[0m\u001b[0;34m.\u001b[0m\u001b[0mapply\u001b[0m\u001b[0;34m(\u001b[0m\u001b[0;32mlambda\u001b[0m \u001b[0mx\u001b[0m\u001b[0;34m:\u001b[0m \u001b[0mmetro_stations_near\u001b[0m\u001b[0;34m(\u001b[0m\u001b[0mx\u001b[0m\u001b[0;34m.\u001b[0m\u001b[0mlat\u001b[0m\u001b[0;34m,\u001b[0m \u001b[0mx\u001b[0m\u001b[0;34m.\u001b[0m\u001b[0mlon\u001b[0m\u001b[0;34m)\u001b[0m\u001b[0;34m,\u001b[0m \u001b[0maxis\u001b[0m\u001b[0;34m=\u001b[0m\u001b[0;36m1\u001b[0m\u001b[0;34m)\u001b[0m\u001b[0;34m\u001b[0m\u001b[0;34m\u001b[0m\u001b[0m\n\u001b[0m",
      "\u001b[0;32m<ipython-input-130-d0b4fa29b172>\u001b[0m in \u001b[0;36mmetro_stations_near\u001b[0;34m(lat, lon)\u001b[0m\n\u001b[1;32m     12\u001b[0m \u001b[0;34m\u001b[0m\u001b[0m\n\u001b[1;32m     13\u001b[0m     \u001b[0mresults\u001b[0m \u001b[0;34m=\u001b[0m \u001b[0mrequests\u001b[0m\u001b[0;34m.\u001b[0m\u001b[0mget\u001b[0m\u001b[0;34m(\u001b[0m\u001b[0murl\u001b[0m\u001b[0;34m)\u001b[0m\u001b[0;34m.\u001b[0m\u001b[0mjson\u001b[0m\u001b[0;34m(\u001b[0m\u001b[0;34m)\u001b[0m\u001b[0;34m\u001b[0m\u001b[0;34m\u001b[0m\u001b[0m\n\u001b[0;32m---> 14\u001b[0;31m     \u001b[0mvenues\u001b[0m \u001b[0;34m=\u001b[0m \u001b[0mresults\u001b[0m\u001b[0;34m[\u001b[0m\u001b[0;34m'response'\u001b[0m\u001b[0;34m]\u001b[0m\u001b[0;34m[\u001b[0m\u001b[0;34m'totalResults'\u001b[0m\u001b[0;34m]\u001b[0m\u001b[0;34m\u001b[0m\u001b[0;34m\u001b[0m\u001b[0m\n\u001b[0m\u001b[1;32m     15\u001b[0m \u001b[0;34m\u001b[0m\u001b[0m\n\u001b[1;32m     16\u001b[0m     \u001b[0;32mreturn\u001b[0m \u001b[0mvenues\u001b[0m\u001b[0;34m\u001b[0m\u001b[0;34m\u001b[0m\u001b[0m\n",
      "\u001b[0;31mKeyError\u001b[0m: 'totalResults'"
     ]
    }
   ],
   "source": [
    "data['train_sub_stations_near'] = df_barrios.apply(lambda x: metro_stations_near(x.lat, x.lon), axis=1)"
   ]
  },
  {
   "cell_type": "code",
   "execution_count": null,
   "metadata": {},
   "outputs": [],
   "source": []
  }
 ],
 "metadata": {
  "kernelspec": {
   "display_name": "Python 3",
   "language": "python",
   "name": "python3"
  },
  "language_info": {
   "codemirror_mode": {
    "name": "ipython",
    "version": 3
   },
   "file_extension": ".py",
   "mimetype": "text/x-python",
   "name": "python",
   "nbconvert_exporter": "python",
   "pygments_lexer": "ipython3",
   "version": "3.7.7"
  }
 },
 "nbformat": 4,
 "nbformat_minor": 4
}
