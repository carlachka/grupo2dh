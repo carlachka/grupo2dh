{
 "cells": [
  {
   "cell_type": "markdown",
   "metadata": {},
   "source": [
    "<a id=\"section_toc\"></a> \n",
    "## Tabla de Contenidos\n",
    "\n",
    "[Consigna](#section_consigna)\n",
    "\n",
    "Data sets \n",
    "\n",
    "[Dataset_full](#section_full_dataset)\n",
    "\n",
    "[Dataset_CABA](#section_CABA)\n",
    "\n",
    "[Dataset_BPC](#section_BPC)\n",
    "\n",
    "[Dataset_Belgrano](#section_bel)\n",
    "\n",
    "\n",
    "Filtros\n",
    "\n",
    "[Columnas - 1er filtro](#section_col1)\n",
    "\n",
    "[Columnas_ - agrupacion x tipo de dato](#section_col2)\n",
    "\n",
    "[Filtro - Apartments en USD](#section_ap_usd)\n",
    "\n",
    "   \n",
    "Analisis descriptivo (EDA)\n",
    "\n",
    "[pre - limpieza](#section_EDA)\n",
    "\n",
    "[price_usd_per_m2 - target: IQR 0.75q](#section_iqr)\n",
    "\n",
    "[price_usd_per_m2 - target](#section_price_1000)\n",
    "\n",
    "[missing_dependientes](#section_deteccion_faltantes)\n",
    "\n",
    "[price_per_m2](#section_price2)\n",
    "\n",
    "[surface_covered_in_m2](#section_surface)\n",
    "\n",
    "[expenses](#section_exp)\n",
    "\n",
    "[room](#section_room)\n",
    "\n",
    "[floor](#section_floor)\n",
    "\n",
    "$\\hspace{.5cm}$[Imputación](#section_imputacion)\n",
    "\n",
    "\n",
    "\n",
    "[Analisis lat lon](#section_lat_lon)\n",
    "\n",
    "\n",
    "\n",
    "[Duplicados](#section_duplicados)\n",
    "\n",
    "[Nuevas_columnas](#section_nuevas)\n",
    "\n",
    "[Agregacion de data externa](#section_externa)"
   ]
  },
  {
   "cell_type": "markdown",
   "metadata": {},
   "source": [
    "\n",
    "\n",
    "<a id=\"section_consigna\"></a> \n",
    "## Consigna\n",
    "\n",
    "[volver a TOC](#section_toc)\n",
    "\n",
    "**Properati. Workshop 1**\n",
    "\n",
    "y = precio por metro cuadrado de una propiedad en USD\n",
    "\n",
    "El dataset de Properati es de tamaño entre pequeño y mediano, pero tiene dos complejidades a las que\n",
    "deberá prestarle atención:\n",
    "* Peso de missing data en algunas variables relevantes.\n",
    "* Será importante tener en cuenta el problema de la influencia espacial en los precios\n",
    "por metro cuadrado. En efecto, es probable que existan diferencias importantes de\n",
    "en las diferentes geografías, barrios y zonas analizadas.\n",
    "\n",
    "\n",
    "Objetivos:\n",
    "* Efectuar una limpieza del dataset provisto. Particularmente, deberá diseñar\n",
    "estrategias para lidiar con los datos perdidos en ciertas variables.\n",
    "* Realizar un análisis descriptivo de las principales variables.\n",
    "* Crear nuevas columnas a partir de las características dadas que puedan tener valor predictivo."
   ]
  },
  {
   "cell_type": "code",
   "execution_count": 1,
   "metadata": {},
   "outputs": [],
   "source": [
    "import pandas as pd\n",
    "import numpy as np\n",
    "\n",
    "import matplotlib as mpl\n",
    "import matplotlib.pyplot as plt\n",
    "import seaborn as sns\n",
    "#import missingno as msno\n",
    "import requests\n",
    "sns.set() #par que es?"
   ]
  },
  {
   "cell_type": "markdown",
   "metadata": {},
   "source": [
    "<a id=\"section_full_dataset\"></a> \n",
    "## Dataset full\n",
    "\n",
    "[volver a TOC](#section_toc)"
   ]
  },
  {
   "cell_type": "code",
   "execution_count": 2,
   "metadata": {},
   "outputs": [],
   "source": [
    "df = pd.read_csv(\"properati.csv\", index_col=0)"
   ]
  },
  {
   "cell_type": "markdown",
   "metadata": {},
   "source": [
    "El dataset contiene información sobre todas las propiedades georeferenciadas de la base\n",
    "de datos de la empresa. La información de cada propiedad que incluye es la siguiente:\n",
    "* Fecha de creación\n",
    "* Tipo de la propiedad (house, apartment, ph)\n",
    "* Operación del aviso (sell, rent)\n",
    "* Nombre del lugar\n",
    "* Nombre del lugar + nombre de sus ‘padres’\n",
    "* ID de geonames del lugar (si está disponible)\n",
    "* Latitud,Longitud\n",
    "* Precio original del aviso\n",
    "* Moneda original del aviso (ARS, USD)\n",
    "* Precio del aviso en moneda local (ARS)\n",
    "* Precio aproximado en USD\n",
    "* Superficie en m2\n",
    "* Superficie cubierta en m2\n",
    "* Precio en USD/m2\n",
    "* Precio por m2\n",
    "* N° de piso, si corresponde\n",
    "* Ambientes\n",
    "* URL en Properati\n",
    "* Descripción\n",
    "* Título\n",
    "* URL de un thumbnail de la primer foto"
   ]
  },
  {
   "cell_type": "code",
   "execution_count": 3,
   "metadata": {},
   "outputs": [
    {
     "name": "stdout",
     "output_type": "stream",
     "text": [
      "<class 'pandas.core.frame.DataFrame'>\n",
      "Int64Index: 121220 entries, 0 to 121219\n",
      "Data columns (total 25 columns):\n",
      " #   Column                      Non-Null Count   Dtype  \n",
      "---  ------                      --------------   -----  \n",
      " 0   operation                   121220 non-null  object \n",
      " 1   property_type               121220 non-null  object \n",
      " 2   place_name                  121197 non-null  object \n",
      " 3   place_with_parent_names     121220 non-null  object \n",
      " 4   country_name                121220 non-null  object \n",
      " 5   state_name                  121220 non-null  object \n",
      " 6   geonames_id                 102503 non-null  float64\n",
      " 7   lat-lon                     69670 non-null   object \n",
      " 8   lat                         69670 non-null   float64\n",
      " 9   lon                         69670 non-null   float64\n",
      " 10  price                       100810 non-null  float64\n",
      " 11  currency                    100809 non-null  object \n",
      " 12  price_aprox_local_currency  100810 non-null  float64\n",
      " 13  price_aprox_usd             100810 non-null  float64\n",
      " 14  surface_total_in_m2         81892 non-null   float64\n",
      " 15  surface_covered_in_m2       101313 non-null  float64\n",
      " 16  price_usd_per_m2            68617 non-null   float64\n",
      " 17  price_per_m2                87658 non-null   float64\n",
      " 18  floor                       7899 non-null    float64\n",
      " 19  rooms                       47390 non-null   float64\n",
      " 20  expenses                    14262 non-null   float64\n",
      " 21  properati_url               121220 non-null  object \n",
      " 22  description                 121218 non-null  object \n",
      " 23  title                       121220 non-null  object \n",
      " 24  image_thumbnail             118108 non-null  object \n",
      "dtypes: float64(13), object(12)\n",
      "memory usage: 24.0+ MB\n"
     ]
    }
   ],
   "source": [
    "df.info()"
   ]
  },
  {
   "cell_type": "code",
   "execution_count": 4,
   "metadata": {},
   "outputs": [
    {
     "data": {
      "text/html": [
       "<div>\n",
       "<style scoped>\n",
       "    .dataframe tbody tr th:only-of-type {\n",
       "        vertical-align: middle;\n",
       "    }\n",
       "\n",
       "    .dataframe tbody tr th {\n",
       "        vertical-align: top;\n",
       "    }\n",
       "\n",
       "    .dataframe thead th {\n",
       "        text-align: right;\n",
       "    }\n",
       "</style>\n",
       "<table border=\"1\" class=\"dataframe\">\n",
       "  <thead>\n",
       "    <tr style=\"text-align: right;\">\n",
       "      <th></th>\n",
       "      <th>geonames_id</th>\n",
       "      <th>lat</th>\n",
       "      <th>lon</th>\n",
       "      <th>price</th>\n",
       "      <th>price_aprox_local_currency</th>\n",
       "      <th>price_aprox_usd</th>\n",
       "      <th>surface_total_in_m2</th>\n",
       "      <th>surface_covered_in_m2</th>\n",
       "      <th>price_usd_per_m2</th>\n",
       "      <th>price_per_m2</th>\n",
       "      <th>floor</th>\n",
       "      <th>rooms</th>\n",
       "      <th>expenses</th>\n",
       "    </tr>\n",
       "  </thead>\n",
       "  <tbody>\n",
       "    <tr>\n",
       "      <th>count</th>\n",
       "      <td>1.025030e+05</td>\n",
       "      <td>69670.000000</td>\n",
       "      <td>69670.000000</td>\n",
       "      <td>1.008100e+05</td>\n",
       "      <td>1.008100e+05</td>\n",
       "      <td>1.008100e+05</td>\n",
       "      <td>81892.000000</td>\n",
       "      <td>101313.000000</td>\n",
       "      <td>68617.000000</td>\n",
       "      <td>8.765800e+04</td>\n",
       "      <td>7899.000000</td>\n",
       "      <td>47390.000000</td>\n",
       "      <td>1.426200e+04</td>\n",
       "    </tr>\n",
       "    <tr>\n",
       "      <th>mean</th>\n",
       "      <td>3.574442e+06</td>\n",
       "      <td>-34.626210</td>\n",
       "      <td>-59.266290</td>\n",
       "      <td>4.685259e+05</td>\n",
       "      <td>4.229397e+06</td>\n",
       "      <td>2.397006e+05</td>\n",
       "      <td>233.795328</td>\n",
       "      <td>133.050181</td>\n",
       "      <td>2160.086916</td>\n",
       "      <td>6.912216e+03</td>\n",
       "      <td>17.452336</td>\n",
       "      <td>3.080840</td>\n",
       "      <td>5.009234e+03</td>\n",
       "    </tr>\n",
       "    <tr>\n",
       "      <th>std</th>\n",
       "      <td>3.541306e+05</td>\n",
       "      <td>1.980936</td>\n",
       "      <td>2.299922</td>\n",
       "      <td>2.260101e+06</td>\n",
       "      <td>6.904714e+06</td>\n",
       "      <td>3.913239e+05</td>\n",
       "      <td>1782.222147</td>\n",
       "      <td>724.351479</td>\n",
       "      <td>2759.288621</td>\n",
       "      <td>2.837864e+04</td>\n",
       "      <td>120.243621</td>\n",
       "      <td>1.860773</td>\n",
       "      <td>1.204403e+05</td>\n",
       "    </tr>\n",
       "    <tr>\n",
       "      <th>min</th>\n",
       "      <td>3.427208e+06</td>\n",
       "      <td>-54.823985</td>\n",
       "      <td>-75.678931</td>\n",
       "      <td>0.000000e+00</td>\n",
       "      <td>0.000000e+00</td>\n",
       "      <td>0.000000e+00</td>\n",
       "      <td>0.000000</td>\n",
       "      <td>0.000000</td>\n",
       "      <td>0.600000</td>\n",
       "      <td>1.510204e+00</td>\n",
       "      <td>1.000000</td>\n",
       "      <td>1.000000</td>\n",
       "      <td>1.000000e+00</td>\n",
       "    </tr>\n",
       "    <tr>\n",
       "      <th>25%</th>\n",
       "      <td>3.430234e+06</td>\n",
       "      <td>-34.669065</td>\n",
       "      <td>-58.727040</td>\n",
       "      <td>1.100000e+05</td>\n",
       "      <td>1.583309e+06</td>\n",
       "      <td>8.973388e+04</td>\n",
       "      <td>50.000000</td>\n",
       "      <td>45.000000</td>\n",
       "      <td>1218.181818</td>\n",
       "      <td>1.550000e+03</td>\n",
       "      <td>1.000000</td>\n",
       "      <td>2.000000</td>\n",
       "      <td>1.000000e+03</td>\n",
       "    </tr>\n",
       "    <tr>\n",
       "      <th>50%</th>\n",
       "      <td>3.433910e+06</td>\n",
       "      <td>-34.597985</td>\n",
       "      <td>-58.480128</td>\n",
       "      <td>1.850000e+05</td>\n",
       "      <td>2.558452e+06</td>\n",
       "      <td>1.450000e+05</td>\n",
       "      <td>84.000000</td>\n",
       "      <td>75.000000</td>\n",
       "      <td>1800.000000</td>\n",
       "      <td>2.213115e+03</td>\n",
       "      <td>3.000000</td>\n",
       "      <td>3.000000</td>\n",
       "      <td>2.000000e+03</td>\n",
       "    </tr>\n",
       "    <tr>\n",
       "      <th>75%</th>\n",
       "      <td>3.836668e+06</td>\n",
       "      <td>-34.441299</td>\n",
       "      <td>-58.395908</td>\n",
       "      <td>4.200000e+05</td>\n",
       "      <td>4.675792e+06</td>\n",
       "      <td>2.650000e+05</td>\n",
       "      <td>200.000000</td>\n",
       "      <td>150.000000</td>\n",
       "      <td>2486.411765</td>\n",
       "      <td>3.355549e+03</td>\n",
       "      <td>6.000000</td>\n",
       "      <td>4.000000</td>\n",
       "      <td>4.000000e+03</td>\n",
       "    </tr>\n",
       "    <tr>\n",
       "      <th>max</th>\n",
       "      <td>6.948895e+06</td>\n",
       "      <td>4.545843</td>\n",
       "      <td>-53.733330</td>\n",
       "      <td>6.500000e+08</td>\n",
       "      <td>8.212711e+08</td>\n",
       "      <td>4.654544e+07</td>\n",
       "      <td>200000.000000</td>\n",
       "      <td>187000.000000</td>\n",
       "      <td>206333.333333</td>\n",
       "      <td>4.000000e+06</td>\n",
       "      <td>3150.000000</td>\n",
       "      <td>32.000000</td>\n",
       "      <td>1.000150e+07</td>\n",
       "    </tr>\n",
       "  </tbody>\n",
       "</table>\n",
       "</div>"
      ],
      "text/plain": [
       "        geonames_id           lat           lon         price  \\\n",
       "count  1.025030e+05  69670.000000  69670.000000  1.008100e+05   \n",
       "mean   3.574442e+06    -34.626210    -59.266290  4.685259e+05   \n",
       "std    3.541306e+05      1.980936      2.299922  2.260101e+06   \n",
       "min    3.427208e+06    -54.823985    -75.678931  0.000000e+00   \n",
       "25%    3.430234e+06    -34.669065    -58.727040  1.100000e+05   \n",
       "50%    3.433910e+06    -34.597985    -58.480128  1.850000e+05   \n",
       "75%    3.836668e+06    -34.441299    -58.395908  4.200000e+05   \n",
       "max    6.948895e+06      4.545843    -53.733330  6.500000e+08   \n",
       "\n",
       "       price_aprox_local_currency  price_aprox_usd  surface_total_in_m2  \\\n",
       "count                1.008100e+05     1.008100e+05         81892.000000   \n",
       "mean                 4.229397e+06     2.397006e+05           233.795328   \n",
       "std                  6.904714e+06     3.913239e+05          1782.222147   \n",
       "min                  0.000000e+00     0.000000e+00             0.000000   \n",
       "25%                  1.583309e+06     8.973388e+04            50.000000   \n",
       "50%                  2.558452e+06     1.450000e+05            84.000000   \n",
       "75%                  4.675792e+06     2.650000e+05           200.000000   \n",
       "max                  8.212711e+08     4.654544e+07        200000.000000   \n",
       "\n",
       "       surface_covered_in_m2  price_usd_per_m2  price_per_m2        floor  \\\n",
       "count          101313.000000      68617.000000  8.765800e+04  7899.000000   \n",
       "mean              133.050181       2160.086916  6.912216e+03    17.452336   \n",
       "std               724.351479       2759.288621  2.837864e+04   120.243621   \n",
       "min                 0.000000          0.600000  1.510204e+00     1.000000   \n",
       "25%                45.000000       1218.181818  1.550000e+03     1.000000   \n",
       "50%                75.000000       1800.000000  2.213115e+03     3.000000   \n",
       "75%               150.000000       2486.411765  3.355549e+03     6.000000   \n",
       "max            187000.000000     206333.333333  4.000000e+06  3150.000000   \n",
       "\n",
       "              rooms      expenses  \n",
       "count  47390.000000  1.426200e+04  \n",
       "mean       3.080840  5.009234e+03  \n",
       "std        1.860773  1.204403e+05  \n",
       "min        1.000000  1.000000e+00  \n",
       "25%        2.000000  1.000000e+03  \n",
       "50%        3.000000  2.000000e+03  \n",
       "75%        4.000000  4.000000e+03  \n",
       "max       32.000000  1.000150e+07  "
      ]
     },
     "execution_count": 4,
     "metadata": {},
     "output_type": "execute_result"
    }
   ],
   "source": [
    "df.describe()"
   ]
  },
  {
   "cell_type": "code",
   "execution_count": 5,
   "metadata": {},
   "outputs": [
    {
     "data": {
      "text/plain": [
       "Córdoba          9254\n",
       "Rosario          8504\n",
       "Mar del Plata    6534\n",
       "Tigre            3324\n",
       "Nordelta         3315\n",
       "Belgrano         2992\n",
       "Palermo          2885\n",
       "La Plata         2534\n",
       "Caballito        2273\n",
       "Pilar            2228\n",
       "Name: place_name, dtype: int64"
      ]
     },
     "execution_count": 5,
     "metadata": {},
     "output_type": "execute_result"
    }
   ],
   "source": [
    "df.place_name.value_counts().head(10)"
   ]
  },
  {
   "cell_type": "code",
   "execution_count": 6,
   "metadata": {},
   "outputs": [
    {
     "name": "stdout",
     "output_type": "stream",
     "text": [
      "Index(['operation', 'property_type', 'place_name', 'place_with_parent_names',\n",
      "       'country_name', 'state_name', 'geonames_id', 'lat-lon', 'lat', 'lon',\n",
      "       'price', 'currency', 'price_aprox_local_currency', 'price_aprox_usd',\n",
      "       'surface_total_in_m2', 'surface_covered_in_m2', 'price_usd_per_m2',\n",
      "       'price_per_m2', 'floor', 'rooms', 'expenses', 'properati_url',\n",
      "       'description', 'title', 'image_thumbnail'],\n",
      "      dtype='object')\n"
     ]
    }
   ],
   "source": [
    "#print(df.shape)\n",
    "print(df.columns)\n",
    "#print(df.dtypes)"
   ]
  },
  {
   "cell_type": "markdown",
   "metadata": {},
   "source": [
    "\n",
    "<a id=\"section_CABA\"></a> \n",
    "## CABA\n",
    "\n",
    "[volver a TOC](#section_toc)"
   ]
  },
  {
   "cell_type": "code",
   "execution_count": 7,
   "metadata": {},
   "outputs": [
    {
     "data": {
      "text/plain": [
       "Capital Federal    32316\n",
       "Name: state_name, dtype: int64"
      ]
     },
     "execution_count": 7,
     "metadata": {},
     "output_type": "execute_result"
    }
   ],
   "source": [
    "caba = df.loc[df.state_name == 'Capital Federal', :]\n",
    "caba.head(3)\n",
    "type(caba)\n",
    "caba.state_name.value_counts()"
   ]
  },
  {
   "cell_type": "code",
   "execution_count": 8,
   "metadata": {},
   "outputs": [
    {
     "data": {
      "text/html": [
       "<div>\n",
       "<style scoped>\n",
       "    .dataframe tbody tr th:only-of-type {\n",
       "        vertical-align: middle;\n",
       "    }\n",
       "\n",
       "    .dataframe tbody tr th {\n",
       "        vertical-align: top;\n",
       "    }\n",
       "\n",
       "    .dataframe thead tr th {\n",
       "        text-align: left;\n",
       "    }\n",
       "\n",
       "    .dataframe thead tr:last-of-type th {\n",
       "        text-align: right;\n",
       "    }\n",
       "</style>\n",
       "<table border=\"1\" class=\"dataframe\">\n",
       "  <thead>\n",
       "    <tr>\n",
       "      <th></th>\n",
       "      <th></th>\n",
       "      <th colspan=\"3\" halign=\"left\">price</th>\n",
       "      <th>rooms</th>\n",
       "      <th colspan=\"3\" halign=\"left\">surface_covered_in_m2</th>\n",
       "    </tr>\n",
       "    <tr>\n",
       "      <th></th>\n",
       "      <th></th>\n",
       "      <th>mean</th>\n",
       "      <th>median</th>\n",
       "      <th>std</th>\n",
       "      <th>count</th>\n",
       "      <th>mean</th>\n",
       "      <th>median</th>\n",
       "      <th>std</th>\n",
       "    </tr>\n",
       "    <tr>\n",
       "      <th>place_name</th>\n",
       "      <th>rooms</th>\n",
       "      <th></th>\n",
       "      <th></th>\n",
       "      <th></th>\n",
       "      <th></th>\n",
       "      <th></th>\n",
       "      <th></th>\n",
       "      <th></th>\n",
       "    </tr>\n",
       "  </thead>\n",
       "  <tbody>\n",
       "    <tr>\n",
       "      <th rowspan=\"5\" valign=\"top\">Abasto</th>\n",
       "      <th>1.0</th>\n",
       "      <td>66583.33</td>\n",
       "      <td>62000.0</td>\n",
       "      <td>16597.96</td>\n",
       "      <td>12</td>\n",
       "      <td>33.27</td>\n",
       "      <td>30.0</td>\n",
       "      <td>7.82</td>\n",
       "    </tr>\n",
       "    <tr>\n",
       "      <th>2.0</th>\n",
       "      <td>93241.67</td>\n",
       "      <td>79450.0</td>\n",
       "      <td>32499.50</td>\n",
       "      <td>12</td>\n",
       "      <td>41.25</td>\n",
       "      <td>42.5</td>\n",
       "      <td>8.21</td>\n",
       "    </tr>\n",
       "    <tr>\n",
       "      <th>3.0</th>\n",
       "      <td>144352.94</td>\n",
       "      <td>139500.0</td>\n",
       "      <td>41936.99</td>\n",
       "      <td>17</td>\n",
       "      <td>71.25</td>\n",
       "      <td>67.5</td>\n",
       "      <td>19.36</td>\n",
       "    </tr>\n",
       "    <tr>\n",
       "      <th>4.0</th>\n",
       "      <td>154375.00</td>\n",
       "      <td>160000.0</td>\n",
       "      <td>13146.84</td>\n",
       "      <td>17</td>\n",
       "      <td>35.00</td>\n",
       "      <td>5.0</td>\n",
       "      <td>33.50</td>\n",
       "    </tr>\n",
       "    <tr>\n",
       "      <th>5.0</th>\n",
       "      <td>234633.33</td>\n",
       "      <td>244000.0</td>\n",
       "      <td>26235.54</td>\n",
       "      <td>3</td>\n",
       "      <td>119.67</td>\n",
       "      <td>104.0</td>\n",
       "      <td>36.14</td>\n",
       "    </tr>\n",
       "    <tr>\n",
       "      <th>...</th>\n",
       "      <th>...</th>\n",
       "      <td>...</td>\n",
       "      <td>...</td>\n",
       "      <td>...</td>\n",
       "      <td>...</td>\n",
       "      <td>...</td>\n",
       "      <td>...</td>\n",
       "      <td>...</td>\n",
       "    </tr>\n",
       "    <tr>\n",
       "      <th rowspan=\"5\" valign=\"top\">Villa del Parque</th>\n",
       "      <th>4.0</th>\n",
       "      <td>251179.07</td>\n",
       "      <td>223000.0</td>\n",
       "      <td>100646.70</td>\n",
       "      <td>44</td>\n",
       "      <td>100.56</td>\n",
       "      <td>93.0</td>\n",
       "      <td>45.34</td>\n",
       "    </tr>\n",
       "    <tr>\n",
       "      <th>5.0</th>\n",
       "      <td>492500.00</td>\n",
       "      <td>520000.0</td>\n",
       "      <td>161941.35</td>\n",
       "      <td>4</td>\n",
       "      <td>159.75</td>\n",
       "      <td>192.5</td>\n",
       "      <td>98.83</td>\n",
       "    </tr>\n",
       "    <tr>\n",
       "      <th>6.0</th>\n",
       "      <td>413333.33</td>\n",
       "      <td>370000.0</td>\n",
       "      <td>92915.73</td>\n",
       "      <td>4</td>\n",
       "      <td>163.50</td>\n",
       "      <td>112.0</td>\n",
       "      <td>185.82</td>\n",
       "    </tr>\n",
       "    <tr>\n",
       "      <th>7.0</th>\n",
       "      <td>320000.00</td>\n",
       "      <td>320000.0</td>\n",
       "      <td>0.00</td>\n",
       "      <td>3</td>\n",
       "      <td>377.33</td>\n",
       "      <td>481.0</td>\n",
       "      <td>179.56</td>\n",
       "    </tr>\n",
       "    <tr>\n",
       "      <th>8.0</th>\n",
       "      <td>435000.00</td>\n",
       "      <td>435000.0</td>\n",
       "      <td>91923.88</td>\n",
       "      <td>2</td>\n",
       "      <td>20.00</td>\n",
       "      <td>20.0</td>\n",
       "      <td>0.00</td>\n",
       "    </tr>\n",
       "  </tbody>\n",
       "</table>\n",
       "<p>468 rows × 7 columns</p>\n",
       "</div>"
      ],
      "text/plain": [
       "                            price                      rooms  \\\n",
       "                             mean    median        std count   \n",
       "place_name       rooms                                         \n",
       "Abasto           1.0     66583.33   62000.0   16597.96    12   \n",
       "                 2.0     93241.67   79450.0   32499.50    12   \n",
       "                 3.0    144352.94  139500.0   41936.99    17   \n",
       "                 4.0    154375.00  160000.0   13146.84    17   \n",
       "                 5.0    234633.33  244000.0   26235.54     3   \n",
       "...                           ...       ...        ...   ...   \n",
       "Villa del Parque 4.0    251179.07  223000.0  100646.70    44   \n",
       "                 5.0    492500.00  520000.0  161941.35     4   \n",
       "                 6.0    413333.33  370000.0   92915.73     4   \n",
       "                 7.0    320000.00  320000.0       0.00     3   \n",
       "                 8.0    435000.00  435000.0   91923.88     2   \n",
       "\n",
       "                       surface_covered_in_m2                 \n",
       "                                        mean median     std  \n",
       "place_name       rooms                                       \n",
       "Abasto           1.0                   33.27   30.0    7.82  \n",
       "                 2.0                   41.25   42.5    8.21  \n",
       "                 3.0                   71.25   67.5   19.36  \n",
       "                 4.0                   35.00    5.0   33.50  \n",
       "                 5.0                  119.67  104.0   36.14  \n",
       "...                                      ...    ...     ...  \n",
       "Villa del Parque 4.0                  100.56   93.0   45.34  \n",
       "                 5.0                  159.75  192.5   98.83  \n",
       "                 6.0                  163.50  112.0  185.82  \n",
       "                 7.0                  377.33  481.0  179.56  \n",
       "                 8.0                   20.00   20.0    0.00  \n",
       "\n",
       "[468 rows x 7 columns]"
      ]
     },
     "execution_count": 8,
     "metadata": {},
     "output_type": "execute_result"
    }
   ],
   "source": [
    "caba.pivot_table(index=['place_name', 'rooms'], \n",
    "                                aggfunc={'rooms': 'count', \n",
    "                                         'price': ['mean', 'median', 'std'],\n",
    "                                         'surface_covered_in_m2': ['mean', 'median', 'std']\n",
    "                                         }\n",
    "                                ).round(2)"
   ]
  },
  {
   "cell_type": "markdown",
   "metadata": {},
   "source": [
    "\n",
    "<a id=\"section_BPC\"></a> \n",
    "## Belgrano, Palermo y Caballito\n",
    "\n",
    "[volver a TOC](#section_toc)\n"
   ]
  },
  {
   "cell_type": "markdown",
   "metadata": {},
   "source": [
    "Tomamos como muestra los barrios de Belgrano, Palermo y Caballito. \n",
    "Dentro de CABA, son los barrios con mayor datos disponibles.\n",
    "Asimismo, no poseeen niveles socioeconomicos extremadamente disimiles. "
   ]
  },
  {
   "cell_type": "code",
   "execution_count": 9,
   "metadata": {
    "scrolled": true
   },
   "outputs": [
    {
     "data": {
      "text/html": [
       "<div>\n",
       "<style scoped>\n",
       "    .dataframe tbody tr th:only-of-type {\n",
       "        vertical-align: middle;\n",
       "    }\n",
       "\n",
       "    .dataframe tbody tr th {\n",
       "        vertical-align: top;\n",
       "    }\n",
       "\n",
       "    .dataframe thead th {\n",
       "        text-align: right;\n",
       "    }\n",
       "</style>\n",
       "<table border=\"1\" class=\"dataframe\">\n",
       "  <thead>\n",
       "    <tr style=\"text-align: right;\">\n",
       "      <th></th>\n",
       "      <th>operation</th>\n",
       "      <th>property_type</th>\n",
       "      <th>place_name</th>\n",
       "      <th>place_with_parent_names</th>\n",
       "      <th>country_name</th>\n",
       "      <th>state_name</th>\n",
       "      <th>geonames_id</th>\n",
       "      <th>lat-lon</th>\n",
       "      <th>lat</th>\n",
       "      <th>lon</th>\n",
       "      <th>...</th>\n",
       "      <th>surface_covered_in_m2</th>\n",
       "      <th>price_usd_per_m2</th>\n",
       "      <th>price_per_m2</th>\n",
       "      <th>floor</th>\n",
       "      <th>rooms</th>\n",
       "      <th>expenses</th>\n",
       "      <th>properati_url</th>\n",
       "      <th>description</th>\n",
       "      <th>title</th>\n",
       "      <th>image_thumbnail</th>\n",
       "    </tr>\n",
       "  </thead>\n",
       "  <tbody>\n",
       "    <tr>\n",
       "      <th>7</th>\n",
       "      <td>sell</td>\n",
       "      <td>apartment</td>\n",
       "      <td>Belgrano</td>\n",
       "      <td>|Argentina|Capital Federal|Belgrano|</td>\n",
       "      <td>Argentina</td>\n",
       "      <td>Capital Federal</td>\n",
       "      <td>3436077.0</td>\n",
       "      <td>-34.5598729,-58.443362</td>\n",
       "      <td>-34.559873</td>\n",
       "      <td>-58.443362</td>\n",
       "      <td>...</td>\n",
       "      <td>40.0</td>\n",
       "      <td>3066.666667</td>\n",
       "      <td>3450.000000</td>\n",
       "      <td>NaN</td>\n",
       "      <td>NaN</td>\n",
       "      <td>NaN</td>\n",
       "      <td>http://www.properati.com.ar/15bot_venta_depart...</td>\n",
       "      <td>EXCELENTE MONOAMBIENTE A ESTRENAR AMPLIO SUPER...</td>\n",
       "      <td>JOSE HERNANDEZ 1400 MONOAMBIENTE  ESTRENAR CAT...</td>\n",
       "      <td>https://thumbs4.properati.com/1/IHxARynlr8sPEW...</td>\n",
       "    </tr>\n",
       "    <tr>\n",
       "      <th>8</th>\n",
       "      <td>sell</td>\n",
       "      <td>apartment</td>\n",
       "      <td>Belgrano</td>\n",
       "      <td>|Argentina|Capital Federal|Belgrano|</td>\n",
       "      <td>Argentina</td>\n",
       "      <td>Capital Federal</td>\n",
       "      <td>3436077.0</td>\n",
       "      <td>-34.5598729,-58.443362</td>\n",
       "      <td>-34.559873</td>\n",
       "      <td>-58.443362</td>\n",
       "      <td>...</td>\n",
       "      <td>60.0</td>\n",
       "      <td>3000.000000</td>\n",
       "      <td>3250.000000</td>\n",
       "      <td>NaN</td>\n",
       "      <td>NaN</td>\n",
       "      <td>NaN</td>\n",
       "      <td>http://www.properati.com.ar/15bou_venta_depart...</td>\n",
       "      <td>EXCELENTE DOS AMBIENTES  ESTRENAR AMPLIO SUPER...</td>\n",
       "      <td>JOSE HERNANDEZ   1400 DOS AMBIENTES ESTRENAR ,...</td>\n",
       "      <td>https://thumbs4.properati.com/2/J3zOjgaFHrkvnv...</td>\n",
       "    </tr>\n",
       "    <tr>\n",
       "      <th>19</th>\n",
       "      <td>sell</td>\n",
       "      <td>apartment</td>\n",
       "      <td>Palermo</td>\n",
       "      <td>|Argentina|Capital Federal|Palermo|</td>\n",
       "      <td>Argentina</td>\n",
       "      <td>Capital Federal</td>\n",
       "      <td>3430234.0</td>\n",
       "      <td>-34.580503566,-58.4058744847</td>\n",
       "      <td>-34.580504</td>\n",
       "      <td>-58.405874</td>\n",
       "      <td>...</td>\n",
       "      <td>96.0</td>\n",
       "      <td>3365.384615</td>\n",
       "      <td>3645.833333</td>\n",
       "      <td>NaN</td>\n",
       "      <td>3.0</td>\n",
       "      <td>NaN</td>\n",
       "      <td>http://www.properati.com.ar/15bq8_venta_depart...</td>\n",
       "      <td>Excelente semipiso al contra frente en Bulnes ...</td>\n",
       "      <td>Bulnes y Libertador: espectacular pulmón, con ...</td>\n",
       "      <td>https://thumbs4.properati.com/8/1y9fKHLee-aQQj...</td>\n",
       "    </tr>\n",
       "    <tr>\n",
       "      <th>21</th>\n",
       "      <td>sell</td>\n",
       "      <td>apartment</td>\n",
       "      <td>Palermo</td>\n",
       "      <td>|Argentina|Capital Federal|Palermo|</td>\n",
       "      <td>Argentina</td>\n",
       "      <td>Capital Federal</td>\n",
       "      <td>3430234.0</td>\n",
       "      <td>-34.590926,-58.4116653</td>\n",
       "      <td>-34.590926</td>\n",
       "      <td>-58.411665</td>\n",
       "      <td>...</td>\n",
       "      <td>73.0</td>\n",
       "      <td>2292.372881</td>\n",
       "      <td>3705.479452</td>\n",
       "      <td>NaN</td>\n",
       "      <td>4.0</td>\n",
       "      <td>NaN</td>\n",
       "      <td>http://www.properati.com.ar/15bqd_venta_depart...</td>\n",
       "      <td>EXCELENTE ZONA, MULTIPLES MEDIOS DE TRANSPORTE...</td>\n",
       "      <td>Departamento de 4 ambientes en Venta en Palermo</td>\n",
       "      <td>https://thumbs4.properati.com/0/P6wPIXB1wJFLVU...</td>\n",
       "    </tr>\n",
       "    <tr>\n",
       "      <th>52</th>\n",
       "      <td>sell</td>\n",
       "      <td>apartment</td>\n",
       "      <td>Caballito</td>\n",
       "      <td>|Argentina|Capital Federal|Caballito|</td>\n",
       "      <td>Argentina</td>\n",
       "      <td>Capital Federal</td>\n",
       "      <td>3435874.0</td>\n",
       "      <td>-34.6222111,-58.4391283</td>\n",
       "      <td>-34.622211</td>\n",
       "      <td>-58.439128</td>\n",
       "      <td>...</td>\n",
       "      <td>50.0</td>\n",
       "      <td>2200.000000</td>\n",
       "      <td>2200.000000</td>\n",
       "      <td>NaN</td>\n",
       "      <td>3.0</td>\n",
       "      <td>NaN</td>\n",
       "      <td>http://www.properati.com.ar/15buk_venta_depart...</td>\n",
       "      <td>Departamento de 3 Ambientes al Contrafrente. S...</td>\n",
       "      <td>CABALLITO 3 AMB. EN VENTA Listo para escriturar</td>\n",
       "      <td>https://thumbs4.properati.com/7/eXZg2k6Uq2w8KB...</td>\n",
       "    </tr>\n",
       "  </tbody>\n",
       "</table>\n",
       "<p>5 rows × 25 columns</p>\n",
       "</div>"
      ],
      "text/plain": [
       "   operation property_type place_name                place_with_parent_names  \\\n",
       "7       sell     apartment   Belgrano   |Argentina|Capital Federal|Belgrano|   \n",
       "8       sell     apartment   Belgrano   |Argentina|Capital Federal|Belgrano|   \n",
       "19      sell     apartment    Palermo    |Argentina|Capital Federal|Palermo|   \n",
       "21      sell     apartment    Palermo    |Argentina|Capital Federal|Palermo|   \n",
       "52      sell     apartment  Caballito  |Argentina|Capital Federal|Caballito|   \n",
       "\n",
       "   country_name       state_name  geonames_id                       lat-lon  \\\n",
       "7     Argentina  Capital Federal    3436077.0        -34.5598729,-58.443362   \n",
       "8     Argentina  Capital Federal    3436077.0        -34.5598729,-58.443362   \n",
       "19    Argentina  Capital Federal    3430234.0  -34.580503566,-58.4058744847   \n",
       "21    Argentina  Capital Federal    3430234.0        -34.590926,-58.4116653   \n",
       "52    Argentina  Capital Federal    3435874.0       -34.6222111,-58.4391283   \n",
       "\n",
       "          lat        lon  ...  surface_covered_in_m2 price_usd_per_m2  \\\n",
       "7  -34.559873 -58.443362  ...                   40.0      3066.666667   \n",
       "8  -34.559873 -58.443362  ...                   60.0      3000.000000   \n",
       "19 -34.580504 -58.405874  ...                   96.0      3365.384615   \n",
       "21 -34.590926 -58.411665  ...                   73.0      2292.372881   \n",
       "52 -34.622211 -58.439128  ...                   50.0      2200.000000   \n",
       "\n",
       "    price_per_m2  floor  rooms  expenses  \\\n",
       "7    3450.000000    NaN    NaN       NaN   \n",
       "8    3250.000000    NaN    NaN       NaN   \n",
       "19   3645.833333    NaN    3.0       NaN   \n",
       "21   3705.479452    NaN    4.0       NaN   \n",
       "52   2200.000000    NaN    3.0       NaN   \n",
       "\n",
       "                                        properati_url  \\\n",
       "7   http://www.properati.com.ar/15bot_venta_depart...   \n",
       "8   http://www.properati.com.ar/15bou_venta_depart...   \n",
       "19  http://www.properati.com.ar/15bq8_venta_depart...   \n",
       "21  http://www.properati.com.ar/15bqd_venta_depart...   \n",
       "52  http://www.properati.com.ar/15buk_venta_depart...   \n",
       "\n",
       "                                          description  \\\n",
       "7   EXCELENTE MONOAMBIENTE A ESTRENAR AMPLIO SUPER...   \n",
       "8   EXCELENTE DOS AMBIENTES  ESTRENAR AMPLIO SUPER...   \n",
       "19  Excelente semipiso al contra frente en Bulnes ...   \n",
       "21  EXCELENTE ZONA, MULTIPLES MEDIOS DE TRANSPORTE...   \n",
       "52  Departamento de 3 Ambientes al Contrafrente. S...   \n",
       "\n",
       "                                                title  \\\n",
       "7   JOSE HERNANDEZ 1400 MONOAMBIENTE  ESTRENAR CAT...   \n",
       "8   JOSE HERNANDEZ   1400 DOS AMBIENTES ESTRENAR ,...   \n",
       "19  Bulnes y Libertador: espectacular pulmón, con ...   \n",
       "21    Departamento de 4 ambientes en Venta en Palermo   \n",
       "52    CABALLITO 3 AMB. EN VENTA Listo para escriturar   \n",
       "\n",
       "                                      image_thumbnail  \n",
       "7   https://thumbs4.properati.com/1/IHxARynlr8sPEW...  \n",
       "8   https://thumbs4.properati.com/2/J3zOjgaFHrkvnv...  \n",
       "19  https://thumbs4.properati.com/8/1y9fKHLee-aQQj...  \n",
       "21  https://thumbs4.properati.com/0/P6wPIXB1wJFLVU...  \n",
       "52  https://thumbs4.properati.com/7/eXZg2k6Uq2w8KB...  \n",
       "\n",
       "[5 rows x 25 columns]"
      ]
     },
     "execution_count": 9,
     "metadata": {},
     "output_type": "execute_result"
    }
   ],
   "source": [
    "# 3 barrios\n",
    "df_barrios = caba[(caba['place_name'] == 'Belgrano') | (caba['place_name'] == 'Palermo') | (caba['place_name'] == 'Caballito')]\n",
    "df_barrios.head(5)"
   ]
  },
  {
   "cell_type": "code",
   "execution_count": 10,
   "metadata": {},
   "outputs": [
    {
     "data": {
      "text/plain": [
       "Belgrano     2992\n",
       "Palermo      2885\n",
       "Caballito    2273\n",
       "Name: place_name, dtype: int64"
      ]
     },
     "execution_count": 10,
     "metadata": {},
     "output_type": "execute_result"
    }
   ],
   "source": [
    "df_barrios.place_name.value_counts()"
   ]
  },
  {
   "cell_type": "markdown",
   "metadata": {},
   "source": [
    "<a id=\"section_bel\"></a> \n",
    "## Belgrano\n",
    "\n",
    "[volver a TOC](#section_toc)"
   ]
  },
  {
   "cell_type": "code",
   "execution_count": 11,
   "metadata": {},
   "outputs": [
    {
     "data": {
      "text/plain": [
       "(2992, 25)"
      ]
     },
     "execution_count": 11,
     "metadata": {},
     "output_type": "execute_result"
    }
   ],
   "source": [
    "belgrano = df_barrios.loc[df_barrios.place_name == 'Belgrano', : ]\n",
    "\n",
    "por_nul_p = belgrano.isnull().sum()/belgrano.shape[0]*100\n",
    "\n",
    "belgrano.shape"
   ]
  },
  {
   "cell_type": "markdown",
   "metadata": {},
   "source": [
    "\n",
    "\n",
    "<a id=\"section_col1\"></a> \n",
    "## Columnas 1\n",
    "\n",
    "[volver a TOC](#section_toc)"
   ]
  },
  {
   "cell_type": "markdown",
   "metadata": {},
   "source": [
    "Conclusion de primer filtro de columnas no utiles:\n",
    "\n",
    "* 'operation. todo el dataset tiene valor 'sell'\n",
    "* 'place_with_parent_names' esta pais|estad|barrio todo junto. Ya tenemos esta informacion en place_name en barrio\n",
    "* 'country_name' esta Argentina solo\n",
    "* 'image_thumbnail' no util para predecir\n",
    "* 'lat-lon' repetido, ya esta lat y long.\n",
    "\n",
    "* geomname_id no util\n",
    "* properati_url no util\n"
   ]
  },
  {
   "cell_type": "code",
   "execution_count": 12,
   "metadata": {},
   "outputs": [],
   "source": [
    "#Primer filtro\n",
    "desired_col= ['property_type', 'place_name', 'state_name', 'lat', 'lon', 'price', 'currency',\n",
    "       'price_aprox_local_currency', 'price_aprox_usd', 'surface_total_in_m2',\n",
    "       'surface_covered_in_m2', 'price_usd_per_m2', 'price_per_m2', 'floor',\n",
    "       'rooms', 'expenses', 'description', 'title']\n",
    "#, 'geonames_id' and , 'properati_url'\n",
    "\n",
    "belgrano= belgrano[desired_col]"
   ]
  },
  {
   "cell_type": "markdown",
   "metadata": {},
   "source": [
    "Agrupacion columnas por tipo\n",
    "\n",
    "<a id=\"section_col2\"></a> \n",
    "## Agrupacion columnas 2\n",
    "\n",
    "[volver a TOC](#section_toc)"
   ]
  },
  {
   "cell_type": "code",
   "execution_count": 13,
   "metadata": {},
   "outputs": [],
   "source": [
    "\n",
    "#Segundo filtro columnas_agrupacion\n",
    "\n",
    "#Columnas de precio, posible dependientes\n",
    "price = [\"price\", \"currency\", \"price_aprox_local_currency\", \"price_aprox_usd\", \"price_usd_per_m2\", \"price_per_m2\"]\n",
    "price.remove(\"currency\")\n",
    "#price= df_barrios[price_col]\n",
    "\n",
    "#quant\n",
    "quantitative = [f for f in belgrano.columns if belgrano.dtypes[f] != 'object']\n",
    "#quantitative.remove('geonames_id')\n",
    "quantitative.remove(\"price\")\n",
    "quantitative.remove(\"price_aprox_local_currency\")\n",
    "quantitative.remove(\"price_aprox_usd\")\n",
    "quantitative.remove(\"price_usd_per_m2\")\n",
    "quantitative.remove(\"price_per_m2\")\n",
    "\n",
    "#qual\n",
    "qualitative = [f for f in belgrano.columns if belgrano.dtypes[f] == 'object']\n",
    "qualitative.remove(\"currency\")\n",
    "#qualitative.remove(\"properati_url\")"
   ]
  },
  {
   "cell_type": "code",
   "execution_count": 14,
   "metadata": {},
   "outputs": [
    {
     "name": "stdout",
     "output_type": "stream",
     "text": [
      "['lat', 'lon', 'surface_total_in_m2', 'surface_covered_in_m2', 'floor', 'rooms', 'expenses']\n",
      "['property_type', 'place_name', 'state_name', 'description', 'title']\n",
      "['price', 'price_aprox_local_currency', 'price_aprox_usd', 'price_usd_per_m2', 'price_per_m2']\n"
     ]
    }
   ],
   "source": [
    "print(quantitative)\n",
    "print(qualitative)\n",
    "print(price)"
   ]
  },
  {
   "cell_type": "markdown",
   "metadata": {},
   "source": [
    "<a id=\"section_ap_usd\"></a> \n",
    "## Apartments in USD\n",
    "\n",
    "[volver a TOC](#section_toc)"
   ]
  },
  {
   "cell_type": "markdown",
   "metadata": {},
   "source": [
    "Creamos un nuevo dataframe (df): \n",
    "\n",
    "*   sin tener en cuenta los datos (de precio) expresados unicamente en ARS. El 84% de todos los datos están expresados en USD.\n",
    "*   Seleccionamos los datos sean solo departamentos (apartments) para nuestro analisis, dado que comprende un 91% de las propiedades."
   ]
  },
  {
   "cell_type": "code",
   "execution_count": 15,
   "metadata": {},
   "outputs": [
    {
     "data": {
      "text/plain": [
       "USD    2394\n",
       "ARS     140\n",
       "Name: currency, dtype: int64"
      ]
     },
     "execution_count": 15,
     "metadata": {},
     "output_type": "execute_result"
    }
   ],
   "source": [
    "belgrano.currency.value_counts() #Verificamos cuantos valores estan expresados en pesos argentinos"
   ]
  },
  {
   "cell_type": "code",
   "execution_count": 16,
   "metadata": {},
   "outputs": [
    {
     "data": {
      "text/plain": [
       "2992"
      ]
     },
     "execution_count": 16,
     "metadata": {},
     "output_type": "execute_result"
    }
   ],
   "source": [
    "usd = belgrano.loc[belgrano.currency == \"USD\",['currency']]\n",
    "belgrano.shape[0]"
   ]
  },
  {
   "cell_type": "code",
   "execution_count": 17,
   "metadata": {},
   "outputs": [
    {
     "data": {
      "text/plain": [
       "apartment    2761\n",
       "house         121\n",
       "store          67\n",
       "PH             43\n",
       "Name: property_type, dtype: int64"
      ]
     },
     "execution_count": 17,
     "metadata": {},
     "output_type": "execute_result"
    }
   ],
   "source": [
    "belgrano['property_type'].value_counts()"
   ]
  },
  {
   "cell_type": "code",
   "execution_count": 18,
   "metadata": {},
   "outputs": [
    {
     "name": "stdout",
     "output_type": "stream",
     "text": [
      "84.38036809815951 91.2760736196319\n"
     ]
    }
   ],
   "source": [
    "z = (6877/8150)*100\n",
    "y = (7439/8150)*100\n",
    "print(z,y)"
   ]
  },
  {
   "cell_type": "code",
   "execution_count": 59,
   "metadata": {},
   "outputs": [],
   "source": [
    "bel_usd = belgrano[belgrano['currency'] != 'ARS'] \n",
    "#Creamos un nuevo df sin tener en cuenta los datos con ARS, el 84% estan expresados en USD.\n",
    "bel_usd_apt = bel_usd[bel_usd['property_type'] == 'apartment']\n",
    "#Seleccionamos los datos sean solo departamentos para nuestro analisis, dado que comprende un 91% de las propiedades.\n",
    "#df_barrios_usd_apto.isnull().sum() / df_barrios_usd_apto.shape[0] *100"
   ]
  },
  {
   "cell_type": "code",
   "execution_count": 60,
   "metadata": {
    "scrolled": true
   },
   "outputs": [
    {
     "data": {
      "text/html": [
       "<div>\n",
       "<style scoped>\n",
       "    .dataframe tbody tr th:only-of-type {\n",
       "        vertical-align: middle;\n",
       "    }\n",
       "\n",
       "    .dataframe tbody tr th {\n",
       "        vertical-align: top;\n",
       "    }\n",
       "\n",
       "    .dataframe thead th {\n",
       "        text-align: right;\n",
       "    }\n",
       "</style>\n",
       "<table border=\"1\" class=\"dataframe\">\n",
       "  <thead>\n",
       "    <tr style=\"text-align: right;\">\n",
       "      <th></th>\n",
       "      <th>column_name</th>\n",
       "      <th>missing_count</th>\n",
       "      <th>missing_ratio</th>\n",
       "    </tr>\n",
       "  </thead>\n",
       "  <tbody>\n",
       "    <tr>\n",
       "      <th>0</th>\n",
       "      <td>property_type</td>\n",
       "      <td>0</td>\n",
       "      <td>0.000000</td>\n",
       "    </tr>\n",
       "    <tr>\n",
       "      <th>1</th>\n",
       "      <td>place_name</td>\n",
       "      <td>0</td>\n",
       "      <td>0.000000</td>\n",
       "    </tr>\n",
       "    <tr>\n",
       "      <th>2</th>\n",
       "      <td>state_name</td>\n",
       "      <td>0</td>\n",
       "      <td>0.000000</td>\n",
       "    </tr>\n",
       "    <tr>\n",
       "      <th>3</th>\n",
       "      <td>lat</td>\n",
       "      <td>924</td>\n",
       "      <td>0.113374</td>\n",
       "    </tr>\n",
       "    <tr>\n",
       "      <th>4</th>\n",
       "      <td>lon</td>\n",
       "      <td>924</td>\n",
       "      <td>0.113374</td>\n",
       "    </tr>\n",
       "    <tr>\n",
       "      <th>5</th>\n",
       "      <td>price</td>\n",
       "      <td>423</td>\n",
       "      <td>0.051902</td>\n",
       "    </tr>\n",
       "    <tr>\n",
       "      <th>6</th>\n",
       "      <td>currency</td>\n",
       "      <td>423</td>\n",
       "      <td>0.051902</td>\n",
       "    </tr>\n",
       "    <tr>\n",
       "      <th>7</th>\n",
       "      <td>price_aprox_local_currency</td>\n",
       "      <td>423</td>\n",
       "      <td>0.051902</td>\n",
       "    </tr>\n",
       "    <tr>\n",
       "      <th>8</th>\n",
       "      <td>price_aprox_usd</td>\n",
       "      <td>423</td>\n",
       "      <td>0.051902</td>\n",
       "    </tr>\n",
       "    <tr>\n",
       "      <th>9</th>\n",
       "      <td>surface_total_in_m2</td>\n",
       "      <td>355</td>\n",
       "      <td>0.043558</td>\n",
       "    </tr>\n",
       "    <tr>\n",
       "      <th>10</th>\n",
       "      <td>surface_covered_in_m2</td>\n",
       "      <td>123</td>\n",
       "      <td>0.015092</td>\n",
       "    </tr>\n",
       "    <tr>\n",
       "      <th>11</th>\n",
       "      <td>price_usd_per_m2</td>\n",
       "      <td>763</td>\n",
       "      <td>0.093620</td>\n",
       "    </tr>\n",
       "    <tr>\n",
       "      <th>12</th>\n",
       "      <td>price_per_m2</td>\n",
       "      <td>535</td>\n",
       "      <td>0.065644</td>\n",
       "    </tr>\n",
       "    <tr>\n",
       "      <th>13</th>\n",
       "      <td>floor</td>\n",
       "      <td>2440</td>\n",
       "      <td>0.299387</td>\n",
       "    </tr>\n",
       "    <tr>\n",
       "      <th>14</th>\n",
       "      <td>rooms</td>\n",
       "      <td>1547</td>\n",
       "      <td>0.189816</td>\n",
       "    </tr>\n",
       "    <tr>\n",
       "      <th>15</th>\n",
       "      <td>expenses</td>\n",
       "      <td>1892</td>\n",
       "      <td>0.232147</td>\n",
       "    </tr>\n",
       "    <tr>\n",
       "      <th>16</th>\n",
       "      <td>description</td>\n",
       "      <td>0</td>\n",
       "      <td>0.000000</td>\n",
       "    </tr>\n",
       "    <tr>\n",
       "      <th>17</th>\n",
       "      <td>title</td>\n",
       "      <td>0</td>\n",
       "      <td>0.000000</td>\n",
       "    </tr>\n",
       "  </tbody>\n",
       "</table>\n",
       "</div>"
      ],
      "text/plain": [
       "                   column_name  missing_count  missing_ratio\n",
       "0                property_type              0       0.000000\n",
       "1                   place_name              0       0.000000\n",
       "2                   state_name              0       0.000000\n",
       "3                          lat            924       0.113374\n",
       "4                          lon            924       0.113374\n",
       "5                        price            423       0.051902\n",
       "6                     currency            423       0.051902\n",
       "7   price_aprox_local_currency            423       0.051902\n",
       "8              price_aprox_usd            423       0.051902\n",
       "9          surface_total_in_m2            355       0.043558\n",
       "10       surface_covered_in_m2            123       0.015092\n",
       "11            price_usd_per_m2            763       0.093620\n",
       "12                price_per_m2            535       0.065644\n",
       "13                       floor           2440       0.299387\n",
       "14                       rooms           1547       0.189816\n",
       "15                    expenses           1892       0.232147\n",
       "16                 description              0       0.000000\n",
       "17                       title              0       0.000000"
      ]
     },
     "execution_count": 60,
     "metadata": {},
     "output_type": "execute_result"
    }
   ],
   "source": [
    "missing_df = bel_usd_apt.isnull().sum(axis=0).reset_index()\n",
    "missing_df.columns = ['column_name', 'missing_count']\n",
    "missing_df['missing_ratio'] = missing_df['missing_count'] / df_barrios.shape[0]\n",
    "missing_df#.ix[missing_df['missing_ratio']>0.999]"
   ]
  },
  {
   "cell_type": "code",
   "execution_count": 61,
   "metadata": {},
   "outputs": [
    {
     "data": {
      "text/plain": [
       "(2624, 18)"
      ]
     },
     "execution_count": 61,
     "metadata": {},
     "output_type": "execute_result"
    }
   ],
   "source": [
    "bel_usd_apt.shape"
   ]
  },
  {
   "cell_type": "markdown",
   "metadata": {},
   "source": [
    "El df bel_usd_apt tiene 2624 registros y la variable price_usd_per_m2 tiene 763 valores missing."
   ]
  },
  {
   "cell_type": "markdown",
   "metadata": {},
   "source": [
    "<a id=\"section_EDA\"></a> \n",
    "## Analisis descriptivo pre limpieza\n",
    "\n",
    "[volver a TOC](#section_toc)"
   ]
  },
  {
   "cell_type": "code",
   "execution_count": 24,
   "metadata": {
    "scrolled": true
   },
   "outputs": [
    {
     "data": {
      "text/plain": [
       "<AxesSubplot:title={'center':'Normal'}, xlabel='price_usd_per_m2'>"
      ]
     },
     "execution_count": 24,
     "metadata": {},
     "output_type": "execute_result"
    },
    {
     "data": {
      "image/png": "[encoded data removed]",
      "text/plain": [
       "<Figure size 432x288 with 1 Axes>"
      ]
     },
     "metadata": {},
     "output_type": "display_data"
    }
   ],
   "source": [
    "import scipy.stats as st #falta trabajar la dependiente!\n",
    "\n",
    "y = bel_usd_apt['price_usd_per_m2']\n",
    "#plt.figure(1); plt.title('Johnson SU')\n",
    "#sns.distplot(y, kde=False, fit=st.johnsonsu)\n",
    "plt.figure(2); plt.title('Normal')\n",
    "sns.distplot(y, kde=False, fit=st.norm)\n",
    "#plt.figure(3); plt.title('Log Normal')\n",
    "#sns.distplot(y, kde=False, fit=st.lognorm)"
   ]
  },
  {
   "cell_type": "code",
   "execution_count": 25,
   "metadata": {},
   "outputs": [
    {
     "data": {
      "text/plain": [
       "<AxesSubplot:xlabel='price_usd_per_m2'>"
      ]
     },
     "execution_count": 25,
     "metadata": {},
     "output_type": "execute_result"
    },
    {
     "data": {
      "image/png": "[encoded data removed]",
      "text/plain": [
       "<Figure size 432x288 with 1 Axes>"
      ]
     },
     "metadata": {},
     "output_type": "display_data"
    }
   ],
   "source": [
    "sns.boxplot(bel_usd_apt['price_usd_per_m2'])"
   ]
  },
  {
   "cell_type": "markdown",
   "metadata": {},
   "source": [
    "Analisamos los outliers de price_usd_per_m2"
   ]
  },
  {
   "cell_type": "code",
   "execution_count": 26,
   "metadata": {
    "scrolled": true
   },
   "outputs": [
    {
     "data": {
      "image/png": "[encoded data removed]",
      "text/plain": [
       "<Figure size 432x864 with 7 Axes>"
      ]
     },
     "metadata": {},
     "output_type": "display_data"
    }
   ],
   "source": [
    "f = pd.melt(bel_usd_apt, value_vars=quantitative)\n",
    "g = sns.FacetGrid(f, col=\"variable\",  col_wrap=2, sharex=False, sharey=False)\n",
    "g = g.map(sns.distplot, \"value\")"
   ]
  },
  {
   "cell_type": "markdown",
   "metadata": {},
   "source": [
    "Tenemos que sacar los outliers"
   ]
  },
  {
   "cell_type": "code",
   "execution_count": 27,
   "metadata": {
    "scrolled": true
   },
   "outputs": [
    {
     "data": {
      "image/png": "[encoded data removed]",
      "text/plain": [
       "<Figure size 432x648 with 5 Axes>"
      ]
     },
     "metadata": {},
     "output_type": "display_data"
    }
   ],
   "source": [
    "f = pd.melt(bel_usd_apt, value_vars=price)\n",
    "g = sns.FacetGrid(f, col=\"variable\",  col_wrap=2, sharex=False, sharey=False)\n",
    "g = g.map(sns.distplot, \"value\")"
   ]
  },
  {
   "cell_type": "markdown",
   "metadata": {},
   "source": [
    "Tenemos que analizar los outliers"
   ]
  },
  {
   "cell_type": "code",
   "execution_count": 23,
   "metadata": {},
   "outputs": [
    {
     "data": {
      "text/plain": [
       "<AxesSubplot:>"
      ]
     },
     "execution_count": 23,
     "metadata": {},
     "output_type": "execute_result"
    },
    {
     "data": {
      "image/png": "[encoded data removed]",
      "text/plain": [
       "<Figure size 432x288 with 1 Axes>"
      ]
     },
     "metadata": {},
     "output_type": "display_data"
    }
   ],
   "source": [
    "missing = bel_usd_apt.isnull().sum()  #palermo\n",
    "missing = missing[missing > 0]\n",
    "missing.sort_values(inplace=True)\n",
    "missing.plot.bar()\n"
   ]
  },
  {
   "cell_type": "code",
   "execution_count": 28,
   "metadata": {
    "scrolled": true
   },
   "outputs": [
    {
     "data": {
      "text/html": [
       "<div>\n",
       "<style scoped>\n",
       "    .dataframe tbody tr th:only-of-type {\n",
       "        vertical-align: middle;\n",
       "    }\n",
       "\n",
       "    .dataframe tbody tr th {\n",
       "        vertical-align: top;\n",
       "    }\n",
       "\n",
       "    .dataframe thead th {\n",
       "        text-align: right;\n",
       "    }\n",
       "</style>\n",
       "<table border=\"1\" class=\"dataframe\">\n",
       "  <thead>\n",
       "    <tr style=\"text-align: right;\">\n",
       "      <th></th>\n",
       "      <th>column_name</th>\n",
       "      <th>missing_count</th>\n",
       "      <th>missing_ratio</th>\n",
       "    </tr>\n",
       "  </thead>\n",
       "  <tbody>\n",
       "    <tr>\n",
       "      <th>0</th>\n",
       "      <td>property_type</td>\n",
       "      <td>0</td>\n",
       "      <td>0.000000</td>\n",
       "    </tr>\n",
       "    <tr>\n",
       "      <th>1</th>\n",
       "      <td>place_name</td>\n",
       "      <td>0</td>\n",
       "      <td>0.000000</td>\n",
       "    </tr>\n",
       "    <tr>\n",
       "      <th>2</th>\n",
       "      <td>state_name</td>\n",
       "      <td>0</td>\n",
       "      <td>0.000000</td>\n",
       "    </tr>\n",
       "    <tr>\n",
       "      <th>3</th>\n",
       "      <td>lat</td>\n",
       "      <td>924</td>\n",
       "      <td>0.113374</td>\n",
       "    </tr>\n",
       "    <tr>\n",
       "      <th>4</th>\n",
       "      <td>lon</td>\n",
       "      <td>924</td>\n",
       "      <td>0.113374</td>\n",
       "    </tr>\n",
       "    <tr>\n",
       "      <th>5</th>\n",
       "      <td>price</td>\n",
       "      <td>423</td>\n",
       "      <td>0.051902</td>\n",
       "    </tr>\n",
       "    <tr>\n",
       "      <th>6</th>\n",
       "      <td>currency</td>\n",
       "      <td>423</td>\n",
       "      <td>0.051902</td>\n",
       "    </tr>\n",
       "    <tr>\n",
       "      <th>7</th>\n",
       "      <td>price_aprox_local_currency</td>\n",
       "      <td>423</td>\n",
       "      <td>0.051902</td>\n",
       "    </tr>\n",
       "    <tr>\n",
       "      <th>8</th>\n",
       "      <td>price_aprox_usd</td>\n",
       "      <td>423</td>\n",
       "      <td>0.051902</td>\n",
       "    </tr>\n",
       "    <tr>\n",
       "      <th>9</th>\n",
       "      <td>surface_total_in_m2</td>\n",
       "      <td>355</td>\n",
       "      <td>0.043558</td>\n",
       "    </tr>\n",
       "    <tr>\n",
       "      <th>10</th>\n",
       "      <td>surface_covered_in_m2</td>\n",
       "      <td>123</td>\n",
       "      <td>0.015092</td>\n",
       "    </tr>\n",
       "    <tr>\n",
       "      <th>11</th>\n",
       "      <td>price_usd_per_m2</td>\n",
       "      <td>763</td>\n",
       "      <td>0.093620</td>\n",
       "    </tr>\n",
       "    <tr>\n",
       "      <th>12</th>\n",
       "      <td>price_per_m2</td>\n",
       "      <td>535</td>\n",
       "      <td>0.065644</td>\n",
       "    </tr>\n",
       "    <tr>\n",
       "      <th>13</th>\n",
       "      <td>floor</td>\n",
       "      <td>2440</td>\n",
       "      <td>0.299387</td>\n",
       "    </tr>\n",
       "    <tr>\n",
       "      <th>14</th>\n",
       "      <td>rooms</td>\n",
       "      <td>1547</td>\n",
       "      <td>0.189816</td>\n",
       "    </tr>\n",
       "    <tr>\n",
       "      <th>15</th>\n",
       "      <td>expenses</td>\n",
       "      <td>1892</td>\n",
       "      <td>0.232147</td>\n",
       "    </tr>\n",
       "    <tr>\n",
       "      <th>16</th>\n",
       "      <td>description</td>\n",
       "      <td>0</td>\n",
       "      <td>0.000000</td>\n",
       "    </tr>\n",
       "    <tr>\n",
       "      <th>17</th>\n",
       "      <td>title</td>\n",
       "      <td>0</td>\n",
       "      <td>0.000000</td>\n",
       "    </tr>\n",
       "  </tbody>\n",
       "</table>\n",
       "</div>"
      ],
      "text/plain": [
       "                   column_name  missing_count  missing_ratio\n",
       "0                property_type              0       0.000000\n",
       "1                   place_name              0       0.000000\n",
       "2                   state_name              0       0.000000\n",
       "3                          lat            924       0.113374\n",
       "4                          lon            924       0.113374\n",
       "5                        price            423       0.051902\n",
       "6                     currency            423       0.051902\n",
       "7   price_aprox_local_currency            423       0.051902\n",
       "8              price_aprox_usd            423       0.051902\n",
       "9          surface_total_in_m2            355       0.043558\n",
       "10       surface_covered_in_m2            123       0.015092\n",
       "11            price_usd_per_m2            763       0.093620\n",
       "12                price_per_m2            535       0.065644\n",
       "13                       floor           2440       0.299387\n",
       "14                       rooms           1547       0.189816\n",
       "15                    expenses           1892       0.232147\n",
       "16                 description              0       0.000000\n",
       "17                       title              0       0.000000"
      ]
     },
     "execution_count": 28,
     "metadata": {},
     "output_type": "execute_result"
    }
   ],
   "source": [
    "missing_df = bel_usd_apt.isnull().sum(axis=0).reset_index()\n",
    "missing_df.columns = ['column_name', 'missing_count']\n",
    "missing_df['missing_ratio'] = missing_df['missing_count'] / df_barrios.shape[0]\n",
    "missing_df#.ix[missing_df['missing_ratio'"
   ]
  },
  {
   "cell_type": "markdown",
   "metadata": {},
   "source": [
    "Queremos limpiar el data set para eliminar outliers y reducir o eliminar los missing values."
   ]
  },
  {
   "cell_type": "markdown",
   "metadata": {},
   "source": [
    "<a id=\"section_iqr\"></a> \n",
    "## price_usd_per_m2: IQR 0.75q\n",
    "\n",
    "[volver a TOC](#section_toc)"
   ]
  },
  {
   "cell_type": "markdown",
   "metadata": {},
   "source": [
    "Evaluamos esta posibilidad, pero conluimos en no aplicarla. \n",
    "\n",
    "Miramos la actual distribucion dela variables dependiente price_usd_per_m2:"
   ]
  },
  {
   "cell_type": "code",
   "execution_count": 29,
   "metadata": {},
   "outputs": [
    {
     "data": {
      "text/plain": [
       "<AxesSubplot:title={'center':'Normal'}, xlabel='price_usd_per_m2'>"
      ]
     },
     "execution_count": 29,
     "metadata": {},
     "output_type": "execute_result"
    },
    {
     "data": {
      "image/png": "[encoded data removed]",
      "text/plain": [
       "<Figure size 432x288 with 1 Axes>"
      ]
     },
     "metadata": {},
     "output_type": "display_data"
    }
   ],
   "source": [
    "import scipy.stats as st #falta trabajar la dependiente!\n",
    "\n",
    "y = bel_usd_apt['price_usd_per_m2']\n",
    "#plt.figure(1); plt.title('Johnson SU')\n",
    "#sns.distplot(y, kde=False, fit=st.johnsonsu)\n",
    "plt.figure(2); plt.title('Normal')\n",
    "sns.distplot(y, kde=False, fit=st.norm)"
   ]
  },
  {
   "cell_type": "code",
   "execution_count": 30,
   "metadata": {},
   "outputs": [
    {
     "data": {
      "text/plain": [
       "<AxesSubplot:xlabel='price_usd_per_m2'>"
      ]
     },
     "execution_count": 30,
     "metadata": {},
     "output_type": "execute_result"
    },
    {
     "data": {
      "image/png": "[encoded data removed]",
      "text/plain": [
       "<Figure size 432x288 with 1 Axes>"
      ]
     },
     "metadata": {},
     "output_type": "display_data"
    }
   ],
   "source": [
    "sns.boxplot(bel_usd_apt['price_usd_per_m2'])"
   ]
  },
  {
   "cell_type": "code",
   "execution_count": 32,
   "metadata": {},
   "outputs": [
    {
     "data": {
      "text/plain": [
       "2624"
      ]
     },
     "execution_count": 32,
     "metadata": {},
     "output_type": "execute_result"
    }
   ],
   "source": [
    "1861 + 763 #La suma de los valores de price_usd_per_m2 y sus missing da el total de registros"
   ]
  },
  {
   "cell_type": "code",
   "execution_count": 31,
   "metadata": {},
   "outputs": [
    {
     "data": {
      "text/plain": [
       "count     1861.000000\n",
       "mean      3167.181046\n",
       "std       1115.841775\n",
       "min         31.369688\n",
       "25%       2611.464968\n",
       "50%       2975.000000\n",
       "75%       3393.939394\n",
       "max      20833.333333\n",
       "Name: price_usd_per_m2, dtype: float64"
      ]
     },
     "execution_count": 31,
     "metadata": {},
     "output_type": "execute_result"
    }
   ],
   "source": [
    "bel_usd_apt['price_usd_per_m2'].describe()"
   ]
  },
  {
   "cell_type": "markdown",
   "metadata": {},
   "source": [
    "Evaluamos la posibilidad de eliminar outliers con quantile 0.75:"
   ]
  },
  {
   "cell_type": "code",
   "execution_count": 33,
   "metadata": {},
   "outputs": [
    {
     "name": "stdout",
     "output_type": "stream",
     "text": [
      "El limite superior es : 4567.65\n"
     ]
    }
   ],
   "source": [
    "#Defino el rango intercuartil para observar el limite superior\n",
    "IQR_b_ppm2 = bel_usd_apt['price_usd_per_m2'].quantile(0.75) - bel_usd_apt['price_usd_per_m2'].quantile(0.25)\n",
    "LS_b_ppm2 = bel_usd_apt['price_usd_per_m2'].quantile(0.75) + 1.5*IQR_b_ppm2\n",
    "print(\"El limite superior es :\", round(LS_b_ppm2,2))"
   ]
  },
  {
   "cell_type": "code",
   "execution_count": 34,
   "metadata": {},
   "outputs": [
    {
     "data": {
      "text/plain": [
       "<AxesSubplot:title={'center':'Distribucion de precio por m2 en USD'}, xlabel='price_usd_per_m2'>"
      ]
     },
     "execution_count": 34,
     "metadata": {},
     "output_type": "execute_result"
    },
    {
     "data": {
      "image/png": "[encoded data removed]",
      "text/plain": [
       "<Figure size 432x288 with 1 Axes>"
      ]
     },
     "metadata": {},
     "output_type": "display_data"
    }
   ],
   "source": [
    "y_b_ppm2 = bel_usd_apt[bel_usd_apt['price_usd_per_m2']<= LS_b_ppm2]['price_usd_per_m2']\n",
    "plt.figure(2); plt.title('Distribucion de precio por m2 en USD')\n",
    "sns.distplot(y_b_ppm2, kde=False, fit=st.norm)"
   ]
  },
  {
   "cell_type": "code",
   "execution_count": 35,
   "metadata": {},
   "outputs": [
    {
     "data": {
      "text/plain": [
       "<AxesSubplot:xlabel='price_usd_per_m2'>"
      ]
     },
     "execution_count": 35,
     "metadata": {},
     "output_type": "execute_result"
    },
    {
     "data": {
      "image/png": "[encoded data removed]",
      "text/plain": [
       "<Figure size 432x288 with 1 Axes>"
      ]
     },
     "metadata": {},
     "output_type": "display_data"
    }
   ],
   "source": [
    "sns.boxplot(y_b_ppm2) #Ahora solo quedan los outliers de la izquierda"
   ]
  },
  {
   "cell_type": "code",
   "execution_count": 36,
   "metadata": {},
   "outputs": [
    {
     "name": "stdout",
     "output_type": "stream",
     "text": [
      "El limite inferior es : 2220.23\n"
     ]
    }
   ],
   "source": [
    "#IQR_b_ppm2 = bel_usd_apt['price_usd_per_m2'].quantile(0.75) - bel_usd_apt['price_usd_per_m2'].quantile(0.25)\n",
    "LI_b_ppm2 = bel_usd_apt['price_usd_per_m2'].quantile(0.75) - 1.5*IQR_b_ppm2\n",
    "print(\"El limite inferior es :\", round(LI_b_ppm2,2))"
   ]
  },
  {
   "cell_type": "code",
   "execution_count": 37,
   "metadata": {},
   "outputs": [
    {
     "data": {
      "text/plain": [
       "<AxesSubplot:title={'center':'Distribucion de precio por m2 en USD'}, xlabel='price_usd_per_m2'>"
      ]
     },
     "execution_count": 37,
     "metadata": {},
     "output_type": "execute_result"
    },
    {
     "data": {
      "image/png": "[encoded data removed]",
      "text/plain": [
       "<Figure size 432x288 with 1 Axes>"
      ]
     },
     "metadata": {},
     "output_type": "display_data"
    }
   ],
   "source": [
    "y_b_ppm2_2 = bel_usd_apt[(bel_usd_apt['price_usd_per_m2']>= LI_b_ppm2)&(bel_usd_apt['price_usd_per_m2']<= LS_b_ppm2)]['price_usd_per_m2']\n",
    "plt.figure(2); plt.title('Distribucion de precio por m2 en USD')\n",
    "sns.distplot(y_b_ppm2_2, kde=False, fit=st.norm)"
   ]
  },
  {
   "cell_type": "code",
   "execution_count": 38,
   "metadata": {
    "scrolled": true
   },
   "outputs": [
    {
     "data": {
      "text/plain": [
       "<AxesSubplot:xlabel='price_usd_per_m2'>"
      ]
     },
     "execution_count": 38,
     "metadata": {},
     "output_type": "execute_result"
    },
    {
     "data": {
      "image/png": "[encoded data removed]",
      "text/plain": [
       "<Figure size 432x288 with 1 Axes>"
      ]
     },
     "metadata": {},
     "output_type": "display_data"
    }
   ],
   "source": [
    "sns.boxplot(y_b_ppm2_2)"
   ]
  },
  {
   "cell_type": "markdown",
   "metadata": {},
   "source": [
    "En el caso que usaramos quantile 0.75 para eliminar outliers de price_usd_per_m2 obtendriamos  una distribucion no tan disimil a la gausiana, y el box plot muestra muchos menos outliers. Sin embargo, los limites LS y LI pareceria que pueden eliminar muchos registros.\n",
    "\n",
    "Procedemos a analisar cuantos son los datos que descartamos cuando quitamos los outliers en base a LS Y LI usando quantile 0.75."
   ]
  },
  {
   "cell_type": "code",
   "execution_count": 39,
   "metadata": {},
   "outputs": [
    {
     "data": {
      "text/plain": [
       "(2624, 18)"
      ]
     },
     "execution_count": 39,
     "metadata": {},
     "output_type": "execute_result"
    }
   ],
   "source": [
    "bel_usd_apt.shape"
   ]
  },
  {
   "cell_type": "code",
   "execution_count": 40,
   "metadata": {
    "scrolled": true
   },
   "outputs": [
    {
     "name": "stdout",
     "output_type": "stream",
     "text": [
      "(1716, 18)\n"
     ]
    },
    {
     "data": {
      "text/html": [
       "<div>\n",
       "<style scoped>\n",
       "    .dataframe tbody tr th:only-of-type {\n",
       "        vertical-align: middle;\n",
       "    }\n",
       "\n",
       "    .dataframe tbody tr th {\n",
       "        vertical-align: top;\n",
       "    }\n",
       "\n",
       "    .dataframe thead th {\n",
       "        text-align: right;\n",
       "    }\n",
       "</style>\n",
       "<table border=\"1\" class=\"dataframe\">\n",
       "  <thead>\n",
       "    <tr style=\"text-align: right;\">\n",
       "      <th></th>\n",
       "      <th>column_name</th>\n",
       "      <th>missing_count</th>\n",
       "      <th>missing_ratio</th>\n",
       "    </tr>\n",
       "  </thead>\n",
       "  <tbody>\n",
       "    <tr>\n",
       "      <th>0</th>\n",
       "      <td>property_type</td>\n",
       "      <td>0</td>\n",
       "      <td>0.000000</td>\n",
       "    </tr>\n",
       "    <tr>\n",
       "      <th>1</th>\n",
       "      <td>place_name</td>\n",
       "      <td>0</td>\n",
       "      <td>0.000000</td>\n",
       "    </tr>\n",
       "    <tr>\n",
       "      <th>2</th>\n",
       "      <td>state_name</td>\n",
       "      <td>0</td>\n",
       "      <td>0.000000</td>\n",
       "    </tr>\n",
       "    <tr>\n",
       "      <th>3</th>\n",
       "      <td>lat</td>\n",
       "      <td>476</td>\n",
       "      <td>0.058405</td>\n",
       "    </tr>\n",
       "    <tr>\n",
       "      <th>4</th>\n",
       "      <td>lon</td>\n",
       "      <td>476</td>\n",
       "      <td>0.058405</td>\n",
       "    </tr>\n",
       "    <tr>\n",
       "      <th>5</th>\n",
       "      <td>price</td>\n",
       "      <td>0</td>\n",
       "      <td>0.000000</td>\n",
       "    </tr>\n",
       "    <tr>\n",
       "      <th>6</th>\n",
       "      <td>currency</td>\n",
       "      <td>0</td>\n",
       "      <td>0.000000</td>\n",
       "    </tr>\n",
       "    <tr>\n",
       "      <th>7</th>\n",
       "      <td>price_aprox_local_currency</td>\n",
       "      <td>0</td>\n",
       "      <td>0.000000</td>\n",
       "    </tr>\n",
       "    <tr>\n",
       "      <th>8</th>\n",
       "      <td>price_aprox_usd</td>\n",
       "      <td>0</td>\n",
       "      <td>0.000000</td>\n",
       "    </tr>\n",
       "    <tr>\n",
       "      <th>9</th>\n",
       "      <td>surface_total_in_m2</td>\n",
       "      <td>0</td>\n",
       "      <td>0.000000</td>\n",
       "    </tr>\n",
       "    <tr>\n",
       "      <th>10</th>\n",
       "      <td>surface_covered_in_m2</td>\n",
       "      <td>95</td>\n",
       "      <td>0.011656</td>\n",
       "    </tr>\n",
       "    <tr>\n",
       "      <th>11</th>\n",
       "      <td>price_usd_per_m2</td>\n",
       "      <td>0</td>\n",
       "      <td>0.000000</td>\n",
       "    </tr>\n",
       "    <tr>\n",
       "      <th>12</th>\n",
       "      <td>price_per_m2</td>\n",
       "      <td>95</td>\n",
       "      <td>0.011656</td>\n",
       "    </tr>\n",
       "    <tr>\n",
       "      <th>13</th>\n",
       "      <td>floor</td>\n",
       "      <td>1647</td>\n",
       "      <td>0.202086</td>\n",
       "    </tr>\n",
       "    <tr>\n",
       "      <th>14</th>\n",
       "      <td>rooms</td>\n",
       "      <td>1014</td>\n",
       "      <td>0.124417</td>\n",
       "    </tr>\n",
       "    <tr>\n",
       "      <th>15</th>\n",
       "      <td>expenses</td>\n",
       "      <td>1091</td>\n",
       "      <td>0.133865</td>\n",
       "    </tr>\n",
       "    <tr>\n",
       "      <th>16</th>\n",
       "      <td>description</td>\n",
       "      <td>0</td>\n",
       "      <td>0.000000</td>\n",
       "    </tr>\n",
       "    <tr>\n",
       "      <th>17</th>\n",
       "      <td>title</td>\n",
       "      <td>0</td>\n",
       "      <td>0.000000</td>\n",
       "    </tr>\n",
       "  </tbody>\n",
       "</table>\n",
       "</div>"
      ],
      "text/plain": [
       "                   column_name  missing_count  missing_ratio\n",
       "0                property_type              0       0.000000\n",
       "1                   place_name              0       0.000000\n",
       "2                   state_name              0       0.000000\n",
       "3                          lat            476       0.058405\n",
       "4                          lon            476       0.058405\n",
       "5                        price              0       0.000000\n",
       "6                     currency              0       0.000000\n",
       "7   price_aprox_local_currency              0       0.000000\n",
       "8              price_aprox_usd              0       0.000000\n",
       "9          surface_total_in_m2              0       0.000000\n",
       "10       surface_covered_in_m2             95       0.011656\n",
       "11            price_usd_per_m2              0       0.000000\n",
       "12                price_per_m2             95       0.011656\n",
       "13                       floor           1647       0.202086\n",
       "14                       rooms           1014       0.124417\n",
       "15                    expenses           1091       0.133865\n",
       "16                 description              0       0.000000\n",
       "17                       title              0       0.000000"
      ]
     },
     "execution_count": 40,
     "metadata": {},
     "output_type": "execute_result"
    }
   ],
   "source": [
    "bel_LS = bel_usd_apt[bel_usd_apt['price_usd_per_m2']<= LS_b_ppm2]\n",
    "print(bel_LS.shape)\n",
    "bel_LS.head(2)\n",
    "\n",
    "missing_df = bel_LS.isnull().sum(axis=0).reset_index()\n",
    "missing_df.columns = ['column_name', 'missing_count']\n",
    "missing_df['missing_ratio'] = missing_df['missing_count'] / df_barrios.shape[0]\n",
    "missing_df#"
   ]
  },
  {
   "cell_type": "code",
   "execution_count": 41,
   "metadata": {},
   "outputs": [
    {
     "data": {
      "text/plain": [
       "0.055259146341463415"
      ]
     },
     "execution_count": 41,
     "metadata": {},
     "output_type": "execute_result"
    }
   ],
   "source": [
    "(1861 - 1716)/2624"
   ]
  },
  {
   "cell_type": "code",
   "execution_count": 42,
   "metadata": {},
   "outputs": [
    {
     "data": {
      "text/plain": [
       "145"
      ]
     },
     "execution_count": 42,
     "metadata": {},
     "output_type": "execute_result"
    }
   ],
   "source": [
    "1861 - 1716"
   ]
  },
  {
   "cell_type": "markdown",
   "metadata": {},
   "source": [
    "Si aplicamos el IQR LS a la variable target (price_usd_per_m2) :\n",
    "* pros: la variable target ya no tiene missings\n",
    "* cons: pero estamos quitando 145 filas/registros, 6% de los registros\n"
   ]
  },
  {
   "cell_type": "code",
   "execution_count": 43,
   "metadata": {},
   "outputs": [
    {
     "name": "stdout",
     "output_type": "stream",
     "text": [
      "(1583, 18)\n"
     ]
    },
    {
     "data": {
      "text/html": [
       "<div>\n",
       "<style scoped>\n",
       "    .dataframe tbody tr th:only-of-type {\n",
       "        vertical-align: middle;\n",
       "    }\n",
       "\n",
       "    .dataframe tbody tr th {\n",
       "        vertical-align: top;\n",
       "    }\n",
       "\n",
       "    .dataframe thead th {\n",
       "        text-align: right;\n",
       "    }\n",
       "</style>\n",
       "<table border=\"1\" class=\"dataframe\">\n",
       "  <thead>\n",
       "    <tr style=\"text-align: right;\">\n",
       "      <th></th>\n",
       "      <th>column_name</th>\n",
       "      <th>missing_count</th>\n",
       "      <th>missing_ratio</th>\n",
       "    </tr>\n",
       "  </thead>\n",
       "  <tbody>\n",
       "    <tr>\n",
       "      <th>0</th>\n",
       "      <td>property_type</td>\n",
       "      <td>0</td>\n",
       "      <td>0.000000</td>\n",
       "    </tr>\n",
       "    <tr>\n",
       "      <th>1</th>\n",
       "      <td>place_name</td>\n",
       "      <td>0</td>\n",
       "      <td>0.000000</td>\n",
       "    </tr>\n",
       "    <tr>\n",
       "      <th>2</th>\n",
       "      <td>state_name</td>\n",
       "      <td>0</td>\n",
       "      <td>0.000000</td>\n",
       "    </tr>\n",
       "    <tr>\n",
       "      <th>3</th>\n",
       "      <td>lat</td>\n",
       "      <td>446</td>\n",
       "      <td>0.054724</td>\n",
       "    </tr>\n",
       "    <tr>\n",
       "      <th>4</th>\n",
       "      <td>lon</td>\n",
       "      <td>446</td>\n",
       "      <td>0.054724</td>\n",
       "    </tr>\n",
       "    <tr>\n",
       "      <th>5</th>\n",
       "      <td>price</td>\n",
       "      <td>0</td>\n",
       "      <td>0.000000</td>\n",
       "    </tr>\n",
       "    <tr>\n",
       "      <th>6</th>\n",
       "      <td>currency</td>\n",
       "      <td>0</td>\n",
       "      <td>0.000000</td>\n",
       "    </tr>\n",
       "    <tr>\n",
       "      <th>7</th>\n",
       "      <td>price_aprox_local_currency</td>\n",
       "      <td>0</td>\n",
       "      <td>0.000000</td>\n",
       "    </tr>\n",
       "    <tr>\n",
       "      <th>8</th>\n",
       "      <td>price_aprox_usd</td>\n",
       "      <td>0</td>\n",
       "      <td>0.000000</td>\n",
       "    </tr>\n",
       "    <tr>\n",
       "      <th>9</th>\n",
       "      <td>surface_total_in_m2</td>\n",
       "      <td>0</td>\n",
       "      <td>0.000000</td>\n",
       "    </tr>\n",
       "    <tr>\n",
       "      <th>10</th>\n",
       "      <td>surface_covered_in_m2</td>\n",
       "      <td>91</td>\n",
       "      <td>0.011166</td>\n",
       "    </tr>\n",
       "    <tr>\n",
       "      <th>11</th>\n",
       "      <td>price_usd_per_m2</td>\n",
       "      <td>0</td>\n",
       "      <td>0.000000</td>\n",
       "    </tr>\n",
       "    <tr>\n",
       "      <th>12</th>\n",
       "      <td>price_per_m2</td>\n",
       "      <td>91</td>\n",
       "      <td>0.011166</td>\n",
       "    </tr>\n",
       "    <tr>\n",
       "      <th>13</th>\n",
       "      <td>floor</td>\n",
       "      <td>1521</td>\n",
       "      <td>0.186626</td>\n",
       "    </tr>\n",
       "    <tr>\n",
       "      <th>14</th>\n",
       "      <td>rooms</td>\n",
       "      <td>948</td>\n",
       "      <td>0.116319</td>\n",
       "    </tr>\n",
       "    <tr>\n",
       "      <th>15</th>\n",
       "      <td>expenses</td>\n",
       "      <td>1020</td>\n",
       "      <td>0.125153</td>\n",
       "    </tr>\n",
       "    <tr>\n",
       "      <th>16</th>\n",
       "      <td>description</td>\n",
       "      <td>0</td>\n",
       "      <td>0.000000</td>\n",
       "    </tr>\n",
       "    <tr>\n",
       "      <th>17</th>\n",
       "      <td>title</td>\n",
       "      <td>0</td>\n",
       "      <td>0.000000</td>\n",
       "    </tr>\n",
       "  </tbody>\n",
       "</table>\n",
       "</div>"
      ],
      "text/plain": [
       "                   column_name  missing_count  missing_ratio\n",
       "0                property_type              0       0.000000\n",
       "1                   place_name              0       0.000000\n",
       "2                   state_name              0       0.000000\n",
       "3                          lat            446       0.054724\n",
       "4                          lon            446       0.054724\n",
       "5                        price              0       0.000000\n",
       "6                     currency              0       0.000000\n",
       "7   price_aprox_local_currency              0       0.000000\n",
       "8              price_aprox_usd              0       0.000000\n",
       "9          surface_total_in_m2              0       0.000000\n",
       "10       surface_covered_in_m2             91       0.011166\n",
       "11            price_usd_per_m2              0       0.000000\n",
       "12                price_per_m2             91       0.011166\n",
       "13                       floor           1521       0.186626\n",
       "14                       rooms            948       0.116319\n",
       "15                    expenses           1020       0.125153\n",
       "16                 description              0       0.000000\n",
       "17                       title              0       0.000000"
      ]
     },
     "execution_count": 43,
     "metadata": {},
     "output_type": "execute_result"
    }
   ],
   "source": [
    "bel_LS_LI = bel_usd_apt[(bel_usd_apt['price_usd_per_m2']>= LI_b_ppm2)&(bel_usd_apt['price_usd_per_m2']<= LS_b_ppm2)]\n",
    "print(bel_LS_LI.shape)\n",
    "bel_LS_LI.head(2)\n",
    "\n",
    "missing_df = bel_LS_LI.isnull().sum(axis=0).reset_index()\n",
    "missing_df.columns = ['column_name', 'missing_count']\n",
    "missing_df['missing_ratio'] = missing_df['missing_count'] / df_barrios.shape[0]\n",
    "missing_df#"
   ]
  },
  {
   "cell_type": "code",
   "execution_count": 44,
   "metadata": {},
   "outputs": [
    {
     "data": {
      "text/plain": [
       "1861"
      ]
     },
     "execution_count": 44,
     "metadata": {},
     "output_type": "execute_result"
    }
   ],
   "source": [
    "2624-763 #outliers de price_usd_per_m2"
   ]
  },
  {
   "cell_type": "code",
   "execution_count": 45,
   "metadata": {},
   "outputs": [
    {
     "data": {
      "text/plain": [
       "0.10594512195121951"
      ]
     },
     "execution_count": 45,
     "metadata": {},
     "output_type": "execute_result"
    }
   ],
   "source": [
    "(1861 - 1583)/2624\n"
   ]
  },
  {
   "cell_type": "code",
   "execution_count": 46,
   "metadata": {},
   "outputs": [
    {
     "data": {
      "text/plain": [
       "278"
      ]
     },
     "execution_count": 46,
     "metadata": {},
     "output_type": "execute_result"
    }
   ],
   "source": [
    "1861 - 1583"
   ]
  },
  {
   "cell_type": "markdown",
   "metadata": {},
   "source": [
    "Si aplicamos el IQR LS y LI a la variable target (price_usd_per_m2) :\n",
    "\n",
    "* pros: la variable target ya no tiene missings\n",
    "* cons: pero estamos quitando 278 filas/registros, 11% de los registros"
   ]
  },
  {
   "cell_type": "code",
   "execution_count": 47,
   "metadata": {},
   "outputs": [
    {
     "data": {
      "text/plain": [
       "count     1861.000000\n",
       "mean      3167.181046\n",
       "std       1115.841775\n",
       "min         31.369688\n",
       "25%       2611.464968\n",
       "50%       2975.000000\n",
       "75%       3393.939394\n",
       "max      20833.333333\n",
       "Name: price_usd_per_m2, dtype: float64"
      ]
     },
     "execution_count": 47,
     "metadata": {},
     "output_type": "execute_result"
    }
   ],
   "source": [
    "bel_usd_apt['price_usd_per_m2'].describe()"
   ]
  },
  {
   "cell_type": "code",
   "execution_count": 48,
   "metadata": {},
   "outputs": [
    {
     "data": {
      "text/plain": [
       "count    1716.000000\n",
       "mean     2942.673292\n",
       "std       578.388009\n",
       "min        31.369688\n",
       "25%      2570.932540\n",
       "50%      2913.043478\n",
       "75%      3276.381303\n",
       "max      4566.037736\n",
       "Name: price_usd_per_m2, dtype: float64"
      ]
     },
     "execution_count": 48,
     "metadata": {},
     "output_type": "execute_result"
    }
   ],
   "source": [
    "bel_LS['price_usd_per_m2'].describe()"
   ]
  },
  {
   "cell_type": "code",
   "execution_count": 49,
   "metadata": {},
   "outputs": [
    {
     "data": {
      "text/plain": [
       "count    1583.000000\n",
       "mean     3034.386562\n",
       "std       492.372443\n",
       "min      2222.222222\n",
       "25%      2659.549139\n",
       "50%      2969.696970\n",
       "75%      3302.863396\n",
       "max      4566.037736\n",
       "Name: price_usd_per_m2, dtype: float64"
      ]
     },
     "execution_count": 49,
     "metadata": {},
     "output_type": "execute_result"
    }
   ],
   "source": [
    "bel_LS_LI['price_usd_per_m2'].describe()"
   ]
  },
  {
   "cell_type": "markdown",
   "metadata": {},
   "source": [
    "Si usaramos quantile 0.75 para eliminar outlier de la variable target perderiamos muchos registros. Por esto motivo, optaremos por evaluar otra forma de controlar los outliers de la variable target (price_usd_per_m2)."
   ]
  },
  {
   "cell_type": "markdown",
   "metadata": {},
   "source": [
    "<a id=\"section_price_1000\"></a> \n",
    "## price_usd_per_m2\n",
    "* missing\n",
    "* outliers\n",
    "\n",
    "[volver a TOC](#section_toc)"
   ]
  },
  {
   "cell_type": "markdown",
   "metadata": {},
   "source": [
    "**Missing**\n",
    "\n",
    "Consideramos que imputar los valores missing de la variable target price_usd_per_m2 podria afectar nuestro data set y luego afectar nuestro futuro modelo de prediccion. Por lo que optamos por eliminarlos dado que no se pierden tantos registros. Son 763 registros ( 0,9 %).\n",
    "\n",
    "**Outliers**\n",
    "\n",
    "Analizamos datos de la pagina web de la competencia de Properati. Al observar los precios en dolares por metro cuadrado en Belgrano segun la data de Zonaprop encontramos propiedades superiores a 7000 USD/m2.\n",
    "\n",
    "Por este motivo consideramos que el limite superior LS IQR 0.75q (4567.65), analizado en la seccion anteiror, es excesivo. Evaluamos y aplicamos un limite por juicio propio o limite por busines decision de 10.000 USD/m2."
   ]
  },
  {
   "cell_type": "code",
   "execution_count": 50,
   "metadata": {
    "scrolled": true
   },
   "outputs": [
    {
     "data": {
      "text/plain": [
       "<AxesSubplot:title={'center':'Distribucion de precio por m2 en USD'}, xlabel='price_usd_per_m2'>"
      ]
     },
     "execution_count": 50,
     "metadata": {},
     "output_type": "execute_result"
    },
    {
     "data": {
      "image/png": "[encoded data removed]",
      "text/plain": [
       "<Figure size 432x288 with 1 Axes>"
      ]
     },
     "metadata": {},
     "output_type": "display_data"
    }
   ],
   "source": [
    "y_b_ppm3 = bel_usd_apt[bel_usd_apt['price_usd_per_m2']<= 10000]['price_usd_per_m2']\n",
    "plt.figure(2); plt.title('Distribucion de precio por m2 en USD')\n",
    "sns.distplot(y_b_ppm3, kde=False, fit=st.norm)"
   ]
  },
  {
   "cell_type": "markdown",
   "metadata": {},
   "source": [
    "Obtenemos un distribucion no tan disimil a la gausiana. El grafico de box plot respalda el limite de 10.000 USD/m2."
   ]
  },
  {
   "cell_type": "code",
   "execution_count": 51,
   "metadata": {
    "scrolled": true
   },
   "outputs": [
    {
     "data": {
      "text/plain": [
       "<AxesSubplot:xlabel='price_usd_per_m2'>"
      ]
     },
     "execution_count": 51,
     "metadata": {},
     "output_type": "execute_result"
    },
    {
     "data": {
      "image/png": "[encoded data removed]",
      "text/plain": [
       "<Figure size 432x288 with 1 Axes>"
      ]
     },
     "metadata": {},
     "output_type": "display_data"
    }
   ],
   "source": [
    "sns.boxplot(y_b_ppm3)"
   ]
  },
  {
   "cell_type": "code",
   "execution_count": 62,
   "metadata": {},
   "outputs": [
    {
     "data": {
      "text/plain": [
       "count    1856.000000\n",
       "mean     3135.835155\n",
       "std       909.335428\n",
       "min        31.369688\n",
       "25%      2610.209627\n",
       "50%      2972.200772\n",
       "75%      3390.340052\n",
       "max      8552.631579\n",
       "Name: price_usd_per_m2, dtype: float64"
      ]
     },
     "execution_count": 62,
     "metadata": {},
     "output_type": "execute_result"
    }
   ],
   "source": [
    "#aplicamos el limite 10000 para la variable target price_usd_per_m2\n",
    "#al mismo tiempo descartamos los missings de esa variable\n",
    "#el nuevo data set solo usa los registros con price_usd_per_m2 no missing y menores a 10000 USD/m2\n",
    "bel_price = bel_usd_apt[bel_usd_apt['price_usd_per_m2']<= 10000] \n",
    "bel_price['price_usd_per_m2'].describe()"
   ]
  },
  {
   "cell_type": "code",
   "execution_count": 53,
   "metadata": {},
   "outputs": [
    {
     "data": {
      "text/plain": [
       "5"
      ]
     },
     "execution_count": 53,
     "metadata": {},
     "output_type": "execute_result"
    }
   ],
   "source": [
    "1861-1856 #sacamos 5 datos solos"
   ]
  },
  {
   "cell_type": "code",
   "execution_count": 54,
   "metadata": {},
   "outputs": [
    {
     "data": {
      "text/plain": [
       "0.0026867275658248252"
      ]
     },
     "execution_count": 54,
     "metadata": {},
     "output_type": "execute_result"
    }
   ],
   "source": [
    "(1861-1856)/1861"
   ]
  },
  {
   "cell_type": "code",
   "execution_count": 63,
   "metadata": {},
   "outputs": [
    {
     "data": {
      "text/plain": [
       "0"
      ]
     },
     "execution_count": 63,
     "metadata": {},
     "output_type": "execute_result"
    }
   ],
   "source": [
    "bel_price['price_usd_per_m2'].isnull().sum() # al usar LS de 10000 ya no hay missings."
   ]
  },
  {
   "cell_type": "code",
   "execution_count": 64,
   "metadata": {},
   "outputs": [
    {
     "data": {
      "text/plain": [
       "763"
      ]
     },
     "execution_count": 64,
     "metadata": {},
     "output_type": "execute_result"
    }
   ],
   "source": [
    "bel_usd_apt['price_usd_per_m2'].isnull().sum() #"
   ]
  },
  {
   "cell_type": "markdown",
   "metadata": {},
   "source": [
    "Evaluamos el criterio IQR (LS, LI)usando quantile 0.75 y entendemos que no es un criterio razonable y aplicable a esta variable y base de datos.\n",
    "\n",
    "Alternativamente, al poner en practica como limite superior 10.000 USD/m2 en la variable price_usd_per_m2:\n",
    "* eliminanos los 763 missing de la variable dependiente\n",
    "* adicionalmente, solamente eliminamos 5 resgistros (0,03%) de la vble price_usd_per_m2\n",
    "* los grafico de distribucion y box plot respaldan esta decision\n",
    "\n",
    "Consideramos que imputar los valores missing de la variable target price_usd_per_m2 podria afectar nuestro data set y luego afectar nuestro futuro modelo de prediccion. Por lo que optamos por eliminarlos.\n",
    "\n",
    "Conclusion:  Consideramos como limite superior 10.000 USD/m2 considerando el mercado local en este barrio."
   ]
  },
  {
   "cell_type": "markdown",
   "metadata": {},
   "source": [
    "<a id=\"section_deteccion_faltantes\"></a> \n",
    "## Valores faltantes de variables dependientes\n",
    "\n",
    "[volver a TOC](#section_toc)"
   ]
  },
  {
   "cell_type": "code",
   "execution_count": 66,
   "metadata": {
    "scrolled": true
   },
   "outputs": [
    {
     "data": {
      "text/html": [
       "<div>\n",
       "<style scoped>\n",
       "    .dataframe tbody tr th:only-of-type {\n",
       "        vertical-align: middle;\n",
       "    }\n",
       "\n",
       "    .dataframe tbody tr th {\n",
       "        vertical-align: top;\n",
       "    }\n",
       "\n",
       "    .dataframe thead th {\n",
       "        text-align: right;\n",
       "    }\n",
       "</style>\n",
       "<table border=\"1\" class=\"dataframe\">\n",
       "  <thead>\n",
       "    <tr style=\"text-align: right;\">\n",
       "      <th></th>\n",
       "      <th>column_name</th>\n",
       "      <th>missing_count</th>\n",
       "      <th>missing_ratio</th>\n",
       "    </tr>\n",
       "  </thead>\n",
       "  <tbody>\n",
       "    <tr>\n",
       "      <th>0</th>\n",
       "      <td>property_type</td>\n",
       "      <td>0</td>\n",
       "      <td>0.000000</td>\n",
       "    </tr>\n",
       "    <tr>\n",
       "      <th>1</th>\n",
       "      <td>place_name</td>\n",
       "      <td>0</td>\n",
       "      <td>0.000000</td>\n",
       "    </tr>\n",
       "    <tr>\n",
       "      <th>2</th>\n",
       "      <td>state_name</td>\n",
       "      <td>0</td>\n",
       "      <td>0.000000</td>\n",
       "    </tr>\n",
       "    <tr>\n",
       "      <th>3</th>\n",
       "      <td>lat</td>\n",
       "      <td>546</td>\n",
       "      <td>0.066994</td>\n",
       "    </tr>\n",
       "    <tr>\n",
       "      <th>4</th>\n",
       "      <td>lon</td>\n",
       "      <td>546</td>\n",
       "      <td>0.066994</td>\n",
       "    </tr>\n",
       "    <tr>\n",
       "      <th>5</th>\n",
       "      <td>price</td>\n",
       "      <td>0</td>\n",
       "      <td>0.000000</td>\n",
       "    </tr>\n",
       "    <tr>\n",
       "      <th>6</th>\n",
       "      <td>currency</td>\n",
       "      <td>0</td>\n",
       "      <td>0.000000</td>\n",
       "    </tr>\n",
       "    <tr>\n",
       "      <th>7</th>\n",
       "      <td>price_aprox_local_currency</td>\n",
       "      <td>0</td>\n",
       "      <td>0.000000</td>\n",
       "    </tr>\n",
       "    <tr>\n",
       "      <th>8</th>\n",
       "      <td>price_aprox_usd</td>\n",
       "      <td>0</td>\n",
       "      <td>0.000000</td>\n",
       "    </tr>\n",
       "    <tr>\n",
       "      <th>9</th>\n",
       "      <td>surface_total_in_m2</td>\n",
       "      <td>0</td>\n",
       "      <td>0.000000</td>\n",
       "    </tr>\n",
       "    <tr>\n",
       "      <th>10</th>\n",
       "      <td>surface_covered_in_m2</td>\n",
       "      <td>100</td>\n",
       "      <td>0.012270</td>\n",
       "    </tr>\n",
       "    <tr>\n",
       "      <th>11</th>\n",
       "      <td>price_usd_per_m2</td>\n",
       "      <td>0</td>\n",
       "      <td>0.000000</td>\n",
       "    </tr>\n",
       "    <tr>\n",
       "      <th>12</th>\n",
       "      <td>price_per_m2</td>\n",
       "      <td>100</td>\n",
       "      <td>0.012270</td>\n",
       "    </tr>\n",
       "    <tr>\n",
       "      <th>13</th>\n",
       "      <td>floor</td>\n",
       "      <td>1787</td>\n",
       "      <td>0.219264</td>\n",
       "    </tr>\n",
       "    <tr>\n",
       "      <th>14</th>\n",
       "      <td>rooms</td>\n",
       "      <td>1114</td>\n",
       "      <td>0.136687</td>\n",
       "    </tr>\n",
       "    <tr>\n",
       "      <th>15</th>\n",
       "      <td>expenses</td>\n",
       "      <td>1198</td>\n",
       "      <td>0.146994</td>\n",
       "    </tr>\n",
       "    <tr>\n",
       "      <th>16</th>\n",
       "      <td>description</td>\n",
       "      <td>0</td>\n",
       "      <td>0.000000</td>\n",
       "    </tr>\n",
       "    <tr>\n",
       "      <th>17</th>\n",
       "      <td>title</td>\n",
       "      <td>0</td>\n",
       "      <td>0.000000</td>\n",
       "    </tr>\n",
       "  </tbody>\n",
       "</table>\n",
       "</div>"
      ],
      "text/plain": [
       "                   column_name  missing_count  missing_ratio\n",
       "0                property_type              0       0.000000\n",
       "1                   place_name              0       0.000000\n",
       "2                   state_name              0       0.000000\n",
       "3                          lat            546       0.066994\n",
       "4                          lon            546       0.066994\n",
       "5                        price              0       0.000000\n",
       "6                     currency              0       0.000000\n",
       "7   price_aprox_local_currency              0       0.000000\n",
       "8              price_aprox_usd              0       0.000000\n",
       "9          surface_total_in_m2              0       0.000000\n",
       "10       surface_covered_in_m2            100       0.012270\n",
       "11            price_usd_per_m2              0       0.000000\n",
       "12                price_per_m2            100       0.012270\n",
       "13                       floor           1787       0.219264\n",
       "14                       rooms           1114       0.136687\n",
       "15                    expenses           1198       0.146994\n",
       "16                 description              0       0.000000\n",
       "17                       title              0       0.000000"
      ]
     },
     "execution_count": 66,
     "metadata": {},
     "output_type": "execute_result"
    }
   ],
   "source": [
    "missing_df = bel_price.isnull().sum(axis=0).reset_index()\n",
    "missing_df.columns = ['column_name', 'missing_count']\n",
    "missing_df['missing_ratio'] = missing_df['missing_count'] / df_barrios.shape[0]\n",
    "missing_df#.ix[missing_df['missing_ratio']>0.999]"
   ]
  },
  {
   "cell_type": "code",
   "execution_count": 65,
   "metadata": {
    "scrolled": true
   },
   "outputs": [
    {
     "data": {
      "text/plain": [
       "<AxesSubplot:>"
      ]
     },
     "execution_count": 65,
     "metadata": {},
     "output_type": "execute_result"
    },
    {
     "data": {
      "image/png": "[encoded data removed]",
      "text/plain": [
       "<Figure size 432x288 with 1 Axes>"
      ]
     },
     "metadata": {},
     "output_type": "display_data"
    }
   ],
   "source": [
    "missing = bel_price.isnull().sum()\n",
    "missing = missing[missing > 0]\n",
    "missing.sort_values(inplace=True)\n",
    "missing.plot.bar()"
   ]
  },
  {
   "cell_type": "markdown",
   "metadata": {},
   "source": [
    "Luego de haber tratado la variable target (price_usd_per_m2), vemos que las variables que tienen missing son las siguientes:\n",
    "* A - price_per_m2, surface_covered_in_m2, \n",
    "* B - floor, rooms, expenses,\n",
    "* C - lat, lon,\n",
    "\n",
    "Vemos que podriamos agrupar estas siete variables en tres grupos A B y C teniendo en cuenta la cantidad de missing values y sus interrelaciones. Pensamos que cuando tratemos los missing de la variable de un grupo, por ejemplo surface_covered_in_m2, esta impactara en los missing de la otra variable de su grupo price_per_m2."
   ]
  },
  {
   "cell_type": "markdown",
   "metadata": {},
   "source": [
    "<a id=\"section_price2\"></a> \n",
    "## price_per_m2\n",
    "* estragia: dropna\n",
    "\n",
    "[volver a TOC](#section_toc)"
   ]
  },
  {
   "cell_type": "markdown",
   "metadata": {},
   "source": [
    "Evaluamos esta posibilidad, pero no la aplicamos:"
   ]
  },
  {
   "cell_type": "code",
   "execution_count": 84,
   "metadata": {},
   "outputs": [
    {
     "data": {
      "text/plain": [
       "(1856, 18)"
      ]
     },
     "execution_count": 84,
     "metadata": {},
     "output_type": "execute_result"
    }
   ],
   "source": [
    "bel_price.shape"
   ]
  },
  {
   "cell_type": "code",
   "execution_count": 72,
   "metadata": {},
   "outputs": [],
   "source": [
    "bel_price2 = bel_price.dropna(subset=[\"price_per_m2\"]) #dropna"
   ]
  },
  {
   "cell_type": "code",
   "execution_count": 73,
   "metadata": {},
   "outputs": [
    {
     "data": {
      "text/plain": [
       "(1756, 18)"
      ]
     },
     "execution_count": 73,
     "metadata": {},
     "output_type": "execute_result"
    }
   ],
   "source": [
    "bel_price2.shape"
   ]
  },
  {
   "cell_type": "markdown",
   "metadata": {},
   "source": [
    "Si fuese necesario podriamos drop los valores faltantes de la variable dependiente price_per_m2, dado que son 100 registros unicamente.\n",
    "\n",
    "Optamos por analisar primero surface_covered_in_m2 , ya que impacta en los missing de price_per_m2."
   ]
  },
  {
   "cell_type": "markdown",
   "metadata": {},
   "source": [
    "<a id=\"section_surface\"></a> \n",
    "## surface_covered_in_m2\n",
    "\n",
    "* outliers (IQR, businees)\n",
    "* valores faltantes\n",
    "\n",
    "[volver a TOC](#section_toc)"
   ]
  },
  {
   "cell_type": "code",
   "execution_count": 75,
   "metadata": {},
   "outputs": [
    {
     "name": "stdout",
     "output_type": "stream",
     "text": [
      "count    1756.000000\n",
      "mean       83.486902\n",
      "std        69.239601\n",
      "min         5.000000\n",
      "25%        40.000000\n",
      "50%        57.000000\n",
      "75%       103.000000\n",
      "max       587.000000\n",
      "Name: surface_covered_in_m2, dtype: float64\n"
     ]
    },
    {
     "data": {
      "image/png": "[encoded data removed]",
      "text/plain": [
       "<Figure size 432x288 with 1 Axes>"
      ]
     },
     "metadata": {},
     "output_type": "display_data"
    }
   ],
   "source": [
    "print(bel_price.surface_covered_in_m2.describe()) #Observamos los valores de surface covered\n",
    "sns.distplot(bel_price['surface_covered_in_m2'])\n",
    "plt.show()"
   ]
  },
  {
   "cell_type": "markdown",
   "metadata": {},
   "source": [
    "Para analisar outliers para la variable surface_covered_in_m2, primero calculamos IQR.\n",
    "\n",
    "Asimismo, de acuerdo a la legislacion de la CABA, un departamento se considera como tal a partir de los 18m2. Por lo tanto procedemos a aplicar este valor como limite inferior."
   ]
  },
  {
   "cell_type": "code",
   "execution_count": 77,
   "metadata": {
    "scrolled": true
   },
   "outputs": [
    {
     "data": {
      "text/plain": [
       "<AxesSubplot:xlabel='surface_covered_in_m2'>"
      ]
     },
     "execution_count": 77,
     "metadata": {},
     "output_type": "execute_result"
    },
    {
     "data": {
      "image/png": "[encoded data removed]",
      "text/plain": [
       "<Figure size 432x288 with 1 Axes>"
      ]
     },
     "metadata": {},
     "output_type": "display_data"
    }
   ],
   "source": [
    "sns.boxplot(bel_price['surface_covered_in_m2'])"
   ]
  },
  {
   "cell_type": "code",
   "execution_count": 76,
   "metadata": {},
   "outputs": [
    {
     "name": "stdout",
     "output_type": "stream",
     "text": [
      "count    1756.000000\n",
      "mean       83.486902\n",
      "std        69.239601\n",
      "min         5.000000\n",
      "25%        40.000000\n",
      "50%        57.000000\n",
      "75%       103.000000\n",
      "max       587.000000\n",
      "Name: surface_covered_in_m2, dtype: float64\n"
     ]
    }
   ],
   "source": [
    "print(bel_price.surface_covered_in_m2.describe()) #Observamos los valores de surface covered"
   ]
  },
  {
   "cell_type": "markdown",
   "metadata": {},
   "source": [
    "Evaluamos un LS con quantile 0.75:"
   ]
  },
  {
   "cell_type": "code",
   "execution_count": 78,
   "metadata": {},
   "outputs": [
    {
     "name": "stdout",
     "output_type": "stream",
     "text": [
      "El limite superior es : 197.5\n"
     ]
    }
   ],
   "source": [
    "#Defino el rango intercuartil para observar el limite superior\n",
    "IQR_s75 = bel_price['surface_covered_in_m2'].quantile(0.75) - bel_price['surface_covered_in_m2'].quantile(0.25)\n",
    "LS_75 = bel_price['surface_covered_in_m2'].quantile(0.75) + 1.5*IQR_s75\n",
    "print(\"El limite superior es :\", round(LS_75,2))"
   ]
  },
  {
   "cell_type": "markdown",
   "metadata": {},
   "source": [
    "Un LS con 0.95 quantil pareceria dejar muchas observaciones fuera. Probamos con 0.90."
   ]
  },
  {
   "cell_type": "code",
   "execution_count": 80,
   "metadata": {},
   "outputs": [
    {
     "name": "stdout",
     "output_type": "stream",
     "text": [
      "El limite superior para quantile(0.90) es:  361.25\n"
     ]
    }
   ],
   "source": [
    "#Defino el rango intercuartil para observar el limite superior\n",
    "IQR_s = bel_price['surface_covered_in_m2'].quantile(0.90) - bel_price['surface_covered_in_m2'].quantile(0.25)\n",
    "LS_s = bel_price['surface_covered_in_m2'].quantile(0.90) + 1.5*IQR_s\n",
    "print(\"El limite superior para quantile(0.90) es: \", round(LS_s,2))"
   ]
  },
  {
   "cell_type": "code",
   "execution_count": 81,
   "metadata": {},
   "outputs": [
    {
     "data": {
      "text/plain": [
       "(1856, 18)"
      ]
     },
     "execution_count": 81,
     "metadata": {},
     "output_type": "execute_result"
    }
   ],
   "source": [
    "bel_price.shape"
   ]
  },
  {
   "cell_type": "code",
   "execution_count": 83,
   "metadata": {},
   "outputs": [
    {
     "data": {
      "text/plain": [
       "count    1756.000000\n",
       "mean       83.486902\n",
       "std        69.239601\n",
       "min         5.000000\n",
       "25%        40.000000\n",
       "50%        57.000000\n",
       "75%       103.000000\n",
       "max       587.000000\n",
       "Name: surface_covered_in_m2, dtype: float64"
      ]
     },
     "execution_count": 83,
     "metadata": {},
     "output_type": "execute_result"
    }
   ],
   "source": [
    "bel_price['surface_covered_in_m2'].describe()"
   ]
  },
  {
   "cell_type": "code",
   "execution_count": 86,
   "metadata": {},
   "outputs": [
    {
     "data": {
      "text/plain": [
       "100"
      ]
     },
     "execution_count": 86,
     "metadata": {},
     "output_type": "execute_result"
    }
   ],
   "source": [
    "1856-1756 #La diferencia son los missings ente shape y describe de surface_covered_in_m2"
   ]
  },
  {
   "cell_type": "code",
   "execution_count": 88,
   "metadata": {},
   "outputs": [
    {
     "name": "stdout",
     "output_type": "stream",
     "text": [
      "(1744, 18)\n",
      "count    1744.000000\n",
      "mean       80.942661\n",
      "std        62.024426\n",
      "min         5.000000\n",
      "25%        39.000000\n",
      "50%        57.000000\n",
      "75%       101.000000\n",
      "max       361.000000\n",
      "Name: surface_covered_in_m2, dtype: float64\n"
     ]
    }
   ],
   "source": [
    "bel_LS_s = bel_price[bel_price['surface_covered_in_m2']<= LS_s]\n",
    "print(bel_LS_s.shape)\n",
    "print(bel_LS_s['surface_covered_in_m2'].describe())\n",
    "#bel_LS_s.head(2)"
   ]
  },
  {
   "cell_type": "code",
   "execution_count": 89,
   "metadata": {},
   "outputs": [
    {
     "data": {
      "text/plain": [
       "12"
      ]
     },
     "execution_count": 89,
     "metadata": {},
     "output_type": "execute_result"
    }
   ],
   "source": [
    "1756-1744 #Un LS de 365 saca 12 valores, es decir 0,01% de los valores"
   ]
  },
  {
   "cell_type": "code",
   "execution_count": 91,
   "metadata": {},
   "outputs": [
    {
     "name": "stdout",
     "output_type": "stream",
     "text": [
      "count    1744.000000\n",
      "mean       80.942661\n",
      "std        62.024426\n",
      "min         5.000000\n",
      "25%        39.000000\n",
      "50%        57.000000\n",
      "75%       101.000000\n",
      "max       361.000000\n",
      "Name: surface_covered_in_m2, dtype: float64\n"
     ]
    },
    {
     "data": {
      "image/png": "[encoded data removed]",
      "text/plain": [
       "<Figure size 432x288 with 1 Axes>"
      ]
     },
     "metadata": {},
     "output_type": "display_data"
    }
   ],
   "source": [
    "print(bel_LS_s.surface_covered_in_m2.describe()) #Observamos los valores de surface covered\n",
    "sns.distplot(bel_LS_s['surface_covered_in_m2'])\n",
    "plt.show()"
   ]
  },
  {
   "cell_type": "code",
   "execution_count": 92,
   "metadata": {},
   "outputs": [
    {
     "data": {
      "text/plain": [
       "<AxesSubplot:xlabel='surface_covered_in_m2'>"
      ]
     },
     "execution_count": 92,
     "metadata": {},
     "output_type": "execute_result"
    },
    {
     "data": {
      "image/png": "[encoded data removed]",
      "text/plain": [
       "<Figure size 432x288 with 1 Axes>"
      ]
     },
     "metadata": {},
     "output_type": "display_data"
    }
   ],
   "source": [
    "sns.boxplot(bel_LS_s['surface_covered_in_m2'])"
   ]
  },
  {
   "cell_type": "code",
   "execution_count": 93,
   "metadata": {},
   "outputs": [
    {
     "data": {
      "text/html": [
       "<div>\n",
       "<style scoped>\n",
       "    .dataframe tbody tr th:only-of-type {\n",
       "        vertical-align: middle;\n",
       "    }\n",
       "\n",
       "    .dataframe tbody tr th {\n",
       "        vertical-align: top;\n",
       "    }\n",
       "\n",
       "    .dataframe thead th {\n",
       "        text-align: right;\n",
       "    }\n",
       "</style>\n",
       "<table border=\"1\" class=\"dataframe\">\n",
       "  <thead>\n",
       "    <tr style=\"text-align: right;\">\n",
       "      <th></th>\n",
       "      <th>column_name</th>\n",
       "      <th>missing_count</th>\n",
       "      <th>missing_ratio</th>\n",
       "    </tr>\n",
       "  </thead>\n",
       "  <tbody>\n",
       "    <tr>\n",
       "      <th>0</th>\n",
       "      <td>property_type</td>\n",
       "      <td>0</td>\n",
       "      <td>0.000000</td>\n",
       "    </tr>\n",
       "    <tr>\n",
       "      <th>1</th>\n",
       "      <td>place_name</td>\n",
       "      <td>0</td>\n",
       "      <td>0.000000</td>\n",
       "    </tr>\n",
       "    <tr>\n",
       "      <th>2</th>\n",
       "      <td>state_name</td>\n",
       "      <td>0</td>\n",
       "      <td>0.000000</td>\n",
       "    </tr>\n",
       "    <tr>\n",
       "      <th>3</th>\n",
       "      <td>lat</td>\n",
       "      <td>486</td>\n",
       "      <td>0.059632</td>\n",
       "    </tr>\n",
       "    <tr>\n",
       "      <th>4</th>\n",
       "      <td>lon</td>\n",
       "      <td>486</td>\n",
       "      <td>0.059632</td>\n",
       "    </tr>\n",
       "    <tr>\n",
       "      <th>5</th>\n",
       "      <td>price</td>\n",
       "      <td>0</td>\n",
       "      <td>0.000000</td>\n",
       "    </tr>\n",
       "    <tr>\n",
       "      <th>6</th>\n",
       "      <td>currency</td>\n",
       "      <td>0</td>\n",
       "      <td>0.000000</td>\n",
       "    </tr>\n",
       "    <tr>\n",
       "      <th>7</th>\n",
       "      <td>price_aprox_local_currency</td>\n",
       "      <td>0</td>\n",
       "      <td>0.000000</td>\n",
       "    </tr>\n",
       "    <tr>\n",
       "      <th>8</th>\n",
       "      <td>price_aprox_usd</td>\n",
       "      <td>0</td>\n",
       "      <td>0.000000</td>\n",
       "    </tr>\n",
       "    <tr>\n",
       "      <th>9</th>\n",
       "      <td>surface_total_in_m2</td>\n",
       "      <td>0</td>\n",
       "      <td>0.000000</td>\n",
       "    </tr>\n",
       "    <tr>\n",
       "      <th>10</th>\n",
       "      <td>surface_covered_in_m2</td>\n",
       "      <td>0</td>\n",
       "      <td>0.000000</td>\n",
       "    </tr>\n",
       "    <tr>\n",
       "      <th>11</th>\n",
       "      <td>price_usd_per_m2</td>\n",
       "      <td>0</td>\n",
       "      <td>0.000000</td>\n",
       "    </tr>\n",
       "    <tr>\n",
       "      <th>12</th>\n",
       "      <td>price_per_m2</td>\n",
       "      <td>0</td>\n",
       "      <td>0.000000</td>\n",
       "    </tr>\n",
       "    <tr>\n",
       "      <th>13</th>\n",
       "      <td>floor</td>\n",
       "      <td>1679</td>\n",
       "      <td>0.206012</td>\n",
       "    </tr>\n",
       "    <tr>\n",
       "      <th>14</th>\n",
       "      <td>rooms</td>\n",
       "      <td>1017</td>\n",
       "      <td>0.124785</td>\n",
       "    </tr>\n",
       "    <tr>\n",
       "      <th>15</th>\n",
       "      <td>expenses</td>\n",
       "      <td>1124</td>\n",
       "      <td>0.137914</td>\n",
       "    </tr>\n",
       "    <tr>\n",
       "      <th>16</th>\n",
       "      <td>description</td>\n",
       "      <td>0</td>\n",
       "      <td>0.000000</td>\n",
       "    </tr>\n",
       "    <tr>\n",
       "      <th>17</th>\n",
       "      <td>title</td>\n",
       "      <td>0</td>\n",
       "      <td>0.000000</td>\n",
       "    </tr>\n",
       "  </tbody>\n",
       "</table>\n",
       "</div>"
      ],
      "text/plain": [
       "                   column_name  missing_count  missing_ratio\n",
       "0                property_type              0       0.000000\n",
       "1                   place_name              0       0.000000\n",
       "2                   state_name              0       0.000000\n",
       "3                          lat            486       0.059632\n",
       "4                          lon            486       0.059632\n",
       "5                        price              0       0.000000\n",
       "6                     currency              0       0.000000\n",
       "7   price_aprox_local_currency              0       0.000000\n",
       "8              price_aprox_usd              0       0.000000\n",
       "9          surface_total_in_m2              0       0.000000\n",
       "10       surface_covered_in_m2              0       0.000000\n",
       "11            price_usd_per_m2              0       0.000000\n",
       "12                price_per_m2              0       0.000000\n",
       "13                       floor           1679       0.206012\n",
       "14                       rooms           1017       0.124785\n",
       "15                    expenses           1124       0.137914\n",
       "16                 description              0       0.000000\n",
       "17                       title              0       0.000000"
      ]
     },
     "execution_count": 93,
     "metadata": {},
     "output_type": "execute_result"
    }
   ],
   "source": [
    "missing_df = bel_LS_s.isnull().sum(axis=0).reset_index()\n",
    "missing_df.columns = ['column_name', 'missing_count']\n",
    "missing_df['missing_ratio'] = missing_df['missing_count'] / df_barrios.shape[0]\n",
    "missing_df# #no hay mas missings para surface"
   ]
  },
  {
   "cell_type": "markdown",
   "metadata": {},
   "source": [
    "Si aplicamos el IQR LS quantile 0.90 a la variable surface_covered_in_m2 :\n",
    "\n",
    "* eliminamos los missings\n",
    "* estamos quitando 0,01%% de los registros\n",
    "\n",
    "Por lo que es un LS 0.90 conveniente.\n",
    "\n",
    "Asimismo, de acuerdo a la legislacion de la CABA, un departamento se considera como tal a partir de los 18m2. Por lo tanto aplicamos este valor como limite inferior."
   ]
  },
  {
   "cell_type": "code",
   "execution_count": 94,
   "metadata": {},
   "outputs": [
    {
     "data": {
      "text/plain": [
       "count    1743.000000\n",
       "mean       80.986231\n",
       "std        62.015524\n",
       "min        19.000000\n",
       "25%        39.000000\n",
       "50%        57.000000\n",
       "75%       101.000000\n",
       "max       361.000000\n",
       "Name: surface_covered_in_m2, dtype: float64"
      ]
     },
     "execution_count": 94,
     "metadata": {},
     "output_type": "execute_result"
    }
   ],
   "source": [
    "#como minimo un departamente tiene que tener 18 m cuadrados\n",
    "bel_pm2_scm2 = bel_LS_s[bel_LS_s['surface_covered_in_m2']>= 18]\n",
    "bel_pm2_scm2['surface_covered_in_m2'].describe()\n"
   ]
  },
  {
   "cell_type": "markdown",
   "metadata": {},
   "source": [
    "Se puede ver el minimo de 18m2 en la variable surface_covered_in_m2. Con este LI, solo perdemos un registro.\n",
    "\n",
    "Las variables que tienen missing son lat, lon, floor, rooms,expenses."
   ]
  },
  {
   "cell_type": "markdown",
   "metadata": {},
   "source": [
    "<a id=\"section_exp\"></a> \n",
    "## expenses\n",
    "\n",
    "[volver a TOC](#section_toc)"
   ]
  },
  {
   "cell_type": "markdown",
   "metadata": {},
   "source": [
    "Al ver expenses, decidimos trabajar primero con rooms."
   ]
  },
  {
   "cell_type": "code",
   "execution_count": 104,
   "metadata": {},
   "outputs": [
    {
     "name": "stdout",
     "output_type": "stream",
     "text": [
      "count      619.000000\n",
      "mean      5494.117932\n",
      "std       5827.830909\n",
      "min          1.000000\n",
      "25%       1650.000000\n",
      "50%       3388.000000\n",
      "75%       7450.000000\n",
      "max      54240.000000\n",
      "Name: expenses, dtype: float64\n"
     ]
    },
    {
     "data": {
      "image/png": "[encoded data removed]",
      "text/plain": [
       "<Figure size 432x288 with 1 Axes>"
      ]
     },
     "metadata": {},
     "output_type": "display_data"
    }
   ],
   "source": [
    "print(bel_pm2_scm2.expenses.describe()) \n",
    "sns.distplot(bel_LS_s['expenses'])\n",
    "plt.show()"
   ]
  },
  {
   "cell_type": "code",
   "execution_count": 112,
   "metadata": {},
   "outputs": [],
   "source": [
    "sns.set_style(\"darkgrid\")"
   ]
  },
  {
   "cell_type": "code",
   "execution_count": 113,
   "metadata": {},
   "outputs": [
    {
     "data": {
      "text/plain": [
       "<AxesSubplot:xlabel='expenses'>"
      ]
     },
     "execution_count": 113,
     "metadata": {},
     "output_type": "execute_result"
    },
    {
     "data": {
      "image/png": "[encoded data removed]",
      "text/plain": [
       "<Figure size 432x288 with 1 Axes>"
      ]
     },
     "metadata": {},
     "output_type": "display_data"
    }
   ],
   "source": [
    "sns.boxplot(bel_pm2_scm2['expenses'])"
   ]
  },
  {
   "cell_type": "markdown",
   "metadata": {},
   "source": [
    "De acuerdo al histograma y box plot, vemos que habria outliers por encima de los 35.000 aproximadamente."
   ]
  },
  {
   "cell_type": "code",
   "execution_count": 110,
   "metadata": {},
   "outputs": [
    {
     "data": {
      "text/plain": [
       "expenses\n",
       "1.0         34.5\n",
       "250.0       38.0\n",
       "300.0       33.0\n",
       "500.0       32.5\n",
       "590.0       67.0\n",
       "           ...  \n",
       "25000.0    284.0\n",
       "25900.0    278.0\n",
       "29000.0    245.0\n",
       "30000.0    172.0\n",
       "54240.0     83.0\n",
       "Name: surface_covered_in_m2, Length: 194, dtype: float64"
      ]
     },
     "execution_count": 110,
     "metadata": {},
     "output_type": "execute_result"
    }
   ],
   "source": [
    "bel_pm2_scm2.groupby(['expenses'])['surface_covered_in_m2'].median() #esto es coherente."
   ]
  },
  {
   "cell_type": "code",
   "execution_count": 106,
   "metadata": {},
   "outputs": [
    {
     "data": {
      "text/plain": [
       "rooms\n",
       "1.0     2600.0\n",
       "2.0     1900.0\n",
       "3.0     3230.0\n",
       "4.0     7000.0\n",
       "5.0    14000.0\n",
       "6.0     3700.0\n",
       "7.0        NaN\n",
       "8.0        NaN\n",
       "Name: expenses, dtype: float64"
      ]
     },
     "execution_count": 106,
     "metadata": {},
     "output_type": "execute_result"
    }
   ],
   "source": [
    "bel_pm2_scm2.groupby(['rooms'])['expenses'].median()"
   ]
  },
  {
   "cell_type": "markdown",
   "metadata": {},
   "source": [
    "Asimismo al observar las expensas en relacion a los cuartos vemos que:\n",
    "* los missing se agrupan en las propiedades que tienen mas de 7 y 8 cuartos.\n",
    "* podria haber un dato erroneo de expensas en los apartamentos de :\n",
    "    - 5 cuartos, dado que la mediana se dispara\n",
    "    - 6 cuartos, dado que la mediana es menor a los de menos cuartos\n",
    "\n",
    "Por este motivo, primero trataremos la variable room, y luego volveremos a expensas."
   ]
  },
  {
   "cell_type": "markdown",
   "metadata": {},
   "source": [
    "<a id=\"section_room\"></a> \n",
    "## room\n",
    "\n",
    "[volver a TOC](#section_toc)"
   ]
  },
  {
   "cell_type": "raw",
   "metadata": {},
   "source": [
    "vble    #mis    %miss\n",
    "floor\t1679\t0.206012\n",
    "rooms\t1017\t0.124785\n",
    "expen\t1124\t0.137914"
   ]
  },
  {
   "cell_type": "code",
   "execution_count": 143,
   "metadata": {},
   "outputs": [],
   "source": [
    "def count_plotter(data, label, labelsize=12):    \n",
    "    sns.set(rc={\"figure.figsize\": (10, 7), \n",
    "                \"xtick.labelsize\": labelsize})\n",
    "    sns.set_style(\"white\")    \n",
    "    data_count = sns.countplot(data)\n",
    "    data_count.set_title('Histograma de ' + label + '\\n', fontsize=16)"
   ]
  },
  {
   "cell_type": "code",
   "execution_count": 144,
   "metadata": {},
   "outputs": [
    {
     "data": {
      "image/png": "[encoded data removed]",
      "text/plain": [
       "<Figure size 720x504 with 1 Axes>"
      ]
     },
     "metadata": {},
     "output_type": "display_data"
    }
   ],
   "source": [
    "count_plotter(bel_pm2_scm2.rooms, \"rooms\")"
   ]
  },
  {
   "cell_type": "code",
   "execution_count": 134,
   "metadata": {},
   "outputs": [
    {
     "name": "stdout",
     "output_type": "stream",
     "text": [
      "0    3.0\n",
      "dtype: float64\n"
     ]
    },
    {
     "data": {
      "text/plain": [
       "3.0    196\n",
       "4.0    182\n",
       "2.0    146\n",
       "1.0    133\n",
       "5.0     56\n",
       "6.0      7\n",
       "7.0      5\n",
       "8.0      1\n",
       "Name: rooms, dtype: int64"
      ]
     },
     "execution_count": 134,
     "metadata": {},
     "output_type": "execute_result"
    }
   ],
   "source": [
    "print(bel_pm2_scm2.rooms.mode()) #La moda son 3 cuartos\n",
    "bel_pm2_scm2.rooms.value_counts() #no tenemos muchas observaciones a partir de 5 cuartos"
   ]
  },
  {
   "cell_type": "code",
   "execution_count": 135,
   "metadata": {},
   "outputs": [
    {
     "data": {
      "text/plain": [
       "69"
      ]
     },
     "execution_count": 135,
     "metadata": {},
     "output_type": "execute_result"
    }
   ],
   "source": [
    "56+7+5+1 #registros que se pierden si no squedamos con 1 2 3 4 cuartos"
   ]
  },
  {
   "cell_type": "markdown",
   "metadata": {},
   "source": [
    "Dado que no tenemos muchas observaciones de apartamentos de 5 6 7 y 8 cuatos, restringimos el analisis. Nos concentramos en departamentos de 1 2 3 o 4 cuartos. De esta forma, solo estamos perdiendo 69 registros.\n",
    "\n",
    "Dropeamos las 69 rows que tienen 5 6 7 u 8 cuartos:"
   ]
  },
  {
   "cell_type": "code",
   "execution_count": 174,
   "metadata": {},
   "outputs": [
    {
     "name": "stdout",
     "output_type": "stream",
     "text": [
      "Registros eliminados 69\n"
     ]
    },
    {
     "data": {
      "text/plain": [
       "3.0    196\n",
       "4.0    182\n",
       "2.0    146\n",
       "1.0    133\n",
       "Name: rooms, dtype: int64"
      ]
     },
     "execution_count": 174,
     "metadata": {},
     "output_type": "execute_result"
    }
   ],
   "source": [
    "a = [5,6,7,8]\n",
    "\n",
    "bel_rooms = bel_pm2_scm2[~bel_pm2_scm2['rooms'].isin(a)]\n",
    "\n",
    "b = bel_pm2_scm2.shape[0] - bel_rooms.shape[0]\n",
    "print(\"Registros eliminados\", b )\n",
    "bel_rooms.rooms.value_counts()\n"
   ]
  },
  {
   "cell_type": "markdown",
   "metadata": {},
   "source": [
    "Asimismo, tenemos 1017 missing de la variable rooms que podemos reemplazar:\n",
    "* con la moda:3\n",
    "* con una proporcion de 3 y 4, los mayores valores.\n",
    "* siguiendo las proporciones de 1 2 3 y 4 cuartos...?"
   ]
  },
  {
   "cell_type": "code",
   "execution_count": 175,
   "metadata": {},
   "outputs": [
    {
     "name": "stdout",
     "output_type": "stream",
     "text": [
      "# nulos en rooms:  1017\n",
      "# 1 en rooms:  133\n",
      "# 2 en rooms:  146\n",
      "# 3 en rooms:  196\n",
      "# 4 en rooms:  182\n",
      "# de rooms 657\n"
     ]
    }
   ],
   "source": [
    "#Cantidad de nulos, 1 2 3 4 rooms:\n",
    "cant_car_null = bel_rooms.rooms.isnull().sum()\n",
    "print(\"# nulos en rooms: \",cant_car_null)\n",
    "\n",
    "car_one_mask = bel_rooms.rooms == 1\n",
    "cant_car_1 = car_one_mask.sum()\n",
    "print(\"# 1 en rooms: \",cant_car_1)\n",
    "\n",
    "car_two_mask = bel_rooms.rooms == 2\n",
    "cant_car_2 = car_two_mask.sum()\n",
    "print(\"# 2 en rooms: \",cant_car_2)\n",
    "\n",
    "car_three_mask = bel_rooms.rooms == 3\n",
    "cant_car_3 = car_three_mask.sum()\n",
    "print(\"# 3 en rooms: \",cant_car_3)\n",
    "\n",
    "car_four_mask = bel_rooms.rooms == 4\n",
    "cant_car_4 = car_four_mask.sum()\n",
    "print(\"# 4 en rooms: \",cant_car_4)\n",
    "\n",
    "print(\"# de rooms\", cant_car_1+cant_car_2+cant_car_3+cant_car_4)"
   ]
  },
  {
   "cell_type": "code",
   "execution_count": 165,
   "metadata": {},
   "outputs": [
    {
     "name": "stdout",
     "output_type": "stream",
     "text": [
      "proporcion para 1 cuartos:  0.2\n",
      "proporcion para 2 cuartos:  0.22\n",
      "proporcion para 3 cuartos:  0.3\n",
      "proporcion para 4 cuartos:  0.28\n"
     ]
    }
   ],
   "source": [
    "p1 = 133/657\n",
    "print(\"proporcion para 1 cuartos: \",  round(p1,2))\n",
    "p2 = 146/657\n",
    "print(\"proporcion para 2 cuartos: \", round(p2,2))\n",
    "p3 = 196/657\n",
    "print(\"proporcion para 3 cuartos: \", round(p3,2))\n",
    "p4 = 182/657\n",
    "print(\"proporcion para 4 cuartos: \", round(p4,2))"
   ]
  },
  {
   "cell_type": "code",
   "execution_count": null,
   "metadata": {},
   "outputs": [],
   "source": [
    "# los registros que son nulos:\n",
    "data_car_null_mask = bel_rooms.rooms.isnull()\n",
    "data_car_null = bel_rooms.loc[data_car_null_mask, :]\n",
    "print(data_car_null.shape[0])\n",
    "\n",
    "# una muestra del 20% de los registros calculados en el paso anterior:\n",
    "data_car_null_mask_sample_1 = data_car_null.sample(frac = 0.2)\n",
    "# los índices de ese 20%\n",
    "data_car_null_ones_index = data_car_null_mask_sample_1.index\n",
    "print(len(data_car_null_ones_index))\n",
    "\n",
    "# una muestra del 22% de los registros calculados en el paso anterior:\n",
    "data_car_null_mask_sample_1 = data_car_null.sample(frac = 0.22)\n",
    "# los índices de ese 20%\n",
    "data_car_null_ones_index = data_car_null_mask_sample_1.index\n",
    "print(len(data_car_null_ones_index))\n",
    "\n",
    "\n",
    "\n",
    "\n",
    "\n",
    "# los que van a ser rellenados con valor 2 son todos los que no fueron seleccionados en el paso anterior:\n",
    "data_car_null_twos_index = data_car_null.index.difference(data_car_null_ones_index)\n",
    "print(len(data_car_null_twos_index))\n"
   ]
  },
  {
   "cell_type": "code",
   "execution_count": null,
   "metadata": {},
   "outputs": [],
   "source": [
    "bel_room = bel_pm2_scm2.iloc[:,0].fillna(bel_pm2_scm2.iloc[:,0])"
   ]
  },
  {
   "cell_type": "markdown",
   "metadata": {},
   "source": [
    "Opcion de Lucas:"
   ]
  },
  {
   "cell_type": "code",
   "execution_count": 119,
   "metadata": {},
   "outputs": [
    {
     "data": {
      "text/html": [
       "<div>\n",
       "<style scoped>\n",
       "    .dataframe tbody tr th:only-of-type {\n",
       "        vertical-align: middle;\n",
       "    }\n",
       "\n",
       "    .dataframe tbody tr th {\n",
       "        vertical-align: top;\n",
       "    }\n",
       "\n",
       "    .dataframe thead tr th {\n",
       "        text-align: left;\n",
       "    }\n",
       "\n",
       "    .dataframe thead tr:last-of-type th {\n",
       "        text-align: right;\n",
       "    }\n",
       "</style>\n",
       "<table border=\"1\" class=\"dataframe\">\n",
       "  <thead>\n",
       "    <tr>\n",
       "      <th></th>\n",
       "      <th colspan=\"5\" halign=\"left\">surface_covered_in_m2</th>\n",
       "    </tr>\n",
       "    <tr>\n",
       "      <th></th>\n",
       "      <th>count</th>\n",
       "      <th>max</th>\n",
       "      <th>mean</th>\n",
       "      <th>median</th>\n",
       "      <th>min</th>\n",
       "    </tr>\n",
       "    <tr>\n",
       "      <th>rooms</th>\n",
       "      <th></th>\n",
       "      <th></th>\n",
       "      <th></th>\n",
       "      <th></th>\n",
       "      <th></th>\n",
       "    </tr>\n",
       "  </thead>\n",
       "  <tbody>\n",
       "    <tr>\n",
       "      <th>1.0</th>\n",
       "      <td>133</td>\n",
       "      <td>53.0</td>\n",
       "      <td>33.436090</td>\n",
       "      <td>32.0</td>\n",
       "      <td>19.0</td>\n",
       "    </tr>\n",
       "    <tr>\n",
       "      <th>2.0</th>\n",
       "      <td>146</td>\n",
       "      <td>68.0</td>\n",
       "      <td>45.541096</td>\n",
       "      <td>45.0</td>\n",
       "      <td>24.0</td>\n",
       "    </tr>\n",
       "    <tr>\n",
       "      <th>3.0</th>\n",
       "      <td>196</td>\n",
       "      <td>172.0</td>\n",
       "      <td>75.795918</td>\n",
       "      <td>71.0</td>\n",
       "      <td>41.0</td>\n",
       "    </tr>\n",
       "    <tr>\n",
       "      <th>4.0</th>\n",
       "      <td>182</td>\n",
       "      <td>353.0</td>\n",
       "      <td>123.659341</td>\n",
       "      <td>120.0</td>\n",
       "      <td>28.0</td>\n",
       "    </tr>\n",
       "    <tr>\n",
       "      <th>5.0</th>\n",
       "      <td>56</td>\n",
       "      <td>361.0</td>\n",
       "      <td>212.321429</td>\n",
       "      <td>201.0</td>\n",
       "      <td>88.0</td>\n",
       "    </tr>\n",
       "    <tr>\n",
       "      <th>6.0</th>\n",
       "      <td>7</td>\n",
       "      <td>300.0</td>\n",
       "      <td>233.857143</td>\n",
       "      <td>280.0</td>\n",
       "      <td>133.0</td>\n",
       "    </tr>\n",
       "    <tr>\n",
       "      <th>7.0</th>\n",
       "      <td>5</td>\n",
       "      <td>310.0</td>\n",
       "      <td>242.600000</td>\n",
       "      <td>233.0</td>\n",
       "      <td>197.0</td>\n",
       "    </tr>\n",
       "    <tr>\n",
       "      <th>8.0</th>\n",
       "      <td>1</td>\n",
       "      <td>348.0</td>\n",
       "      <td>348.000000</td>\n",
       "      <td>348.0</td>\n",
       "      <td>348.0</td>\n",
       "    </tr>\n",
       "  </tbody>\n",
       "</table>\n",
       "</div>"
      ],
      "text/plain": [
       "      surface_covered_in_m2                                 \n",
       "                      count    max        mean median    min\n",
       "rooms                                                       \n",
       "1.0                     133   53.0   33.436090   32.0   19.0\n",
       "2.0                     146   68.0   45.541096   45.0   24.0\n",
       "3.0                     196  172.0   75.795918   71.0   41.0\n",
       "4.0                     182  353.0  123.659341  120.0   28.0\n",
       "5.0                      56  361.0  212.321429  201.0   88.0\n",
       "6.0                       7  300.0  233.857143  280.0  133.0\n",
       "7.0                       5  310.0  242.600000  233.0  197.0\n",
       "8.0                       1  348.0  348.000000  348.0  348.0"
      ]
     },
     "execution_count": 119,
     "metadata": {},
     "output_type": "execute_result"
    }
   ],
   "source": [
    "bel_pm2_scm2.pivot_table(index='rooms', aggfunc={'surface_covered_in_m2' : ['count', 'min', 'max', 'mean', 'median']})"
   ]
  },
  {
   "cell_type": "code",
   "execution_count": 136,
   "metadata": {},
   "outputs": [
    {
     "data": {
      "text/plain": [
       "count    1743.000000\n",
       "mean       80.986231\n",
       "std        62.015524\n",
       "min        19.000000\n",
       "25%        39.000000\n",
       "50%        57.000000\n",
       "75%       101.000000\n",
       "max       361.000000\n",
       "Name: surface_covered_in_m2, dtype: float64"
      ]
     },
     "execution_count": 136,
     "metadata": {},
     "output_type": "execute_result"
    }
   ],
   "source": [
    "bel_pm2_scm2.surface_covered_in_m2.describe()"
   ]
  },
  {
   "cell_type": "code",
   "execution_count": 137,
   "metadata": {},
   "outputs": [],
   "source": [
    "bel_pm2_scm2_lu = bel_pm2_scm2"
   ]
  },
  {
   "cell_type": "code",
   "execution_count": 139,
   "metadata": {},
   "outputs": [
    {
     "name": "stderr",
     "output_type": "stream",
     "text": [
      "/opt/anaconda3/envs/dhdsblend/lib/python3.7/site-packages/ipykernel_launcher.py:5: SettingWithCopyWarning: \n",
      "A value is trying to be set on a copy of a slice from a DataFrame.\n",
      "Try using .loc[row_indexer,col_indexer] = value instead\n",
      "\n",
      "See the caveats in the documentation: https://pandas.pydata.org/pandas-docs/stable/user_guide/indexing.html#returning-a-view-versus-a-copy\n",
      "  \"\"\"\n"
     ]
    }
   ],
   "source": [
    "bins = [19, 34, 46, 76, 124, 213, 234, 243, 362]\n",
    "labels = ['1','2', '3', '4', '5', '6', '7', '8']\n",
    "\n",
    "cuartos_belgrano = pd.cut(bel_pm2_scm2_lu.surface_covered_in_m2, bins = bins, labels = labels)\n",
    "bel_pm2_scm2_lu['division'] = cuartos_belgrano"
   ]
  },
  {
   "cell_type": "markdown",
   "metadata": {},
   "source": [
    "<a id=\"section_floor\"></a> \n",
    "## floor\n",
    "\n",
    "[volver a TOC](#section_toc)"
   ]
  },
  {
   "cell_type": "code",
   "execution_count": null,
   "metadata": {},
   "outputs": [],
   "source": []
  },
  {
   "cell_type": "code",
   "execution_count": 128,
   "metadata": {},
   "outputs": [
    {
     "data": {
      "text/plain": [
       "2.0     14\n",
       "1.0     11\n",
       "3.0      9\n",
       "4.0      7\n",
       "5.0      5\n",
       "6.0      5\n",
       "22.0     3\n",
       "7.0      3\n",
       "8.0      2\n",
       "13.0     1\n",
       "14.0     1\n",
       "11.0     1\n",
       "12.0     1\n",
       "17.0     1\n",
       "Name: floor, dtype: int64"
      ]
     },
     "execution_count": 128,
     "metadata": {},
     "output_type": "execute_result"
    }
   ],
   "source": [
    "bel_pm2_scm2.floor.value_counts()"
   ]
  },
  {
   "cell_type": "code",
   "execution_count": 132,
   "metadata": {},
   "outputs": [
    {
     "data": {
      "text/plain": [
       "<AxesSubplot:xlabel='rooms', ylabel='expenses'>"
      ]
     },
     "execution_count": 132,
     "metadata": {},
     "output_type": "execute_result"
    },
    {
     "data": {
      "image/png": "[encoded data removed]",
      "text/plain": [
       "<Figure size 432x288 with 1 Axes>"
      ]
     },
     "metadata": {},
     "output_type": "display_data"
    }
   ],
   "source": [
    "# set the backgroud stle of the plot \n",
    "sns.set_style('darkgrid') \n",
    "  \n",
    "# plot the graph using the default estimator mean \n",
    "#sns.barplot(x ='floor', y ='expensas', data = df, palette ='plasma') \n",
    "  \n",
    "# or \n",
    "import numpy as np \n",
    "  \n",
    "# change the estimator from mean to standard devaition \n",
    "sns.barplot(x ='rooms', y ='expenses', data = df,  \n",
    "            palette ='plasma', estimator = np.std) "
   ]
  },
  {
   "cell_type": "markdown",
   "metadata": {},
   "source": [
    "<a id=\"section_lat_lon\"></a> \n",
    "## lat lon\n",
    "\n",
    "[volver a TOC](#section_toc)"
   ]
  },
  {
   "cell_type": "code",
   "execution_count": null,
   "metadata": {
    "scrolled": false
   },
   "outputs": [],
   "source": [
    "plt.figure(figsize=(12,12))\n",
    "sns.jointplot(x=df_barrios.lat.values, y=df_barrios.lon.values, height=10)\n",
    "plt.ylabel('Longitude', fontsize=12)\n",
    "plt.xlabel('Latitude', fontsize=12)\n",
    "plt.show()"
   ]
  },
  {
   "cell_type": "code",
   "execution_count": null,
   "metadata": {},
   "outputs": [],
   "source": [
    "#dropear lat lon nulos"
   ]
  },
  {
   "cell_type": "markdown",
   "metadata": {},
   "source": [
    "<a id=\"section_duplicados\"></a> \n",
    "## Duplicados\n",
    "\n",
    "[volver a TOC](#section_toc)"
   ]
  },
  {
   "cell_type": "markdown",
   "metadata": {},
   "source": [
    "<a id=\"section_nuevas\"></a> \n",
    "## Nuevas columnas\n",
    "\n",
    "[volver a TOC](#section_toc)"
   ]
  },
  {
   "cell_type": "code",
   "execution_count": 126,
   "metadata": {},
   "outputs": [
    {
     "data": {
      "text/html": [
       "<div>\n",
       "<style scoped>\n",
       "    .dataframe tbody tr th:only-of-type {\n",
       "        vertical-align: middle;\n",
       "    }\n",
       "\n",
       "    .dataframe tbody tr th {\n",
       "        vertical-align: top;\n",
       "    }\n",
       "\n",
       "    .dataframe thead th {\n",
       "        text-align: right;\n",
       "    }\n",
       "</style>\n",
       "<table border=\"1\" class=\"dataframe\">\n",
       "  <thead>\n",
       "    <tr style=\"text-align: right;\">\n",
       "      <th></th>\n",
       "      <th>property_type</th>\n",
       "      <th>place_name</th>\n",
       "      <th>state_name</th>\n",
       "      <th>lat</th>\n",
       "      <th>lon</th>\n",
       "      <th>price</th>\n",
       "      <th>currency</th>\n",
       "      <th>price_aprox_local_currency</th>\n",
       "      <th>price_aprox_usd</th>\n",
       "      <th>surface_total_in_m2</th>\n",
       "      <th>surface_covered_in_m2</th>\n",
       "      <th>price_usd_per_m2</th>\n",
       "      <th>price_per_m2</th>\n",
       "      <th>floor</th>\n",
       "      <th>rooms</th>\n",
       "      <th>expenses</th>\n",
       "      <th>description</th>\n",
       "      <th>title</th>\n",
       "      <th>division</th>\n",
       "      <th>Exterior_True</th>\n",
       "    </tr>\n",
       "  </thead>\n",
       "  <tbody>\n",
       "    <tr>\n",
       "      <th>7</th>\n",
       "      <td>apartment</td>\n",
       "      <td>Belgrano</td>\n",
       "      <td>Capital Federal</td>\n",
       "      <td>-34.559873</td>\n",
       "      <td>-58.443362</td>\n",
       "      <td>138000.0</td>\n",
       "      <td>USD</td>\n",
       "      <td>2434941.0</td>\n",
       "      <td>138000.0</td>\n",
       "      <td>45.0</td>\n",
       "      <td>40.0</td>\n",
       "      <td>3066.666667</td>\n",
       "      <td>3450.000000</td>\n",
       "      <td>NaN</td>\n",
       "      <td>NaN</td>\n",
       "      <td>NaN</td>\n",
       "      <td>EXCELENTE MONOAMBIENTE A ESTRENAR AMPLIO SUPER...</td>\n",
       "      <td>JOSE HERNANDEZ 1400 MONOAMBIENTE  ESTRENAR CAT...</td>\n",
       "      <td>2</td>\n",
       "      <td>1</td>\n",
       "    </tr>\n",
       "    <tr>\n",
       "      <th>8</th>\n",
       "      <td>apartment</td>\n",
       "      <td>Belgrano</td>\n",
       "      <td>Capital Federal</td>\n",
       "      <td>-34.559873</td>\n",
       "      <td>-58.443362</td>\n",
       "      <td>195000.0</td>\n",
       "      <td>USD</td>\n",
       "      <td>3440677.5</td>\n",
       "      <td>195000.0</td>\n",
       "      <td>65.0</td>\n",
       "      <td>60.0</td>\n",
       "      <td>3000.000000</td>\n",
       "      <td>3250.000000</td>\n",
       "      <td>NaN</td>\n",
       "      <td>NaN</td>\n",
       "      <td>NaN</td>\n",
       "      <td>EXCELENTE DOS AMBIENTES  ESTRENAR AMPLIO SUPER...</td>\n",
       "      <td>JOSE HERNANDEZ   1400 DOS AMBIENTES ESTRENAR ,...</td>\n",
       "      <td>3</td>\n",
       "      <td>1</td>\n",
       "    </tr>\n",
       "    <tr>\n",
       "      <th>210</th>\n",
       "      <td>apartment</td>\n",
       "      <td>Belgrano</td>\n",
       "      <td>Capital Federal</td>\n",
       "      <td>-34.562084</td>\n",
       "      <td>-58.456686</td>\n",
       "      <td>240000.0</td>\n",
       "      <td>USD</td>\n",
       "      <td>4234680.0</td>\n",
       "      <td>240000.0</td>\n",
       "      <td>57.0</td>\n",
       "      <td>54.0</td>\n",
       "      <td>4210.526316</td>\n",
       "      <td>4444.444444</td>\n",
       "      <td>NaN</td>\n",
       "      <td>2.0</td>\n",
       "      <td>NaN</td>\n",
       "      <td>DUPLEX CON COCHERA FIJA CUBIERTA 3 AÑOS DE ANT...</td>\n",
       "      <td>2 Ambientes Venta Belgrano Cochera Cubierta</td>\n",
       "      <td>3</td>\n",
       "      <td>1</td>\n",
       "    </tr>\n",
       "  </tbody>\n",
       "</table>\n",
       "</div>"
      ],
      "text/plain": [
       "    property_type place_name       state_name        lat        lon     price  \\\n",
       "7       apartment   Belgrano  Capital Federal -34.559873 -58.443362  138000.0   \n",
       "8       apartment   Belgrano  Capital Federal -34.559873 -58.443362  195000.0   \n",
       "210     apartment   Belgrano  Capital Federal -34.562084 -58.456686  240000.0   \n",
       "\n",
       "    currency  price_aprox_local_currency  price_aprox_usd  \\\n",
       "7        USD                   2434941.0         138000.0   \n",
       "8        USD                   3440677.5         195000.0   \n",
       "210      USD                   4234680.0         240000.0   \n",
       "\n",
       "     surface_total_in_m2  surface_covered_in_m2  price_usd_per_m2  \\\n",
       "7                   45.0                   40.0       3066.666667   \n",
       "8                   65.0                   60.0       3000.000000   \n",
       "210                 57.0                   54.0       4210.526316   \n",
       "\n",
       "     price_per_m2  floor  rooms  expenses  \\\n",
       "7     3450.000000    NaN    NaN       NaN   \n",
       "8     3250.000000    NaN    NaN       NaN   \n",
       "210   4444.444444    NaN    2.0       NaN   \n",
       "\n",
       "                                           description  \\\n",
       "7    EXCELENTE MONOAMBIENTE A ESTRENAR AMPLIO SUPER...   \n",
       "8    EXCELENTE DOS AMBIENTES  ESTRENAR AMPLIO SUPER...   \n",
       "210  DUPLEX CON COCHERA FIJA CUBIERTA 3 AÑOS DE ANT...   \n",
       "\n",
       "                                                 title division  Exterior_True  \n",
       "7    JOSE HERNANDEZ 1400 MONOAMBIENTE  ESTRENAR CAT...        2              1  \n",
       "8    JOSE HERNANDEZ   1400 DOS AMBIENTES ESTRENAR ,...        3              1  \n",
       "210        2 Ambientes Venta Belgrano Cochera Cubierta        3              1  "
      ]
     },
     "execution_count": 126,
     "metadata": {},
     "output_type": "execute_result"
    }
   ],
   "source": [
    "#Dummy\n",
    "bel_pm2_scm2_2 = bel_pm2_scm2 \n",
    "mask_exterior = (bel_pm2_scm2_2['surface_total_in_m2'] - bel_pm2_scm2_2['surface_covered_in_m2']) > 0\n",
    "dummies_exterior = pd.get_dummies(mask_exterior, prefix='Exterior', drop_first=True)\n",
    "df_with_dummies = bel_pm2_scm2_2.join(dummies_exterior)\n",
    "df_with_dummies.head(3)"
   ]
  },
  {
   "cell_type": "code",
   "execution_count": null,
   "metadata": {
    "scrolled": true
   },
   "outputs": [],
   "source": [
    "belgrano.description.value_counts()"
   ]
  },
  {
   "cell_type": "code",
   "execution_count": null,
   "metadata": {},
   "outputs": [],
   "source": [
    "belgrano.title.value_counts()"
   ]
  },
  {
   "cell_type": "code",
   "execution_count": null,
   "metadata": {},
   "outputs": [],
   "source": [
    "#description = belgrano.description\n",
    "\n",
    "#description.index('pileta')"
   ]
  },
  {
   "cell_type": "markdown",
   "metadata": {},
   "source": [
    "<a id=\"section_externa\"></a> \n",
    "## Data set externos\n",
    "\n",
    "[volver a TOC](#section_toc)"
   ]
  },
  {
   "cell_type": "markdown",
   "metadata": {},
   "source": [
    "**Data sets externos**\n",
    "\n",
    "* Agreguen toda otra información construida a partir de los datos originales (o incluso información externa) que consideren relevante y útil para resolver los objetivos planteados."
   ]
  },
  {
   "cell_type": "code",
   "execution_count": null,
   "metadata": {},
   "outputs": [],
   "source": [
    "subte_data = \"https://raw.githubusercontent.com/carlachka/grupo2dh/master/ws1/data/subte.csv\"\n",
    "ferro_data = \"https://raw.githubusercontent.com/carlachka/grupo2dh/master//ws1/data/ferrocarril.csv\"\n",
    "paradas_df = \"https://raw.githubusercontent.com/carlachka/grupo2dh/master//ws1/data/paradas.csv\"\n",
    "\n",
    "subte = pd.read_csv(subte_data) \n",
    "ferro = pd.read_csv(ferro_data)\n",
    "colec = pd.read_csv(paradas_df)\n",
    "\n",
    "#palermo = \"https://raw.githubusercontent.com/carlachka/grupo2dh/master/paler.csv\"\n",
    "#palerm = pd.read_csv(palermo)"
   ]
  },
  {
   "cell_type": "code",
   "execution_count": null,
   "metadata": {},
   "outputs": [],
   "source": [
    "subte.head(3) # long lat id estacion linea"
   ]
  },
  {
   "cell_type": "code",
   "execution_count": null,
   "metadata": {},
   "outputs": [],
   "source": [
    "subte.estacion.value_counts().sort_values(ascending=False)"
   ]
  },
  {
   "cell_type": "code",
   "execution_count": null,
   "metadata": {},
   "outputs": [],
   "source": [
    "colec.head(3)"
   ]
  },
  {
   "cell_type": "code",
   "execution_count": null,
   "metadata": {},
   "outputs": [],
   "source": [
    "#Cambio los nombres de las columnas de paradas de colectivos\n",
    "colec = colec.rename({\n",
    "    'stop_lat': 'lat',\n",
    "    'stop_lon': 'long',\n",
    "}, axis=1)"
   ]
  },
  {
   "cell_type": "markdown",
   "metadata": {},
   "source": [
    "Todas las lat y long en los 4 dataframes son float."
   ]
  },
  {
   "cell_type": "markdown",
   "metadata": {},
   "source": [
    "**Distancia entre dos puntos de latitud y longitud - Haversine_formula**"
   ]
  },
  {
   "cell_type": "markdown",
   "metadata": {},
   "source": [
    "The [haversine](https://en.wikipedia.org/wiki/Haversine_formula) formula allows the haversine of Θ (that is, hav(Θ)) to be computed directly from the latitude and longitude of the two points.\n",
    "\n",
    "<img src=\"h_formula.png\" alt=\"Drawing\" style=\"width: 400px;\"/>\n",
    "\n",
    "\n",
    "* φ1, φ2 are the latitude of point 1 and latitude of point 2 (in radians),\n",
    "* λ1, λ2 are the longitude of point 1 and longitude of point 2 (in radians).\n",
    "\n",
    "As similar formula can be written using cosines (sometimes called the spherical law of cosines, not to be confused with the law of cosines for plane geometry) instead of haversines, but if the two points are close together (e.g. a kilometer apart, on the Earth) you might end up with an inaccurate answer. Since the haversine formula uses sines, it avoids that problem.\n",
    "\n",
    "A [simplified formula](http://www.movable-type.co.uk/scripts/latlong.html) says:\n",
    "\n",
    "<img src=\"h_simple.png\" alt=\"Drawing\" style=\"width: 600px;\"/>\n"
   ]
  },
  {
   "cell_type": "code",
   "execution_count": null,
   "metadata": {},
   "outputs": [],
   "source": [
    "#vectorized numpy version of the same function\n",
    "\n",
    "import numpy as np\n",
    "\n",
    "def haversine_np(lon1, lat1, lon2, lat2):\n",
    "    \"\"\"\n",
    "    Calculate the great circle distance between two points\n",
    "    on the earth (specified in decimal degrees)\n",
    "\n",
    "    All args must be of equal length.    \n",
    "\n",
    "    \"\"\"\n",
    "    lon1, lat1, lon2, lat2 = map(np.radians, [lon1, lat1, lon2, lat2])\n",
    "\n",
    "    dlon = lon2 - lon1\n",
    "    dlat = lat2 - lat1\n",
    "\n",
    "    a = np.sin(dlat/2.0)**2 + np.cos(lat1) * np.cos(lat2) * np.sin(dlon/2.0)**2\n",
    "\n",
    "    c = 2 * np.arcsin(np.sqrt(a))\n",
    "    \n",
    "    km = 6367 * c  #el radio de la tierra no es 6371 km??\n",
    "    \n",
    "    return km\n",
    "\n"
   ]
  },
  {
   "cell_type": "code",
   "execution_count": null,
   "metadata": {},
   "outputs": [],
   "source": [
    "lon1, lon2, lat1, lat2 = np.random.randn(4, 1000000)\n",
    "df = pd.DataFrame(data={'lon1':lon1,'lon2':lon2,'lat1':lat1,'lat2':lat2})\n",
    "km = haversine_np(df['lon1'],df['lat1'],df['lon2'],df['lat2'])\n",
    "df['distance'] = haversine_np(df['lon1'],df['lat1'],df['lon2'],df['lat2'])"
   ]
  },
  {
   "cell_type": "code",
   "execution_count": null,
   "metadata": {},
   "outputs": [],
   "source": [
    "lat_max = paler.lat.max()\n",
    "lat_min = paler.lat.min()\n",
    "lon_max = paler.lon.max()\n",
    "lon_min = paler.lon.min()"
   ]
  },
  {
   "cell_type": "code",
   "execution_count": null,
   "metadata": {},
   "outputs": [],
   "source": [
    "subte.head(3) # long lat id estacion linea AGREGAR subte\n",
    "colec.head(3) # lat long stop_id route_id  AGREGAR colectivo\n",
    "ferro.head(3) # lat long id nombre barrio  AGREGAR ferrocarril\n",
    "print(subte.shape)\n",
    "print(colec.shape)\n",
    "print(ferro.shape)"
   ]
  },
  {
   "cell_type": "code",
   "execution_count": null,
   "metadata": {},
   "outputs": [],
   "source": [
    "print(subte.shape)\n",
    "print(colec.shape)\n",
    "print(ferro.shape)"
   ]
  },
  {
   "cell_type": "code",
   "execution_count": null,
   "metadata": {},
   "outputs": [],
   "source": [
    "dist = pd.DataFrame() \n",
    "\n",
    "dist['distance'] = haversine_np(palermo['lon'],palermo['lat'],subte['long'],subte['lat'])\n",
    "dist.head(25)"
   ]
  },
  {
   "cell_type": "code",
   "execution_count": null,
   "metadata": {},
   "outputs": [],
   "source": [
    "#for loop paara dummy:cercania a estacion de subte"
   ]
  },
  {
   "cell_type": "markdown",
   "metadata": {},
   "source": [
    "<a id=\"section_foursquare\"></a> \n",
    "## Fousquare (Dani)\n",
    "\n",
    "[volver a TOC](#section_toc)"
   ]
  },
  {
   "cell_type": "code",
   "execution_count": null,
   "metadata": {},
   "outputs": [],
   "source": [
    "#stack over formula\n",
    "#https://en.wikipedia.org/wiki/Haversine_formula\n",
    "\n",
    "from math import cos, asin, sqrt, pi\n",
    "\n",
    "def distance(lat1, lon1, lat2, lon2):\n",
    "    p = pi/180\n",
    "    a = 0.5 - cos((lat2-lat1)*p)/2 + cos(lat1*p) * cos(lat2*p) * (1-cos((lon2-lon1)*p))/2\n",
    "    return 12742 * asin(sqrt(a)) #2*R*asin..."
   ]
  },
  {
   "cell_type": "code",
   "execution_count": null,
   "metadata": {},
   "outputs": [],
   "source": [
    "# Define Foursquare Credentials and Version\n",
    "CLIENT_ID = 'R4IHAX3SZWGI4FBGVPG0GWN3COMXJXBBYZSBEL04NA130FIO' # your Foursquare ID\n",
    "CLIENT_SECRET = '5M21HY12HU5J4UH0AKW3NPEVY1KQLNL5LD4ZP4MQZ3LFBYF4' # your Foursquare Secret\n",
    "VERSION = '20200929' # Foursquare API version\n",
    "\n",
    "print('Your credentails:')\n",
    "print('CLIENT_ID: ' + CLIENT_ID)\n",
    "print('CLIENT_SECRET:' + CLIENT_SECRET)\n"
   ]
  },
  {
   "cell_type": "code",
   "execution_count": null,
   "metadata": {},
   "outputs": [],
   "source": [
    "LIMIT = 1000\n",
    "radius = 500\n",
    "query = 'Metro Station'"
   ]
  },
  {
   "cell_type": "code",
   "execution_count": null,
   "metadata": {},
   "outputs": [],
   "source": [
    "def metro_stations_near(lat, lon):\n",
    "\n",
    "    url = 'https://api.foursquare.com/v2/venues/explore?&client_id={}&client_secret={}&v={}&ll={},{}&radius={}&limit={}&query={}'.format(\n",
    "        CLIENT_ID, \n",
    "        CLIENT_SECRET, \n",
    "        VERSION, \n",
    "        lat, \n",
    "        lon, \n",
    "        radius, \n",
    "        LIMIT,\n",
    "        query)\n",
    "    \n",
    "    results = requests.get(url).json()\n",
    "    venues = results['response']['totalResults']\n",
    "    \n",
    "    return venues"
   ]
  },
  {
   "cell_type": "code",
   "execution_count": null,
   "metadata": {},
   "outputs": [],
   "source": [
    "data['train_sub_stations_near'] = df_barrios.apply(lambda x: metro_stations_near(x.lat, x.lon), axis=1)"
   ]
  },
  {
   "cell_type": "code",
   "execution_count": null,
   "metadata": {},
   "outputs": [],
   "source": []
  }
 ],
 "metadata": {
  "kernelspec": {
   "display_name": "Python 3",
   "language": "python",
   "name": "python3"
  },
  "language_info": {
   "codemirror_mode": {
    "name": "ipython",
    "version": 3
   },
   "file_extension": ".py",
   "mimetype": "text/x-python",
   "name": "python",
   "nbconvert_exporter": "python",
   "pygments_lexer": "ipython3",
   "version": "3.7.7"
  }
 },
 "nbformat": 4,
 "nbformat_minor": 4
}
