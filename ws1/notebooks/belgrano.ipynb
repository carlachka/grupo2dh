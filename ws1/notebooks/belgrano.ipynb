{
 "cells": [
  {
   "cell_type": "markdown",
   "metadata": {},
   "source": [
    "<a id=\"section_toc\"></a> \n",
    "## Tabla de Contenidos\n",
    "\n",
    "[Consigna](#section_consigna)\n",
    "\n",
    "[Integrantes](#section_members)\n",
    "\n",
    "[Resumen](#section_resumen)\n",
    "\n",
    "* Data sets\n",
    "\n",
    "[Dataset_Properati](#section_full_dataset)\n",
    "\n",
    "[Dataset_CABA](#section_CABA)\n",
    "\n",
    "[Dataset_BPC](#section_BPC)\n",
    "\n",
    "[Dataset_Belgrano](#section_bel)\n",
    "\n",
    "\n",
    "* Filtros\n",
    "\n",
    "[Columnas - 1er filtro](#section_col1)\n",
    "\n",
    "[Columnas_ - agrupacion](#section_col2)\n",
    "\n",
    "[Filtro - Apartments en USD](#section_ap_usd)\n",
    "\n",
    "   \n",
    "* Analisis descriptivo (EDA) y limpieza de variables\n",
    "\n",
    "[pre - limpieza](#section_EDA)\n",
    "\n",
    "[price_usd_per_m2 - target: IQR 0.75q](#section_iqr)\n",
    "\n",
    "[price_usd_per_m2 - target](#section_price_1000)\n",
    "\n",
    "[missing_independientes](#section_deteccion_faltantes)\n",
    "\n",
    "[price_per_m2](#section_price2)\n",
    "\n",
    "[surface_covered_in_m2](#section_surface)\n",
    "\n",
    "[expenses](#section_exp)\n",
    "\n",
    "[room](#section_room)\n",
    "\n",
    "[missings - update](#section_miss2)\n",
    "\n",
    "[expenses post room](#section_exp2)\n",
    "\n",
    "[floor](#section_floor)\n",
    "\n",
    "[lat lon](#section_lat_lon)\n",
    "\n",
    "\n",
    "* Duplicados\n",
    "\n",
    "[duplicados](#section_duplicados)\n",
    "\n",
    "\n",
    "* Generacion de nuevas columnas/variables:\n",
    "\n",
    "Sobre el data set original:\n",
    "\n",
    "[exterior_true](#section_exterior)\n",
    "\n",
    "[pileta](#section_pileta)\n",
    "\n",
    "Sobre data externa: \n",
    "\n",
    "[subte](#section_externa)\n",
    "\n",
    "\n",
    "Regresion: \n",
    "\n",
    "[Multi regres](#section_regres)\n"
   ]
  },
  {
   "cell_type": "markdown",
   "metadata": {},
   "source": [
    "\n",
    "\n",
    "<a id=\"section_consigna\"></a> \n",
    "## Consigna\n",
    "\n",
    "[volver a TOC](#section_toc)\n",
    "\n",
    "**Properati. Workshop 1**\n",
    "\n",
    "y = precio por metro cuadrado de una propiedad en USD\n",
    "\n",
    "El dataset de Properati es de tamaño entre pequeño y mediano, pero tiene dos complejidades a las que\n",
    "deberá prestarle atención:\n",
    "* Peso de missing data en algunas variables relevantes.\n",
    "* Será importante tener en cuenta el problema de la influencia espacial en los precios\n",
    "por metro cuadrado. En efecto, es probable que existan diferencias importantes de\n",
    "en las diferentes geografías, barrios y zonas analizadas.\n",
    "\n",
    "\n",
    "Objetivos:\n",
    "* Efectuar una limpieza del dataset provisto. Particularmente, deberá diseñar\n",
    "estrategias para lidiar con los datos perdidos en ciertas variables.\n",
    "* Realizar un análisis descriptivo de las principales variables.\n",
    "* Crear nuevas columnas a partir de las características dadas que puedan tener valor predictivo."
   ]
  },
  {
   "cell_type": "code",
   "execution_count": 1,
   "metadata": {},
   "outputs": [],
   "source": [
    "import pandas as pd\n",
    "import numpy as np\n",
    "\n",
    "import matplotlib as mpl\n",
    "import matplotlib.pyplot as plt\n",
    "import seaborn as sns\n",
    "#import missingno as msno\n",
    "import requests\n",
    "sns.set() #par que es?\n"
   ]
  },
  {
   "cell_type": "code",
   "execution_count": 2,
   "metadata": {},
   "outputs": [],
   "source": [
    "%matplotlib inline"
   ]
  },
  {
   "cell_type": "markdown",
   "metadata": {},
   "source": [
    "<a id=\"section_members\"></a> \n",
    "## Integrantes\n",
    "\n",
    "[volver a TOC](#section_toc)\n",
    "\n",
    "**Grupo 2**\n",
    "\n",
    "Bruno Minnozzi\n",
    "\n",
    "Carla Squillace\n",
    "\n",
    "Daniel Eduardo Muñiz\n",
    "\n",
    "Lucas Ibañez"
   ]
  },
  {
   "cell_type": "markdown",
   "metadata": {},
   "source": [
    "<a id=\"section_resumen\"></a> \n",
    "## Resumen\n",
    "\n",
    "[volver a TOC](#section_toc)\n",
    "\n",
    "\n"
   ]
  },
  {
   "cell_type": "markdown",
   "metadata": {},
   "source": [
    "* De la base de datos de **Properati** decidimos tomar un barrio de CABA para analizar. **Belgrano** tiene mayor cantidad de datos.\n",
    "\n",
    "\n",
    "* Descartamos las columnas no utiles a primera vista, filtramos por las mas relevantes \n",
    "\n",
    "\n",
    "* Clasificamos/agrupamos las variables en cuantitativas/cualitativas y target/features\n",
    "\n",
    "\n",
    "\n",
    "* Filtramos por **apartamentos/departamentos en USD**. El 84% de todos los datos están expresados en USD y 91% de las propiedades son departamentos. \n",
    "\n",
    "\n",
    "* Observamos alto porcentaje de missings y aparentes valores outliers. Primero nos focalizamos en la variable dependiente. Luego tratamos a las variables dependientes/features por grupos de analisis.\n",
    "\n",
    "\n",
    "* Para la variable target **price_usd_per_m2**:\n",
    "\n",
    "     * Missing. Consideramos que imputar los valores missing de la variable target price_usd_per_m2 podria afectar nuestro data set y luego afectar nuestro futuro modelo de prediccion. Por lo que optamos por eliminarlos dado que no se pierden tantos registros. Son 0,9 %.\n",
    "\n",
    "     * Evaluamos outliers con IQR 0.75q, pero resulto excesivo ( LS: 4567.65 USD/m2 ) ya que descarta muchos registros, y optamos por eliminar missing y poner un limite superior menos restrictivo.\n",
    "\n",
    "     * Outliers. Analizamos datos de la pagina web de la competencia de Properati. Al observar los precios en dolares por metro cuadrado en Belgrano segun la data de Zonaprop encontramos propiedades superiores a 7000 USD/m2. Al analizar los graficos, optamos por un limite superior de 10.000 USD/m2.\n",
    "\n",
    "* **surface_covered_in_m2** :\n",
    "\n",
    "    * Evaluamos un IQR LS 0.90q y resulto razonable al mejorar la distribucion y perder pocos registros. \n",
    "    \n",
    "    * Asimismo, de acuerdo a la legislacion de la CABA, un departamento se considera como tal a partir de los 18m2. Por lo tanto aplicamos este valor como limite inferior.\n",
    "    \n",
    "    * Estos limites y dropping de missing resultaron coherentes dado que generaron solo la eliminacion de 0,6% registros sobre el total.\n",
    "    \n",
    "    * Al limpiar esta variable, los missing de **price_per_m2** tambien limpiaron \n",
    "\n",
    "* **rooms** :\n",
    "\n",
    "    * Dado que no tenemos muchas observaciones de apartamentos de 5 6 7 y 8 cuartos - 69 observaciones en total - restringimos el analisis. Nos concentramos en departamentos de 1 2 3 y 4 cuartos donde hay minimo dos veces y media mas de datos. De esta forma, solo estamos perdiendo 69 registros.\n",
    "    \n",
    "    * La gran cantidad de missing - 1017 -  los imputamos, no con la moda, sino con una combinacion de la moda y el siguiente valor mas frecuente. Utilizamos una proporcion 0.55 para el valor 3 y 0.45 para el valor 4.\n",
    "    \n",
    "    * Al limpiar esta variable, mejoraro la distribucion y missing de la variable **expensas**. \n",
    "\n",
    "* **expenses** :\n",
    "\n",
    "    * Decidimos imputar los 1078 missing con la mediana de las expensas segun la cantidad de cuartos de apartamento.\n",
    "    \n",
    "    * De acuerdo al histograma y box plot, decidimos eliminar outlier por encima de 40.000.\n",
    "\n",
    "* **floor** :\n",
    "\n",
    "    * Para que la variable floor sea utilizable deberiamos imputar 1616 valores de 1673 , es decir , 97% de los valores. Seria como \"reinventar\" la variable. Por lo que decicimos no usarla.\n",
    "\n",
    "* **lat, lon** :\n",
    "\n",
    "    * No tenemos claro como imputar los valores faltantes de latitud y longitud. Por lo que decidimos dejarlos. Y en caso de que el modelo a utilizar no permita nulos, los eliminaremos.\n",
    "    \n",
    "    \n",
    "* Duplicados. Encontramos 18 filas repetidas. Las eliminamos.\n",
    "\n",
    "\n",
    "\n",
    "Nuevas columnas/variables:\n",
    "   \n",
    "    \n",
    "* **Exterior_True** (En base a Properati):    \n",
    "\n",
    "    Creamos una nueva variable dummy, usando las variables de superficie cubierta y descubierta, que indica si la propiedad tiene espacio al aire libre o no. El 85% de las propiedades tienen un espacio exterior, ya sea un balcon, jardin, etc.\n",
    "\n",
    "\n",
    "* **Pileta_True** (En base a Properati):    \n",
    "\n",
    "    Usando expresiones regulares creamos una nueva variable dummy, usando las variable descripcion, que indica si la propiedad tiene pileta o no. Si bien encontramos muy pocas propiedades con pileta (0,7%), fue un buen ejercicio para practicar expresiones regulares. Tendriamos que ampliarlo con la variable title, properati_url tambien y probar con otra amenities que quizas si tengan mas registros (i.e. cochera, parrilla, asador, etc.)\n",
    "\n",
    "\n",
    "* **subte** (En base a data externa: GCABA):    \n",
    "\n",
    "    Obtuvimos data externa obtenida del Gobierno de la Ciudad de Buenos Aires, la latitud y longitud de las estaciones de subte en la ciudad. Usando la formula de distancia del Harvesiano calculamos la dummy subte, que nos indica si la propiedad tiene una estacion de subte a menos de 500 m de distancia. El 35% de las propiedades tienen una estacion de subte a menos de 500 metros en el barrio de Belgrano. Consideramos que esta variable podria ser muy significativa al momento de calcular la variable target/dependiente price_usd_per_m2.\n",
    "    \n"
   ]
  },
  {
   "cell_type": "markdown",
   "metadata": {},
   "source": [
    "<a id=\"section_full_dataset\"></a> \n",
    "## Dataset full\n",
    "\n",
    "[volver a TOC](#section_toc)"
   ]
  },
  {
   "cell_type": "code",
   "execution_count": 3,
   "metadata": {},
   "outputs": [],
   "source": [
    "df = pd.read_csv(\"../data/properati.csv\", index_col=0)"
   ]
  },
  {
   "cell_type": "markdown",
   "metadata": {},
   "source": [
    "El dataset contiene información sobre todas las propiedades georeferenciadas de la base\n",
    "de datos de la empresa. La información de cada propiedad que incluye es la siguiente:\n",
    "* Fecha de creación\n",
    "* Tipo de la propiedad (house, apartment, ph)\n",
    "* Operación del aviso (sell, rent)\n",
    "* Nombre del lugar\n",
    "* Nombre del lugar + nombre de sus ‘padres’\n",
    "* ID de geonames del lugar (si está disponible)\n",
    "* Latitud,Longitud\n",
    "* Precio original del aviso\n",
    "* Moneda original del aviso (ARS, USD)\n",
    "* Precio del aviso en moneda local (ARS)\n",
    "* Precio aproximado en USD\n",
    "* Superficie en m2\n",
    "* Superficie cubierta en m2\n",
    "* Precio en USD/m2\n",
    "* Precio por m2\n",
    "* N° de piso, si corresponde\n",
    "* Ambientes\n",
    "* URL en Properati\n",
    "* Descripción\n",
    "* Título\n",
    "* URL de un thumbnail de la primer foto"
   ]
  },
  {
   "cell_type": "code",
   "execution_count": 4,
   "metadata": {},
   "outputs": [
    {
     "name": "stdout",
     "output_type": "stream",
     "text": [
      "<class 'pandas.core.frame.DataFrame'>\n",
      "Int64Index: 121220 entries, 0 to 121219\n",
      "Data columns (total 25 columns):\n",
      " #   Column                      Non-Null Count   Dtype  \n",
      "---  ------                      --------------   -----  \n",
      " 0   operation                   121220 non-null  object \n",
      " 1   property_type               121220 non-null  object \n",
      " 2   place_name                  121197 non-null  object \n",
      " 3   place_with_parent_names     121220 non-null  object \n",
      " 4   country_name                121220 non-null  object \n",
      " 5   state_name                  121220 non-null  object \n",
      " 6   geonames_id                 102503 non-null  float64\n",
      " 7   lat-lon                     69670 non-null   object \n",
      " 8   lat                         69670 non-null   float64\n",
      " 9   lon                         69670 non-null   float64\n",
      " 10  price                       100810 non-null  float64\n",
      " 11  currency                    100809 non-null  object \n",
      " 12  price_aprox_local_currency  100810 non-null  float64\n",
      " 13  price_aprox_usd             100810 non-null  float64\n",
      " 14  surface_total_in_m2         81892 non-null   float64\n",
      " 15  surface_covered_in_m2       101313 non-null  float64\n",
      " 16  price_usd_per_m2            68617 non-null   float64\n",
      " 17  price_per_m2                87658 non-null   float64\n",
      " 18  floor                       7899 non-null    float64\n",
      " 19  rooms                       47390 non-null   float64\n",
      " 20  expenses                    14262 non-null   float64\n",
      " 21  properati_url               121220 non-null  object \n",
      " 22  description                 121218 non-null  object \n",
      " 23  title                       121220 non-null  object \n",
      " 24  image_thumbnail             118108 non-null  object \n",
      "dtypes: float64(13), object(12)\n",
      "memory usage: 24.0+ MB\n"
     ]
    }
   ],
   "source": [
    "df.info()"
   ]
  },
  {
   "cell_type": "code",
   "execution_count": 5,
   "metadata": {},
   "outputs": [
    {
     "data": {
      "text/html": [
       "<div>\n",
       "<style scoped>\n",
       "    .dataframe tbody tr th:only-of-type {\n",
       "        vertical-align: middle;\n",
       "    }\n",
       "\n",
       "    .dataframe tbody tr th {\n",
       "        vertical-align: top;\n",
       "    }\n",
       "\n",
       "    .dataframe thead th {\n",
       "        text-align: right;\n",
       "    }\n",
       "</style>\n",
       "<table border=\"1\" class=\"dataframe\">\n",
       "  <thead>\n",
       "    <tr style=\"text-align: right;\">\n",
       "      <th></th>\n",
       "      <th>geonames_id</th>\n",
       "      <th>lat</th>\n",
       "      <th>lon</th>\n",
       "      <th>price</th>\n",
       "      <th>price_aprox_local_currency</th>\n",
       "      <th>price_aprox_usd</th>\n",
       "      <th>surface_total_in_m2</th>\n",
       "      <th>surface_covered_in_m2</th>\n",
       "      <th>price_usd_per_m2</th>\n",
       "      <th>price_per_m2</th>\n",
       "      <th>floor</th>\n",
       "      <th>rooms</th>\n",
       "      <th>expenses</th>\n",
       "    </tr>\n",
       "  </thead>\n",
       "  <tbody>\n",
       "    <tr>\n",
       "      <th>count</th>\n",
       "      <td>1.025030e+05</td>\n",
       "      <td>69670.000000</td>\n",
       "      <td>69670.000000</td>\n",
       "      <td>1.008100e+05</td>\n",
       "      <td>1.008100e+05</td>\n",
       "      <td>1.008100e+05</td>\n",
       "      <td>81892.000000</td>\n",
       "      <td>101313.000000</td>\n",
       "      <td>68617.000000</td>\n",
       "      <td>8.765800e+04</td>\n",
       "      <td>7899.000000</td>\n",
       "      <td>47390.000000</td>\n",
       "      <td>1.426200e+04</td>\n",
       "    </tr>\n",
       "    <tr>\n",
       "      <th>mean</th>\n",
       "      <td>3.574442e+06</td>\n",
       "      <td>-34.626210</td>\n",
       "      <td>-59.266290</td>\n",
       "      <td>4.685259e+05</td>\n",
       "      <td>4.229397e+06</td>\n",
       "      <td>2.397006e+05</td>\n",
       "      <td>233.795328</td>\n",
       "      <td>133.050181</td>\n",
       "      <td>2160.086916</td>\n",
       "      <td>6.912216e+03</td>\n",
       "      <td>17.452336</td>\n",
       "      <td>3.080840</td>\n",
       "      <td>5.009234e+03</td>\n",
       "    </tr>\n",
       "    <tr>\n",
       "      <th>std</th>\n",
       "      <td>3.541306e+05</td>\n",
       "      <td>1.980936</td>\n",
       "      <td>2.299922</td>\n",
       "      <td>2.260101e+06</td>\n",
       "      <td>6.904714e+06</td>\n",
       "      <td>3.913239e+05</td>\n",
       "      <td>1782.222147</td>\n",
       "      <td>724.351479</td>\n",
       "      <td>2759.288621</td>\n",
       "      <td>2.837864e+04</td>\n",
       "      <td>120.243621</td>\n",
       "      <td>1.860773</td>\n",
       "      <td>1.204403e+05</td>\n",
       "    </tr>\n",
       "    <tr>\n",
       "      <th>min</th>\n",
       "      <td>3.427208e+06</td>\n",
       "      <td>-54.823985</td>\n",
       "      <td>-75.678931</td>\n",
       "      <td>0.000000e+00</td>\n",
       "      <td>0.000000e+00</td>\n",
       "      <td>0.000000e+00</td>\n",
       "      <td>0.000000</td>\n",
       "      <td>0.000000</td>\n",
       "      <td>0.600000</td>\n",
       "      <td>1.510204e+00</td>\n",
       "      <td>1.000000</td>\n",
       "      <td>1.000000</td>\n",
       "      <td>1.000000e+00</td>\n",
       "    </tr>\n",
       "    <tr>\n",
       "      <th>25%</th>\n",
       "      <td>3.430234e+06</td>\n",
       "      <td>-34.669065</td>\n",
       "      <td>-58.727040</td>\n",
       "      <td>1.100000e+05</td>\n",
       "      <td>1.583309e+06</td>\n",
       "      <td>8.973388e+04</td>\n",
       "      <td>50.000000</td>\n",
       "      <td>45.000000</td>\n",
       "      <td>1218.181818</td>\n",
       "      <td>1.550000e+03</td>\n",
       "      <td>1.000000</td>\n",
       "      <td>2.000000</td>\n",
       "      <td>1.000000e+03</td>\n",
       "    </tr>\n",
       "    <tr>\n",
       "      <th>50%</th>\n",
       "      <td>3.433910e+06</td>\n",
       "      <td>-34.597985</td>\n",
       "      <td>-58.480128</td>\n",
       "      <td>1.850000e+05</td>\n",
       "      <td>2.558452e+06</td>\n",
       "      <td>1.450000e+05</td>\n",
       "      <td>84.000000</td>\n",
       "      <td>75.000000</td>\n",
       "      <td>1800.000000</td>\n",
       "      <td>2.213115e+03</td>\n",
       "      <td>3.000000</td>\n",
       "      <td>3.000000</td>\n",
       "      <td>2.000000e+03</td>\n",
       "    </tr>\n",
       "    <tr>\n",
       "      <th>75%</th>\n",
       "      <td>3.836668e+06</td>\n",
       "      <td>-34.441299</td>\n",
       "      <td>-58.395908</td>\n",
       "      <td>4.200000e+05</td>\n",
       "      <td>4.675792e+06</td>\n",
       "      <td>2.650000e+05</td>\n",
       "      <td>200.000000</td>\n",
       "      <td>150.000000</td>\n",
       "      <td>2486.411765</td>\n",
       "      <td>3.355549e+03</td>\n",
       "      <td>6.000000</td>\n",
       "      <td>4.000000</td>\n",
       "      <td>4.000000e+03</td>\n",
       "    </tr>\n",
       "    <tr>\n",
       "      <th>max</th>\n",
       "      <td>6.948895e+06</td>\n",
       "      <td>4.545843</td>\n",
       "      <td>-53.733330</td>\n",
       "      <td>6.500000e+08</td>\n",
       "      <td>8.212711e+08</td>\n",
       "      <td>4.654544e+07</td>\n",
       "      <td>200000.000000</td>\n",
       "      <td>187000.000000</td>\n",
       "      <td>206333.333333</td>\n",
       "      <td>4.000000e+06</td>\n",
       "      <td>3150.000000</td>\n",
       "      <td>32.000000</td>\n",
       "      <td>1.000150e+07</td>\n",
       "    </tr>\n",
       "  </tbody>\n",
       "</table>\n",
       "</div>"
      ],
      "text/plain": [
       "        geonames_id           lat           lon         price  \\\n",
       "count  1.025030e+05  69670.000000  69670.000000  1.008100e+05   \n",
       "mean   3.574442e+06    -34.626210    -59.266290  4.685259e+05   \n",
       "std    3.541306e+05      1.980936      2.299922  2.260101e+06   \n",
       "min    3.427208e+06    -54.823985    -75.678931  0.000000e+00   \n",
       "25%    3.430234e+06    -34.669065    -58.727040  1.100000e+05   \n",
       "50%    3.433910e+06    -34.597985    -58.480128  1.850000e+05   \n",
       "75%    3.836668e+06    -34.441299    -58.395908  4.200000e+05   \n",
       "max    6.948895e+06      4.545843    -53.733330  6.500000e+08   \n",
       "\n",
       "       price_aprox_local_currency  price_aprox_usd  surface_total_in_m2  \\\n",
       "count                1.008100e+05     1.008100e+05         81892.000000   \n",
       "mean                 4.229397e+06     2.397006e+05           233.795328   \n",
       "std                  6.904714e+06     3.913239e+05          1782.222147   \n",
       "min                  0.000000e+00     0.000000e+00             0.000000   \n",
       "25%                  1.583309e+06     8.973388e+04            50.000000   \n",
       "50%                  2.558452e+06     1.450000e+05            84.000000   \n",
       "75%                  4.675792e+06     2.650000e+05           200.000000   \n",
       "max                  8.212711e+08     4.654544e+07        200000.000000   \n",
       "\n",
       "       surface_covered_in_m2  price_usd_per_m2  price_per_m2        floor  \\\n",
       "count          101313.000000      68617.000000  8.765800e+04  7899.000000   \n",
       "mean              133.050181       2160.086916  6.912216e+03    17.452336   \n",
       "std               724.351479       2759.288621  2.837864e+04   120.243621   \n",
       "min                 0.000000          0.600000  1.510204e+00     1.000000   \n",
       "25%                45.000000       1218.181818  1.550000e+03     1.000000   \n",
       "50%                75.000000       1800.000000  2.213115e+03     3.000000   \n",
       "75%               150.000000       2486.411765  3.355549e+03     6.000000   \n",
       "max            187000.000000     206333.333333  4.000000e+06  3150.000000   \n",
       "\n",
       "              rooms      expenses  \n",
       "count  47390.000000  1.426200e+04  \n",
       "mean       3.080840  5.009234e+03  \n",
       "std        1.860773  1.204403e+05  \n",
       "min        1.000000  1.000000e+00  \n",
       "25%        2.000000  1.000000e+03  \n",
       "50%        3.000000  2.000000e+03  \n",
       "75%        4.000000  4.000000e+03  \n",
       "max       32.000000  1.000150e+07  "
      ]
     },
     "execution_count": 5,
     "metadata": {},
     "output_type": "execute_result"
    }
   ],
   "source": [
    "df.describe()"
   ]
  },
  {
   "cell_type": "code",
   "execution_count": 6,
   "metadata": {},
   "outputs": [
    {
     "data": {
      "text/html": [
       "<div>\n",
       "<style scoped>\n",
       "    .dataframe tbody tr th:only-of-type {\n",
       "        vertical-align: middle;\n",
       "    }\n",
       "\n",
       "    .dataframe tbody tr th {\n",
       "        vertical-align: top;\n",
       "    }\n",
       "\n",
       "    .dataframe thead th {\n",
       "        text-align: right;\n",
       "    }\n",
       "</style>\n",
       "<table border=\"1\" class=\"dataframe\">\n",
       "  <thead>\n",
       "    <tr style=\"text-align: right;\">\n",
       "      <th></th>\n",
       "      <th>operation</th>\n",
       "      <th>property_type</th>\n",
       "      <th>place_name</th>\n",
       "      <th>place_with_parent_names</th>\n",
       "      <th>country_name</th>\n",
       "      <th>state_name</th>\n",
       "      <th>geonames_id</th>\n",
       "      <th>lat-lon</th>\n",
       "      <th>lat</th>\n",
       "      <th>lon</th>\n",
       "      <th>...</th>\n",
       "      <th>surface_covered_in_m2</th>\n",
       "      <th>price_usd_per_m2</th>\n",
       "      <th>price_per_m2</th>\n",
       "      <th>floor</th>\n",
       "      <th>rooms</th>\n",
       "      <th>expenses</th>\n",
       "      <th>properati_url</th>\n",
       "      <th>description</th>\n",
       "      <th>title</th>\n",
       "      <th>image_thumbnail</th>\n",
       "    </tr>\n",
       "  </thead>\n",
       "  <tbody>\n",
       "    <tr>\n",
       "      <th>0</th>\n",
       "      <td>sell</td>\n",
       "      <td>PH</td>\n",
       "      <td>Mataderos</td>\n",
       "      <td>|Argentina|Capital Federal|Mataderos|</td>\n",
       "      <td>Argentina</td>\n",
       "      <td>Capital Federal</td>\n",
       "      <td>3430787.0</td>\n",
       "      <td>-34.6618237,-58.5088387</td>\n",
       "      <td>-34.661824</td>\n",
       "      <td>-58.508839</td>\n",
       "      <td>...</td>\n",
       "      <td>40.0</td>\n",
       "      <td>1127.272727</td>\n",
       "      <td>1550.000000</td>\n",
       "      <td>NaN</td>\n",
       "      <td>NaN</td>\n",
       "      <td>NaN</td>\n",
       "      <td>http://www.properati.com.ar/15bo8_venta_ph_mat...</td>\n",
       "      <td>2 AMBIENTES TIPO CASA PLANTA BAJA POR PASILLO,...</td>\n",
       "      <td>2 AMB TIPO CASA SIN EXPENSAS EN PB</td>\n",
       "      <td>https://thumbs4.properati.com/8/BluUYiHJLhgIIK...</td>\n",
       "    </tr>\n",
       "    <tr>\n",
       "      <th>1</th>\n",
       "      <td>sell</td>\n",
       "      <td>apartment</td>\n",
       "      <td>La Plata</td>\n",
       "      <td>|Argentina|Bs.As. G.B.A. Zona Sur|La Plata|</td>\n",
       "      <td>Argentina</td>\n",
       "      <td>Bs.As. G.B.A. Zona Sur</td>\n",
       "      <td>3432039.0</td>\n",
       "      <td>-34.9038831,-57.9643295</td>\n",
       "      <td>-34.903883</td>\n",
       "      <td>-57.964330</td>\n",
       "      <td>...</td>\n",
       "      <td>NaN</td>\n",
       "      <td>NaN</td>\n",
       "      <td>NaN</td>\n",
       "      <td>NaN</td>\n",
       "      <td>NaN</td>\n",
       "      <td>NaN</td>\n",
       "      <td>http://www.properati.com.ar/15bob_venta_depart...</td>\n",
       "      <td>Venta de departamento en décimo piso al frente...</td>\n",
       "      <td>VENTA Depto 2 dorm. a estrenar 7 e/ 36 y 37   ...</td>\n",
       "      <td>https://thumbs4.properati.com/7/ikpVBu2ztHA7jv...</td>\n",
       "    </tr>\n",
       "    <tr>\n",
       "      <th>2</th>\n",
       "      <td>sell</td>\n",
       "      <td>apartment</td>\n",
       "      <td>Mataderos</td>\n",
       "      <td>|Argentina|Capital Federal|Mataderos|</td>\n",
       "      <td>Argentina</td>\n",
       "      <td>Capital Federal</td>\n",
       "      <td>3430787.0</td>\n",
       "      <td>-34.6522615,-58.5229825</td>\n",
       "      <td>-34.652262</td>\n",
       "      <td>-58.522982</td>\n",
       "      <td>...</td>\n",
       "      <td>55.0</td>\n",
       "      <td>1309.090909</td>\n",
       "      <td>1309.090909</td>\n",
       "      <td>NaN</td>\n",
       "      <td>NaN</td>\n",
       "      <td>NaN</td>\n",
       "      <td>http://www.properati.com.ar/15bod_venta_depart...</td>\n",
       "      <td>2 AMBIENTES 3ER PISO LATERAL LIVING COMEDOR AM...</td>\n",
       "      <td>2 AMB 3ER PISO CON ASCENSOR APTO CREDITO</td>\n",
       "      <td>https://thumbs4.properati.com/5/SXKr34F_IwG3W_...</td>\n",
       "    </tr>\n",
       "    <tr>\n",
       "      <th>3</th>\n",
       "      <td>sell</td>\n",
       "      <td>PH</td>\n",
       "      <td>Liniers</td>\n",
       "      <td>|Argentina|Capital Federal|Liniers|</td>\n",
       "      <td>Argentina</td>\n",
       "      <td>Capital Federal</td>\n",
       "      <td>3431333.0</td>\n",
       "      <td>-34.6477969,-58.5164244</td>\n",
       "      <td>-34.647797</td>\n",
       "      <td>-58.516424</td>\n",
       "      <td>...</td>\n",
       "      <td>NaN</td>\n",
       "      <td>NaN</td>\n",
       "      <td>NaN</td>\n",
       "      <td>NaN</td>\n",
       "      <td>NaN</td>\n",
       "      <td>NaN</td>\n",
       "      <td>http://www.properati.com.ar/15boh_venta_ph_lin...</td>\n",
       "      <td>PH 3 ambientes con patio. Hay 3 deptos en lote...</td>\n",
       "      <td>PH 3 amb. cfte. reciclado</td>\n",
       "      <td>https://thumbs4.properati.com/3/DgIfX-85Mog5SP...</td>\n",
       "    </tr>\n",
       "    <tr>\n",
       "      <th>4</th>\n",
       "      <td>sell</td>\n",
       "      <td>apartment</td>\n",
       "      <td>Centro</td>\n",
       "      <td>|Argentina|Buenos Aires Costa Atlántica|Mar de...</td>\n",
       "      <td>Argentina</td>\n",
       "      <td>Buenos Aires Costa Atlántica</td>\n",
       "      <td>3435548.0</td>\n",
       "      <td>-38.0026256,-57.5494468</td>\n",
       "      <td>-38.002626</td>\n",
       "      <td>-57.549447</td>\n",
       "      <td>...</td>\n",
       "      <td>35.0</td>\n",
       "      <td>1828.571429</td>\n",
       "      <td>1828.571429</td>\n",
       "      <td>NaN</td>\n",
       "      <td>NaN</td>\n",
       "      <td>NaN</td>\n",
       "      <td>http://www.properati.com.ar/15bok_venta_depart...</td>\n",
       "      <td>DEPARTAMENTO CON FANTÁSTICA ILUMINACIÓN NATURA...</td>\n",
       "      <td>DEPTO 2 AMB AL CONTRAFRENTE ZONA CENTRO/PLAZA ...</td>\n",
       "      <td>https://thumbs4.properati.com/5/xrRqlNcSI_vs-f...</td>\n",
       "    </tr>\n",
       "  </tbody>\n",
       "</table>\n",
       "<p>5 rows × 25 columns</p>\n",
       "</div>"
      ],
      "text/plain": [
       "  operation property_type place_name  \\\n",
       "0      sell            PH  Mataderos   \n",
       "1      sell     apartment   La Plata   \n",
       "2      sell     apartment  Mataderos   \n",
       "3      sell            PH    Liniers   \n",
       "4      sell     apartment     Centro   \n",
       "\n",
       "                             place_with_parent_names country_name  \\\n",
       "0              |Argentina|Capital Federal|Mataderos|    Argentina   \n",
       "1        |Argentina|Bs.As. G.B.A. Zona Sur|La Plata|    Argentina   \n",
       "2              |Argentina|Capital Federal|Mataderos|    Argentina   \n",
       "3                |Argentina|Capital Federal|Liniers|    Argentina   \n",
       "4  |Argentina|Buenos Aires Costa Atlántica|Mar de...    Argentina   \n",
       "\n",
       "                     state_name  geonames_id                  lat-lon  \\\n",
       "0               Capital Federal    3430787.0  -34.6618237,-58.5088387   \n",
       "1        Bs.As. G.B.A. Zona Sur    3432039.0  -34.9038831,-57.9643295   \n",
       "2               Capital Federal    3430787.0  -34.6522615,-58.5229825   \n",
       "3               Capital Federal    3431333.0  -34.6477969,-58.5164244   \n",
       "4  Buenos Aires Costa Atlántica    3435548.0  -38.0026256,-57.5494468   \n",
       "\n",
       "         lat        lon  ...  surface_covered_in_m2 price_usd_per_m2  \\\n",
       "0 -34.661824 -58.508839  ...                   40.0      1127.272727   \n",
       "1 -34.903883 -57.964330  ...                    NaN              NaN   \n",
       "2 -34.652262 -58.522982  ...                   55.0      1309.090909   \n",
       "3 -34.647797 -58.516424  ...                    NaN              NaN   \n",
       "4 -38.002626 -57.549447  ...                   35.0      1828.571429   \n",
       "\n",
       "   price_per_m2  floor  rooms  expenses  \\\n",
       "0   1550.000000    NaN    NaN       NaN   \n",
       "1           NaN    NaN    NaN       NaN   \n",
       "2   1309.090909    NaN    NaN       NaN   \n",
       "3           NaN    NaN    NaN       NaN   \n",
       "4   1828.571429    NaN    NaN       NaN   \n",
       "\n",
       "                                       properati_url  \\\n",
       "0  http://www.properati.com.ar/15bo8_venta_ph_mat...   \n",
       "1  http://www.properati.com.ar/15bob_venta_depart...   \n",
       "2  http://www.properati.com.ar/15bod_venta_depart...   \n",
       "3  http://www.properati.com.ar/15boh_venta_ph_lin...   \n",
       "4  http://www.properati.com.ar/15bok_venta_depart...   \n",
       "\n",
       "                                         description  \\\n",
       "0  2 AMBIENTES TIPO CASA PLANTA BAJA POR PASILLO,...   \n",
       "1  Venta de departamento en décimo piso al frente...   \n",
       "2  2 AMBIENTES 3ER PISO LATERAL LIVING COMEDOR AM...   \n",
       "3  PH 3 ambientes con patio. Hay 3 deptos en lote...   \n",
       "4  DEPARTAMENTO CON FANTÁSTICA ILUMINACIÓN NATURA...   \n",
       "\n",
       "                                               title  \\\n",
       "0                 2 AMB TIPO CASA SIN EXPENSAS EN PB   \n",
       "1  VENTA Depto 2 dorm. a estrenar 7 e/ 36 y 37   ...   \n",
       "2           2 AMB 3ER PISO CON ASCENSOR APTO CREDITO   \n",
       "3                       PH 3 amb. cfte. reciclado      \n",
       "4  DEPTO 2 AMB AL CONTRAFRENTE ZONA CENTRO/PLAZA ...   \n",
       "\n",
       "                                     image_thumbnail  \n",
       "0  https://thumbs4.properati.com/8/BluUYiHJLhgIIK...  \n",
       "1  https://thumbs4.properati.com/7/ikpVBu2ztHA7jv...  \n",
       "2  https://thumbs4.properati.com/5/SXKr34F_IwG3W_...  \n",
       "3  https://thumbs4.properati.com/3/DgIfX-85Mog5SP...  \n",
       "4  https://thumbs4.properati.com/5/xrRqlNcSI_vs-f...  \n",
       "\n",
       "[5 rows x 25 columns]"
      ]
     },
     "execution_count": 6,
     "metadata": {},
     "output_type": "execute_result"
    }
   ],
   "source": [
    "df.head()"
   ]
  },
  {
   "cell_type": "code",
   "execution_count": 7,
   "metadata": {},
   "outputs": [
    {
     "data": {
      "text/plain": [
       "Córdoba          9254\n",
       "Rosario          8504\n",
       "Mar del Plata    6534\n",
       "Tigre            3324\n",
       "Nordelta         3315\n",
       "Belgrano         2992\n",
       "Palermo          2885\n",
       "La Plata         2534\n",
       "Caballito        2273\n",
       "Pilar            2228\n",
       "Name: place_name, dtype: int64"
      ]
     },
     "execution_count": 7,
     "metadata": {},
     "output_type": "execute_result"
    }
   ],
   "source": [
    "df.place_name.value_counts().head(10)"
   ]
  },
  {
   "cell_type": "code",
   "execution_count": 8,
   "metadata": {},
   "outputs": [
    {
     "name": "stdout",
     "output_type": "stream",
     "text": [
      "Index(['operation', 'property_type', 'place_name', 'place_with_parent_names',\n",
      "       'country_name', 'state_name', 'geonames_id', 'lat-lon', 'lat', 'lon',\n",
      "       'price', 'currency', 'price_aprox_local_currency', 'price_aprox_usd',\n",
      "       'surface_total_in_m2', 'surface_covered_in_m2', 'price_usd_per_m2',\n",
      "       'price_per_m2', 'floor', 'rooms', 'expenses', 'properati_url',\n",
      "       'description', 'title', 'image_thumbnail'],\n",
      "      dtype='object')\n"
     ]
    }
   ],
   "source": [
    "#print(df.shape)\n",
    "print(df.columns)\n",
    "#print(df.dtypes)"
   ]
  },
  {
   "cell_type": "markdown",
   "metadata": {},
   "source": [
    "\n",
    "<a id=\"section_CABA\"></a> \n",
    "## CABA\n",
    "\n",
    "[volver a TOC](#section_toc)"
   ]
  },
  {
   "cell_type": "code",
   "execution_count": 9,
   "metadata": {},
   "outputs": [
    {
     "data": {
      "text/plain": [
       "Capital Federal    32316\n",
       "Name: state_name, dtype: int64"
      ]
     },
     "execution_count": 9,
     "metadata": {},
     "output_type": "execute_result"
    }
   ],
   "source": [
    "caba = df.loc[df.state_name == 'Capital Federal', :]\n",
    "caba.head(3)\n",
    "type(caba)\n",
    "caba.state_name.value_counts()"
   ]
  },
  {
   "cell_type": "code",
   "execution_count": 10,
   "metadata": {},
   "outputs": [
    {
     "data": {
      "text/html": [
       "<div>\n",
       "<style scoped>\n",
       "    .dataframe tbody tr th:only-of-type {\n",
       "        vertical-align: middle;\n",
       "    }\n",
       "\n",
       "    .dataframe tbody tr th {\n",
       "        vertical-align: top;\n",
       "    }\n",
       "\n",
       "    .dataframe thead tr th {\n",
       "        text-align: left;\n",
       "    }\n",
       "\n",
       "    .dataframe thead tr:last-of-type th {\n",
       "        text-align: right;\n",
       "    }\n",
       "</style>\n",
       "<table border=\"1\" class=\"dataframe\">\n",
       "  <thead>\n",
       "    <tr>\n",
       "      <th></th>\n",
       "      <th></th>\n",
       "      <th colspan=\"3\" halign=\"left\">price</th>\n",
       "      <th>rooms</th>\n",
       "      <th colspan=\"3\" halign=\"left\">surface_covered_in_m2</th>\n",
       "    </tr>\n",
       "    <tr>\n",
       "      <th></th>\n",
       "      <th></th>\n",
       "      <th>mean</th>\n",
       "      <th>median</th>\n",
       "      <th>std</th>\n",
       "      <th>count</th>\n",
       "      <th>mean</th>\n",
       "      <th>median</th>\n",
       "      <th>std</th>\n",
       "    </tr>\n",
       "    <tr>\n",
       "      <th>place_name</th>\n",
       "      <th>rooms</th>\n",
       "      <th></th>\n",
       "      <th></th>\n",
       "      <th></th>\n",
       "      <th></th>\n",
       "      <th></th>\n",
       "      <th></th>\n",
       "      <th></th>\n",
       "    </tr>\n",
       "  </thead>\n",
       "  <tbody>\n",
       "    <tr>\n",
       "      <th rowspan=\"5\" valign=\"top\">Abasto</th>\n",
       "      <th>1.0</th>\n",
       "      <td>66583.33</td>\n",
       "      <td>62000.0</td>\n",
       "      <td>16597.96</td>\n",
       "      <td>12</td>\n",
       "      <td>33.27</td>\n",
       "      <td>30.0</td>\n",
       "      <td>7.82</td>\n",
       "    </tr>\n",
       "    <tr>\n",
       "      <th>2.0</th>\n",
       "      <td>93241.67</td>\n",
       "      <td>79450.0</td>\n",
       "      <td>32499.50</td>\n",
       "      <td>12</td>\n",
       "      <td>41.25</td>\n",
       "      <td>42.5</td>\n",
       "      <td>8.21</td>\n",
       "    </tr>\n",
       "    <tr>\n",
       "      <th>3.0</th>\n",
       "      <td>144352.94</td>\n",
       "      <td>139500.0</td>\n",
       "      <td>41936.99</td>\n",
       "      <td>17</td>\n",
       "      <td>71.25</td>\n",
       "      <td>67.5</td>\n",
       "      <td>19.36</td>\n",
       "    </tr>\n",
       "    <tr>\n",
       "      <th>4.0</th>\n",
       "      <td>154375.00</td>\n",
       "      <td>160000.0</td>\n",
       "      <td>13146.84</td>\n",
       "      <td>17</td>\n",
       "      <td>35.00</td>\n",
       "      <td>5.0</td>\n",
       "      <td>33.50</td>\n",
       "    </tr>\n",
       "    <tr>\n",
       "      <th>5.0</th>\n",
       "      <td>234633.33</td>\n",
       "      <td>244000.0</td>\n",
       "      <td>26235.54</td>\n",
       "      <td>3</td>\n",
       "      <td>119.67</td>\n",
       "      <td>104.0</td>\n",
       "      <td>36.14</td>\n",
       "    </tr>\n",
       "    <tr>\n",
       "      <th>...</th>\n",
       "      <th>...</th>\n",
       "      <td>...</td>\n",
       "      <td>...</td>\n",
       "      <td>...</td>\n",
       "      <td>...</td>\n",
       "      <td>...</td>\n",
       "      <td>...</td>\n",
       "      <td>...</td>\n",
       "    </tr>\n",
       "    <tr>\n",
       "      <th rowspan=\"5\" valign=\"top\">Villa del Parque</th>\n",
       "      <th>4.0</th>\n",
       "      <td>251179.07</td>\n",
       "      <td>223000.0</td>\n",
       "      <td>100646.70</td>\n",
       "      <td>44</td>\n",
       "      <td>100.56</td>\n",
       "      <td>93.0</td>\n",
       "      <td>45.34</td>\n",
       "    </tr>\n",
       "    <tr>\n",
       "      <th>5.0</th>\n",
       "      <td>492500.00</td>\n",
       "      <td>520000.0</td>\n",
       "      <td>161941.35</td>\n",
       "      <td>4</td>\n",
       "      <td>159.75</td>\n",
       "      <td>192.5</td>\n",
       "      <td>98.83</td>\n",
       "    </tr>\n",
       "    <tr>\n",
       "      <th>6.0</th>\n",
       "      <td>413333.33</td>\n",
       "      <td>370000.0</td>\n",
       "      <td>92915.73</td>\n",
       "      <td>4</td>\n",
       "      <td>163.50</td>\n",
       "      <td>112.0</td>\n",
       "      <td>185.82</td>\n",
       "    </tr>\n",
       "    <tr>\n",
       "      <th>7.0</th>\n",
       "      <td>320000.00</td>\n",
       "      <td>320000.0</td>\n",
       "      <td>0.00</td>\n",
       "      <td>3</td>\n",
       "      <td>377.33</td>\n",
       "      <td>481.0</td>\n",
       "      <td>179.56</td>\n",
       "    </tr>\n",
       "    <tr>\n",
       "      <th>8.0</th>\n",
       "      <td>435000.00</td>\n",
       "      <td>435000.0</td>\n",
       "      <td>91923.88</td>\n",
       "      <td>2</td>\n",
       "      <td>20.00</td>\n",
       "      <td>20.0</td>\n",
       "      <td>0.00</td>\n",
       "    </tr>\n",
       "  </tbody>\n",
       "</table>\n",
       "<p>468 rows × 7 columns</p>\n",
       "</div>"
      ],
      "text/plain": [
       "                            price                      rooms  \\\n",
       "                             mean    median        std count   \n",
       "place_name       rooms                                         \n",
       "Abasto           1.0     66583.33   62000.0   16597.96    12   \n",
       "                 2.0     93241.67   79450.0   32499.50    12   \n",
       "                 3.0    144352.94  139500.0   41936.99    17   \n",
       "                 4.0    154375.00  160000.0   13146.84    17   \n",
       "                 5.0    234633.33  244000.0   26235.54     3   \n",
       "...                           ...       ...        ...   ...   \n",
       "Villa del Parque 4.0    251179.07  223000.0  100646.70    44   \n",
       "                 5.0    492500.00  520000.0  161941.35     4   \n",
       "                 6.0    413333.33  370000.0   92915.73     4   \n",
       "                 7.0    320000.00  320000.0       0.00     3   \n",
       "                 8.0    435000.00  435000.0   91923.88     2   \n",
       "\n",
       "                       surface_covered_in_m2                 \n",
       "                                        mean median     std  \n",
       "place_name       rooms                                       \n",
       "Abasto           1.0                   33.27   30.0    7.82  \n",
       "                 2.0                   41.25   42.5    8.21  \n",
       "                 3.0                   71.25   67.5   19.36  \n",
       "                 4.0                   35.00    5.0   33.50  \n",
       "                 5.0                  119.67  104.0   36.14  \n",
       "...                                      ...    ...     ...  \n",
       "Villa del Parque 4.0                  100.56   93.0   45.34  \n",
       "                 5.0                  159.75  192.5   98.83  \n",
       "                 6.0                  163.50  112.0  185.82  \n",
       "                 7.0                  377.33  481.0  179.56  \n",
       "                 8.0                   20.00   20.0    0.00  \n",
       "\n",
       "[468 rows x 7 columns]"
      ]
     },
     "execution_count": 10,
     "metadata": {},
     "output_type": "execute_result"
    }
   ],
   "source": [
    "caba.pivot_table(index=['place_name', 'rooms'], \n",
    "                                aggfunc={'rooms': 'count', \n",
    "                                         'price': ['mean', 'median', 'std'],\n",
    "                                         'surface_covered_in_m2': ['mean', 'median', 'std']\n",
    "                                         }\n",
    "                                ).round(2)"
   ]
  },
  {
   "cell_type": "markdown",
   "metadata": {},
   "source": [
    "\n",
    "<a id=\"section_BPC\"></a> \n",
    "## Belgrano, Palermo y Caballito\n",
    "\n",
    "[volver a TOC](#section_toc)\n"
   ]
  },
  {
   "cell_type": "markdown",
   "metadata": {},
   "source": [
    "Tomamos como muestra los barrios de Belgrano, Palermo y Caballito. \n",
    "Dentro de CABA, son los barrios con mayor datos disponibles.\n",
    "Asimismo, no poseeen niveles socioeconomicos extremadamente disimiles. "
   ]
  },
  {
   "cell_type": "code",
   "execution_count": 11,
   "metadata": {
    "scrolled": true
   },
   "outputs": [
    {
     "data": {
      "text/html": [
       "<div>\n",
       "<style scoped>\n",
       "    .dataframe tbody tr th:only-of-type {\n",
       "        vertical-align: middle;\n",
       "    }\n",
       "\n",
       "    .dataframe tbody tr th {\n",
       "        vertical-align: top;\n",
       "    }\n",
       "\n",
       "    .dataframe thead th {\n",
       "        text-align: right;\n",
       "    }\n",
       "</style>\n",
       "<table border=\"1\" class=\"dataframe\">\n",
       "  <thead>\n",
       "    <tr style=\"text-align: right;\">\n",
       "      <th></th>\n",
       "      <th>operation</th>\n",
       "      <th>property_type</th>\n",
       "      <th>place_name</th>\n",
       "      <th>place_with_parent_names</th>\n",
       "      <th>country_name</th>\n",
       "      <th>state_name</th>\n",
       "      <th>geonames_id</th>\n",
       "      <th>lat-lon</th>\n",
       "      <th>lat</th>\n",
       "      <th>lon</th>\n",
       "      <th>...</th>\n",
       "      <th>surface_covered_in_m2</th>\n",
       "      <th>price_usd_per_m2</th>\n",
       "      <th>price_per_m2</th>\n",
       "      <th>floor</th>\n",
       "      <th>rooms</th>\n",
       "      <th>expenses</th>\n",
       "      <th>properati_url</th>\n",
       "      <th>description</th>\n",
       "      <th>title</th>\n",
       "      <th>image_thumbnail</th>\n",
       "    </tr>\n",
       "  </thead>\n",
       "  <tbody>\n",
       "    <tr>\n",
       "      <th>7</th>\n",
       "      <td>sell</td>\n",
       "      <td>apartment</td>\n",
       "      <td>Belgrano</td>\n",
       "      <td>|Argentina|Capital Federal|Belgrano|</td>\n",
       "      <td>Argentina</td>\n",
       "      <td>Capital Federal</td>\n",
       "      <td>3436077.0</td>\n",
       "      <td>-34.5598729,-58.443362</td>\n",
       "      <td>-34.559873</td>\n",
       "      <td>-58.443362</td>\n",
       "      <td>...</td>\n",
       "      <td>40.0</td>\n",
       "      <td>3066.666667</td>\n",
       "      <td>3450.000000</td>\n",
       "      <td>NaN</td>\n",
       "      <td>NaN</td>\n",
       "      <td>NaN</td>\n",
       "      <td>http://www.properati.com.ar/15bot_venta_depart...</td>\n",
       "      <td>EXCELENTE MONOAMBIENTE A ESTRENAR AMPLIO SUPER...</td>\n",
       "      <td>JOSE HERNANDEZ 1400 MONOAMBIENTE  ESTRENAR CAT...</td>\n",
       "      <td>https://thumbs4.properati.com/1/IHxARynlr8sPEW...</td>\n",
       "    </tr>\n",
       "    <tr>\n",
       "      <th>8</th>\n",
       "      <td>sell</td>\n",
       "      <td>apartment</td>\n",
       "      <td>Belgrano</td>\n",
       "      <td>|Argentina|Capital Federal|Belgrano|</td>\n",
       "      <td>Argentina</td>\n",
       "      <td>Capital Federal</td>\n",
       "      <td>3436077.0</td>\n",
       "      <td>-34.5598729,-58.443362</td>\n",
       "      <td>-34.559873</td>\n",
       "      <td>-58.443362</td>\n",
       "      <td>...</td>\n",
       "      <td>60.0</td>\n",
       "      <td>3000.000000</td>\n",
       "      <td>3250.000000</td>\n",
       "      <td>NaN</td>\n",
       "      <td>NaN</td>\n",
       "      <td>NaN</td>\n",
       "      <td>http://www.properati.com.ar/15bou_venta_depart...</td>\n",
       "      <td>EXCELENTE DOS AMBIENTES  ESTRENAR AMPLIO SUPER...</td>\n",
       "      <td>JOSE HERNANDEZ   1400 DOS AMBIENTES ESTRENAR ,...</td>\n",
       "      <td>https://thumbs4.properati.com/2/J3zOjgaFHrkvnv...</td>\n",
       "    </tr>\n",
       "    <tr>\n",
       "      <th>19</th>\n",
       "      <td>sell</td>\n",
       "      <td>apartment</td>\n",
       "      <td>Palermo</td>\n",
       "      <td>|Argentina|Capital Federal|Palermo|</td>\n",
       "      <td>Argentina</td>\n",
       "      <td>Capital Federal</td>\n",
       "      <td>3430234.0</td>\n",
       "      <td>-34.580503566,-58.4058744847</td>\n",
       "      <td>-34.580504</td>\n",
       "      <td>-58.405874</td>\n",
       "      <td>...</td>\n",
       "      <td>96.0</td>\n",
       "      <td>3365.384615</td>\n",
       "      <td>3645.833333</td>\n",
       "      <td>NaN</td>\n",
       "      <td>3.0</td>\n",
       "      <td>NaN</td>\n",
       "      <td>http://www.properati.com.ar/15bq8_venta_depart...</td>\n",
       "      <td>Excelente semipiso al contra frente en Bulnes ...</td>\n",
       "      <td>Bulnes y Libertador: espectacular pulmón, con ...</td>\n",
       "      <td>https://thumbs4.properati.com/8/1y9fKHLee-aQQj...</td>\n",
       "    </tr>\n",
       "    <tr>\n",
       "      <th>21</th>\n",
       "      <td>sell</td>\n",
       "      <td>apartment</td>\n",
       "      <td>Palermo</td>\n",
       "      <td>|Argentina|Capital Federal|Palermo|</td>\n",
       "      <td>Argentina</td>\n",
       "      <td>Capital Federal</td>\n",
       "      <td>3430234.0</td>\n",
       "      <td>-34.590926,-58.4116653</td>\n",
       "      <td>-34.590926</td>\n",
       "      <td>-58.411665</td>\n",
       "      <td>...</td>\n",
       "      <td>73.0</td>\n",
       "      <td>2292.372881</td>\n",
       "      <td>3705.479452</td>\n",
       "      <td>NaN</td>\n",
       "      <td>4.0</td>\n",
       "      <td>NaN</td>\n",
       "      <td>http://www.properati.com.ar/15bqd_venta_depart...</td>\n",
       "      <td>EXCELENTE ZONA, MULTIPLES MEDIOS DE TRANSPORTE...</td>\n",
       "      <td>Departamento de 4 ambientes en Venta en Palermo</td>\n",
       "      <td>https://thumbs4.properati.com/0/P6wPIXB1wJFLVU...</td>\n",
       "    </tr>\n",
       "    <tr>\n",
       "      <th>52</th>\n",
       "      <td>sell</td>\n",
       "      <td>apartment</td>\n",
       "      <td>Caballito</td>\n",
       "      <td>|Argentina|Capital Federal|Caballito|</td>\n",
       "      <td>Argentina</td>\n",
       "      <td>Capital Federal</td>\n",
       "      <td>3435874.0</td>\n",
       "      <td>-34.6222111,-58.4391283</td>\n",
       "      <td>-34.622211</td>\n",
       "      <td>-58.439128</td>\n",
       "      <td>...</td>\n",
       "      <td>50.0</td>\n",
       "      <td>2200.000000</td>\n",
       "      <td>2200.000000</td>\n",
       "      <td>NaN</td>\n",
       "      <td>3.0</td>\n",
       "      <td>NaN</td>\n",
       "      <td>http://www.properati.com.ar/15buk_venta_depart...</td>\n",
       "      <td>Departamento de 3 Ambientes al Contrafrente. S...</td>\n",
       "      <td>CABALLITO 3 AMB. EN VENTA Listo para escriturar</td>\n",
       "      <td>https://thumbs4.properati.com/7/eXZg2k6Uq2w8KB...</td>\n",
       "    </tr>\n",
       "  </tbody>\n",
       "</table>\n",
       "<p>5 rows × 25 columns</p>\n",
       "</div>"
      ],
      "text/plain": [
       "   operation property_type place_name                place_with_parent_names  \\\n",
       "7       sell     apartment   Belgrano   |Argentina|Capital Federal|Belgrano|   \n",
       "8       sell     apartment   Belgrano   |Argentina|Capital Federal|Belgrano|   \n",
       "19      sell     apartment    Palermo    |Argentina|Capital Federal|Palermo|   \n",
       "21      sell     apartment    Palermo    |Argentina|Capital Federal|Palermo|   \n",
       "52      sell     apartment  Caballito  |Argentina|Capital Federal|Caballito|   \n",
       "\n",
       "   country_name       state_name  geonames_id                       lat-lon  \\\n",
       "7     Argentina  Capital Federal    3436077.0        -34.5598729,-58.443362   \n",
       "8     Argentina  Capital Federal    3436077.0        -34.5598729,-58.443362   \n",
       "19    Argentina  Capital Federal    3430234.0  -34.580503566,-58.4058744847   \n",
       "21    Argentina  Capital Federal    3430234.0        -34.590926,-58.4116653   \n",
       "52    Argentina  Capital Federal    3435874.0       -34.6222111,-58.4391283   \n",
       "\n",
       "          lat        lon  ...  surface_covered_in_m2 price_usd_per_m2  \\\n",
       "7  -34.559873 -58.443362  ...                   40.0      3066.666667   \n",
       "8  -34.559873 -58.443362  ...                   60.0      3000.000000   \n",
       "19 -34.580504 -58.405874  ...                   96.0      3365.384615   \n",
       "21 -34.590926 -58.411665  ...                   73.0      2292.372881   \n",
       "52 -34.622211 -58.439128  ...                   50.0      2200.000000   \n",
       "\n",
       "    price_per_m2  floor  rooms  expenses  \\\n",
       "7    3450.000000    NaN    NaN       NaN   \n",
       "8    3250.000000    NaN    NaN       NaN   \n",
       "19   3645.833333    NaN    3.0       NaN   \n",
       "21   3705.479452    NaN    4.0       NaN   \n",
       "52   2200.000000    NaN    3.0       NaN   \n",
       "\n",
       "                                        properati_url  \\\n",
       "7   http://www.properati.com.ar/15bot_venta_depart...   \n",
       "8   http://www.properati.com.ar/15bou_venta_depart...   \n",
       "19  http://www.properati.com.ar/15bq8_venta_depart...   \n",
       "21  http://www.properati.com.ar/15bqd_venta_depart...   \n",
       "52  http://www.properati.com.ar/15buk_venta_depart...   \n",
       "\n",
       "                                          description  \\\n",
       "7   EXCELENTE MONOAMBIENTE A ESTRENAR AMPLIO SUPER...   \n",
       "8   EXCELENTE DOS AMBIENTES  ESTRENAR AMPLIO SUPER...   \n",
       "19  Excelente semipiso al contra frente en Bulnes ...   \n",
       "21  EXCELENTE ZONA, MULTIPLES MEDIOS DE TRANSPORTE...   \n",
       "52  Departamento de 3 Ambientes al Contrafrente. S...   \n",
       "\n",
       "                                                title  \\\n",
       "7   JOSE HERNANDEZ 1400 MONOAMBIENTE  ESTRENAR CAT...   \n",
       "8   JOSE HERNANDEZ   1400 DOS AMBIENTES ESTRENAR ,...   \n",
       "19  Bulnes y Libertador: espectacular pulmón, con ...   \n",
       "21    Departamento de 4 ambientes en Venta en Palermo   \n",
       "52    CABALLITO 3 AMB. EN VENTA Listo para escriturar   \n",
       "\n",
       "                                      image_thumbnail  \n",
       "7   https://thumbs4.properati.com/1/IHxARynlr8sPEW...  \n",
       "8   https://thumbs4.properati.com/2/J3zOjgaFHrkvnv...  \n",
       "19  https://thumbs4.properati.com/8/1y9fKHLee-aQQj...  \n",
       "21  https://thumbs4.properati.com/0/P6wPIXB1wJFLVU...  \n",
       "52  https://thumbs4.properati.com/7/eXZg2k6Uq2w8KB...  \n",
       "\n",
       "[5 rows x 25 columns]"
      ]
     },
     "execution_count": 11,
     "metadata": {},
     "output_type": "execute_result"
    }
   ],
   "source": [
    "# 3 barrios\n",
    "df_barrios = caba[(caba['place_name'] == 'Belgrano') | (caba['place_name'] == 'Palermo') | (caba['place_name'] == 'Caballito')]\n",
    "df_barrios.head(5)"
   ]
  },
  {
   "cell_type": "code",
   "execution_count": 12,
   "metadata": {},
   "outputs": [
    {
     "data": {
      "text/plain": [
       "Belgrano     2992\n",
       "Palermo      2885\n",
       "Caballito    2273\n",
       "Name: place_name, dtype: int64"
      ]
     },
     "execution_count": 12,
     "metadata": {},
     "output_type": "execute_result"
    }
   ],
   "source": [
    "df_barrios.place_name.value_counts()"
   ]
  },
  {
   "cell_type": "markdown",
   "metadata": {},
   "source": [
    "<a id=\"section_bel\"></a> \n",
    "## Belgrano\n",
    "\n",
    "[volver a TOC](#section_toc)"
   ]
  },
  {
   "cell_type": "code",
   "execution_count": 13,
   "metadata": {},
   "outputs": [
    {
     "data": {
      "text/plain": [
       "(2992, 25)"
      ]
     },
     "execution_count": 13,
     "metadata": {},
     "output_type": "execute_result"
    }
   ],
   "source": [
    "belgrano = df.loc[df.place_name == 'Belgrano', : ]\n",
    "\n",
    "belgrano.shape"
   ]
  },
  {
   "cell_type": "markdown",
   "metadata": {},
   "source": [
    "\n",
    "\n",
    "<a id=\"section_col1\"></a> \n",
    "## Columnas 1\n",
    "\n",
    "[volver a TOC](#section_toc)"
   ]
  },
  {
   "cell_type": "markdown",
   "metadata": {},
   "source": [
    "Conclusion de primer filtro de columnas no utiles:\n",
    "\n",
    "* 'operation. todo el dataset tiene valor 'sell'\n",
    "* 'place_with_parent_names' esta pais|estad|barrio todo junto. Ya tenemos esta informacion en place_name en barrio\n",
    "* 'country_name' esta Argentina solo\n",
    "* 'image_thumbnail' no util para predecir\n",
    "* 'lat-lon' repetido, ya esta lat y long.\n",
    "\n",
    "* geomname_id no util\n",
    "* properati_url no util\n"
   ]
  },
  {
   "cell_type": "code",
   "execution_count": 14,
   "metadata": {},
   "outputs": [],
   "source": [
    "#Primer filtro\n",
    "desired_col= ['property_type', 'place_name', 'state_name', 'lat', 'lon', 'price', 'currency',\n",
    "       'price_aprox_local_currency', 'price_aprox_usd', 'surface_total_in_m2',\n",
    "       'surface_covered_in_m2', 'price_usd_per_m2', 'price_per_m2', 'floor',\n",
    "       'rooms', 'expenses', 'description', 'title', 'properati_url']\n",
    "# 'geonames_id' and , 'properati_url'\n",
    "\n",
    "belgrano= belgrano[desired_col]"
   ]
  },
  {
   "cell_type": "markdown",
   "metadata": {},
   "source": [
    "<a id=\"section_col2\"></a> \n",
    "## Agrupacion columnas\n",
    "\n",
    "Agrupacion columnas para graficarlas mas facilmente.\n",
    "\n",
    "[volver a TOC](#section_toc)"
   ]
  },
  {
   "cell_type": "code",
   "execution_count": 15,
   "metadata": {},
   "outputs": [],
   "source": [
    "\n",
    "#Columnas de precio\n",
    "price = [\"price\", \"currency\", \"price_aprox_local_currency\", \"price_aprox_usd\", \"price_usd_per_m2\", \"price_per_m2\"]\n",
    "price.remove(\"currency\")\n",
    "#price= df_barrios[price_col]\n",
    "\n",
    "#quant\n",
    "quantitative = [f for f in belgrano.columns if belgrano.dtypes[f] != 'object']\n",
    "#quantitative.remove('geonames_id')\n",
    "quantitative.remove(\"price\")\n",
    "quantitative.remove(\"price_aprox_local_currency\")\n",
    "quantitative.remove(\"price_aprox_usd\")\n",
    "quantitative.remove(\"price_usd_per_m2\")\n",
    "quantitative.remove(\"price_per_m2\")\n",
    "\n",
    "#qual\n",
    "qualitative = [f for f in belgrano.columns if belgrano.dtypes[f] == 'object']\n",
    "#qualitative.remove(\"currency\")\n",
    "#qualitative.remove(\"properati_url\")"
   ]
  },
  {
   "cell_type": "code",
   "execution_count": 16,
   "metadata": {},
   "outputs": [
    {
     "name": "stdout",
     "output_type": "stream",
     "text": [
      "['lat', 'lon', 'surface_total_in_m2', 'surface_covered_in_m2', 'floor', 'rooms', 'expenses']\n",
      "['property_type', 'place_name', 'state_name', 'currency', 'description', 'title', 'properati_url']\n",
      "['price', 'price_aprox_local_currency', 'price_aprox_usd', 'price_usd_per_m2', 'price_per_m2']\n"
     ]
    }
   ],
   "source": [
    "print(quantitative)\n",
    "print(qualitative)\n",
    "print(price)"
   ]
  },
  {
   "cell_type": "markdown",
   "metadata": {},
   "source": [
    "<a id=\"section_ap_usd\"></a> \n",
    "## Apartments in USD\n",
    "\n",
    "[volver a TOC](#section_toc)"
   ]
  },
  {
   "cell_type": "markdown",
   "metadata": {},
   "source": [
    "Creamos un nuevo dataframe (df): \n",
    "\n",
    "*   sin tener en cuenta los datos (de precio) expresados unicamente en ARS. El 84% de todos los datos están expresados en USD.\n",
    "*   Seleccionamos los datos sean solo departamentos (apartments) para nuestro analisis, dado que comprende un 91% de las propiedades."
   ]
  },
  {
   "cell_type": "code",
   "execution_count": 17,
   "metadata": {},
   "outputs": [
    {
     "data": {
      "text/plain": [
       "USD    2394\n",
       "ARS     140\n",
       "Name: currency, dtype: int64"
      ]
     },
     "execution_count": 17,
     "metadata": {},
     "output_type": "execute_result"
    }
   ],
   "source": [
    "belgrano.currency.value_counts() #Verificamos cuantos valores estan expresados en pesos argentinos"
   ]
  },
  {
   "cell_type": "code",
   "execution_count": 18,
   "metadata": {},
   "outputs": [
    {
     "data": {
      "text/plain": [
       "2992"
      ]
     },
     "execution_count": 18,
     "metadata": {},
     "output_type": "execute_result"
    }
   ],
   "source": [
    "usd = belgrano.loc[belgrano.currency == \"USD\",['currency']]\n",
    "belgrano.shape[0]"
   ]
  },
  {
   "cell_type": "code",
   "execution_count": 19,
   "metadata": {},
   "outputs": [
    {
     "data": {
      "text/plain": [
       "apartment    2761\n",
       "house         121\n",
       "store          67\n",
       "PH             43\n",
       "Name: property_type, dtype: int64"
      ]
     },
     "execution_count": 19,
     "metadata": {},
     "output_type": "execute_result"
    }
   ],
   "source": [
    "belgrano['property_type'].value_counts()"
   ]
  },
  {
   "cell_type": "code",
   "execution_count": 20,
   "metadata": {},
   "outputs": [
    {
     "name": "stdout",
     "output_type": "stream",
     "text": [
      "84.38036809815951 91.2760736196319\n"
     ]
    }
   ],
   "source": [
    "z = (6877/8150)*100\n",
    "y = (7439/8150)*100\n",
    "print(z,y)"
   ]
  },
  {
   "cell_type": "code",
   "execution_count": 21,
   "metadata": {},
   "outputs": [],
   "source": [
    "belgrano = belgrano[belgrano['currency'] != 'ARS'] \n",
    "#Creamos un nuevo df sin tener en cuenta los datos con ARS, el 84% estan expresados en USD.\n",
    "belgrano = belgrano[belgrano['property_type'] == 'apartment']\n",
    "#Seleccionamos los datos sean solo departamentos para nuestro analisis, dado que comprende un 91% de las propiedades.\n",
    "#df_barrios_usd_apto.isnull().sum() / df_barrios_usd_apto.shape[0] *100"
   ]
  },
  {
   "cell_type": "code",
   "execution_count": 22,
   "metadata": {
    "scrolled": true
   },
   "outputs": [
    {
     "data": {
      "text/html": [
       "<div>\n",
       "<style scoped>\n",
       "    .dataframe tbody tr th:only-of-type {\n",
       "        vertical-align: middle;\n",
       "    }\n",
       "\n",
       "    .dataframe tbody tr th {\n",
       "        vertical-align: top;\n",
       "    }\n",
       "\n",
       "    .dataframe thead th {\n",
       "        text-align: right;\n",
       "    }\n",
       "</style>\n",
       "<table border=\"1\" class=\"dataframe\">\n",
       "  <thead>\n",
       "    <tr style=\"text-align: right;\">\n",
       "      <th></th>\n",
       "      <th>column_name</th>\n",
       "      <th>missing_count</th>\n",
       "      <th>missing_ratio</th>\n",
       "    </tr>\n",
       "  </thead>\n",
       "  <tbody>\n",
       "    <tr>\n",
       "      <th>0</th>\n",
       "      <td>property_type</td>\n",
       "      <td>0</td>\n",
       "      <td>0.000000</td>\n",
       "    </tr>\n",
       "    <tr>\n",
       "      <th>1</th>\n",
       "      <td>place_name</td>\n",
       "      <td>0</td>\n",
       "      <td>0.000000</td>\n",
       "    </tr>\n",
       "    <tr>\n",
       "      <th>2</th>\n",
       "      <td>state_name</td>\n",
       "      <td>0</td>\n",
       "      <td>0.000000</td>\n",
       "    </tr>\n",
       "    <tr>\n",
       "      <th>3</th>\n",
       "      <td>lat</td>\n",
       "      <td>924</td>\n",
       "      <td>0.113374</td>\n",
       "    </tr>\n",
       "    <tr>\n",
       "      <th>4</th>\n",
       "      <td>lon</td>\n",
       "      <td>924</td>\n",
       "      <td>0.113374</td>\n",
       "    </tr>\n",
       "    <tr>\n",
       "      <th>5</th>\n",
       "      <td>price</td>\n",
       "      <td>423</td>\n",
       "      <td>0.051902</td>\n",
       "    </tr>\n",
       "    <tr>\n",
       "      <th>6</th>\n",
       "      <td>currency</td>\n",
       "      <td>423</td>\n",
       "      <td>0.051902</td>\n",
       "    </tr>\n",
       "    <tr>\n",
       "      <th>7</th>\n",
       "      <td>price_aprox_local_currency</td>\n",
       "      <td>423</td>\n",
       "      <td>0.051902</td>\n",
       "    </tr>\n",
       "    <tr>\n",
       "      <th>8</th>\n",
       "      <td>price_aprox_usd</td>\n",
       "      <td>423</td>\n",
       "      <td>0.051902</td>\n",
       "    </tr>\n",
       "    <tr>\n",
       "      <th>9</th>\n",
       "      <td>surface_total_in_m2</td>\n",
       "      <td>355</td>\n",
       "      <td>0.043558</td>\n",
       "    </tr>\n",
       "    <tr>\n",
       "      <th>10</th>\n",
       "      <td>surface_covered_in_m2</td>\n",
       "      <td>123</td>\n",
       "      <td>0.015092</td>\n",
       "    </tr>\n",
       "    <tr>\n",
       "      <th>11</th>\n",
       "      <td>price_usd_per_m2</td>\n",
       "      <td>763</td>\n",
       "      <td>0.093620</td>\n",
       "    </tr>\n",
       "    <tr>\n",
       "      <th>12</th>\n",
       "      <td>price_per_m2</td>\n",
       "      <td>535</td>\n",
       "      <td>0.065644</td>\n",
       "    </tr>\n",
       "    <tr>\n",
       "      <th>13</th>\n",
       "      <td>floor</td>\n",
       "      <td>2440</td>\n",
       "      <td>0.299387</td>\n",
       "    </tr>\n",
       "    <tr>\n",
       "      <th>14</th>\n",
       "      <td>rooms</td>\n",
       "      <td>1547</td>\n",
       "      <td>0.189816</td>\n",
       "    </tr>\n",
       "    <tr>\n",
       "      <th>15</th>\n",
       "      <td>expenses</td>\n",
       "      <td>1892</td>\n",
       "      <td>0.232147</td>\n",
       "    </tr>\n",
       "    <tr>\n",
       "      <th>16</th>\n",
       "      <td>description</td>\n",
       "      <td>0</td>\n",
       "      <td>0.000000</td>\n",
       "    </tr>\n",
       "    <tr>\n",
       "      <th>17</th>\n",
       "      <td>title</td>\n",
       "      <td>0</td>\n",
       "      <td>0.000000</td>\n",
       "    </tr>\n",
       "    <tr>\n",
       "      <th>18</th>\n",
       "      <td>properati_url</td>\n",
       "      <td>0</td>\n",
       "      <td>0.000000</td>\n",
       "    </tr>\n",
       "  </tbody>\n",
       "</table>\n",
       "</div>"
      ],
      "text/plain": [
       "                   column_name  missing_count  missing_ratio\n",
       "0                property_type              0       0.000000\n",
       "1                   place_name              0       0.000000\n",
       "2                   state_name              0       0.000000\n",
       "3                          lat            924       0.113374\n",
       "4                          lon            924       0.113374\n",
       "5                        price            423       0.051902\n",
       "6                     currency            423       0.051902\n",
       "7   price_aprox_local_currency            423       0.051902\n",
       "8              price_aprox_usd            423       0.051902\n",
       "9          surface_total_in_m2            355       0.043558\n",
       "10       surface_covered_in_m2            123       0.015092\n",
       "11            price_usd_per_m2            763       0.093620\n",
       "12                price_per_m2            535       0.065644\n",
       "13                       floor           2440       0.299387\n",
       "14                       rooms           1547       0.189816\n",
       "15                    expenses           1892       0.232147\n",
       "16                 description              0       0.000000\n",
       "17                       title              0       0.000000\n",
       "18               properati_url              0       0.000000"
      ]
     },
     "execution_count": 22,
     "metadata": {},
     "output_type": "execute_result"
    }
   ],
   "source": [
    "missing_df = belgrano.isnull().sum(axis=0).reset_index()\n",
    "missing_df.columns = ['column_name', 'missing_count']\n",
    "missing_df['missing_ratio'] = missing_df['missing_count'] / df_barrios.shape[0]\n",
    "missing_df#.ix[missing_df['missing_ratio']>0.999]"
   ]
  },
  {
   "cell_type": "code",
   "execution_count": 23,
   "metadata": {},
   "outputs": [
    {
     "data": {
      "text/plain": [
       "(2624, 19)"
      ]
     },
     "execution_count": 23,
     "metadata": {},
     "output_type": "execute_result"
    }
   ],
   "source": [
    "belgrano.shape"
   ]
  },
  {
   "cell_type": "markdown",
   "metadata": {},
   "source": [
    "El df bel_usd_apt tiene 2624 registros y la variable price_usd_per_m2 tiene 763 valores missing."
   ]
  },
  {
   "cell_type": "markdown",
   "metadata": {},
   "source": [
    "<a id=\"section_EDA\"></a> \n",
    "## Analisis descriptivo pre limpieza\n",
    "\n",
    "[volver a TOC](#section_toc)"
   ]
  },
  {
   "cell_type": "code",
   "execution_count": 24,
   "metadata": {},
   "outputs": [],
   "source": [
    "sns.set_style(\"white\")  "
   ]
  },
  {
   "cell_type": "code",
   "execution_count": 25,
   "metadata": {
    "scrolled": true
   },
   "outputs": [
    {
     "data": {
      "text/plain": [
       "<AxesSubplot:title={'center':'Normal'}, xlabel='price_usd_per_m2'>"
      ]
     },
     "execution_count": 25,
     "metadata": {},
     "output_type": "execute_result"
    },
    {
     "data": {
      "image/png": "[encoded data removed]",
      "text/plain": [
       "<Figure size 432x288 with 1 Axes>"
      ]
     },
     "metadata": {},
     "output_type": "display_data"
    }
   ],
   "source": [
    "import scipy.stats as st #falta trabajar la dependiente!\n",
    "\n",
    "y = belgrano ['price_usd_per_m2']\n",
    "#plt.figure(1); plt.title('Johnson SU')\n",
    "#sns.distplot(y, kde=False, fit=st.johnsonsu)\n",
    "plt.figure(2); plt.title('Normal')\n",
    "sns.distplot(y, kde=False, fit=st.norm)\n",
    "#plt.figure(3); plt.title('Log Normal')\n",
    "#sns.distplot(y, kde=False, fit=st.lognorm)"
   ]
  },
  {
   "cell_type": "code",
   "execution_count": 26,
   "metadata": {},
   "outputs": [
    {
     "data": {
      "text/plain": [
       "<AxesSubplot:xlabel='price_usd_per_m2'>"
      ]
     },
     "execution_count": 26,
     "metadata": {},
     "output_type": "execute_result"
    },
    {
     "data": {
      "image/png": "[encoded data removed]",
      "text/plain": [
       "<Figure size 432x288 with 1 Axes>"
      ]
     },
     "metadata": {},
     "output_type": "display_data"
    }
   ],
   "source": [
    "sns.boxplot(belgrano['price_usd_per_m2'])"
   ]
  },
  {
   "cell_type": "markdown",
   "metadata": {},
   "source": [
    "Analisamos los outliers de price_usd_per_m2"
   ]
  },
  {
   "cell_type": "code",
   "execution_count": 27,
   "metadata": {
    "scrolled": true
   },
   "outputs": [
    {
     "data": {
      "image/png": "[encoded data removed]",
      "text/plain": [
       "<Figure size 432x864 with 7 Axes>"
      ]
     },
     "metadata": {},
     "output_type": "display_data"
    }
   ],
   "source": [
    "f = pd.melt(belgrano, value_vars=quantitative)\n",
    "g = sns.FacetGrid(f, col=\"variable\",  col_wrap=2, sharex=False, sharey=False)\n",
    "g = g.map(sns.distplot, \"value\")"
   ]
  },
  {
   "cell_type": "markdown",
   "metadata": {},
   "source": [
    "Tenemos que sacar los outliers"
   ]
  },
  {
   "cell_type": "code",
   "execution_count": 28,
   "metadata": {
    "scrolled": true
   },
   "outputs": [
    {
     "data": {
      "image/png": "[encoded data removed]",
      "text/plain": [
       "<Figure size 432x648 with 5 Axes>"
      ]
     },
     "metadata": {},
     "output_type": "display_data"
    }
   ],
   "source": [
    "f = pd.melt(belgrano, value_vars=price)\n",
    "g = sns.FacetGrid(f, col=\"variable\",  col_wrap=2, sharex=False, sharey=False)\n",
    "g = g.map(sns.distplot, \"value\")"
   ]
  },
  {
   "cell_type": "markdown",
   "metadata": {},
   "source": [
    "Tenemos que analizar los outliers"
   ]
  },
  {
   "cell_type": "code",
   "execution_count": 29,
   "metadata": {},
   "outputs": [
    {
     "data": {
      "text/plain": [
       "<AxesSubplot:>"
      ]
     },
     "execution_count": 29,
     "metadata": {},
     "output_type": "execute_result"
    },
    {
     "data": {
      "image/png": "[encoded data removed]",
      "text/plain": [
       "<Figure size 432x288 with 1 Axes>"
      ]
     },
     "metadata": {},
     "output_type": "display_data"
    }
   ],
   "source": [
    "missing = belgrano.isnull().sum()  #palermo\n",
    "missing = missing[missing > 0]\n",
    "missing.sort_values(inplace=True)\n",
    "missing.plot.bar()\n"
   ]
  },
  {
   "cell_type": "code",
   "execution_count": 30,
   "metadata": {
    "scrolled": true
   },
   "outputs": [
    {
     "data": {
      "text/html": [
       "<div>\n",
       "<style scoped>\n",
       "    .dataframe tbody tr th:only-of-type {\n",
       "        vertical-align: middle;\n",
       "    }\n",
       "\n",
       "    .dataframe tbody tr th {\n",
       "        vertical-align: top;\n",
       "    }\n",
       "\n",
       "    .dataframe thead th {\n",
       "        text-align: right;\n",
       "    }\n",
       "</style>\n",
       "<table border=\"1\" class=\"dataframe\">\n",
       "  <thead>\n",
       "    <tr style=\"text-align: right;\">\n",
       "      <th></th>\n",
       "      <th>column_name</th>\n",
       "      <th>missing_count</th>\n",
       "      <th>missing_ratio</th>\n",
       "    </tr>\n",
       "  </thead>\n",
       "  <tbody>\n",
       "    <tr>\n",
       "      <th>0</th>\n",
       "      <td>property_type</td>\n",
       "      <td>0</td>\n",
       "      <td>0.000000</td>\n",
       "    </tr>\n",
       "    <tr>\n",
       "      <th>1</th>\n",
       "      <td>place_name</td>\n",
       "      <td>0</td>\n",
       "      <td>0.000000</td>\n",
       "    </tr>\n",
       "    <tr>\n",
       "      <th>2</th>\n",
       "      <td>state_name</td>\n",
       "      <td>0</td>\n",
       "      <td>0.000000</td>\n",
       "    </tr>\n",
       "    <tr>\n",
       "      <th>3</th>\n",
       "      <td>lat</td>\n",
       "      <td>924</td>\n",
       "      <td>0.113374</td>\n",
       "    </tr>\n",
       "    <tr>\n",
       "      <th>4</th>\n",
       "      <td>lon</td>\n",
       "      <td>924</td>\n",
       "      <td>0.113374</td>\n",
       "    </tr>\n",
       "    <tr>\n",
       "      <th>5</th>\n",
       "      <td>price</td>\n",
       "      <td>423</td>\n",
       "      <td>0.051902</td>\n",
       "    </tr>\n",
       "    <tr>\n",
       "      <th>6</th>\n",
       "      <td>currency</td>\n",
       "      <td>423</td>\n",
       "      <td>0.051902</td>\n",
       "    </tr>\n",
       "    <tr>\n",
       "      <th>7</th>\n",
       "      <td>price_aprox_local_currency</td>\n",
       "      <td>423</td>\n",
       "      <td>0.051902</td>\n",
       "    </tr>\n",
       "    <tr>\n",
       "      <th>8</th>\n",
       "      <td>price_aprox_usd</td>\n",
       "      <td>423</td>\n",
       "      <td>0.051902</td>\n",
       "    </tr>\n",
       "    <tr>\n",
       "      <th>9</th>\n",
       "      <td>surface_total_in_m2</td>\n",
       "      <td>355</td>\n",
       "      <td>0.043558</td>\n",
       "    </tr>\n",
       "    <tr>\n",
       "      <th>10</th>\n",
       "      <td>surface_covered_in_m2</td>\n",
       "      <td>123</td>\n",
       "      <td>0.015092</td>\n",
       "    </tr>\n",
       "    <tr>\n",
       "      <th>11</th>\n",
       "      <td>price_usd_per_m2</td>\n",
       "      <td>763</td>\n",
       "      <td>0.093620</td>\n",
       "    </tr>\n",
       "    <tr>\n",
       "      <th>12</th>\n",
       "      <td>price_per_m2</td>\n",
       "      <td>535</td>\n",
       "      <td>0.065644</td>\n",
       "    </tr>\n",
       "    <tr>\n",
       "      <th>13</th>\n",
       "      <td>floor</td>\n",
       "      <td>2440</td>\n",
       "      <td>0.299387</td>\n",
       "    </tr>\n",
       "    <tr>\n",
       "      <th>14</th>\n",
       "      <td>rooms</td>\n",
       "      <td>1547</td>\n",
       "      <td>0.189816</td>\n",
       "    </tr>\n",
       "    <tr>\n",
       "      <th>15</th>\n",
       "      <td>expenses</td>\n",
       "      <td>1892</td>\n",
       "      <td>0.232147</td>\n",
       "    </tr>\n",
       "    <tr>\n",
       "      <th>16</th>\n",
       "      <td>description</td>\n",
       "      <td>0</td>\n",
       "      <td>0.000000</td>\n",
       "    </tr>\n",
       "    <tr>\n",
       "      <th>17</th>\n",
       "      <td>title</td>\n",
       "      <td>0</td>\n",
       "      <td>0.000000</td>\n",
       "    </tr>\n",
       "    <tr>\n",
       "      <th>18</th>\n",
       "      <td>properati_url</td>\n",
       "      <td>0</td>\n",
       "      <td>0.000000</td>\n",
       "    </tr>\n",
       "  </tbody>\n",
       "</table>\n",
       "</div>"
      ],
      "text/plain": [
       "                   column_name  missing_count  missing_ratio\n",
       "0                property_type              0       0.000000\n",
       "1                   place_name              0       0.000000\n",
       "2                   state_name              0       0.000000\n",
       "3                          lat            924       0.113374\n",
       "4                          lon            924       0.113374\n",
       "5                        price            423       0.051902\n",
       "6                     currency            423       0.051902\n",
       "7   price_aprox_local_currency            423       0.051902\n",
       "8              price_aprox_usd            423       0.051902\n",
       "9          surface_total_in_m2            355       0.043558\n",
       "10       surface_covered_in_m2            123       0.015092\n",
       "11            price_usd_per_m2            763       0.093620\n",
       "12                price_per_m2            535       0.065644\n",
       "13                       floor           2440       0.299387\n",
       "14                       rooms           1547       0.189816\n",
       "15                    expenses           1892       0.232147\n",
       "16                 description              0       0.000000\n",
       "17                       title              0       0.000000\n",
       "18               properati_url              0       0.000000"
      ]
     },
     "execution_count": 30,
     "metadata": {},
     "output_type": "execute_result"
    }
   ],
   "source": [
    "missing_df = belgrano.isnull().sum(axis=0).reset_index()\n",
    "missing_df.columns = ['column_name', 'missing_count']\n",
    "missing_df['missing_ratio'] = missing_df['missing_count'] / df_barrios.shape[0]\n",
    "missing_df#.ix[missing_df['missing_ratio'"
   ]
  },
  {
   "cell_type": "markdown",
   "metadata": {},
   "source": [
    "Queremos limpiar el data set para eliminar outliers y reducir o eliminar los missing values."
   ]
  },
  {
   "cell_type": "markdown",
   "metadata": {},
   "source": [
    "<a id=\"section_iqr\"></a> \n",
    "## price_usd_per_m2: IQR 0.75q\n",
    "\n",
    "[volver a TOC](#section_toc)"
   ]
  },
  {
   "cell_type": "markdown",
   "metadata": {},
   "source": [
    "Evaluamos esta posibilidad, pero conluimos en no aplicarla. \n",
    "\n",
    "Miramos la actual distribucion dela variables dependiente price_usd_per_m2:"
   ]
  },
  {
   "cell_type": "code",
   "execution_count": 31,
   "metadata": {},
   "outputs": [
    {
     "data": {
      "text/plain": [
       "<AxesSubplot:title={'center':'Normal'}, xlabel='price_usd_per_m2'>"
      ]
     },
     "execution_count": 31,
     "metadata": {},
     "output_type": "execute_result"
    },
    {
     "data": {
      "image/png": "[encoded data removed]",
      "text/plain": [
       "<Figure size 432x288 with 1 Axes>"
      ]
     },
     "metadata": {},
     "output_type": "display_data"
    }
   ],
   "source": [
    "import scipy.stats as st #falta trabajar la dependiente!\n",
    "\n",
    "y = belgrano['price_usd_per_m2']\n",
    "#plt.figure(1); plt.title('Johnson SU')\n",
    "#sns.distplot(y, kde=False, fit=st.johnsonsu)\n",
    "plt.figure(2); plt.title('Normal')\n",
    "sns.distplot(y, kde=False, fit=st.norm, color = 'lime')"
   ]
  },
  {
   "cell_type": "code",
   "execution_count": 32,
   "metadata": {},
   "outputs": [
    {
     "data": {
      "text/plain": [
       "<AxesSubplot:xlabel='price_usd_per_m2'>"
      ]
     },
     "execution_count": 32,
     "metadata": {},
     "output_type": "execute_result"
    },
    {
     "data": {
      "image/png": "[encoded data removed]",
      "text/plain": [
       "<Figure size 432x288 with 1 Axes>"
      ]
     },
     "metadata": {},
     "output_type": "display_data"
    }
   ],
   "source": [
    "sns.boxplot(belgrano['price_usd_per_m2'], color='lime')"
   ]
  },
  {
   "cell_type": "code",
   "execution_count": 33,
   "metadata": {},
   "outputs": [
    {
     "data": {
      "text/plain": [
       "2624"
      ]
     },
     "execution_count": 33,
     "metadata": {},
     "output_type": "execute_result"
    }
   ],
   "source": [
    "1861 + 763 #La suma de los valores de price_usd_per_m2 y sus missing da el total de registros"
   ]
  },
  {
   "cell_type": "code",
   "execution_count": 34,
   "metadata": {},
   "outputs": [
    {
     "data": {
      "text/plain": [
       "count     1861.000000\n",
       "mean      3167.181046\n",
       "std       1115.841775\n",
       "min         31.369688\n",
       "25%       2611.464968\n",
       "50%       2975.000000\n",
       "75%       3393.939394\n",
       "max      20833.333333\n",
       "Name: price_usd_per_m2, dtype: float64"
      ]
     },
     "execution_count": 34,
     "metadata": {},
     "output_type": "execute_result"
    }
   ],
   "source": [
    "belgrano['price_usd_per_m2'].describe()"
   ]
  },
  {
   "cell_type": "markdown",
   "metadata": {},
   "source": [
    "Evaluamos la posibilidad de eliminar outliers con quantile 0.75:"
   ]
  },
  {
   "cell_type": "code",
   "execution_count": 35,
   "metadata": {},
   "outputs": [
    {
     "name": "stdout",
     "output_type": "stream",
     "text": [
      "El limite superior es : 4567.65\n"
     ]
    }
   ],
   "source": [
    "#Defino el rango intercuartil para observar el limite superior\n",
    "IQR_b_ppm2 = belgrano['price_usd_per_m2'].quantile(0.75) - belgrano['price_usd_per_m2'].quantile(0.25)\n",
    "LS_b_ppm2 = belgrano['price_usd_per_m2'].quantile(0.75) + 1.5*IQR_b_ppm2\n",
    "print(\"El limite superior es :\", round(LS_b_ppm2,2))"
   ]
  },
  {
   "cell_type": "code",
   "execution_count": 36,
   "metadata": {},
   "outputs": [
    {
     "data": {
      "text/plain": [
       "<AxesSubplot:title={'center':'Distribucion de precio por m2 en USD'}, xlabel='price_usd_per_m2'>"
      ]
     },
     "execution_count": 36,
     "metadata": {},
     "output_type": "execute_result"
    },
    {
     "data": {
      "image/png": "[encoded data removed]",
      "text/plain": [
       "<Figure size 432x288 with 1 Axes>"
      ]
     },
     "metadata": {},
     "output_type": "display_data"
    }
   ],
   "source": [
    "y_b_ppm2 = belgrano[belgrano['price_usd_per_m2']<= LS_b_ppm2]['price_usd_per_m2']\n",
    "plt.figure(2); plt.title('Distribucion de precio por m2 en USD')\n",
    "sns.distplot(y_b_ppm2, kde=False, fit=st.norm , color='lime')"
   ]
  },
  {
   "cell_type": "code",
   "execution_count": 37,
   "metadata": {},
   "outputs": [
    {
     "data": {
      "text/plain": [
       "<AxesSubplot:xlabel='price_usd_per_m2'>"
      ]
     },
     "execution_count": 37,
     "metadata": {},
     "output_type": "execute_result"
    },
    {
     "data": {
      "image/png": "[encoded data removed]",
      "text/plain": [
       "<Figure size 432x288 with 1 Axes>"
      ]
     },
     "metadata": {},
     "output_type": "display_data"
    }
   ],
   "source": [
    "sns.boxplot(y_b_ppm2, color='lime') #Ahora solo quedan los outliers de la izquierda"
   ]
  },
  {
   "cell_type": "code",
   "execution_count": 38,
   "metadata": {},
   "outputs": [
    {
     "name": "stdout",
     "output_type": "stream",
     "text": [
      "El limite inferior es : 2220.23\n"
     ]
    }
   ],
   "source": [
    "#IQR_b_ppm2 = bel_usd_apt['price_usd_per_m2'].quantile(0.75) - bel_usd_apt['price_usd_per_m2'].quantile(0.25)\n",
    "LI_b_ppm2 = belgrano['price_usd_per_m2'].quantile(0.75) - 1.5*IQR_b_ppm2\n",
    "print(\"El limite inferior es :\", round(LI_b_ppm2,2))"
   ]
  },
  {
   "cell_type": "code",
   "execution_count": 39,
   "metadata": {},
   "outputs": [
    {
     "data": {
      "text/plain": [
       "<AxesSubplot:title={'center':'Distribucion de precio por m2 en USD'}, xlabel='price_usd_per_m2'>"
      ]
     },
     "execution_count": 39,
     "metadata": {},
     "output_type": "execute_result"
    },
    {
     "data": {
      "image/png": "[encoded data removed]",
      "text/plain": [
       "<Figure size 432x288 with 1 Axes>"
      ]
     },
     "metadata": {},
     "output_type": "display_data"
    }
   ],
   "source": [
    "y_b_ppm2_2 = belgrano[(belgrano['price_usd_per_m2']>= LI_b_ppm2)&(belgrano['price_usd_per_m2']<= LS_b_ppm2)]['price_usd_per_m2']\n",
    "plt.figure(2); plt.title('Distribucion de precio por m2 en USD')\n",
    "sns.distplot(y_b_ppm2_2, kde=False, fit=st.norm)"
   ]
  },
  {
   "cell_type": "code",
   "execution_count": 40,
   "metadata": {
    "scrolled": true
   },
   "outputs": [
    {
     "data": {
      "text/plain": [
       "<AxesSubplot:xlabel='price_usd_per_m2'>"
      ]
     },
     "execution_count": 40,
     "metadata": {},
     "output_type": "execute_result"
    },
    {
     "data": {
      "image/png": "[encoded data removed]",
      "text/plain": [
       "<Figure size 432x288 with 1 Axes>"
      ]
     },
     "metadata": {},
     "output_type": "display_data"
    }
   ],
   "source": [
    "sns.boxplot(y_b_ppm2_2 , color='lime')"
   ]
  },
  {
   "cell_type": "markdown",
   "metadata": {},
   "source": [
    "En el caso que usaramos quantile 0.75 para eliminar outliers de price_usd_per_m2 obtendriamos  una distribucion no tan disimil a la gausiana, y el box plot muestra muchos menos outliers. Sin embargo, los limites LS y LI pareceria que pueden eliminar muchos registros.\n",
    "\n",
    "Procedemos a analisar cuantos son los datos que descartamos cuando quitamos los outliers en base a LS Y LI usando quantile 0.75."
   ]
  },
  {
   "cell_type": "code",
   "execution_count": 41,
   "metadata": {},
   "outputs": [
    {
     "data": {
      "text/plain": [
       "(2624, 19)"
      ]
     },
     "execution_count": 41,
     "metadata": {},
     "output_type": "execute_result"
    }
   ],
   "source": [
    "belgrano.shape"
   ]
  },
  {
   "cell_type": "code",
   "execution_count": 42,
   "metadata": {
    "scrolled": true
   },
   "outputs": [
    {
     "name": "stdout",
     "output_type": "stream",
     "text": [
      "(1716, 19)\n"
     ]
    },
    {
     "data": {
      "text/html": [
       "<div>\n",
       "<style scoped>\n",
       "    .dataframe tbody tr th:only-of-type {\n",
       "        vertical-align: middle;\n",
       "    }\n",
       "\n",
       "    .dataframe tbody tr th {\n",
       "        vertical-align: top;\n",
       "    }\n",
       "\n",
       "    .dataframe thead th {\n",
       "        text-align: right;\n",
       "    }\n",
       "</style>\n",
       "<table border=\"1\" class=\"dataframe\">\n",
       "  <thead>\n",
       "    <tr style=\"text-align: right;\">\n",
       "      <th></th>\n",
       "      <th>column_name</th>\n",
       "      <th>missing_count</th>\n",
       "      <th>missing_ratio</th>\n",
       "    </tr>\n",
       "  </thead>\n",
       "  <tbody>\n",
       "    <tr>\n",
       "      <th>0</th>\n",
       "      <td>property_type</td>\n",
       "      <td>0</td>\n",
       "      <td>0.000000</td>\n",
       "    </tr>\n",
       "    <tr>\n",
       "      <th>1</th>\n",
       "      <td>place_name</td>\n",
       "      <td>0</td>\n",
       "      <td>0.000000</td>\n",
       "    </tr>\n",
       "    <tr>\n",
       "      <th>2</th>\n",
       "      <td>state_name</td>\n",
       "      <td>0</td>\n",
       "      <td>0.000000</td>\n",
       "    </tr>\n",
       "    <tr>\n",
       "      <th>3</th>\n",
       "      <td>lat</td>\n",
       "      <td>476</td>\n",
       "      <td>0.277389</td>\n",
       "    </tr>\n",
       "    <tr>\n",
       "      <th>4</th>\n",
       "      <td>lon</td>\n",
       "      <td>476</td>\n",
       "      <td>0.277389</td>\n",
       "    </tr>\n",
       "    <tr>\n",
       "      <th>5</th>\n",
       "      <td>price</td>\n",
       "      <td>0</td>\n",
       "      <td>0.000000</td>\n",
       "    </tr>\n",
       "    <tr>\n",
       "      <th>6</th>\n",
       "      <td>currency</td>\n",
       "      <td>0</td>\n",
       "      <td>0.000000</td>\n",
       "    </tr>\n",
       "    <tr>\n",
       "      <th>7</th>\n",
       "      <td>price_aprox_local_currency</td>\n",
       "      <td>0</td>\n",
       "      <td>0.000000</td>\n",
       "    </tr>\n",
       "    <tr>\n",
       "      <th>8</th>\n",
       "      <td>price_aprox_usd</td>\n",
       "      <td>0</td>\n",
       "      <td>0.000000</td>\n",
       "    </tr>\n",
       "    <tr>\n",
       "      <th>9</th>\n",
       "      <td>surface_total_in_m2</td>\n",
       "      <td>0</td>\n",
       "      <td>0.000000</td>\n",
       "    </tr>\n",
       "    <tr>\n",
       "      <th>10</th>\n",
       "      <td>surface_covered_in_m2</td>\n",
       "      <td>95</td>\n",
       "      <td>0.055361</td>\n",
       "    </tr>\n",
       "    <tr>\n",
       "      <th>11</th>\n",
       "      <td>price_usd_per_m2</td>\n",
       "      <td>0</td>\n",
       "      <td>0.000000</td>\n",
       "    </tr>\n",
       "    <tr>\n",
       "      <th>12</th>\n",
       "      <td>price_per_m2</td>\n",
       "      <td>95</td>\n",
       "      <td>0.055361</td>\n",
       "    </tr>\n",
       "    <tr>\n",
       "      <th>13</th>\n",
       "      <td>floor</td>\n",
       "      <td>1647</td>\n",
       "      <td>0.959790</td>\n",
       "    </tr>\n",
       "    <tr>\n",
       "      <th>14</th>\n",
       "      <td>rooms</td>\n",
       "      <td>1014</td>\n",
       "      <td>0.590909</td>\n",
       "    </tr>\n",
       "    <tr>\n",
       "      <th>15</th>\n",
       "      <td>expenses</td>\n",
       "      <td>1091</td>\n",
       "      <td>0.635781</td>\n",
       "    </tr>\n",
       "    <tr>\n",
       "      <th>16</th>\n",
       "      <td>description</td>\n",
       "      <td>0</td>\n",
       "      <td>0.000000</td>\n",
       "    </tr>\n",
       "    <tr>\n",
       "      <th>17</th>\n",
       "      <td>title</td>\n",
       "      <td>0</td>\n",
       "      <td>0.000000</td>\n",
       "    </tr>\n",
       "    <tr>\n",
       "      <th>18</th>\n",
       "      <td>properati_url</td>\n",
       "      <td>0</td>\n",
       "      <td>0.000000</td>\n",
       "    </tr>\n",
       "  </tbody>\n",
       "</table>\n",
       "</div>"
      ],
      "text/plain": [
       "                   column_name  missing_count  missing_ratio\n",
       "0                property_type              0       0.000000\n",
       "1                   place_name              0       0.000000\n",
       "2                   state_name              0       0.000000\n",
       "3                          lat            476       0.277389\n",
       "4                          lon            476       0.277389\n",
       "5                        price              0       0.000000\n",
       "6                     currency              0       0.000000\n",
       "7   price_aprox_local_currency              0       0.000000\n",
       "8              price_aprox_usd              0       0.000000\n",
       "9          surface_total_in_m2              0       0.000000\n",
       "10       surface_covered_in_m2             95       0.055361\n",
       "11            price_usd_per_m2              0       0.000000\n",
       "12                price_per_m2             95       0.055361\n",
       "13                       floor           1647       0.959790\n",
       "14                       rooms           1014       0.590909\n",
       "15                    expenses           1091       0.635781\n",
       "16                 description              0       0.000000\n",
       "17                       title              0       0.000000\n",
       "18               properati_url              0       0.000000"
      ]
     },
     "execution_count": 42,
     "metadata": {},
     "output_type": "execute_result"
    }
   ],
   "source": [
    "bel_LS = belgrano[belgrano['price_usd_per_m2']<= LS_b_ppm2]\n",
    "print(bel_LS.shape)\n",
    "bel_LS.head(2)\n",
    "\n",
    "missing_df = bel_LS.isnull().sum(axis=0).reset_index()\n",
    "missing_df.columns = ['column_name', 'missing_count']\n",
    "missing_df['missing_ratio'] = missing_df['missing_count'] / bel_LS.shape[0]\n",
    "missing_df#"
   ]
  },
  {
   "cell_type": "code",
   "execution_count": 43,
   "metadata": {},
   "outputs": [
    {
     "data": {
      "text/plain": [
       "0.055259146341463415"
      ]
     },
     "execution_count": 43,
     "metadata": {},
     "output_type": "execute_result"
    }
   ],
   "source": [
    "(1861 - 1716)/2624"
   ]
  },
  {
   "cell_type": "code",
   "execution_count": 44,
   "metadata": {},
   "outputs": [
    {
     "data": {
      "text/plain": [
       "145"
      ]
     },
     "execution_count": 44,
     "metadata": {},
     "output_type": "execute_result"
    }
   ],
   "source": [
    "1861 - 1716"
   ]
  },
  {
   "cell_type": "markdown",
   "metadata": {},
   "source": [
    "Si aplicamos el IQR LS a la variable target (price_usd_per_m2) :\n",
    "* pros: la variable target ya no tiene missings\n",
    "* cons: pero estamos quitando 145 filas/registros, 6% de los registros\n"
   ]
  },
  {
   "cell_type": "code",
   "execution_count": 45,
   "metadata": {},
   "outputs": [
    {
     "name": "stdout",
     "output_type": "stream",
     "text": [
      "(1583, 19)\n"
     ]
    },
    {
     "data": {
      "text/html": [
       "<div>\n",
       "<style scoped>\n",
       "    .dataframe tbody tr th:only-of-type {\n",
       "        vertical-align: middle;\n",
       "    }\n",
       "\n",
       "    .dataframe tbody tr th {\n",
       "        vertical-align: top;\n",
       "    }\n",
       "\n",
       "    .dataframe thead th {\n",
       "        text-align: right;\n",
       "    }\n",
       "</style>\n",
       "<table border=\"1\" class=\"dataframe\">\n",
       "  <thead>\n",
       "    <tr style=\"text-align: right;\">\n",
       "      <th></th>\n",
       "      <th>column_name</th>\n",
       "      <th>missing_count</th>\n",
       "      <th>missing_ratio</th>\n",
       "    </tr>\n",
       "  </thead>\n",
       "  <tbody>\n",
       "    <tr>\n",
       "      <th>0</th>\n",
       "      <td>property_type</td>\n",
       "      <td>0</td>\n",
       "      <td>0.000000</td>\n",
       "    </tr>\n",
       "    <tr>\n",
       "      <th>1</th>\n",
       "      <td>place_name</td>\n",
       "      <td>0</td>\n",
       "      <td>0.000000</td>\n",
       "    </tr>\n",
       "    <tr>\n",
       "      <th>2</th>\n",
       "      <td>state_name</td>\n",
       "      <td>0</td>\n",
       "      <td>0.000000</td>\n",
       "    </tr>\n",
       "    <tr>\n",
       "      <th>3</th>\n",
       "      <td>lat</td>\n",
       "      <td>446</td>\n",
       "      <td>0.281744</td>\n",
       "    </tr>\n",
       "    <tr>\n",
       "      <th>4</th>\n",
       "      <td>lon</td>\n",
       "      <td>446</td>\n",
       "      <td>0.281744</td>\n",
       "    </tr>\n",
       "    <tr>\n",
       "      <th>5</th>\n",
       "      <td>price</td>\n",
       "      <td>0</td>\n",
       "      <td>0.000000</td>\n",
       "    </tr>\n",
       "    <tr>\n",
       "      <th>6</th>\n",
       "      <td>currency</td>\n",
       "      <td>0</td>\n",
       "      <td>0.000000</td>\n",
       "    </tr>\n",
       "    <tr>\n",
       "      <th>7</th>\n",
       "      <td>price_aprox_local_currency</td>\n",
       "      <td>0</td>\n",
       "      <td>0.000000</td>\n",
       "    </tr>\n",
       "    <tr>\n",
       "      <th>8</th>\n",
       "      <td>price_aprox_usd</td>\n",
       "      <td>0</td>\n",
       "      <td>0.000000</td>\n",
       "    </tr>\n",
       "    <tr>\n",
       "      <th>9</th>\n",
       "      <td>surface_total_in_m2</td>\n",
       "      <td>0</td>\n",
       "      <td>0.000000</td>\n",
       "    </tr>\n",
       "    <tr>\n",
       "      <th>10</th>\n",
       "      <td>surface_covered_in_m2</td>\n",
       "      <td>91</td>\n",
       "      <td>0.057486</td>\n",
       "    </tr>\n",
       "    <tr>\n",
       "      <th>11</th>\n",
       "      <td>price_usd_per_m2</td>\n",
       "      <td>0</td>\n",
       "      <td>0.000000</td>\n",
       "    </tr>\n",
       "    <tr>\n",
       "      <th>12</th>\n",
       "      <td>price_per_m2</td>\n",
       "      <td>91</td>\n",
       "      <td>0.057486</td>\n",
       "    </tr>\n",
       "    <tr>\n",
       "      <th>13</th>\n",
       "      <td>floor</td>\n",
       "      <td>1521</td>\n",
       "      <td>0.960834</td>\n",
       "    </tr>\n",
       "    <tr>\n",
       "      <th>14</th>\n",
       "      <td>rooms</td>\n",
       "      <td>948</td>\n",
       "      <td>0.598863</td>\n",
       "    </tr>\n",
       "    <tr>\n",
       "      <th>15</th>\n",
       "      <td>expenses</td>\n",
       "      <td>1020</td>\n",
       "      <td>0.644346</td>\n",
       "    </tr>\n",
       "    <tr>\n",
       "      <th>16</th>\n",
       "      <td>description</td>\n",
       "      <td>0</td>\n",
       "      <td>0.000000</td>\n",
       "    </tr>\n",
       "    <tr>\n",
       "      <th>17</th>\n",
       "      <td>title</td>\n",
       "      <td>0</td>\n",
       "      <td>0.000000</td>\n",
       "    </tr>\n",
       "    <tr>\n",
       "      <th>18</th>\n",
       "      <td>properati_url</td>\n",
       "      <td>0</td>\n",
       "      <td>0.000000</td>\n",
       "    </tr>\n",
       "  </tbody>\n",
       "</table>\n",
       "</div>"
      ],
      "text/plain": [
       "                   column_name  missing_count  missing_ratio\n",
       "0                property_type              0       0.000000\n",
       "1                   place_name              0       0.000000\n",
       "2                   state_name              0       0.000000\n",
       "3                          lat            446       0.281744\n",
       "4                          lon            446       0.281744\n",
       "5                        price              0       0.000000\n",
       "6                     currency              0       0.000000\n",
       "7   price_aprox_local_currency              0       0.000000\n",
       "8              price_aprox_usd              0       0.000000\n",
       "9          surface_total_in_m2              0       0.000000\n",
       "10       surface_covered_in_m2             91       0.057486\n",
       "11            price_usd_per_m2              0       0.000000\n",
       "12                price_per_m2             91       0.057486\n",
       "13                       floor           1521       0.960834\n",
       "14                       rooms            948       0.598863\n",
       "15                    expenses           1020       0.644346\n",
       "16                 description              0       0.000000\n",
       "17                       title              0       0.000000\n",
       "18               properati_url              0       0.000000"
      ]
     },
     "execution_count": 45,
     "metadata": {},
     "output_type": "execute_result"
    }
   ],
   "source": [
    "bel_LS_LI = belgrano[(belgrano['price_usd_per_m2']>= LI_b_ppm2)&(belgrano['price_usd_per_m2']<= LS_b_ppm2)]\n",
    "print(bel_LS_LI.shape)\n",
    "bel_LS_LI.head(2)\n",
    "\n",
    "missing_df = bel_LS_LI.isnull().sum(axis=0).reset_index()\n",
    "missing_df.columns = ['column_name', 'missing_count']\n",
    "missing_df['missing_ratio'] = missing_df['missing_count'] / bel_LS_LI.shape[0]\n",
    "missing_df#"
   ]
  },
  {
   "cell_type": "code",
   "execution_count": 46,
   "metadata": {},
   "outputs": [
    {
     "data": {
      "text/plain": [
       "1861"
      ]
     },
     "execution_count": 46,
     "metadata": {},
     "output_type": "execute_result"
    }
   ],
   "source": [
    "2624-763 #outliers de price_usd_per_m2"
   ]
  },
  {
   "cell_type": "code",
   "execution_count": 47,
   "metadata": {},
   "outputs": [
    {
     "data": {
      "text/plain": [
       "0.10594512195121951"
      ]
     },
     "execution_count": 47,
     "metadata": {},
     "output_type": "execute_result"
    }
   ],
   "source": [
    "(1861 - 1583)/2624\n"
   ]
  },
  {
   "cell_type": "code",
   "execution_count": 48,
   "metadata": {},
   "outputs": [
    {
     "data": {
      "text/plain": [
       "278"
      ]
     },
     "execution_count": 48,
     "metadata": {},
     "output_type": "execute_result"
    }
   ],
   "source": [
    "1861 - 1583"
   ]
  },
  {
   "cell_type": "markdown",
   "metadata": {},
   "source": [
    "Si aplicamos el IQR LS y LI a la variable target (price_usd_per_m2) :\n",
    "\n",
    "* pros: la variable target ya no tiene missings\n",
    "* cons: pero estamos quitando 278 filas/registros, 11% de los registros"
   ]
  },
  {
   "cell_type": "code",
   "execution_count": 49,
   "metadata": {},
   "outputs": [
    {
     "data": {
      "text/plain": [
       "count     1861.000000\n",
       "mean      3167.181046\n",
       "std       1115.841775\n",
       "min         31.369688\n",
       "25%       2611.464968\n",
       "50%       2975.000000\n",
       "75%       3393.939394\n",
       "max      20833.333333\n",
       "Name: price_usd_per_m2, dtype: float64"
      ]
     },
     "execution_count": 49,
     "metadata": {},
     "output_type": "execute_result"
    }
   ],
   "source": [
    "belgrano['price_usd_per_m2'].describe()"
   ]
  },
  {
   "cell_type": "code",
   "execution_count": 50,
   "metadata": {},
   "outputs": [
    {
     "data": {
      "text/plain": [
       "count    1716.000000\n",
       "mean     2942.673292\n",
       "std       578.388009\n",
       "min        31.369688\n",
       "25%      2570.932540\n",
       "50%      2913.043478\n",
       "75%      3276.381303\n",
       "max      4566.037736\n",
       "Name: price_usd_per_m2, dtype: float64"
      ]
     },
     "execution_count": 50,
     "metadata": {},
     "output_type": "execute_result"
    }
   ],
   "source": [
    "bel_LS['price_usd_per_m2'].describe()"
   ]
  },
  {
   "cell_type": "code",
   "execution_count": 51,
   "metadata": {},
   "outputs": [
    {
     "data": {
      "text/plain": [
       "count    1583.000000\n",
       "mean     3034.386562\n",
       "std       492.372443\n",
       "min      2222.222222\n",
       "25%      2659.549139\n",
       "50%      2969.696970\n",
       "75%      3302.863396\n",
       "max      4566.037736\n",
       "Name: price_usd_per_m2, dtype: float64"
      ]
     },
     "execution_count": 51,
     "metadata": {},
     "output_type": "execute_result"
    }
   ],
   "source": [
    "bel_LS_LI['price_usd_per_m2'].describe()"
   ]
  },
  {
   "cell_type": "markdown",
   "metadata": {},
   "source": [
    "Si usaramos quantile 0.75 para eliminar outlier de la variable target perderiamos muchos registros. Por esto motivo, optaremos por evaluar otra forma de controlar los outliers de la variable target (price_usd_per_m2)."
   ]
  },
  {
   "cell_type": "markdown",
   "metadata": {},
   "source": [
    "<a id=\"section_price_1000\"></a> \n",
    "## price_usd_per_m2\n",
    "* missing\n",
    "* outliers\n",
    "\n",
    "[volver a TOC](#section_toc)"
   ]
  },
  {
   "cell_type": "markdown",
   "metadata": {},
   "source": [
    "**Missing**\n",
    "\n",
    "Consideramos que imputar los valores missing de la variable target price_usd_per_m2 podria afectar nuestro data set y luego afectar nuestro futuro modelo de prediccion. Por lo que optamos por eliminarlos dado que no se pierden tantos registros. Son 763 registros ( 0,9 %).\n",
    "\n",
    "**Outliers**\n",
    "\n",
    "Analizamos datos de la pagina web de la competencia de Properati. Al observar los precios en dolares por metro cuadrado en Belgrano segun la data de Zonaprop encontramos propiedades superiores a 7000 USD/m2.\n",
    "\n",
    "Por este motivo consideramos que el limite superior LS IQR 0.75q (4567.65), analizado en la seccion anteiror, es excesivo. Evaluamos y aplicamos un limite por juicio propio o limite por busines decision de 10.000 USD/m2."
   ]
  },
  {
   "cell_type": "code",
   "execution_count": 52,
   "metadata": {
    "scrolled": true
   },
   "outputs": [
    {
     "data": {
      "text/plain": [
       "<AxesSubplot:title={'center':'Distribucion de precio por m2 en USD'}, xlabel='price_usd_per_m2'>"
      ]
     },
     "execution_count": 52,
     "metadata": {},
     "output_type": "execute_result"
    },
    {
     "data": {
      "image/png": "[encoded data removed]",
      "text/plain": [
       "<Figure size 432x288 with 1 Axes>"
      ]
     },
     "metadata": {},
     "output_type": "display_data"
    }
   ],
   "source": [
    "y_b_ppm3 = belgrano[belgrano['price_usd_per_m2']<= 10000]['price_usd_per_m2']\n",
    "plt.figure(2); plt.title('Distribucion de precio por m2 en USD')\n",
    "sns.distplot(y_b_ppm3, kde=False, fit=st.norm, color = \"lime\")"
   ]
  },
  {
   "cell_type": "markdown",
   "metadata": {},
   "source": [
    "Obtenemos un distribucion no tan disimil a la gausiana. El grafico de box plot respalda el limite de 10.000 USD/m2."
   ]
  },
  {
   "cell_type": "code",
   "execution_count": 53,
   "metadata": {
    "scrolled": true
   },
   "outputs": [
    {
     "data": {
      "text/plain": [
       "<AxesSubplot:xlabel='price_usd_per_m2'>"
      ]
     },
     "execution_count": 53,
     "metadata": {},
     "output_type": "execute_result"
    },
    {
     "data": {
      "image/png": "[encoded data removed]",
      "text/plain": [
       "<Figure size 432x288 with 1 Axes>"
      ]
     },
     "metadata": {},
     "output_type": "display_data"
    }
   ],
   "source": [
    "sns.boxplot(y_b_ppm3,  color = \"lime\")"
   ]
  },
  {
   "cell_type": "code",
   "execution_count": 54,
   "metadata": {},
   "outputs": [
    {
     "data": {
      "text/plain": [
       "count    1856.000000\n",
       "mean     3135.835155\n",
       "std       909.335428\n",
       "min        31.369688\n",
       "25%      2610.209627\n",
       "50%      2972.200772\n",
       "75%      3390.340052\n",
       "max      8552.631579\n",
       "Name: price_usd_per_m2, dtype: float64"
      ]
     },
     "execution_count": 54,
     "metadata": {},
     "output_type": "execute_result"
    }
   ],
   "source": [
    "#aplicamos el limite 10000 para la variable target price_usd_per_m2\n",
    "#al mismo tiempo descartamos los missings de esa variable\n",
    "#el nuevo data set solo usa los registros con price_usd_per_m2 no missing y menores a 10000 USD/m2\n",
    "belgrano = belgrano[belgrano['price_usd_per_m2']<= 10000] \n",
    "belgrano['price_usd_per_m2'].describe()"
   ]
  },
  {
   "cell_type": "code",
   "execution_count": 55,
   "metadata": {},
   "outputs": [
    {
     "data": {
      "text/plain": [
       "5"
      ]
     },
     "execution_count": 55,
     "metadata": {},
     "output_type": "execute_result"
    }
   ],
   "source": [
    "1861-1856 #sacamos 5 datos solos"
   ]
  },
  {
   "cell_type": "code",
   "execution_count": 56,
   "metadata": {},
   "outputs": [
    {
     "data": {
      "text/plain": [
       "0.0026867275658248252"
      ]
     },
     "execution_count": 56,
     "metadata": {},
     "output_type": "execute_result"
    }
   ],
   "source": [
    "(1861-1856)/1861"
   ]
  },
  {
   "cell_type": "code",
   "execution_count": 57,
   "metadata": {},
   "outputs": [
    {
     "data": {
      "text/plain": [
       "0"
      ]
     },
     "execution_count": 57,
     "metadata": {},
     "output_type": "execute_result"
    }
   ],
   "source": [
    "belgrano['price_usd_per_m2'].isnull().sum() # al usar LS de 10000 ya no hay missings."
   ]
  },
  {
   "cell_type": "markdown",
   "metadata": {},
   "source": [
    "Evaluamos el criterio IQR (LS, LI)usando quantile 0.75 y entendemos que no es un criterio razonable y aplicable a esta variable y base de datos.\n",
    "\n",
    "Alternativamente, al poner en practica como limite superior 10.000 USD/m2 en la variable price_usd_per_m2:\n",
    "* eliminanos los 763 missing de la variable dependiente\n",
    "* adicionalmente, solamente eliminamos 5 resgistros (0,03%) de la vble price_usd_per_m2\n",
    "* los grafico de distribucion y box plot respaldan esta decision\n",
    "\n",
    "Consideramos que imputar los valores missing de la variable target price_usd_per_m2 podria afectar nuestro data set y luego afectar nuestro futuro modelo de prediccion. Por lo que optamos por eliminarlos.\n",
    "\n",
    "Conclusion:  Consideramos como limite superior 10.000 USD/m2 considerando el mercado local en este barrio."
   ]
  },
  {
   "cell_type": "markdown",
   "metadata": {},
   "source": [
    "<a id=\"section_deteccion_faltantes\"></a> \n",
    "## Valores faltantes de variables dependientes\n",
    "\n",
    "[volver a TOC](#section_toc)"
   ]
  },
  {
   "cell_type": "code",
   "execution_count": 58,
   "metadata": {
    "scrolled": true
   },
   "outputs": [
    {
     "data": {
      "text/html": [
       "<div>\n",
       "<style scoped>\n",
       "    .dataframe tbody tr th:only-of-type {\n",
       "        vertical-align: middle;\n",
       "    }\n",
       "\n",
       "    .dataframe tbody tr th {\n",
       "        vertical-align: top;\n",
       "    }\n",
       "\n",
       "    .dataframe thead th {\n",
       "        text-align: right;\n",
       "    }\n",
       "</style>\n",
       "<table border=\"1\" class=\"dataframe\">\n",
       "  <thead>\n",
       "    <tr style=\"text-align: right;\">\n",
       "      <th></th>\n",
       "      <th>column_name</th>\n",
       "      <th>missing_count</th>\n",
       "      <th>missing_ratio</th>\n",
       "    </tr>\n",
       "  </thead>\n",
       "  <tbody>\n",
       "    <tr>\n",
       "      <th>0</th>\n",
       "      <td>property_type</td>\n",
       "      <td>0</td>\n",
       "      <td>0.000000</td>\n",
       "    </tr>\n",
       "    <tr>\n",
       "      <th>1</th>\n",
       "      <td>place_name</td>\n",
       "      <td>0</td>\n",
       "      <td>0.000000</td>\n",
       "    </tr>\n",
       "    <tr>\n",
       "      <th>2</th>\n",
       "      <td>state_name</td>\n",
       "      <td>0</td>\n",
       "      <td>0.000000</td>\n",
       "    </tr>\n",
       "    <tr>\n",
       "      <th>3</th>\n",
       "      <td>lat</td>\n",
       "      <td>546</td>\n",
       "      <td>0.294181</td>\n",
       "    </tr>\n",
       "    <tr>\n",
       "      <th>4</th>\n",
       "      <td>lon</td>\n",
       "      <td>546</td>\n",
       "      <td>0.294181</td>\n",
       "    </tr>\n",
       "    <tr>\n",
       "      <th>5</th>\n",
       "      <td>price</td>\n",
       "      <td>0</td>\n",
       "      <td>0.000000</td>\n",
       "    </tr>\n",
       "    <tr>\n",
       "      <th>6</th>\n",
       "      <td>currency</td>\n",
       "      <td>0</td>\n",
       "      <td>0.000000</td>\n",
       "    </tr>\n",
       "    <tr>\n",
       "      <th>7</th>\n",
       "      <td>price_aprox_local_currency</td>\n",
       "      <td>0</td>\n",
       "      <td>0.000000</td>\n",
       "    </tr>\n",
       "    <tr>\n",
       "      <th>8</th>\n",
       "      <td>price_aprox_usd</td>\n",
       "      <td>0</td>\n",
       "      <td>0.000000</td>\n",
       "    </tr>\n",
       "    <tr>\n",
       "      <th>9</th>\n",
       "      <td>surface_total_in_m2</td>\n",
       "      <td>0</td>\n",
       "      <td>0.000000</td>\n",
       "    </tr>\n",
       "    <tr>\n",
       "      <th>10</th>\n",
       "      <td>surface_covered_in_m2</td>\n",
       "      <td>100</td>\n",
       "      <td>0.053879</td>\n",
       "    </tr>\n",
       "    <tr>\n",
       "      <th>11</th>\n",
       "      <td>price_usd_per_m2</td>\n",
       "      <td>0</td>\n",
       "      <td>0.000000</td>\n",
       "    </tr>\n",
       "    <tr>\n",
       "      <th>12</th>\n",
       "      <td>price_per_m2</td>\n",
       "      <td>100</td>\n",
       "      <td>0.053879</td>\n",
       "    </tr>\n",
       "    <tr>\n",
       "      <th>13</th>\n",
       "      <td>floor</td>\n",
       "      <td>1787</td>\n",
       "      <td>0.962823</td>\n",
       "    </tr>\n",
       "    <tr>\n",
       "      <th>14</th>\n",
       "      <td>rooms</td>\n",
       "      <td>1114</td>\n",
       "      <td>0.600216</td>\n",
       "    </tr>\n",
       "    <tr>\n",
       "      <th>15</th>\n",
       "      <td>expenses</td>\n",
       "      <td>1198</td>\n",
       "      <td>0.645474</td>\n",
       "    </tr>\n",
       "    <tr>\n",
       "      <th>16</th>\n",
       "      <td>description</td>\n",
       "      <td>0</td>\n",
       "      <td>0.000000</td>\n",
       "    </tr>\n",
       "    <tr>\n",
       "      <th>17</th>\n",
       "      <td>title</td>\n",
       "      <td>0</td>\n",
       "      <td>0.000000</td>\n",
       "    </tr>\n",
       "    <tr>\n",
       "      <th>18</th>\n",
       "      <td>properati_url</td>\n",
       "      <td>0</td>\n",
       "      <td>0.000000</td>\n",
       "    </tr>\n",
       "  </tbody>\n",
       "</table>\n",
       "</div>"
      ],
      "text/plain": [
       "                   column_name  missing_count  missing_ratio\n",
       "0                property_type              0       0.000000\n",
       "1                   place_name              0       0.000000\n",
       "2                   state_name              0       0.000000\n",
       "3                          lat            546       0.294181\n",
       "4                          lon            546       0.294181\n",
       "5                        price              0       0.000000\n",
       "6                     currency              0       0.000000\n",
       "7   price_aprox_local_currency              0       0.000000\n",
       "8              price_aprox_usd              0       0.000000\n",
       "9          surface_total_in_m2              0       0.000000\n",
       "10       surface_covered_in_m2            100       0.053879\n",
       "11            price_usd_per_m2              0       0.000000\n",
       "12                price_per_m2            100       0.053879\n",
       "13                       floor           1787       0.962823\n",
       "14                       rooms           1114       0.600216\n",
       "15                    expenses           1198       0.645474\n",
       "16                 description              0       0.000000\n",
       "17                       title              0       0.000000\n",
       "18               properati_url              0       0.000000"
      ]
     },
     "execution_count": 58,
     "metadata": {},
     "output_type": "execute_result"
    }
   ],
   "source": [
    "missing_df = belgrano.isnull().sum(axis=0).reset_index()\n",
    "missing_df.columns = ['column_name', 'missing_count']\n",
    "missing_df['missing_ratio'] = missing_df['missing_count'] / belgrano.shape[0]\n",
    "missing_df#.ix[missing_df['missing_ratio']>0.999]"
   ]
  },
  {
   "cell_type": "code",
   "execution_count": 59,
   "metadata": {
    "scrolled": true
   },
   "outputs": [
    {
     "data": {
      "text/plain": [
       "<AxesSubplot:>"
      ]
     },
     "execution_count": 59,
     "metadata": {},
     "output_type": "execute_result"
    },
    {
     "data": {
      "image/png": "[encoded data removed]",
      "text/plain": [
       "<Figure size 432x288 with 1 Axes>"
      ]
     },
     "metadata": {},
     "output_type": "display_data"
    }
   ],
   "source": [
    "missing = belgrano.isnull().sum()\n",
    "missing = missing[missing > 0]\n",
    "missing.sort_values(inplace=True)\n",
    "missing.plot.barh(color='blue')"
   ]
  },
  {
   "cell_type": "markdown",
   "metadata": {},
   "source": [
    "Luego de haber tratado la variable target (price_usd_per_m2), vemos que las variables que tienen missing son las siguientes:\n",
    "* A - price_per_m2, surface_covered_in_m2, \n",
    "* B - floor, rooms, expenses,\n",
    "* C - lat, lon,\n",
    "\n",
    "Vemos que podriamos agrupar estas siete variables en tres grupos A B y C teniendo en cuenta la cantidad de missing values y sus interrelaciones. Pensamos que cuando tratemos los missing de la variable de un grupo, por ejemplo surface_covered_in_m2, esta impactara en los missing de la otra variable de su grupo price_per_m2."
   ]
  },
  {
   "cell_type": "markdown",
   "metadata": {},
   "source": [
    "<a id=\"section_price2\"></a> \n",
    "## price_per_m2\n",
    "* estragia: dropna\n",
    "\n",
    "[volver a TOC](#section_toc)"
   ]
  },
  {
   "cell_type": "markdown",
   "metadata": {},
   "source": [
    "Evaluamos esta posibilidad, pero no la aplicamos:"
   ]
  },
  {
   "cell_type": "code",
   "execution_count": 60,
   "metadata": {},
   "outputs": [
    {
     "data": {
      "text/plain": [
       "(1856, 19)"
      ]
     },
     "execution_count": 60,
     "metadata": {},
     "output_type": "execute_result"
    }
   ],
   "source": [
    "belgrano.shape"
   ]
  },
  {
   "cell_type": "code",
   "execution_count": 61,
   "metadata": {},
   "outputs": [],
   "source": [
    "bel_price2 = belgrano.dropna(subset=[\"price_per_m2\"]) #dropna"
   ]
  },
  {
   "cell_type": "code",
   "execution_count": 62,
   "metadata": {},
   "outputs": [
    {
     "data": {
      "text/plain": [
       "(1756, 19)"
      ]
     },
     "execution_count": 62,
     "metadata": {},
     "output_type": "execute_result"
    }
   ],
   "source": [
    "bel_price2.shape"
   ]
  },
  {
   "cell_type": "markdown",
   "metadata": {},
   "source": [
    "Si fuese necesario podriamos drop los valores faltantes de la variable dependiente price_per_m2, dado que son 100 registros unicamente.\n",
    "\n",
    "Optamos por analisar primero surface_covered_in_m2 , ya que impacta en los missing de price_per_m2."
   ]
  },
  {
   "cell_type": "markdown",
   "metadata": {},
   "source": [
    "<a id=\"section_surface\"></a> \n",
    "## surface_covered_in_m2\n",
    "\n",
    "* outliers (IQR, businees)\n",
    "* valores faltantes\n",
    "\n",
    "[volver a TOC](#section_toc)"
   ]
  },
  {
   "cell_type": "code",
   "execution_count": 63,
   "metadata": {},
   "outputs": [
    {
     "name": "stdout",
     "output_type": "stream",
     "text": [
      "count    1756.000000\n",
      "mean       83.486902\n",
      "std        69.239601\n",
      "min         5.000000\n",
      "25%        40.000000\n",
      "50%        57.000000\n",
      "75%       103.000000\n",
      "max       587.000000\n",
      "Name: surface_covered_in_m2, dtype: float64\n"
     ]
    },
    {
     "data": {
      "image/png": "[encoded data removed]",
      "text/plain": [
       "<Figure size 432x288 with 1 Axes>"
      ]
     },
     "metadata": {},
     "output_type": "display_data"
    }
   ],
   "source": [
    "print(belgrano.surface_covered_in_m2.describe()) #Observamos los valores de surface covered\n",
    "sns.distplot(belgrano['surface_covered_in_m2'], color = 'fuchsia')\n",
    "plt.show()"
   ]
  },
  {
   "cell_type": "markdown",
   "metadata": {},
   "source": [
    "Para analisar outliers para la variable surface_covered_in_m2, primero calculamos IQR.\n",
    "\n",
    "Asimismo, de acuerdo a la legislacion de la CABA, un departamento se considera como tal a partir de los 18m2. Por lo tanto procedemos a aplicar este valor como limite inferior."
   ]
  },
  {
   "cell_type": "code",
   "execution_count": 64,
   "metadata": {
    "scrolled": true
   },
   "outputs": [
    {
     "data": {
      "text/plain": [
       "<AxesSubplot:xlabel='surface_covered_in_m2'>"
      ]
     },
     "execution_count": 64,
     "metadata": {},
     "output_type": "execute_result"
    },
    {
     "data": {
      "image/png": "[encoded data removed]",
      "text/plain": [
       "<Figure size 432x288 with 1 Axes>"
      ]
     },
     "metadata": {},
     "output_type": "display_data"
    }
   ],
   "source": [
    "sns.boxplot(belgrano['surface_covered_in_m2'],  color = 'fuchsia')"
   ]
  },
  {
   "cell_type": "code",
   "execution_count": 65,
   "metadata": {},
   "outputs": [
    {
     "name": "stdout",
     "output_type": "stream",
     "text": [
      "count    1756.000000\n",
      "mean       83.486902\n",
      "std        69.239601\n",
      "min         5.000000\n",
      "25%        40.000000\n",
      "50%        57.000000\n",
      "75%       103.000000\n",
      "max       587.000000\n",
      "Name: surface_covered_in_m2, dtype: float64\n"
     ]
    }
   ],
   "source": [
    "print(belgrano.surface_covered_in_m2.describe()) #Observamos los valores de surface covered"
   ]
  },
  {
   "cell_type": "code",
   "execution_count": 66,
   "metadata": {},
   "outputs": [
    {
     "data": {
      "text/plain": [
       "100"
      ]
     },
     "execution_count": 66,
     "metadata": {},
     "output_type": "execute_result"
    }
   ],
   "source": [
    "belgrano.surface_covered_in_m2.isnull().sum()"
   ]
  },
  {
   "cell_type": "markdown",
   "metadata": {},
   "source": [
    "Reemplazamos los missing de sup covered con total."
   ]
  },
  {
   "cell_type": "code",
   "execution_count": 67,
   "metadata": {},
   "outputs": [],
   "source": [
    "belgrano['surface_covered_in_m2']= belgrano.surface_covered_in_m2.fillna(belgrano['surface_total_in_m2'])"
   ]
  },
  {
   "cell_type": "code",
   "execution_count": 68,
   "metadata": {},
   "outputs": [
    {
     "data": {
      "text/plain": [
       "0"
      ]
     },
     "execution_count": 68,
     "metadata": {},
     "output_type": "execute_result"
    }
   ],
   "source": [
    "belgrano.surface_covered_in_m2.isnull().sum()"
   ]
  },
  {
   "cell_type": "markdown",
   "metadata": {},
   "source": [
    "Evaluamos un LS con quantile 0.75:"
   ]
  },
  {
   "cell_type": "code",
   "execution_count": 69,
   "metadata": {},
   "outputs": [
    {
     "name": "stdout",
     "output_type": "stream",
     "text": [
      "El limite superior es : 201.5\n"
     ]
    }
   ],
   "source": [
    "#Defino el rango intercuartil para observar el limite superior\n",
    "IQR_s75 = belgrano['surface_covered_in_m2'].quantile(0.75) - belgrano['surface_covered_in_m2'].quantile(0.25)\n",
    "LS_75 = belgrano['surface_covered_in_m2'].quantile(0.75) + 1.5*IQR_s75\n",
    "print(\"El limite superior es :\", round(LS_75,2))"
   ]
  },
  {
   "cell_type": "markdown",
   "metadata": {},
   "source": [
    "Un LS con 0.95 quantil pareceria dejar muchas observaciones fuera. Probamos con 0.90."
   ]
  },
  {
   "cell_type": "code",
   "execution_count": 70,
   "metadata": {},
   "outputs": [
    {
     "name": "stdout",
     "output_type": "stream",
     "text": [
      "El limite superior para quantile(0.90) es:  519.62\n"
     ]
    }
   ],
   "source": [
    "#Defino el rango intercuartil para observar el limite superior\n",
    "IQR_s = belgrano['surface_covered_in_m2'].quantile(0.95) - belgrano['surface_covered_in_m2'].quantile(0.25)\n",
    "LS_s = belgrano['surface_covered_in_m2'].quantile(0.95) + 1.5*IQR_s\n",
    "print(\"El limite superior para quantile(0.90) es: \", round(LS_s,2))"
   ]
  },
  {
   "cell_type": "code",
   "execution_count": 71,
   "metadata": {},
   "outputs": [
    {
     "data": {
      "text/plain": [
       "(1856, 19)"
      ]
     },
     "execution_count": 71,
     "metadata": {},
     "output_type": "execute_result"
    }
   ],
   "source": [
    "belgrano.shape"
   ]
  },
  {
   "cell_type": "code",
   "execution_count": 72,
   "metadata": {},
   "outputs": [
    {
     "data": {
      "text/plain": [
       "count    1856.000000\n",
       "mean       86.933190\n",
       "std       143.564938\n",
       "min         5.000000\n",
       "25%        39.000000\n",
       "50%        57.000000\n",
       "75%       104.000000\n",
       "max      5483.000000\n",
       "Name: surface_covered_in_m2, dtype: float64"
      ]
     },
     "execution_count": 72,
     "metadata": {},
     "output_type": "execute_result"
    }
   ],
   "source": [
    "belgrano['surface_covered_in_m2'].describe()"
   ]
  },
  {
   "cell_type": "code",
   "execution_count": 73,
   "metadata": {},
   "outputs": [
    {
     "data": {
      "text/plain": [
       "100"
      ]
     },
     "execution_count": 73,
     "metadata": {},
     "output_type": "execute_result"
    }
   ],
   "source": [
    "1856-1756 #La diferencia son los missings ente shape y describe de surface_covered_in_m2"
   ]
  },
  {
   "cell_type": "code",
   "execution_count": 74,
   "metadata": {},
   "outputs": [
    {
     "name": "stdout",
     "output_type": "stream",
     "text": [
      "(1853, 19)\n",
      "count    1853.000000\n",
      "mean       83.512142\n",
      "std        68.332519\n",
      "min         5.000000\n",
      "25%        39.000000\n",
      "50%        57.000000\n",
      "75%       104.000000\n",
      "max       500.000000\n",
      "Name: surface_covered_in_m2, dtype: float64\n"
     ]
    }
   ],
   "source": [
    "belgrano = belgrano[belgrano['surface_covered_in_m2']<= LS_s]\n",
    "print(belgrano.shape)\n",
    "print(belgrano['surface_covered_in_m2'].describe())\n",
    "#bel_LS_s.head(2)"
   ]
  },
  {
   "cell_type": "code",
   "execution_count": 75,
   "metadata": {},
   "outputs": [
    {
     "data": {
      "text/plain": [
       "12"
      ]
     },
     "execution_count": 75,
     "metadata": {},
     "output_type": "execute_result"
    }
   ],
   "source": [
    "1756-1744 #Un LS de 365 saca 12 valores, es decir 0,01% de los valores MENOS"
   ]
  },
  {
   "cell_type": "code",
   "execution_count": 76,
   "metadata": {},
   "outputs": [
    {
     "name": "stdout",
     "output_type": "stream",
     "text": [
      "count    1853.000000\n",
      "mean       83.512142\n",
      "std        68.332519\n",
      "min         5.000000\n",
      "25%        39.000000\n",
      "50%        57.000000\n",
      "75%       104.000000\n",
      "max       500.000000\n",
      "Name: surface_covered_in_m2, dtype: float64\n"
     ]
    },
    {
     "data": {
      "image/png": "[encoded data removed]",
      "text/plain": [
       "<Figure size 432x288 with 1 Axes>"
      ]
     },
     "metadata": {},
     "output_type": "display_data"
    }
   ],
   "source": [
    "print(belgrano.surface_covered_in_m2.describe()) #Observamos los valores de surface covered\n",
    "sns.distplot(belgrano['surface_covered_in_m2'],  color = 'fuchsia')\n",
    "plt.show()"
   ]
  },
  {
   "cell_type": "code",
   "execution_count": 77,
   "metadata": {},
   "outputs": [
    {
     "data": {
      "text/plain": [
       "<AxesSubplot:xlabel='surface_covered_in_m2'>"
      ]
     },
     "execution_count": 77,
     "metadata": {},
     "output_type": "execute_result"
    },
    {
     "data": {
      "image/png": "[encoded data removed]",
      "text/plain": [
       "<Figure size 432x288 with 1 Axes>"
      ]
     },
     "metadata": {},
     "output_type": "display_data"
    }
   ],
   "source": [
    "sns.boxplot(belgrano['surface_covered_in_m2'],  color = 'fuchsia')"
   ]
  },
  {
   "cell_type": "code",
   "execution_count": 78,
   "metadata": {},
   "outputs": [
    {
     "data": {
      "text/html": [
       "<div>\n",
       "<style scoped>\n",
       "    .dataframe tbody tr th:only-of-type {\n",
       "        vertical-align: middle;\n",
       "    }\n",
       "\n",
       "    .dataframe tbody tr th {\n",
       "        vertical-align: top;\n",
       "    }\n",
       "\n",
       "    .dataframe thead th {\n",
       "        text-align: right;\n",
       "    }\n",
       "</style>\n",
       "<table border=\"1\" class=\"dataframe\">\n",
       "  <thead>\n",
       "    <tr style=\"text-align: right;\">\n",
       "      <th></th>\n",
       "      <th>column_name</th>\n",
       "      <th>missing_count</th>\n",
       "      <th>missing_ratio</th>\n",
       "    </tr>\n",
       "  </thead>\n",
       "  <tbody>\n",
       "    <tr>\n",
       "      <th>0</th>\n",
       "      <td>property_type</td>\n",
       "      <td>0</td>\n",
       "      <td>0.000000</td>\n",
       "    </tr>\n",
       "    <tr>\n",
       "      <th>1</th>\n",
       "      <td>place_name</td>\n",
       "      <td>0</td>\n",
       "      <td>0.000000</td>\n",
       "    </tr>\n",
       "    <tr>\n",
       "      <th>2</th>\n",
       "      <td>state_name</td>\n",
       "      <td>0</td>\n",
       "      <td>0.000000</td>\n",
       "    </tr>\n",
       "    <tr>\n",
       "      <th>3</th>\n",
       "      <td>lat</td>\n",
       "      <td>545</td>\n",
       "      <td>0.294118</td>\n",
       "    </tr>\n",
       "    <tr>\n",
       "      <th>4</th>\n",
       "      <td>lon</td>\n",
       "      <td>545</td>\n",
       "      <td>0.294118</td>\n",
       "    </tr>\n",
       "    <tr>\n",
       "      <th>5</th>\n",
       "      <td>price</td>\n",
       "      <td>0</td>\n",
       "      <td>0.000000</td>\n",
       "    </tr>\n",
       "    <tr>\n",
       "      <th>6</th>\n",
       "      <td>currency</td>\n",
       "      <td>0</td>\n",
       "      <td>0.000000</td>\n",
       "    </tr>\n",
       "    <tr>\n",
       "      <th>7</th>\n",
       "      <td>price_aprox_local_currency</td>\n",
       "      <td>0</td>\n",
       "      <td>0.000000</td>\n",
       "    </tr>\n",
       "    <tr>\n",
       "      <th>8</th>\n",
       "      <td>price_aprox_usd</td>\n",
       "      <td>0</td>\n",
       "      <td>0.000000</td>\n",
       "    </tr>\n",
       "    <tr>\n",
       "      <th>9</th>\n",
       "      <td>surface_total_in_m2</td>\n",
       "      <td>0</td>\n",
       "      <td>0.000000</td>\n",
       "    </tr>\n",
       "    <tr>\n",
       "      <th>10</th>\n",
       "      <td>surface_covered_in_m2</td>\n",
       "      <td>0</td>\n",
       "      <td>0.000000</td>\n",
       "    </tr>\n",
       "    <tr>\n",
       "      <th>11</th>\n",
       "      <td>price_usd_per_m2</td>\n",
       "      <td>0</td>\n",
       "      <td>0.000000</td>\n",
       "    </tr>\n",
       "    <tr>\n",
       "      <th>12</th>\n",
       "      <td>price_per_m2</td>\n",
       "      <td>99</td>\n",
       "      <td>0.053427</td>\n",
       "    </tr>\n",
       "    <tr>\n",
       "      <th>13</th>\n",
       "      <td>floor</td>\n",
       "      <td>1785</td>\n",
       "      <td>0.963303</td>\n",
       "    </tr>\n",
       "    <tr>\n",
       "      <th>14</th>\n",
       "      <td>rooms</td>\n",
       "      <td>1113</td>\n",
       "      <td>0.600648</td>\n",
       "    </tr>\n",
       "    <tr>\n",
       "      <th>15</th>\n",
       "      <td>expenses</td>\n",
       "      <td>1195</td>\n",
       "      <td>0.644900</td>\n",
       "    </tr>\n",
       "    <tr>\n",
       "      <th>16</th>\n",
       "      <td>description</td>\n",
       "      <td>0</td>\n",
       "      <td>0.000000</td>\n",
       "    </tr>\n",
       "    <tr>\n",
       "      <th>17</th>\n",
       "      <td>title</td>\n",
       "      <td>0</td>\n",
       "      <td>0.000000</td>\n",
       "    </tr>\n",
       "    <tr>\n",
       "      <th>18</th>\n",
       "      <td>properati_url</td>\n",
       "      <td>0</td>\n",
       "      <td>0.000000</td>\n",
       "    </tr>\n",
       "  </tbody>\n",
       "</table>\n",
       "</div>"
      ],
      "text/plain": [
       "                   column_name  missing_count  missing_ratio\n",
       "0                property_type              0       0.000000\n",
       "1                   place_name              0       0.000000\n",
       "2                   state_name              0       0.000000\n",
       "3                          lat            545       0.294118\n",
       "4                          lon            545       0.294118\n",
       "5                        price              0       0.000000\n",
       "6                     currency              0       0.000000\n",
       "7   price_aprox_local_currency              0       0.000000\n",
       "8              price_aprox_usd              0       0.000000\n",
       "9          surface_total_in_m2              0       0.000000\n",
       "10       surface_covered_in_m2              0       0.000000\n",
       "11            price_usd_per_m2              0       0.000000\n",
       "12                price_per_m2             99       0.053427\n",
       "13                       floor           1785       0.963303\n",
       "14                       rooms           1113       0.600648\n",
       "15                    expenses           1195       0.644900\n",
       "16                 description              0       0.000000\n",
       "17                       title              0       0.000000\n",
       "18               properati_url              0       0.000000"
      ]
     },
     "execution_count": 78,
     "metadata": {},
     "output_type": "execute_result"
    }
   ],
   "source": [
    "missing_df = belgrano.isnull().sum(axis=0).reset_index()\n",
    "missing_df.columns = ['column_name', 'missing_count']\n",
    "missing_df['missing_ratio'] = missing_df['missing_count'] / belgrano.shape[0]\n",
    "missing_df# #no hay mas missings para surface"
   ]
  },
  {
   "cell_type": "markdown",
   "metadata": {},
   "source": [
    "Si aplicamos el IQR LS quantile 0.90 a la variable surface_covered_in_m2 :\n",
    "\n",
    "* estamos quitando 0,01%% de los registros adicional, son 12 registros.\n",
    "\n",
    "Por lo que es un LS 0.90 conveniente.\n",
    "\n",
    "Los 100 missing los reemplazamos por total.\n",
    "\n",
    "Asimismo, de acuerdo a la legislacion de la CABA, un departamento se considera como tal a partir de los 18m2. Por lo tanto aplicamos este valor como limite inferior.\n"
   ]
  },
  {
   "cell_type": "markdown",
   "metadata": {},
   "source": [
    "Calculamos una nueva columna superficie descubierta"
   ]
  },
  {
   "cell_type": "code",
   "execution_count": 79,
   "metadata": {},
   "outputs": [],
   "source": [
    "belgrano['surface_uncovered_in_m2'] = belgrano['surface_total_in_m2'] - belgrano['surface_covered_in_m2']"
   ]
  },
  {
   "cell_type": "code",
   "execution_count": 80,
   "metadata": {},
   "outputs": [
    {
     "data": {
      "text/plain": [
       "7          5.0\n",
       "8          5.0\n",
       "210        3.0\n",
       "216       10.0\n",
       "219       10.0\n",
       "          ... \n",
       "121094     3.0\n",
       "121157     3.0\n",
       "121160     0.0\n",
       "121209     0.0\n",
       "121215    20.0\n",
       "Name: surface_uncovered_in_m2, Length: 1853, dtype: float64"
      ]
     },
     "execution_count": 80,
     "metadata": {},
     "output_type": "execute_result"
    }
   ],
   "source": [
    "belgrano['surface_uncovered_in_m2'] "
   ]
  },
  {
   "cell_type": "code",
   "execution_count": 81,
   "metadata": {},
   "outputs": [
    {
     "data": {
      "text/plain": [
       "count    1852.000000\n",
       "mean       83.554536\n",
       "std        68.326596\n",
       "min        19.000000\n",
       "25%        39.000000\n",
       "50%        57.000000\n",
       "75%       104.000000\n",
       "max       500.000000\n",
       "Name: surface_covered_in_m2, dtype: float64"
      ]
     },
     "execution_count": 81,
     "metadata": {},
     "output_type": "execute_result"
    }
   ],
   "source": [
    "#como minimo un departamente tiene que tener 18 m cuadrados\n",
    "belgrano = belgrano[belgrano['surface_covered_in_m2']>= 18]\n",
    "belgrano['surface_covered_in_m2'].describe()\n"
   ]
  },
  {
   "cell_type": "code",
   "execution_count": 82,
   "metadata": {},
   "outputs": [
    {
     "data": {
      "text/plain": [
       "113"
      ]
     },
     "execution_count": 82,
     "metadata": {},
     "output_type": "execute_result"
    }
   ],
   "source": [
    "100 + 12 + 1"
   ]
  },
  {
   "cell_type": "code",
   "execution_count": 83,
   "metadata": {},
   "outputs": [
    {
     "data": {
      "text/plain": [
       "0.06088362068965517"
      ]
     },
     "execution_count": 83,
     "metadata": {},
     "output_type": "execute_result"
    }
   ],
   "source": [
    "113/1856"
   ]
  },
  {
   "cell_type": "markdown",
   "metadata": {},
   "source": [
    "Se puede ver el minimo de 18m2 en la variable surface_covered_in_m2. Con este LI, solo perdemos un registro.\n",
    "\n",
    "Las variables que tienen missing son lat, lon, floor, rooms,expenses."
   ]
  },
  {
   "cell_type": "markdown",
   "metadata": {},
   "source": [
    "<a id=\"section_exp\"></a> \n",
    "## expenses\n",
    "\n",
    "[volver a TOC](#section_toc)"
   ]
  },
  {
   "cell_type": "markdown",
   "metadata": {},
   "source": [
    "Al ver expenses, decidimos trabajar primero con rooms."
   ]
  },
  {
   "cell_type": "code",
   "execution_count": 84,
   "metadata": {},
   "outputs": [
    {
     "name": "stdout",
     "output_type": "stream",
     "text": [
      "count      657.000000\n",
      "mean      5610.873668\n",
      "std       5876.688090\n",
      "min          1.000000\n",
      "25%       1700.000000\n",
      "50%       3500.000000\n",
      "75%       7678.000000\n",
      "max      54240.000000\n",
      "Name: expenses, dtype: float64\n"
     ]
    },
    {
     "data": {
      "image/png": "[encoded data removed]",
      "text/plain": [
       "<Figure size 432x288 with 1 Axes>"
      ]
     },
     "metadata": {},
     "output_type": "display_data"
    }
   ],
   "source": [
    "print(belgrano.expenses.describe()) \n",
    "sns.distplot(belgrano['expenses'])\n",
    "plt.show()"
   ]
  },
  {
   "cell_type": "code",
   "execution_count": 85,
   "metadata": {},
   "outputs": [],
   "source": [
    "sns.set_style(\"darkgrid\")"
   ]
  },
  {
   "cell_type": "code",
   "execution_count": 86,
   "metadata": {},
   "outputs": [
    {
     "data": {
      "text/plain": [
       "<AxesSubplot:xlabel='expenses'>"
      ]
     },
     "execution_count": 86,
     "metadata": {},
     "output_type": "execute_result"
    },
    {
     "data": {
      "image/png": "[encoded data removed]",
      "text/plain": [
       "<Figure size 432x288 with 1 Axes>"
      ]
     },
     "metadata": {},
     "output_type": "display_data"
    }
   ],
   "source": [
    "sns.boxplot(belgrano['expenses'])"
   ]
  },
  {
   "cell_type": "markdown",
   "metadata": {},
   "source": [
    "De acuerdo al histograma y box plot, vemos que habria outliers por encima de los 35.000 aproximadamente."
   ]
  },
  {
   "cell_type": "code",
   "execution_count": 87,
   "metadata": {},
   "outputs": [
    {
     "data": {
      "text/plain": [
       "expenses\n",
       "1.0         34.5\n",
       "250.0       38.0\n",
       "300.0       33.0\n",
       "500.0       32.5\n",
       "590.0       67.0\n",
       "           ...  \n",
       "25000.0    284.0\n",
       "25900.0    278.0\n",
       "29000.0    245.0\n",
       "30000.0    172.0\n",
       "54240.0     83.0\n",
       "Name: surface_covered_in_m2, Length: 199, dtype: float64"
      ]
     },
     "execution_count": 87,
     "metadata": {},
     "output_type": "execute_result"
    }
   ],
   "source": [
    "belgrano.groupby(['expenses'])['surface_covered_in_m2'].median() #esto es coherente."
   ]
  },
  {
   "cell_type": "code",
   "execution_count": 88,
   "metadata": {},
   "outputs": [
    {
     "data": {
      "text/plain": [
       "rooms\n",
       "1.0     2600.0\n",
       "2.0     1900.0\n",
       "3.0     3215.0\n",
       "4.0     7000.0\n",
       "5.0    14500.0\n",
       "6.0     3700.0\n",
       "7.0        NaN\n",
       "8.0        NaN\n",
       "Name: expenses, dtype: float64"
      ]
     },
     "execution_count": 88,
     "metadata": {},
     "output_type": "execute_result"
    }
   ],
   "source": [
    "belgrano.groupby(['rooms'])['expenses'].median()"
   ]
  },
  {
   "cell_type": "markdown",
   "metadata": {},
   "source": [
    "Asimismo al observar las expensas en relacion a los cuartos vemos que:\n",
    "* los missing se agrupan en las propiedades que tienen mas de 7 y 8 cuartos.\n",
    "* podria haber un dato erroneo de expensas en los apartamentos de :\n",
    "    - 5 cuartos, dado que la mediana se dispara\n",
    "    - 6 cuartos, dado que la mediana es menor a los de menos cuartos\n",
    "\n",
    "Por este motivo, primero trataremos la variable room, y luego volveremos a expensas."
   ]
  },
  {
   "cell_type": "markdown",
   "metadata": {},
   "source": [
    "<a id=\"section_room\"></a> \n",
    "## room\n",
    "\n",
    "[volver a TOC](#section_toc)"
   ]
  },
  {
   "cell_type": "raw",
   "metadata": {},
   "source": [
    "vble    #mis    %miss\n",
    "floor\t1679\t0.206012\n",
    "rooms\t1017\t0.124785\n",
    "expen\t1124\t0.137914"
   ]
  },
  {
   "cell_type": "code",
   "execution_count": 89,
   "metadata": {},
   "outputs": [],
   "source": [
    "def count_plotter(data, label, labelsize=12):    \n",
    "    sns.set(rc={\"figure.figsize\": (10, 7), \n",
    "                \"xtick.labelsize\": labelsize})\n",
    "    sns.set_style(\"white\")    \n",
    "    data_count = sns.countplot(data)\n",
    "    data_count.set_title('Histograma de ' + label + '\\n', fontsize=16)"
   ]
  },
  {
   "cell_type": "code",
   "execution_count": 90,
   "metadata": {},
   "outputs": [
    {
     "data": {
      "image/png": "[encoded data removed]",
      "text/plain": [
       "<Figure size 720x504 with 1 Axes>"
      ]
     },
     "metadata": {},
     "output_type": "display_data"
    }
   ],
   "source": [
    "count_plotter(belgrano.rooms, \"rooms\")"
   ]
  },
  {
   "cell_type": "code",
   "execution_count": 91,
   "metadata": {},
   "outputs": [
    {
     "name": "stdout",
     "output_type": "stream",
     "text": [
      "0    3.0\n",
      "dtype: float64\n"
     ]
    },
    {
     "data": {
      "text/plain": [
       "3.0    199\n",
       "4.0    184\n",
       "2.0    148\n",
       "1.0    134\n",
       "5.0     59\n",
       "6.0      7\n",
       "7.0      6\n",
       "8.0      2\n",
       "Name: rooms, dtype: int64"
      ]
     },
     "execution_count": 91,
     "metadata": {},
     "output_type": "execute_result"
    }
   ],
   "source": [
    "print(belgrano.rooms.mode()) #La moda son 3 cuartos\n",
    "belgrano.rooms.value_counts() #no tenemos muchas observaciones a partir de 5 cuartos"
   ]
  },
  {
   "cell_type": "code",
   "execution_count": 92,
   "metadata": {},
   "outputs": [
    {
     "data": {
      "text/plain": [
       "2.375"
      ]
     },
     "execution_count": 92,
     "metadata": {},
     "output_type": "execute_result"
    }
   ],
   "source": [
    "133/56"
   ]
  },
  {
   "cell_type": "code",
   "execution_count": 93,
   "metadata": {},
   "outputs": [
    {
     "data": {
      "text/plain": [
       "rooms\n",
       "1.0    3005.405405\n",
       "2.0    2835.585586\n",
       "3.0    2847.222222\n",
       "4.0    2871.926230\n",
       "5.0    3057.692308\n",
       "6.0    2744.360902\n",
       "7.0    2276.516744\n",
       "8.0    4062.806002\n",
       "Name: price_usd_per_m2, dtype: float64"
      ]
     },
     "execution_count": 93,
     "metadata": {},
     "output_type": "execute_result"
    }
   ],
   "source": [
    "belgrano.groupby(['rooms'])['price_usd_per_m2'].median() #no hay tanto cambio de precio"
   ]
  },
  {
   "cell_type": "code",
   "execution_count": 94,
   "metadata": {},
   "outputs": [
    {
     "data": {
      "text/plain": [
       "69"
      ]
     },
     "execution_count": 94,
     "metadata": {},
     "output_type": "execute_result"
    }
   ],
   "source": [
    "56+7+5+1 #registros que se pierden si no squedamos con 1 2 3 4 cuartos"
   ]
  },
  {
   "cell_type": "markdown",
   "metadata": {},
   "source": [
    "REGEX"
   ]
  },
  {
   "cell_type": "code",
   "execution_count": 95,
   "metadata": {},
   "outputs": [],
   "source": [
    "import re"
   ]
  },
  {
   "cell_type": "code",
   "execution_count": 96,
   "metadata": {},
   "outputs": [
    {
     "data": {
      "text/html": [
       "<div>\n",
       "<style scoped>\n",
       "    .dataframe tbody tr th:only-of-type {\n",
       "        vertical-align: middle;\n",
       "    }\n",
       "\n",
       "    .dataframe tbody tr th {\n",
       "        vertical-align: top;\n",
       "    }\n",
       "\n",
       "    .dataframe thead th {\n",
       "        text-align: right;\n",
       "    }\n",
       "</style>\n",
       "<table border=\"1\" class=\"dataframe\">\n",
       "  <thead>\n",
       "    <tr style=\"text-align: right;\">\n",
       "      <th></th>\n",
       "      <th>property_type</th>\n",
       "      <th>place_name</th>\n",
       "      <th>state_name</th>\n",
       "      <th>lat</th>\n",
       "      <th>lon</th>\n",
       "      <th>price</th>\n",
       "      <th>currency</th>\n",
       "      <th>price_aprox_local_currency</th>\n",
       "      <th>price_aprox_usd</th>\n",
       "      <th>surface_total_in_m2</th>\n",
       "      <th>surface_covered_in_m2</th>\n",
       "      <th>price_usd_per_m2</th>\n",
       "      <th>price_per_m2</th>\n",
       "      <th>floor</th>\n",
       "      <th>rooms</th>\n",
       "      <th>expenses</th>\n",
       "      <th>description</th>\n",
       "      <th>title</th>\n",
       "      <th>properati_url</th>\n",
       "      <th>surface_uncovered_in_m2</th>\n",
       "    </tr>\n",
       "  </thead>\n",
       "  <tbody>\n",
       "    <tr>\n",
       "      <th>7</th>\n",
       "      <td>apartment</td>\n",
       "      <td>Belgrano</td>\n",
       "      <td>Capital Federal</td>\n",
       "      <td>-34.559873</td>\n",
       "      <td>-58.443362</td>\n",
       "      <td>138000.0</td>\n",
       "      <td>USD</td>\n",
       "      <td>2434941.0</td>\n",
       "      <td>138000.0</td>\n",
       "      <td>45.0</td>\n",
       "      <td>40.0</td>\n",
       "      <td>3066.666667</td>\n",
       "      <td>3450.0</td>\n",
       "      <td>NaN</td>\n",
       "      <td>NaN</td>\n",
       "      <td>NaN</td>\n",
       "      <td>EXCELENTE MONOAMBIENTE A ESTRENAR AMPLIO SUPER...</td>\n",
       "      <td>JOSE HERNANDEZ 1400 MONOAMBIENTE  ESTRENAR CAT...</td>\n",
       "      <td>http://www.properati.com.ar/15bot_venta_depart...</td>\n",
       "      <td>5.0</td>\n",
       "    </tr>\n",
       "    <tr>\n",
       "      <th>8</th>\n",
       "      <td>apartment</td>\n",
       "      <td>Belgrano</td>\n",
       "      <td>Capital Federal</td>\n",
       "      <td>-34.559873</td>\n",
       "      <td>-58.443362</td>\n",
       "      <td>195000.0</td>\n",
       "      <td>USD</td>\n",
       "      <td>3440677.5</td>\n",
       "      <td>195000.0</td>\n",
       "      <td>65.0</td>\n",
       "      <td>60.0</td>\n",
       "      <td>3000.000000</td>\n",
       "      <td>3250.0</td>\n",
       "      <td>NaN</td>\n",
       "      <td>NaN</td>\n",
       "      <td>NaN</td>\n",
       "      <td>EXCELENTE DOS AMBIENTES  ESTRENAR AMPLIO SUPER...</td>\n",
       "      <td>JOSE HERNANDEZ   1400 DOS AMBIENTES ESTRENAR ,...</td>\n",
       "      <td>http://www.properati.com.ar/15bou_venta_depart...</td>\n",
       "      <td>5.0</td>\n",
       "    </tr>\n",
       "  </tbody>\n",
       "</table>\n",
       "</div>"
      ],
      "text/plain": [
       "  property_type place_name       state_name        lat        lon     price  \\\n",
       "7     apartment   Belgrano  Capital Federal -34.559873 -58.443362  138000.0   \n",
       "8     apartment   Belgrano  Capital Federal -34.559873 -58.443362  195000.0   \n",
       "\n",
       "  currency  price_aprox_local_currency  price_aprox_usd  surface_total_in_m2  \\\n",
       "7      USD                   2434941.0         138000.0                 45.0   \n",
       "8      USD                   3440677.5         195000.0                 65.0   \n",
       "\n",
       "   surface_covered_in_m2  price_usd_per_m2  price_per_m2  floor  rooms  \\\n",
       "7                   40.0       3066.666667        3450.0    NaN    NaN   \n",
       "8                   60.0       3000.000000        3250.0    NaN    NaN   \n",
       "\n",
       "   expenses                                        description  \\\n",
       "7       NaN  EXCELENTE MONOAMBIENTE A ESTRENAR AMPLIO SUPER...   \n",
       "8       NaN  EXCELENTE DOS AMBIENTES  ESTRENAR AMPLIO SUPER...   \n",
       "\n",
       "                                               title  \\\n",
       "7  JOSE HERNANDEZ 1400 MONOAMBIENTE  ESTRENAR CAT...   \n",
       "8  JOSE HERNANDEZ   1400 DOS AMBIENTES ESTRENAR ,...   \n",
       "\n",
       "                                       properati_url  surface_uncovered_in_m2  \n",
       "7  http://www.properati.com.ar/15bot_venta_depart...                      5.0  \n",
       "8  http://www.properati.com.ar/15bou_venta_depart...                      5.0  "
      ]
     },
     "execution_count": 96,
     "metadata": {},
     "output_type": "execute_result"
    }
   ],
   "source": [
    "belgrano.head(2)"
   ]
  },
  {
   "cell_type": "code",
   "execution_count": 97,
   "metadata": {},
   "outputs": [],
   "source": [
    "pattern_ambientes = r'(?P<amb>\\d+)(\\s)(\\b(ambientes|ambiente|amb|cuarto|cuartos|habitacion|habitaciones|dormitorio|dormitorios|dorm|hab)\\b)'\n",
    "pattern_ambientes_regex = re.compile(pattern_ambientes)\n",
    "description_series = belgrano.description.astype(str)\n",
    "resultado_ambientes = description_series.apply(lambda x: x if x is np.nan else pattern_ambientes_regex.search(x))\n",
    "ambientes_match = resultado_ambientes.apply(lambda x: x if x is None else x.group('amb'))\n"
   ]
  },
  {
   "cell_type": "code",
   "execution_count": 98,
   "metadata": {},
   "outputs": [
    {
     "data": {
      "text/plain": [
       "7         None\n",
       "8         None\n",
       "210       None\n",
       "216       None\n",
       "219          4\n",
       "          ... \n",
       "121094       4\n",
       "121157    None\n",
       "121160    None\n",
       "121209    None\n",
       "121215       2\n",
       "Name: description, Length: 1852, dtype: object"
      ]
     },
     "execution_count": 98,
     "metadata": {},
     "output_type": "execute_result"
    }
   ],
   "source": [
    "ambientes_match"
   ]
  },
  {
   "cell_type": "code",
   "execution_count": 99,
   "metadata": {},
   "outputs": [
    {
     "data": {
      "text/plain": [
       "7         None\n",
       "8         None\n",
       "210          2\n",
       "216          4\n",
       "219          6\n",
       "          ... \n",
       "121094       4\n",
       "121157    None\n",
       "121160    None\n",
       "121209    None\n",
       "121215       2\n",
       "Name: rooms, Length: 1852, dtype: object"
      ]
     },
     "execution_count": 99,
     "metadata": {},
     "output_type": "execute_result"
    }
   ],
   "source": [
    "belgrano['rooms'].fillna(ambientes_match)"
   ]
  },
  {
   "cell_type": "code",
   "execution_count": 100,
   "metadata": {},
   "outputs": [
    {
     "data": {
      "text/plain": [
       "True     1113\n",
       "False     739\n",
       "Name: rooms, dtype: int64"
      ]
     },
     "execution_count": 100,
     "metadata": {},
     "output_type": "execute_result"
    }
   ],
   "source": [
    "belgrano.rooms.isnull().value_counts()"
   ]
  },
  {
   "cell_type": "markdown",
   "metadata": {},
   "source": [
    "No cambiaron los missing. Probamos con replace por moda."
   ]
  },
  {
   "cell_type": "markdown",
   "metadata": {},
   "source": [
    "Dado que no tenemos muchas observaciones de apartamentos de 5 6 7 y 8 cuartos, restringimos el analisis. Nos concentramos en departamentos de 1 2 3 o 4 cuartos. De esta forma, solo estamos perdiendo 69 registros.\n",
    "\n",
    "Dropeamos las 69 rows que tienen 5 6 7 u 8 cuartos: noooooo\n"
   ]
  },
  {
   "cell_type": "code",
   "execution_count": 101,
   "metadata": {},
   "outputs": [],
   "source": [
    "# a = [5,6,7,8]\n",
    "\n",
    "# bel_rooms = belgrano[~belgrano['rooms'].isin(a)]\n",
    "\n",
    "# b = belgrano.shape[0] - bel_rooms.shape[0]\n",
    "# print(\"Registros eliminados\", b )\n",
    "# bel_rooms.rooms.value_counts()\n"
   ]
  },
  {
   "cell_type": "code",
   "execution_count": 102,
   "metadata": {},
   "outputs": [],
   "source": [
    "# bel_rooms.rooms.isnull().sum()"
   ]
  },
  {
   "cell_type": "markdown",
   "metadata": {},
   "source": [
    "Asimismo, tenemos 1017 missing de la variable rooms que podemos reemplazar:\n",
    "* con la moda:3\n",
    "* con una proporcion 0.55 de 3 y 0.45 de 4, los mayores valores.\n",
    "Optamos por la segunda opcion."
   ]
  },
  {
   "cell_type": "code",
   "execution_count": 103,
   "metadata": {},
   "outputs": [
    {
     "name": "stdout",
     "output_type": "stream",
     "text": [
      "# nulos en rooms:  1113\n",
      "# 3 en rooms:  199\n",
      "# 4 en rooms:  184\n"
     ]
    }
   ],
   "source": [
    "#Cantidad de nulos, 1 2 3 4 rooms:\n",
    "cant_car_null = belgrano.rooms.isnull().sum()\n",
    "print(\"# nulos en rooms: \",cant_car_null)\n",
    "\n",
    "car_three_mask = belgrano.rooms == 3\n",
    "cant_car_3 = car_three_mask.sum()\n",
    "print(\"# 3 en rooms: \",cant_car_3)\n",
    "\n",
    "car_four_mask = belgrano.rooms == 4\n",
    "cant_car_4 = car_four_mask.sum()\n",
    "print(\"# 4 en rooms: \",cant_car_4)\n",
    "\n",
    "#print(\"# de rooms\", cant_car_1+cant_car_2+cant_car_3+cant_car_4)"
   ]
  },
  {
   "cell_type": "code",
   "execution_count": 104,
   "metadata": {},
   "outputs": [
    {
     "name": "stdout",
     "output_type": "stream",
     "text": [
      "0    3.0\n",
      "dtype: float64\n"
     ]
    },
    {
     "data": {
      "text/plain": [
       "3.0    199\n",
       "4.0    184\n",
       "2.0    148\n",
       "1.0    134\n",
       "5.0     59\n",
       "6.0      7\n",
       "7.0      6\n",
       "8.0      2\n",
       "Name: rooms, dtype: int64"
      ]
     },
     "execution_count": 104,
     "metadata": {},
     "output_type": "execute_result"
    }
   ],
   "source": [
    "print(belgrano.rooms.mode()) #La moda son 3 cuartos\n",
    "belgrano.rooms.value_counts()"
   ]
  },
  {
   "cell_type": "code",
   "execution_count": 105,
   "metadata": {},
   "outputs": [
    {
     "name": "stdout",
     "output_type": "stream",
     "text": [
      "1113\n",
      "501\n",
      "612\n"
     ]
    }
   ],
   "source": [
    "# los registros que son null en Car:\n",
    "data_car_null_mask = belgrano.rooms.isnull()\n",
    "data_car_null = belgrano.loc[data_car_null_mask, :]\n",
    "print(data_car_null.shape[0])\n",
    "\n",
    "\n",
    "# una muestra del 45% de los registros calculados en el paso anterior:\n",
    "data_car_null_mask_sample_1 = data_car_null.sample(frac = 0.45)\n",
    "\n",
    "\n",
    "# los índices de ese 45%\n",
    "data_car_null_ones_index = data_car_null_mask_sample_1.index\n",
    "print(len(data_car_null_ones_index))\n",
    "\n",
    "\n",
    "\n",
    "# los que van a ser rellenados con valor 2 son todos los que no fueron seleccionados en el paso anterior:\n",
    "data_car_null_twos_index = data_car_null.index.difference(data_car_null_ones_index)\n",
    "print(len(data_car_null_twos_index))"
   ]
  },
  {
   "cell_type": "code",
   "execution_count": 106,
   "metadata": {},
   "outputs": [],
   "source": [
    "belgrano.loc[data_car_null_ones_index, \"rooms\"] = 4\n",
    "belgrano.loc[data_car_null_twos_index, \"rooms\"] = 3"
   ]
  },
  {
   "cell_type": "code",
   "execution_count": 107,
   "metadata": {},
   "outputs": [
    {
     "name": "stdout",
     "output_type": "stream",
     "text": [
      "0\n",
      "685\n",
      "811\n"
     ]
    }
   ],
   "source": [
    "cant_car_null = belgrano.rooms.isnull().sum()\n",
    "print(cant_car_null)\n",
    "\n",
    "car_one_mask = belgrano.rooms == 4\n",
    "cant_car_1 = car_one_mask.sum()\n",
    "print(cant_car_1)\n",
    "\n",
    "car_two_mask = belgrano.rooms == 3\n",
    "cant_car_2 = car_two_mask.sum()\n",
    "print(cant_car_2)\n"
   ]
  },
  {
   "cell_type": "code",
   "execution_count": 108,
   "metadata": {},
   "outputs": [
    {
     "name": "stdout",
     "output_type": "stream",
     "text": [
      "cuatros 182\n",
      "tres 196\n"
     ]
    }
   ],
   "source": [
    "#Control \n",
    "e = 640-458\n",
    "f = 755 - 559\n",
    "print(\"cuatros\", e)\n",
    "print(\"tres\", f)"
   ]
  },
  {
   "cell_type": "code",
   "execution_count": 109,
   "metadata": {},
   "outputs": [
    {
     "data": {
      "text/plain": [
       "3.0    811\n",
       "4.0    685\n",
       "2.0    148\n",
       "1.0    134\n",
       "5.0     59\n",
       "6.0      7\n",
       "7.0      6\n",
       "8.0      2\n",
       "Name: rooms, dtype: int64"
      ]
     },
     "execution_count": 109,
     "metadata": {},
     "output_type": "execute_result"
    }
   ],
   "source": [
    "belgrano.rooms.value_counts()"
   ]
  },
  {
   "cell_type": "markdown",
   "metadata": {},
   "source": [
    "Ahora vemos que se incrementaron los valores de 3 y 4, y ya no tenemos missing de rooms.\n"
   ]
  },
  {
   "cell_type": "markdown",
   "metadata": {},
   "source": [
    "<a id=\"section_miss2\"></a> \n",
    "## Recuento de missing\n",
    "\n",
    "[volver a TOC](#section_toc)"
   ]
  },
  {
   "cell_type": "code",
   "execution_count": 110,
   "metadata": {},
   "outputs": [
    {
     "data": {
      "text/html": [
       "<div>\n",
       "<style scoped>\n",
       "    .dataframe tbody tr th:only-of-type {\n",
       "        vertical-align: middle;\n",
       "    }\n",
       "\n",
       "    .dataframe tbody tr th {\n",
       "        vertical-align: top;\n",
       "    }\n",
       "\n",
       "    .dataframe thead th {\n",
       "        text-align: right;\n",
       "    }\n",
       "</style>\n",
       "<table border=\"1\" class=\"dataframe\">\n",
       "  <thead>\n",
       "    <tr style=\"text-align: right;\">\n",
       "      <th></th>\n",
       "      <th>column_name</th>\n",
       "      <th>missing_count</th>\n",
       "      <th>missing_ratio</th>\n",
       "    </tr>\n",
       "  </thead>\n",
       "  <tbody>\n",
       "    <tr>\n",
       "      <th>0</th>\n",
       "      <td>property_type</td>\n",
       "      <td>0</td>\n",
       "      <td>0.000000</td>\n",
       "    </tr>\n",
       "    <tr>\n",
       "      <th>1</th>\n",
       "      <td>place_name</td>\n",
       "      <td>0</td>\n",
       "      <td>0.000000</td>\n",
       "    </tr>\n",
       "    <tr>\n",
       "      <th>2</th>\n",
       "      <td>state_name</td>\n",
       "      <td>0</td>\n",
       "      <td>0.000000</td>\n",
       "    </tr>\n",
       "    <tr>\n",
       "      <th>3</th>\n",
       "      <td>lat</td>\n",
       "      <td>545</td>\n",
       "      <td>0.294276</td>\n",
       "    </tr>\n",
       "    <tr>\n",
       "      <th>4</th>\n",
       "      <td>lon</td>\n",
       "      <td>545</td>\n",
       "      <td>0.294276</td>\n",
       "    </tr>\n",
       "    <tr>\n",
       "      <th>5</th>\n",
       "      <td>price</td>\n",
       "      <td>0</td>\n",
       "      <td>0.000000</td>\n",
       "    </tr>\n",
       "    <tr>\n",
       "      <th>6</th>\n",
       "      <td>currency</td>\n",
       "      <td>0</td>\n",
       "      <td>0.000000</td>\n",
       "    </tr>\n",
       "    <tr>\n",
       "      <th>7</th>\n",
       "      <td>price_aprox_local_currency</td>\n",
       "      <td>0</td>\n",
       "      <td>0.000000</td>\n",
       "    </tr>\n",
       "    <tr>\n",
       "      <th>8</th>\n",
       "      <td>price_aprox_usd</td>\n",
       "      <td>0</td>\n",
       "      <td>0.000000</td>\n",
       "    </tr>\n",
       "    <tr>\n",
       "      <th>9</th>\n",
       "      <td>surface_total_in_m2</td>\n",
       "      <td>0</td>\n",
       "      <td>0.000000</td>\n",
       "    </tr>\n",
       "    <tr>\n",
       "      <th>10</th>\n",
       "      <td>surface_covered_in_m2</td>\n",
       "      <td>0</td>\n",
       "      <td>0.000000</td>\n",
       "    </tr>\n",
       "    <tr>\n",
       "      <th>11</th>\n",
       "      <td>price_usd_per_m2</td>\n",
       "      <td>0</td>\n",
       "      <td>0.000000</td>\n",
       "    </tr>\n",
       "    <tr>\n",
       "      <th>12</th>\n",
       "      <td>price_per_m2</td>\n",
       "      <td>99</td>\n",
       "      <td>0.053456</td>\n",
       "    </tr>\n",
       "    <tr>\n",
       "      <th>13</th>\n",
       "      <td>floor</td>\n",
       "      <td>1785</td>\n",
       "      <td>0.963823</td>\n",
       "    </tr>\n",
       "    <tr>\n",
       "      <th>14</th>\n",
       "      <td>rooms</td>\n",
       "      <td>0</td>\n",
       "      <td>0.000000</td>\n",
       "    </tr>\n",
       "    <tr>\n",
       "      <th>15</th>\n",
       "      <td>expenses</td>\n",
       "      <td>1195</td>\n",
       "      <td>0.645248</td>\n",
       "    </tr>\n",
       "    <tr>\n",
       "      <th>16</th>\n",
       "      <td>description</td>\n",
       "      <td>0</td>\n",
       "      <td>0.000000</td>\n",
       "    </tr>\n",
       "    <tr>\n",
       "      <th>17</th>\n",
       "      <td>title</td>\n",
       "      <td>0</td>\n",
       "      <td>0.000000</td>\n",
       "    </tr>\n",
       "    <tr>\n",
       "      <th>18</th>\n",
       "      <td>properati_url</td>\n",
       "      <td>0</td>\n",
       "      <td>0.000000</td>\n",
       "    </tr>\n",
       "    <tr>\n",
       "      <th>19</th>\n",
       "      <td>surface_uncovered_in_m2</td>\n",
       "      <td>0</td>\n",
       "      <td>0.000000</td>\n",
       "    </tr>\n",
       "  </tbody>\n",
       "</table>\n",
       "</div>"
      ],
      "text/plain": [
       "                   column_name  missing_count  missing_ratio\n",
       "0                property_type              0       0.000000\n",
       "1                   place_name              0       0.000000\n",
       "2                   state_name              0       0.000000\n",
       "3                          lat            545       0.294276\n",
       "4                          lon            545       0.294276\n",
       "5                        price              0       0.000000\n",
       "6                     currency              0       0.000000\n",
       "7   price_aprox_local_currency              0       0.000000\n",
       "8              price_aprox_usd              0       0.000000\n",
       "9          surface_total_in_m2              0       0.000000\n",
       "10       surface_covered_in_m2              0       0.000000\n",
       "11            price_usd_per_m2              0       0.000000\n",
       "12                price_per_m2             99       0.053456\n",
       "13                       floor           1785       0.963823\n",
       "14                       rooms              0       0.000000\n",
       "15                    expenses           1195       0.645248\n",
       "16                 description              0       0.000000\n",
       "17                       title              0       0.000000\n",
       "18               properati_url              0       0.000000\n",
       "19     surface_uncovered_in_m2              0       0.000000"
      ]
     },
     "execution_count": 110,
     "metadata": {},
     "output_type": "execute_result"
    }
   ],
   "source": [
    "missing_df = belgrano.isnull().sum(axis=0).reset_index()\n",
    "missing_df.columns = ['column_name', 'missing_count']\n",
    "missing_df['missing_ratio'] = missing_df['missing_count'] / belgrano.shape[0]\n",
    "missing_df# "
   ]
  },
  {
   "cell_type": "markdown",
   "metadata": {},
   "source": [
    "<a id=\"section_exp2\"></a> \n",
    "## expenses (post-room)\n",
    "\n",
    "[volver a TOC](#section_toc)"
   ]
  },
  {
   "cell_type": "code",
   "execution_count": 111,
   "metadata": {},
   "outputs": [
    {
     "name": "stdout",
     "output_type": "stream",
     "text": [
      "Missing de la variable expenses:  1195\n"
     ]
    }
   ],
   "source": [
    "print(\"Missing de la variable expenses: \", belgrano['expenses'].isnull().sum())"
   ]
  },
  {
   "cell_type": "markdown",
   "metadata": {},
   "source": [
    "REGEX"
   ]
  },
  {
   "cell_type": "code",
   "execution_count": 112,
   "metadata": {},
   "outputs": [],
   "source": [
    "pattern_exp = r'(\\b(expensas|expensa)\\b)(\\s)($)(?P<exp>\\d+)'\n",
    "pattern_exp_regex = re.compile(pattern_exp)\n",
    "description_series = belgrano.properati_url.astype(str)\n",
    "resultado_exp = description_series.apply(lambda x: x if x is np.nan else pattern_exp_regex.search(x))\n",
    "exp_match = resultado_exp.apply(lambda x: x if x is None else x.group('exp'))\n"
   ]
  },
  {
   "cell_type": "code",
   "execution_count": 113,
   "metadata": {},
   "outputs": [
    {
     "data": {
      "text/plain": [
       "7         None\n",
       "8         None\n",
       "210       None\n",
       "216       None\n",
       "219       None\n",
       "          ... \n",
       "121094    None\n",
       "121157    None\n",
       "121160    None\n",
       "121209    None\n",
       "121215    None\n",
       "Name: properati_url, Length: 1852, dtype: object"
      ]
     },
     "execution_count": 113,
     "metadata": {},
     "output_type": "execute_result"
    }
   ],
   "source": [
    "exp_match"
   ]
  },
  {
   "cell_type": "markdown",
   "metadata": {},
   "source": [
    "Probamos regex, sin resultados."
   ]
  },
  {
   "cell_type": "markdown",
   "metadata": {},
   "source": [
    "Reemplazamos por media por cantidad de cuartos."
   ]
  },
  {
   "cell_type": "code",
   "execution_count": 114,
   "metadata": {},
   "outputs": [
    {
     "data": {
      "text/plain": [
       "rooms\n",
       "1.0     2600.0\n",
       "2.0     1900.0\n",
       "3.0     3133.0\n",
       "4.0     4000.0\n",
       "5.0    14500.0\n",
       "6.0     3700.0\n",
       "7.0        NaN\n",
       "8.0        NaN\n",
       "Name: expenses, dtype: float64"
      ]
     },
     "execution_count": 114,
     "metadata": {},
     "output_type": "execute_result"
    }
   ],
   "source": [
    "belgrano.groupby(['rooms'])['expenses'].median() #parece mas estable que mean"
   ]
  },
  {
   "cell_type": "code",
   "execution_count": 115,
   "metadata": {
    "scrolled": true
   },
   "outputs": [
    {
     "data": {
      "text/plain": [
       "rooms\n",
       "1.0     2163.875000\n",
       "2.0     2004.828571\n",
       "3.0     5505.084906\n",
       "4.0     5528.051661\n",
       "5.0    14435.208333\n",
       "6.0     3700.000000\n",
       "7.0             NaN\n",
       "8.0             NaN\n",
       "Name: expenses, dtype: float64"
      ]
     },
     "execution_count": 115,
     "metadata": {},
     "output_type": "execute_result"
    }
   ],
   "source": [
    "belgrano.groupby(['rooms'])['expenses'].mean()"
   ]
  },
  {
   "cell_type": "code",
   "execution_count": 116,
   "metadata": {},
   "outputs": [
    {
     "data": {
      "text/plain": [
       "3.0    811\n",
       "4.0    685\n",
       "2.0    148\n",
       "1.0    134\n",
       "5.0     59\n",
       "6.0      7\n",
       "7.0      6\n",
       "8.0      2\n",
       "Name: rooms, dtype: int64"
      ]
     },
     "execution_count": 116,
     "metadata": {},
     "output_type": "execute_result"
    }
   ],
   "source": [
    "belgrano.rooms.value_counts()"
   ]
  },
  {
   "cell_type": "markdown",
   "metadata": {},
   "source": [
    "Decidimos reemplazar los 1078 missing con la **media** de expensas segun la cantidad de cuartos del apartamento.  "
   ]
  },
  {
   "cell_type": "code",
   "execution_count": 117,
   "metadata": {},
   "outputs": [],
   "source": [
    "belgrano['expenses'].fillna(belgrano.groupby(['place_name','rooms'])['expenses'].transform('mean'),inplace=True)"
   ]
  },
  {
   "cell_type": "code",
   "execution_count": 118,
   "metadata": {},
   "outputs": [
    {
     "name": "stdout",
     "output_type": "stream",
     "text": [
      "Missing de la variable expenses:  8\n"
     ]
    }
   ],
   "source": [
    "print(\"Missing de la variable expenses: \", belgrano['expenses'].isnull().sum())"
   ]
  },
  {
   "cell_type": "code",
   "execution_count": 119,
   "metadata": {},
   "outputs": [],
   "source": [
    "belgrano['expenses'].fillna(belgrano['expenses'].mean(),inplace=True)"
   ]
  },
  {
   "cell_type": "code",
   "execution_count": 120,
   "metadata": {},
   "outputs": [
    {
     "name": "stdout",
     "output_type": "stream",
     "text": [
      "Missing de la variable expenses:  0\n"
     ]
    }
   ],
   "source": [
    "print(\"Missing de la variable expenses: \", belgrano['expenses'].isnull().sum())"
   ]
  },
  {
   "cell_type": "code",
   "execution_count": 121,
   "metadata": {},
   "outputs": [
    {
     "name": "stdout",
     "output_type": "stream",
     "text": [
      "count     1852.000000\n",
      "mean      5268.758360\n",
      "std       3900.547996\n",
      "min          1.000000\n",
      "25%       2300.000000\n",
      "50%       5505.084906\n",
      "75%       5528.051661\n",
      "max      54240.000000\n",
      "Name: expenses, dtype: float64\n"
     ]
    },
    {
     "data": {
      "image/png": "[encoded data removed]",
      "text/plain": [
       "<Figure size 720x504 with 1 Axes>"
      ]
     },
     "metadata": {},
     "output_type": "display_data"
    }
   ],
   "source": [
    "print(belgrano.expenses.describe()) \n",
    "sns.distplot(belgrano['expenses'],  color = 'aqua')\n",
    "plt.show()"
   ]
  },
  {
   "cell_type": "code",
   "execution_count": 122,
   "metadata": {},
   "outputs": [
    {
     "data": {
      "text/plain": [
       "<AxesSubplot:xlabel='expenses'>"
      ]
     },
     "execution_count": 122,
     "metadata": {},
     "output_type": "execute_result"
    },
    {
     "data": {
      "image/png": "[encoded data removed]",
      "text/plain": [
       "<Figure size 720x504 with 1 Axes>"
      ]
     },
     "metadata": {},
     "output_type": "display_data"
    }
   ],
   "source": [
    "sns.boxplot(belgrano['expenses'], color = 'aqua')"
   ]
  },
  {
   "cell_type": "markdown",
   "metadata": {},
   "source": [
    "De acuerdo al histograma y box plot, vemos que habria outliers por encima de los 35.000/40.000 aproximadamente."
   ]
  },
  {
   "cell_type": "code",
   "execution_count": 123,
   "metadata": {},
   "outputs": [
    {
     "data": {
      "text/plain": [
       "expenses\n",
       "1.0         34.5\n",
       "250.0       38.0\n",
       "300.0       33.0\n",
       "500.0       32.5\n",
       "590.0       67.0\n",
       "           ...  \n",
       "25000.0    284.0\n",
       "25900.0    278.0\n",
       "29000.0    245.0\n",
       "30000.0    172.0\n",
       "54240.0     83.0\n",
       "Name: surface_covered_in_m2, Length: 205, dtype: float64"
      ]
     },
     "execution_count": 123,
     "metadata": {},
     "output_type": "execute_result"
    }
   ],
   "source": [
    "belgrano.groupby(['expenses'])['surface_covered_in_m2'].median() \n",
    "#hay outliers incoherentes de grandes valores como 54240"
   ]
  },
  {
   "cell_type": "markdown",
   "metadata": {},
   "source": [
    "Aplicamos un LS de 40000."
   ]
  },
  {
   "cell_type": "code",
   "execution_count": 124,
   "metadata": {},
   "outputs": [
    {
     "data": {
      "text/plain": [
       "count     1851.000000\n",
       "mean      5242.301720\n",
       "std       3731.686402\n",
       "min          1.000000\n",
       "25%       2300.000000\n",
       "50%       5505.084906\n",
       "75%       5528.051661\n",
       "max      30000.000000\n",
       "Name: expenses, dtype: float64"
      ]
     },
     "execution_count": 124,
     "metadata": {},
     "output_type": "execute_result"
    }
   ],
   "source": [
    "belgrano = belgrano[belgrano['expenses']<= 40000]\n",
    "#print(bel_exp)\n",
    "belgrano['expenses'].describe()"
   ]
  },
  {
   "cell_type": "markdown",
   "metadata": {},
   "source": [
    "Reemplazamos todos los 1124 de expenses y dropeamos un outlier."
   ]
  },
  {
   "cell_type": "markdown",
   "metadata": {},
   "source": [
    "<a id=\"section_floor\"></a> \n",
    "## floor\n",
    "\n",
    "[volver a TOC](#section_toc)"
   ]
  },
  {
   "cell_type": "code",
   "execution_count": 125,
   "metadata": {},
   "outputs": [
    {
     "data": {
      "text/plain": [
       "(1851, 20)"
      ]
     },
     "execution_count": 125,
     "metadata": {},
     "output_type": "execute_result"
    }
   ],
   "source": [
    "belgrano.shape"
   ]
  },
  {
   "cell_type": "code",
   "execution_count": 126,
   "metadata": {},
   "outputs": [
    {
     "data": {
      "text/plain": [
       "1784"
      ]
     },
     "execution_count": 126,
     "metadata": {},
     "output_type": "execute_result"
    }
   ],
   "source": [
    "belgrano.floor.isnull().sum()"
   ]
  },
  {
   "cell_type": "code",
   "execution_count": 127,
   "metadata": {},
   "outputs": [
    {
     "data": {
      "text/plain": [
       "0.9632606199770379"
      ]
     },
     "execution_count": 127,
     "metadata": {},
     "output_type": "execute_result"
    }
   ],
   "source": [
    "1678/1742"
   ]
  },
  {
   "cell_type": "code",
   "execution_count": 128,
   "metadata": {},
   "outputs": [
    {
     "data": {
      "text/plain": [
       "67"
      ]
     },
     "execution_count": 128,
     "metadata": {},
     "output_type": "execute_result"
    }
   ],
   "source": [
    "belgrano.shape[0]-belgrano.floor.isnull().sum()"
   ]
  },
  {
   "cell_type": "code",
   "execution_count": 129,
   "metadata": {},
   "outputs": [
    {
     "data": {
      "text/plain": [
       "2.0     14\n",
       "1.0     12\n",
       "3.0     10\n",
       "4.0      7\n",
       "5.0      5\n",
       "6.0      5\n",
       "22.0     3\n",
       "7.0      3\n",
       "8.0      2\n",
       "13.0     1\n",
       "14.0     1\n",
       "11.0     1\n",
       "12.0     1\n",
       "17.0     1\n",
       "15.0     1\n",
       "Name: floor, dtype: int64"
      ]
     },
     "execution_count": 129,
     "metadata": {},
     "output_type": "execute_result"
    }
   ],
   "source": [
    "belgrano.floor.value_counts()"
   ]
  },
  {
   "cell_type": "markdown",
   "metadata": {},
   "source": [
    "Para que la variable floor sea utilizable deberiamos imputar 97% de los valores. Seria como \"reinventar\" la variable. Por lo que decicimos no usarla."
   ]
  },
  {
   "cell_type": "markdown",
   "metadata": {},
   "source": [
    "REGEX"
   ]
  },
  {
   "cell_type": "code",
   "execution_count": 130,
   "metadata": {},
   "outputs": [],
   "source": [
    "\n",
    "\n",
    "pattern_exp = r'(\\b(piso|pisos)\\b)(\\s)(?P<piso>\\d+)'\n",
    "pattern_exp_regex = re.compile(pattern_exp)\n",
    "description_series = belgrano.description.astype(str)\n",
    "resultado_exp = description_series.apply(lambda x: x if x is np.nan else pattern_exp_regex.search(x))\n",
    "exp_match = resultado_exp.apply(lambda x: x if x is None else x.group('piso'))\n"
   ]
  },
  {
   "cell_type": "code",
   "execution_count": 131,
   "metadata": {},
   "outputs": [
    {
     "data": {
      "text/plain": [
       "7         None\n",
       "8         None\n",
       "210       None\n",
       "216       None\n",
       "219       None\n",
       "          ... \n",
       "121094    None\n",
       "121157      16\n",
       "121160       1\n",
       "121209       1\n",
       "121215    None\n",
       "Name: description, Length: 1851, dtype: object"
      ]
     },
     "execution_count": 131,
     "metadata": {},
     "output_type": "execute_result"
    }
   ],
   "source": [
    "exp_match"
   ]
  },
  {
   "cell_type": "code",
   "execution_count": 132,
   "metadata": {},
   "outputs": [
    {
     "data": {
      "text/plain": [
       "9     37\n",
       "1     24\n",
       "10    21\n",
       "8     21\n",
       "11    20\n",
       "7      7\n",
       "3      7\n",
       "25     5\n",
       "2      5\n",
       "4      5\n",
       "14     4\n",
       "18     3\n",
       "16     3\n",
       "19     3\n",
       "5      3\n",
       "20     2\n",
       "24     2\n",
       "22     1\n",
       "32     1\n",
       "6      1\n",
       "15     1\n",
       "12     1\n",
       "Name: description, dtype: int64"
      ]
     },
     "execution_count": 132,
     "metadata": {},
     "output_type": "execute_result"
    }
   ],
   "source": [
    "exp_match.value_counts()"
   ]
  },
  {
   "cell_type": "code",
   "execution_count": 133,
   "metadata": {},
   "outputs": [
    {
     "data": {
      "text/plain": [
       "7         None\n",
       "8         None\n",
       "210       None\n",
       "216       None\n",
       "219       None\n",
       "          ... \n",
       "121094    None\n",
       "121157      16\n",
       "121160       1\n",
       "121209       1\n",
       "121215    None\n",
       "Name: floor, Length: 1851, dtype: object"
      ]
     },
     "execution_count": 133,
     "metadata": {},
     "output_type": "execute_result"
    }
   ],
   "source": [
    "belgrano['floor'].fillna(exp_match)"
   ]
  },
  {
   "cell_type": "code",
   "execution_count": 134,
   "metadata": {},
   "outputs": [
    {
     "data": {
      "text/plain": [
       "True     1784\n",
       "False      67\n",
       "Name: floor, dtype: int64"
      ]
     },
     "execution_count": 134,
     "metadata": {},
     "output_type": "execute_result"
    }
   ],
   "source": [
    "belgrano['floor'].isnull().value_counts()"
   ]
  },
  {
   "cell_type": "code",
   "execution_count": 135,
   "metadata": {},
   "outputs": [
    {
     "data": {
      "text/plain": [
       "1784"
      ]
     },
     "execution_count": 135,
     "metadata": {},
     "output_type": "execute_result"
    }
   ],
   "source": [
    "belgrano['floor'].isnull().sum()"
   ]
  },
  {
   "cell_type": "code",
   "execution_count": 136,
   "metadata": {},
   "outputs": [
    {
     "data": {
      "text/plain": [
       "(1851, 19)"
      ]
     },
     "execution_count": 136,
     "metadata": {},
     "output_type": "execute_result"
    }
   ],
   "source": [
    "bel_floor = belgrano.drop(columns=['floor'])\n",
    "bel_floor.shape"
   ]
  },
  {
   "cell_type": "markdown",
   "metadata": {},
   "source": [
    "<a id=\"section_lat_lon\"></a> \n",
    "## lat lon\n",
    "\n",
    "[volver a TOC](#section_toc)"
   ]
  },
  {
   "cell_type": "code",
   "execution_count": 137,
   "metadata": {
    "scrolled": true
   },
   "outputs": [
    {
     "data": {
      "text/plain": [
       "<Figure size 864x864 with 0 Axes>"
      ]
     },
     "metadata": {},
     "output_type": "display_data"
    },
    {
     "data": {
      "image/png": "[encoded data removed]",
      "text/plain": [
       "<Figure size 720x720 with 3 Axes>"
      ]
     },
     "metadata": {},
     "output_type": "display_data"
    }
   ],
   "source": [
    "plt.figure(figsize=(12,12))\n",
    "sns.jointplot(x=df_barrios.lat.values, y=df_barrios.lon.values, height=10)\n",
    "plt.ylabel('Longitude', fontsize=12)\n",
    "plt.xlabel('Latitude', fontsize=12)\n",
    "plt.show()"
   ]
  },
  {
   "cell_type": "markdown",
   "metadata": {},
   "source": [
    "No tenemos claro como imputar los valores faltantes de latitud y longitud. Por lo que decidimos dejarlos. Y en caso de que el modelo a utilizar no permita nulos, los eliminaremos."
   ]
  },
  {
   "cell_type": "code",
   "execution_count": 138,
   "metadata": {},
   "outputs": [
    {
     "data": {
      "text/plain": [
       "(1851, 17)"
      ]
     },
     "execution_count": 138,
     "metadata": {},
     "output_type": "execute_result"
    }
   ],
   "source": [
    "bel_latlon = bel_floor.drop(columns=['lat', 'lon']) # si quisieramos dropearlas.\n",
    "bel_latlon.shape"
   ]
  },
  {
   "cell_type": "markdown",
   "metadata": {},
   "source": [
    "<a id=\"section_duplicados\"></a> \n",
    "## Duplicados\n",
    "\n",
    "[volver a TOC](#section_toc)"
   ]
  },
  {
   "cell_type": "code",
   "execution_count": 139,
   "metadata": {},
   "outputs": [
    {
     "name": "stdout",
     "output_type": "stream",
     "text": [
      "Duplicate Rows :\n"
     ]
    },
    {
     "data": {
      "text/plain": [
       "(0, 19)"
      ]
     },
     "execution_count": 139,
     "metadata": {},
     "output_type": "execute_result"
    }
   ],
   "source": [
    "duplicate = bel_floor[bel_floor.duplicated()] \n",
    "print(\"Duplicate Rows :\")  \n",
    "# Print the resultant Dataframe \n",
    "duplicate.shape"
   ]
  },
  {
   "cell_type": "markdown",
   "metadata": {},
   "source": [
    "Encontramos 18 filas repetidas. Las eliminamos."
   ]
  },
  {
   "cell_type": "code",
   "execution_count": 140,
   "metadata": {},
   "outputs": [
    {
     "name": "stdout",
     "output_type": "stream",
     "text": [
      "tam con duplicados:  (1851, 20)\n",
      "tam sin duplicados:  (1851, 19)\n"
     ]
    }
   ],
   "source": [
    "bel_nodup = bel_floor.drop_duplicates(keep=\"first\")\n",
    "print(\"tam con duplicados: \", belgrano.shape)\n",
    "print(\"tam sin duplicados: \", bel_nodup.shape)"
   ]
  },
  {
   "cell_type": "markdown",
   "metadata": {},
   "source": [
    "<a id=\"section_exterior\"></a> \n",
    "## Exterior_True\n",
    "\n",
    "Creamos una nueva variable dummy, que indica si la propiedad tiene espacio al aire libre o no.\n",
    "\n",
    "[volver a TOC](#section_toc)"
   ]
  },
  {
   "cell_type": "code",
   "execution_count": 141,
   "metadata": {
    "scrolled": false
   },
   "outputs": [
    {
     "data": {
      "text/html": [
       "<div>\n",
       "<style scoped>\n",
       "    .dataframe tbody tr th:only-of-type {\n",
       "        vertical-align: middle;\n",
       "    }\n",
       "\n",
       "    .dataframe tbody tr th {\n",
       "        vertical-align: top;\n",
       "    }\n",
       "\n",
       "    .dataframe thead th {\n",
       "        text-align: right;\n",
       "    }\n",
       "</style>\n",
       "<table border=\"1\" class=\"dataframe\">\n",
       "  <thead>\n",
       "    <tr style=\"text-align: right;\">\n",
       "      <th></th>\n",
       "      <th>property_type</th>\n",
       "      <th>place_name</th>\n",
       "      <th>state_name</th>\n",
       "      <th>lat</th>\n",
       "      <th>lon</th>\n",
       "      <th>price</th>\n",
       "      <th>currency</th>\n",
       "      <th>price_aprox_local_currency</th>\n",
       "      <th>price_aprox_usd</th>\n",
       "      <th>surface_total_in_m2</th>\n",
       "      <th>surface_covered_in_m2</th>\n",
       "      <th>price_usd_per_m2</th>\n",
       "      <th>price_per_m2</th>\n",
       "      <th>rooms</th>\n",
       "      <th>expenses</th>\n",
       "      <th>description</th>\n",
       "      <th>title</th>\n",
       "      <th>properati_url</th>\n",
       "      <th>surface_uncovered_in_m2</th>\n",
       "      <th>Exterior_True</th>\n",
       "    </tr>\n",
       "  </thead>\n",
       "  <tbody>\n",
       "    <tr>\n",
       "      <th>7</th>\n",
       "      <td>apartment</td>\n",
       "      <td>Belgrano</td>\n",
       "      <td>Capital Federal</td>\n",
       "      <td>-34.559873</td>\n",
       "      <td>-58.443362</td>\n",
       "      <td>138000.0</td>\n",
       "      <td>USD</td>\n",
       "      <td>2434941.0</td>\n",
       "      <td>138000.0</td>\n",
       "      <td>45.0</td>\n",
       "      <td>40.0</td>\n",
       "      <td>3066.666667</td>\n",
       "      <td>3450.000000</td>\n",
       "      <td>4.0</td>\n",
       "      <td>5528.051661</td>\n",
       "      <td>EXCELENTE MONOAMBIENTE A ESTRENAR AMPLIO SUPER...</td>\n",
       "      <td>JOSE HERNANDEZ 1400 MONOAMBIENTE  ESTRENAR CAT...</td>\n",
       "      <td>http://www.properati.com.ar/15bot_venta_depart...</td>\n",
       "      <td>5.0</td>\n",
       "      <td>1</td>\n",
       "    </tr>\n",
       "    <tr>\n",
       "      <th>8</th>\n",
       "      <td>apartment</td>\n",
       "      <td>Belgrano</td>\n",
       "      <td>Capital Federal</td>\n",
       "      <td>-34.559873</td>\n",
       "      <td>-58.443362</td>\n",
       "      <td>195000.0</td>\n",
       "      <td>USD</td>\n",
       "      <td>3440677.5</td>\n",
       "      <td>195000.0</td>\n",
       "      <td>65.0</td>\n",
       "      <td>60.0</td>\n",
       "      <td>3000.000000</td>\n",
       "      <td>3250.000000</td>\n",
       "      <td>3.0</td>\n",
       "      <td>5505.084906</td>\n",
       "      <td>EXCELENTE DOS AMBIENTES  ESTRENAR AMPLIO SUPER...</td>\n",
       "      <td>JOSE HERNANDEZ   1400 DOS AMBIENTES ESTRENAR ,...</td>\n",
       "      <td>http://www.properati.com.ar/15bou_venta_depart...</td>\n",
       "      <td>5.0</td>\n",
       "      <td>1</td>\n",
       "    </tr>\n",
       "    <tr>\n",
       "      <th>210</th>\n",
       "      <td>apartment</td>\n",
       "      <td>Belgrano</td>\n",
       "      <td>Capital Federal</td>\n",
       "      <td>-34.562084</td>\n",
       "      <td>-58.456686</td>\n",
       "      <td>240000.0</td>\n",
       "      <td>USD</td>\n",
       "      <td>4234680.0</td>\n",
       "      <td>240000.0</td>\n",
       "      <td>57.0</td>\n",
       "      <td>54.0</td>\n",
       "      <td>4210.526316</td>\n",
       "      <td>4444.444444</td>\n",
       "      <td>2.0</td>\n",
       "      <td>2004.828571</td>\n",
       "      <td>DUPLEX CON COCHERA FIJA CUBIERTA 3 AÑOS DE ANT...</td>\n",
       "      <td>2 Ambientes Venta Belgrano Cochera Cubierta</td>\n",
       "      <td>http://www.properati.com.ar/15dic_venta_depart...</td>\n",
       "      <td>3.0</td>\n",
       "      <td>1</td>\n",
       "    </tr>\n",
       "  </tbody>\n",
       "</table>\n",
       "</div>"
      ],
      "text/plain": [
       "    property_type place_name       state_name        lat        lon     price  \\\n",
       "7       apartment   Belgrano  Capital Federal -34.559873 -58.443362  138000.0   \n",
       "8       apartment   Belgrano  Capital Federal -34.559873 -58.443362  195000.0   \n",
       "210     apartment   Belgrano  Capital Federal -34.562084 -58.456686  240000.0   \n",
       "\n",
       "    currency  price_aprox_local_currency  price_aprox_usd  \\\n",
       "7        USD                   2434941.0         138000.0   \n",
       "8        USD                   3440677.5         195000.0   \n",
       "210      USD                   4234680.0         240000.0   \n",
       "\n",
       "     surface_total_in_m2  surface_covered_in_m2  price_usd_per_m2  \\\n",
       "7                   45.0                   40.0       3066.666667   \n",
       "8                   65.0                   60.0       3000.000000   \n",
       "210                 57.0                   54.0       4210.526316   \n",
       "\n",
       "     price_per_m2  rooms     expenses  \\\n",
       "7     3450.000000    4.0  5528.051661   \n",
       "8     3250.000000    3.0  5505.084906   \n",
       "210   4444.444444    2.0  2004.828571   \n",
       "\n",
       "                                           description  \\\n",
       "7    EXCELENTE MONOAMBIENTE A ESTRENAR AMPLIO SUPER...   \n",
       "8    EXCELENTE DOS AMBIENTES  ESTRENAR AMPLIO SUPER...   \n",
       "210  DUPLEX CON COCHERA FIJA CUBIERTA 3 AÑOS DE ANT...   \n",
       "\n",
       "                                                 title  \\\n",
       "7    JOSE HERNANDEZ 1400 MONOAMBIENTE  ESTRENAR CAT...   \n",
       "8    JOSE HERNANDEZ   1400 DOS AMBIENTES ESTRENAR ,...   \n",
       "210        2 Ambientes Venta Belgrano Cochera Cubierta   \n",
       "\n",
       "                                         properati_url  \\\n",
       "7    http://www.properati.com.ar/15bot_venta_depart...   \n",
       "8    http://www.properati.com.ar/15bou_venta_depart...   \n",
       "210  http://www.properati.com.ar/15dic_venta_depart...   \n",
       "\n",
       "     surface_uncovered_in_m2  Exterior_True  \n",
       "7                        5.0              1  \n",
       "8                        5.0              1  \n",
       "210                      3.0              1  "
      ]
     },
     "execution_count": 141,
     "metadata": {},
     "output_type": "execute_result"
    }
   ],
   "source": [
    "#Dummy exterior\n",
    "bel_dummy = bel_nodup \n",
    "mask_exterior = (bel_dummy['surface_total_in_m2'] - bel_dummy['surface_covered_in_m2']) > 0\n",
    "dummies_exterior = pd.get_dummies(mask_exterior, prefix='Exterior', drop_first=True)\n",
    "bel_dummy = bel_dummy.join(dummies_exterior)\n",
    "bel_dummy.head(3)"
   ]
  },
  {
   "cell_type": "code",
   "execution_count": 142,
   "metadata": {},
   "outputs": [
    {
     "data": {
      "text/plain": [
       "1    1470\n",
       "0     381\n",
       "Name: Exterior_True, dtype: int64"
      ]
     },
     "execution_count": 142,
     "metadata": {},
     "output_type": "execute_result"
    }
   ],
   "source": [
    "bel_dummy.Exterior_True.value_counts()"
   ]
  },
  {
   "cell_type": "code",
   "execution_count": 143,
   "metadata": {},
   "outputs": [
    {
     "data": {
      "text/plain": [
       "(1851, 20)"
      ]
     },
     "execution_count": 143,
     "metadata": {},
     "output_type": "execute_result"
    }
   ],
   "source": [
    "bel_dummy.shape"
   ]
  },
  {
   "cell_type": "code",
   "execution_count": 144,
   "metadata": {},
   "outputs": [
    {
     "data": {
      "text/plain": [
       "0.8459214501510574"
      ]
     },
     "execution_count": 144,
     "metadata": {},
     "output_type": "execute_result"
    }
   ],
   "source": [
    "1400/1655"
   ]
  },
  {
   "cell_type": "markdown",
   "metadata": {},
   "source": [
    "El 85% de las propiedades tienen un espacio exterior, ya sea un balcon, jardin, etc."
   ]
  },
  {
   "cell_type": "markdown",
   "metadata": {},
   "source": [
    "<a id=\"section_pileta\"></a> \n",
    "## Pileta  \n",
    "\n",
    "Creamos una nueva variable dummy, que indica si la propiedad tiene pileta o no.\n",
    "\n",
    "[volver a TOC](#section_toc)\n"
   ]
  },
  {
   "cell_type": "code",
   "execution_count": 145,
   "metadata": {},
   "outputs": [
    {
     "data": {
      "text/plain": [
       "7           None\n",
       "8           None\n",
       "210         None\n",
       "216         None\n",
       "219       pileta\n",
       "           ...  \n",
       "121094      None\n",
       "121157      None\n",
       "121160      None\n",
       "121209      None\n",
       "121215    pileta\n",
       "Name: description, Length: 1851, dtype: object"
      ]
     },
     "execution_count": 145,
     "metadata": {},
     "output_type": "execute_result"
    }
   ],
   "source": [
    "# Expresiones regulares\n",
    "import re\n",
    "pattern_pileta = \"(?P<pile>[pP]ileta)\"\n",
    "pattern_pileta_regex = re.compile(pattern_pileta)\n",
    "description_series = bel_dummy.description.astype(str)\n",
    "resultado_pileta = description_series.apply(lambda x: x if x is np.nan else pattern_pileta_regex.search(x))\n",
    "pileta_match = resultado_pileta.apply(lambda x: x if x is None else x.group('pile'))\n",
    "pileta_match\n"
   ]
  },
  {
   "cell_type": "code",
   "execution_count": 146,
   "metadata": {},
   "outputs": [
    {
     "data": {
      "text/plain": [
       "7           None\n",
       "8           None\n",
       "210         None\n",
       "216         None\n",
       "219       Pileta\n",
       "           ...  \n",
       "121094      None\n",
       "121157      None\n",
       "121160      None\n",
       "121209      None\n",
       "121215    Pileta\n",
       "Name: description, Length: 1851, dtype: object"
      ]
     },
     "execution_count": 146,
     "metadata": {},
     "output_type": "execute_result"
    }
   ],
   "source": [
    "pileta_match.replace('pileta', 'Pileta', inplace = True)\n",
    "pileta_match"
   ]
  },
  {
   "cell_type": "code",
   "execution_count": 147,
   "metadata": {
    "scrolled": true
   },
   "outputs": [
    {
     "data": {
      "text/html": [
       "<div>\n",
       "<style scoped>\n",
       "    .dataframe tbody tr th:only-of-type {\n",
       "        vertical-align: middle;\n",
       "    }\n",
       "\n",
       "    .dataframe tbody tr th {\n",
       "        vertical-align: top;\n",
       "    }\n",
       "\n",
       "    .dataframe thead th {\n",
       "        text-align: right;\n",
       "    }\n",
       "</style>\n",
       "<table border=\"1\" class=\"dataframe\">\n",
       "  <thead>\n",
       "    <tr style=\"text-align: right;\">\n",
       "      <th></th>\n",
       "      <th>property_type</th>\n",
       "      <th>place_name</th>\n",
       "      <th>state_name</th>\n",
       "      <th>lat</th>\n",
       "      <th>lon</th>\n",
       "      <th>price</th>\n",
       "      <th>currency</th>\n",
       "      <th>price_aprox_local_currency</th>\n",
       "      <th>price_aprox_usd</th>\n",
       "      <th>surface_total_in_m2</th>\n",
       "      <th>...</th>\n",
       "      <th>price_usd_per_m2</th>\n",
       "      <th>price_per_m2</th>\n",
       "      <th>rooms</th>\n",
       "      <th>expenses</th>\n",
       "      <th>description</th>\n",
       "      <th>title</th>\n",
       "      <th>properati_url</th>\n",
       "      <th>surface_uncovered_in_m2</th>\n",
       "      <th>Exterior_True</th>\n",
       "      <th>Pileta</th>\n",
       "    </tr>\n",
       "  </thead>\n",
       "  <tbody>\n",
       "    <tr>\n",
       "      <th>7</th>\n",
       "      <td>apartment</td>\n",
       "      <td>Belgrano</td>\n",
       "      <td>Capital Federal</td>\n",
       "      <td>-34.559873</td>\n",
       "      <td>-58.443362</td>\n",
       "      <td>138000.0</td>\n",
       "      <td>USD</td>\n",
       "      <td>2434941.0</td>\n",
       "      <td>138000.0</td>\n",
       "      <td>45.0</td>\n",
       "      <td>...</td>\n",
       "      <td>3066.666667</td>\n",
       "      <td>3450.0</td>\n",
       "      <td>4.0</td>\n",
       "      <td>5528.051661</td>\n",
       "      <td>EXCELENTE MONOAMBIENTE A ESTRENAR AMPLIO SUPER...</td>\n",
       "      <td>JOSE HERNANDEZ 1400 MONOAMBIENTE  ESTRENAR CAT...</td>\n",
       "      <td>http://www.properati.com.ar/15bot_venta_depart...</td>\n",
       "      <td>5.0</td>\n",
       "      <td>1</td>\n",
       "      <td>None</td>\n",
       "    </tr>\n",
       "    <tr>\n",
       "      <th>8</th>\n",
       "      <td>apartment</td>\n",
       "      <td>Belgrano</td>\n",
       "      <td>Capital Federal</td>\n",
       "      <td>-34.559873</td>\n",
       "      <td>-58.443362</td>\n",
       "      <td>195000.0</td>\n",
       "      <td>USD</td>\n",
       "      <td>3440677.5</td>\n",
       "      <td>195000.0</td>\n",
       "      <td>65.0</td>\n",
       "      <td>...</td>\n",
       "      <td>3000.000000</td>\n",
       "      <td>3250.0</td>\n",
       "      <td>3.0</td>\n",
       "      <td>5505.084906</td>\n",
       "      <td>EXCELENTE DOS AMBIENTES  ESTRENAR AMPLIO SUPER...</td>\n",
       "      <td>JOSE HERNANDEZ   1400 DOS AMBIENTES ESTRENAR ,...</td>\n",
       "      <td>http://www.properati.com.ar/15bou_venta_depart...</td>\n",
       "      <td>5.0</td>\n",
       "      <td>1</td>\n",
       "      <td>None</td>\n",
       "    </tr>\n",
       "  </tbody>\n",
       "</table>\n",
       "<p>2 rows × 21 columns</p>\n",
       "</div>"
      ],
      "text/plain": [
       "  property_type place_name       state_name        lat        lon     price  \\\n",
       "7     apartment   Belgrano  Capital Federal -34.559873 -58.443362  138000.0   \n",
       "8     apartment   Belgrano  Capital Federal -34.559873 -58.443362  195000.0   \n",
       "\n",
       "  currency  price_aprox_local_currency  price_aprox_usd  surface_total_in_m2  \\\n",
       "7      USD                   2434941.0         138000.0                 45.0   \n",
       "8      USD                   3440677.5         195000.0                 65.0   \n",
       "\n",
       "   ...  price_usd_per_m2  price_per_m2  rooms     expenses  \\\n",
       "7  ...       3066.666667        3450.0    4.0  5528.051661   \n",
       "8  ...       3000.000000        3250.0    3.0  5505.084906   \n",
       "\n",
       "                                         description  \\\n",
       "7  EXCELENTE MONOAMBIENTE A ESTRENAR AMPLIO SUPER...   \n",
       "8  EXCELENTE DOS AMBIENTES  ESTRENAR AMPLIO SUPER...   \n",
       "\n",
       "                                               title  \\\n",
       "7  JOSE HERNANDEZ 1400 MONOAMBIENTE  ESTRENAR CAT...   \n",
       "8  JOSE HERNANDEZ   1400 DOS AMBIENTES ESTRENAR ,...   \n",
       "\n",
       "                                       properati_url surface_uncovered_in_m2  \\\n",
       "7  http://www.properati.com.ar/15bot_venta_depart...                     5.0   \n",
       "8  http://www.properati.com.ar/15bou_venta_depart...                     5.0   \n",
       "\n",
       "   Exterior_True  Pileta  \n",
       "7              1    None  \n",
       "8              1    None  \n",
       "\n",
       "[2 rows x 21 columns]"
      ]
     },
     "execution_count": 147,
     "metadata": {},
     "output_type": "execute_result"
    }
   ],
   "source": [
    "bel_dummy['Pileta'] = pileta_match\n",
    "bel_dummy.head(2)"
   ]
  },
  {
   "cell_type": "code",
   "execution_count": 148,
   "metadata": {},
   "outputs": [
    {
     "data": {
      "text/plain": [
       "Pileta    142\n",
       "Name: Pileta, dtype: int64"
      ]
     },
     "execution_count": 148,
     "metadata": {},
     "output_type": "execute_result"
    }
   ],
   "source": [
    "bel_dummy.Pileta.value_counts()"
   ]
  },
  {
   "cell_type": "code",
   "execution_count": 149,
   "metadata": {},
   "outputs": [
    {
     "data": {
      "text/plain": [
       "(1851, 21)"
      ]
     },
     "execution_count": 149,
     "metadata": {},
     "output_type": "execute_result"
    }
   ],
   "source": [
    "bel_dummy.shape"
   ]
  },
  {
   "cell_type": "code",
   "execution_count": 150,
   "metadata": {},
   "outputs": [
    {
     "data": {
      "text/plain": [
       "7         False\n",
       "8         False\n",
       "210       False\n",
       "216       False\n",
       "219        True\n",
       "          ...  \n",
       "121094    False\n",
       "121157    False\n",
       "121160    False\n",
       "121209    False\n",
       "121215     True\n",
       "Name: Pileta, Length: 1851, dtype: bool"
      ]
     },
     "execution_count": 150,
     "metadata": {},
     "output_type": "execute_result"
    }
   ],
   "source": [
    "bel_dummies = bel_dummy \n",
    "mask_pileta = bel_dummies['Pileta'] == \"Pileta\"\n",
    "mask_pileta"
   ]
  },
  {
   "cell_type": "code",
   "execution_count": 151,
   "metadata": {},
   "outputs": [
    {
     "data": {
      "text/html": [
       "<div>\n",
       "<style scoped>\n",
       "    .dataframe tbody tr th:only-of-type {\n",
       "        vertical-align: middle;\n",
       "    }\n",
       "\n",
       "    .dataframe tbody tr th {\n",
       "        vertical-align: top;\n",
       "    }\n",
       "\n",
       "    .dataframe thead th {\n",
       "        text-align: right;\n",
       "    }\n",
       "</style>\n",
       "<table border=\"1\" class=\"dataframe\">\n",
       "  <thead>\n",
       "    <tr style=\"text-align: right;\">\n",
       "      <th></th>\n",
       "      <th>property_type</th>\n",
       "      <th>place_name</th>\n",
       "      <th>state_name</th>\n",
       "      <th>lat</th>\n",
       "      <th>lon</th>\n",
       "      <th>price</th>\n",
       "      <th>currency</th>\n",
       "      <th>price_aprox_local_currency</th>\n",
       "      <th>price_aprox_usd</th>\n",
       "      <th>surface_total_in_m2</th>\n",
       "      <th>...</th>\n",
       "      <th>price_per_m2</th>\n",
       "      <th>rooms</th>\n",
       "      <th>expenses</th>\n",
       "      <th>description</th>\n",
       "      <th>title</th>\n",
       "      <th>properati_url</th>\n",
       "      <th>surface_uncovered_in_m2</th>\n",
       "      <th>Exterior_True</th>\n",
       "      <th>Pileta</th>\n",
       "      <th>Pileta_True</th>\n",
       "    </tr>\n",
       "  </thead>\n",
       "  <tbody>\n",
       "    <tr>\n",
       "      <th>7</th>\n",
       "      <td>apartment</td>\n",
       "      <td>Belgrano</td>\n",
       "      <td>Capital Federal</td>\n",
       "      <td>-34.559873</td>\n",
       "      <td>-58.443362</td>\n",
       "      <td>138000.0</td>\n",
       "      <td>USD</td>\n",
       "      <td>2434941.0</td>\n",
       "      <td>138000.0</td>\n",
       "      <td>45.0</td>\n",
       "      <td>...</td>\n",
       "      <td>3450.000000</td>\n",
       "      <td>4.0</td>\n",
       "      <td>5528.051661</td>\n",
       "      <td>EXCELENTE MONOAMBIENTE A ESTRENAR AMPLIO SUPER...</td>\n",
       "      <td>JOSE HERNANDEZ 1400 MONOAMBIENTE  ESTRENAR CAT...</td>\n",
       "      <td>http://www.properati.com.ar/15bot_venta_depart...</td>\n",
       "      <td>5.0</td>\n",
       "      <td>1</td>\n",
       "      <td>None</td>\n",
       "      <td>0</td>\n",
       "    </tr>\n",
       "    <tr>\n",
       "      <th>8</th>\n",
       "      <td>apartment</td>\n",
       "      <td>Belgrano</td>\n",
       "      <td>Capital Federal</td>\n",
       "      <td>-34.559873</td>\n",
       "      <td>-58.443362</td>\n",
       "      <td>195000.0</td>\n",
       "      <td>USD</td>\n",
       "      <td>3440677.5</td>\n",
       "      <td>195000.0</td>\n",
       "      <td>65.0</td>\n",
       "      <td>...</td>\n",
       "      <td>3250.000000</td>\n",
       "      <td>3.0</td>\n",
       "      <td>5505.084906</td>\n",
       "      <td>EXCELENTE DOS AMBIENTES  ESTRENAR AMPLIO SUPER...</td>\n",
       "      <td>JOSE HERNANDEZ   1400 DOS AMBIENTES ESTRENAR ,...</td>\n",
       "      <td>http://www.properati.com.ar/15bou_venta_depart...</td>\n",
       "      <td>5.0</td>\n",
       "      <td>1</td>\n",
       "      <td>None</td>\n",
       "      <td>0</td>\n",
       "    </tr>\n",
       "    <tr>\n",
       "      <th>210</th>\n",
       "      <td>apartment</td>\n",
       "      <td>Belgrano</td>\n",
       "      <td>Capital Federal</td>\n",
       "      <td>-34.562084</td>\n",
       "      <td>-58.456686</td>\n",
       "      <td>240000.0</td>\n",
       "      <td>USD</td>\n",
       "      <td>4234680.0</td>\n",
       "      <td>240000.0</td>\n",
       "      <td>57.0</td>\n",
       "      <td>...</td>\n",
       "      <td>4444.444444</td>\n",
       "      <td>2.0</td>\n",
       "      <td>2004.828571</td>\n",
       "      <td>DUPLEX CON COCHERA FIJA CUBIERTA 3 AÑOS DE ANT...</td>\n",
       "      <td>2 Ambientes Venta Belgrano Cochera Cubierta</td>\n",
       "      <td>http://www.properati.com.ar/15dic_venta_depart...</td>\n",
       "      <td>3.0</td>\n",
       "      <td>1</td>\n",
       "      <td>None</td>\n",
       "      <td>0</td>\n",
       "    </tr>\n",
       "  </tbody>\n",
       "</table>\n",
       "<p>3 rows × 22 columns</p>\n",
       "</div>"
      ],
      "text/plain": [
       "    property_type place_name       state_name        lat        lon     price  \\\n",
       "7       apartment   Belgrano  Capital Federal -34.559873 -58.443362  138000.0   \n",
       "8       apartment   Belgrano  Capital Federal -34.559873 -58.443362  195000.0   \n",
       "210     apartment   Belgrano  Capital Federal -34.562084 -58.456686  240000.0   \n",
       "\n",
       "    currency  price_aprox_local_currency  price_aprox_usd  \\\n",
       "7        USD                   2434941.0         138000.0   \n",
       "8        USD                   3440677.5         195000.0   \n",
       "210      USD                   4234680.0         240000.0   \n",
       "\n",
       "     surface_total_in_m2  ...  price_per_m2  rooms     expenses  \\\n",
       "7                   45.0  ...   3450.000000    4.0  5528.051661   \n",
       "8                   65.0  ...   3250.000000    3.0  5505.084906   \n",
       "210                 57.0  ...   4444.444444    2.0  2004.828571   \n",
       "\n",
       "                                           description  \\\n",
       "7    EXCELENTE MONOAMBIENTE A ESTRENAR AMPLIO SUPER...   \n",
       "8    EXCELENTE DOS AMBIENTES  ESTRENAR AMPLIO SUPER...   \n",
       "210  DUPLEX CON COCHERA FIJA CUBIERTA 3 AÑOS DE ANT...   \n",
       "\n",
       "                                                 title  \\\n",
       "7    JOSE HERNANDEZ 1400 MONOAMBIENTE  ESTRENAR CAT...   \n",
       "8    JOSE HERNANDEZ   1400 DOS AMBIENTES ESTRENAR ,...   \n",
       "210        2 Ambientes Venta Belgrano Cochera Cubierta   \n",
       "\n",
       "                                         properati_url  \\\n",
       "7    http://www.properati.com.ar/15bot_venta_depart...   \n",
       "8    http://www.properati.com.ar/15bou_venta_depart...   \n",
       "210  http://www.properati.com.ar/15dic_venta_depart...   \n",
       "\n",
       "    surface_uncovered_in_m2 Exterior_True  Pileta  Pileta_True  \n",
       "7                       5.0             1    None            0  \n",
       "8                       5.0             1    None            0  \n",
       "210                     3.0             1    None            0  \n",
       "\n",
       "[3 rows x 22 columns]"
      ]
     },
     "execution_count": 151,
     "metadata": {},
     "output_type": "execute_result"
    }
   ],
   "source": [
    "dummies_pileta = pd.get_dummies(mask_pileta, prefix='Pileta', drop_first=True)\n",
    "bel_dummies = bel_dummies.join(dummies_pileta)\n",
    "bel_dummies.head(3)"
   ]
  },
  {
   "cell_type": "code",
   "execution_count": 152,
   "metadata": {},
   "outputs": [
    {
     "name": "stdout",
     "output_type": "stream",
     "text": [
      "(1851, 21)\n"
     ]
    },
    {
     "data": {
      "text/html": [
       "<div>\n",
       "<style scoped>\n",
       "    .dataframe tbody tr th:only-of-type {\n",
       "        vertical-align: middle;\n",
       "    }\n",
       "\n",
       "    .dataframe tbody tr th {\n",
       "        vertical-align: top;\n",
       "    }\n",
       "\n",
       "    .dataframe thead th {\n",
       "        text-align: right;\n",
       "    }\n",
       "</style>\n",
       "<table border=\"1\" class=\"dataframe\">\n",
       "  <thead>\n",
       "    <tr style=\"text-align: right;\">\n",
       "      <th></th>\n",
       "      <th>property_type</th>\n",
       "      <th>place_name</th>\n",
       "      <th>state_name</th>\n",
       "      <th>lat</th>\n",
       "      <th>lon</th>\n",
       "      <th>price</th>\n",
       "      <th>currency</th>\n",
       "      <th>price_aprox_local_currency</th>\n",
       "      <th>price_aprox_usd</th>\n",
       "      <th>surface_total_in_m2</th>\n",
       "      <th>...</th>\n",
       "      <th>price_usd_per_m2</th>\n",
       "      <th>price_per_m2</th>\n",
       "      <th>rooms</th>\n",
       "      <th>expenses</th>\n",
       "      <th>description</th>\n",
       "      <th>title</th>\n",
       "      <th>properati_url</th>\n",
       "      <th>surface_uncovered_in_m2</th>\n",
       "      <th>Exterior_True</th>\n",
       "      <th>Pileta_True</th>\n",
       "    </tr>\n",
       "  </thead>\n",
       "  <tbody>\n",
       "    <tr>\n",
       "      <th>7</th>\n",
       "      <td>apartment</td>\n",
       "      <td>Belgrano</td>\n",
       "      <td>Capital Federal</td>\n",
       "      <td>-34.559873</td>\n",
       "      <td>-58.443362</td>\n",
       "      <td>138000.0</td>\n",
       "      <td>USD</td>\n",
       "      <td>2434941.0</td>\n",
       "      <td>138000.0</td>\n",
       "      <td>45.0</td>\n",
       "      <td>...</td>\n",
       "      <td>3066.666667</td>\n",
       "      <td>3450.0</td>\n",
       "      <td>4.0</td>\n",
       "      <td>5528.051661</td>\n",
       "      <td>EXCELENTE MONOAMBIENTE A ESTRENAR AMPLIO SUPER...</td>\n",
       "      <td>JOSE HERNANDEZ 1400 MONOAMBIENTE  ESTRENAR CAT...</td>\n",
       "      <td>http://www.properati.com.ar/15bot_venta_depart...</td>\n",
       "      <td>5.0</td>\n",
       "      <td>1</td>\n",
       "      <td>0</td>\n",
       "    </tr>\n",
       "    <tr>\n",
       "      <th>8</th>\n",
       "      <td>apartment</td>\n",
       "      <td>Belgrano</td>\n",
       "      <td>Capital Federal</td>\n",
       "      <td>-34.559873</td>\n",
       "      <td>-58.443362</td>\n",
       "      <td>195000.0</td>\n",
       "      <td>USD</td>\n",
       "      <td>3440677.5</td>\n",
       "      <td>195000.0</td>\n",
       "      <td>65.0</td>\n",
       "      <td>...</td>\n",
       "      <td>3000.000000</td>\n",
       "      <td>3250.0</td>\n",
       "      <td>3.0</td>\n",
       "      <td>5505.084906</td>\n",
       "      <td>EXCELENTE DOS AMBIENTES  ESTRENAR AMPLIO SUPER...</td>\n",
       "      <td>JOSE HERNANDEZ   1400 DOS AMBIENTES ESTRENAR ,...</td>\n",
       "      <td>http://www.properati.com.ar/15bou_venta_depart...</td>\n",
       "      <td>5.0</td>\n",
       "      <td>1</td>\n",
       "      <td>0</td>\n",
       "    </tr>\n",
       "  </tbody>\n",
       "</table>\n",
       "<p>2 rows × 21 columns</p>\n",
       "</div>"
      ],
      "text/plain": [
       "  property_type place_name       state_name        lat        lon     price  \\\n",
       "7     apartment   Belgrano  Capital Federal -34.559873 -58.443362  138000.0   \n",
       "8     apartment   Belgrano  Capital Federal -34.559873 -58.443362  195000.0   \n",
       "\n",
       "  currency  price_aprox_local_currency  price_aprox_usd  surface_total_in_m2  \\\n",
       "7      USD                   2434941.0         138000.0                 45.0   \n",
       "8      USD                   3440677.5         195000.0                 65.0   \n",
       "\n",
       "   ...  price_usd_per_m2  price_per_m2  rooms     expenses  \\\n",
       "7  ...       3066.666667        3450.0    4.0  5528.051661   \n",
       "8  ...       3000.000000        3250.0    3.0  5505.084906   \n",
       "\n",
       "                                         description  \\\n",
       "7  EXCELENTE MONOAMBIENTE A ESTRENAR AMPLIO SUPER...   \n",
       "8  EXCELENTE DOS AMBIENTES  ESTRENAR AMPLIO SUPER...   \n",
       "\n",
       "                                               title  \\\n",
       "7  JOSE HERNANDEZ 1400 MONOAMBIENTE  ESTRENAR CAT...   \n",
       "8  JOSE HERNANDEZ   1400 DOS AMBIENTES ESTRENAR ,...   \n",
       "\n",
       "                                       properati_url surface_uncovered_in_m2  \\\n",
       "7  http://www.properati.com.ar/15bot_venta_depart...                     5.0   \n",
       "8  http://www.properati.com.ar/15bou_venta_depart...                     5.0   \n",
       "\n",
       "   Exterior_True  Pileta_True  \n",
       "7              1            0  \n",
       "8              1            0  \n",
       "\n",
       "[2 rows x 21 columns]"
      ]
     },
     "execution_count": 152,
     "metadata": {},
     "output_type": "execute_result"
    }
   ],
   "source": [
    "bel_dummies = bel_dummies.drop(columns=['Pileta'])\n",
    "print(bel_dummies.shape)\n",
    "bel_dummies.head(2)"
   ]
  },
  {
   "cell_type": "code",
   "execution_count": 153,
   "metadata": {},
   "outputs": [
    {
     "data": {
      "text/plain": [
       "0    1709\n",
       "1     142\n",
       "Name: Pileta_True, dtype: int64"
      ]
     },
     "execution_count": 153,
     "metadata": {},
     "output_type": "execute_result"
    }
   ],
   "source": [
    "bel_dummies.Pileta_True.value_counts()"
   ]
  },
  {
   "cell_type": "code",
   "execution_count": 154,
   "metadata": {},
   "outputs": [
    {
     "data": {
      "text/plain": [
       "0.07607282184655396"
      ]
     },
     "execution_count": 154,
     "metadata": {},
     "output_type": "execute_result"
    }
   ],
   "source": [
    "117/1538"
   ]
  },
  {
   "cell_type": "markdown",
   "metadata": {},
   "source": [
    "Si bien encontramos muy pocas propiedades con pileta (0,7%), fue un buen ejercicio para practicar expresiones regulares. Buscaremos otra amenities que quizas si tengan mas registros."
   ]
  },
  {
   "cell_type": "markdown",
   "metadata": {},
   "source": [
    "<a id=\"section_coch\"></a> \n",
    "## Cochera\n",
    "\n",
    "Creamos una nueva variable dummy, que indica si la propiedad tiene pileta o no.\n",
    "\n",
    "[volver a TOC](#section_toc)\n"
   ]
  },
  {
   "cell_type": "code",
   "execution_count": 155,
   "metadata": {},
   "outputs": [
    {
     "data": {
      "text/plain": [
       "7            None\n",
       "8            None\n",
       "210          None\n",
       "216       cochera\n",
       "219       cochera\n",
       "           ...   \n",
       "121094    cochera\n",
       "121157    Cochera\n",
       "121160       None\n",
       "121209       None\n",
       "121215    Cochera\n",
       "Name: description, Length: 1851, dtype: object"
      ]
     },
     "execution_count": 155,
     "metadata": {},
     "output_type": "execute_result"
    }
   ],
   "source": [
    "# Expresiones regulares\n",
    "import re\n",
    "pattern_pileta = \"(?P<coch>[cC]ochera)\"\n",
    "pattern_pileta_regex = re.compile(pattern_pileta)\n",
    "description_series = bel_dummies.description.astype(str)\n",
    "resultado_pileta = description_series.apply(lambda x: x if x is np.nan else pattern_pileta_regex.search(x))\n",
    "pileta_match = resultado_pileta.apply(lambda x: x if x is None else x.group('coch'))\n",
    " \n",
    "pileta_match"
   ]
  },
  {
   "cell_type": "code",
   "execution_count": 156,
   "metadata": {},
   "outputs": [
    {
     "data": {
      "text/plain": [
       "cochera    373\n",
       "Cochera    298\n",
       "Name: description, dtype: int64"
      ]
     },
     "execution_count": 156,
     "metadata": {},
     "output_type": "execute_result"
    }
   ],
   "source": [
    "pileta_match.value_counts()"
   ]
  },
  {
   "cell_type": "code",
   "execution_count": 157,
   "metadata": {},
   "outputs": [
    {
     "name": "stdout",
     "output_type": "stream",
     "text": [
      "  property_type place_name       state_name        lat        lon     price  \\\n",
      "7     apartment   Belgrano  Capital Federal -34.559873 -58.443362  138000.0   \n",
      "8     apartment   Belgrano  Capital Federal -34.559873 -58.443362  195000.0   \n",
      "\n",
      "  currency  price_aprox_local_currency  price_aprox_usd  surface_total_in_m2  \\\n",
      "7      USD                   2434941.0         138000.0                 45.0   \n",
      "8      USD                   3440677.5         195000.0                 65.0   \n",
      "\n",
      "   ...  price_usd_per_m2  price_per_m2  rooms     expenses  \\\n",
      "7  ...       3066.666667        3450.0    4.0  5528.051661   \n",
      "8  ...       3000.000000        3250.0    3.0  5505.084906   \n",
      "\n",
      "                                         description  \\\n",
      "7  EXCELENTE MONOAMBIENTE A ESTRENAR AMPLIO SUPER...   \n",
      "8  EXCELENTE DOS AMBIENTES  ESTRENAR AMPLIO SUPER...   \n",
      "\n",
      "                                               title  \\\n",
      "7  JOSE HERNANDEZ 1400 MONOAMBIENTE  ESTRENAR CAT...   \n",
      "8  JOSE HERNANDEZ   1400 DOS AMBIENTES ESTRENAR ,...   \n",
      "\n",
      "                                       properati_url surface_uncovered_in_m2  \\\n",
      "7  http://www.properati.com.ar/15bot_venta_depart...                     5.0   \n",
      "8  http://www.properati.com.ar/15bou_venta_depart...                     5.0   \n",
      "\n",
      "   Exterior_True  Pileta  \n",
      "7              1    None  \n",
      "8              1    None  \n",
      "\n",
      "[2 rows x 21 columns]\n",
      "(1851, 22)\n"
     ]
    },
    {
     "data": {
      "text/plain": [
       "0    1180\n",
       "1     671\n",
       "Name: Cochera_True, dtype: int64"
      ]
     },
     "execution_count": 157,
     "metadata": {},
     "output_type": "execute_result"
    }
   ],
   "source": [
    "#pileta_match\n",
    "\n",
    "pileta_match.replace('cochera', 'Cochera', inplace = True)\n",
    "bel_dummies['Cochera'] = pileta_match\n",
    "print(bel_dummy.head(2))\n",
    "\n",
    "#bel_dummy.Cochera.value_counts()\n",
    "\n",
    "#bel_dummy.shape\n",
    "\n",
    "\n",
    "mask_pileta = bel_dummies['Cochera'] == \"Cochera\"\n",
    "mask_pileta\n",
    "\n",
    "dummies_pileta = pd.get_dummies(mask_pileta, prefix='Cochera', drop_first=True)\n",
    "bel_dummies = bel_dummies.join(dummies_pileta)\n",
    "#bel_dummies.head(3)\n",
    "\n",
    "bel_dummies = bel_dummies.drop(columns=['Cochera'])\n",
    "print(bel_dummies.shape)\n",
    "bel_dummies.head(2)\n",
    "\n",
    "bel_dummies.Cochera_True.value_counts()\n",
    "\n"
   ]
  },
  {
   "cell_type": "code",
   "execution_count": 158,
   "metadata": {},
   "outputs": [
    {
     "data": {
      "text/plain": [
       "0    1180\n",
       "1     671\n",
       "Name: Cochera_True, dtype: int64"
      ]
     },
     "execution_count": 158,
     "metadata": {},
     "output_type": "execute_result"
    }
   ],
   "source": [
    "bel_dummies.Cochera_True.value_counts()"
   ]
  },
  {
   "cell_type": "code",
   "execution_count": null,
   "metadata": {},
   "outputs": [],
   "source": []
  },
  {
   "cell_type": "markdown",
   "metadata": {},
   "source": [
    "<a id=\"section_externa\"></a> \n",
    "## Subte\n",
    "\n",
    "Nuevas variables en base a data set externos\n",
    "\n",
    "[volver a TOC](#section_toc)\n",
    "\n",
    "\n",
    "Agregamos data externa obtenida del Gobierno de la Ciudad de Buenos Aires con:\n",
    "\n",
    "* estaciones de subte\n",
    "\n",
    "* paradas de colectivo\n",
    "\n",
    "* paradas de ferrocarriles/trenes"
   ]
  },
  {
   "cell_type": "code",
   "execution_count": 159,
   "metadata": {},
   "outputs": [],
   "source": [
    "subte_data = \"https://raw.githubusercontent.com/carlachka/grupo2dh/master/ws1/data/subte.csv\"\n",
    "ferro_data = \"https://raw.githubusercontent.com/carlachka/grupo2dh/master//ws1/data/ferrocarril.csv\"\n",
    "paradas_df = \"https://raw.githubusercontent.com/carlachka/grupo2dh/master//ws1/data/paradas.csv\"\n",
    "\n",
    "subte = pd.read_csv(subte_data) \n",
    "ferro = pd.read_csv(ferro_data)\n",
    "colec = pd.read_csv(paradas_df)\n",
    "\n",
    "#palermo = \"https://raw.githubusercontent.com/carlachka/grupo2dh/master/paler.csv\"\n",
    "#palerm = pd.read_csv(palermo)"
   ]
  },
  {
   "cell_type": "code",
   "execution_count": 160,
   "metadata": {},
   "outputs": [
    {
     "data": {
      "text/html": [
       "<div>\n",
       "<style scoped>\n",
       "    .dataframe tbody tr th:only-of-type {\n",
       "        vertical-align: middle;\n",
       "    }\n",
       "\n",
       "    .dataframe tbody tr th {\n",
       "        vertical-align: top;\n",
       "    }\n",
       "\n",
       "    .dataframe thead th {\n",
       "        text-align: right;\n",
       "    }\n",
       "</style>\n",
       "<table border=\"1\" class=\"dataframe\">\n",
       "  <thead>\n",
       "    <tr style=\"text-align: right;\">\n",
       "      <th></th>\n",
       "      <th>long</th>\n",
       "      <th>lat</th>\n",
       "      <th>id</th>\n",
       "      <th>estacion</th>\n",
       "      <th>linea</th>\n",
       "    </tr>\n",
       "  </thead>\n",
       "  <tbody>\n",
       "    <tr>\n",
       "      <th>0</th>\n",
       "      <td>-58.398928</td>\n",
       "      <td>-34.635750</td>\n",
       "      <td>1.0</td>\n",
       "      <td>CASEROS</td>\n",
       "      <td>H</td>\n",
       "    </tr>\n",
       "    <tr>\n",
       "      <th>1</th>\n",
       "      <td>-58.400970</td>\n",
       "      <td>-34.629376</td>\n",
       "      <td>2.0</td>\n",
       "      <td>INCLAN - MEZQUITA AL AHMAD</td>\n",
       "      <td>H</td>\n",
       "    </tr>\n",
       "    <tr>\n",
       "      <th>2</th>\n",
       "      <td>-58.402323</td>\n",
       "      <td>-34.623092</td>\n",
       "      <td>3.0</td>\n",
       "      <td>HUMBERTO 1°</td>\n",
       "      <td>H</td>\n",
       "    </tr>\n",
       "  </tbody>\n",
       "</table>\n",
       "</div>"
      ],
      "text/plain": [
       "        long        lat   id                    estacion linea\n",
       "0 -58.398928 -34.635750  1.0                     CASEROS     H\n",
       "1 -58.400970 -34.629376  2.0  INCLAN - MEZQUITA AL AHMAD     H\n",
       "2 -58.402323 -34.623092  3.0                 HUMBERTO 1°     H"
      ]
     },
     "execution_count": 160,
     "metadata": {},
     "output_type": "execute_result"
    }
   ],
   "source": [
    "subte.head(3) # long lat id estacion linea"
   ]
  },
  {
   "cell_type": "code",
   "execution_count": 161,
   "metadata": {},
   "outputs": [
    {
     "data": {
      "text/plain": [
       "PUEYRREDON                2\n",
       "INDEPENDENCIA             2\n",
       "RETIRO                    2\n",
       "CORREO CENTRAL            1\n",
       "ONCE - 30 DE DICIEMBRE    1\n",
       "                         ..\n",
       "9 DE JULIO                1\n",
       "BELGRANO                  1\n",
       "HOSPITALES                1\n",
       "CORRIENTES                1\n",
       "PARQUE PATRICIOS          1\n",
       "Name: estacion, Length: 87, dtype: int64"
      ]
     },
     "execution_count": 161,
     "metadata": {},
     "output_type": "execute_result"
    }
   ],
   "source": [
    "subte.estacion.value_counts().sort_values(ascending=False)"
   ]
  },
  {
   "cell_type": "code",
   "execution_count": 162,
   "metadata": {},
   "outputs": [
    {
     "data": {
      "text/html": [
       "<div>\n",
       "<style scoped>\n",
       "    .dataframe tbody tr th:only-of-type {\n",
       "        vertical-align: middle;\n",
       "    }\n",
       "\n",
       "    .dataframe tbody tr th {\n",
       "        vertical-align: top;\n",
       "    }\n",
       "\n",
       "    .dataframe thead th {\n",
       "        text-align: right;\n",
       "    }\n",
       "</style>\n",
       "<table border=\"1\" class=\"dataframe\">\n",
       "  <thead>\n",
       "    <tr style=\"text-align: right;\">\n",
       "      <th></th>\n",
       "      <th>stop_id</th>\n",
       "      <th>stop_code</th>\n",
       "      <th>stop_name</th>\n",
       "      <th>stop_lat</th>\n",
       "      <th>stop_lon</th>\n",
       "      <th>direction_id</th>\n",
       "      <th>route_id</th>\n",
       "      <th>agency_id</th>\n",
       "      <th>route_short_name</th>\n",
       "      <th>route_long_name</th>\n",
       "      <th>route_desc</th>\n",
       "      <th>route_type</th>\n",
       "    </tr>\n",
       "  </thead>\n",
       "  <tbody>\n",
       "    <tr>\n",
       "      <th>0</th>\n",
       "      <td>201</td>\n",
       "      <td>201</td>\n",
       "      <td>1520 DEFENSA</td>\n",
       "      <td>-34.625663</td>\n",
       "      <td>-58.371042</td>\n",
       "      <td>1</td>\n",
       "      <td>108</td>\n",
       "      <td>26</td>\n",
       "      <td>22A</td>\n",
       "      <td>JNAMBA022</td>\n",
       "      <td>Retiro - Cno. Centenario y Lavalleja</td>\n",
       "      <td>3</td>\n",
       "    </tr>\n",
       "    <tr>\n",
       "      <th>1</th>\n",
       "      <td>2072</td>\n",
       "      <td>2072</td>\n",
       "      <td>722 REGIMIENTO DE PATRICIOS AV.</td>\n",
       "      <td>-34.636743</td>\n",
       "      <td>-58.369765</td>\n",
       "      <td>1</td>\n",
       "      <td>108</td>\n",
       "      <td>26</td>\n",
       "      <td>22A</td>\n",
       "      <td>JNAMBA022</td>\n",
       "      <td>Retiro - Cno. Centenario y Lavalleja</td>\n",
       "      <td>3</td>\n",
       "    </tr>\n",
       "    <tr>\n",
       "      <th>2</th>\n",
       "      <td>2079</td>\n",
       "      <td>2079</td>\n",
       "      <td>324 REGIMIENTO DE PATRICIOS AV.</td>\n",
       "      <td>-34.632942</td>\n",
       "      <td>-58.370332</td>\n",
       "      <td>1</td>\n",
       "      <td>108</td>\n",
       "      <td>26</td>\n",
       "      <td>22A</td>\n",
       "      <td>JNAMBA022</td>\n",
       "      <td>Retiro - Cno. Centenario y Lavalleja</td>\n",
       "      <td>3</td>\n",
       "    </tr>\n",
       "  </tbody>\n",
       "</table>\n",
       "</div>"
      ],
      "text/plain": [
       "   stop_id  stop_code                        stop_name   stop_lat   stop_lon  \\\n",
       "0      201        201                     1520 DEFENSA -34.625663 -58.371042   \n",
       "1     2072       2072  722 REGIMIENTO DE PATRICIOS AV. -34.636743 -58.369765   \n",
       "2     2079       2079  324 REGIMIENTO DE PATRICIOS AV. -34.632942 -58.370332   \n",
       "\n",
       "   direction_id  route_id  agency_id route_short_name route_long_name  \\\n",
       "0             1       108         26              22A       JNAMBA022   \n",
       "1             1       108         26              22A       JNAMBA022   \n",
       "2             1       108         26              22A       JNAMBA022   \n",
       "\n",
       "                              route_desc  route_type  \n",
       "0  Retiro - Cno. Centenario y Lavalleja            3  \n",
       "1  Retiro - Cno. Centenario y Lavalleja            3  \n",
       "2  Retiro - Cno. Centenario y Lavalleja            3  "
      ]
     },
     "execution_count": 162,
     "metadata": {},
     "output_type": "execute_result"
    }
   ],
   "source": [
    "colec.head(3)"
   ]
  },
  {
   "cell_type": "code",
   "execution_count": 163,
   "metadata": {},
   "outputs": [],
   "source": [
    "#Cambio los nombres de las columnas de paradas de colectivos\n",
    "colec = colec.rename({\n",
    "    'stop_lat': 'lat',\n",
    "    'stop_lon': 'long',\n",
    "}, axis=1)"
   ]
  },
  {
   "cell_type": "markdown",
   "metadata": {},
   "source": [
    "Todas las lat y long en los 4 dataframes son float."
   ]
  },
  {
   "cell_type": "markdown",
   "metadata": {},
   "source": [
    "**Distancia entre dos puntos de latitud y longitud - Haversine_formula**"
   ]
  },
  {
   "cell_type": "markdown",
   "metadata": {},
   "source": [
    "The [haversine](https://en.wikipedia.org/wiki/Haversine_formula) formula allows the haversine of Θ (that is, hav(Θ)) to be computed directly from the latitude and longitude of the two points.\n",
    "\n",
    "<img src=\"h_formula.png\" alt=\"Drawing\" style=\"width: 400px;\"/>\n",
    "\n",
    "\n",
    "* φ1, φ2 are the latitude of point 1 and latitude of point 2 (in radians),\n",
    "* λ1, λ2 are the longitude of point 1 and longitude of point 2 (in radians).\n",
    "\n",
    "As similar formula can be written using cosines (sometimes called the spherical law of cosines, not to be confused with the law of cosines for plane geometry) instead of haversines, but if the two points are close together (e.g. a kilometer apart, on the Earth) you might end up with an inaccurate answer. Since the haversine formula uses sines, it avoids that problem.\n",
    "\n",
    "A [simplified formula](http://www.movable-type.co.uk/scripts/latlong.html) says:\n",
    "\n",
    "<img src=\"h_simple.png\" alt=\"Drawing\" style=\"width: 600px;\"/>\n"
   ]
  },
  {
   "cell_type": "code",
   "execution_count": 164,
   "metadata": {},
   "outputs": [],
   "source": [
    "#vectorized numpy version of the same function\n",
    "\n",
    "import numpy as np\n",
    "\n",
    "def haversine_np(lon1, lat1, lon2, lat2):\n",
    "    \"\"\"\n",
    "    Calculate the great circle distance between two points\n",
    "    on the earth (specified in decimal degrees)\n",
    "\n",
    "    All args must be of equal length.    \n",
    "\n",
    "    \"\"\"\n",
    "    lon1, lat1, lon2, lat2 = map(np.radians, [lon1, lat1, lon2, lat2])\n",
    "\n",
    "    dlon = lon2 - lon1\n",
    "    dlat = lat2 - lat1\n",
    "\n",
    "    a = np.sin(dlat/2.0)**2 + np.cos(lat1) * np.cos(lat2) * np.sin(dlon/2.0)**2\n",
    "\n",
    "    c = 2 * np.arcsin(np.sqrt(a))\n",
    "    \n",
    "    km = 6367 * c  #el radio de la tierra no es 6371 km??\n",
    "    \n",
    "    return km\n",
    "\n"
   ]
  },
  {
   "cell_type": "code",
   "execution_count": 165,
   "metadata": {},
   "outputs": [],
   "source": [
    "#Ejemplo de coo usar la formula \n",
    "\n",
    "# lon1, lon2, lat1, lat2 = np.random.randn(4, 1000000)\n",
    "# df = pd.DataFrame(data={'lon1':lon1,'lon2':lon2,'lat1':lat1,'lat2':lat2})\n",
    "# km = haversine_np(df['lon1'],df['lat1'],df['lon2'],df['lat2'])\n",
    "# df['distance'] = haversine_np(df['lon1'],df['lat1'],df['lon2'],df['lat2'])"
   ]
  },
  {
   "cell_type": "code",
   "execution_count": 166,
   "metadata": {},
   "outputs": [
    {
     "name": "stdout",
     "output_type": "stream",
     "text": [
      "(90, 5)\n",
      "(42463, 12)\n",
      "(230, 11)\n"
     ]
    }
   ],
   "source": [
    "print(subte.shape)\n",
    "print(colec.shape)\n",
    "print(ferro.shape)"
   ]
  },
  {
   "cell_type": "code",
   "execution_count": 167,
   "metadata": {},
   "outputs": [],
   "source": [
    "bel_subte = bel_dummies"
   ]
  },
  {
   "cell_type": "code",
   "execution_count": 168,
   "metadata": {},
   "outputs": [],
   "source": [
    "latlon = bel_subte[['lat','lon']]  #cambiar aca dataset final a usar por el df_barrios\n",
    "latlon_subte = subte[['long','lat']]  # variable subte esta la data de subtes y toma solo long y lat\n",
    "latlon_ = latlon.copy()\n",
    "for index, row in latlon_.iterrows():\n",
    "    distancia = haversine_np(row['lon'],row['lat'],latlon_subte['long'],latlon_subte['lat'])\n",
    "    if any(distancia < 1):\n",
    "        latlon_.loc[index, 'subte'] = \"Cerca\"\n",
    "    else:\n",
    "        latlon_.loc[index, 'subte'] = \"Lejos\"\n",
    "bel_subte = pd.concat([bel_subte,latlon_['subte']],axis=1)     # cambiar aca dataset final a usar"
   ]
  },
  {
   "cell_type": "code",
   "execution_count": 169,
   "metadata": {},
   "outputs": [],
   "source": [
    "mask_subte = bel_subte['subte'] == \"Cerca\"\n",
    "dummies_subte = pd.get_dummies(mask_subte, prefix='Subte', drop_first=True)\n",
    "bel_subte = bel_subte.join(dummies_subte)"
   ]
  },
  {
   "cell_type": "code",
   "execution_count": 170,
   "metadata": {
    "scrolled": true
   },
   "outputs": [],
   "source": [
    "# latlon = bel_subte[['lat','lon']]  #cambiar aca dataset final a usar por el df_barrios\n",
    "# latlon_subte = subte[['long','lat']]  # variable subte esta la data de subtes y toma solo long y lat\n",
    "# latlon_ = latlon.copy()\n",
    "# for index, row in latlon_.iterrows():\n",
    "#     distancia = haversine_np(row['lon'],row['lat'],latlon_subte['long'],latlon_subte['lat'])\n",
    "#     if any(distancia < 0.5):\n",
    "#         latlon_.loc[index, 'subte'] = \"1\"\n",
    "#     else:\n",
    "#         latlon_.loc[index, 'subte'] = \"0\"\n",
    "# bel_subte = pd.concat([bel_subte,latlon_['subte']],axis=1)     # cambiar aca dataset final a usar "
   ]
  },
  {
   "cell_type": "code",
   "execution_count": 171,
   "metadata": {},
   "outputs": [
    {
     "data": {
      "text/plain": [
       "Index(['property_type', 'place_name', 'state_name', 'lat', 'lon', 'price',\n",
       "       'currency', 'price_aprox_local_currency', 'price_aprox_usd',\n",
       "       'surface_total_in_m2', 'surface_covered_in_m2', 'price_usd_per_m2',\n",
       "       'price_per_m2', 'rooms', 'expenses', 'description', 'title',\n",
       "       'properati_url', 'surface_uncovered_in_m2', 'Exterior_True',\n",
       "       'Pileta_True', 'Cochera_True', 'subte', 'Subte_True'],\n",
       "      dtype='object')"
      ]
     },
     "execution_count": 171,
     "metadata": {},
     "output_type": "execute_result"
    }
   ],
   "source": [
    "bel_subte.columns"
   ]
  },
  {
   "cell_type": "code",
   "execution_count": 172,
   "metadata": {},
   "outputs": [
    {
     "data": {
      "text/plain": [
       "Cerca    1135\n",
       "Lejos     716\n",
       "Name: subte, dtype: int64"
      ]
     },
     "execution_count": 172,
     "metadata": {},
     "output_type": "execute_result"
    }
   ],
   "source": [
    "bel_subte.subte.value_counts()"
   ]
  },
  {
   "cell_type": "code",
   "execution_count": 173,
   "metadata": {},
   "outputs": [
    {
     "data": {
      "text/plain": [
       "(1851, 24)"
      ]
     },
     "execution_count": 173,
     "metadata": {},
     "output_type": "execute_result"
    }
   ],
   "source": [
    "bel_subte.shape"
   ]
  },
  {
   "cell_type": "code",
   "execution_count": 174,
   "metadata": {},
   "outputs": [
    {
     "data": {
      "text/plain": [
       "0.3466666666666667"
      ]
     },
     "execution_count": 174,
     "metadata": {},
     "output_type": "execute_result"
    }
   ],
   "source": [
    "572/1650"
   ]
  },
  {
   "cell_type": "code",
   "execution_count": 175,
   "metadata": {},
   "outputs": [
    {
     "data": {
      "text/html": [
       "<div>\n",
       "<style scoped>\n",
       "    .dataframe tbody tr th:only-of-type {\n",
       "        vertical-align: middle;\n",
       "    }\n",
       "\n",
       "    .dataframe tbody tr th {\n",
       "        vertical-align: top;\n",
       "    }\n",
       "\n",
       "    .dataframe thead th {\n",
       "        text-align: right;\n",
       "    }\n",
       "</style>\n",
       "<table border=\"1\" class=\"dataframe\">\n",
       "  <thead>\n",
       "    <tr style=\"text-align: right;\">\n",
       "      <th></th>\n",
       "      <th>property_type</th>\n",
       "      <th>place_name</th>\n",
       "      <th>state_name</th>\n",
       "      <th>lat</th>\n",
       "      <th>lon</th>\n",
       "      <th>price</th>\n",
       "      <th>currency</th>\n",
       "      <th>price_aprox_local_currency</th>\n",
       "      <th>price_aprox_usd</th>\n",
       "      <th>surface_total_in_m2</th>\n",
       "      <th>...</th>\n",
       "      <th>expenses</th>\n",
       "      <th>description</th>\n",
       "      <th>title</th>\n",
       "      <th>properati_url</th>\n",
       "      <th>surface_uncovered_in_m2</th>\n",
       "      <th>Exterior_True</th>\n",
       "      <th>Pileta_True</th>\n",
       "      <th>Cochera_True</th>\n",
       "      <th>subte</th>\n",
       "      <th>Subte_True</th>\n",
       "    </tr>\n",
       "  </thead>\n",
       "  <tbody>\n",
       "    <tr>\n",
       "      <th>7</th>\n",
       "      <td>apartment</td>\n",
       "      <td>Belgrano</td>\n",
       "      <td>Capital Federal</td>\n",
       "      <td>-34.559873</td>\n",
       "      <td>-58.443362</td>\n",
       "      <td>138000.0</td>\n",
       "      <td>USD</td>\n",
       "      <td>2434941.00</td>\n",
       "      <td>138000.0</td>\n",
       "      <td>45.0</td>\n",
       "      <td>...</td>\n",
       "      <td>5528.051661</td>\n",
       "      <td>EXCELENTE MONOAMBIENTE A ESTRENAR AMPLIO SUPER...</td>\n",
       "      <td>JOSE HERNANDEZ 1400 MONOAMBIENTE  ESTRENAR CAT...</td>\n",
       "      <td>http://www.properati.com.ar/15bot_venta_depart...</td>\n",
       "      <td>5.0</td>\n",
       "      <td>1</td>\n",
       "      <td>0</td>\n",
       "      <td>0</td>\n",
       "      <td>Lejos</td>\n",
       "      <td>0</td>\n",
       "    </tr>\n",
       "    <tr>\n",
       "      <th>8</th>\n",
       "      <td>apartment</td>\n",
       "      <td>Belgrano</td>\n",
       "      <td>Capital Federal</td>\n",
       "      <td>-34.559873</td>\n",
       "      <td>-58.443362</td>\n",
       "      <td>195000.0</td>\n",
       "      <td>USD</td>\n",
       "      <td>3440677.50</td>\n",
       "      <td>195000.0</td>\n",
       "      <td>65.0</td>\n",
       "      <td>...</td>\n",
       "      <td>5505.084906</td>\n",
       "      <td>EXCELENTE DOS AMBIENTES  ESTRENAR AMPLIO SUPER...</td>\n",
       "      <td>JOSE HERNANDEZ   1400 DOS AMBIENTES ESTRENAR ,...</td>\n",
       "      <td>http://www.properati.com.ar/15bou_venta_depart...</td>\n",
       "      <td>5.0</td>\n",
       "      <td>1</td>\n",
       "      <td>0</td>\n",
       "      <td>0</td>\n",
       "      <td>Lejos</td>\n",
       "      <td>0</td>\n",
       "    </tr>\n",
       "    <tr>\n",
       "      <th>210</th>\n",
       "      <td>apartment</td>\n",
       "      <td>Belgrano</td>\n",
       "      <td>Capital Federal</td>\n",
       "      <td>-34.562084</td>\n",
       "      <td>-58.456686</td>\n",
       "      <td>240000.0</td>\n",
       "      <td>USD</td>\n",
       "      <td>4234680.00</td>\n",
       "      <td>240000.0</td>\n",
       "      <td>57.0</td>\n",
       "      <td>...</td>\n",
       "      <td>2004.828571</td>\n",
       "      <td>DUPLEX CON COCHERA FIJA CUBIERTA 3 AÑOS DE ANT...</td>\n",
       "      <td>2 Ambientes Venta Belgrano Cochera Cubierta</td>\n",
       "      <td>http://www.properati.com.ar/15dic_venta_depart...</td>\n",
       "      <td>3.0</td>\n",
       "      <td>1</td>\n",
       "      <td>0</td>\n",
       "      <td>0</td>\n",
       "      <td>Cerca</td>\n",
       "      <td>1</td>\n",
       "    </tr>\n",
       "    <tr>\n",
       "      <th>216</th>\n",
       "      <td>apartment</td>\n",
       "      <td>Belgrano</td>\n",
       "      <td>Capital Federal</td>\n",
       "      <td>-34.562146</td>\n",
       "      <td>-58.449657</td>\n",
       "      <td>550000.0</td>\n",
       "      <td>USD</td>\n",
       "      <td>9704475.00</td>\n",
       "      <td>550000.0</td>\n",
       "      <td>160.0</td>\n",
       "      <td>...</td>\n",
       "      <td>5528.051661</td>\n",
       "      <td>Piso de categoría en Barrancas del Belgrano, e...</td>\n",
       "      <td>Piso Barrancas de Belgrano Venta 2 cocheras fi...</td>\n",
       "      <td>http://www.properati.com.ar/15diu_venta_depart...</td>\n",
       "      <td>10.0</td>\n",
       "      <td>1</td>\n",
       "      <td>0</td>\n",
       "      <td>1</td>\n",
       "      <td>Cerca</td>\n",
       "      <td>1</td>\n",
       "    </tr>\n",
       "    <tr>\n",
       "      <th>219</th>\n",
       "      <td>apartment</td>\n",
       "      <td>Belgrano</td>\n",
       "      <td>Capital Federal</td>\n",
       "      <td>-34.565318</td>\n",
       "      <td>-58.441752</td>\n",
       "      <td>1100000.0</td>\n",
       "      <td>USD</td>\n",
       "      <td>19408950.00</td>\n",
       "      <td>1100000.0</td>\n",
       "      <td>310.0</td>\n",
       "      <td>...</td>\n",
       "      <td>3700.000000</td>\n",
       "      <td>Piso  en  Belgrano  entre  Villanueva y Luis  ...</td>\n",
       "      <td>Impecable planta  5 Ambientes en La Mejor Zona...</td>\n",
       "      <td>http://www.properati.com.ar/15dj3_venta_depart...</td>\n",
       "      <td>10.0</td>\n",
       "      <td>1</td>\n",
       "      <td>1</td>\n",
       "      <td>1</td>\n",
       "      <td>Cerca</td>\n",
       "      <td>1</td>\n",
       "    </tr>\n",
       "    <tr>\n",
       "      <th>220</th>\n",
       "      <td>apartment</td>\n",
       "      <td>Belgrano</td>\n",
       "      <td>Capital Federal</td>\n",
       "      <td>-34.565265</td>\n",
       "      <td>-58.438233</td>\n",
       "      <td>237895.0</td>\n",
       "      <td>USD</td>\n",
       "      <td>4197538.32</td>\n",
       "      <td>237895.0</td>\n",
       "      <td>69.0</td>\n",
       "      <td>...</td>\n",
       "      <td>2004.828571</td>\n",
       "      <td>El edificio está situado en el barrio de  las ...</td>\n",
       "      <td>Ultimas Unidades</td>\n",
       "      <td>http://www.properati.com.ar/15dja_venta_depart...</td>\n",
       "      <td>16.0</td>\n",
       "      <td>1</td>\n",
       "      <td>1</td>\n",
       "      <td>1</td>\n",
       "      <td>Cerca</td>\n",
       "      <td>1</td>\n",
       "    </tr>\n",
       "    <tr>\n",
       "      <th>221</th>\n",
       "      <td>apartment</td>\n",
       "      <td>Belgrano</td>\n",
       "      <td>Capital Federal</td>\n",
       "      <td>-34.565265</td>\n",
       "      <td>-58.438233</td>\n",
       "      <td>237895.0</td>\n",
       "      <td>USD</td>\n",
       "      <td>4197538.32</td>\n",
       "      <td>237895.0</td>\n",
       "      <td>69.0</td>\n",
       "      <td>...</td>\n",
       "      <td>2004.828571</td>\n",
       "      <td>El edificio está situado en el barrio de  las ...</td>\n",
       "      <td>Ultimas Unidades</td>\n",
       "      <td>http://www.properati.com.ar/15djb_venta_depart...</td>\n",
       "      <td>16.0</td>\n",
       "      <td>1</td>\n",
       "      <td>1</td>\n",
       "      <td>1</td>\n",
       "      <td>Cerca</td>\n",
       "      <td>1</td>\n",
       "    </tr>\n",
       "    <tr>\n",
       "      <th>229</th>\n",
       "      <td>apartment</td>\n",
       "      <td>Belgrano</td>\n",
       "      <td>Capital Federal</td>\n",
       "      <td>-34.564008</td>\n",
       "      <td>-58.456704</td>\n",
       "      <td>92600.0</td>\n",
       "      <td>USD</td>\n",
       "      <td>1633880.70</td>\n",
       "      <td>92600.0</td>\n",
       "      <td>33.0</td>\n",
       "      <td>...</td>\n",
       "      <td>2163.875000</td>\n",
       "      <td>Monoambientes a la venta, en inmejorable zona ...</td>\n",
       "      <td>Venta Monoambiente- Inmejorable zona de Belgrano</td>\n",
       "      <td>http://www.properati.com.ar/15dkm_venta_depart...</td>\n",
       "      <td>0.0</td>\n",
       "      <td>0</td>\n",
       "      <td>1</td>\n",
       "      <td>1</td>\n",
       "      <td>Cerca</td>\n",
       "      <td>1</td>\n",
       "    </tr>\n",
       "    <tr>\n",
       "      <th>253</th>\n",
       "      <td>apartment</td>\n",
       "      <td>Belgrano</td>\n",
       "      <td>Capital Federal</td>\n",
       "      <td>-34.562084</td>\n",
       "      <td>-58.456686</td>\n",
       "      <td>340000.0</td>\n",
       "      <td>USD</td>\n",
       "      <td>5999130.00</td>\n",
       "      <td>340000.0</td>\n",
       "      <td>128.0</td>\n",
       "      <td>...</td>\n",
       "      <td>5528.051661</td>\n",
       "      <td>Comodo departamento de 4 ambientes, muy lumino...</td>\n",
       "      <td>Depto. 4 ambientes muy luminoso. Excelente est...</td>\n",
       "      <td>http://www.properati.com.ar/15don_venta_depart...</td>\n",
       "      <td>8.0</td>\n",
       "      <td>1</td>\n",
       "      <td>0</td>\n",
       "      <td>1</td>\n",
       "      <td>Cerca</td>\n",
       "      <td>1</td>\n",
       "    </tr>\n",
       "    <tr>\n",
       "      <th>420</th>\n",
       "      <td>apartment</td>\n",
       "      <td>Belgrano</td>\n",
       "      <td>Capital Federal</td>\n",
       "      <td>-34.574788</td>\n",
       "      <td>-58.463769</td>\n",
       "      <td>520000.0</td>\n",
       "      <td>USD</td>\n",
       "      <td>9175140.00</td>\n",
       "      <td>520000.0</td>\n",
       "      <td>150.0</td>\n",
       "      <td>...</td>\n",
       "      <td>5505.084906</td>\n",
       "      <td>En excelente zona, a metros de Av. Los Incas, ...</td>\n",
       "      <td>Piso de 3amb Mas Dependencia y Cochera Cubierta</td>\n",
       "      <td>http://www.properati.com.ar/15ei9_venta_depart...</td>\n",
       "      <td>20.0</td>\n",
       "      <td>1</td>\n",
       "      <td>1</td>\n",
       "      <td>0</td>\n",
       "      <td>Lejos</td>\n",
       "      <td>0</td>\n",
       "    </tr>\n",
       "    <tr>\n",
       "      <th>748</th>\n",
       "      <td>apartment</td>\n",
       "      <td>Belgrano</td>\n",
       "      <td>Capital Federal</td>\n",
       "      <td>-34.572860</td>\n",
       "      <td>-58.439616</td>\n",
       "      <td>585000.0</td>\n",
       "      <td>USD</td>\n",
       "      <td>10322032.50</td>\n",
       "      <td>585000.0</td>\n",
       "      <td>304.0</td>\n",
       "      <td>...</td>\n",
       "      <td>3700.000000</td>\n",
       "      <td>Superficie total por escritura de 197,92 m2Adi...</td>\n",
       "      <td>DEPARTAMENTO EN VENTA</td>\n",
       "      <td>http://www.properati.com.ar/15fvr_venta_depart...</td>\n",
       "      <td>119.0</td>\n",
       "      <td>1</td>\n",
       "      <td>0</td>\n",
       "      <td>1</td>\n",
       "      <td>Cerca</td>\n",
       "      <td>1</td>\n",
       "    </tr>\n",
       "    <tr>\n",
       "      <th>749</th>\n",
       "      <td>apartment</td>\n",
       "      <td>Belgrano</td>\n",
       "      <td>Capital Federal</td>\n",
       "      <td>-34.572860</td>\n",
       "      <td>-58.439616</td>\n",
       "      <td>585000.0</td>\n",
       "      <td>USD</td>\n",
       "      <td>10322032.50</td>\n",
       "      <td>585000.0</td>\n",
       "      <td>304.0</td>\n",
       "      <td>...</td>\n",
       "      <td>3700.000000</td>\n",
       "      <td>Superficie total por escritura de 197,92 m2Adi...</td>\n",
       "      <td>DEPARTAMENTO EN VENTA</td>\n",
       "      <td>http://www.properati.com.ar/15fvs_venta_depart...</td>\n",
       "      <td>119.0</td>\n",
       "      <td>1</td>\n",
       "      <td>0</td>\n",
       "      <td>1</td>\n",
       "      <td>Cerca</td>\n",
       "      <td>1</td>\n",
       "    </tr>\n",
       "    <tr>\n",
       "      <th>817</th>\n",
       "      <td>apartment</td>\n",
       "      <td>Belgrano</td>\n",
       "      <td>Capital Federal</td>\n",
       "      <td>-34.549922</td>\n",
       "      <td>-58.450802</td>\n",
       "      <td>360000.0</td>\n",
       "      <td>USD</td>\n",
       "      <td>6352020.00</td>\n",
       "      <td>360000.0</td>\n",
       "      <td>147.0</td>\n",
       "      <td>...</td>\n",
       "      <td>1485.000000</td>\n",
       "      <td>Venta de Departamento 3 Dormitorios en Nuñez, ...</td>\n",
       "      <td>DEPARTAMENTO EN VENTA</td>\n",
       "      <td>http://www.properati.com.ar/15g3g_venta_depart...</td>\n",
       "      <td>4.0</td>\n",
       "      <td>1</td>\n",
       "      <td>0</td>\n",
       "      <td>0</td>\n",
       "      <td>Lejos</td>\n",
       "      <td>0</td>\n",
       "    </tr>\n",
       "    <tr>\n",
       "      <th>818</th>\n",
       "      <td>apartment</td>\n",
       "      <td>Belgrano</td>\n",
       "      <td>Capital Federal</td>\n",
       "      <td>-34.563983</td>\n",
       "      <td>-58.450130</td>\n",
       "      <td>1450000.0</td>\n",
       "      <td>USD</td>\n",
       "      <td>25584525.00</td>\n",
       "      <td>1450000.0</td>\n",
       "      <td>463.0</td>\n",
       "      <td>...</td>\n",
       "      <td>15000.000000</td>\n",
       "      <td>Venta de Departamento 4 Dormitorios en Belgran...</td>\n",
       "      <td>DEPARTAMENTO EN VENTA</td>\n",
       "      <td>http://www.properati.com.ar/15g3i_venta_depart...</td>\n",
       "      <td>177.0</td>\n",
       "      <td>1</td>\n",
       "      <td>0</td>\n",
       "      <td>1</td>\n",
       "      <td>Cerca</td>\n",
       "      <td>1</td>\n",
       "    </tr>\n",
       "    <tr>\n",
       "      <th>914</th>\n",
       "      <td>apartment</td>\n",
       "      <td>Belgrano</td>\n",
       "      <td>Capital Federal</td>\n",
       "      <td>-34.566322</td>\n",
       "      <td>-58.463086</td>\n",
       "      <td>170000.0</td>\n",
       "      <td>USD</td>\n",
       "      <td>2999565.00</td>\n",
       "      <td>170000.0</td>\n",
       "      <td>69.0</td>\n",
       "      <td>...</td>\n",
       "      <td>2500.000000</td>\n",
       "      <td>Venta de Departamento 2 AMBIENTES con COCHERA ...</td>\n",
       "      <td>DEPARTAMENTO EN VENTA</td>\n",
       "      <td>http://www.properati.com.ar/15gj9_venta_depart...</td>\n",
       "      <td>0.0</td>\n",
       "      <td>0</td>\n",
       "      <td>0</td>\n",
       "      <td>0</td>\n",
       "      <td>Cerca</td>\n",
       "      <td>1</td>\n",
       "    </tr>\n",
       "  </tbody>\n",
       "</table>\n",
       "<p>15 rows × 24 columns</p>\n",
       "</div>"
      ],
      "text/plain": [
       "    property_type place_name       state_name        lat        lon  \\\n",
       "7       apartment   Belgrano  Capital Federal -34.559873 -58.443362   \n",
       "8       apartment   Belgrano  Capital Federal -34.559873 -58.443362   \n",
       "210     apartment   Belgrano  Capital Federal -34.562084 -58.456686   \n",
       "216     apartment   Belgrano  Capital Federal -34.562146 -58.449657   \n",
       "219     apartment   Belgrano  Capital Federal -34.565318 -58.441752   \n",
       "220     apartment   Belgrano  Capital Federal -34.565265 -58.438233   \n",
       "221     apartment   Belgrano  Capital Federal -34.565265 -58.438233   \n",
       "229     apartment   Belgrano  Capital Federal -34.564008 -58.456704   \n",
       "253     apartment   Belgrano  Capital Federal -34.562084 -58.456686   \n",
       "420     apartment   Belgrano  Capital Federal -34.574788 -58.463769   \n",
       "748     apartment   Belgrano  Capital Federal -34.572860 -58.439616   \n",
       "749     apartment   Belgrano  Capital Federal -34.572860 -58.439616   \n",
       "817     apartment   Belgrano  Capital Federal -34.549922 -58.450802   \n",
       "818     apartment   Belgrano  Capital Federal -34.563983 -58.450130   \n",
       "914     apartment   Belgrano  Capital Federal -34.566322 -58.463086   \n",
       "\n",
       "         price currency  price_aprox_local_currency  price_aprox_usd  \\\n",
       "7     138000.0      USD                  2434941.00         138000.0   \n",
       "8     195000.0      USD                  3440677.50         195000.0   \n",
       "210   240000.0      USD                  4234680.00         240000.0   \n",
       "216   550000.0      USD                  9704475.00         550000.0   \n",
       "219  1100000.0      USD                 19408950.00        1100000.0   \n",
       "220   237895.0      USD                  4197538.32         237895.0   \n",
       "221   237895.0      USD                  4197538.32         237895.0   \n",
       "229    92600.0      USD                  1633880.70          92600.0   \n",
       "253   340000.0      USD                  5999130.00         340000.0   \n",
       "420   520000.0      USD                  9175140.00         520000.0   \n",
       "748   585000.0      USD                 10322032.50         585000.0   \n",
       "749   585000.0      USD                 10322032.50         585000.0   \n",
       "817   360000.0      USD                  6352020.00         360000.0   \n",
       "818  1450000.0      USD                 25584525.00        1450000.0   \n",
       "914   170000.0      USD                  2999565.00         170000.0   \n",
       "\n",
       "     surface_total_in_m2  ...      expenses  \\\n",
       "7                   45.0  ...   5528.051661   \n",
       "8                   65.0  ...   5505.084906   \n",
       "210                 57.0  ...   2004.828571   \n",
       "216                160.0  ...   5528.051661   \n",
       "219                310.0  ...   3700.000000   \n",
       "220                 69.0  ...   2004.828571   \n",
       "221                 69.0  ...   2004.828571   \n",
       "229                 33.0  ...   2163.875000   \n",
       "253                128.0  ...   5528.051661   \n",
       "420                150.0  ...   5505.084906   \n",
       "748                304.0  ...   3700.000000   \n",
       "749                304.0  ...   3700.000000   \n",
       "817                147.0  ...   1485.000000   \n",
       "818                463.0  ...  15000.000000   \n",
       "914                 69.0  ...   2500.000000   \n",
       "\n",
       "                                           description  \\\n",
       "7    EXCELENTE MONOAMBIENTE A ESTRENAR AMPLIO SUPER...   \n",
       "8    EXCELENTE DOS AMBIENTES  ESTRENAR AMPLIO SUPER...   \n",
       "210  DUPLEX CON COCHERA FIJA CUBIERTA 3 AÑOS DE ANT...   \n",
       "216  Piso de categoría en Barrancas del Belgrano, e...   \n",
       "219  Piso  en  Belgrano  entre  Villanueva y Luis  ...   \n",
       "220  El edificio está situado en el barrio de  las ...   \n",
       "221  El edificio está situado en el barrio de  las ...   \n",
       "229  Monoambientes a la venta, en inmejorable zona ...   \n",
       "253  Comodo departamento de 4 ambientes, muy lumino...   \n",
       "420  En excelente zona, a metros de Av. Los Incas, ...   \n",
       "748  Superficie total por escritura de 197,92 m2Adi...   \n",
       "749  Superficie total por escritura de 197,92 m2Adi...   \n",
       "817  Venta de Departamento 3 Dormitorios en Nuñez, ...   \n",
       "818  Venta de Departamento 4 Dormitorios en Belgran...   \n",
       "914  Venta de Departamento 2 AMBIENTES con COCHERA ...   \n",
       "\n",
       "                                                 title  \\\n",
       "7    JOSE HERNANDEZ 1400 MONOAMBIENTE  ESTRENAR CAT...   \n",
       "8    JOSE HERNANDEZ   1400 DOS AMBIENTES ESTRENAR ,...   \n",
       "210        2 Ambientes Venta Belgrano Cochera Cubierta   \n",
       "216  Piso Barrancas de Belgrano Venta 2 cocheras fi...   \n",
       "219  Impecable planta  5 Ambientes en La Mejor Zona...   \n",
       "220                                   Ultimas Unidades   \n",
       "221                                   Ultimas Unidades   \n",
       "229   Venta Monoambiente- Inmejorable zona de Belgrano   \n",
       "253  Depto. 4 ambientes muy luminoso. Excelente est...   \n",
       "420    Piso de 3amb Mas Dependencia y Cochera Cubierta   \n",
       "748                              DEPARTAMENTO EN VENTA   \n",
       "749                              DEPARTAMENTO EN VENTA   \n",
       "817                              DEPARTAMENTO EN VENTA   \n",
       "818                              DEPARTAMENTO EN VENTA   \n",
       "914                              DEPARTAMENTO EN VENTA   \n",
       "\n",
       "                                         properati_url  \\\n",
       "7    http://www.properati.com.ar/15bot_venta_depart...   \n",
       "8    http://www.properati.com.ar/15bou_venta_depart...   \n",
       "210  http://www.properati.com.ar/15dic_venta_depart...   \n",
       "216  http://www.properati.com.ar/15diu_venta_depart...   \n",
       "219  http://www.properati.com.ar/15dj3_venta_depart...   \n",
       "220  http://www.properati.com.ar/15dja_venta_depart...   \n",
       "221  http://www.properati.com.ar/15djb_venta_depart...   \n",
       "229  http://www.properati.com.ar/15dkm_venta_depart...   \n",
       "253  http://www.properati.com.ar/15don_venta_depart...   \n",
       "420  http://www.properati.com.ar/15ei9_venta_depart...   \n",
       "748  http://www.properati.com.ar/15fvr_venta_depart...   \n",
       "749  http://www.properati.com.ar/15fvs_venta_depart...   \n",
       "817  http://www.properati.com.ar/15g3g_venta_depart...   \n",
       "818  http://www.properati.com.ar/15g3i_venta_depart...   \n",
       "914  http://www.properati.com.ar/15gj9_venta_depart...   \n",
       "\n",
       "     surface_uncovered_in_m2 Exterior_True Pileta_True Cochera_True  subte  \\\n",
       "7                        5.0             1           0            0  Lejos   \n",
       "8                        5.0             1           0            0  Lejos   \n",
       "210                      3.0             1           0            0  Cerca   \n",
       "216                     10.0             1           0            1  Cerca   \n",
       "219                     10.0             1           1            1  Cerca   \n",
       "220                     16.0             1           1            1  Cerca   \n",
       "221                     16.0             1           1            1  Cerca   \n",
       "229                      0.0             0           1            1  Cerca   \n",
       "253                      8.0             1           0            1  Cerca   \n",
       "420                     20.0             1           1            0  Lejos   \n",
       "748                    119.0             1           0            1  Cerca   \n",
       "749                    119.0             1           0            1  Cerca   \n",
       "817                      4.0             1           0            0  Lejos   \n",
       "818                    177.0             1           0            1  Cerca   \n",
       "914                      0.0             0           0            0  Cerca   \n",
       "\n",
       "     Subte_True  \n",
       "7             0  \n",
       "8             0  \n",
       "210           1  \n",
       "216           1  \n",
       "219           1  \n",
       "220           1  \n",
       "221           1  \n",
       "229           1  \n",
       "253           1  \n",
       "420           0  \n",
       "748           1  \n",
       "749           1  \n",
       "817           0  \n",
       "818           1  \n",
       "914           1  \n",
       "\n",
       "[15 rows x 24 columns]"
      ]
     },
     "execution_count": 175,
     "metadata": {},
     "output_type": "execute_result"
    }
   ],
   "source": [
    "bel_subte.head(15)"
   ]
  },
  {
   "cell_type": "markdown",
   "metadata": {},
   "source": [
    "El 35% de las propiedades tienen una estacion de subte a menos de 500 metros en el barrio de Belgrano."
   ]
  },
  {
   "cell_type": "markdown",
   "metadata": {},
   "source": [
    "[volver a TOC](#section_toc)"
   ]
  },
  {
   "cell_type": "markdown",
   "metadata": {},
   "source": [
    "<a id=\"section_regres\"></a> \n",
    "## Regression\n",
    "\n",
    "Prueba de regresiones\n",
    "\n",
    "[volver a TOC](#section_toc)\n"
   ]
  },
  {
   "cell_type": "code",
   "execution_count": 176,
   "metadata": {},
   "outputs": [
    {
     "data": {
      "text/html": [
       "<div>\n",
       "<style scoped>\n",
       "    .dataframe tbody tr th:only-of-type {\n",
       "        vertical-align: middle;\n",
       "    }\n",
       "\n",
       "    .dataframe tbody tr th {\n",
       "        vertical-align: top;\n",
       "    }\n",
       "\n",
       "    .dataframe thead th {\n",
       "        text-align: right;\n",
       "    }\n",
       "</style>\n",
       "<table border=\"1\" class=\"dataframe\">\n",
       "  <thead>\n",
       "    <tr style=\"text-align: right;\">\n",
       "      <th></th>\n",
       "      <th>column_name</th>\n",
       "      <th>missing_count</th>\n",
       "      <th>missing_ratio</th>\n",
       "    </tr>\n",
       "  </thead>\n",
       "  <tbody>\n",
       "    <tr>\n",
       "      <th>0</th>\n",
       "      <td>property_type</td>\n",
       "      <td>0</td>\n",
       "      <td>0.000000</td>\n",
       "    </tr>\n",
       "    <tr>\n",
       "      <th>1</th>\n",
       "      <td>place_name</td>\n",
       "      <td>0</td>\n",
       "      <td>0.000000</td>\n",
       "    </tr>\n",
       "    <tr>\n",
       "      <th>2</th>\n",
       "      <td>state_name</td>\n",
       "      <td>0</td>\n",
       "      <td>0.000000</td>\n",
       "    </tr>\n",
       "    <tr>\n",
       "      <th>3</th>\n",
       "      <td>lat</td>\n",
       "      <td>545</td>\n",
       "      <td>0.066871</td>\n",
       "    </tr>\n",
       "    <tr>\n",
       "      <th>4</th>\n",
       "      <td>lon</td>\n",
       "      <td>545</td>\n",
       "      <td>0.066871</td>\n",
       "    </tr>\n",
       "    <tr>\n",
       "      <th>5</th>\n",
       "      <td>price</td>\n",
       "      <td>0</td>\n",
       "      <td>0.000000</td>\n",
       "    </tr>\n",
       "    <tr>\n",
       "      <th>6</th>\n",
       "      <td>currency</td>\n",
       "      <td>0</td>\n",
       "      <td>0.000000</td>\n",
       "    </tr>\n",
       "    <tr>\n",
       "      <th>7</th>\n",
       "      <td>price_aprox_local_currency</td>\n",
       "      <td>0</td>\n",
       "      <td>0.000000</td>\n",
       "    </tr>\n",
       "    <tr>\n",
       "      <th>8</th>\n",
       "      <td>price_aprox_usd</td>\n",
       "      <td>0</td>\n",
       "      <td>0.000000</td>\n",
       "    </tr>\n",
       "    <tr>\n",
       "      <th>9</th>\n",
       "      <td>surface_total_in_m2</td>\n",
       "      <td>0</td>\n",
       "      <td>0.000000</td>\n",
       "    </tr>\n",
       "    <tr>\n",
       "      <th>10</th>\n",
       "      <td>surface_covered_in_m2</td>\n",
       "      <td>0</td>\n",
       "      <td>0.000000</td>\n",
       "    </tr>\n",
       "    <tr>\n",
       "      <th>11</th>\n",
       "      <td>price_usd_per_m2</td>\n",
       "      <td>0</td>\n",
       "      <td>0.000000</td>\n",
       "    </tr>\n",
       "    <tr>\n",
       "      <th>12</th>\n",
       "      <td>price_per_m2</td>\n",
       "      <td>99</td>\n",
       "      <td>0.012147</td>\n",
       "    </tr>\n",
       "    <tr>\n",
       "      <th>13</th>\n",
       "      <td>rooms</td>\n",
       "      <td>0</td>\n",
       "      <td>0.000000</td>\n",
       "    </tr>\n",
       "    <tr>\n",
       "      <th>14</th>\n",
       "      <td>expenses</td>\n",
       "      <td>0</td>\n",
       "      <td>0.000000</td>\n",
       "    </tr>\n",
       "    <tr>\n",
       "      <th>15</th>\n",
       "      <td>description</td>\n",
       "      <td>0</td>\n",
       "      <td>0.000000</td>\n",
       "    </tr>\n",
       "    <tr>\n",
       "      <th>16</th>\n",
       "      <td>title</td>\n",
       "      <td>0</td>\n",
       "      <td>0.000000</td>\n",
       "    </tr>\n",
       "    <tr>\n",
       "      <th>17</th>\n",
       "      <td>properati_url</td>\n",
       "      <td>0</td>\n",
       "      <td>0.000000</td>\n",
       "    </tr>\n",
       "    <tr>\n",
       "      <th>18</th>\n",
       "      <td>surface_uncovered_in_m2</td>\n",
       "      <td>0</td>\n",
       "      <td>0.000000</td>\n",
       "    </tr>\n",
       "    <tr>\n",
       "      <th>19</th>\n",
       "      <td>Exterior_True</td>\n",
       "      <td>0</td>\n",
       "      <td>0.000000</td>\n",
       "    </tr>\n",
       "    <tr>\n",
       "      <th>20</th>\n",
       "      <td>Pileta_True</td>\n",
       "      <td>0</td>\n",
       "      <td>0.000000</td>\n",
       "    </tr>\n",
       "    <tr>\n",
       "      <th>21</th>\n",
       "      <td>Cochera_True</td>\n",
       "      <td>0</td>\n",
       "      <td>0.000000</td>\n",
       "    </tr>\n",
       "    <tr>\n",
       "      <th>22</th>\n",
       "      <td>subte</td>\n",
       "      <td>0</td>\n",
       "      <td>0.000000</td>\n",
       "    </tr>\n",
       "    <tr>\n",
       "      <th>23</th>\n",
       "      <td>Subte_True</td>\n",
       "      <td>0</td>\n",
       "      <td>0.000000</td>\n",
       "    </tr>\n",
       "  </tbody>\n",
       "</table>\n",
       "</div>"
      ],
      "text/plain": [
       "                   column_name  missing_count  missing_ratio\n",
       "0                property_type              0       0.000000\n",
       "1                   place_name              0       0.000000\n",
       "2                   state_name              0       0.000000\n",
       "3                          lat            545       0.066871\n",
       "4                          lon            545       0.066871\n",
       "5                        price              0       0.000000\n",
       "6                     currency              0       0.000000\n",
       "7   price_aprox_local_currency              0       0.000000\n",
       "8              price_aprox_usd              0       0.000000\n",
       "9          surface_total_in_m2              0       0.000000\n",
       "10       surface_covered_in_m2              0       0.000000\n",
       "11            price_usd_per_m2              0       0.000000\n",
       "12                price_per_m2             99       0.012147\n",
       "13                       rooms              0       0.000000\n",
       "14                    expenses              0       0.000000\n",
       "15                 description              0       0.000000\n",
       "16                       title              0       0.000000\n",
       "17               properati_url              0       0.000000\n",
       "18     surface_uncovered_in_m2              0       0.000000\n",
       "19               Exterior_True              0       0.000000\n",
       "20                 Pileta_True              0       0.000000\n",
       "21                Cochera_True              0       0.000000\n",
       "22                       subte              0       0.000000\n",
       "23                  Subte_True              0       0.000000"
      ]
     },
     "execution_count": 176,
     "metadata": {},
     "output_type": "execute_result"
    }
   ],
   "source": [
    "missing_df = bel_subte.isnull().sum(axis=0).reset_index()\n",
    "missing_df.columns = ['column_name', 'missing_count']\n",
    "missing_df['missing_ratio'] = missing_df['missing_count'] / df_barrios.shape[0]\n",
    "missing_df# "
   ]
  },
  {
   "cell_type": "code",
   "execution_count": 188,
   "metadata": {},
   "outputs": [
    {
     "name": "stdout",
     "output_type": "stream",
     "text": [
      "     price_usd_per_m2  price_per_m2  surface_total_in_m2  \\\n",
      "7         3066.666667   3450.000000                 45.0   \n",
      "8         3000.000000   3250.000000                 65.0   \n",
      "210       4210.526316   4444.444444                 57.0   \n",
      "216       3437.500000   3666.666667                160.0   \n",
      "219       3548.387097   3666.666667                310.0   \n",
      "\n",
      "     surface_covered_in_m2  surface_uncovered_in_m2  rooms     expenses  \\\n",
      "7                     40.0                      5.0    4.0  5528.051661   \n",
      "8                     60.0                      5.0    3.0  5505.084906   \n",
      "210                   54.0                      3.0    2.0  2004.828571   \n",
      "216                  150.0                     10.0    4.0  5528.051661   \n",
      "219                  300.0                     10.0    6.0  3700.000000   \n",
      "\n",
      "     Exterior_True  Pileta_True  Cochera_True  Subte_True  \n",
      "7                1            0             0           0  \n",
      "8                1            0             0           0  \n",
      "210              1            0             0           1  \n",
      "216              1            0             1           1  \n",
      "219              1            1             1           1  \n"
     ]
    },
    {
     "data": {
      "text/html": [
       "<div>\n",
       "<style scoped>\n",
       "    .dataframe tbody tr th:only-of-type {\n",
       "        vertical-align: middle;\n",
       "    }\n",
       "\n",
       "    .dataframe tbody tr th {\n",
       "        vertical-align: top;\n",
       "    }\n",
       "\n",
       "    .dataframe thead th {\n",
       "        text-align: right;\n",
       "    }\n",
       "</style>\n",
       "<table border=\"1\" class=\"dataframe\">\n",
       "  <thead>\n",
       "    <tr style=\"text-align: right;\">\n",
       "      <th></th>\n",
       "      <th>price_usd_per_m2</th>\n",
       "      <th>price_per_m2</th>\n",
       "      <th>surface_total_in_m2</th>\n",
       "      <th>surface_covered_in_m2</th>\n",
       "      <th>surface_uncovered_in_m2</th>\n",
       "      <th>rooms</th>\n",
       "      <th>expenses</th>\n",
       "      <th>Exterior_True</th>\n",
       "      <th>Pileta_True</th>\n",
       "      <th>Cochera_True</th>\n",
       "      <th>Subte_True</th>\n",
       "    </tr>\n",
       "  </thead>\n",
       "  <tbody>\n",
       "    <tr>\n",
       "      <th>price_usd_per_m2</th>\n",
       "      <td>1.000000</td>\n",
       "      <td>0.872729</td>\n",
       "      <td>0.105110</td>\n",
       "      <td>0.158218</td>\n",
       "      <td>-0.104761</td>\n",
       "      <td>0.050373</td>\n",
       "      <td>0.186580</td>\n",
       "      <td>0.032273</td>\n",
       "      <td>0.196751</td>\n",
       "      <td>0.218014</td>\n",
       "      <td>-0.204438</td>\n",
       "    </tr>\n",
       "    <tr>\n",
       "      <th>price_per_m2</th>\n",
       "      <td>0.872729</td>\n",
       "      <td>1.000000</td>\n",
       "      <td>0.166612</td>\n",
       "      <td>0.119606</td>\n",
       "      <td>0.226112</td>\n",
       "      <td>0.028423</td>\n",
       "      <td>0.168065</td>\n",
       "      <td>0.217227</td>\n",
       "      <td>0.160759</td>\n",
       "      <td>0.206810</td>\n",
       "      <td>-0.213826</td>\n",
       "    </tr>\n",
       "    <tr>\n",
       "      <th>surface_total_in_m2</th>\n",
       "      <td>0.105110</td>\n",
       "      <td>0.166612</td>\n",
       "      <td>1.000000</td>\n",
       "      <td>0.965100</td>\n",
       "      <td>0.620621</td>\n",
       "      <td>0.413873</td>\n",
       "      <td>0.649458</td>\n",
       "      <td>0.040396</td>\n",
       "      <td>0.136990</td>\n",
       "      <td>0.343074</td>\n",
       "      <td>0.021686</td>\n",
       "    </tr>\n",
       "    <tr>\n",
       "      <th>surface_covered_in_m2</th>\n",
       "      <td>0.158218</td>\n",
       "      <td>0.119606</td>\n",
       "      <td>0.965100</td>\n",
       "      <td>1.000000</td>\n",
       "      <td>0.393617</td>\n",
       "      <td>0.435091</td>\n",
       "      <td>0.673431</td>\n",
       "      <td>-0.041765</td>\n",
       "      <td>0.145464</td>\n",
       "      <td>0.344642</td>\n",
       "      <td>0.024763</td>\n",
       "    </tr>\n",
       "    <tr>\n",
       "      <th>surface_uncovered_in_m2</th>\n",
       "      <td>-0.104761</td>\n",
       "      <td>0.226112</td>\n",
       "      <td>0.620621</td>\n",
       "      <td>0.393617</td>\n",
       "      <td>1.000000</td>\n",
       "      <td>0.150083</td>\n",
       "      <td>0.263423</td>\n",
       "      <td>0.266850</td>\n",
       "      <td>0.045331</td>\n",
       "      <td>0.172373</td>\n",
       "      <td>0.001980</td>\n",
       "    </tr>\n",
       "    <tr>\n",
       "      <th>rooms</th>\n",
       "      <td>0.050373</td>\n",
       "      <td>0.028423</td>\n",
       "      <td>0.413873</td>\n",
       "      <td>0.435091</td>\n",
       "      <td>0.150083</td>\n",
       "      <td>1.000000</td>\n",
       "      <td>0.384847</td>\n",
       "      <td>-0.015329</td>\n",
       "      <td>-0.113904</td>\n",
       "      <td>0.151803</td>\n",
       "      <td>-0.107412</td>\n",
       "    </tr>\n",
       "    <tr>\n",
       "      <th>expenses</th>\n",
       "      <td>0.186580</td>\n",
       "      <td>0.168065</td>\n",
       "      <td>0.649458</td>\n",
       "      <td>0.673431</td>\n",
       "      <td>0.263423</td>\n",
       "      <td>0.384847</td>\n",
       "      <td>1.000000</td>\n",
       "      <td>0.052056</td>\n",
       "      <td>0.090958</td>\n",
       "      <td>0.317058</td>\n",
       "      <td>-0.026406</td>\n",
       "    </tr>\n",
       "    <tr>\n",
       "      <th>Exterior_True</th>\n",
       "      <td>0.032273</td>\n",
       "      <td>0.217227</td>\n",
       "      <td>0.040396</td>\n",
       "      <td>-0.041765</td>\n",
       "      <td>0.266850</td>\n",
       "      <td>-0.015329</td>\n",
       "      <td>0.052056</td>\n",
       "      <td>1.000000</td>\n",
       "      <td>0.006168</td>\n",
       "      <td>0.067030</td>\n",
       "      <td>-0.022985</td>\n",
       "    </tr>\n",
       "    <tr>\n",
       "      <th>Pileta_True</th>\n",
       "      <td>0.196751</td>\n",
       "      <td>0.160759</td>\n",
       "      <td>0.136990</td>\n",
       "      <td>0.145464</td>\n",
       "      <td>0.045331</td>\n",
       "      <td>-0.113904</td>\n",
       "      <td>0.090958</td>\n",
       "      <td>0.006168</td>\n",
       "      <td>1.000000</td>\n",
       "      <td>0.124671</td>\n",
       "      <td>0.045549</td>\n",
       "    </tr>\n",
       "    <tr>\n",
       "      <th>Cochera_True</th>\n",
       "      <td>0.218014</td>\n",
       "      <td>0.206810</td>\n",
       "      <td>0.343074</td>\n",
       "      <td>0.344642</td>\n",
       "      <td>0.172373</td>\n",
       "      <td>0.151803</td>\n",
       "      <td>0.317058</td>\n",
       "      <td>0.067030</td>\n",
       "      <td>0.124671</td>\n",
       "      <td>1.000000</td>\n",
       "      <td>0.035893</td>\n",
       "    </tr>\n",
       "    <tr>\n",
       "      <th>Subte_True</th>\n",
       "      <td>-0.204438</td>\n",
       "      <td>-0.213826</td>\n",
       "      <td>0.021686</td>\n",
       "      <td>0.024763</td>\n",
       "      <td>0.001980</td>\n",
       "      <td>-0.107412</td>\n",
       "      <td>-0.026406</td>\n",
       "      <td>-0.022985</td>\n",
       "      <td>0.045549</td>\n",
       "      <td>0.035893</td>\n",
       "      <td>1.000000</td>\n",
       "    </tr>\n",
       "  </tbody>\n",
       "</table>\n",
       "</div>"
      ],
      "text/plain": [
       "                         price_usd_per_m2  price_per_m2  surface_total_in_m2  \\\n",
       "price_usd_per_m2                 1.000000      0.872729             0.105110   \n",
       "price_per_m2                     0.872729      1.000000             0.166612   \n",
       "surface_total_in_m2              0.105110      0.166612             1.000000   \n",
       "surface_covered_in_m2            0.158218      0.119606             0.965100   \n",
       "surface_uncovered_in_m2         -0.104761      0.226112             0.620621   \n",
       "rooms                            0.050373      0.028423             0.413873   \n",
       "expenses                         0.186580      0.168065             0.649458   \n",
       "Exterior_True                    0.032273      0.217227             0.040396   \n",
       "Pileta_True                      0.196751      0.160759             0.136990   \n",
       "Cochera_True                     0.218014      0.206810             0.343074   \n",
       "Subte_True                      -0.204438     -0.213826             0.021686   \n",
       "\n",
       "                         surface_covered_in_m2  surface_uncovered_in_m2  \\\n",
       "price_usd_per_m2                      0.158218                -0.104761   \n",
       "price_per_m2                          0.119606                 0.226112   \n",
       "surface_total_in_m2                   0.965100                 0.620621   \n",
       "surface_covered_in_m2                 1.000000                 0.393617   \n",
       "surface_uncovered_in_m2               0.393617                 1.000000   \n",
       "rooms                                 0.435091                 0.150083   \n",
       "expenses                              0.673431                 0.263423   \n",
       "Exterior_True                        -0.041765                 0.266850   \n",
       "Pileta_True                           0.145464                 0.045331   \n",
       "Cochera_True                          0.344642                 0.172373   \n",
       "Subte_True                            0.024763                 0.001980   \n",
       "\n",
       "                            rooms  expenses  Exterior_True  Pileta_True  \\\n",
       "price_usd_per_m2         0.050373  0.186580       0.032273     0.196751   \n",
       "price_per_m2             0.028423  0.168065       0.217227     0.160759   \n",
       "surface_total_in_m2      0.413873  0.649458       0.040396     0.136990   \n",
       "surface_covered_in_m2    0.435091  0.673431      -0.041765     0.145464   \n",
       "surface_uncovered_in_m2  0.150083  0.263423       0.266850     0.045331   \n",
       "rooms                    1.000000  0.384847      -0.015329    -0.113904   \n",
       "expenses                 0.384847  1.000000       0.052056     0.090958   \n",
       "Exterior_True           -0.015329  0.052056       1.000000     0.006168   \n",
       "Pileta_True             -0.113904  0.090958       0.006168     1.000000   \n",
       "Cochera_True             0.151803  0.317058       0.067030     0.124671   \n",
       "Subte_True              -0.107412 -0.026406      -0.022985     0.045549   \n",
       "\n",
       "                         Cochera_True  Subte_True  \n",
       "price_usd_per_m2             0.218014   -0.204438  \n",
       "price_per_m2                 0.206810   -0.213826  \n",
       "surface_total_in_m2          0.343074    0.021686  \n",
       "surface_covered_in_m2        0.344642    0.024763  \n",
       "surface_uncovered_in_m2      0.172373    0.001980  \n",
       "rooms                        0.151803   -0.107412  \n",
       "expenses                     0.317058   -0.026406  \n",
       "Exterior_True                0.067030   -0.022985  \n",
       "Pileta_True                  0.124671    0.045549  \n",
       "Cochera_True                 1.000000    0.035893  \n",
       "Subte_True                   0.035893    1.000000  "
      ]
     },
     "execution_count": 188,
     "metadata": {},
     "output_type": "execute_result"
    }
   ],
   "source": [
    "#Filtramos las columnas que vamos a usar para el modelo\n",
    "bel_subte_corr = bel_subte[['price_usd_per_m2','price_per_m2','surface_total_in_m2', 'surface_covered_in_m2', 'surface_uncovered_in_m2', 'rooms','expenses', 'Exterior_True', 'Pileta_True','Cochera_True','Subte_True' ]]\n",
    "print(bel_subte_corr.head())\n",
    "bel_subte_corr.corr()"
   ]
  },
  {
   "cell_type": "code",
   "execution_count": 189,
   "metadata": {
    "scrolled": true
   },
   "outputs": [
    {
     "data": {
      "text/plain": [
       "<AxesSubplot:>"
      ]
     },
     "execution_count": 189,
     "metadata": {},
     "output_type": "execute_result"
    },
    {
     "data": {
      "image/png": "[encoded data removed]",
      "text/plain": [
       "<Figure size 720x504 with 2 Axes>"
      ]
     },
     "metadata": {},
     "output_type": "display_data"
    }
   ],
   "source": [
    "sns.heatmap(bel_subte_corr.corr(), annot=True, vmin=-1, cmap='Blues')"
   ]
  },
  {
   "cell_type": "markdown",
   "metadata": {},
   "source": [
    "Decidimos calcular los dos modelos. Con las dos vbles dependientes: usd y no usd."
   ]
  },
  {
   "cell_type": "code",
   "execution_count": 200,
   "metadata": {},
   "outputs": [
    {
     "name": "stderr",
     "output_type": "stream",
     "text": [
      "/opt/anaconda3/envs/dhdsblend/lib/python3.7/site-packages/ipykernel_launcher.py:1: SettingWithCopyWarning: \n",
      "A value is trying to be set on a copy of a slice from a DataFrame.\n",
      "Try using .loc[row_indexer,col_indexer] = value instead\n",
      "\n",
      "See the caveats in the documentation: https://pandas.pydata.org/pandas-docs/stable/user_guide/indexing.html#returning-a-view-versus-a-copy\n",
      "  \"\"\"Entry point for launching an IPython kernel.\n",
      "/opt/anaconda3/envs/dhdsblend/lib/python3.7/site-packages/ipykernel_launcher.py:2: SettingWithCopyWarning: \n",
      "A value is trying to be set on a copy of a slice from a DataFrame.\n",
      "Try using .loc[row_indexer,col_indexer] = value instead\n",
      "\n",
      "See the caveats in the documentation: https://pandas.pydata.org/pandas-docs/stable/user_guide/indexing.html#returning-a-view-versus-a-copy\n",
      "  \n"
     ]
    },
    {
     "data": {
      "text/html": [
       "<div>\n",
       "<style scoped>\n",
       "    .dataframe tbody tr th:only-of-type {\n",
       "        vertical-align: middle;\n",
       "    }\n",
       "\n",
       "    .dataframe tbody tr th {\n",
       "        vertical-align: top;\n",
       "    }\n",
       "\n",
       "    .dataframe thead th {\n",
       "        text-align: right;\n",
       "    }\n",
       "</style>\n",
       "<table border=\"1\" class=\"dataframe\">\n",
       "  <thead>\n",
       "    <tr style=\"text-align: right;\">\n",
       "      <th></th>\n",
       "      <th>price_usd_per_m2</th>\n",
       "      <th>price_per_m2</th>\n",
       "      <th>surface_total_in_m2</th>\n",
       "      <th>surface_covered_in_m2</th>\n",
       "      <th>surface_uncovered_in_m2</th>\n",
       "      <th>rooms</th>\n",
       "      <th>expenses</th>\n",
       "      <th>Exterior_True</th>\n",
       "      <th>Pileta_True</th>\n",
       "      <th>Cochera_True</th>\n",
       "      <th>Subte_True</th>\n",
       "      <th>surface_uncovered_in_m2_2</th>\n",
       "      <th>surface_covered_in_m2_2</th>\n",
       "    </tr>\n",
       "  </thead>\n",
       "  <tbody>\n",
       "    <tr>\n",
       "      <th>7</th>\n",
       "      <td>3066.666667</td>\n",
       "      <td>3450.000000</td>\n",
       "      <td>45.0</td>\n",
       "      <td>40.0</td>\n",
       "      <td>5.0</td>\n",
       "      <td>4.0</td>\n",
       "      <td>5528.051661</td>\n",
       "      <td>1</td>\n",
       "      <td>0</td>\n",
       "      <td>0</td>\n",
       "      <td>0</td>\n",
       "      <td>25.0</td>\n",
       "      <td>1600.0</td>\n",
       "    </tr>\n",
       "    <tr>\n",
       "      <th>8</th>\n",
       "      <td>3000.000000</td>\n",
       "      <td>3250.000000</td>\n",
       "      <td>65.0</td>\n",
       "      <td>60.0</td>\n",
       "      <td>5.0</td>\n",
       "      <td>3.0</td>\n",
       "      <td>5505.084906</td>\n",
       "      <td>1</td>\n",
       "      <td>0</td>\n",
       "      <td>0</td>\n",
       "      <td>0</td>\n",
       "      <td>25.0</td>\n",
       "      <td>3600.0</td>\n",
       "    </tr>\n",
       "    <tr>\n",
       "      <th>210</th>\n",
       "      <td>4210.526316</td>\n",
       "      <td>4444.444444</td>\n",
       "      <td>57.0</td>\n",
       "      <td>54.0</td>\n",
       "      <td>3.0</td>\n",
       "      <td>2.0</td>\n",
       "      <td>2004.828571</td>\n",
       "      <td>1</td>\n",
       "      <td>0</td>\n",
       "      <td>0</td>\n",
       "      <td>1</td>\n",
       "      <td>9.0</td>\n",
       "      <td>2916.0</td>\n",
       "    </tr>\n",
       "  </tbody>\n",
       "</table>\n",
       "</div>"
      ],
      "text/plain": [
       "     price_usd_per_m2  price_per_m2  surface_total_in_m2  \\\n",
       "7         3066.666667   3450.000000                 45.0   \n",
       "8         3000.000000   3250.000000                 65.0   \n",
       "210       4210.526316   4444.444444                 57.0   \n",
       "\n",
       "     surface_covered_in_m2  surface_uncovered_in_m2  rooms     expenses  \\\n",
       "7                     40.0                      5.0    4.0  5528.051661   \n",
       "8                     60.0                      5.0    3.0  5505.084906   \n",
       "210                   54.0                      3.0    2.0  2004.828571   \n",
       "\n",
       "     Exterior_True  Pileta_True  Cochera_True  Subte_True  \\\n",
       "7                1            0             0           0   \n",
       "8                1            0             0           0   \n",
       "210              1            0             0           1   \n",
       "\n",
       "     surface_uncovered_in_m2_2  surface_covered_in_m2_2  \n",
       "7                         25.0                   1600.0  \n",
       "8                         25.0                   3600.0  \n",
       "210                        9.0                   2916.0  "
      ]
     },
     "execution_count": 200,
     "metadata": {},
     "output_type": "execute_result"
    }
   ],
   "source": [
    "bel_subte_corr['surface_uncovered_in_m2_2'] = bel_subte_corr['surface_uncovered_in_m2']**2\n",
    "bel_subte_corr['surface_covered_in_m2_2'] = bel_subte_corr['surface_covered_in_m2']**2\n",
    "bel_subte_corr.head(3)"
   ]
  },
  {
   "cell_type": "code",
   "execution_count": 190,
   "metadata": {},
   "outputs": [],
   "source": [
    "from sklearn.model_selection import cross_val_score\n",
    "from sklearn import linear_model\n",
    "from sklearn.linear_model import LinearRegression\n",
    "from sklearn.metrics import r2_score\n",
    "from sklearn.model_selection import train_test_split\n",
    "from sklearn.model_selection import cross_val_score\n",
    "from sklearn.model_selection import KFold\n",
    "from sklearn.feature_selection import RFE"
   ]
  },
  {
   "cell_type": "code",
   "execution_count": 201,
   "metadata": {},
   "outputs": [],
   "source": [
    "#Declaramos las variables independientes y la dependiente\n",
    "X = bel_subte_corr[['surface_uncovered_in_m2_2', 'surface_covered_in_m2_2', 'surface_uncovered_in_m2', 'surface_covered_in_m2','rooms','expenses','Exterior_True', 'Pileta_True', 'Subte_True', 'Cochera_True']]\n",
    "y = bel_subte_corr['price_usd_per_m2']"
   ]
  },
  {
   "cell_type": "code",
   "execution_count": 202,
   "metadata": {},
   "outputs": [],
   "source": [
    "#garage parrilla e interacciones de dummies"
   ]
  },
  {
   "cell_type": "code",
   "execution_count": 210,
   "metadata": {},
   "outputs": [
    {
     "name": "stdout",
     "output_type": "stream",
     "text": [
      "r^2_mean:  0.17\n",
      "r^2 CV models: [0.08792419 0.21983927 0.24070428 0.0940139  0.18697334]\n"
     ]
    }
   ],
   "source": [
    "#Primer modelo simple\n",
    "\n",
    "X_train, X_test, y_train, y_test = train_test_split(X, y, test_size=0.30, random_state=10)\n",
    "lm = LinearRegression()\n",
    "model_1 = cross_val_score (lm,X_train,y_train, cv=5, scoring='r2')\n",
    "#y_pred = model_1.predict(X_test) # or should be X_train\n",
    "\n",
    "\n",
    "print(\"r^2_mean: \",round(model_1.mean(),2))\n",
    "print('r^2 CV models:',model_1)"
   ]
  },
  {
   "cell_type": "code",
   "execution_count": 221,
   "metadata": {},
   "outputs": [
    {
     "name": "stdout",
     "output_type": "stream",
     "text": [
      "r^2_mean:  0.17\n",
      "r^2 model_2 Ridge test: 0.16\n"
     ]
    }
   ],
   "source": [
    "#Segundo modelo usando Ridge y Cross Validation\n",
    "lm_ridge = linear_model.RidgeCV(alphas=[0.00001, 0.00005, 0.0001, 0.0005, 0.001, 0.005, 0.01,\\\n",
    "                                        0.05, 0.1, 1, 5, 10],\\\n",
    "                                      normalize=True, cv=5, scoring='r2')\n",
    "\n",
    "# best_score_\n",
    "\n",
    "model_2 = lm_ridge.fit(X_train, y_train)\n",
    "\n",
    "y_pred = model_2.predict(X_test) # or should be X_train\n",
    "\n",
    "model2_r2 = cross_val_score (lm_ridge,X_train,y_train, cv=5, scoring='r2')\n",
    "\n",
    "print(\"r^2_mean: \",round(model2_r2.mean(),2))\n",
    "\n",
    "#AL FINAL \n",
    "print('r^2 model_2 Ridge test:', round(model_2.score(X_test, y_test),2))\n",
    "\n",
    "#print('Score model_2:', model_2.score(X_test, y_test))\n",
    "# print ('Modelo 2 MAE:', metrics.mean_absolute_error(y_test, y_pred))\n",
    "# print ('Modelo 2 MSE:', metrics.mean_squared_error(y_test, y_pred))\n",
    "# print ('Modelo 2 RMSE:', np.sqrt(metrics.mean_squared_error(y_test, y_pred)))\n",
    " "
   ]
  },
  {
   "cell_type": "code",
   "execution_count": 205,
   "metadata": {},
   "outputs": [],
   "source": [
    "#Segundo modelo R2 Test - sneak peak\n",
    "\n",
    "#print('Score model_test_2:', model_2.score(X_test, y_test))"
   ]
  },
  {
   "cell_type": "code",
   "execution_count": 223,
   "metadata": {},
   "outputs": [
    {
     "name": "stdout",
     "output_type": "stream",
     "text": [
      "r^2  model_3 Lasso train: 0.18\n",
      "r^2  model_3 Lasso test: 0.16\n"
     ]
    }
   ],
   "source": [
    "#Tercer modelo usando Lasso y Cross Validation\n",
    "lm_lasso = linear_model.LassoCV(alphas=np.linspace(0.0001,100,1000),\\\n",
    "                                        normalize=True, cv=5)\n",
    "model_3 = lm_lasso.fit(X_train, y_train)\n",
    "#y_pred = model_3.predict(X_test)\n",
    "print('r^2  model_3 Lasso train:', round(model_3.score(X_train, y_train),2))\n",
    "print('r^2  model_3 Lasso test:', round(model_3.score(X_test, y_test),2))\n",
    "#print ('Modelo 3 MAE:', metrics.mean_absolute_error(y_test, y_pred))\n",
    "#print ('Modelo 3 MSE:', metrics.mean_squared_error(y_test, y_pred))\n",
    "#print ('Modelo 3 RMSE:', np.sqrt(metrics.mean_squared_error(y_test, y_pred)))\n",
    "#print ('Modelo 3 R2:', metrics.r2_score(y_test, y_pred))\n"
   ]
  },
  {
   "cell_type": "code",
   "execution_count": 207,
   "metadata": {},
   "outputs": [
    {
     "name": "stdout",
     "output_type": "stream",
     "text": [
      "{'alpha': 0.1002, 'zero_coefs': 1}\n"
     ]
    },
    {
     "data": {
      "text/plain": [
       "[('surface_uncovered_in_m2_2', 0.0),\n",
       " ('surface_covered_in_m2_2', -0.005108964560977761),\n",
       " ('surface_uncovered_in_m2', -8.205316474919432),\n",
       " ('surface_covered_in_m2', 3.452234904660289),\n",
       " ('rooms', -41.97767433621923),\n",
       " ('expenses', 0.019528608146922786),\n",
       " ('Exterior_True', 177.05422626366067),\n",
       " ('Pileta_True', 589.6649688754073),\n",
       " ('Subte_True', -468.91558749738385),\n",
       " ('Cochera_True', 297.63866043233895)]"
      ]
     },
     "execution_count": 207,
     "metadata": {},
     "output_type": "execute_result"
    }
   ],
   "source": [
    "print(dict(alpha=lm_lasso.alpha_, zero_coefs=(lm_lasso.coef_ == 0).sum()))\n",
    "list(zip(X.columns, lm_lasso.coef_))"
   ]
  },
  {
   "cell_type": "code",
   "execution_count": 222,
   "metadata": {},
   "outputs": [
    {
     "name": "stdout",
     "output_type": "stream",
     "text": [
      "r^2  model_4 Elastic Net train: 0.19\n",
      "r^2  model_4 Elastic Net test: 0.16\n"
     ]
    }
   ],
   "source": [
    "#Quinto modelo usando elastic net\n",
    "lm_elasticnet = linear_model.ElasticNet(alpha=0.00001, normalize=True)\n",
    "model_4 = lm_elasticnet.fit(X_train, y_train)\n",
    "#y_pred = model_5.predict(X_test)\n",
    "print('r^2  model_4 Elastic Net train:', round(model_4.score(X_train, y_train),2))\n",
    "print('r^2  model_4 Elastic Net test:', round(model_4.score(X_test, y_test),2))\n",
    "#print ('Modelo 5 MAE:', metrics.mean_absolute_error(y_test, y_pred))\n",
    "#print ('Modelo 5 MSE:', metrics.mean_squared_error(y_test, y_pred))\n",
    "#print ('Modelo 5 RMSE:', np.sqrt(metrics.mean_squared_error(y_test, y_pred)))\n",
    "#print ('Modelo 5 R2:', metrics.r2_score(y_test, y_pred)) (edited) "
   ]
  },
  {
   "cell_type": "code",
   "execution_count": null,
   "metadata": {},
   "outputs": [],
   "source": []
  },
  {
   "cell_type": "code",
   "execution_count": null,
   "metadata": {},
   "outputs": [],
   "source": []
  }
 ],
 "metadata": {
  "kernelspec": {
   "display_name": "Python 3",
   "language": "python",
   "name": "python3"
  },
  "language_info": {
   "codemirror_mode": {
    "name": "ipython",
    "version": 3
   },
   "file_extension": ".py",
   "mimetype": "text/x-python",
   "name": "python",
   "nbconvert_exporter": "python",
   "pygments_lexer": "ipython3",
   "version": "3.7.7"
  }
 },
 "nbformat": 4,
 "nbformat_minor": 4
}
