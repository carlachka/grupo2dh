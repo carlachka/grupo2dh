{
 "cells": [
  {
   "cell_type": "markdown",
   "metadata": {},
   "source": [
    "<a id=\"section_toc\"></a> \n",
    "## Tabla de Contenidos\n",
    "\n",
    " \n",
    "* Data cleaning\n",
    "\n",
    "[price variables](#price)\n",
    "\n",
    "[missing](#missing)\n",
    "\n",
    "[price_usd_per_m2](#section_price_1000)\n",
    "\n",
    "[surface_covered_in_m2](#section_surface)\n",
    "\n",
    "[room](#section_room)\n",
    "\n",
    "[expenses](#section_exp2)\n",
    "\n",
    "[floor](#section_floor)\n",
    "\n",
    "* Relaciones entre variables\n",
    "\n",
    "[descriptivas](#section_des)\n",
    "\n",
    "[correlacion](#section_corr)\n",
    "\n",
    "\n",
    "* Nuevas columnas/variables creadas:\n",
    "\n",
    "sobre el data original:\n",
    "\n",
    "[sup_uncovered](#section_uncovered)\n",
    "\n",
    "[barrios group](#section_barrios)\n",
    "\n",
    "[property_type](#section_property)\n",
    "\n",
    "[pileta y cochera](#section_pileta)\n",
    "\n",
    "sobre data externa: \n",
    "\n",
    "[subte](#section_externa)\n",
    "\n",
    "[colectivo/bus](#section_bus)\n",
    "\n",
    "[ferrocarril/train](#section_train)\n",
    "\n",
    "* Final data\n",
    "\n",
    "[final_data](#section_final)\n",
    "\n",
    "* Regresiones lineales\n",
    "\n",
    "[regresiones](#section_regres)\n"
   ]
  },
  {
   "cell_type": "code",
   "execution_count": 1,
   "metadata": {},
   "outputs": [],
   "source": [
    "import pandas as pd\n",
    "import numpy as np\n",
    "\n",
    "import matplotlib as mpl\n",
    "import matplotlib.pyplot as plt\n",
    "import seaborn as sns\n",
    "#import missingno as msno\n",
    "import requests\n",
    "sns.set() #par que es?\n",
    "import missingno as msno"
   ]
  },
  {
   "cell_type": "code",
   "execution_count": 2,
   "metadata": {
    "scrolled": true
   },
   "outputs": [
    {
     "data": {
      "text/html": [
       "<div>\n",
       "<style scoped>\n",
       "    .dataframe tbody tr th:only-of-type {\n",
       "        vertical-align: middle;\n",
       "    }\n",
       "\n",
       "    .dataframe tbody tr th {\n",
       "        vertical-align: top;\n",
       "    }\n",
       "\n",
       "    .dataframe thead th {\n",
       "        text-align: right;\n",
       "    }\n",
       "</style>\n",
       "<table border=\"1\" class=\"dataframe\">\n",
       "  <thead>\n",
       "    <tr style=\"text-align: right;\">\n",
       "      <th></th>\n",
       "      <th>operation</th>\n",
       "      <th>property_type</th>\n",
       "      <th>place_name</th>\n",
       "      <th>place_with_parent_names</th>\n",
       "      <th>country_name</th>\n",
       "      <th>state_name</th>\n",
       "      <th>geonames_id</th>\n",
       "      <th>lat-lon</th>\n",
       "      <th>lat</th>\n",
       "      <th>lon</th>\n",
       "      <th>...</th>\n",
       "      <th>surface_covered_in_m2</th>\n",
       "      <th>price_usd_per_m2</th>\n",
       "      <th>price_per_m2</th>\n",
       "      <th>floor</th>\n",
       "      <th>rooms</th>\n",
       "      <th>expenses</th>\n",
       "      <th>properati_url</th>\n",
       "      <th>description</th>\n",
       "      <th>title</th>\n",
       "      <th>image_thumbnail</th>\n",
       "    </tr>\n",
       "  </thead>\n",
       "  <tbody>\n",
       "    <tr>\n",
       "      <th>0</th>\n",
       "      <td>sell</td>\n",
       "      <td>PH</td>\n",
       "      <td>Mataderos</td>\n",
       "      <td>|Argentina|Capital Federal|Mataderos|</td>\n",
       "      <td>Argentina</td>\n",
       "      <td>Capital Federal</td>\n",
       "      <td>3430787.0</td>\n",
       "      <td>-34.6618237,-58.5088387</td>\n",
       "      <td>-34.661824</td>\n",
       "      <td>-58.508839</td>\n",
       "      <td>...</td>\n",
       "      <td>40.0</td>\n",
       "      <td>1127.272727</td>\n",
       "      <td>1550.000000</td>\n",
       "      <td>NaN</td>\n",
       "      <td>NaN</td>\n",
       "      <td>NaN</td>\n",
       "      <td>http://www.properati.com.ar/15bo8_venta_ph_mat...</td>\n",
       "      <td>2 AMBIENTES TIPO CASA PLANTA BAJA POR PASILLO,...</td>\n",
       "      <td>2 AMB TIPO CASA SIN EXPENSAS EN PB</td>\n",
       "      <td>https://thumbs4.properati.com/8/BluUYiHJLhgIIK...</td>\n",
       "    </tr>\n",
       "    <tr>\n",
       "      <th>1</th>\n",
       "      <td>sell</td>\n",
       "      <td>apartment</td>\n",
       "      <td>La Plata</td>\n",
       "      <td>|Argentina|Bs.As. G.B.A. Zona Sur|La Plata|</td>\n",
       "      <td>Argentina</td>\n",
       "      <td>Bs.As. G.B.A. Zona Sur</td>\n",
       "      <td>3432039.0</td>\n",
       "      <td>-34.9038831,-57.9643295</td>\n",
       "      <td>-34.903883</td>\n",
       "      <td>-57.964330</td>\n",
       "      <td>...</td>\n",
       "      <td>NaN</td>\n",
       "      <td>NaN</td>\n",
       "      <td>NaN</td>\n",
       "      <td>NaN</td>\n",
       "      <td>NaN</td>\n",
       "      <td>NaN</td>\n",
       "      <td>http://www.properati.com.ar/15bob_venta_depart...</td>\n",
       "      <td>Venta de departamento en décimo piso al frente...</td>\n",
       "      <td>VENTA Depto 2 dorm. a estrenar 7 e/ 36 y 37   ...</td>\n",
       "      <td>https://thumbs4.properati.com/7/ikpVBu2ztHA7jv...</td>\n",
       "    </tr>\n",
       "    <tr>\n",
       "      <th>2</th>\n",
       "      <td>sell</td>\n",
       "      <td>apartment</td>\n",
       "      <td>Mataderos</td>\n",
       "      <td>|Argentina|Capital Federal|Mataderos|</td>\n",
       "      <td>Argentina</td>\n",
       "      <td>Capital Federal</td>\n",
       "      <td>3430787.0</td>\n",
       "      <td>-34.6522615,-58.5229825</td>\n",
       "      <td>-34.652262</td>\n",
       "      <td>-58.522982</td>\n",
       "      <td>...</td>\n",
       "      <td>55.0</td>\n",
       "      <td>1309.090909</td>\n",
       "      <td>1309.090909</td>\n",
       "      <td>NaN</td>\n",
       "      <td>NaN</td>\n",
       "      <td>NaN</td>\n",
       "      <td>http://www.properati.com.ar/15bod_venta_depart...</td>\n",
       "      <td>2 AMBIENTES 3ER PISO LATERAL LIVING COMEDOR AM...</td>\n",
       "      <td>2 AMB 3ER PISO CON ASCENSOR APTO CREDITO</td>\n",
       "      <td>https://thumbs4.properati.com/5/SXKr34F_IwG3W_...</td>\n",
       "    </tr>\n",
       "    <tr>\n",
       "      <th>3</th>\n",
       "      <td>sell</td>\n",
       "      <td>PH</td>\n",
       "      <td>Liniers</td>\n",
       "      <td>|Argentina|Capital Federal|Liniers|</td>\n",
       "      <td>Argentina</td>\n",
       "      <td>Capital Federal</td>\n",
       "      <td>3431333.0</td>\n",
       "      <td>-34.6477969,-58.5164244</td>\n",
       "      <td>-34.647797</td>\n",
       "      <td>-58.516424</td>\n",
       "      <td>...</td>\n",
       "      <td>NaN</td>\n",
       "      <td>NaN</td>\n",
       "      <td>NaN</td>\n",
       "      <td>NaN</td>\n",
       "      <td>NaN</td>\n",
       "      <td>NaN</td>\n",
       "      <td>http://www.properati.com.ar/15boh_venta_ph_lin...</td>\n",
       "      <td>PH 3 ambientes con patio. Hay 3 deptos en lote...</td>\n",
       "      <td>PH 3 amb. cfte. reciclado</td>\n",
       "      <td>https://thumbs4.properati.com/3/DgIfX-85Mog5SP...</td>\n",
       "    </tr>\n",
       "    <tr>\n",
       "      <th>4</th>\n",
       "      <td>sell</td>\n",
       "      <td>apartment</td>\n",
       "      <td>Centro</td>\n",
       "      <td>|Argentina|Buenos Aires Costa Atlántica|Mar de...</td>\n",
       "      <td>Argentina</td>\n",
       "      <td>Buenos Aires Costa Atlántica</td>\n",
       "      <td>3435548.0</td>\n",
       "      <td>-38.0026256,-57.5494468</td>\n",
       "      <td>-38.002626</td>\n",
       "      <td>-57.549447</td>\n",
       "      <td>...</td>\n",
       "      <td>35.0</td>\n",
       "      <td>1828.571429</td>\n",
       "      <td>1828.571429</td>\n",
       "      <td>NaN</td>\n",
       "      <td>NaN</td>\n",
       "      <td>NaN</td>\n",
       "      <td>http://www.properati.com.ar/15bok_venta_depart...</td>\n",
       "      <td>DEPARTAMENTO CON FANTÁSTICA ILUMINACIÓN NATURA...</td>\n",
       "      <td>DEPTO 2 AMB AL CONTRAFRENTE ZONA CENTRO/PLAZA ...</td>\n",
       "      <td>https://thumbs4.properati.com/5/xrRqlNcSI_vs-f...</td>\n",
       "    </tr>\n",
       "  </tbody>\n",
       "</table>\n",
       "<p>5 rows × 25 columns</p>\n",
       "</div>"
      ],
      "text/plain": [
       "  operation property_type place_name  \\\n",
       "0      sell            PH  Mataderos   \n",
       "1      sell     apartment   La Plata   \n",
       "2      sell     apartment  Mataderos   \n",
       "3      sell            PH    Liniers   \n",
       "4      sell     apartment     Centro   \n",
       "\n",
       "                             place_with_parent_names country_name  \\\n",
       "0              |Argentina|Capital Federal|Mataderos|    Argentina   \n",
       "1        |Argentina|Bs.As. G.B.A. Zona Sur|La Plata|    Argentina   \n",
       "2              |Argentina|Capital Federal|Mataderos|    Argentina   \n",
       "3                |Argentina|Capital Federal|Liniers|    Argentina   \n",
       "4  |Argentina|Buenos Aires Costa Atlántica|Mar de...    Argentina   \n",
       "\n",
       "                     state_name  geonames_id                  lat-lon  \\\n",
       "0               Capital Federal    3430787.0  -34.6618237,-58.5088387   \n",
       "1        Bs.As. G.B.A. Zona Sur    3432039.0  -34.9038831,-57.9643295   \n",
       "2               Capital Federal    3430787.0  -34.6522615,-58.5229825   \n",
       "3               Capital Federal    3431333.0  -34.6477969,-58.5164244   \n",
       "4  Buenos Aires Costa Atlántica    3435548.0  -38.0026256,-57.5494468   \n",
       "\n",
       "         lat        lon  ...  surface_covered_in_m2 price_usd_per_m2  \\\n",
       "0 -34.661824 -58.508839  ...                   40.0      1127.272727   \n",
       "1 -34.903883 -57.964330  ...                    NaN              NaN   \n",
       "2 -34.652262 -58.522982  ...                   55.0      1309.090909   \n",
       "3 -34.647797 -58.516424  ...                    NaN              NaN   \n",
       "4 -38.002626 -57.549447  ...                   35.0      1828.571429   \n",
       "\n",
       "   price_per_m2  floor  rooms  expenses  \\\n",
       "0   1550.000000    NaN    NaN       NaN   \n",
       "1           NaN    NaN    NaN       NaN   \n",
       "2   1309.090909    NaN    NaN       NaN   \n",
       "3           NaN    NaN    NaN       NaN   \n",
       "4   1828.571429    NaN    NaN       NaN   \n",
       "\n",
       "                                       properati_url  \\\n",
       "0  http://www.properati.com.ar/15bo8_venta_ph_mat...   \n",
       "1  http://www.properati.com.ar/15bob_venta_depart...   \n",
       "2  http://www.properati.com.ar/15bod_venta_depart...   \n",
       "3  http://www.properati.com.ar/15boh_venta_ph_lin...   \n",
       "4  http://www.properati.com.ar/15bok_venta_depart...   \n",
       "\n",
       "                                         description  \\\n",
       "0  2 AMBIENTES TIPO CASA PLANTA BAJA POR PASILLO,...   \n",
       "1  Venta de departamento en décimo piso al frente...   \n",
       "2  2 AMBIENTES 3ER PISO LATERAL LIVING COMEDOR AM...   \n",
       "3  PH 3 ambientes con patio. Hay 3 deptos en lote...   \n",
       "4  DEPARTAMENTO CON FANTÁSTICA ILUMINACIÓN NATURA...   \n",
       "\n",
       "                                               title  \\\n",
       "0                 2 AMB TIPO CASA SIN EXPENSAS EN PB   \n",
       "1  VENTA Depto 2 dorm. a estrenar 7 e/ 36 y 37   ...   \n",
       "2           2 AMB 3ER PISO CON ASCENSOR APTO CREDITO   \n",
       "3                       PH 3 amb. cfte. reciclado      \n",
       "4  DEPTO 2 AMB AL CONTRAFRENTE ZONA CENTRO/PLAZA ...   \n",
       "\n",
       "                                     image_thumbnail  \n",
       "0  https://thumbs4.properati.com/8/BluUYiHJLhgIIK...  \n",
       "1  https://thumbs4.properati.com/7/ikpVBu2ztHA7jv...  \n",
       "2  https://thumbs4.properati.com/5/SXKr34F_IwG3W_...  \n",
       "3  https://thumbs4.properati.com/3/DgIfX-85Mog5SP...  \n",
       "4  https://thumbs4.properati.com/5/xrRqlNcSI_vs-f...  \n",
       "\n",
       "[5 rows x 25 columns]"
      ]
     },
     "execution_count": 2,
     "metadata": {},
     "output_type": "execute_result"
    }
   ],
   "source": [
    "df = pd.read_csv(\"../data/properati.csv\", index_col=0)\n",
    "df.head()"
   ]
  },
  {
   "cell_type": "code",
   "execution_count": 3,
   "metadata": {},
   "outputs": [
    {
     "data": {
      "text/plain": [
       "(32316, 25)"
      ]
     },
     "execution_count": 3,
     "metadata": {},
     "output_type": "execute_result"
    }
   ],
   "source": [
    "caba = df.loc[df.state_name == 'Capital Federal', :]\n",
    "caba.shape"
   ]
  },
  {
   "cell_type": "code",
   "execution_count": 4,
   "metadata": {},
   "outputs": [
    {
     "name": "stdout",
     "output_type": "stream",
     "text": [
      "<class 'pandas.core.frame.DataFrame'>\n",
      "Int64Index: 32316 entries, 0 to 121219\n",
      "Data columns (total 25 columns):\n",
      " #   Column                      Non-Null Count  Dtype  \n",
      "---  ------                      --------------  -----  \n",
      " 0   operation                   32316 non-null  object \n",
      " 1   property_type               32316 non-null  object \n",
      " 2   place_name                  32316 non-null  object \n",
      " 3   place_with_parent_names     32316 non-null  object \n",
      " 4   country_name                32316 non-null  object \n",
      " 5   state_name                  32316 non-null  object \n",
      " 6   geonames_id                 31030 non-null  float64\n",
      " 7   lat-lon                     23770 non-null  object \n",
      " 8   lat                         23770 non-null  float64\n",
      " 9   lon                         23770 non-null  float64\n",
      " 10  price                       29018 non-null  float64\n",
      " 11  currency                    29018 non-null  object \n",
      " 12  price_aprox_local_currency  29018 non-null  float64\n",
      " 13  price_aprox_usd             29018 non-null  float64\n",
      " 14  surface_total_in_m2         26437 non-null  float64\n",
      " 15  surface_covered_in_m2       29977 non-null  float64\n",
      " 16  price_usd_per_m2            23434 non-null  float64\n",
      " 17  price_per_m2                27324 non-null  float64\n",
      " 18  floor                       3009 non-null   float64\n",
      " 19  rooms                       15325 non-null  float64\n",
      " 20  expenses                    6592 non-null   float64\n",
      " 21  properati_url               32316 non-null  object \n",
      " 22  description                 32316 non-null  object \n",
      " 23  title                       32316 non-null  object \n",
      " 24  image_thumbnail             31828 non-null  object \n",
      "dtypes: float64(13), object(12)\n",
      "memory usage: 6.4+ MB\n"
     ]
    }
   ],
   "source": [
    "caba.info()"
   ]
  },
  {
   "cell_type": "markdown",
   "metadata": {},
   "source": [
    "<a id=\"price\"></a> \n",
    "## price variables\n",
    "\n",
    "[volver a TOC](#section_toc)"
   ]
  },
  {
   "cell_type": "raw",
   "metadata": {},
   "source": [
    " 10  price                       29018 non-null  float64\n",
    " 11  currency                    29018 non-null  object \n",
    " 12  price_aprox_local_currency  29018 non-null  float64\n",
    " 13  price_aprox_usd             29018 non-null  float64\n",
    " 14  surface_total_in_m2         26437 non-null  float64\n",
    " 15  surface_covered_in_m2       29977 non-null  float64\n",
    " 16  price_usd_per_m2            23434 non-null  float64\n",
    " 17  price_per_m2                27324 non-null  float64"
   ]
  },
  {
   "cell_type": "markdown",
   "metadata": {},
   "source": [
    "price_aprox_usd (29018 non-null) tiene menos missings que price_usd_per_m2 (23434 non-null), e igual a  price (29018 non-null)."
   ]
  },
  {
   "cell_type": "code",
   "execution_count": 5,
   "metadata": {
    "scrolled": true
   },
   "outputs": [
    {
     "name": "stderr",
     "output_type": "stream",
     "text": [
      "/opt/anaconda3/envs/dhdsblend/lib/python3.7/site-packages/ipykernel_launcher.py:1: SettingWithCopyWarning: \n",
      "A value is trying to be set on a copy of a slice from a DataFrame.\n",
      "Try using .loc[row_indexer,col_indexer] = value instead\n",
      "\n",
      "See the caveats in the documentation: https://pandas.pydata.org/pandas-docs/stable/user_guide/indexing.html#returning-a-view-versus-a-copy\n",
      "  \"\"\"Entry point for launching an IPython kernel.\n"
     ]
    },
    {
     "data": {
      "text/plain": [
       "0         17.6445\n",
       "2         17.6445\n",
       "3         17.6445\n",
       "7         17.6445\n",
       "8         17.6445\n",
       "           ...   \n",
       "121160    17.6445\n",
       "121209    17.6445\n",
       "121215    17.6445\n",
       "121217    17.6445\n",
       "121219    17.6445\n",
       "Name: xr, Length: 32316, dtype: float64"
      ]
     },
     "execution_count": 5,
     "metadata": {},
     "output_type": "execute_result"
    }
   ],
   "source": [
    "caba['xr'] = caba['price_aprox_local_currency'] / caba['price_aprox_usd']\n",
    "caba['xr']"
   ]
  },
  {
   "cell_type": "markdown",
   "metadata": {},
   "source": [
    "El tipo de cambio fue 17.64"
   ]
  },
  {
   "cell_type": "code",
   "execution_count": 6,
   "metadata": {},
   "outputs": [
    {
     "data": {
      "text/plain": [
       "USD    27826\n",
       "ARS     1190\n",
       "PEN        2\n",
       "Name: currency, dtype: int64"
      ]
     },
     "execution_count": 6,
     "metadata": {},
     "output_type": "execute_result"
    }
   ],
   "source": [
    "caba['currency'].value_counts()"
   ]
  },
  {
   "cell_type": "code",
   "execution_count": 7,
   "metadata": {},
   "outputs": [
    {
     "data": {
      "text/plain": [
       "0         0.0\n",
       "2         0.0\n",
       "3         0.0\n",
       "7         0.0\n",
       "8         0.0\n",
       "         ... \n",
       "121160    0.0\n",
       "121209    0.0\n",
       "121215    0.0\n",
       "121217    0.0\n",
       "121219    0.0\n",
       "Length: 32316, dtype: float64"
      ]
     },
     "execution_count": 7,
     "metadata": {},
     "output_type": "execute_result"
    }
   ],
   "source": [
    "dif = caba['price'] - caba['price_aprox_usd']\n",
    "dif"
   ]
  },
  {
   "cell_type": "markdown",
   "metadata": {},
   "source": [
    "La diferencia entre price y price_aprox_usd, son los 1190 que estan en currency pesos."
   ]
  },
  {
   "cell_type": "code",
   "execution_count": 8,
   "metadata": {},
   "outputs": [
    {
     "data": {
      "text/plain": [
       "0.00           27826\n",
       "47083357.64        6\n",
       "1812319.35         5\n",
       "1973448.69         4\n",
       "1660443.21         4\n",
       "               ...  \n",
       "1051428.40         1\n",
       "1982224.28         1\n",
       "1624118.48         1\n",
       "2129835.81         1\n",
       "2274601.42         1\n",
       "Length: 978, dtype: int64"
      ]
     },
     "execution_count": 8,
     "metadata": {},
     "output_type": "execute_result"
    }
   ],
   "source": [
    "dif.value_counts()"
   ]
  },
  {
   "cell_type": "code",
   "execution_count": 9,
   "metadata": {},
   "outputs": [],
   "source": [
    "sup = caba['surface_total_in_m2'] - caba['surface_covered_in_m2']"
   ]
  },
  {
   "cell_type": "code",
   "execution_count": 10,
   "metadata": {},
   "outputs": [
    {
     "data": {
      "text/plain": [
       "0.0       6569\n",
       "4.0       1947\n",
       "5.0       1910\n",
       "3.0       1856\n",
       "6.0       1270\n",
       "          ... \n",
       "146.0        1\n",
       "154.0        1\n",
       "431.0        1\n",
       "161.0        1\n",
       "1031.0       1\n",
       "Length: 488, dtype: int64"
      ]
     },
     "execution_count": 10,
     "metadata": {},
     "output_type": "execute_result"
    }
   ],
   "source": [
    "sup.value_counts() #varias coincidencias entre covered y total"
   ]
  },
  {
   "cell_type": "code",
   "execution_count": 11,
   "metadata": {},
   "outputs": [
    {
     "data": {
      "text/plain": [
       "5879"
      ]
     },
     "execution_count": 11,
     "metadata": {},
     "output_type": "execute_result"
    }
   ],
   "source": [
    "caba.surface_total_in_m2.isnull().sum()"
   ]
  },
  {
   "cell_type": "code",
   "execution_count": 12,
   "metadata": {},
   "outputs": [],
   "source": [
    "# #Reemplazamos los missing de sup total con covered.\n",
    "# caba['surface_total_in_m2'] = caba.surface_total_in_m2.fillna(caba['surface_covered_in_m2'])\n",
    "# #Try using .loc[row_indexer,col_indexer] = value instead\n",
    "# caba.surface_total_in_m2.isnull().sum() "
   ]
  },
  {
   "cell_type": "markdown",
   "metadata": {},
   "source": [
    "Calculo de variable dependiente alternativa"
   ]
  },
  {
   "cell_type": "code",
   "execution_count": 13,
   "metadata": {},
   "outputs": [
    {
     "name": "stderr",
     "output_type": "stream",
     "text": [
      "/opt/anaconda3/envs/dhdsblend/lib/python3.7/site-packages/ipykernel_launcher.py:1: SettingWithCopyWarning: \n",
      "A value is trying to be set on a copy of a slice from a DataFrame.\n",
      "Try using .loc[row_indexer,col_indexer] = value instead\n",
      "\n",
      "See the caveats in the documentation: https://pandas.pydata.org/pandas-docs/stable/user_guide/indexing.html#returning-a-view-versus-a-copy\n",
      "  \"\"\"Entry point for launching an IPython kernel.\n"
     ]
    }
   ],
   "source": [
    "caba['p_usd_m2'] = round(caba['price_aprox_usd']/caba['surface_total_in_m2'],0)\n"
   ]
  },
  {
   "cell_type": "code",
   "execution_count": 14,
   "metadata": {},
   "outputs": [
    {
     "name": "stdout",
     "output_type": "stream",
     "text": [
      "<class 'pandas.core.frame.DataFrame'>\n",
      "Int64Index: 32316 entries, 0 to 121219\n",
      "Data columns (total 27 columns):\n",
      " #   Column                      Non-Null Count  Dtype  \n",
      "---  ------                      --------------  -----  \n",
      " 0   operation                   32316 non-null  object \n",
      " 1   property_type               32316 non-null  object \n",
      " 2   place_name                  32316 non-null  object \n",
      " 3   place_with_parent_names     32316 non-null  object \n",
      " 4   country_name                32316 non-null  object \n",
      " 5   state_name                  32316 non-null  object \n",
      " 6   geonames_id                 31030 non-null  float64\n",
      " 7   lat-lon                     23770 non-null  object \n",
      " 8   lat                         23770 non-null  float64\n",
      " 9   lon                         23770 non-null  float64\n",
      " 10  price                       29018 non-null  float64\n",
      " 11  currency                    29018 non-null  object \n",
      " 12  price_aprox_local_currency  29018 non-null  float64\n",
      " 13  price_aprox_usd             29018 non-null  float64\n",
      " 14  surface_total_in_m2         26437 non-null  float64\n",
      " 15  surface_covered_in_m2       29977 non-null  float64\n",
      " 16  price_usd_per_m2            23434 non-null  float64\n",
      " 17  price_per_m2                27324 non-null  float64\n",
      " 18  floor                       3009 non-null   float64\n",
      " 19  rooms                       15325 non-null  float64\n",
      " 20  expenses                    6592 non-null   float64\n",
      " 21  properati_url               32316 non-null  object \n",
      " 22  description                 32316 non-null  object \n",
      " 23  title                       32316 non-null  object \n",
      " 24  image_thumbnail             31828 non-null  object \n",
      " 25  xr                          29018 non-null  float64\n",
      " 26  p_usd_m2                    23447 non-null  float64\n",
      "dtypes: float64(15), object(12)\n",
      "memory usage: 6.9+ MB\n"
     ]
    }
   ],
   "source": [
    "caba.info()"
   ]
  },
  {
   "cell_type": "code",
   "execution_count": 15,
   "metadata": {},
   "outputs": [
    {
     "data": {
      "text/plain": [
       " 0.000000    3237\n",
       "-0.333333     579\n",
       " 0.333333     239\n",
       "-0.500000     225\n",
       " 0.285714     199\n",
       "             ... \n",
       "-0.467468       1\n",
       " 0.342466       1\n",
       "-0.339806       1\n",
       " 0.029412       1\n",
       " 0.070175       1\n",
       "Length: 5435, dtype: int64"
      ]
     },
     "execution_count": 15,
     "metadata": {},
     "output_type": "execute_result"
    }
   ],
   "source": [
    "d = caba['p_usd_m2'] - caba['price_usd_per_m2']\n",
    "d.value_counts() \n",
    "#son casi iguales solo que price_usd_per_m2 tiene 23434 non-null, y p_usd_m2 28454 non-null"
   ]
  },
  {
   "cell_type": "code",
   "execution_count": 16,
   "metadata": {},
   "outputs": [
    {
     "name": "stdout",
     "output_type": "stream",
     "text": [
      "<class 'pandas.core.frame.DataFrame'>\n",
      "Int64Index: 32316 entries, 0 to 121219\n",
      "Data columns (total 15 columns):\n",
      " #   Column                 Non-Null Count  Dtype  \n",
      "---  ------                 --------------  -----  \n",
      " 0   property_type          32316 non-null  object \n",
      " 1   place_name             32316 non-null  object \n",
      " 2   lat                    23770 non-null  float64\n",
      " 3   lon                    23770 non-null  float64\n",
      " 4   price_aprox_usd        29018 non-null  float64\n",
      " 5   surface_total_in_m2    26437 non-null  float64\n",
      " 6   surface_covered_in_m2  29977 non-null  float64\n",
      " 7   price_usd_per_m2       23434 non-null  float64\n",
      " 8   floor                  3009 non-null   float64\n",
      " 9   rooms                  15325 non-null  float64\n",
      " 10  expenses               6592 non-null   float64\n",
      " 11  properati_url          32316 non-null  object \n",
      " 12  description            32316 non-null  object \n",
      " 13  title                  32316 non-null  object \n",
      " 14  p_usd_m2               23447 non-null  float64\n",
      "dtypes: float64(10), object(5)\n",
      "memory usage: 3.9+ MB\n"
     ]
    },
    {
     "name": "stderr",
     "output_type": "stream",
     "text": [
      "/opt/anaconda3/envs/dhdsblend/lib/python3.7/site-packages/pandas/core/frame.py:3997: SettingWithCopyWarning: \n",
      "A value is trying to be set on a copy of a slice from a DataFrame\n",
      "\n",
      "See the caveats in the documentation: https://pandas.pydata.org/pandas-docs/stable/user_guide/indexing.html#returning-a-view-versus-a-copy\n",
      "  errors=errors,\n"
     ]
    }
   ],
   "source": [
    "caba.drop(caba.columns[[0, 3, 4, 5, 6, 7, 10, 11, 12, 17, 24, 25]], axis=1, inplace=True)\n",
    "caba.info()"
   ]
  },
  {
   "cell_type": "markdown",
   "metadata": {},
   "source": [
    "Muchas variables con muchos missing.\n",
    "\n"
   ]
  },
  {
   "cell_type": "markdown",
   "metadata": {},
   "source": [
    "<a id=\"missing\"></a> \n",
    "## Missing values\n",
    "\n",
    "[volver a TOC](#section_toc)\n"
   ]
  },
  {
   "cell_type": "code",
   "execution_count": 17,
   "metadata": {},
   "outputs": [
    {
     "data": {
      "text/plain": [
       "(32316, 15)"
      ]
     },
     "execution_count": 17,
     "metadata": {},
     "output_type": "execute_result"
    }
   ],
   "source": [
    "caba.shape"
   ]
  },
  {
   "cell_type": "code",
   "execution_count": 18,
   "metadata": {},
   "outputs": [
    {
     "data": {
      "text/html": [
       "<div>\n",
       "<style scoped>\n",
       "    .dataframe tbody tr th:only-of-type {\n",
       "        vertical-align: middle;\n",
       "    }\n",
       "\n",
       "    .dataframe tbody tr th {\n",
       "        vertical-align: top;\n",
       "    }\n",
       "\n",
       "    .dataframe thead th {\n",
       "        text-align: right;\n",
       "    }\n",
       "</style>\n",
       "<table border=\"1\" class=\"dataframe\">\n",
       "  <thead>\n",
       "    <tr style=\"text-align: right;\">\n",
       "      <th></th>\n",
       "      <th>column_name</th>\n",
       "      <th>missing_count</th>\n",
       "      <th>missing_ratio</th>\n",
       "    </tr>\n",
       "  </thead>\n",
       "  <tbody>\n",
       "    <tr>\n",
       "      <th>0</th>\n",
       "      <td>property_type</td>\n",
       "      <td>0</td>\n",
       "      <td>0.000000</td>\n",
       "    </tr>\n",
       "    <tr>\n",
       "      <th>1</th>\n",
       "      <td>place_name</td>\n",
       "      <td>0</td>\n",
       "      <td>0.000000</td>\n",
       "    </tr>\n",
       "    <tr>\n",
       "      <th>2</th>\n",
       "      <td>lat</td>\n",
       "      <td>8546</td>\n",
       "      <td>0.264451</td>\n",
       "    </tr>\n",
       "    <tr>\n",
       "      <th>3</th>\n",
       "      <td>lon</td>\n",
       "      <td>8546</td>\n",
       "      <td>0.264451</td>\n",
       "    </tr>\n",
       "    <tr>\n",
       "      <th>4</th>\n",
       "      <td>price_aprox_usd</td>\n",
       "      <td>3298</td>\n",
       "      <td>0.102055</td>\n",
       "    </tr>\n",
       "    <tr>\n",
       "      <th>5</th>\n",
       "      <td>surface_total_in_m2</td>\n",
       "      <td>5879</td>\n",
       "      <td>0.181922</td>\n",
       "    </tr>\n",
       "    <tr>\n",
       "      <th>6</th>\n",
       "      <td>surface_covered_in_m2</td>\n",
       "      <td>2339</td>\n",
       "      <td>0.072379</td>\n",
       "    </tr>\n",
       "    <tr>\n",
       "      <th>7</th>\n",
       "      <td>price_usd_per_m2</td>\n",
       "      <td>8882</td>\n",
       "      <td>0.274848</td>\n",
       "    </tr>\n",
       "    <tr>\n",
       "      <th>8</th>\n",
       "      <td>floor</td>\n",
       "      <td>29307</td>\n",
       "      <td>0.906888</td>\n",
       "    </tr>\n",
       "    <tr>\n",
       "      <th>9</th>\n",
       "      <td>rooms</td>\n",
       "      <td>16991</td>\n",
       "      <td>0.525777</td>\n",
       "    </tr>\n",
       "    <tr>\n",
       "      <th>10</th>\n",
       "      <td>expenses</td>\n",
       "      <td>25724</td>\n",
       "      <td>0.796014</td>\n",
       "    </tr>\n",
       "    <tr>\n",
       "      <th>11</th>\n",
       "      <td>properati_url</td>\n",
       "      <td>0</td>\n",
       "      <td>0.000000</td>\n",
       "    </tr>\n",
       "    <tr>\n",
       "      <th>12</th>\n",
       "      <td>description</td>\n",
       "      <td>0</td>\n",
       "      <td>0.000000</td>\n",
       "    </tr>\n",
       "    <tr>\n",
       "      <th>13</th>\n",
       "      <td>title</td>\n",
       "      <td>0</td>\n",
       "      <td>0.000000</td>\n",
       "    </tr>\n",
       "    <tr>\n",
       "      <th>14</th>\n",
       "      <td>p_usd_m2</td>\n",
       "      <td>8869</td>\n",
       "      <td>0.274446</td>\n",
       "    </tr>\n",
       "  </tbody>\n",
       "</table>\n",
       "</div>"
      ],
      "text/plain": [
       "              column_name  missing_count  missing_ratio\n",
       "0           property_type              0       0.000000\n",
       "1              place_name              0       0.000000\n",
       "2                     lat           8546       0.264451\n",
       "3                     lon           8546       0.264451\n",
       "4         price_aprox_usd           3298       0.102055\n",
       "5     surface_total_in_m2           5879       0.181922\n",
       "6   surface_covered_in_m2           2339       0.072379\n",
       "7        price_usd_per_m2           8882       0.274848\n",
       "8                   floor          29307       0.906888\n",
       "9                   rooms          16991       0.525777\n",
       "10               expenses          25724       0.796014\n",
       "11          properati_url              0       0.000000\n",
       "12            description              0       0.000000\n",
       "13                  title              0       0.000000\n",
       "14               p_usd_m2           8869       0.274446"
      ]
     },
     "execution_count": 18,
     "metadata": {},
     "output_type": "execute_result"
    }
   ],
   "source": [
    "missing_df = caba.isnull().sum(axis=0).reset_index()\n",
    "missing_df.columns = ['column_name', 'missing_count']\n",
    "missing_df['missing_ratio'] = missing_df['missing_count'] / caba.shape[0]\n",
    "missing_df#.ix[missing_df['missing_ratio']>0.999]\n"
   ]
  },
  {
   "cell_type": "code",
   "execution_count": 19,
   "metadata": {},
   "outputs": [
    {
     "name": "stdout",
     "output_type": "stream",
     "text": [
      "Collecting package metadata (current_repodata.json): done\n",
      "Solving environment: done\n",
      "\n",
      "\n",
      "==> WARNING: A newer version of conda exists. <==\n",
      "  current version: 4.8.4\n",
      "  latest version: 4.9.1\n",
      "\n",
      "Please update conda by running\n",
      "\n",
      "    $ conda update -n base -c defaults conda\n",
      "\n",
      "\n",
      "\n",
      "# All requested packages already installed.\n",
      "\n",
      "\n",
      "Note: you may need to restart the kernel to use updated packages.\n"
     ]
    }
   ],
   "source": [
    "conda install -c conda-forge/label/gcc7 missingno"
   ]
  },
  {
   "cell_type": "markdown",
   "metadata": {},
   "source": [
    "Visualizaciones de missing"
   ]
  },
  {
   "cell_type": "code",
   "execution_count": 20,
   "metadata": {},
   "outputs": [
    {
     "data": {
      "text/plain": [
       "<AxesSubplot:>"
      ]
     },
     "execution_count": 20,
     "metadata": {},
     "output_type": "execute_result"
    },
    {
     "data": {
      "image/png": "[encoded data removed]",
      "text/plain": [
       "<Figure size 1440x576 with 3 Axes>"
      ]
     },
     "metadata": {},
     "output_type": "display_data"
    }
   ],
   "source": [
    "missingValueColumns = caba.columns[caba.isnull().any()].tolist()\n",
    "msno.bar(caba[missingValueColumns],\\\n",
    "            figsize=(20,8),color=\"#34495e\",fontsize=12,labels=True,)"
   ]
  },
  {
   "cell_type": "code",
   "execution_count": 21,
   "metadata": {},
   "outputs": [
    {
     "data": {
      "text/plain": [
       "<AxesSubplot:>"
      ]
     },
     "execution_count": 21,
     "metadata": {},
     "output_type": "execute_result"
    },
    {
     "data": {
      "image/png": "[encoded data removed]",
      "text/plain": [
       "<Figure size 1440x576 with 2 Axes>"
      ]
     },
     "metadata": {},
     "output_type": "display_data"
    }
   ],
   "source": [
    "msno.matrix(caba[missingValueColumns],width_ratios=(10,1),\\\n",
    "            figsize=(20,8),color=(0,0, 0),fontsize=12,sparkline=True,labels=True)"
   ]
  },
  {
   "cell_type": "markdown",
   "metadata": {},
   "source": [
    "<a id=\"section_price_1000\"></a> \n",
    "## price_usd_per_m2 / p_usd_m2\n",
    "* missing\n",
    "* outliers\n",
    "\n",
    "[volver a TOC](#section_toc)"
   ]
  },
  {
   "cell_type": "markdown",
   "metadata": {},
   "source": [
    "**Missing**\n",
    "\n",
    "Consideramos que imputar los valores missing de la variable target price_usd_per_m2 podria afectar nuestro data set y luego afectar nuestro futuro modelo de prediccion. Por lo que optamos por eliminarlos.\n",
    "\n",
    "**Outliers**\n",
    "\n",
    "Analizamos los graficos. Evaluamos y aplicamos un limite por juicio propio o limite por busines decision de 50.000 USD/m2."
   ]
  },
  {
   "cell_type": "code",
   "execution_count": 22,
   "metadata": {},
   "outputs": [],
   "source": [
    "caba = caba.dropna(subset=[\"price_usd_per_m2\"]) #Droping the missing values "
   ]
  },
  {
   "cell_type": "code",
   "execution_count": 23,
   "metadata": {},
   "outputs": [],
   "source": [
    "#caba = caba.dropna(subset=[\"p_usd_m2\"]) #Droping the missing values #p_usd_m2"
   ]
  },
  {
   "cell_type": "code",
   "execution_count": 24,
   "metadata": {},
   "outputs": [
    {
     "data": {
      "text/plain": [
       "<AxesSubplot:title={'center':'Price in USD per m2'}, xlabel='price_usd_per_m2'>"
      ]
     },
     "execution_count": 24,
     "metadata": {},
     "output_type": "execute_result"
    },
    {
     "data": {
      "image/png": "[encoded data removed]",
      "text/plain": [
       "<Figure size 432x288 with 1 Axes>"
      ]
     },
     "metadata": {},
     "output_type": "display_data"
    }
   ],
   "source": [
    "import scipy.stats as st \n",
    "\n",
    "y = caba[\"price_usd_per_m2\"]\n",
    "plt.figure(2); plt.title('Price in USD per m2')\n",
    "sns.distplot(y, kde=False, fit=st.norm, color = 'lime')"
   ]
  },
  {
   "cell_type": "code",
   "execution_count": 25,
   "metadata": {},
   "outputs": [
    {
     "data": {
      "text/plain": [
       "<AxesSubplot:xlabel='price_usd_per_m2'>"
      ]
     },
     "execution_count": 25,
     "metadata": {},
     "output_type": "execute_result"
    },
    {
     "data": {
      "image/png": "[encoded data removed]",
      "text/plain": [
       "<Figure size 432x288 with 1 Axes>"
      ]
     },
     "metadata": {},
     "output_type": "display_data"
    }
   ],
   "source": [
    "sns.boxplot(y , color='lime')"
   ]
  },
  {
   "cell_type": "code",
   "execution_count": 26,
   "metadata": {},
   "outputs": [
    {
     "data": {
      "text/plain": [
       "<AxesSubplot:title={'center':'Distribucion de precio por m2 en USD'}, xlabel='price_usd_per_m2'>"
      ]
     },
     "execution_count": 26,
     "metadata": {},
     "output_type": "execute_result"
    },
    {
     "data": {
      "image/png": "[encoded data removed]",
      "text/plain": [
       "<Figure size 432x288 with 1 Axes>"
      ]
     },
     "metadata": {},
     "output_type": "display_data"
    }
   ],
   "source": [
    "y = caba[caba['price_usd_per_m2']<= 50000]['price_usd_per_m2']\n",
    "plt.figure(2); plt.title('Distribucion de precio por m2 en USD')\n",
    "sns.distplot(y, kde=False, fit=st.norm, color = \"lime\")"
   ]
  },
  {
   "cell_type": "code",
   "execution_count": 27,
   "metadata": {},
   "outputs": [
    {
     "data": {
      "text/plain": [
       "<AxesSubplot:xlabel='price_usd_per_m2'>"
      ]
     },
     "execution_count": 27,
     "metadata": {},
     "output_type": "execute_result"
    },
    {
     "data": {
      "image/png": "[encoded data removed]",
      "text/plain": [
       "<Figure size 432x288 with 1 Axes>"
      ]
     },
     "metadata": {},
     "output_type": "display_data"
    }
   ],
   "source": [
    "sns.boxplot(y , color='lime')"
   ]
  },
  {
   "cell_type": "code",
   "execution_count": 28,
   "metadata": {
    "scrolled": true
   },
   "outputs": [
    {
     "name": "stdout",
     "output_type": "stream",
     "text": [
      "<class 'pandas.core.frame.DataFrame'>\n",
      "Int64Index: 23434 entries, 0 to 121219\n",
      "Data columns (total 15 columns):\n",
      " #   Column                 Non-Null Count  Dtype  \n",
      "---  ------                 --------------  -----  \n",
      " 0   property_type          23434 non-null  object \n",
      " 1   place_name             23434 non-null  object \n",
      " 2   lat                    17217 non-null  float64\n",
      " 3   lon                    17217 non-null  float64\n",
      " 4   price_aprox_usd        23434 non-null  float64\n",
      " 5   surface_total_in_m2    23434 non-null  float64\n",
      " 6   surface_covered_in_m2  22319 non-null  float64\n",
      " 7   price_usd_per_m2       23434 non-null  float64\n",
      " 8   floor                  1405 non-null   float64\n",
      " 9   rooms                  10554 non-null  float64\n",
      " 10  expenses               5929 non-null   float64\n",
      " 11  properati_url          23434 non-null  object \n",
      " 12  description            23434 non-null  object \n",
      " 13  title                  23434 non-null  object \n",
      " 14  p_usd_m2               23434 non-null  float64\n",
      "dtypes: float64(10), object(5)\n",
      "memory usage: 2.9+ MB\n"
     ]
    }
   ],
   "source": [
    "caba.info()"
   ]
  },
  {
   "cell_type": "code",
   "execution_count": 29,
   "metadata": {},
   "outputs": [
    {
     "name": "stdout",
     "output_type": "stream",
     "text": [
      "<class 'pandas.core.frame.DataFrame'>\n",
      "Int64Index: 23434 entries, 0 to 121219\n",
      "Data columns (total 14 columns):\n",
      " #   Column                 Non-Null Count  Dtype  \n",
      "---  ------                 --------------  -----  \n",
      " 0   property_type          23434 non-null  object \n",
      " 1   place_name             23434 non-null  object \n",
      " 2   lat                    17217 non-null  float64\n",
      " 3   lon                    17217 non-null  float64\n",
      " 4   price_aprox_usd        23434 non-null  float64\n",
      " 5   surface_total_in_m2    23434 non-null  float64\n",
      " 6   surface_covered_in_m2  22319 non-null  float64\n",
      " 7   price_usd_per_m2       23434 non-null  float64\n",
      " 8   floor                  1405 non-null   float64\n",
      " 9   rooms                  10554 non-null  float64\n",
      " 10  expenses               5929 non-null   float64\n",
      " 11  properati_url          23434 non-null  object \n",
      " 12  description            23434 non-null  object \n",
      " 13  title                  23434 non-null  object \n",
      "dtypes: float64(9), object(5)\n",
      "memory usage: 2.7+ MB\n"
     ]
    }
   ],
   "source": [
    "caba.drop(caba.columns[[14]], axis=1, inplace=True)\n",
    "caba.info()"
   ]
  },
  {
   "cell_type": "code",
   "execution_count": 30,
   "metadata": {},
   "outputs": [
    {
     "data": {
      "text/plain": [
       "count     23434.000000\n",
       "mean       3116.930444\n",
       "std        3681.030087\n",
       "min          13.797467\n",
       "25%        1966.062830\n",
       "50%        2468.750000\n",
       "75%        3076.923077\n",
       "max      206333.333333\n",
       "Name: price_usd_per_m2, dtype: float64"
      ]
     },
     "execution_count": 30,
     "metadata": {},
     "output_type": "execute_result"
    }
   ],
   "source": [
    "caba.price_usd_per_m2.describe()"
   ]
  },
  {
   "cell_type": "code",
   "execution_count": 31,
   "metadata": {},
   "outputs": [
    {
     "data": {
      "text/html": [
       "<div>\n",
       "<style scoped>\n",
       "    .dataframe tbody tr th:only-of-type {\n",
       "        vertical-align: middle;\n",
       "    }\n",
       "\n",
       "    .dataframe tbody tr th {\n",
       "        vertical-align: top;\n",
       "    }\n",
       "\n",
       "    .dataframe thead th {\n",
       "        text-align: right;\n",
       "    }\n",
       "</style>\n",
       "<table border=\"1\" class=\"dataframe\">\n",
       "  <thead>\n",
       "    <tr style=\"text-align: right;\">\n",
       "      <th></th>\n",
       "      <th>column_name</th>\n",
       "      <th>missing_count</th>\n",
       "      <th>missing_ratio</th>\n",
       "    </tr>\n",
       "  </thead>\n",
       "  <tbody>\n",
       "    <tr>\n",
       "      <th>0</th>\n",
       "      <td>property_type</td>\n",
       "      <td>0</td>\n",
       "      <td>0.000000</td>\n",
       "    </tr>\n",
       "    <tr>\n",
       "      <th>1</th>\n",
       "      <td>place_name</td>\n",
       "      <td>0</td>\n",
       "      <td>0.000000</td>\n",
       "    </tr>\n",
       "    <tr>\n",
       "      <th>2</th>\n",
       "      <td>lat</td>\n",
       "      <td>6217</td>\n",
       "      <td>0.265298</td>\n",
       "    </tr>\n",
       "    <tr>\n",
       "      <th>3</th>\n",
       "      <td>lon</td>\n",
       "      <td>6217</td>\n",
       "      <td>0.265298</td>\n",
       "    </tr>\n",
       "    <tr>\n",
       "      <th>4</th>\n",
       "      <td>price_aprox_usd</td>\n",
       "      <td>0</td>\n",
       "      <td>0.000000</td>\n",
       "    </tr>\n",
       "    <tr>\n",
       "      <th>5</th>\n",
       "      <td>surface_total_in_m2</td>\n",
       "      <td>0</td>\n",
       "      <td>0.000000</td>\n",
       "    </tr>\n",
       "    <tr>\n",
       "      <th>6</th>\n",
       "      <td>surface_covered_in_m2</td>\n",
       "      <td>1115</td>\n",
       "      <td>0.047580</td>\n",
       "    </tr>\n",
       "    <tr>\n",
       "      <th>7</th>\n",
       "      <td>price_usd_per_m2</td>\n",
       "      <td>0</td>\n",
       "      <td>0.000000</td>\n",
       "    </tr>\n",
       "    <tr>\n",
       "      <th>8</th>\n",
       "      <td>floor</td>\n",
       "      <td>22029</td>\n",
       "      <td>0.940044</td>\n",
       "    </tr>\n",
       "    <tr>\n",
       "      <th>9</th>\n",
       "      <td>rooms</td>\n",
       "      <td>12880</td>\n",
       "      <td>0.549629</td>\n",
       "    </tr>\n",
       "    <tr>\n",
       "      <th>10</th>\n",
       "      <td>expenses</td>\n",
       "      <td>17505</td>\n",
       "      <td>0.746992</td>\n",
       "    </tr>\n",
       "    <tr>\n",
       "      <th>11</th>\n",
       "      <td>properati_url</td>\n",
       "      <td>0</td>\n",
       "      <td>0.000000</td>\n",
       "    </tr>\n",
       "    <tr>\n",
       "      <th>12</th>\n",
       "      <td>description</td>\n",
       "      <td>0</td>\n",
       "      <td>0.000000</td>\n",
       "    </tr>\n",
       "    <tr>\n",
       "      <th>13</th>\n",
       "      <td>title</td>\n",
       "      <td>0</td>\n",
       "      <td>0.000000</td>\n",
       "    </tr>\n",
       "  </tbody>\n",
       "</table>\n",
       "</div>"
      ],
      "text/plain": [
       "              column_name  missing_count  missing_ratio\n",
       "0           property_type              0       0.000000\n",
       "1              place_name              0       0.000000\n",
       "2                     lat           6217       0.265298\n",
       "3                     lon           6217       0.265298\n",
       "4         price_aprox_usd              0       0.000000\n",
       "5     surface_total_in_m2              0       0.000000\n",
       "6   surface_covered_in_m2           1115       0.047580\n",
       "7        price_usd_per_m2              0       0.000000\n",
       "8                   floor          22029       0.940044\n",
       "9                   rooms          12880       0.549629\n",
       "10               expenses          17505       0.746992\n",
       "11          properati_url              0       0.000000\n",
       "12            description              0       0.000000\n",
       "13                  title              0       0.000000"
      ]
     },
     "execution_count": 31,
     "metadata": {},
     "output_type": "execute_result"
    }
   ],
   "source": [
    "missing_df = caba.isnull().sum(axis=0).reset_index()\n",
    "missing_df.columns = ['column_name', 'missing_count']\n",
    "missing_df['missing_ratio'] = missing_df['missing_count'] / caba.shape[0]\n",
    "missing_df#.ix[missing_df['missing_ratio']>0.999]\n"
   ]
  },
  {
   "cell_type": "markdown",
   "metadata": {},
   "source": [
    "<a id=\"section_surface\"></a> \n",
    "## surface_covered_in_m2\n",
    "\n",
    "* outliers (IQR, businees)\n",
    "* valores faltantes\n",
    "\n",
    "[volver a TOC](#section_toc)"
   ]
  },
  {
   "cell_type": "code",
   "execution_count": 32,
   "metadata": {},
   "outputs": [
    {
     "data": {
      "text/plain": [
       "1115"
      ]
     },
     "execution_count": 32,
     "metadata": {},
     "output_type": "execute_result"
    }
   ],
   "source": [
    "caba.surface_covered_in_m2.isnull().sum()"
   ]
  },
  {
   "cell_type": "markdown",
   "metadata": {},
   "source": [
    "Reemplazamos los missing de sup covered con total."
   ]
  },
  {
   "cell_type": "code",
   "execution_count": 33,
   "metadata": {},
   "outputs": [],
   "source": [
    "caba['surface_covered_in_m2'] = caba.surface_covered_in_m2.fillna(caba['surface_total_in_m2'])"
   ]
  },
  {
   "cell_type": "code",
   "execution_count": 34,
   "metadata": {},
   "outputs": [
    {
     "data": {
      "text/plain": [
       "0"
      ]
     },
     "execution_count": 34,
     "metadata": {},
     "output_type": "execute_result"
    }
   ],
   "source": [
    "caba.surface_covered_in_m2.isnull().sum()"
   ]
  },
  {
   "cell_type": "code",
   "execution_count": 35,
   "metadata": {},
   "outputs": [
    {
     "name": "stdout",
     "output_type": "stream",
     "text": [
      "count     23434.000000\n",
      "mean         99.868567\n",
      "std        1317.990150\n",
      "min           0.000000\n",
      "25%          38.000000\n",
      "50%          55.000000\n",
      "75%          96.000000\n",
      "max      200000.000000\n",
      "Name: surface_covered_in_m2, dtype: float64\n"
     ]
    },
    {
     "data": {
      "image/png": "[encoded data removed]",
      "text/plain": [
       "<Figure size 432x288 with 1 Axes>"
      ]
     },
     "metadata": {},
     "output_type": "display_data"
    }
   ],
   "source": [
    "print(caba.surface_covered_in_m2.describe()) #Observamos los valores de surface covered\n",
    "sns.distplot(caba['surface_covered_in_m2'],  color = 'fuchsia')\n",
    "plt.show()"
   ]
  },
  {
   "cell_type": "code",
   "execution_count": 36,
   "metadata": {},
   "outputs": [
    {
     "data": {
      "text/plain": [
       "<AxesSubplot:xlabel='surface_covered_in_m2'>"
      ]
     },
     "execution_count": 36,
     "metadata": {},
     "output_type": "execute_result"
    },
    {
     "data": {
      "image/png": "[encoded data removed]",
      "text/plain": [
       "<Figure size 432x288 with 1 Axes>"
      ]
     },
     "metadata": {},
     "output_type": "display_data"
    }
   ],
   "source": [
    "sns.boxplot(caba['surface_covered_in_m2'],  color = 'fuchsia')"
   ]
  },
  {
   "cell_type": "code",
   "execution_count": 37,
   "metadata": {},
   "outputs": [
    {
     "name": "stdout",
     "output_type": "stream",
     "text": [
      "count    23387.000000\n",
      "mean        91.498311\n",
      "std        178.285672\n",
      "min         18.000000\n",
      "25%         38.000000\n",
      "50%         55.000000\n",
      "75%         96.000000\n",
      "max      10958.000000\n",
      "Name: surface_covered_in_m2, dtype: float64\n"
     ]
    },
    {
     "data": {
      "image/png": "[encoded data removed]",
      "text/plain": [
       "<Figure size 432x288 with 1 Axes>"
      ]
     },
     "metadata": {},
     "output_type": "display_data"
    },
    {
     "data": {
      "text/plain": [
       "<AxesSubplot:xlabel='surface_covered_in_m2'>"
      ]
     },
     "execution_count": 37,
     "metadata": {},
     "output_type": "execute_result"
    },
    {
     "data": {
      "image/png": "[encoded data removed]",
      "text/plain": [
       "<Figure size 432x288 with 1 Axes>"
      ]
     },
     "metadata": {},
     "output_type": "display_data"
    }
   ],
   "source": [
    "caba = caba[caba['surface_covered_in_m2']<= 25000]\n",
    "caba = caba[caba['surface_covered_in_m2']>= 18] #como minimo un departamente tiene que tener 18 m cuadrados\n",
    "\n",
    "print(caba.surface_covered_in_m2.describe()) #Observamos los valores de surface covered\n",
    "sns.distplot(caba['surface_covered_in_m2'],  color = 'fuchsia')\n",
    "plt.show()\n",
    "\n",
    "sns.boxplot(caba['surface_covered_in_m2'],  color = 'fuchsia')"
   ]
  },
  {
   "cell_type": "code",
   "execution_count": 38,
   "metadata": {},
   "outputs": [
    {
     "data": {
      "text/html": [
       "<div>\n",
       "<style scoped>\n",
       "    .dataframe tbody tr th:only-of-type {\n",
       "        vertical-align: middle;\n",
       "    }\n",
       "\n",
       "    .dataframe tbody tr th {\n",
       "        vertical-align: top;\n",
       "    }\n",
       "\n",
       "    .dataframe thead th {\n",
       "        text-align: right;\n",
       "    }\n",
       "</style>\n",
       "<table border=\"1\" class=\"dataframe\">\n",
       "  <thead>\n",
       "    <tr style=\"text-align: right;\">\n",
       "      <th></th>\n",
       "      <th>column_name</th>\n",
       "      <th>missing_count</th>\n",
       "      <th>missing_ratio</th>\n",
       "    </tr>\n",
       "  </thead>\n",
       "  <tbody>\n",
       "    <tr>\n",
       "      <th>0</th>\n",
       "      <td>property_type</td>\n",
       "      <td>0</td>\n",
       "      <td>0.000000</td>\n",
       "    </tr>\n",
       "    <tr>\n",
       "      <th>1</th>\n",
       "      <td>place_name</td>\n",
       "      <td>0</td>\n",
       "      <td>0.000000</td>\n",
       "    </tr>\n",
       "    <tr>\n",
       "      <th>2</th>\n",
       "      <td>lat</td>\n",
       "      <td>6212</td>\n",
       "      <td>0.265618</td>\n",
       "    </tr>\n",
       "    <tr>\n",
       "      <th>3</th>\n",
       "      <td>lon</td>\n",
       "      <td>6212</td>\n",
       "      <td>0.265618</td>\n",
       "    </tr>\n",
       "    <tr>\n",
       "      <th>4</th>\n",
       "      <td>price_aprox_usd</td>\n",
       "      <td>0</td>\n",
       "      <td>0.000000</td>\n",
       "    </tr>\n",
       "    <tr>\n",
       "      <th>5</th>\n",
       "      <td>surface_total_in_m2</td>\n",
       "      <td>0</td>\n",
       "      <td>0.000000</td>\n",
       "    </tr>\n",
       "    <tr>\n",
       "      <th>6</th>\n",
       "      <td>surface_covered_in_m2</td>\n",
       "      <td>0</td>\n",
       "      <td>0.000000</td>\n",
       "    </tr>\n",
       "    <tr>\n",
       "      <th>7</th>\n",
       "      <td>price_usd_per_m2</td>\n",
       "      <td>0</td>\n",
       "      <td>0.000000</td>\n",
       "    </tr>\n",
       "    <tr>\n",
       "      <th>8</th>\n",
       "      <td>floor</td>\n",
       "      <td>21989</td>\n",
       "      <td>0.940223</td>\n",
       "    </tr>\n",
       "    <tr>\n",
       "      <th>9</th>\n",
       "      <td>rooms</td>\n",
       "      <td>12848</td>\n",
       "      <td>0.549365</td>\n",
       "    </tr>\n",
       "    <tr>\n",
       "      <th>10</th>\n",
       "      <td>expenses</td>\n",
       "      <td>17475</td>\n",
       "      <td>0.747210</td>\n",
       "    </tr>\n",
       "    <tr>\n",
       "      <th>11</th>\n",
       "      <td>properati_url</td>\n",
       "      <td>0</td>\n",
       "      <td>0.000000</td>\n",
       "    </tr>\n",
       "    <tr>\n",
       "      <th>12</th>\n",
       "      <td>description</td>\n",
       "      <td>0</td>\n",
       "      <td>0.000000</td>\n",
       "    </tr>\n",
       "    <tr>\n",
       "      <th>13</th>\n",
       "      <td>title</td>\n",
       "      <td>0</td>\n",
       "      <td>0.000000</td>\n",
       "    </tr>\n",
       "  </tbody>\n",
       "</table>\n",
       "</div>"
      ],
      "text/plain": [
       "              column_name  missing_count  missing_ratio\n",
       "0           property_type              0       0.000000\n",
       "1              place_name              0       0.000000\n",
       "2                     lat           6212       0.265618\n",
       "3                     lon           6212       0.265618\n",
       "4         price_aprox_usd              0       0.000000\n",
       "5     surface_total_in_m2              0       0.000000\n",
       "6   surface_covered_in_m2              0       0.000000\n",
       "7        price_usd_per_m2              0       0.000000\n",
       "8                   floor          21989       0.940223\n",
       "9                   rooms          12848       0.549365\n",
       "10               expenses          17475       0.747210\n",
       "11          properati_url              0       0.000000\n",
       "12            description              0       0.000000\n",
       "13                  title              0       0.000000"
      ]
     },
     "execution_count": 38,
     "metadata": {},
     "output_type": "execute_result"
    }
   ],
   "source": [
    "missing_df = caba.isnull().sum(axis=0).reset_index()\n",
    "missing_df.columns = ['column_name', 'missing_count']\n",
    "missing_df['missing_ratio'] = missing_df['missing_count'] / caba.shape[0]\n",
    "missing_df#.ix[missing_df['missing_ratio']>0.999]\n"
   ]
  },
  {
   "cell_type": "markdown",
   "metadata": {},
   "source": [
    "<a id=\"section_room\"></a> \n",
    "## room\n",
    "\n",
    "[volver a TOC](#section_toc)"
   ]
  },
  {
   "cell_type": "code",
   "execution_count": 39,
   "metadata": {},
   "outputs": [],
   "source": [
    "#REGEX\n",
    "\n",
    "import re\n",
    "\n",
    "pattern_ambientes = r'(?P<amb>\\d+)(\\s)(\\b(ambientes|ambiente|amb|cuarto|cuartos|habitacion|habitaciones|dormitorio|dormitorios|dorm|hab)\\b)'\n",
    "pattern_ambientes_regex = re.compile(pattern_ambientes)\n",
    "description_series = caba.title.astype(str)\n",
    "resultado_ambientes = description_series.apply(lambda x: x if x is np.nan else pattern_ambientes_regex.search(x))\n",
    "ambientes_match = resultado_ambientes.apply(lambda x: x if x is None else x.group('amb'))"
   ]
  },
  {
   "cell_type": "code",
   "execution_count": 40,
   "metadata": {},
   "outputs": [
    {
     "data": {
      "text/plain": [
       "3     1137\n",
       "2     1047\n",
       "4      651\n",
       "1      425\n",
       "5      184\n",
       "6       46\n",
       "7       19\n",
       "8       13\n",
       "9        4\n",
       "14       2\n",
       "10       2\n",
       "27       1\n",
       "11       1\n",
       "15       1\n",
       "20       1\n",
       "Name: title, dtype: int64"
      ]
     },
     "execution_count": 40,
     "metadata": {},
     "output_type": "execute_result"
    }
   ],
   "source": [
    "ambientes_match.value_counts()"
   ]
  },
  {
   "cell_type": "code",
   "execution_count": 41,
   "metadata": {},
   "outputs": [],
   "source": [
    "caba['rooms'] = caba['rooms'].fillna(ambientes_match)"
   ]
  },
  {
   "cell_type": "code",
   "execution_count": 42,
   "metadata": {},
   "outputs": [
    {
     "data": {
      "text/plain": [
       "False    11990\n",
       "True     11397\n",
       "Name: rooms, dtype: int64"
      ]
     },
     "execution_count": 42,
     "metadata": {},
     "output_type": "execute_result"
    }
   ],
   "source": [
    "caba.rooms.isnull().value_counts()"
   ]
  },
  {
   "cell_type": "markdown",
   "metadata": {},
   "source": [
    "Se redujeron los missing de romms gracias a regex en title, si corremos el regex en description y hacemos value counts salen cantidad de cuartos raros.\n",
    "\n",
    "Asimismo, los otros missing de la variable rooms que podemos reemplazar:\n",
    "\n",
    "con la moda o \n",
    "con una proporcion 0.55 y 0.45 de los dos mayores valores. \n",
    "\n",
    "Optamos por la segunda opcion.\n",
    "\n",
    "Pero antes tenemso que convertir a rooms es int."
   ]
  },
  {
   "cell_type": "code",
   "execution_count": 43,
   "metadata": {
    "scrolled": true
   },
   "outputs": [
    {
     "data": {
      "text/plain": [
       "1.0     2817\n",
       "3.0     2454\n",
       "2.0     2448\n",
       "4.0     1793\n",
       "5.0      672\n",
       "3        449\n",
       "2        448\n",
       "4        287\n",
       "6.0      197\n",
       "1        120\n",
       "7.0       97\n",
       "5         93\n",
       "8.0       31\n",
       "6         30\n",
       "7         10\n",
       "8          8\n",
       "9.0        8\n",
       "12.0       8\n",
       "10.0       8\n",
       "11.0       3\n",
       "14         1\n",
       "13.0       1\n",
       "14.0       1\n",
       "20         1\n",
       "10         1\n",
       "15         1\n",
       "11         1\n",
       "27         1\n",
       "15.0       1\n",
       "Name: rooms, dtype: int64"
      ]
     },
     "execution_count": 43,
     "metadata": {},
     "output_type": "execute_result"
    }
   ],
   "source": [
    "caba.rooms.value_counts() #Hay que hacerla int"
   ]
  },
  {
   "cell_type": "code",
   "execution_count": 44,
   "metadata": {},
   "outputs": [],
   "source": [
    "caba['rooms'] = pd.to_numeric(caba.rooms)"
   ]
  },
  {
   "cell_type": "code",
   "execution_count": 45,
   "metadata": {},
   "outputs": [
    {
     "data": {
      "text/plain": [
       "1.0     2937\n",
       "3.0     2903\n",
       "2.0     2896\n",
       "4.0     2080\n",
       "5.0      765\n",
       "6.0      227\n",
       "7.0      107\n",
       "8.0       39\n",
       "10.0       9\n",
       "12.0       8\n",
       "9.0        8\n",
       "11.0       4\n",
       "15.0       2\n",
       "14.0       2\n",
       "20.0       1\n",
       "27.0       1\n",
       "13.0       1\n",
       "Name: rooms, dtype: int64"
      ]
     },
     "execution_count": 45,
     "metadata": {},
     "output_type": "execute_result"
    }
   ],
   "source": [
    "caba.rooms.value_counts() #int La mayoeia son de 1 y 3 cuartos"
   ]
  },
  {
   "cell_type": "code",
   "execution_count": 46,
   "metadata": {},
   "outputs": [],
   "source": [
    "def count_plotter(data, label, labelsize=12):    \n",
    "    sns.set(rc={\"figure.figsize\": (10, 7), \n",
    "                \"xtick.labelsize\": labelsize})\n",
    "    sns.set_style(\"white\")    \n",
    "    data_count = sns.countplot(data)\n",
    "    data_count.set_title('Histograma de ' + label + '\\n', fontsize=16)"
   ]
  },
  {
   "cell_type": "code",
   "execution_count": 47,
   "metadata": {},
   "outputs": [
    {
     "data": {
      "image/png": "[encoded data removed]",
      "text/plain": [
       "<Figure size 720x504 with 1 Axes>"
      ]
     },
     "metadata": {},
     "output_type": "display_data"
    }
   ],
   "source": [
    "count_plotter(caba.rooms, \"rooms\")"
   ]
  },
  {
   "cell_type": "code",
   "execution_count": 48,
   "metadata": {},
   "outputs": [
    {
     "name": "stdout",
     "output_type": "stream",
     "text": [
      "# nulos en rooms:  11397\n",
      "# 3 en rooms:  2937\n",
      "# 4 en rooms:  2903\n"
     ]
    }
   ],
   "source": [
    "#Cantidad de nulos, 1  3  rooms:\n",
    "cant_car_null = caba.rooms.isnull().sum()\n",
    "print(\"# nulos en rooms: \",cant_car_null)\n",
    "\n",
    "car_three_mask = caba.rooms == 1\n",
    "cant_car_3 = car_three_mask.sum()\n",
    "print(\"# 3 en rooms: \",cant_car_3)\n",
    "\n",
    "car_four_mask = caba.rooms == 3\n",
    "cant_car_4 = car_four_mask.sum()\n",
    "print(\"# 4 en rooms: \",cant_car_4)"
   ]
  },
  {
   "cell_type": "code",
   "execution_count": 49,
   "metadata": {},
   "outputs": [
    {
     "name": "stdout",
     "output_type": "stream",
     "text": [
      "11397\n",
      "5129\n",
      "6268\n"
     ]
    }
   ],
   "source": [
    "# los registros que son null en Car:\n",
    "data_car_null_mask = caba.rooms.isnull()\n",
    "data_car_null = caba.loc[data_car_null_mask, :]\n",
    "print(data_car_null.shape[0])\n",
    "\n",
    "\n",
    "# una muestra del 45% de los registros calculados en el paso anterior:\n",
    "data_car_null_mask_sample_1 = data_car_null.sample(frac = 0.45)\n",
    "\n",
    "\n",
    "# los índices de ese 45%\n",
    "data_car_null_ones_index = data_car_null_mask_sample_1.index\n",
    "print(len(data_car_null_ones_index))\n",
    "\n",
    "\n",
    "# los que van a ser rellenados con valor 2 son todos los que no fueron seleccionados en el paso anterior:\n",
    "data_car_null_twos_index = data_car_null.index.difference(data_car_null_ones_index)\n",
    "print(len(data_car_null_twos_index))"
   ]
  },
  {
   "cell_type": "code",
   "execution_count": 50,
   "metadata": {},
   "outputs": [],
   "source": [
    "caba.loc[data_car_null_ones_index, \"rooms\"] = 3\n",
    "caba.loc[data_car_null_twos_index, \"rooms\"] = 1"
   ]
  },
  {
   "cell_type": "code",
   "execution_count": 51,
   "metadata": {},
   "outputs": [
    {
     "name": "stdout",
     "output_type": "stream",
     "text": [
      "0\n",
      "2080\n",
      "8032\n"
     ]
    }
   ],
   "source": [
    "cant_car_null = caba.rooms.isnull().sum()\n",
    "print(cant_car_null)\n",
    "\n",
    "car_one_mask = caba.rooms == 4\n",
    "cant_car_1 = car_one_mask.sum()\n",
    "print(cant_car_1)\n",
    "\n",
    "car_two_mask = caba.rooms == 3\n",
    "cant_car_2 = car_two_mask.sum()\n",
    "print(cant_car_2)"
   ]
  },
  {
   "cell_type": "code",
   "execution_count": 52,
   "metadata": {},
   "outputs": [
    {
     "data": {
      "text/plain": [
       "1.0     9205\n",
       "3.0     8032\n",
       "2.0     2896\n",
       "4.0     2080\n",
       "5.0      765\n",
       "6.0      227\n",
       "7.0      107\n",
       "8.0       39\n",
       "10.0       9\n",
       "12.0       8\n",
       "9.0        8\n",
       "11.0       4\n",
       "15.0       2\n",
       "14.0       2\n",
       "20.0       1\n",
       "27.0       1\n",
       "13.0       1\n",
       "Name: rooms, dtype: int64"
      ]
     },
     "execution_count": 52,
     "metadata": {},
     "output_type": "execute_result"
    }
   ],
   "source": [
    "caba.rooms.value_counts() "
   ]
  },
  {
   "cell_type": "code",
   "execution_count": 53,
   "metadata": {},
   "outputs": [
    {
     "data": {
      "text/html": [
       "<div>\n",
       "<style scoped>\n",
       "    .dataframe tbody tr th:only-of-type {\n",
       "        vertical-align: middle;\n",
       "    }\n",
       "\n",
       "    .dataframe tbody tr th {\n",
       "        vertical-align: top;\n",
       "    }\n",
       "\n",
       "    .dataframe thead th {\n",
       "        text-align: right;\n",
       "    }\n",
       "</style>\n",
       "<table border=\"1\" class=\"dataframe\">\n",
       "  <thead>\n",
       "    <tr style=\"text-align: right;\">\n",
       "      <th></th>\n",
       "      <th>column_name</th>\n",
       "      <th>missing_count</th>\n",
       "      <th>missing_ratio</th>\n",
       "    </tr>\n",
       "  </thead>\n",
       "  <tbody>\n",
       "    <tr>\n",
       "      <th>0</th>\n",
       "      <td>property_type</td>\n",
       "      <td>0</td>\n",
       "      <td>0.000000</td>\n",
       "    </tr>\n",
       "    <tr>\n",
       "      <th>1</th>\n",
       "      <td>place_name</td>\n",
       "      <td>0</td>\n",
       "      <td>0.000000</td>\n",
       "    </tr>\n",
       "    <tr>\n",
       "      <th>2</th>\n",
       "      <td>lat</td>\n",
       "      <td>6212</td>\n",
       "      <td>0.265618</td>\n",
       "    </tr>\n",
       "    <tr>\n",
       "      <th>3</th>\n",
       "      <td>lon</td>\n",
       "      <td>6212</td>\n",
       "      <td>0.265618</td>\n",
       "    </tr>\n",
       "    <tr>\n",
       "      <th>4</th>\n",
       "      <td>price_aprox_usd</td>\n",
       "      <td>0</td>\n",
       "      <td>0.000000</td>\n",
       "    </tr>\n",
       "    <tr>\n",
       "      <th>5</th>\n",
       "      <td>surface_total_in_m2</td>\n",
       "      <td>0</td>\n",
       "      <td>0.000000</td>\n",
       "    </tr>\n",
       "    <tr>\n",
       "      <th>6</th>\n",
       "      <td>surface_covered_in_m2</td>\n",
       "      <td>0</td>\n",
       "      <td>0.000000</td>\n",
       "    </tr>\n",
       "    <tr>\n",
       "      <th>7</th>\n",
       "      <td>price_usd_per_m2</td>\n",
       "      <td>0</td>\n",
       "      <td>0.000000</td>\n",
       "    </tr>\n",
       "    <tr>\n",
       "      <th>8</th>\n",
       "      <td>floor</td>\n",
       "      <td>21989</td>\n",
       "      <td>0.940223</td>\n",
       "    </tr>\n",
       "    <tr>\n",
       "      <th>9</th>\n",
       "      <td>rooms</td>\n",
       "      <td>0</td>\n",
       "      <td>0.000000</td>\n",
       "    </tr>\n",
       "    <tr>\n",
       "      <th>10</th>\n",
       "      <td>expenses</td>\n",
       "      <td>17475</td>\n",
       "      <td>0.747210</td>\n",
       "    </tr>\n",
       "    <tr>\n",
       "      <th>11</th>\n",
       "      <td>properati_url</td>\n",
       "      <td>0</td>\n",
       "      <td>0.000000</td>\n",
       "    </tr>\n",
       "    <tr>\n",
       "      <th>12</th>\n",
       "      <td>description</td>\n",
       "      <td>0</td>\n",
       "      <td>0.000000</td>\n",
       "    </tr>\n",
       "    <tr>\n",
       "      <th>13</th>\n",
       "      <td>title</td>\n",
       "      <td>0</td>\n",
       "      <td>0.000000</td>\n",
       "    </tr>\n",
       "  </tbody>\n",
       "</table>\n",
       "</div>"
      ],
      "text/plain": [
       "              column_name  missing_count  missing_ratio\n",
       "0           property_type              0       0.000000\n",
       "1              place_name              0       0.000000\n",
       "2                     lat           6212       0.265618\n",
       "3                     lon           6212       0.265618\n",
       "4         price_aprox_usd              0       0.000000\n",
       "5     surface_total_in_m2              0       0.000000\n",
       "6   surface_covered_in_m2              0       0.000000\n",
       "7        price_usd_per_m2              0       0.000000\n",
       "8                   floor          21989       0.940223\n",
       "9                   rooms              0       0.000000\n",
       "10               expenses          17475       0.747210\n",
       "11          properati_url              0       0.000000\n",
       "12            description              0       0.000000\n",
       "13                  title              0       0.000000"
      ]
     },
     "execution_count": 53,
     "metadata": {},
     "output_type": "execute_result"
    }
   ],
   "source": [
    "missing_df = caba.isnull().sum(axis=0).reset_index()\n",
    "missing_df.columns = ['column_name', 'missing_count']\n",
    "missing_df['missing_ratio'] = missing_df['missing_count'] / caba.shape[0]\n",
    "missing_df#.ix[missing_df['missing_ratio']>0.999]\n"
   ]
  },
  {
   "cell_type": "markdown",
   "metadata": {},
   "source": [
    "<a id=\"section_exp2\"></a> \n",
    "## expenses\n",
    "\n",
    "[volver a TOC](#section_toc)"
   ]
  },
  {
   "cell_type": "code",
   "execution_count": 54,
   "metadata": {},
   "outputs": [],
   "source": [
    "#REGEX\n",
    "\n",
    "pattern_exp = r'(\\b(expensas|expensa)\\b)(\\s)($)(?P<exp>\\d+)'\n",
    "pattern_exp_regex = re.compile(pattern_exp)\n",
    "description_series = caba.properati_url.astype(str)\n",
    "resultado_exp = description_series.apply(lambda x: x if x is np.nan else pattern_exp_regex.search(x))\n",
    "exp_match = resultado_exp.apply(lambda x: x if x is None else x.group('exp'))"
   ]
  },
  {
   "cell_type": "code",
   "execution_count": 55,
   "metadata": {},
   "outputs": [
    {
     "data": {
      "text/plain": [
       "Series([], Name: properati_url, dtype: int64)"
      ]
     },
     "execution_count": 55,
     "metadata": {},
     "output_type": "execute_result"
    }
   ],
   "source": [
    "exp_match.value_counts()"
   ]
  },
  {
   "cell_type": "markdown",
   "metadata": {},
   "source": [
    "Probamos regex, sin resultados."
   ]
  },
  {
   "cell_type": "markdown",
   "metadata": {},
   "source": [
    "Reemplazamos por media por cantidad de cuartos y barrio."
   ]
  },
  {
   "cell_type": "code",
   "execution_count": 56,
   "metadata": {},
   "outputs": [
    {
     "data": {
      "text/plain": [
       "rooms\n",
       "1.0     1800.0\n",
       "2.0     1500.0\n",
       "3.0     2061.5\n",
       "4.0     4000.0\n",
       "5.0     8600.0\n",
       "6.0     4000.0\n",
       "7.0     4800.0\n",
       "8.0     7000.0\n",
       "9.0        NaN\n",
       "10.0       NaN\n",
       "11.0    1700.0\n",
       "12.0       NaN\n",
       "13.0       NaN\n",
       "14.0       NaN\n",
       "15.0       NaN\n",
       "20.0       NaN\n",
       "27.0       NaN\n",
       "Name: expenses, dtype: float64"
      ]
     },
     "execution_count": 56,
     "metadata": {},
     "output_type": "execute_result"
    }
   ],
   "source": [
    "caba.groupby(['rooms'])['expenses'].median() #parece mas estable que mean"
   ]
  },
  {
   "cell_type": "code",
   "execution_count": 57,
   "metadata": {
    "scrolled": true
   },
   "outputs": [
    {
     "data": {
      "text/plain": [
       "rooms\n",
       "1.0      3161.785904\n",
       "2.0     32606.516179\n",
       "3.0      3205.045570\n",
       "4.0      5206.226496\n",
       "5.0     10745.976744\n",
       "6.0     10326.086957\n",
       "7.0      6392.923077\n",
       "8.0      7000.000000\n",
       "9.0              NaN\n",
       "10.0             NaN\n",
       "11.0     1700.000000\n",
       "12.0             NaN\n",
       "13.0             NaN\n",
       "14.0             NaN\n",
       "15.0             NaN\n",
       "20.0             NaN\n",
       "27.0             NaN\n",
       "Name: expenses, dtype: float64"
      ]
     },
     "execution_count": 57,
     "metadata": {},
     "output_type": "execute_result"
    }
   ],
   "source": [
    "caba.groupby(['rooms'])['expenses'].mean()"
   ]
  },
  {
   "cell_type": "code",
   "execution_count": 58,
   "metadata": {},
   "outputs": [
    {
     "data": {
      "text/plain": [
       "place_name        rooms\n",
       "Abasto            1.0       1125.0\n",
       "                  2.0       1390.0\n",
       "                  3.0       1900.0\n",
       "                  4.0       2100.0\n",
       "                  5.0        500.0\n",
       "                            ...   \n",
       "Villa del Parque  3.0       1500.0\n",
       "                  4.0       2500.0\n",
       "                  5.0          NaN\n",
       "                  6.0          NaN\n",
       "                  7.0      10000.0\n",
       "Name: expenses, Length: 414, dtype: float64"
      ]
     },
     "execution_count": 58,
     "metadata": {},
     "output_type": "execute_result"
    }
   ],
   "source": [
    "caba.groupby(['place_name','rooms'])['expenses'].median()"
   ]
  },
  {
   "cell_type": "markdown",
   "metadata": {},
   "source": [
    "Decidimos reemplazar los missing con la **mediana** de expensas segun la cantidad de cuartos del apartamento.  "
   ]
  },
  {
   "cell_type": "code",
   "execution_count": 59,
   "metadata": {},
   "outputs": [],
   "source": [
    "caba['expenses'].fillna(caba.groupby(['place_name','rooms'])['expenses'].transform('median'),inplace=True)"
   ]
  },
  {
   "cell_type": "code",
   "execution_count": 60,
   "metadata": {},
   "outputs": [],
   "source": [
    "#Carlos dijo que lo de arriba no era el mejor procedieminto"
   ]
  },
  {
   "cell_type": "code",
   "execution_count": 61,
   "metadata": {},
   "outputs": [
    {
     "name": "stdout",
     "output_type": "stream",
     "text": [
      "Missing de la variable expenses:  626\n"
     ]
    }
   ],
   "source": [
    "print(\"Missing de la variable expenses: \", caba['expenses'].isnull().sum())"
   ]
  },
  {
   "cell_type": "code",
   "execution_count": 62,
   "metadata": {},
   "outputs": [
    {
     "data": {
      "text/plain": [
       "False    22761\n",
       "True       626\n",
       "Name: expenses, dtype: int64"
      ]
     },
     "execution_count": 62,
     "metadata": {},
     "output_type": "execute_result"
    }
   ],
   "source": [
    "caba.expenses.isnull().value_counts()"
   ]
  },
  {
   "cell_type": "markdown",
   "metadata": {},
   "source": [
    "Los pocos missing que quedan los dropeamos porque reemplazar por la media de expensas da algo rarisimo."
   ]
  },
  {
   "cell_type": "code",
   "execution_count": 63,
   "metadata": {},
   "outputs": [],
   "source": [
    "caba= caba.dropna(subset=[\"expenses\"]) #dropna"
   ]
  },
  {
   "cell_type": "code",
   "execution_count": 64,
   "metadata": {},
   "outputs": [
    {
     "data": {
      "text/plain": [
       "False    22761\n",
       "Name: expenses, dtype: int64"
      ]
     },
     "execution_count": 64,
     "metadata": {},
     "output_type": "execute_result"
    }
   ],
   "source": [
    "caba.expenses.isnull().value_counts()"
   ]
  },
  {
   "cell_type": "code",
   "execution_count": 65,
   "metadata": {
    "scrolled": true
   },
   "outputs": [
    {
     "data": {
      "text/html": [
       "<div>\n",
       "<style scoped>\n",
       "    .dataframe tbody tr th:only-of-type {\n",
       "        vertical-align: middle;\n",
       "    }\n",
       "\n",
       "    .dataframe tbody tr th {\n",
       "        vertical-align: top;\n",
       "    }\n",
       "\n",
       "    .dataframe thead th {\n",
       "        text-align: right;\n",
       "    }\n",
       "</style>\n",
       "<table border=\"1\" class=\"dataframe\">\n",
       "  <thead>\n",
       "    <tr style=\"text-align: right;\">\n",
       "      <th></th>\n",
       "      <th>column_name</th>\n",
       "      <th>missing_count</th>\n",
       "      <th>missing_ratio</th>\n",
       "    </tr>\n",
       "  </thead>\n",
       "  <tbody>\n",
       "    <tr>\n",
       "      <th>0</th>\n",
       "      <td>property_type</td>\n",
       "      <td>0</td>\n",
       "      <td>0.000000</td>\n",
       "    </tr>\n",
       "    <tr>\n",
       "      <th>1</th>\n",
       "      <td>place_name</td>\n",
       "      <td>0</td>\n",
       "      <td>0.000000</td>\n",
       "    </tr>\n",
       "    <tr>\n",
       "      <th>2</th>\n",
       "      <td>lat</td>\n",
       "      <td>6176</td>\n",
       "      <td>0.271341</td>\n",
       "    </tr>\n",
       "    <tr>\n",
       "      <th>3</th>\n",
       "      <td>lon</td>\n",
       "      <td>6176</td>\n",
       "      <td>0.271341</td>\n",
       "    </tr>\n",
       "    <tr>\n",
       "      <th>4</th>\n",
       "      <td>price_aprox_usd</td>\n",
       "      <td>0</td>\n",
       "      <td>0.000000</td>\n",
       "    </tr>\n",
       "    <tr>\n",
       "      <th>5</th>\n",
       "      <td>surface_total_in_m2</td>\n",
       "      <td>0</td>\n",
       "      <td>0.000000</td>\n",
       "    </tr>\n",
       "    <tr>\n",
       "      <th>6</th>\n",
       "      <td>surface_covered_in_m2</td>\n",
       "      <td>0</td>\n",
       "      <td>0.000000</td>\n",
       "    </tr>\n",
       "    <tr>\n",
       "      <th>7</th>\n",
       "      <td>price_usd_per_m2</td>\n",
       "      <td>0</td>\n",
       "      <td>0.000000</td>\n",
       "    </tr>\n",
       "    <tr>\n",
       "      <th>8</th>\n",
       "      <td>floor</td>\n",
       "      <td>21368</td>\n",
       "      <td>0.938799</td>\n",
       "    </tr>\n",
       "    <tr>\n",
       "      <th>9</th>\n",
       "      <td>rooms</td>\n",
       "      <td>0</td>\n",
       "      <td>0.000000</td>\n",
       "    </tr>\n",
       "    <tr>\n",
       "      <th>10</th>\n",
       "      <td>expenses</td>\n",
       "      <td>0</td>\n",
       "      <td>0.000000</td>\n",
       "    </tr>\n",
       "    <tr>\n",
       "      <th>11</th>\n",
       "      <td>properati_url</td>\n",
       "      <td>0</td>\n",
       "      <td>0.000000</td>\n",
       "    </tr>\n",
       "    <tr>\n",
       "      <th>12</th>\n",
       "      <td>description</td>\n",
       "      <td>0</td>\n",
       "      <td>0.000000</td>\n",
       "    </tr>\n",
       "    <tr>\n",
       "      <th>13</th>\n",
       "      <td>title</td>\n",
       "      <td>0</td>\n",
       "      <td>0.000000</td>\n",
       "    </tr>\n",
       "  </tbody>\n",
       "</table>\n",
       "</div>"
      ],
      "text/plain": [
       "              column_name  missing_count  missing_ratio\n",
       "0           property_type              0       0.000000\n",
       "1              place_name              0       0.000000\n",
       "2                     lat           6176       0.271341\n",
       "3                     lon           6176       0.271341\n",
       "4         price_aprox_usd              0       0.000000\n",
       "5     surface_total_in_m2              0       0.000000\n",
       "6   surface_covered_in_m2              0       0.000000\n",
       "7        price_usd_per_m2              0       0.000000\n",
       "8                   floor          21368       0.938799\n",
       "9                   rooms              0       0.000000\n",
       "10               expenses              0       0.000000\n",
       "11          properati_url              0       0.000000\n",
       "12            description              0       0.000000\n",
       "13                  title              0       0.000000"
      ]
     },
     "execution_count": 65,
     "metadata": {},
     "output_type": "execute_result"
    }
   ],
   "source": [
    "missing_df = caba.isnull().sum(axis=0).reset_index()\n",
    "missing_df.columns = ['column_name', 'missing_count']\n",
    "missing_df['missing_ratio'] = missing_df['missing_count'] / caba.shape[0]\n",
    "missing_df#.ix[missing_df['missing_ratio']>0.999]\n"
   ]
  },
  {
   "cell_type": "code",
   "execution_count": 66,
   "metadata": {},
   "outputs": [
    {
     "data": {
      "text/plain": [
       "1500.0     2031\n",
       "1800.0     1599\n",
       "1200.0     1053\n",
       "1600.0      940\n",
       "1300.0      913\n",
       "           ... \n",
       "2141.0        1\n",
       "7596.0        1\n",
       "1984.0        1\n",
       "5251.0        1\n",
       "22527.0       1\n",
       "Name: expenses, Length: 748, dtype: int64"
      ]
     },
     "execution_count": 66,
     "metadata": {},
     "output_type": "execute_result"
    }
   ],
   "source": [
    "caba.expenses.value_counts()"
   ]
  },
  {
   "cell_type": "code",
   "execution_count": 67,
   "metadata": {},
   "outputs": [],
   "source": [
    "caba['expenses'] = round(caba['expenses'],0)"
   ]
  },
  {
   "cell_type": "code",
   "execution_count": 68,
   "metadata": {
    "scrolled": false
   },
   "outputs": [
    {
     "name": "stdout",
     "output_type": "stream",
     "text": [
      "count    2.276100e+04\n",
      "mean     3.615304e+03\n",
      "std      9.376829e+04\n",
      "min      1.000000e+00\n",
      "25%      1.400000e+03\n",
      "50%      1.900000e+03\n",
      "75%      2.800000e+03\n",
      "max      1.000150e+07\n",
      "Name: expenses, dtype: float64\n"
     ]
    },
    {
     "data": {
      "image/png": "[encoded data removed]",
      "text/plain": [
       "<Figure size 720x504 with 1 Axes>"
      ]
     },
     "metadata": {},
     "output_type": "display_data"
    },
    {
     "data": {
      "text/plain": [
       "<AxesSubplot:xlabel='expenses'>"
      ]
     },
     "execution_count": 68,
     "metadata": {},
     "output_type": "execute_result"
    },
    {
     "data": {
      "image/png": "[encoded data removed]",
      "text/plain": [
       "<Figure size 720x504 with 1 Axes>"
      ]
     },
     "metadata": {},
     "output_type": "display_data"
    }
   ],
   "source": [
    "print(caba.expenses.describe()) \n",
    "sns.distplot(caba['expenses'],  color = 'aqua') #no entiendo estos graficos\n",
    "plt.show()\n",
    "\n",
    "sns.boxplot(caba['expenses'], color = 'aqua')"
   ]
  },
  {
   "cell_type": "code",
   "execution_count": 69,
   "metadata": {},
   "outputs": [],
   "source": [
    "caba = caba[caba['expenses']<= 60000] #sacamos el outlier"
   ]
  },
  {
   "cell_type": "code",
   "execution_count": 70,
   "metadata": {},
   "outputs": [
    {
     "name": "stdout",
     "output_type": "stream",
     "text": [
      "count    22758.000000\n",
      "mean      2733.760787\n",
      "std       2809.666480\n",
      "min          1.000000\n",
      "25%       1400.000000\n",
      "50%       1900.000000\n",
      "75%       2800.000000\n",
      "max      54240.000000\n",
      "Name: expenses, dtype: float64\n"
     ]
    },
    {
     "data": {
      "image/png": "[encoded data removed]",
      "text/plain": [
       "<Figure size 720x504 with 1 Axes>"
      ]
     },
     "metadata": {},
     "output_type": "display_data"
    },
    {
     "data": {
      "text/plain": [
       "<AxesSubplot:xlabel='expenses'>"
      ]
     },
     "execution_count": 70,
     "metadata": {},
     "output_type": "execute_result"
    },
    {
     "data": {
      "image/png": "[encoded data removed]",
      "text/plain": [
       "<Figure size 720x504 with 1 Axes>"
      ]
     },
     "metadata": {},
     "output_type": "display_data"
    }
   ],
   "source": [
    "print(caba.expenses.describe()) \n",
    "sns.distplot(caba['expenses'],  color = 'aqua') #no entiendo estos graficos\n",
    "plt.show()\n",
    "\n",
    "sns.boxplot(caba['expenses'], color = 'aqua')"
   ]
  },
  {
   "cell_type": "code",
   "execution_count": 71,
   "metadata": {},
   "outputs": [
    {
     "data": {
      "text/plain": [
       "(22758, 14)"
      ]
     },
     "execution_count": 71,
     "metadata": {},
     "output_type": "execute_result"
    }
   ],
   "source": [
    "caba.shape"
   ]
  },
  {
   "cell_type": "markdown",
   "metadata": {},
   "source": [
    "<a id=\"section_floor\"></a> \n",
    "## floor\n",
    "\n",
    "[volver a TOC](#section_toc)"
   ]
  },
  {
   "cell_type": "code",
   "execution_count": 72,
   "metadata": {},
   "outputs": [
    {
     "data": {
      "text/plain": [
       "1.0      296\n",
       "2.0      228\n",
       "3.0      178\n",
       "4.0      118\n",
       "5.0      110\n",
       "6.0      108\n",
       "7.0       90\n",
       "8.0       60\n",
       "9.0       53\n",
       "10.0      44\n",
       "11.0      32\n",
       "12.0      23\n",
       "13.0      17\n",
       "14.0       9\n",
       "15.0       8\n",
       "17.0       5\n",
       "27.0       3\n",
       "16.0       3\n",
       "22.0       3\n",
       "18.0       2\n",
       "117.0      1\n",
       "20.0       1\n",
       "21.0       1\n",
       "Name: floor, dtype: int64"
      ]
     },
     "execution_count": 72,
     "metadata": {},
     "output_type": "execute_result"
    }
   ],
   "source": [
    "caba.floor.value_counts()"
   ]
  },
  {
   "cell_type": "markdown",
   "metadata": {},
   "source": [
    "REGEX"
   ]
  },
  {
   "cell_type": "code",
   "execution_count": 73,
   "metadata": {},
   "outputs": [],
   "source": [
    "\n",
    "\n",
    "pattern_exp = r'(\\b(piso|pisos)\\b)(\\s)(?P<piso>\\d+)'\n",
    "pattern_exp_regex = re.compile(pattern_exp)\n",
    "description_series = caba.description.astype(str)\n",
    "resultado_exp = description_series.apply(lambda x: x if x is np.nan else pattern_exp_regex.search(x))\n",
    "exp_match = resultado_exp.apply(lambda x: x if x is None else x.group('piso'))\n"
   ]
  },
  {
   "cell_type": "code",
   "execution_count": 74,
   "metadata": {},
   "outputs": [
    {
     "data": {
      "text/plain": [
       "0         None\n",
       "2         None\n",
       "7         None\n",
       "8         None\n",
       "13        None\n",
       "          ... \n",
       "121160       1\n",
       "121209       1\n",
       "121215    None\n",
       "121217    None\n",
       "121219    None\n",
       "Name: description, Length: 22758, dtype: object"
      ]
     },
     "execution_count": 74,
     "metadata": {},
     "output_type": "execute_result"
    }
   ],
   "source": [
    "exp_match"
   ]
  },
  {
   "cell_type": "code",
   "execution_count": 75,
   "metadata": {},
   "outputs": [
    {
     "data": {
      "text/plain": [
       "10     93\n",
       "6      71\n",
       "9      71\n",
       "18     67\n",
       "8      62\n",
       "1      56\n",
       "4      54\n",
       "2      48\n",
       "13     46\n",
       "15     44\n",
       "11     40\n",
       "14     35\n",
       "28     29\n",
       "7      23\n",
       "3      22\n",
       "12     17\n",
       "5      15\n",
       "27     11\n",
       "29     11\n",
       "46      6\n",
       "25      6\n",
       "16      5\n",
       "20      5\n",
       "33      5\n",
       "26      5\n",
       "24      4\n",
       "17      4\n",
       "23      3\n",
       "19      3\n",
       "45      2\n",
       "34      2\n",
       "40      2\n",
       "22      2\n",
       "36      1\n",
       "54      1\n",
       "102     1\n",
       "60      1\n",
       "255     1\n",
       "220     1\n",
       "30      1\n",
       "82      1\n",
       "32      1\n",
       "52      1\n",
       "56      1\n",
       "35      1\n",
       "49      1\n",
       "31      1\n",
       "63      1\n",
       "Name: description, dtype: int64"
      ]
     },
     "execution_count": 75,
     "metadata": {},
     "output_type": "execute_result"
    }
   ],
   "source": [
    "exp_match.value_counts()"
   ]
  },
  {
   "cell_type": "code",
   "execution_count": 76,
   "metadata": {},
   "outputs": [
    {
     "data": {
      "text/plain": [
       "0         None\n",
       "2         None\n",
       "7         None\n",
       "8         None\n",
       "13        None\n",
       "          ... \n",
       "121160       1\n",
       "121209       1\n",
       "121215    None\n",
       "121217    None\n",
       "121219    None\n",
       "Name: floor, Length: 22758, dtype: object"
      ]
     },
     "execution_count": 76,
     "metadata": {},
     "output_type": "execute_result"
    }
   ],
   "source": [
    "caba['floor'].fillna(exp_match)"
   ]
  },
  {
   "cell_type": "code",
   "execution_count": 77,
   "metadata": {},
   "outputs": [
    {
     "data": {
      "text/plain": [
       "True     21365\n",
       "False     1393\n",
       "Name: floor, dtype: int64"
      ]
     },
     "execution_count": 77,
     "metadata": {},
     "output_type": "execute_result"
    }
   ],
   "source": [
    "caba['floor'].isnull().value_counts()"
   ]
  },
  {
   "cell_type": "code",
   "execution_count": 78,
   "metadata": {},
   "outputs": [
    {
     "data": {
      "text/plain": [
       "21365"
      ]
     },
     "execution_count": 78,
     "metadata": {},
     "output_type": "execute_result"
    }
   ],
   "source": [
    "caba['floor'].isnull().sum()"
   ]
  },
  {
   "cell_type": "code",
   "execution_count": 79,
   "metadata": {},
   "outputs": [
    {
     "data": {
      "text/plain": [
       "(22758, 14)"
      ]
     },
     "execution_count": 79,
     "metadata": {},
     "output_type": "execute_result"
    }
   ],
   "source": [
    "caba.shape"
   ]
  },
  {
   "cell_type": "code",
   "execution_count": 80,
   "metadata": {
    "scrolled": true
   },
   "outputs": [
    {
     "data": {
      "text/plain": [
       "1.0      296\n",
       "2.0      228\n",
       "3.0      178\n",
       "4.0      118\n",
       "5.0      110\n",
       "6.0      108\n",
       "7.0       90\n",
       "8.0       60\n",
       "9.0       53\n",
       "10.0      44\n",
       "11.0      32\n",
       "12.0      23\n",
       "13.0      17\n",
       "14.0       9\n",
       "15.0       8\n",
       "17.0       5\n",
       "27.0       3\n",
       "16.0       3\n",
       "22.0       3\n",
       "18.0       2\n",
       "117.0      1\n",
       "20.0       1\n",
       "21.0       1\n",
       "Name: floor, dtype: int64"
      ]
     },
     "execution_count": 80,
     "metadata": {},
     "output_type": "execute_result"
    }
   ],
   "source": [
    "caba.floor.value_counts()"
   ]
  },
  {
   "cell_type": "code",
   "execution_count": 81,
   "metadata": {},
   "outputs": [],
   "source": [
    "caba = caba[caba['floor']<= 30] #sacamos el outlier y los missing"
   ]
  },
  {
   "cell_type": "code",
   "execution_count": 82,
   "metadata": {},
   "outputs": [
    {
     "data": {
      "text/plain": [
       "(1392, 14)"
      ]
     },
     "execution_count": 82,
     "metadata": {},
     "output_type": "execute_result"
    }
   ],
   "source": [
    "caba.shape"
   ]
  },
  {
   "cell_type": "code",
   "execution_count": 83,
   "metadata": {},
   "outputs": [],
   "source": [
    "# # caba_floor = caba\n",
    "# caba_floor['floor']= caba.floor.fillna(1)\n",
    "# caba_floor.shape\n",
    "# caba_floor = caba_floor[caba_floor['floor']<= 30] #sacamos el outlier"
   ]
  },
  {
   "cell_type": "code",
   "execution_count": 84,
   "metadata": {},
   "outputs": [
    {
     "data": {
      "text/plain": [
       "0"
      ]
     },
     "execution_count": 84,
     "metadata": {},
     "output_type": "execute_result"
    }
   ],
   "source": [
    "caba['floor'].isnull().sum()"
   ]
  },
  {
   "cell_type": "code",
   "execution_count": 85,
   "metadata": {},
   "outputs": [
    {
     "data": {
      "text/plain": [
       "1.0     296\n",
       "2.0     228\n",
       "3.0     178\n",
       "4.0     118\n",
       "5.0     110\n",
       "6.0     108\n",
       "7.0      90\n",
       "8.0      60\n",
       "9.0      53\n",
       "10.0     44\n",
       "11.0     32\n",
       "12.0     23\n",
       "13.0     17\n",
       "14.0      9\n",
       "15.0      8\n",
       "17.0      5\n",
       "22.0      3\n",
       "27.0      3\n",
       "16.0      3\n",
       "18.0      2\n",
       "20.0      1\n",
       "21.0      1\n",
       "Name: floor, dtype: int64"
      ]
     },
     "execution_count": 85,
     "metadata": {},
     "output_type": "execute_result"
    }
   ],
   "source": [
    "# mode = caba.floor.mode()\n",
    "# caba = caba.floor.fillna(mode)\n",
    "caba.floor.value_counts()"
   ]
  },
  {
   "cell_type": "code",
   "execution_count": 86,
   "metadata": {},
   "outputs": [],
   "source": [
    "# caba = caba_floor"
   ]
  },
  {
   "cell_type": "code",
   "execution_count": 87,
   "metadata": {
    "scrolled": true
   },
   "outputs": [
    {
     "data": {
      "text/html": [
       "<div>\n",
       "<style scoped>\n",
       "    .dataframe tbody tr th:only-of-type {\n",
       "        vertical-align: middle;\n",
       "    }\n",
       "\n",
       "    .dataframe tbody tr th {\n",
       "        vertical-align: top;\n",
       "    }\n",
       "\n",
       "    .dataframe thead th {\n",
       "        text-align: right;\n",
       "    }\n",
       "</style>\n",
       "<table border=\"1\" class=\"dataframe\">\n",
       "  <thead>\n",
       "    <tr style=\"text-align: right;\">\n",
       "      <th></th>\n",
       "      <th>column_name</th>\n",
       "      <th>missing_count</th>\n",
       "      <th>missing_ratio</th>\n",
       "    </tr>\n",
       "  </thead>\n",
       "  <tbody>\n",
       "    <tr>\n",
       "      <th>0</th>\n",
       "      <td>property_type</td>\n",
       "      <td>0</td>\n",
       "      <td>0.000000</td>\n",
       "    </tr>\n",
       "    <tr>\n",
       "      <th>1</th>\n",
       "      <td>place_name</td>\n",
       "      <td>0</td>\n",
       "      <td>0.000000</td>\n",
       "    </tr>\n",
       "    <tr>\n",
       "      <th>2</th>\n",
       "      <td>lat</td>\n",
       "      <td>82</td>\n",
       "      <td>0.058908</td>\n",
       "    </tr>\n",
       "    <tr>\n",
       "      <th>3</th>\n",
       "      <td>lon</td>\n",
       "      <td>82</td>\n",
       "      <td>0.058908</td>\n",
       "    </tr>\n",
       "    <tr>\n",
       "      <th>4</th>\n",
       "      <td>price_aprox_usd</td>\n",
       "      <td>0</td>\n",
       "      <td>0.000000</td>\n",
       "    </tr>\n",
       "    <tr>\n",
       "      <th>5</th>\n",
       "      <td>surface_total_in_m2</td>\n",
       "      <td>0</td>\n",
       "      <td>0.000000</td>\n",
       "    </tr>\n",
       "    <tr>\n",
       "      <th>6</th>\n",
       "      <td>surface_covered_in_m2</td>\n",
       "      <td>0</td>\n",
       "      <td>0.000000</td>\n",
       "    </tr>\n",
       "    <tr>\n",
       "      <th>7</th>\n",
       "      <td>price_usd_per_m2</td>\n",
       "      <td>0</td>\n",
       "      <td>0.000000</td>\n",
       "    </tr>\n",
       "    <tr>\n",
       "      <th>8</th>\n",
       "      <td>floor</td>\n",
       "      <td>0</td>\n",
       "      <td>0.000000</td>\n",
       "    </tr>\n",
       "    <tr>\n",
       "      <th>9</th>\n",
       "      <td>rooms</td>\n",
       "      <td>0</td>\n",
       "      <td>0.000000</td>\n",
       "    </tr>\n",
       "    <tr>\n",
       "      <th>10</th>\n",
       "      <td>expenses</td>\n",
       "      <td>0</td>\n",
       "      <td>0.000000</td>\n",
       "    </tr>\n",
       "    <tr>\n",
       "      <th>11</th>\n",
       "      <td>properati_url</td>\n",
       "      <td>0</td>\n",
       "      <td>0.000000</td>\n",
       "    </tr>\n",
       "    <tr>\n",
       "      <th>12</th>\n",
       "      <td>description</td>\n",
       "      <td>0</td>\n",
       "      <td>0.000000</td>\n",
       "    </tr>\n",
       "    <tr>\n",
       "      <th>13</th>\n",
       "      <td>title</td>\n",
       "      <td>0</td>\n",
       "      <td>0.000000</td>\n",
       "    </tr>\n",
       "  </tbody>\n",
       "</table>\n",
       "</div>"
      ],
      "text/plain": [
       "              column_name  missing_count  missing_ratio\n",
       "0           property_type              0       0.000000\n",
       "1              place_name              0       0.000000\n",
       "2                     lat             82       0.058908\n",
       "3                     lon             82       0.058908\n",
       "4         price_aprox_usd              0       0.000000\n",
       "5     surface_total_in_m2              0       0.000000\n",
       "6   surface_covered_in_m2              0       0.000000\n",
       "7        price_usd_per_m2              0       0.000000\n",
       "8                   floor              0       0.000000\n",
       "9                   rooms              0       0.000000\n",
       "10               expenses              0       0.000000\n",
       "11          properati_url              0       0.000000\n",
       "12            description              0       0.000000\n",
       "13                  title              0       0.000000"
      ]
     },
     "execution_count": 87,
     "metadata": {},
     "output_type": "execute_result"
    }
   ],
   "source": [
    "missing_df = caba.isnull().sum(axis=0).reset_index()\n",
    "missing_df.columns = ['column_name', 'missing_count']\n",
    "missing_df['missing_ratio'] = missing_df['missing_count'] / caba.shape[0]\n",
    "missing_df#."
   ]
  },
  {
   "cell_type": "markdown",
   "metadata": {},
   "source": [
    "<a id=\"section_latlon\"></a> \n",
    "## latlon\n",
    "\n",
    "[volver a TOC](#section_toc)"
   ]
  },
  {
   "cell_type": "code",
   "execution_count": 88,
   "metadata": {},
   "outputs": [],
   "source": [
    "caba= caba.dropna(subset=[\"lat\"]) #dropna"
   ]
  },
  {
   "cell_type": "code",
   "execution_count": 89,
   "metadata": {},
   "outputs": [],
   "source": [
    "caba= caba.dropna(subset=[\"lon\"]) #dropna"
   ]
  },
  {
   "cell_type": "code",
   "execution_count": 90,
   "metadata": {
    "scrolled": true
   },
   "outputs": [
    {
     "data": {
      "text/html": [
       "<div>\n",
       "<style scoped>\n",
       "    .dataframe tbody tr th:only-of-type {\n",
       "        vertical-align: middle;\n",
       "    }\n",
       "\n",
       "    .dataframe tbody tr th {\n",
       "        vertical-align: top;\n",
       "    }\n",
       "\n",
       "    .dataframe thead th {\n",
       "        text-align: right;\n",
       "    }\n",
       "</style>\n",
       "<table border=\"1\" class=\"dataframe\">\n",
       "  <thead>\n",
       "    <tr style=\"text-align: right;\">\n",
       "      <th></th>\n",
       "      <th>column_name</th>\n",
       "      <th>missing_count</th>\n",
       "      <th>missing_ratio</th>\n",
       "    </tr>\n",
       "  </thead>\n",
       "  <tbody>\n",
       "    <tr>\n",
       "      <th>0</th>\n",
       "      <td>property_type</td>\n",
       "      <td>0</td>\n",
       "      <td>0.0</td>\n",
       "    </tr>\n",
       "    <tr>\n",
       "      <th>1</th>\n",
       "      <td>place_name</td>\n",
       "      <td>0</td>\n",
       "      <td>0.0</td>\n",
       "    </tr>\n",
       "    <tr>\n",
       "      <th>2</th>\n",
       "      <td>lat</td>\n",
       "      <td>0</td>\n",
       "      <td>0.0</td>\n",
       "    </tr>\n",
       "    <tr>\n",
       "      <th>3</th>\n",
       "      <td>lon</td>\n",
       "      <td>0</td>\n",
       "      <td>0.0</td>\n",
       "    </tr>\n",
       "    <tr>\n",
       "      <th>4</th>\n",
       "      <td>price_aprox_usd</td>\n",
       "      <td>0</td>\n",
       "      <td>0.0</td>\n",
       "    </tr>\n",
       "    <tr>\n",
       "      <th>5</th>\n",
       "      <td>surface_total_in_m2</td>\n",
       "      <td>0</td>\n",
       "      <td>0.0</td>\n",
       "    </tr>\n",
       "    <tr>\n",
       "      <th>6</th>\n",
       "      <td>surface_covered_in_m2</td>\n",
       "      <td>0</td>\n",
       "      <td>0.0</td>\n",
       "    </tr>\n",
       "    <tr>\n",
       "      <th>7</th>\n",
       "      <td>price_usd_per_m2</td>\n",
       "      <td>0</td>\n",
       "      <td>0.0</td>\n",
       "    </tr>\n",
       "    <tr>\n",
       "      <th>8</th>\n",
       "      <td>floor</td>\n",
       "      <td>0</td>\n",
       "      <td>0.0</td>\n",
       "    </tr>\n",
       "    <tr>\n",
       "      <th>9</th>\n",
       "      <td>rooms</td>\n",
       "      <td>0</td>\n",
       "      <td>0.0</td>\n",
       "    </tr>\n",
       "    <tr>\n",
       "      <th>10</th>\n",
       "      <td>expenses</td>\n",
       "      <td>0</td>\n",
       "      <td>0.0</td>\n",
       "    </tr>\n",
       "    <tr>\n",
       "      <th>11</th>\n",
       "      <td>properati_url</td>\n",
       "      <td>0</td>\n",
       "      <td>0.0</td>\n",
       "    </tr>\n",
       "    <tr>\n",
       "      <th>12</th>\n",
       "      <td>description</td>\n",
       "      <td>0</td>\n",
       "      <td>0.0</td>\n",
       "    </tr>\n",
       "    <tr>\n",
       "      <th>13</th>\n",
       "      <td>title</td>\n",
       "      <td>0</td>\n",
       "      <td>0.0</td>\n",
       "    </tr>\n",
       "  </tbody>\n",
       "</table>\n",
       "</div>"
      ],
      "text/plain": [
       "              column_name  missing_count  missing_ratio\n",
       "0           property_type              0            0.0\n",
       "1              place_name              0            0.0\n",
       "2                     lat              0            0.0\n",
       "3                     lon              0            0.0\n",
       "4         price_aprox_usd              0            0.0\n",
       "5     surface_total_in_m2              0            0.0\n",
       "6   surface_covered_in_m2              0            0.0\n",
       "7        price_usd_per_m2              0            0.0\n",
       "8                   floor              0            0.0\n",
       "9                   rooms              0            0.0\n",
       "10               expenses              0            0.0\n",
       "11          properati_url              0            0.0\n",
       "12            description              0            0.0\n",
       "13                  title              0            0.0"
      ]
     },
     "execution_count": 90,
     "metadata": {},
     "output_type": "execute_result"
    }
   ],
   "source": [
    "missing_df = caba.isnull().sum(axis=0).reset_index()\n",
    "missing_df.columns = ['column_name', 'missing_count']\n",
    "missing_df['missing_ratio'] = missing_df['missing_count'] / caba.shape[0]\n",
    "missing_df#.ix[missing_df['missing_ratio']>0.999]\n"
   ]
  },
  {
   "cell_type": "code",
   "execution_count": 91,
   "metadata": {},
   "outputs": [
    {
     "data": {
      "text/plain": [
       "(1310, 14)"
      ]
     },
     "execution_count": 91,
     "metadata": {},
     "output_type": "execute_result"
    }
   ],
   "source": [
    "caba.shape"
   ]
  },
  {
   "cell_type": "markdown",
   "metadata": {},
   "source": [
    "<a id=\"section_des\"></a> \n",
    "## descriptivas\n",
    "\n",
    "[volver a TOC](#section_toc)"
   ]
  },
  {
   "cell_type": "code",
   "execution_count": 92,
   "metadata": {},
   "outputs": [],
   "source": [
    "plt.style.use('dark_background')"
   ]
  },
  {
   "cell_type": "code",
   "execution_count": 93,
   "metadata": {},
   "outputs": [
    {
     "data": {
      "image/png": "[encoded data removed]",
      "text/plain": [
       "<Figure size 1440x1080 with 9 Axes>"
      ]
     },
     "metadata": {
      "needs_background": "dark"
     },
     "output_type": "display_data"
    }
   ],
   "source": [
    "%matplotlib inline\n",
    "import matplotlib.pyplot as plt\n",
    "caba.hist(bins=50, figsize=(20,15))\n",
    "plt.savefig(\"attribute_histogram_plots\")\n",
    "plt.show()"
   ]
  },
  {
   "cell_type": "markdown",
   "metadata": {},
   "source": [
    "Some of the histograms are a little bit right skewed, but this is not abnormal."
   ]
  },
  {
   "cell_type": "code",
   "execution_count": 94,
   "metadata": {},
   "outputs": [
    {
     "name": "stderr",
     "output_type": "stream",
     "text": [
      "/opt/anaconda3/envs/dhdsblend/lib/python3.7/site-packages/seaborn/axisgrid.py:2272: UserWarning: The `size` parameter has been renamed to `height`; please update your code.\n",
      "  warnings.warn(msg, UserWarning)\n"
     ]
    },
    {
     "data": {
      "text/plain": [
       "<Figure size 864x864 with 0 Axes>"
      ]
     },
     "metadata": {},
     "output_type": "display_data"
    },
    {
     "data": {
      "image/png": "[encoded data removed]",
      "text/plain": [
       "<Figure size 720x720 with 3 Axes>"
      ]
     },
     "metadata": {
      "needs_background": "dark"
     },
     "output_type": "display_data"
    }
   ],
   "source": [
    "plt.figure(figsize=(12,12))\n",
    "sns.jointplot(x=caba.lat.values, y=caba.lon.values, size=10)\n",
    "plt.ylabel('Longitude', fontsize=12)\n",
    "plt.xlabel('Latitude', fontsize=12)\n",
    "plt.show()"
   ]
  },
  {
   "cell_type": "markdown",
   "metadata": {},
   "source": [
    "Pareceria que hay mas datos en la parte norte y este de CABA."
   ]
  },
  {
   "cell_type": "markdown",
   "metadata": {},
   "source": [
    "<a id=\"section_corr\"></a> \n",
    "## correlacion\n",
    "\n",
    "[volver a TOC](#section_toc)"
   ]
  },
  {
   "cell_type": "code",
   "execution_count": 95,
   "metadata": {},
   "outputs": [
    {
     "data": {
      "text/plain": [
       "Index(['property_type', 'place_name', 'lat', 'lon', 'price_aprox_usd',\n",
       "       'surface_total_in_m2', 'surface_covered_in_m2', 'price_usd_per_m2',\n",
       "       'floor', 'rooms', 'expenses', 'properati_url', 'description', 'title'],\n",
       "      dtype='object')"
      ]
     },
     "execution_count": 95,
     "metadata": {},
     "output_type": "execute_result"
    }
   ],
   "source": [
    "caba.columns"
   ]
  },
  {
   "cell_type": "code",
   "execution_count": 96,
   "metadata": {},
   "outputs": [],
   "source": [
    "sns.set_style(\"darkgrid\")"
   ]
  },
  {
   "cell_type": "code",
   "execution_count": 97,
   "metadata": {},
   "outputs": [
    {
     "data": {
      "text/plain": [
       "<AxesSubplot:>"
      ]
     },
     "execution_count": 97,
     "metadata": {},
     "output_type": "execute_result"
    },
    {
     "data": {
      "image/png": "[encoded data removed]",
      "text/plain": [
       "<Figure size 432x288 with 2 Axes>"
      ]
     },
     "metadata": {},
     "output_type": "display_data"
    }
   ],
   "source": [
    "sns.heatmap(caba.corr(), annot=True, vmin=-1, cmap='Blues')"
   ]
  },
  {
   "cell_type": "markdown",
   "metadata": {},
   "source": [
    "surface_total_in_m2 y surface_covered_in_m2 tienen alta y positiva correlacion con price_aprox_usd. Sin embargo, esa relacion disminuye muchisimo e incluso es negativa con price_usd_per_m2 "
   ]
  },
  {
   "cell_type": "markdown",
   "metadata": {},
   "source": [
    "Vemos que la variable surface_total_in_m2 y surface_covered_in_m2 (0.77) tiene una alta correlacion, por lo que creamos una nueva variable surface_uncovered_in_m2."
   ]
  },
  {
   "cell_type": "code",
   "execution_count": 98,
   "metadata": {
    "scrolled": true
   },
   "outputs": [
    {
     "data": {
      "text/plain": [
       "price_usd_per_m2         1.000000\n",
       "price_aprox_usd          0.329877\n",
       "lat                      0.285869\n",
       "floor                    0.226864\n",
       "expenses                 0.162812\n",
       "lon                      0.029933\n",
       "surface_covered_in_m2   -0.055874\n",
       "rooms                   -0.126664\n",
       "surface_total_in_m2     -0.186133\n",
       "Name: price_usd_per_m2, dtype: float64"
      ]
     },
     "execution_count": 98,
     "metadata": {},
     "output_type": "execute_result"
    }
   ],
   "source": [
    "corr_matrix = caba.corr()\n",
    "corr_matrix[\"price_usd_per_m2\"].sort_values(ascending=False)"
   ]
  },
  {
   "cell_type": "markdown",
   "metadata": {},
   "source": [
    "Estas correlaciones y relaciones con la variable dependiente tienen sentido:\n",
    "* A mayor latitud, es decir mas al norte de CABA, aumenta el precio. Correcto?\n",
    "* A mayor piso, aqui segurametne estamos apuntando a departamentos, aumenta el precio.\n",
    "* Cuanto mas expensas, aumenta el preico.\n",
    "* A mayor longitud, aunque poca, aumenta el precio.\n",
    "\n",
    "Correlaciones negativas no claras:\n",
    "* sup_covered\n",
    "* rooms\n",
    "* sup_total"
   ]
  },
  {
   "cell_type": "code",
   "execution_count": 99,
   "metadata": {
    "scrolled": true
   },
   "outputs": [
    {
     "name": "stdout",
     "output_type": "stream",
     "text": [
      "<class 'pandas.core.frame.DataFrame'>\n",
      "Int64Index: 1310 entries, 351 to 119826\n",
      "Data columns (total 14 columns):\n",
      " #   Column                 Non-Null Count  Dtype  \n",
      "---  ------                 --------------  -----  \n",
      " 0   property_type          1310 non-null   object \n",
      " 1   place_name             1310 non-null   object \n",
      " 2   lat                    1310 non-null   float64\n",
      " 3   lon                    1310 non-null   float64\n",
      " 4   price_aprox_usd        1310 non-null   float64\n",
      " 5   surface_total_in_m2    1310 non-null   float64\n",
      " 6   surface_covered_in_m2  1310 non-null   float64\n",
      " 7   price_usd_per_m2       1310 non-null   float64\n",
      " 8   floor                  1310 non-null   float64\n",
      " 9   rooms                  1310 non-null   float64\n",
      " 10  expenses               1310 non-null   float64\n",
      " 11  properati_url          1310 non-null   object \n",
      " 12  description            1310 non-null   object \n",
      " 13  title                  1310 non-null   object \n",
      "dtypes: float64(9), object(5)\n",
      "memory usage: 153.5+ KB\n"
     ]
    }
   ],
   "source": [
    "caba.info()"
   ]
  },
  {
   "cell_type": "code",
   "execution_count": 100,
   "metadata": {},
   "outputs": [
    {
     "name": "stdout",
     "output_type": "stream",
     "text": [
      "<class 'pandas.core.frame.DataFrame'>\n",
      "Int64Index: 1310 entries, 351 to 119826\n",
      "Data columns (total 13 columns):\n",
      " #   Column                 Non-Null Count  Dtype  \n",
      "---  ------                 --------------  -----  \n",
      " 0   property_type          1310 non-null   object \n",
      " 1   place_name             1310 non-null   object \n",
      " 2   lat                    1310 non-null   float64\n",
      " 3   lon                    1310 non-null   float64\n",
      " 4   surface_total_in_m2    1310 non-null   float64\n",
      " 5   surface_covered_in_m2  1310 non-null   float64\n",
      " 6   price_usd_per_m2       1310 non-null   float64\n",
      " 7   floor                  1310 non-null   float64\n",
      " 8   rooms                  1310 non-null   float64\n",
      " 9   expenses               1310 non-null   float64\n",
      " 10  properati_url          1310 non-null   object \n",
      " 11  description            1310 non-null   object \n",
      " 12  title                  1310 non-null   object \n",
      "dtypes: float64(8), object(5)\n",
      "memory usage: 143.3+ KB\n"
     ]
    }
   ],
   "source": [
    "caba.drop(caba.columns[[4]], axis=1, inplace=True)\n",
    "caba.info()"
   ]
  },
  {
   "cell_type": "markdown",
   "metadata": {},
   "source": [
    "<a id=\"section_uncovered\"></a> \n",
    "## sup_uncovered\n",
    "\n",
    "[volver a TOC](#section_toc)"
   ]
  },
  {
   "cell_type": "code",
   "execution_count": 101,
   "metadata": {},
   "outputs": [],
   "source": [
    "caba['surface_uncovered_in_m2'] = caba['surface_total_in_m2'] - caba['surface_covered_in_m2']"
   ]
  },
  {
   "cell_type": "code",
   "execution_count": 102,
   "metadata": {},
   "outputs": [
    {
     "data": {
      "text/plain": [
       "Index(['property_type', 'place_name', 'lat', 'lon', 'surface_total_in_m2',\n",
       "       'surface_covered_in_m2', 'price_usd_per_m2', 'floor', 'rooms',\n",
       "       'expenses', 'properati_url', 'description', 'title',\n",
       "       'surface_uncovered_in_m2'],\n",
       "      dtype='object')"
      ]
     },
     "execution_count": 102,
     "metadata": {},
     "output_type": "execute_result"
    }
   ],
   "source": [
    "caba.columns"
   ]
  },
  {
   "cell_type": "code",
   "execution_count": 103,
   "metadata": {},
   "outputs": [
    {
     "data": {
      "text/plain": [
       "count    1310.000000\n",
       "mean        8.397710\n",
       "std        34.470166\n",
       "min      -844.000000\n",
       "25%         0.000000\n",
       "50%         4.000000\n",
       "75%         8.000000\n",
       "max       314.000000\n",
       "Name: surface_uncovered_in_m2, dtype: float64"
      ]
     },
     "execution_count": 103,
     "metadata": {},
     "output_type": "execute_result"
    }
   ],
   "source": [
    "caba.surface_uncovered_in_m2.describe()"
   ]
  },
  {
   "cell_type": "code",
   "execution_count": 104,
   "metadata": {},
   "outputs": [],
   "source": [
    "#pos = caba.loc[caba['surface_uncovered_in_m2'] > 0, 'surface_uncovered_in_m2']"
   ]
  },
  {
   "cell_type": "code",
   "execution_count": 105,
   "metadata": {},
   "outputs": [],
   "source": [
    "#pos.describe()"
   ]
  },
  {
   "cell_type": "code",
   "execution_count": 106,
   "metadata": {},
   "outputs": [],
   "source": [
    "#caba['surface_uncovered_in_m2'] = caba.loc[caba['surface_uncovered_in_m2'] > 0, 'surface_uncovered_in_m2']"
   ]
  },
  {
   "cell_type": "code",
   "execution_count": 107,
   "metadata": {},
   "outputs": [],
   "source": [
    "#caba['surface_uncovered_in_m2'].describe()"
   ]
  },
  {
   "cell_type": "code",
   "execution_count": 108,
   "metadata": {},
   "outputs": [
    {
     "data": {
      "text/plain": [
       "price_usd_per_m2           1.000000\n",
       "lat                        0.285869\n",
       "floor                      0.226864\n",
       "expenses                   0.162812\n",
       "lon                        0.029933\n",
       "surface_covered_in_m2     -0.055874\n",
       "rooms                     -0.126664\n",
       "surface_total_in_m2       -0.186133\n",
       "surface_uncovered_in_m2   -0.200237\n",
       "Name: price_usd_per_m2, dtype: float64"
      ]
     },
     "execution_count": 108,
     "metadata": {},
     "output_type": "execute_result"
    }
   ],
   "source": [
    "corr_matrix = caba.corr()\n",
    "corr_matrix[\"price_usd_per_m2\"].sort_values(ascending=False)"
   ]
  },
  {
   "cell_type": "code",
   "execution_count": 109,
   "metadata": {
    "scrolled": true
   },
   "outputs": [
    {
     "data": {
      "text/plain": [
       "array([[<AxesSubplot:xlabel='price_usd_per_m2', ylabel='price_usd_per_m2'>,\n",
       "        <AxesSubplot:xlabel='floor', ylabel='price_usd_per_m2'>,\n",
       "        <AxesSubplot:xlabel='expenses', ylabel='price_usd_per_m2'>,\n",
       "        <AxesSubplot:xlabel='surface_covered_in_m2', ylabel='price_usd_per_m2'>,\n",
       "        <AxesSubplot:xlabel='surface_uncovered_in_m2', ylabel='price_usd_per_m2'>],\n",
       "       [<AxesSubplot:xlabel='price_usd_per_m2', ylabel='floor'>,\n",
       "        <AxesSubplot:xlabel='floor', ylabel='floor'>,\n",
       "        <AxesSubplot:xlabel='expenses', ylabel='floor'>,\n",
       "        <AxesSubplot:xlabel='surface_covered_in_m2', ylabel='floor'>,\n",
       "        <AxesSubplot:xlabel='surface_uncovered_in_m2', ylabel='floor'>],\n",
       "       [<AxesSubplot:xlabel='price_usd_per_m2', ylabel='expenses'>,\n",
       "        <AxesSubplot:xlabel='floor', ylabel='expenses'>,\n",
       "        <AxesSubplot:xlabel='expenses', ylabel='expenses'>,\n",
       "        <AxesSubplot:xlabel='surface_covered_in_m2', ylabel='expenses'>,\n",
       "        <AxesSubplot:xlabel='surface_uncovered_in_m2', ylabel='expenses'>],\n",
       "       [<AxesSubplot:xlabel='price_usd_per_m2', ylabel='surface_covered_in_m2'>,\n",
       "        <AxesSubplot:xlabel='floor', ylabel='surface_covered_in_m2'>,\n",
       "        <AxesSubplot:xlabel='expenses', ylabel='surface_covered_in_m2'>,\n",
       "        <AxesSubplot:xlabel='surface_covered_in_m2', ylabel='surface_covered_in_m2'>,\n",
       "        <AxesSubplot:xlabel='surface_uncovered_in_m2', ylabel='surface_covered_in_m2'>],\n",
       "       [<AxesSubplot:xlabel='price_usd_per_m2', ylabel='surface_uncovered_in_m2'>,\n",
       "        <AxesSubplot:xlabel='floor', ylabel='surface_uncovered_in_m2'>,\n",
       "        <AxesSubplot:xlabel='expenses', ylabel='surface_uncovered_in_m2'>,\n",
       "        <AxesSubplot:xlabel='surface_covered_in_m2', ylabel='surface_uncovered_in_m2'>,\n",
       "        <AxesSubplot:xlabel='surface_uncovered_in_m2', ylabel='surface_uncovered_in_m2'>]],\n",
       "      dtype=object)"
      ]
     },
     "execution_count": 109,
     "metadata": {},
     "output_type": "execute_result"
    },
    {
     "data": {
      "image/png": "[encoded data removed]",
      "text/plain": [
       "<Figure size 864x576 with 25 Axes>"
      ]
     },
     "metadata": {},
     "output_type": "display_data"
    }
   ],
   "source": [
    "attributes = [\"price_usd_per_m2\", \"floor\",\"expenses\",\"surface_covered_in_m2\", \"surface_uncovered_in_m2\"]\n",
    "pd.plotting.scatter_matrix(caba[attributes], figsize=(12, 8))\n",
    "#plt.savefig('matrix.png')"
   ]
  },
  {
   "cell_type": "code",
   "execution_count": 110,
   "metadata": {
    "scrolled": true
   },
   "outputs": [
    {
     "name": "stderr",
     "output_type": "stream",
     "text": [
      "*c* argument looks like a single numeric RGB or RGBA sequence, which should be avoided as value-mapping will have precedence in case its length matches with *x* & *y*.  Please use the *color* keyword-argument or provide a 2-D array with a single row if you intend to specify the same RGB or RGBA value for all points.\n"
     ]
    },
    {
     "data": {
      "image/png": "[encoded data removed]",
      "text/plain": [
       "<Figure size 432x288 with 1 Axes>"
      ]
     },
     "metadata": {},
     "output_type": "display_data"
    }
   ],
   "source": [
    "caba.plot(kind=\"scatter\", x=\"surface_total_in_m2\", y=\"price_usd_per_m2\", alpha=0.5)\n",
    "plt.savefig('scatter.png')"
   ]
  },
  {
   "cell_type": "code",
   "execution_count": 111,
   "metadata": {},
   "outputs": [
    {
     "name": "stderr",
     "output_type": "stream",
     "text": [
      "*c* argument looks like a single numeric RGB or RGBA sequence, which should be avoided as value-mapping will have precedence in case its length matches with *x* & *y*.  Please use the *color* keyword-argument or provide a 2-D array with a single row if you intend to specify the same RGB or RGBA value for all points.\n"
     ]
    },
    {
     "data": {
      "image/png": "[encoded data removed]",
      "text/plain": [
       "<Figure size 432x288 with 1 Axes>"
      ]
     },
     "metadata": {},
     "output_type": "display_data"
    }
   ],
   "source": [
    "caba.plot(kind=\"scatter\", x=\"surface_covered_in_m2\", y=\"price_usd_per_m2\", alpha=0.5)\n",
    "plt.savefig('scatter.png')"
   ]
  },
  {
   "cell_type": "code",
   "execution_count": 112,
   "metadata": {
    "scrolled": true
   },
   "outputs": [
    {
     "name": "stderr",
     "output_type": "stream",
     "text": [
      "*c* argument looks like a single numeric RGB or RGBA sequence, which should be avoided as value-mapping will have precedence in case its length matches with *x* & *y*.  Please use the *color* keyword-argument or provide a 2-D array with a single row if you intend to specify the same RGB or RGBA value for all points.\n"
     ]
    },
    {
     "data": {
      "image/png": "[encoded data removed]",
      "text/plain": [
       "<Figure size 432x288 with 1 Axes>"
      ]
     },
     "metadata": {},
     "output_type": "display_data"
    }
   ],
   "source": [
    "caba.plot(kind=\"scatter\", x=\"surface_uncovered_in_m2\", y=\"price_usd_per_m2\", alpha=0.5)\n",
    "plt.savefig('scatter.png')"
   ]
  },
  {
   "cell_type": "code",
   "execution_count": 113,
   "metadata": {},
   "outputs": [
    {
     "name": "stderr",
     "output_type": "stream",
     "text": [
      "*c* argument looks like a single numeric RGB or RGBA sequence, which should be avoided as value-mapping will have precedence in case its length matches with *x* & *y*.  Please use the *color* keyword-argument or provide a 2-D array with a single row if you intend to specify the same RGB or RGBA value for all points.\n"
     ]
    },
    {
     "data": {
      "image/png": "[encoded data removed]",
      "text/plain": [
       "<Figure size 432x288 with 1 Axes>"
      ]
     },
     "metadata": {},
     "output_type": "display_data"
    }
   ],
   "source": [
    "caba.plot(kind=\"scatter\", x=\"floor\", y=\"price_usd_per_m2\", alpha=0.5)\n",
    "plt.savefig('scatter.png')"
   ]
  },
  {
   "cell_type": "code",
   "execution_count": 114,
   "metadata": {},
   "outputs": [
    {
     "name": "stderr",
     "output_type": "stream",
     "text": [
      "*c* argument looks like a single numeric RGB or RGBA sequence, which should be avoided as value-mapping will have precedence in case its length matches with *x* & *y*.  Please use the *color* keyword-argument or provide a 2-D array with a single row if you intend to specify the same RGB or RGBA value for all points.\n"
     ]
    },
    {
     "data": {
      "image/png": "[encoded data removed]",
      "text/plain": [
       "<Figure size 432x288 with 1 Axes>"
      ]
     },
     "metadata": {},
     "output_type": "display_data"
    }
   ],
   "source": [
    "caba.plot(kind=\"scatter\", x=\"expenses\", y=\"price_usd_per_m2\", alpha=0.5)\n",
    "plt.savefig('scatter.png')"
   ]
  },
  {
   "cell_type": "markdown",
   "metadata": {},
   "source": [
    "<a id=\"section_barrios\"></a> \n",
    "## barrios\n",
    "\n",
    "[volver a TOC](#section_toc)"
   ]
  },
  {
   "cell_type": "code",
   "execution_count": 115,
   "metadata": {},
   "outputs": [
    {
     "data": {
      "text/plain": [
       "54"
      ]
     },
     "execution_count": 115,
     "metadata": {},
     "output_type": "execute_result"
    }
   ],
   "source": [
    "len(caba['place_name'].value_counts())"
   ]
  },
  {
   "cell_type": "code",
   "execution_count": 116,
   "metadata": {},
   "outputs": [
    {
     "data": {
      "text/plain": [
       "place_name\n",
       "Caballito               177\n",
       "Palermo                 116\n",
       "Villa Crespo             87\n",
       "Flores                   83\n",
       "Almagro                  73\n",
       "Belgrano                 71\n",
       "Balvanera                69\n",
       "Recoleta                 59\n",
       "Barrio Norte             53\n",
       "San Cristobal            42\n",
       "San Telmo                41\n",
       "Villa Urquiza            39\n",
       "Parque Centenario        29\n",
       "Saavedra                 26\n",
       "Palermo Hollywood        25\n",
       "Chacarita                23\n",
       "Congreso                 23\n",
       "Paternal                 21\n",
       "Colegiales               19\n",
       "Parque Chacabuco         19\n",
       "Coghlan                  17\n",
       "Centro / Microcentro     16\n",
       "Nuñez                    15\n",
       "Barracas                 15\n",
       "Once                     12\n",
       "Retiro                   10\n",
       "Tribunales               10\n",
       "Villa Devoto             10\n",
       "Las Cañitas               9\n",
       "Capital Federal           8\n",
       "Monserrat                 8\n",
       "Abasto                    8\n",
       "Villa del Parque          7\n",
       "Floresta                  7\n",
       "Villa Luro                7\n",
       "Boedo                     7\n",
       "Constitución              6\n",
       "Palermo Chico             6\n",
       "Boca                      5\n",
       "Puerto Madero             4\n",
       "San Nicolás               4\n",
       "Villa General Mitre       4\n",
       "Liniers                   3\n",
       "Villa Santa Rita          2\n",
       "Villa Pueyrredón          2\n",
       "Villa Ortuzar             2\n",
       "Villa Lugano              2\n",
       "Velez Sarsfield           2\n",
       "Parque Patricios          2\n",
       "Versalles                 1\n",
       "Parque Avellaneda         1\n",
       "Palermo Viejo             1\n",
       "Palermo Soho              1\n",
       "Monte Castro              1\n",
       "Name: price_usd_per_m2, dtype: int64"
      ]
     },
     "execution_count": 116,
     "metadata": {},
     "output_type": "execute_result"
    }
   ],
   "source": [
    "c = caba.groupby('place_name').count()['price_usd_per_m2']\n",
    "c.sort_values(axis=0, ascending=False)"
   ]
  },
  {
   "cell_type": "code",
   "execution_count": 117,
   "metadata": {},
   "outputs": [
    {
     "data": {
      "text/plain": [
       "place_name\n",
       "Puerto Madero           6111.817700\n",
       "Palermo Chico           3654.917818\n",
       "Las Cañitas             3357.754559\n",
       "Palermo Soho            3278.481013\n",
       "Palermo Viejo           3277.310924\n",
       "Palermo Hollywood       3037.815778\n",
       "Recoleta                2969.686168\n",
       "Villa Ortuzar           2909.090909\n",
       "Belgrano                2868.394727\n",
       "Barrio Norte            2820.585647\n",
       "Retiro                  2778.611358\n",
       "Palermo                 2732.736277\n",
       "Capital Federal         2698.036999\n",
       "Caballito               2614.160802\n",
       "Villa Urquiza           2575.598676\n",
       "San Telmo               2486.024430\n",
       "Nuñez                   2467.558802\n",
       "Colegiales              2453.459318\n",
       "Coghlan                 2444.892325\n",
       "Villa Devoto            2355.518702\n",
       "Villa Crespo            2322.232690\n",
       "Parque Centenario       2296.229995\n",
       "Paternal                2290.543099\n",
       "San Nicolás             2281.101190\n",
       "Saavedra                2224.292367\n",
       "Villa Santa Rita        2219.327731\n",
       "Centro / Microcentro    2209.496916\n",
       "Monte Castro            2200.000000\n",
       "Chacarita               2158.149981\n",
       "Velez Sarsfield         2126.787679\n",
       "Almagro                 2118.161165\n",
       "Monserrat               2098.419749\n",
       "Villa Luro              2097.366522\n",
       "Parque Patricios        2080.496454\n",
       "Villa Pueyrredón        2039.180328\n",
       "Balvanera               2019.780523\n",
       "Versalles               2018.181818\n",
       "Flores                  2010.997392\n",
       "Boedo                   2007.761208\n",
       "Parque Chacabuco        1943.748192\n",
       "Tribunales              1911.566894\n",
       "Villa General Mitre     1888.888889\n",
       "Barracas                1877.864983\n",
       "Villa del Parque        1877.065577\n",
       "Parque Avellaneda       1871.794872\n",
       "San Cristobal           1837.566999\n",
       "Floresta                1817.686117\n",
       "Congreso                1809.632739\n",
       "Constitución            1762.819203\n",
       "Once                    1628.832482\n",
       "Abasto                  1617.715657\n",
       "Villa Lugano            1616.568915\n",
       "Liniers                 1609.868360\n",
       "Boca                    1494.922695\n",
       "Name: price_usd_per_m2, dtype: float64"
      ]
     },
     "execution_count": 117,
     "metadata": {},
     "output_type": "execute_result"
    }
   ],
   "source": [
    "a = caba.groupby('place_name').mean()['price_usd_per_m2']\n",
    "a.sort_values(axis=0, ascending=False)"
   ]
  },
  {
   "cell_type": "code",
   "execution_count": 118,
   "metadata": {
    "scrolled": true
   },
   "outputs": [
    {
     "data": {
      "text/plain": [
       "place_name\n",
       "Puerto Madero           6243.243243\n",
       "Palermo Chico           3575.233948\n",
       "Palermo Soho            3278.481013\n",
       "Palermo Viejo           3277.310924\n",
       "Las Cañitas             3142.857143\n",
       "Palermo Hollywood       3086.419753\n",
       "Recoleta                3055.555556\n",
       "Villa Ortuzar           2909.090909\n",
       "Belgrano                2902.439024\n",
       "Capital Federal         2821.141710\n",
       "Caballito               2728.571429\n",
       "Palermo                 2704.166667\n",
       "Barrio Norte            2678.571429\n",
       "San Telmo               2669.346154\n",
       "Retiro                  2547.777778\n",
       "Villa Urquiza           2541.666667\n",
       "Nuñez                   2431.818182\n",
       "Coghlan                 2421.052632\n",
       "Colegiales              2407.407407\n",
       "Paternal                2326.622500\n",
       "San Nicolás             2316.666667\n",
       "Villa Crespo            2295.081967\n",
       "Chacarita               2283.783784\n",
       "Villa Devoto            2259.759760\n",
       "Parque Centenario       2239.436620\n",
       "Villa Santa Rita        2219.327731\n",
       "Monte Castro            2200.000000\n",
       "Monserrat               2179.536680\n",
       "Saavedra                2176.700111\n",
       "Velez Sarsfield         2126.787679\n",
       "Almagro                 2121.212121\n",
       "Parque Patricios        2080.496454\n",
       "Villa Luro              2075.000000\n",
       "Villa Pueyrredón        2039.180328\n",
       "Versalles               2018.181818\n",
       "Tribunales              1995.052632\n",
       "Centro / Microcentro    1986.842105\n",
       "Flores                  1986.296875\n",
       "Villa del Parque        1957.446809\n",
       "Boedo                   1947.368421\n",
       "San Cristobal           1944.444444\n",
       "Balvanera               1928.571429\n",
       "Villa General Mitre     1888.888889\n",
       "Parque Avellaneda       1871.794872\n",
       "Congreso                1833.333333\n",
       "Liniers                 1833.333333\n",
       "Parque Chacabuco        1795.918367\n",
       "Barracas                1791.666667\n",
       "Floresta                1738.636364\n",
       "Constitución            1685.723684\n",
       "Once                    1677.192982\n",
       "Villa Lugano            1616.568915\n",
       "Boca                    1470.588235\n",
       "Abasto                  1339.583333\n",
       "Name: price_usd_per_m2, dtype: float64"
      ]
     },
     "execution_count": 118,
     "metadata": {},
     "output_type": "execute_result"
    }
   ],
   "source": [
    "b = caba.groupby('place_name').median()['price_usd_per_m2']\n",
    "b.sort_values(axis=0, ascending=False)"
   ]
  },
  {
   "cell_type": "markdown",
   "metadata": {},
   "source": [
    "Podemos ver que la variable dependiente tiene coherencia respecto a los distintos barrios."
   ]
  },
  {
   "cell_type": "code",
   "execution_count": 119,
   "metadata": {},
   "outputs": [],
   "source": [
    "#caba.get_dummies(data, prefix=None, prefix_sep='_', dummy_na=False, columns=None, sparse=False, drop_first=False, dtype=None)"
   ]
  },
  {
   "cell_type": "markdown",
   "metadata": {},
   "source": [
    "Agrupamiento de barrios"
   ]
  },
  {
   "cell_type": "code",
   "execution_count": 120,
   "metadata": {},
   "outputs": [
    {
     "data": {
      "text/html": [
       "<div>\n",
       "<style scoped>\n",
       "    .dataframe tbody tr th:only-of-type {\n",
       "        vertical-align: middle;\n",
       "    }\n",
       "\n",
       "    .dataframe tbody tr th {\n",
       "        vertical-align: top;\n",
       "    }\n",
       "\n",
       "    .dataframe thead th {\n",
       "        text-align: right;\n",
       "    }\n",
       "</style>\n",
       "<table border=\"1\" class=\"dataframe\">\n",
       "  <thead>\n",
       "    <tr style=\"text-align: right;\">\n",
       "      <th></th>\n",
       "      <th>freq</th>\n",
       "      <th>price_usd_per_m2</th>\n",
       "    </tr>\n",
       "  </thead>\n",
       "  <tbody>\n",
       "    <tr>\n",
       "      <th>count</th>\n",
       "      <td>54.000000</td>\n",
       "      <td>54.000000</td>\n",
       "    </tr>\n",
       "    <tr>\n",
       "      <th>mean</th>\n",
       "      <td>24.259259</td>\n",
       "      <td>2356.990784</td>\n",
       "    </tr>\n",
       "    <tr>\n",
       "      <th>std</th>\n",
       "      <td>33.731563</td>\n",
       "      <td>715.712995</td>\n",
       "    </tr>\n",
       "    <tr>\n",
       "      <th>min</th>\n",
       "      <td>1.000000</td>\n",
       "      <td>1494.922695</td>\n",
       "    </tr>\n",
       "    <tr>\n",
       "      <th>25%</th>\n",
       "      <td>4.000000</td>\n",
       "      <td>1919.612218</td>\n",
       "    </tr>\n",
       "    <tr>\n",
       "      <th>50%</th>\n",
       "      <td>10.000000</td>\n",
       "      <td>2204.748458</td>\n",
       "    </tr>\n",
       "    <tr>\n",
       "      <th>75%</th>\n",
       "      <td>25.750000</td>\n",
       "      <td>2604.520271</td>\n",
       "    </tr>\n",
       "    <tr>\n",
       "      <th>max</th>\n",
       "      <td>177.000000</td>\n",
       "      <td>6111.817700</td>\n",
       "    </tr>\n",
       "  </tbody>\n",
       "</table>\n",
       "</div>"
      ],
      "text/plain": [
       "             freq  price_usd_per_m2\n",
       "count   54.000000         54.000000\n",
       "mean    24.259259       2356.990784\n",
       "std     33.731563        715.712995\n",
       "min      1.000000       1494.922695\n",
       "25%      4.000000       1919.612218\n",
       "50%     10.000000       2204.748458\n",
       "75%     25.750000       2604.520271\n",
       "max    177.000000       6111.817700"
      ]
     },
     "execution_count": 120,
     "metadata": {},
     "output_type": "execute_result"
    }
   ],
   "source": [
    "freq = caba.groupby('place_name').count()['properati_url']\n",
    "mean = caba.groupby('place_name').mean()['price_usd_per_m2']\n",
    "cluster = pd.concat([freq, mean], axis=1)\n",
    "cluster['place_name'] = cluster.index\n",
    "cluster.columns = ['freq', 'price_usd_per_m2','place_name']\n",
    "cluster.describe()"
   ]
  },
  {
   "cell_type": "code",
   "execution_count": 121,
   "metadata": {},
   "outputs": [
    {
     "data": {
      "text/plain": [
       "Index(['Abasto', 'Almagro', 'Balvanera', 'Barracas', 'Boca', 'Boedo',\n",
       "       'Chacarita', 'Congreso', 'Constitución', 'Flores', 'Floresta',\n",
       "       'Liniers', 'Monserrat', 'Once', 'Parque Avellaneda', 'Parque Chacabuco',\n",
       "       'Parque Patricios', 'San Cristobal', 'Tribunales', 'Velez Sarsfield',\n",
       "       'Versalles', 'Villa General Mitre', 'Villa Lugano', 'Villa Luro',\n",
       "       'Villa Pueyrredón', 'Villa del Parque'],\n",
       "      dtype='object', name='place_name')"
      ]
     },
     "execution_count": 121,
     "metadata": {},
     "output_type": "execute_result"
    }
   ],
   "source": [
    "cluster1 = cluster[cluster.price_usd_per_m2 < 2179] #low price neighborhoods:\n",
    "cluster1.index"
   ]
  },
  {
   "cell_type": "code",
   "execution_count": 122,
   "metadata": {},
   "outputs": [
    {
     "data": {
      "text/plain": [
       "Index(['Capital Federal', 'Las Cañitas', 'Monte Castro', 'Palermo Chico',\n",
       "       'Palermo Soho', 'Palermo Viejo', 'Puerto Madero', 'San Nicolás',\n",
       "       'Villa Ortuzar', 'Villa Santa Rita'],\n",
       "      dtype='object', name='place_name')"
      ]
     },
     "execution_count": 122,
     "metadata": {},
     "output_type": "execute_result"
    }
   ],
   "source": [
    "cluster_temp = cluster[cluster.price_usd_per_m2 >= 2180]#high price and low frequency neighborhoods\n",
    "cluster2 = cluster_temp[cluster_temp.freq <10]\n",
    "cluster2.index"
   ]
  },
  {
   "cell_type": "code",
   "execution_count": 123,
   "metadata": {},
   "outputs": [
    {
     "data": {
      "text/plain": [
       "Index(['Barrio Norte', 'Belgrano', 'Caballito', 'Centro / Microcentro',\n",
       "       'Coghlan', 'Colegiales', 'Nuñez', 'Palermo', 'Palermo Hollywood',\n",
       "       'Parque Centenario', 'Paternal', 'Recoleta', 'Retiro', 'Saavedra',\n",
       "       'San Telmo', 'Villa Crespo', 'Villa Devoto', 'Villa Urquiza'],\n",
       "      dtype='object', name='place_name')"
      ]
     },
     "execution_count": 123,
     "metadata": {},
     "output_type": "execute_result"
    }
   ],
   "source": [
    "cluster3 = cluster_temp[cluster_temp.freq >=10] #high price and high frequency neighborhoods\n",
    "cluster3.index"
   ]
  },
  {
   "cell_type": "code",
   "execution_count": 124,
   "metadata": {},
   "outputs": [],
   "source": [
    "def get_group(x):\n",
    "    if x in cluster1.index:\n",
    "        return 'low_price'\n",
    "    elif x in cluster2.index:\n",
    "        return 'high_price_low_freq'\n",
    "    else:\n",
    "        return 'high_price_high_freq'\n",
    "    "
   ]
  },
  {
   "cell_type": "code",
   "execution_count": 125,
   "metadata": {},
   "outputs": [],
   "source": [
    "caba['group'] = caba.place_name.apply(get_group)"
   ]
  },
  {
   "cell_type": "markdown",
   "metadata": {},
   "source": [
    "create dummy variables for these two categorical variables: "
   ]
  },
  {
   "cell_type": "code",
   "execution_count": 126,
   "metadata": {},
   "outputs": [
    {
     "name": "stdout",
     "output_type": "stream",
     "text": [
      "<class 'pandas.core.frame.DataFrame'>\n",
      "Int64Index: 1310 entries, 351 to 119826\n",
      "Data columns (total 15 columns):\n",
      " #   Column                   Non-Null Count  Dtype  \n",
      "---  ------                   --------------  -----  \n",
      " 0   property_type            1310 non-null   object \n",
      " 1   place_name               1310 non-null   object \n",
      " 2   lat                      1310 non-null   float64\n",
      " 3   lon                      1310 non-null   float64\n",
      " 4   surface_total_in_m2      1310 non-null   float64\n",
      " 5   surface_covered_in_m2    1310 non-null   float64\n",
      " 6   price_usd_per_m2         1310 non-null   float64\n",
      " 7   floor                    1310 non-null   float64\n",
      " 8   rooms                    1310 non-null   float64\n",
      " 9   expenses                 1310 non-null   float64\n",
      " 10  properati_url            1310 non-null   object \n",
      " 11  description              1310 non-null   object \n",
      " 12  title                    1310 non-null   object \n",
      " 13  surface_uncovered_in_m2  1310 non-null   float64\n",
      " 14  group                    1310 non-null   object \n",
      "dtypes: float64(9), object(6)\n",
      "memory usage: 163.8+ KB\n"
     ]
    }
   ],
   "source": [
    "caba.info()"
   ]
  },
  {
   "cell_type": "markdown",
   "metadata": {},
   "source": [
    "<a id=\"section_property\"></a> \n",
    "## property type\n",
    "\n",
    "[volver a TOC](#section_toc)"
   ]
  },
  {
   "cell_type": "code",
   "execution_count": 127,
   "metadata": {},
   "outputs": [
    {
     "data": {
      "text/plain": [
       "apartment    1247\n",
       "PH             63\n",
       "Name: property_type, dtype: int64"
      ]
     },
     "execution_count": 127,
     "metadata": {},
     "output_type": "execute_result"
    }
   ],
   "source": [
    "caba.property_type.value_counts()"
   ]
  },
  {
   "cell_type": "code",
   "execution_count": 128,
   "metadata": {},
   "outputs": [
    {
     "data": {
      "text/html": [
       "<div>\n",
       "<style scoped>\n",
       "    .dataframe tbody tr th:only-of-type {\n",
       "        vertical-align: middle;\n",
       "    }\n",
       "\n",
       "    .dataframe tbody tr th {\n",
       "        vertical-align: top;\n",
       "    }\n",
       "\n",
       "    .dataframe thead th {\n",
       "        text-align: right;\n",
       "    }\n",
       "</style>\n",
       "<table border=\"1\" class=\"dataframe\">\n",
       "  <thead>\n",
       "    <tr style=\"text-align: right;\">\n",
       "      <th></th>\n",
       "      <th>lat</th>\n",
       "      <th>lon</th>\n",
       "      <th>surface_total_in_m2</th>\n",
       "      <th>surface_covered_in_m2</th>\n",
       "      <th>price_usd_per_m2</th>\n",
       "      <th>floor</th>\n",
       "      <th>rooms</th>\n",
       "      <th>expenses</th>\n",
       "      <th>properati_url</th>\n",
       "      <th>description</th>\n",
       "      <th>title</th>\n",
       "      <th>surface_uncovered_in_m2</th>\n",
       "      <th>high_price_high_freq</th>\n",
       "      <th>high_price_low_freq</th>\n",
       "      <th>low_price</th>\n",
       "      <th>PH</th>\n",
       "      <th>apartment</th>\n",
       "    </tr>\n",
       "  </thead>\n",
       "  <tbody>\n",
       "    <tr>\n",
       "      <th>351</th>\n",
       "      <td>-34.603594</td>\n",
       "      <td>-58.465425</td>\n",
       "      <td>27.0</td>\n",
       "      <td>27.0</td>\n",
       "      <td>2283.540370</td>\n",
       "      <td>7.0</td>\n",
       "      <td>1.0</td>\n",
       "      <td>1545.0</td>\n",
       "      <td>http://www.properati.com.ar/15e79_venta_depart...</td>\n",
       "      <td>Venta de Departamento 1 AMBIENTE en PaternalEl...</td>\n",
       "      <td>DEPARTAMENTO EN VENTA</td>\n",
       "      <td>0.0</td>\n",
       "      <td>1</td>\n",
       "      <td>0</td>\n",
       "      <td>0</td>\n",
       "      <td>0</td>\n",
       "      <td>1</td>\n",
       "    </tr>\n",
       "    <tr>\n",
       "      <th>352</th>\n",
       "      <td>-34.603594</td>\n",
       "      <td>-58.465425</td>\n",
       "      <td>27.0</td>\n",
       "      <td>27.0</td>\n",
       "      <td>2312.765926</td>\n",
       "      <td>8.0</td>\n",
       "      <td>1.0</td>\n",
       "      <td>1545.0</td>\n",
       "      <td>http://www.properati.com.ar/15e7a_venta_depart...</td>\n",
       "      <td>Venta de Departamento 1 AMBIENTE en PaternalEl...</td>\n",
       "      <td>DEPARTAMENTO EN VENTA</td>\n",
       "      <td>0.0</td>\n",
       "      <td>1</td>\n",
       "      <td>0</td>\n",
       "      <td>0</td>\n",
       "      <td>0</td>\n",
       "      <td>1</td>\n",
       "    </tr>\n",
       "    <tr>\n",
       "      <th>353</th>\n",
       "      <td>-34.603594</td>\n",
       "      <td>-58.465425</td>\n",
       "      <td>27.0</td>\n",
       "      <td>27.0</td>\n",
       "      <td>2342.428148</td>\n",
       "      <td>9.0</td>\n",
       "      <td>3.0</td>\n",
       "      <td>2025.0</td>\n",
       "      <td>http://www.properati.com.ar/15e7b_venta_depart...</td>\n",
       "      <td>Venta de Departamento 1 AMBIENTE en PaternalEl...</td>\n",
       "      <td>DEPARTAMENTO EN VENTA</td>\n",
       "      <td>0.0</td>\n",
       "      <td>1</td>\n",
       "      <td>0</td>\n",
       "      <td>0</td>\n",
       "      <td>0</td>\n",
       "      <td>1</td>\n",
       "    </tr>\n",
       "    <tr>\n",
       "      <th>354</th>\n",
       "      <td>-34.603594</td>\n",
       "      <td>-58.465425</td>\n",
       "      <td>27.0</td>\n",
       "      <td>27.0</td>\n",
       "      <td>2372.090000</td>\n",
       "      <td>10.0</td>\n",
       "      <td>3.0</td>\n",
       "      <td>2025.0</td>\n",
       "      <td>http://www.properati.com.ar/15e7c_venta_depart...</td>\n",
       "      <td>Venta de Departamento 1 AMBIENTE en PaternalEl...</td>\n",
       "      <td>DEPARTAMENTO EN VENTA</td>\n",
       "      <td>0.0</td>\n",
       "      <td>1</td>\n",
       "      <td>0</td>\n",
       "      <td>0</td>\n",
       "      <td>0</td>\n",
       "      <td>1</td>\n",
       "    </tr>\n",
       "    <tr>\n",
       "      <th>355</th>\n",
       "      <td>-34.603594</td>\n",
       "      <td>-58.465425</td>\n",
       "      <td>32.0</td>\n",
       "      <td>32.0</td>\n",
       "      <td>2326.622500</td>\n",
       "      <td>7.0</td>\n",
       "      <td>3.0</td>\n",
       "      <td>2025.0</td>\n",
       "      <td>http://www.properati.com.ar/15e7f_venta_depart...</td>\n",
       "      <td>Venta de Departamento 1 AMBIENTE en PaternalEl...</td>\n",
       "      <td>DEPARTAMENTO EN VENTA</td>\n",
       "      <td>0.0</td>\n",
       "      <td>1</td>\n",
       "      <td>0</td>\n",
       "      <td>0</td>\n",
       "      <td>0</td>\n",
       "      <td>1</td>\n",
       "    </tr>\n",
       "  </tbody>\n",
       "</table>\n",
       "</div>"
      ],
      "text/plain": [
       "           lat        lon  surface_total_in_m2  surface_covered_in_m2  \\\n",
       "351 -34.603594 -58.465425                 27.0                   27.0   \n",
       "352 -34.603594 -58.465425                 27.0                   27.0   \n",
       "353 -34.603594 -58.465425                 27.0                   27.0   \n",
       "354 -34.603594 -58.465425                 27.0                   27.0   \n",
       "355 -34.603594 -58.465425                 32.0                   32.0   \n",
       "\n",
       "     price_usd_per_m2  floor  rooms  expenses  \\\n",
       "351       2283.540370    7.0    1.0    1545.0   \n",
       "352       2312.765926    8.0    1.0    1545.0   \n",
       "353       2342.428148    9.0    3.0    2025.0   \n",
       "354       2372.090000   10.0    3.0    2025.0   \n",
       "355       2326.622500    7.0    3.0    2025.0   \n",
       "\n",
       "                                         properati_url  \\\n",
       "351  http://www.properati.com.ar/15e79_venta_depart...   \n",
       "352  http://www.properati.com.ar/15e7a_venta_depart...   \n",
       "353  http://www.properati.com.ar/15e7b_venta_depart...   \n",
       "354  http://www.properati.com.ar/15e7c_venta_depart...   \n",
       "355  http://www.properati.com.ar/15e7f_venta_depart...   \n",
       "\n",
       "                                           description                  title  \\\n",
       "351  Venta de Departamento 1 AMBIENTE en PaternalEl...  DEPARTAMENTO EN VENTA   \n",
       "352  Venta de Departamento 1 AMBIENTE en PaternalEl...  DEPARTAMENTO EN VENTA   \n",
       "353  Venta de Departamento 1 AMBIENTE en PaternalEl...  DEPARTAMENTO EN VENTA   \n",
       "354  Venta de Departamento 1 AMBIENTE en PaternalEl...  DEPARTAMENTO EN VENTA   \n",
       "355  Venta de Departamento 1 AMBIENTE en PaternalEl...  DEPARTAMENTO EN VENTA   \n",
       "\n",
       "     surface_uncovered_in_m2  high_price_high_freq  high_price_low_freq  \\\n",
       "351                      0.0                     1                    0   \n",
       "352                      0.0                     1                    0   \n",
       "353                      0.0                     1                    0   \n",
       "354                      0.0                     1                    0   \n",
       "355                      0.0                     1                    0   \n",
       "\n",
       "     low_price  PH  apartment  \n",
       "351          0   0          1  \n",
       "352          0   0          1  \n",
       "353          0   0          1  \n",
       "354          0   0          1  \n",
       "355          0   0          1  "
      ]
     },
     "execution_count": 128,
     "metadata": {},
     "output_type": "execute_result"
    }
   ],
   "source": [
    "n = pd.get_dummies(caba.group)\n",
    "caba = pd.concat([caba, n], axis=1)\n",
    "m = pd.get_dummies(caba.property_type)\n",
    "caba = pd.concat([caba, m], axis=1)\n",
    "\n",
    "drops = ['group', 'property_type', 'place_name']\n",
    "caba.drop(drops, inplace=True, axis=1)\n",
    "caba.head()"
   ]
  },
  {
   "cell_type": "code",
   "execution_count": 129,
   "metadata": {},
   "outputs": [],
   "source": [
    "# mask_subte = caba['bus'] == \"Cerca\"\n",
    "# dummies_subte = pd.get_dummies(mask_subte, prefix='bus', drop_first=True)\n",
    "# caba = caba.join(dummies_subte)"
   ]
  },
  {
   "cell_type": "code",
   "execution_count": 130,
   "metadata": {},
   "outputs": [],
   "source": [
    "# X = caba[['property_type', 'surface_covered_in_m2', 'floor', 'rooms', 'expenses', 'surface_uncovered_in_m2', 'group']]\n",
    "# Y = caba['price_usd_per_m2']\n",
    "\n",
    "# n = pd.get_dummies(caba.group)\n",
    "# X = pd.concat([X, n], axis=1)\n",
    "# m = pd.get_dummies(caba.property_type)\n",
    "# X = pd.concat([X, m], axis=1)\n",
    "# drops = ['group', 'property_type']\n",
    "# X.drop(drops, inplace=True, axis=1)\n",
    "# X.head()"
   ]
  },
  {
   "cell_type": "markdown",
   "metadata": {},
   "source": [
    "https://towardsdatascience.com/linear-regression-in-python-predict-the-bay-areas-home-price-5c91c8378878"
   ]
  },
  {
   "cell_type": "code",
   "execution_count": 131,
   "metadata": {},
   "outputs": [],
   "source": [
    "# caba = caba.drop(columns=['train'])\n",
    "# print(caba.shape)\n",
    "# caba.columns"
   ]
  },
  {
   "cell_type": "markdown",
   "metadata": {},
   "source": [
    "<a id=\"section_pileta\"></a> \n",
    "## pileta y cochera\n",
    "\n",
    "[volver a TOC](#section_toc)"
   ]
  },
  {
   "cell_type": "code",
   "execution_count": 132,
   "metadata": {},
   "outputs": [
    {
     "data": {
      "text/plain": [
       "351       None\n",
       "352       None\n",
       "353       None\n",
       "354       None\n",
       "355       None\n",
       "          ... \n",
       "119545    None\n",
       "119546    None\n",
       "119824    None\n",
       "119825    None\n",
       "119826    None\n",
       "Name: description, Length: 1310, dtype: object"
      ]
     },
     "execution_count": 132,
     "metadata": {},
     "output_type": "execute_result"
    }
   ],
   "source": [
    "# Expresiones regulares\n",
    "import re\n",
    "pattern_pileta = \"(?P<pile>[pP]ileta)\"\n",
    "pattern_pileta_regex = re.compile(pattern_pileta)\n",
    "description_series = caba.description.astype(str)\n",
    "resultado_pileta = description_series.apply(lambda x: x if x is np.nan else pattern_pileta_regex.search(x))\n",
    "pileta_match = resultado_pileta.apply(lambda x: x if x is None else x.group('pile'))\n",
    "pileta_match\n"
   ]
  },
  {
   "cell_type": "code",
   "execution_count": 133,
   "metadata": {
    "scrolled": true
   },
   "outputs": [
    {
     "data": {
      "text/plain": [
       "351       None\n",
       "352       None\n",
       "353       None\n",
       "354       None\n",
       "355       None\n",
       "          ... \n",
       "119545    None\n",
       "119546    None\n",
       "119824    None\n",
       "119825    None\n",
       "119826    None\n",
       "Name: description, Length: 1310, dtype: object"
      ]
     },
     "execution_count": 133,
     "metadata": {},
     "output_type": "execute_result"
    }
   ],
   "source": [
    "pileta_match.replace('pileta', 'Pileta', inplace = True)\n",
    "pileta_match"
   ]
  },
  {
   "cell_type": "code",
   "execution_count": 134,
   "metadata": {
    "scrolled": true
   },
   "outputs": [
    {
     "data": {
      "text/html": [
       "<div>\n",
       "<style scoped>\n",
       "    .dataframe tbody tr th:only-of-type {\n",
       "        vertical-align: middle;\n",
       "    }\n",
       "\n",
       "    .dataframe tbody tr th {\n",
       "        vertical-align: top;\n",
       "    }\n",
       "\n",
       "    .dataframe thead th {\n",
       "        text-align: right;\n",
       "    }\n",
       "</style>\n",
       "<table border=\"1\" class=\"dataframe\">\n",
       "  <thead>\n",
       "    <tr style=\"text-align: right;\">\n",
       "      <th></th>\n",
       "      <th>lat</th>\n",
       "      <th>lon</th>\n",
       "      <th>surface_total_in_m2</th>\n",
       "      <th>surface_covered_in_m2</th>\n",
       "      <th>price_usd_per_m2</th>\n",
       "      <th>floor</th>\n",
       "      <th>rooms</th>\n",
       "      <th>expenses</th>\n",
       "      <th>properati_url</th>\n",
       "      <th>description</th>\n",
       "      <th>title</th>\n",
       "      <th>surface_uncovered_in_m2</th>\n",
       "      <th>high_price_high_freq</th>\n",
       "      <th>high_price_low_freq</th>\n",
       "      <th>low_price</th>\n",
       "      <th>PH</th>\n",
       "      <th>apartment</th>\n",
       "      <th>Pileta</th>\n",
       "    </tr>\n",
       "  </thead>\n",
       "  <tbody>\n",
       "    <tr>\n",
       "      <th>351</th>\n",
       "      <td>-34.603594</td>\n",
       "      <td>-58.465425</td>\n",
       "      <td>27.0</td>\n",
       "      <td>27.0</td>\n",
       "      <td>2283.540370</td>\n",
       "      <td>7.0</td>\n",
       "      <td>1.0</td>\n",
       "      <td>1545.0</td>\n",
       "      <td>http://www.properati.com.ar/15e79_venta_depart...</td>\n",
       "      <td>Venta de Departamento 1 AMBIENTE en PaternalEl...</td>\n",
       "      <td>DEPARTAMENTO EN VENTA</td>\n",
       "      <td>0.0</td>\n",
       "      <td>1</td>\n",
       "      <td>0</td>\n",
       "      <td>0</td>\n",
       "      <td>0</td>\n",
       "      <td>1</td>\n",
       "      <td>None</td>\n",
       "    </tr>\n",
       "    <tr>\n",
       "      <th>352</th>\n",
       "      <td>-34.603594</td>\n",
       "      <td>-58.465425</td>\n",
       "      <td>27.0</td>\n",
       "      <td>27.0</td>\n",
       "      <td>2312.765926</td>\n",
       "      <td>8.0</td>\n",
       "      <td>1.0</td>\n",
       "      <td>1545.0</td>\n",
       "      <td>http://www.properati.com.ar/15e7a_venta_depart...</td>\n",
       "      <td>Venta de Departamento 1 AMBIENTE en PaternalEl...</td>\n",
       "      <td>DEPARTAMENTO EN VENTA</td>\n",
       "      <td>0.0</td>\n",
       "      <td>1</td>\n",
       "      <td>0</td>\n",
       "      <td>0</td>\n",
       "      <td>0</td>\n",
       "      <td>1</td>\n",
       "      <td>None</td>\n",
       "    </tr>\n",
       "  </tbody>\n",
       "</table>\n",
       "</div>"
      ],
      "text/plain": [
       "           lat        lon  surface_total_in_m2  surface_covered_in_m2  \\\n",
       "351 -34.603594 -58.465425                 27.0                   27.0   \n",
       "352 -34.603594 -58.465425                 27.0                   27.0   \n",
       "\n",
       "     price_usd_per_m2  floor  rooms  expenses  \\\n",
       "351       2283.540370    7.0    1.0    1545.0   \n",
       "352       2312.765926    8.0    1.0    1545.0   \n",
       "\n",
       "                                         properati_url  \\\n",
       "351  http://www.properati.com.ar/15e79_venta_depart...   \n",
       "352  http://www.properati.com.ar/15e7a_venta_depart...   \n",
       "\n",
       "                                           description                  title  \\\n",
       "351  Venta de Departamento 1 AMBIENTE en PaternalEl...  DEPARTAMENTO EN VENTA   \n",
       "352  Venta de Departamento 1 AMBIENTE en PaternalEl...  DEPARTAMENTO EN VENTA   \n",
       "\n",
       "     surface_uncovered_in_m2  high_price_high_freq  high_price_low_freq  \\\n",
       "351                      0.0                     1                    0   \n",
       "352                      0.0                     1                    0   \n",
       "\n",
       "     low_price  PH  apartment Pileta  \n",
       "351          0   0          1   None  \n",
       "352          0   0          1   None  "
      ]
     },
     "execution_count": 134,
     "metadata": {},
     "output_type": "execute_result"
    }
   ],
   "source": [
    "caba['Pileta'] = pileta_match\n",
    "caba.head(2)"
   ]
  },
  {
   "cell_type": "code",
   "execution_count": 135,
   "metadata": {},
   "outputs": [
    {
     "data": {
      "text/plain": [
       "Pileta    40\n",
       "Name: Pileta, dtype: int64"
      ]
     },
     "execution_count": 135,
     "metadata": {},
     "output_type": "execute_result"
    }
   ],
   "source": [
    "caba.Pileta.value_counts()"
   ]
  },
  {
   "cell_type": "code",
   "execution_count": 136,
   "metadata": {},
   "outputs": [
    {
     "data": {
      "text/plain": [
       "(1310, 18)"
      ]
     },
     "execution_count": 136,
     "metadata": {},
     "output_type": "execute_result"
    }
   ],
   "source": [
    "caba.shape"
   ]
  },
  {
   "cell_type": "code",
   "execution_count": 137,
   "metadata": {},
   "outputs": [
    {
     "data": {
      "text/plain": [
       "351       False\n",
       "352       False\n",
       "353       False\n",
       "354       False\n",
       "355       False\n",
       "          ...  \n",
       "119545    False\n",
       "119546    False\n",
       "119824    False\n",
       "119825    False\n",
       "119826    False\n",
       "Name: Pileta, Length: 1310, dtype: bool"
      ]
     },
     "execution_count": 137,
     "metadata": {},
     "output_type": "execute_result"
    }
   ],
   "source": [
    "mask_pileta = caba['Pileta'] == \"Pileta\"\n",
    "mask_pileta"
   ]
  },
  {
   "cell_type": "code",
   "execution_count": 138,
   "metadata": {
    "scrolled": true
   },
   "outputs": [],
   "source": [
    "dummies_pileta = pd.get_dummies(mask_pileta, prefix='Pileta', drop_first=True)\n",
    "caba = caba.join(dummies_pileta)"
   ]
  },
  {
   "cell_type": "code",
   "execution_count": 139,
   "metadata": {},
   "outputs": [
    {
     "name": "stdout",
     "output_type": "stream",
     "text": [
      "(1310, 18)\n"
     ]
    },
    {
     "data": {
      "text/html": [
       "<div>\n",
       "<style scoped>\n",
       "    .dataframe tbody tr th:only-of-type {\n",
       "        vertical-align: middle;\n",
       "    }\n",
       "\n",
       "    .dataframe tbody tr th {\n",
       "        vertical-align: top;\n",
       "    }\n",
       "\n",
       "    .dataframe thead th {\n",
       "        text-align: right;\n",
       "    }\n",
       "</style>\n",
       "<table border=\"1\" class=\"dataframe\">\n",
       "  <thead>\n",
       "    <tr style=\"text-align: right;\">\n",
       "      <th></th>\n",
       "      <th>lat</th>\n",
       "      <th>lon</th>\n",
       "      <th>surface_total_in_m2</th>\n",
       "      <th>surface_covered_in_m2</th>\n",
       "      <th>price_usd_per_m2</th>\n",
       "      <th>floor</th>\n",
       "      <th>rooms</th>\n",
       "      <th>expenses</th>\n",
       "      <th>properati_url</th>\n",
       "      <th>description</th>\n",
       "      <th>title</th>\n",
       "      <th>surface_uncovered_in_m2</th>\n",
       "      <th>high_price_high_freq</th>\n",
       "      <th>high_price_low_freq</th>\n",
       "      <th>low_price</th>\n",
       "      <th>PH</th>\n",
       "      <th>apartment</th>\n",
       "      <th>Pileta_True</th>\n",
       "    </tr>\n",
       "  </thead>\n",
       "  <tbody>\n",
       "    <tr>\n",
       "      <th>351</th>\n",
       "      <td>-34.603594</td>\n",
       "      <td>-58.465425</td>\n",
       "      <td>27.0</td>\n",
       "      <td>27.0</td>\n",
       "      <td>2283.540370</td>\n",
       "      <td>7.0</td>\n",
       "      <td>1.0</td>\n",
       "      <td>1545.0</td>\n",
       "      <td>http://www.properati.com.ar/15e79_venta_depart...</td>\n",
       "      <td>Venta de Departamento 1 AMBIENTE en PaternalEl...</td>\n",
       "      <td>DEPARTAMENTO EN VENTA</td>\n",
       "      <td>0.0</td>\n",
       "      <td>1</td>\n",
       "      <td>0</td>\n",
       "      <td>0</td>\n",
       "      <td>0</td>\n",
       "      <td>1</td>\n",
       "      <td>0</td>\n",
       "    </tr>\n",
       "    <tr>\n",
       "      <th>352</th>\n",
       "      <td>-34.603594</td>\n",
       "      <td>-58.465425</td>\n",
       "      <td>27.0</td>\n",
       "      <td>27.0</td>\n",
       "      <td>2312.765926</td>\n",
       "      <td>8.0</td>\n",
       "      <td>1.0</td>\n",
       "      <td>1545.0</td>\n",
       "      <td>http://www.properati.com.ar/15e7a_venta_depart...</td>\n",
       "      <td>Venta de Departamento 1 AMBIENTE en PaternalEl...</td>\n",
       "      <td>DEPARTAMENTO EN VENTA</td>\n",
       "      <td>0.0</td>\n",
       "      <td>1</td>\n",
       "      <td>0</td>\n",
       "      <td>0</td>\n",
       "      <td>0</td>\n",
       "      <td>1</td>\n",
       "      <td>0</td>\n",
       "    </tr>\n",
       "  </tbody>\n",
       "</table>\n",
       "</div>"
      ],
      "text/plain": [
       "           lat        lon  surface_total_in_m2  surface_covered_in_m2  \\\n",
       "351 -34.603594 -58.465425                 27.0                   27.0   \n",
       "352 -34.603594 -58.465425                 27.0                   27.0   \n",
       "\n",
       "     price_usd_per_m2  floor  rooms  expenses  \\\n",
       "351       2283.540370    7.0    1.0    1545.0   \n",
       "352       2312.765926    8.0    1.0    1545.0   \n",
       "\n",
       "                                         properati_url  \\\n",
       "351  http://www.properati.com.ar/15e79_venta_depart...   \n",
       "352  http://www.properati.com.ar/15e7a_venta_depart...   \n",
       "\n",
       "                                           description                  title  \\\n",
       "351  Venta de Departamento 1 AMBIENTE en PaternalEl...  DEPARTAMENTO EN VENTA   \n",
       "352  Venta de Departamento 1 AMBIENTE en PaternalEl...  DEPARTAMENTO EN VENTA   \n",
       "\n",
       "     surface_uncovered_in_m2  high_price_high_freq  high_price_low_freq  \\\n",
       "351                      0.0                     1                    0   \n",
       "352                      0.0                     1                    0   \n",
       "\n",
       "     low_price  PH  apartment  Pileta_True  \n",
       "351          0   0          1            0  \n",
       "352          0   0          1            0  "
      ]
     },
     "execution_count": 139,
     "metadata": {},
     "output_type": "execute_result"
    }
   ],
   "source": [
    "caba = caba.drop(columns=['Pileta'])\n",
    "print(caba.shape)\n",
    "caba.head(2)"
   ]
  },
  {
   "cell_type": "code",
   "execution_count": 140,
   "metadata": {},
   "outputs": [
    {
     "data": {
      "text/plain": [
       "0    1270\n",
       "1      40\n",
       "Name: Pileta_True, dtype: int64"
      ]
     },
     "execution_count": 140,
     "metadata": {},
     "output_type": "execute_result"
    }
   ],
   "source": [
    "caba.Pileta_True.value_counts()"
   ]
  },
  {
   "cell_type": "markdown",
   "metadata": {},
   "source": [
    "Si bien encontramos muy pocas propiedades con pileta, fue un buen ejercicio para practicar expresiones regulares. Buscaremos otra amenities que quizas si tengan mas registros."
   ]
  },
  {
   "cell_type": "markdown",
   "metadata": {},
   "source": [
    "<a id=\"section_coch\"></a> \n",
    "## Cochera\n",
    "\n",
    "Creamos una nueva variable dummy, que indica si la propiedad tiene pileta o no.\n",
    "\n",
    "[volver a TOC](#section_toc)\n"
   ]
  },
  {
   "cell_type": "code",
   "execution_count": 141,
   "metadata": {},
   "outputs": [
    {
     "data": {
      "text/plain": [
       "351       None\n",
       "352       None\n",
       "353       None\n",
       "354       None\n",
       "355       None\n",
       "          ... \n",
       "119545    None\n",
       "119546    None\n",
       "119824    None\n",
       "119825    None\n",
       "119826    None\n",
       "Name: description, Length: 1310, dtype: object"
      ]
     },
     "execution_count": 141,
     "metadata": {},
     "output_type": "execute_result"
    }
   ],
   "source": [
    "# Expresiones regulares\n",
    "import re\n",
    "pattern_pileta = \"(?P<coch>[cC]ochera)\"\n",
    "pattern_pileta_regex = re.compile(pattern_pileta)\n",
    "description_series = caba.description.astype(str)\n",
    "resultado_pileta = description_series.apply(lambda x: x if x is np.nan else pattern_pileta_regex.search(x))\n",
    "pileta_match = resultado_pileta.apply(lambda x: x if x is None else x.group('coch'))\n",
    " \n",
    "pileta_match"
   ]
  },
  {
   "cell_type": "code",
   "execution_count": 142,
   "metadata": {},
   "outputs": [
    {
     "data": {
      "text/plain": [
       "cochera    182\n",
       "Cochera    141\n",
       "Name: description, dtype: int64"
      ]
     },
     "execution_count": 142,
     "metadata": {},
     "output_type": "execute_result"
    }
   ],
   "source": [
    "pileta_match.value_counts()"
   ]
  },
  {
   "cell_type": "code",
   "execution_count": 143,
   "metadata": {},
   "outputs": [
    {
     "name": "stdout",
     "output_type": "stream",
     "text": [
      "           lat        lon  surface_total_in_m2  surface_covered_in_m2  \\\n",
      "351 -34.603594 -58.465425                 27.0                   27.0   \n",
      "352 -34.603594 -58.465425                 27.0                   27.0   \n",
      "\n",
      "     price_usd_per_m2  floor  rooms  expenses  \\\n",
      "351       2283.540370    7.0    1.0    1545.0   \n",
      "352       2312.765926    8.0    1.0    1545.0   \n",
      "\n",
      "                                         properati_url  \\\n",
      "351  http://www.properati.com.ar/15e79_venta_depart...   \n",
      "352  http://www.properati.com.ar/15e7a_venta_depart...   \n",
      "\n",
      "                                           description                  title  \\\n",
      "351  Venta de Departamento 1 AMBIENTE en PaternalEl...  DEPARTAMENTO EN VENTA   \n",
      "352  Venta de Departamento 1 AMBIENTE en PaternalEl...  DEPARTAMENTO EN VENTA   \n",
      "\n",
      "     surface_uncovered_in_m2  high_price_high_freq  high_price_low_freq  \\\n",
      "351                      0.0                     1                    0   \n",
      "352                      0.0                     1                    0   \n",
      "\n",
      "     low_price  PH  apartment  Pileta_True Cochera  \n",
      "351          0   0          1            0    None  \n",
      "352          0   0          1            0    None  \n",
      "(1310, 19)\n"
     ]
    },
    {
     "data": {
      "text/plain": [
       "0    987\n",
       "1    323\n",
       "Name: Cochera_True, dtype: int64"
      ]
     },
     "execution_count": 143,
     "metadata": {},
     "output_type": "execute_result"
    }
   ],
   "source": [
    "#pileta_match\n",
    "\n",
    "pileta_match.replace('cochera', 'Cochera', inplace = True)\n",
    "caba['Cochera'] = pileta_match\n",
    "print(caba.head(2))\n",
    "\n",
    "#bel_dummy.Cochera.value_counts()\n",
    "\n",
    "#bel_dummy.shape\n",
    "\n",
    "\n",
    "mask_pileta = caba['Cochera'] == \"Cochera\"\n",
    "mask_pileta\n",
    "\n",
    "dummies_pileta = pd.get_dummies(mask_pileta, prefix='Cochera', drop_first=True)\n",
    "caba = caba.join(dummies_pileta)\n",
    "#bel_dummies.head(3)\n",
    "\n",
    "caba = caba.drop(columns=['Cochera'])\n",
    "print(caba.shape)\n",
    "caba.head(2)\n",
    "\n",
    "caba.Cochera_True.value_counts()\n",
    "\n"
   ]
  },
  {
   "cell_type": "code",
   "execution_count": 144,
   "metadata": {},
   "outputs": [
    {
     "data": {
      "text/plain": [
       "0    987\n",
       "1    323\n",
       "Name: Cochera_True, dtype: int64"
      ]
     },
     "execution_count": 144,
     "metadata": {},
     "output_type": "execute_result"
    }
   ],
   "source": [
    "caba.Cochera_True.value_counts()"
   ]
  },
  {
   "cell_type": "code",
   "execution_count": 145,
   "metadata": {},
   "outputs": [
    {
     "data": {
      "text/html": [
       "<div>\n",
       "<style scoped>\n",
       "    .dataframe tbody tr th:only-of-type {\n",
       "        vertical-align: middle;\n",
       "    }\n",
       "\n",
       "    .dataframe tbody tr th {\n",
       "        vertical-align: top;\n",
       "    }\n",
       "\n",
       "    .dataframe thead th {\n",
       "        text-align: right;\n",
       "    }\n",
       "</style>\n",
       "<table border=\"1\" class=\"dataframe\">\n",
       "  <thead>\n",
       "    <tr style=\"text-align: right;\">\n",
       "      <th></th>\n",
       "      <th>lat</th>\n",
       "      <th>lon</th>\n",
       "      <th>surface_total_in_m2</th>\n",
       "      <th>surface_covered_in_m2</th>\n",
       "      <th>price_usd_per_m2</th>\n",
       "      <th>floor</th>\n",
       "      <th>rooms</th>\n",
       "      <th>expenses</th>\n",
       "      <th>properati_url</th>\n",
       "      <th>description</th>\n",
       "      <th>title</th>\n",
       "      <th>surface_uncovered_in_m2</th>\n",
       "      <th>high_price_high_freq</th>\n",
       "      <th>high_price_low_freq</th>\n",
       "      <th>low_price</th>\n",
       "      <th>PH</th>\n",
       "      <th>apartment</th>\n",
       "      <th>Pileta_True</th>\n",
       "      <th>Cochera_True</th>\n",
       "    </tr>\n",
       "  </thead>\n",
       "  <tbody>\n",
       "    <tr>\n",
       "      <th>351</th>\n",
       "      <td>-34.603594</td>\n",
       "      <td>-58.465425</td>\n",
       "      <td>27.0</td>\n",
       "      <td>27.0</td>\n",
       "      <td>2283.540370</td>\n",
       "      <td>7.0</td>\n",
       "      <td>1.0</td>\n",
       "      <td>1545.0</td>\n",
       "      <td>http://www.properati.com.ar/15e79_venta_depart...</td>\n",
       "      <td>Venta de Departamento 1 AMBIENTE en PaternalEl...</td>\n",
       "      <td>DEPARTAMENTO EN VENTA</td>\n",
       "      <td>0.0</td>\n",
       "      <td>1</td>\n",
       "      <td>0</td>\n",
       "      <td>0</td>\n",
       "      <td>0</td>\n",
       "      <td>1</td>\n",
       "      <td>0</td>\n",
       "      <td>0</td>\n",
       "    </tr>\n",
       "    <tr>\n",
       "      <th>352</th>\n",
       "      <td>-34.603594</td>\n",
       "      <td>-58.465425</td>\n",
       "      <td>27.0</td>\n",
       "      <td>27.0</td>\n",
       "      <td>2312.765926</td>\n",
       "      <td>8.0</td>\n",
       "      <td>1.0</td>\n",
       "      <td>1545.0</td>\n",
       "      <td>http://www.properati.com.ar/15e7a_venta_depart...</td>\n",
       "      <td>Venta de Departamento 1 AMBIENTE en PaternalEl...</td>\n",
       "      <td>DEPARTAMENTO EN VENTA</td>\n",
       "      <td>0.0</td>\n",
       "      <td>1</td>\n",
       "      <td>0</td>\n",
       "      <td>0</td>\n",
       "      <td>0</td>\n",
       "      <td>1</td>\n",
       "      <td>0</td>\n",
       "      <td>0</td>\n",
       "    </tr>\n",
       "  </tbody>\n",
       "</table>\n",
       "</div>"
      ],
      "text/plain": [
       "           lat        lon  surface_total_in_m2  surface_covered_in_m2  \\\n",
       "351 -34.603594 -58.465425                 27.0                   27.0   \n",
       "352 -34.603594 -58.465425                 27.0                   27.0   \n",
       "\n",
       "     price_usd_per_m2  floor  rooms  expenses  \\\n",
       "351       2283.540370    7.0    1.0    1545.0   \n",
       "352       2312.765926    8.0    1.0    1545.0   \n",
       "\n",
       "                                         properati_url  \\\n",
       "351  http://www.properati.com.ar/15e79_venta_depart...   \n",
       "352  http://www.properati.com.ar/15e7a_venta_depart...   \n",
       "\n",
       "                                           description                  title  \\\n",
       "351  Venta de Departamento 1 AMBIENTE en PaternalEl...  DEPARTAMENTO EN VENTA   \n",
       "352  Venta de Departamento 1 AMBIENTE en PaternalEl...  DEPARTAMENTO EN VENTA   \n",
       "\n",
       "     surface_uncovered_in_m2  high_price_high_freq  high_price_low_freq  \\\n",
       "351                      0.0                     1                    0   \n",
       "352                      0.0                     1                    0   \n",
       "\n",
       "     low_price  PH  apartment  Pileta_True  Cochera_True  \n",
       "351          0   0          1            0             0  \n",
       "352          0   0          1            0             0  "
      ]
     },
     "execution_count": 145,
     "metadata": {},
     "output_type": "execute_result"
    }
   ],
   "source": [
    "caba.head(2)"
   ]
  },
  {
   "cell_type": "markdown",
   "metadata": {},
   "source": [
    "<a id=\"section_externa\"></a> \n",
    "## subte\n",
    "\n",
    "Agregamos data externa obtenida del Gobierno de la Ciudad de Buenos Aires con:\n",
    "\n",
    "* estaciones de subte\n",
    "\n",
    "* paradas de colectivo\n",
    "\n",
    "* paradas de ferrocarriles/trenes\n",
    "\n",
    "[volver a TOC](#section_toc)"
   ]
  },
  {
   "cell_type": "code",
   "execution_count": 146,
   "metadata": {},
   "outputs": [],
   "source": [
    "subte_data = \"https://raw.githubusercontent.com/carlachka/grupo2dh/master/ws1/data/subte.csv\"\n",
    "ferro_data = \"https://raw.githubusercontent.com/carlachka/grupo2dh/master//ws1/data/ferrocarril.csv\"\n",
    "paradas_df = \"https://raw.githubusercontent.com/carlachka/grupo2dh/master//ws1/data/paradas.csv\"\n",
    "\n",
    "subte = pd.read_csv(subte_data) \n",
    "ferro = pd.read_csv(ferro_data)\n",
    "colec = pd.read_csv(paradas_df)\n",
    "\n",
    "#palermo = \"https://raw.githubusercontent.com/carlachka/grupo2dh/master/paler.csv\"\n",
    "#palerm = pd.read_csv(palermo)"
   ]
  },
  {
   "cell_type": "code",
   "execution_count": 147,
   "metadata": {},
   "outputs": [
    {
     "data": {
      "text/html": [
       "<div>\n",
       "<style scoped>\n",
       "    .dataframe tbody tr th:only-of-type {\n",
       "        vertical-align: middle;\n",
       "    }\n",
       "\n",
       "    .dataframe tbody tr th {\n",
       "        vertical-align: top;\n",
       "    }\n",
       "\n",
       "    .dataframe thead th {\n",
       "        text-align: right;\n",
       "    }\n",
       "</style>\n",
       "<table border=\"1\" class=\"dataframe\">\n",
       "  <thead>\n",
       "    <tr style=\"text-align: right;\">\n",
       "      <th></th>\n",
       "      <th>long</th>\n",
       "      <th>lat</th>\n",
       "      <th>id</th>\n",
       "      <th>estacion</th>\n",
       "      <th>linea</th>\n",
       "    </tr>\n",
       "  </thead>\n",
       "  <tbody>\n",
       "    <tr>\n",
       "      <th>0</th>\n",
       "      <td>-58.398928</td>\n",
       "      <td>-34.635750</td>\n",
       "      <td>1.0</td>\n",
       "      <td>CASEROS</td>\n",
       "      <td>H</td>\n",
       "    </tr>\n",
       "    <tr>\n",
       "      <th>1</th>\n",
       "      <td>-58.400970</td>\n",
       "      <td>-34.629376</td>\n",
       "      <td>2.0</td>\n",
       "      <td>INCLAN - MEZQUITA AL AHMAD</td>\n",
       "      <td>H</td>\n",
       "    </tr>\n",
       "    <tr>\n",
       "      <th>2</th>\n",
       "      <td>-58.402323</td>\n",
       "      <td>-34.623092</td>\n",
       "      <td>3.0</td>\n",
       "      <td>HUMBERTO 1°</td>\n",
       "      <td>H</td>\n",
       "    </tr>\n",
       "  </tbody>\n",
       "</table>\n",
       "</div>"
      ],
      "text/plain": [
       "        long        lat   id                    estacion linea\n",
       "0 -58.398928 -34.635750  1.0                     CASEROS     H\n",
       "1 -58.400970 -34.629376  2.0  INCLAN - MEZQUITA AL AHMAD     H\n",
       "2 -58.402323 -34.623092  3.0                 HUMBERTO 1°     H"
      ]
     },
     "execution_count": 147,
     "metadata": {},
     "output_type": "execute_result"
    }
   ],
   "source": [
    "subte.head(3) # long lat id estacion linea"
   ]
  },
  {
   "cell_type": "code",
   "execution_count": 148,
   "metadata": {},
   "outputs": [
    {
     "data": {
      "text/plain": [
       "INDEPENDENCIA                        2\n",
       "RETIRO                               2\n",
       "PUEYRREDON                           2\n",
       "SAN JUAN                             1\n",
       "OLLEROS                              1\n",
       "                                    ..\n",
       "CONGRESO DE TUCUMAN                  1\n",
       "ENTRE RIOS - RODOLFO WALSH           1\n",
       "MINISTRO CARRANZA - MIGUEL ABUELO    1\n",
       "AGÜERO                               1\n",
       "VENEZUELA                            1\n",
       "Name: estacion, Length: 87, dtype: int64"
      ]
     },
     "execution_count": 148,
     "metadata": {},
     "output_type": "execute_result"
    }
   ],
   "source": [
    "subte.estacion.value_counts().sort_values(ascending=False)"
   ]
  },
  {
   "cell_type": "code",
   "execution_count": 177,
   "metadata": {},
   "outputs": [],
   "source": [
    "#colec.head(2)"
   ]
  },
  {
   "cell_type": "code",
   "execution_count": 150,
   "metadata": {},
   "outputs": [],
   "source": [
    "#Cambio los nombres de las columnas de paradas de colectivos\n",
    "colec = colec.rename({\n",
    "    'stop_lat': 'lat',\n",
    "    'stop_lon': 'long',\n",
    "}, axis=1)\n",
    "\n",
    "#Todas las lat y long en los 4 dataframes son float."
   ]
  },
  {
   "cell_type": "markdown",
   "metadata": {},
   "source": [
    "**Distancia entre dos puntos de latitud y longitud - Haversine_formula**"
   ]
  },
  {
   "cell_type": "markdown",
   "metadata": {},
   "source": [
    "The [haversine](https://en.wikipedia.org/wiki/Haversine_formula) formula allows the haversine of Θ (that is, hav(Θ)) to be computed directly from the latitude and longitude of the two points.\n",
    "\n",
    "<img src=\"h_formula.png\" alt=\"Drawing\" style=\"width: 400px;\"/>\n",
    "\n",
    "\n",
    "* φ1, φ2 are the latitude of point 1 and latitude of point 2 (in radians),\n",
    "* λ1, λ2 are the longitude of point 1 and longitude of point 2 (in radians).\n",
    "\n",
    "As similar formula can be written using cosines (sometimes called the spherical law of cosines, not to be confused with the law of cosines for plane geometry) instead of haversines, but if the two points are close together (e.g. a kilometer apart, on the Earth) you might end up with an inaccurate answer. Since the haversine formula uses sines, it avoids that problem.\n",
    "\n",
    "A [simplified formula](http://www.movable-type.co.uk/scripts/latlong.html) says:\n",
    "\n",
    "<img src=\"h_simple.png\" alt=\"Drawing\" style=\"width: 600px;\"/>\n"
   ]
  },
  {
   "cell_type": "code",
   "execution_count": 151,
   "metadata": {},
   "outputs": [],
   "source": [
    "#vectorized numpy version of the same function\n",
    "\n",
    "import numpy as np\n",
    "\n",
    "def haversine_np(lon1, lat1, lon2, lat2):\n",
    "    \"\"\"\n",
    "    Calculate the great circle distance between two points\n",
    "    on the earth (specified in decimal degrees)\n",
    "\n",
    "    All args must be of equal length.    \n",
    "\n",
    "    \"\"\"\n",
    "    lon1, lat1, lon2, lat2 = map(np.radians, [lon1, lat1, lon2, lat2])\n",
    "\n",
    "    dlon = lon2 - lon1\n",
    "    dlat = lat2 - lat1\n",
    "\n",
    "    a = np.sin(dlat/2.0)**2 + np.cos(lat1) * np.cos(lat2) * np.sin(dlon/2.0)**2\n",
    "\n",
    "    c = 2 * np.arcsin(np.sqrt(a))\n",
    "    \n",
    "    km = 6367 * c  #el radio de la tierra no es 6371 km??\n",
    "    \n",
    "    return km\n",
    "\n"
   ]
  },
  {
   "cell_type": "code",
   "execution_count": 152,
   "metadata": {},
   "outputs": [],
   "source": [
    "#Ejemplo de coo usar la formula \n",
    "\n",
    "# lon1, lon2, lat1, lat2 = np.random.randn(4, 1000000)\n",
    "# df = pd.DataFrame(data={'lon1':lon1,'lon2':lon2,'lat1':lat1,'lat2':lat2})\n",
    "# km = haversine_np(df['lon1'],df['lat1'],df['lon2'],df['lat2'])\n",
    "# df['distance'] = haversine_np(df['lon1'],df['lat1'],df['lon2'],df['lat2'])"
   ]
  },
  {
   "cell_type": "code",
   "execution_count": 153,
   "metadata": {},
   "outputs": [
    {
     "name": "stdout",
     "output_type": "stream",
     "text": [
      "(90, 5)\n",
      "(42463, 12)\n",
      "(230, 11)\n"
     ]
    }
   ],
   "source": [
    "print(subte.shape)\n",
    "print(colec.shape)\n",
    "print(ferro.shape)"
   ]
  },
  {
   "cell_type": "code",
   "execution_count": 154,
   "metadata": {},
   "outputs": [],
   "source": [
    "latlon = caba[['lat','lon']]  #cambiar aca dataset final a usar por caba\n",
    "latlon_subte = subte[['long','lat']]  # variable subte esta la data de subtes y toma solo long y lat\n",
    "latlon_ = latlon.copy()\n",
    "for index, row in latlon_.iterrows():\n",
    "    distancia = haversine_np(row['lon'],row['lat'],latlon_subte['long'],latlon_subte['lat'])\n",
    "    if any(distancia < 1):\n",
    "        latlon_.loc[index, 'subte'] = \"Cerca\"\n",
    "    else:\n",
    "        latlon_.loc[index, 'subte'] = \"Lejos\"\n",
    "caba = pd.concat([caba,latlon_['subte']],axis=1)     # cambiar aca dataset final a usar"
   ]
  },
  {
   "cell_type": "code",
   "execution_count": 155,
   "metadata": {},
   "outputs": [],
   "source": [
    "mask_subte = caba['subte'] == \"Cerca\"\n",
    "dummies_subte = pd.get_dummies(mask_subte, prefix='subte', drop_first=True)\n",
    "caba = caba.join(dummies_subte)"
   ]
  },
  {
   "cell_type": "code",
   "execution_count": 156,
   "metadata": {
    "scrolled": true
   },
   "outputs": [],
   "source": [
    "# latlon = bel_subte[['lat','lon']]  #cambiar aca dataset final a usar por el df_barrios\n",
    "# latlon_subte = subte[['long','lat']]  # variable subte esta la data de subtes y toma solo long y lat\n",
    "# latlon_ = latlon.copy()\n",
    "# for index, row in latlon_.iterrows():\n",
    "#     distancia = haversine_np(row['lon'],row['lat'],latlon_subte['long'],latlon_subte['lat'])\n",
    "#     if any(distancia < 0.5):\n",
    "#         latlon_.loc[index, 'subte'] = \"1\"\n",
    "#     else:\n",
    "#         latlon_.loc[index, 'subte'] = \"0\"\n",
    "# bel_subte = pd.concat([bel_subte,latlon_['subte']],axis=1)     # cambiar aca dataset final a usar "
   ]
  },
  {
   "cell_type": "code",
   "execution_count": 157,
   "metadata": {},
   "outputs": [
    {
     "data": {
      "text/plain": [
       "Index(['lat', 'lon', 'surface_total_in_m2', 'surface_covered_in_m2',\n",
       "       'price_usd_per_m2', 'floor', 'rooms', 'expenses', 'properati_url',\n",
       "       'description', 'title', 'surface_uncovered_in_m2',\n",
       "       'high_price_high_freq', 'high_price_low_freq', 'low_price', 'PH',\n",
       "       'apartment', 'Pileta_True', 'Cochera_True', 'subte', 'Subte_True'],\n",
       "      dtype='object')"
      ]
     },
     "execution_count": 157,
     "metadata": {},
     "output_type": "execute_result"
    }
   ],
   "source": [
    "caba.columns"
   ]
  },
  {
   "cell_type": "code",
   "execution_count": 158,
   "metadata": {},
   "outputs": [
    {
     "data": {
      "text/plain": [
       "Cerca    1077\n",
       "Lejos     233\n",
       "Name: subte, dtype: int64"
      ]
     },
     "execution_count": 158,
     "metadata": {},
     "output_type": "execute_result"
    }
   ],
   "source": [
    "caba.subte.value_counts()"
   ]
  },
  {
   "cell_type": "code",
   "execution_count": 159,
   "metadata": {},
   "outputs": [
    {
     "data": {
      "text/plain": [
       "(1310, 21)"
      ]
     },
     "execution_count": 159,
     "metadata": {},
     "output_type": "execute_result"
    }
   ],
   "source": [
    "caba.shape"
   ]
  },
  {
   "cell_type": "code",
   "execution_count": 160,
   "metadata": {
    "scrolled": true
   },
   "outputs": [
    {
     "data": {
      "text/plain": [
       "1    1077\n",
       "0     233\n",
       "Name: Subte_True, dtype: int64"
      ]
     },
     "execution_count": 160,
     "metadata": {},
     "output_type": "execute_result"
    }
   ],
   "source": [
    "caba.subte_True.value_counts()"
   ]
  },
  {
   "cell_type": "code",
   "execution_count": 161,
   "metadata": {
    "scrolled": true
   },
   "outputs": [
    {
     "name": "stdout",
     "output_type": "stream",
     "text": [
      "(1310, 20)\n"
     ]
    },
    {
     "data": {
      "text/html": [
       "<div>\n",
       "<style scoped>\n",
       "    .dataframe tbody tr th:only-of-type {\n",
       "        vertical-align: middle;\n",
       "    }\n",
       "\n",
       "    .dataframe tbody tr th {\n",
       "        vertical-align: top;\n",
       "    }\n",
       "\n",
       "    .dataframe thead th {\n",
       "        text-align: right;\n",
       "    }\n",
       "</style>\n",
       "<table border=\"1\" class=\"dataframe\">\n",
       "  <thead>\n",
       "    <tr style=\"text-align: right;\">\n",
       "      <th></th>\n",
       "      <th>lat</th>\n",
       "      <th>lon</th>\n",
       "      <th>surface_total_in_m2</th>\n",
       "      <th>surface_covered_in_m2</th>\n",
       "      <th>price_usd_per_m2</th>\n",
       "      <th>floor</th>\n",
       "      <th>rooms</th>\n",
       "      <th>expenses</th>\n",
       "      <th>properati_url</th>\n",
       "      <th>description</th>\n",
       "      <th>title</th>\n",
       "      <th>surface_uncovered_in_m2</th>\n",
       "      <th>high_price_high_freq</th>\n",
       "      <th>high_price_low_freq</th>\n",
       "      <th>low_price</th>\n",
       "      <th>PH</th>\n",
       "      <th>apartment</th>\n",
       "      <th>Pileta_True</th>\n",
       "      <th>Cochera_True</th>\n",
       "      <th>Subte_True</th>\n",
       "    </tr>\n",
       "  </thead>\n",
       "  <tbody>\n",
       "    <tr>\n",
       "      <th>351</th>\n",
       "      <td>-34.603594</td>\n",
       "      <td>-58.465425</td>\n",
       "      <td>27.0</td>\n",
       "      <td>27.0</td>\n",
       "      <td>2283.540370</td>\n",
       "      <td>7.0</td>\n",
       "      <td>1.0</td>\n",
       "      <td>1545.0</td>\n",
       "      <td>http://www.properati.com.ar/15e79_venta_depart...</td>\n",
       "      <td>Venta de Departamento 1 AMBIENTE en PaternalEl...</td>\n",
       "      <td>DEPARTAMENTO EN VENTA</td>\n",
       "      <td>0.0</td>\n",
       "      <td>1</td>\n",
       "      <td>0</td>\n",
       "      <td>0</td>\n",
       "      <td>0</td>\n",
       "      <td>1</td>\n",
       "      <td>0</td>\n",
       "      <td>0</td>\n",
       "      <td>0</td>\n",
       "    </tr>\n",
       "    <tr>\n",
       "      <th>352</th>\n",
       "      <td>-34.603594</td>\n",
       "      <td>-58.465425</td>\n",
       "      <td>27.0</td>\n",
       "      <td>27.0</td>\n",
       "      <td>2312.765926</td>\n",
       "      <td>8.0</td>\n",
       "      <td>1.0</td>\n",
       "      <td>1545.0</td>\n",
       "      <td>http://www.properati.com.ar/15e7a_venta_depart...</td>\n",
       "      <td>Venta de Departamento 1 AMBIENTE en PaternalEl...</td>\n",
       "      <td>DEPARTAMENTO EN VENTA</td>\n",
       "      <td>0.0</td>\n",
       "      <td>1</td>\n",
       "      <td>0</td>\n",
       "      <td>0</td>\n",
       "      <td>0</td>\n",
       "      <td>1</td>\n",
       "      <td>0</td>\n",
       "      <td>0</td>\n",
       "      <td>0</td>\n",
       "    </tr>\n",
       "  </tbody>\n",
       "</table>\n",
       "</div>"
      ],
      "text/plain": [
       "           lat        lon  surface_total_in_m2  surface_covered_in_m2  \\\n",
       "351 -34.603594 -58.465425                 27.0                   27.0   \n",
       "352 -34.603594 -58.465425                 27.0                   27.0   \n",
       "\n",
       "     price_usd_per_m2  floor  rooms  expenses  \\\n",
       "351       2283.540370    7.0    1.0    1545.0   \n",
       "352       2312.765926    8.0    1.0    1545.0   \n",
       "\n",
       "                                         properati_url  \\\n",
       "351  http://www.properati.com.ar/15e79_venta_depart...   \n",
       "352  http://www.properati.com.ar/15e7a_venta_depart...   \n",
       "\n",
       "                                           description                  title  \\\n",
       "351  Venta de Departamento 1 AMBIENTE en PaternalEl...  DEPARTAMENTO EN VENTA   \n",
       "352  Venta de Departamento 1 AMBIENTE en PaternalEl...  DEPARTAMENTO EN VENTA   \n",
       "\n",
       "     surface_uncovered_in_m2  high_price_high_freq  high_price_low_freq  \\\n",
       "351                      0.0                     1                    0   \n",
       "352                      0.0                     1                    0   \n",
       "\n",
       "     low_price  PH  apartment  Pileta_True  Cochera_True  Subte_True  \n",
       "351          0   0          1            0             0           0  \n",
       "352          0   0          1            0             0           0  "
      ]
     },
     "execution_count": 161,
     "metadata": {},
     "output_type": "execute_result"
    }
   ],
   "source": [
    "caba = caba.drop(columns=['subte'])\n",
    "print(caba.shape)\n",
    "caba.head(2)"
   ]
  },
  {
   "cell_type": "markdown",
   "metadata": {},
   "source": [
    "<a id=\"section_bus\"></a> \n",
    "## bus stop / colectivo\n",
    "\n",
    "[volver a TOC](#section_toc)"
   ]
  },
  {
   "cell_type": "code",
   "execution_count": 162,
   "metadata": {},
   "outputs": [],
   "source": [
    "latlon = caba[['lat','lon']]  #cambiar aca dataset final a usar por caba\n",
    "latlon_subte = colec[['long','lat']]  # variable subte esta la data de subtes y toma solo long y lat\n",
    "latlon_ = latlon.copy()\n",
    "for index, row in latlon_.iterrows():\n",
    "    distancia = haversine_np(row['lon'],row['lat'],latlon_subte['long'],latlon_subte['lat'])\n",
    "    if any(distancia < 0.1):\n",
    "        latlon_.loc[index, 'bus'] = \"Cerca\"\n",
    "    else:\n",
    "        latlon_.loc[index, 'bus'] = \"Lejos\"\n",
    "caba = pd.concat([caba,latlon_['bus']],axis=1)     # cambiar aca dataset final a usar"
   ]
  },
  {
   "cell_type": "code",
   "execution_count": 163,
   "metadata": {},
   "outputs": [
    {
     "data": {
      "text/plain": [
       "Cerca    948\n",
       "Lejos    362\n",
       "Name: bus, dtype: int64"
      ]
     },
     "execution_count": 163,
     "metadata": {},
     "output_type": "execute_result"
    }
   ],
   "source": [
    "caba.bus.value_counts()"
   ]
  },
  {
   "cell_type": "code",
   "execution_count": 164,
   "metadata": {},
   "outputs": [],
   "source": [
    "mask_subte = caba['bus'] == \"Cerca\"\n",
    "dummies_subte = pd.get_dummies(mask_subte, prefix='bus', drop_first=True)\n",
    "caba = caba.join(dummies_subte)"
   ]
  },
  {
   "cell_type": "code",
   "execution_count": 165,
   "metadata": {},
   "outputs": [
    {
     "data": {
      "text/plain": [
       "Index(['lat', 'lon', 'surface_total_in_m2', 'surface_covered_in_m2',\n",
       "       'price_usd_per_m2', 'floor', 'rooms', 'expenses', 'properati_url',\n",
       "       'description', 'title', 'surface_uncovered_in_m2',\n",
       "       'high_price_high_freq', 'high_price_low_freq', 'low_price', 'PH',\n",
       "       'apartment', 'Pileta_True', 'Cochera_True', 'Subte_True', 'bus',\n",
       "       'bus_True'],\n",
       "      dtype='object')"
      ]
     },
     "execution_count": 165,
     "metadata": {},
     "output_type": "execute_result"
    }
   ],
   "source": [
    "caba.columns"
   ]
  },
  {
   "cell_type": "code",
   "execution_count": 166,
   "metadata": {},
   "outputs": [
    {
     "data": {
      "text/plain": [
       "(1310, 22)"
      ]
     },
     "execution_count": 166,
     "metadata": {},
     "output_type": "execute_result"
    }
   ],
   "source": [
    "caba.shape"
   ]
  },
  {
   "cell_type": "code",
   "execution_count": 167,
   "metadata": {
    "scrolled": true
   },
   "outputs": [
    {
     "data": {
      "text/plain": [
       "1    948\n",
       "0    362\n",
       "Name: bus_True, dtype: int64"
      ]
     },
     "execution_count": 167,
     "metadata": {},
     "output_type": "execute_result"
    }
   ],
   "source": [
    "caba.bus_True.value_counts()"
   ]
  },
  {
   "cell_type": "code",
   "execution_count": 168,
   "metadata": {
    "scrolled": true
   },
   "outputs": [
    {
     "name": "stdout",
     "output_type": "stream",
     "text": [
      "(1310, 21)\n"
     ]
    },
    {
     "data": {
      "text/plain": [
       "Index(['lat', 'lon', 'surface_total_in_m2', 'surface_covered_in_m2',\n",
       "       'price_usd_per_m2', 'floor', 'rooms', 'expenses', 'properati_url',\n",
       "       'description', 'title', 'surface_uncovered_in_m2',\n",
       "       'high_price_high_freq', 'high_price_low_freq', 'low_price', 'PH',\n",
       "       'apartment', 'Pileta_True', 'Cochera_True', 'Subte_True', 'bus_True'],\n",
       "      dtype='object')"
      ]
     },
     "execution_count": 168,
     "metadata": {},
     "output_type": "execute_result"
    }
   ],
   "source": [
    "caba = caba.drop(columns=['bus'])\n",
    "print(caba.shape)\n",
    "caba.columns"
   ]
  },
  {
   "cell_type": "markdown",
   "metadata": {},
   "source": [
    "<a id=\"section_train\"></a> \n",
    "## train / ferrocarril\n",
    "\n",
    "[volver a TOC](#section_toc)\n"
   ]
  },
  {
   "cell_type": "code",
   "execution_count": 169,
   "metadata": {},
   "outputs": [],
   "source": [
    "latlon = caba[['lat','lon']]  #cambiar aca dataset final a usar por caba\n",
    "latlon_subte = ferro[['long','lat']]  # variable subte esta la data de subtes y toma solo long y lat\n",
    "latlon_ = latlon.copy()\n",
    "for index, row in latlon_.iterrows():\n",
    "    distancia = haversine_np(row['lon'],row['lat'],latlon_subte['long'],latlon_subte['lat'])\n",
    "    if any(distancia < 1):\n",
    "        latlon_.loc[index, 'train'] = \"Cerca\"\n",
    "    else:\n",
    "        latlon_.loc[index, 'train'] = \"Lejos\"\n",
    "caba = pd.concat([caba,latlon_['train']],axis=1)     # cambiar aca dataset final a usar"
   ]
  },
  {
   "cell_type": "code",
   "execution_count": 170,
   "metadata": {},
   "outputs": [
    {
     "data": {
      "text/plain": [
       "Lejos    697\n",
       "Cerca    613\n",
       "Name: train, dtype: int64"
      ]
     },
     "execution_count": 170,
     "metadata": {},
     "output_type": "execute_result"
    }
   ],
   "source": [
    "caba.train.value_counts()"
   ]
  },
  {
   "cell_type": "code",
   "execution_count": 171,
   "metadata": {},
   "outputs": [],
   "source": [
    "mask_subte = caba['train'] == \"Cerca\"\n",
    "dummies_subte = pd.get_dummies(mask_subte, prefix='train', drop_first=True)\n",
    "caba = caba.join(dummies_subte)"
   ]
  },
  {
   "cell_type": "code",
   "execution_count": 172,
   "metadata": {},
   "outputs": [
    {
     "data": {
      "text/plain": [
       "Index(['lat', 'lon', 'surface_total_in_m2', 'surface_covered_in_m2',\n",
       "       'price_usd_per_m2', 'floor', 'rooms', 'expenses', 'properati_url',\n",
       "       'description', 'title', 'surface_uncovered_in_m2',\n",
       "       'high_price_high_freq', 'high_price_low_freq', 'low_price', 'PH',\n",
       "       'apartment', 'Pileta_True', 'Cochera_True', 'Subte_True', 'bus_True',\n",
       "       'train', 'train_True'],\n",
       "      dtype='object')"
      ]
     },
     "execution_count": 172,
     "metadata": {},
     "output_type": "execute_result"
    }
   ],
   "source": [
    "caba.columns"
   ]
  },
  {
   "cell_type": "code",
   "execution_count": 173,
   "metadata": {},
   "outputs": [
    {
     "data": {
      "text/plain": [
       "(1310, 23)"
      ]
     },
     "execution_count": 173,
     "metadata": {},
     "output_type": "execute_result"
    }
   ],
   "source": [
    "caba.shape"
   ]
  },
  {
   "cell_type": "code",
   "execution_count": 174,
   "metadata": {
    "scrolled": true
   },
   "outputs": [
    {
     "data": {
      "text/plain": [
       "0    697\n",
       "1    613\n",
       "Name: train_True, dtype: int64"
      ]
     },
     "execution_count": 174,
     "metadata": {},
     "output_type": "execute_result"
    }
   ],
   "source": [
    "caba.train_True.value_counts()"
   ]
  },
  {
   "cell_type": "code",
   "execution_count": 175,
   "metadata": {
    "scrolled": true
   },
   "outputs": [
    {
     "name": "stdout",
     "output_type": "stream",
     "text": [
      "(1310, 22)\n"
     ]
    },
    {
     "data": {
      "text/plain": [
       "Index(['lat', 'lon', 'surface_total_in_m2', 'surface_covered_in_m2',\n",
       "       'price_usd_per_m2', 'floor', 'rooms', 'expenses', 'properati_url',\n",
       "       'description', 'title', 'surface_uncovered_in_m2',\n",
       "       'high_price_high_freq', 'high_price_low_freq', 'low_price', 'PH',\n",
       "       'apartment', 'Pileta_True', 'Cochera_True', 'Subte_True', 'bus_True',\n",
       "       'train_True'],\n",
       "      dtype='object')"
      ]
     },
     "execution_count": 175,
     "metadata": {},
     "output_type": "execute_result"
    }
   ],
   "source": [
    "caba = caba.drop(columns=['train'])\n",
    "print(caba.shape)\n",
    "caba.columns"
   ]
  },
  {
   "cell_type": "markdown",
   "metadata": {},
   "source": [
    "<a id=\"section_final\"></a> \n",
    "## final data set\n",
    "\n",
    "[volver a TOC](#section_toc)"
   ]
  },
  {
   "cell_type": "code",
   "execution_count": 179,
   "metadata": {},
   "outputs": [
    {
     "name": "stdout",
     "output_type": "stream",
     "text": [
      "(1310, 19)\n"
     ]
    },
    {
     "data": {
      "text/plain": [
       "Index(['lat', 'lon', 'surface_total_in_m2', 'surface_covered_in_m2',\n",
       "       'price_usd_per_m2', 'floor', 'rooms', 'expenses',\n",
       "       'surface_uncovered_in_m2', 'high_price_high_freq',\n",
       "       'high_price_low_freq', 'low_price', 'PH', 'apartment', 'Pileta_True',\n",
       "       'Cochera_True', 'Subte_True', 'bus_True', 'train_True'],\n",
       "      dtype='object')"
      ]
     },
     "execution_count": 179,
     "metadata": {},
     "output_type": "execute_result"
    }
   ],
   "source": [
    "caba = caba.drop(columns=['properati_url','description', 'title'])\n",
    "print(caba.shape)\n",
    "caba.columns"
   ]
  },
  {
   "cell_type": "code",
   "execution_count": 180,
   "metadata": {},
   "outputs": [
    {
     "data": {
      "text/html": [
       "<div>\n",
       "<style scoped>\n",
       "    .dataframe tbody tr th:only-of-type {\n",
       "        vertical-align: middle;\n",
       "    }\n",
       "\n",
       "    .dataframe tbody tr th {\n",
       "        vertical-align: top;\n",
       "    }\n",
       "\n",
       "    .dataframe thead th {\n",
       "        text-align: right;\n",
       "    }\n",
       "</style>\n",
       "<table border=\"1\" class=\"dataframe\">\n",
       "  <thead>\n",
       "    <tr style=\"text-align: right;\">\n",
       "      <th></th>\n",
       "      <th>lat</th>\n",
       "      <th>lon</th>\n",
       "      <th>surface_total_in_m2</th>\n",
       "      <th>surface_covered_in_m2</th>\n",
       "      <th>price_usd_per_m2</th>\n",
       "      <th>floor</th>\n",
       "      <th>rooms</th>\n",
       "      <th>expenses</th>\n",
       "      <th>surface_uncovered_in_m2</th>\n",
       "      <th>high_price_high_freq</th>\n",
       "      <th>high_price_low_freq</th>\n",
       "      <th>low_price</th>\n",
       "      <th>PH</th>\n",
       "      <th>apartment</th>\n",
       "      <th>Pileta_True</th>\n",
       "      <th>Cochera_True</th>\n",
       "      <th>Subte_True</th>\n",
       "      <th>bus_True</th>\n",
       "      <th>train_True</th>\n",
       "    </tr>\n",
       "  </thead>\n",
       "  <tbody>\n",
       "    <tr>\n",
       "      <th>351</th>\n",
       "      <td>-34.603594</td>\n",
       "      <td>-58.465425</td>\n",
       "      <td>27.0</td>\n",
       "      <td>27.0</td>\n",
       "      <td>2283.540370</td>\n",
       "      <td>7.0</td>\n",
       "      <td>1.0</td>\n",
       "      <td>1545.0</td>\n",
       "      <td>0.0</td>\n",
       "      <td>1</td>\n",
       "      <td>0</td>\n",
       "      <td>0</td>\n",
       "      <td>0</td>\n",
       "      <td>1</td>\n",
       "      <td>0</td>\n",
       "      <td>0</td>\n",
       "      <td>0</td>\n",
       "      <td>1</td>\n",
       "      <td>0</td>\n",
       "    </tr>\n",
       "    <tr>\n",
       "      <th>352</th>\n",
       "      <td>-34.603594</td>\n",
       "      <td>-58.465425</td>\n",
       "      <td>27.0</td>\n",
       "      <td>27.0</td>\n",
       "      <td>2312.765926</td>\n",
       "      <td>8.0</td>\n",
       "      <td>1.0</td>\n",
       "      <td>1545.0</td>\n",
       "      <td>0.0</td>\n",
       "      <td>1</td>\n",
       "      <td>0</td>\n",
       "      <td>0</td>\n",
       "      <td>0</td>\n",
       "      <td>1</td>\n",
       "      <td>0</td>\n",
       "      <td>0</td>\n",
       "      <td>0</td>\n",
       "      <td>1</td>\n",
       "      <td>0</td>\n",
       "    </tr>\n",
       "    <tr>\n",
       "      <th>353</th>\n",
       "      <td>-34.603594</td>\n",
       "      <td>-58.465425</td>\n",
       "      <td>27.0</td>\n",
       "      <td>27.0</td>\n",
       "      <td>2342.428148</td>\n",
       "      <td>9.0</td>\n",
       "      <td>3.0</td>\n",
       "      <td>2025.0</td>\n",
       "      <td>0.0</td>\n",
       "      <td>1</td>\n",
       "      <td>0</td>\n",
       "      <td>0</td>\n",
       "      <td>0</td>\n",
       "      <td>1</td>\n",
       "      <td>0</td>\n",
       "      <td>0</td>\n",
       "      <td>0</td>\n",
       "      <td>1</td>\n",
       "      <td>0</td>\n",
       "    </tr>\n",
       "    <tr>\n",
       "      <th>354</th>\n",
       "      <td>-34.603594</td>\n",
       "      <td>-58.465425</td>\n",
       "      <td>27.0</td>\n",
       "      <td>27.0</td>\n",
       "      <td>2372.090000</td>\n",
       "      <td>10.0</td>\n",
       "      <td>3.0</td>\n",
       "      <td>2025.0</td>\n",
       "      <td>0.0</td>\n",
       "      <td>1</td>\n",
       "      <td>0</td>\n",
       "      <td>0</td>\n",
       "      <td>0</td>\n",
       "      <td>1</td>\n",
       "      <td>0</td>\n",
       "      <td>0</td>\n",
       "      <td>0</td>\n",
       "      <td>1</td>\n",
       "      <td>0</td>\n",
       "    </tr>\n",
       "    <tr>\n",
       "      <th>355</th>\n",
       "      <td>-34.603594</td>\n",
       "      <td>-58.465425</td>\n",
       "      <td>32.0</td>\n",
       "      <td>32.0</td>\n",
       "      <td>2326.622500</td>\n",
       "      <td>7.0</td>\n",
       "      <td>3.0</td>\n",
       "      <td>2025.0</td>\n",
       "      <td>0.0</td>\n",
       "      <td>1</td>\n",
       "      <td>0</td>\n",
       "      <td>0</td>\n",
       "      <td>0</td>\n",
       "      <td>1</td>\n",
       "      <td>0</td>\n",
       "      <td>0</td>\n",
       "      <td>0</td>\n",
       "      <td>1</td>\n",
       "      <td>0</td>\n",
       "    </tr>\n",
       "  </tbody>\n",
       "</table>\n",
       "</div>"
      ],
      "text/plain": [
       "           lat        lon  surface_total_in_m2  surface_covered_in_m2  \\\n",
       "351 -34.603594 -58.465425                 27.0                   27.0   \n",
       "352 -34.603594 -58.465425                 27.0                   27.0   \n",
       "353 -34.603594 -58.465425                 27.0                   27.0   \n",
       "354 -34.603594 -58.465425                 27.0                   27.0   \n",
       "355 -34.603594 -58.465425                 32.0                   32.0   \n",
       "\n",
       "     price_usd_per_m2  floor  rooms  expenses  surface_uncovered_in_m2  \\\n",
       "351       2283.540370    7.0    1.0    1545.0                      0.0   \n",
       "352       2312.765926    8.0    1.0    1545.0                      0.0   \n",
       "353       2342.428148    9.0    3.0    2025.0                      0.0   \n",
       "354       2372.090000   10.0    3.0    2025.0                      0.0   \n",
       "355       2326.622500    7.0    3.0    2025.0                      0.0   \n",
       "\n",
       "     high_price_high_freq  high_price_low_freq  low_price  PH  apartment  \\\n",
       "351                     1                    0          0   0          1   \n",
       "352                     1                    0          0   0          1   \n",
       "353                     1                    0          0   0          1   \n",
       "354                     1                    0          0   0          1   \n",
       "355                     1                    0          0   0          1   \n",
       "\n",
       "     Pileta_True  Cochera_True  Subte_True  bus_True  train_True  \n",
       "351            0             0           0         1           0  \n",
       "352            0             0           0         1           0  \n",
       "353            0             0           0         1           0  \n",
       "354            0             0           0         1           0  \n",
       "355            0             0           0         1           0  "
      ]
     },
     "execution_count": 180,
     "metadata": {},
     "output_type": "execute_result"
    }
   ],
   "source": [
    "caba.head()"
   ]
  },
  {
   "cell_type": "code",
   "execution_count": 183,
   "metadata": {},
   "outputs": [
    {
     "data": {
      "text/plain": [
       "(1310, 19)"
      ]
     },
     "execution_count": 183,
     "metadata": {},
     "output_type": "execute_result"
    }
   ],
   "source": [
    "caba.shape"
   ]
  },
  {
   "cell_type": "markdown",
   "metadata": {},
   "source": [
    "<a id=\"section_regres\"></a> \n",
    "## regresiones\n",
    "\n",
    "[volver a TOC](#section_toc)"
   ]
  },
  {
   "cell_type": "code",
   "execution_count": 181,
   "metadata": {},
   "outputs": [
    {
     "data": {
      "text/html": [
       "<div>\n",
       "<style scoped>\n",
       "    .dataframe tbody tr th:only-of-type {\n",
       "        vertical-align: middle;\n",
       "    }\n",
       "\n",
       "    .dataframe tbody tr th {\n",
       "        vertical-align: top;\n",
       "    }\n",
       "\n",
       "    .dataframe thead th {\n",
       "        text-align: right;\n",
       "    }\n",
       "</style>\n",
       "<table border=\"1\" class=\"dataframe\">\n",
       "  <thead>\n",
       "    <tr style=\"text-align: right;\">\n",
       "      <th></th>\n",
       "      <th>surface_covered_in_m2</th>\n",
       "      <th>floor</th>\n",
       "      <th>rooms</th>\n",
       "      <th>expenses</th>\n",
       "      <th>surface_uncovered_in_m2</th>\n",
       "      <th>high_price_high_freq</th>\n",
       "      <th>high_price_low_freq</th>\n",
       "      <th>low_price</th>\n",
       "      <th>PH</th>\n",
       "      <th>apartment</th>\n",
       "      <th>Pileta_True</th>\n",
       "      <th>Cochera_True</th>\n",
       "      <th>Subte_True</th>\n",
       "      <th>bus_True</th>\n",
       "      <th>train_True</th>\n",
       "    </tr>\n",
       "  </thead>\n",
       "  <tbody>\n",
       "    <tr>\n",
       "      <th>351</th>\n",
       "      <td>27.0</td>\n",
       "      <td>7.0</td>\n",
       "      <td>1.0</td>\n",
       "      <td>1545.0</td>\n",
       "      <td>0.0</td>\n",
       "      <td>1</td>\n",
       "      <td>0</td>\n",
       "      <td>0</td>\n",
       "      <td>0</td>\n",
       "      <td>1</td>\n",
       "      <td>0</td>\n",
       "      <td>0</td>\n",
       "      <td>0</td>\n",
       "      <td>1</td>\n",
       "      <td>0</td>\n",
       "    </tr>\n",
       "    <tr>\n",
       "      <th>352</th>\n",
       "      <td>27.0</td>\n",
       "      <td>8.0</td>\n",
       "      <td>1.0</td>\n",
       "      <td>1545.0</td>\n",
       "      <td>0.0</td>\n",
       "      <td>1</td>\n",
       "      <td>0</td>\n",
       "      <td>0</td>\n",
       "      <td>0</td>\n",
       "      <td>1</td>\n",
       "      <td>0</td>\n",
       "      <td>0</td>\n",
       "      <td>0</td>\n",
       "      <td>1</td>\n",
       "      <td>0</td>\n",
       "    </tr>\n",
       "    <tr>\n",
       "      <th>353</th>\n",
       "      <td>27.0</td>\n",
       "      <td>9.0</td>\n",
       "      <td>3.0</td>\n",
       "      <td>2025.0</td>\n",
       "      <td>0.0</td>\n",
       "      <td>1</td>\n",
       "      <td>0</td>\n",
       "      <td>0</td>\n",
       "      <td>0</td>\n",
       "      <td>1</td>\n",
       "      <td>0</td>\n",
       "      <td>0</td>\n",
       "      <td>0</td>\n",
       "      <td>1</td>\n",
       "      <td>0</td>\n",
       "    </tr>\n",
       "    <tr>\n",
       "      <th>354</th>\n",
       "      <td>27.0</td>\n",
       "      <td>10.0</td>\n",
       "      <td>3.0</td>\n",
       "      <td>2025.0</td>\n",
       "      <td>0.0</td>\n",
       "      <td>1</td>\n",
       "      <td>0</td>\n",
       "      <td>0</td>\n",
       "      <td>0</td>\n",
       "      <td>1</td>\n",
       "      <td>0</td>\n",
       "      <td>0</td>\n",
       "      <td>0</td>\n",
       "      <td>1</td>\n",
       "      <td>0</td>\n",
       "    </tr>\n",
       "    <tr>\n",
       "      <th>355</th>\n",
       "      <td>32.0</td>\n",
       "      <td>7.0</td>\n",
       "      <td>3.0</td>\n",
       "      <td>2025.0</td>\n",
       "      <td>0.0</td>\n",
       "      <td>1</td>\n",
       "      <td>0</td>\n",
       "      <td>0</td>\n",
       "      <td>0</td>\n",
       "      <td>1</td>\n",
       "      <td>0</td>\n",
       "      <td>0</td>\n",
       "      <td>0</td>\n",
       "      <td>1</td>\n",
       "      <td>0</td>\n",
       "    </tr>\n",
       "  </tbody>\n",
       "</table>\n",
       "</div>"
      ],
      "text/plain": [
       "     surface_covered_in_m2  floor  rooms  expenses  surface_uncovered_in_m2  \\\n",
       "351                   27.0    7.0    1.0    1545.0                      0.0   \n",
       "352                   27.0    8.0    1.0    1545.0                      0.0   \n",
       "353                   27.0    9.0    3.0    2025.0                      0.0   \n",
       "354                   27.0   10.0    3.0    2025.0                      0.0   \n",
       "355                   32.0    7.0    3.0    2025.0                      0.0   \n",
       "\n",
       "     high_price_high_freq  high_price_low_freq  low_price  PH  apartment  \\\n",
       "351                     1                    0          0   0          1   \n",
       "352                     1                    0          0   0          1   \n",
       "353                     1                    0          0   0          1   \n",
       "354                     1                    0          0   0          1   \n",
       "355                     1                    0          0   0          1   \n",
       "\n",
       "     Pileta_True  Cochera_True  Subte_True  bus_True  train_True  \n",
       "351            0             0           0         1           0  \n",
       "352            0             0           0         1           0  \n",
       "353            0             0           0         1           0  \n",
       "354            0             0           0         1           0  \n",
       "355            0             0           0         1           0  "
      ]
     },
     "execution_count": 181,
     "metadata": {},
     "output_type": "execute_result"
    }
   ],
   "source": [
    "X = caba[['surface_covered_in_m2', 'floor', 'rooms', 'expenses', 'surface_uncovered_in_m2', 'high_price_high_freq',\n",
    "       'high_price_low_freq', 'low_price', 'PH', 'apartment', 'Pileta_True',\n",
    "       'Cochera_True', 'Subte_True', 'bus_True', 'train_True']]\n",
    "Y = caba['price_usd_per_m2']\n",
    "\n",
    "X.head()"
   ]
  },
  {
   "cell_type": "code",
   "execution_count": null,
   "metadata": {},
   "outputs": [],
   "source": [
    "from sklearn.model_selection import cross_val_score\n",
    "from sklearn import linear_model\n",
    "from sklearn.linear_model import LinearRegression\n",
    "from sklearn.metrics import r2_score\n",
    "from sklearn.model_selection import train_test_split\n",
    "from sklearn.model_selection import cross_val_score\n",
    "from sklearn.model_selection import KFold\n",
    "from sklearn.feature_selection import RFE"
   ]
  },
  {
   "cell_type": "code",
   "execution_count": null,
   "metadata": {},
   "outputs": [],
   "source": [
    "#Primer modelo simple\n",
    "\n",
    "X_train, X_test, y_train, y_test = train_test_split(X, Y, test_size=0.30, random_state=10)\n",
    "lm = LinearRegression()\n",
    "model_1 = cross_val_score (lm,X_train,y_train, cv=5, scoring='r2')\n",
    "#y_pred = model_1.predict(X_test) # or should be X_train\n",
    "\n",
    "\n",
    "print(\"r^2_mean: \",round(model_1.mean(),2))\n",
    "print('r^2 CV models:',model_1)"
   ]
  },
  {
   "cell_type": "code",
   "execution_count": null,
   "metadata": {},
   "outputs": [],
   "source": [
    "#Segundo modelo usando Ridge y Cross Validation\n",
    "lm_ridge = linear_model.RidgeCV(alphas=[0.00001, 0.00005, 0.0001, 0.0005, 0.001, 0.005, 0.01,\\\n",
    "                                        0.05, 0.1, 1, 5, 10],\\\n",
    "                                      normalize=True, cv=5, scoring='r2')\n",
    "\n",
    "# best_score_\n",
    "\n",
    "model_2 = lm_ridge.fit(X_train, y_train)\n",
    "\n",
    "y_pred = model_2.predict(X_test) # or should be X_train\n",
    "\n",
    "model2_r2 = cross_val_score (lm_ridge,X_train,y_train, cv=5, scoring='r2')\n",
    "\n",
    "print(\"r^2_mean: \",round(model2_r2.mean(),2))\n",
    "\n",
    "#AL FINAL \n",
    "print('r^2  model_2 Ridge train:', round(model_2.score(X_train, y_train),2))\n",
    "print('r^2 model_2 Ridge test:', round(model_2.score(X_test, y_test),2))\n"
   ]
  },
  {
   "cell_type": "code",
   "execution_count": null,
   "metadata": {},
   "outputs": [],
   "source": [
    "#Tercer modelo usando Lasso y Cross Validation\n",
    "lm_lasso = linear_model.LassoCV(alphas=np.linspace(0.0001,100,1000),\\\n",
    "                                        normalize=True, cv=5)\n",
    "model_3 = lm_lasso.fit(X_train, y_train)\n",
    "#y_pred = model_3.predict(X_test)\n",
    "print('r^2  model_3 Lasso train:', round(model_3.score(X_train, y_train),2))\n",
    "print('r^2  model_3 Lasso test:', round(model_3.score(X_test, y_test),2))"
   ]
  },
  {
   "cell_type": "code",
   "execution_count": null,
   "metadata": {},
   "outputs": [],
   "source": [
    "#Quinto modelo usando elastic net\n",
    "lm_elasticnet = linear_model.ElasticNet(alpha=0.00001, normalize=True)\n",
    "model_4 = lm_elasticnet.fit(X_train, y_train)\n",
    "#y_pred = model_5.predict(X_test)\n",
    "print('r^2  model_4 Elastic Net train:', round(model_4.score(X_train, y_train),2))\n",
    "print('r^2  model_4 Elastic Net test:', round(model_4.score(X_test, y_test),2))"
   ]
  },
  {
   "cell_type": "markdown",
   "metadata": {},
   "source": [
    "Falta agregar las dummies de subte y cochera/pileta/exterior"
   ]
  },
  {
   "cell_type": "code",
   "execution_count": null,
   "metadata": {},
   "outputs": [],
   "source": []
  }
 ],
 "metadata": {
  "kernelspec": {
   "display_name": "Python 3",
   "language": "python",
   "name": "python3"
  },
  "language_info": {
   "codemirror_mode": {
    "name": "ipython",
    "version": 3
   },
   "file_extension": ".py",
   "mimetype": "text/x-python",
   "name": "python",
   "nbconvert_exporter": "python",
   "pygments_lexer": "ipython3",
   "version": "3.7.7"
  }
 },
 "nbformat": 4,
 "nbformat_minor": 4
}
