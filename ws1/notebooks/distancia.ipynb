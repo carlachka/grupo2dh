{
 "cells": [
  {
   "cell_type": "markdown",
   "metadata": {},
   "source": [
    "**Distancia entre las propiedades y algun estacion de subte, tren o parada de colectivo**\n",
    "\n",
    "Para calcular la distancia entre cada una de las propiedades y alguna estacion de subbte, tren o parada de colectivo hicimos los siguientes pasos:\n",
    "\n",
    "* Seleccionamos una determinada zona, por ejemplo, el barrio de Palermo.\n",
    "* Descargamos las bases de datos de estaciones de subte, de ferrocarriles y las paradas de colectivos de CABA.\n",
    "* Definimos la funcion Haversine\n",
    "* Para empezar, calculamos la distancia entre Palermo y subtes.\n",
    "* PROBLEMA: \n",
    "Pudimos calcular la distancia usando las lon y lat de la propiedad 1 con la estacion de subte 1, y las coordenadas de la propiedad 2 con la estacion 2.\n",
    "\n",
    "Pero, a lo que queremos llegar es que calcule la propiedad 1 con la estacion 1 y la estacion 2 y la estacion 3 etc. Luego, la propiedad 2 con la estacion 1 estacion 2 estacion 3 etc… Se entiende?"
   ]
  },
  {
   "cell_type": "code",
   "execution_count": 17,
   "metadata": {},
   "outputs": [],
   "source": [
    "import pandas as pd\n",
    "import numpy as np"
   ]
  },
  {
   "cell_type": "markdown",
   "metadata": {},
   "source": [
    "**Palermo**"
   ]
  },
  {
   "cell_type": "code",
   "execution_count": 13,
   "metadata": {},
   "outputs": [
    {
     "data": {
      "text/plain": [
       "(2885, 19)"
      ]
     },
     "execution_count": 13,
     "metadata": {},
     "output_type": "execute_result"
    }
   ],
   "source": [
    "data = pd.read_csv(\"properati.csv\", index_col=0)\n",
    "palermo = data.loc[data.place_name == 'Palermo', : ]\n",
    "\n",
    "desired_col= ['property_type', 'place_name', 'state_name', 'lat', 'lon', 'price', 'currency',\n",
    "       'price_aprox_local_currency', 'price_aprox_usd', 'surface_total_in_m2',\n",
    "       'surface_covered_in_m2', 'price_usd_per_m2', 'price_per_m2', 'floor',\n",
    "       'rooms', 'expenses', 'properati_url', 'description', 'title']\n",
    "\n",
    "paler= palermo[desired_col]\n",
    "por_nul = paler.isnull().sum()/paler.shape[0]*100\n",
    "por_nul_sorted = por_nul.sort_values(ascending=False)\n",
    "\n",
    "lat_max = paler.lat.max()\n",
    "lat_min = paler.lat.min()\n",
    "lon_max = paler.lon.max()\n",
    "lon_min = paler.lon.min()\n",
    "\n",
    "paler.shape\n",
    "#por_nul_sorted"
   ]
  },
  {
   "cell_type": "code",
   "execution_count": 15,
   "metadata": {},
   "outputs": [
    {
     "data": {
      "text/html": [
       "<div>\n",
       "<style scoped>\n",
       "    .dataframe tbody tr th:only-of-type {\n",
       "        vertical-align: middle;\n",
       "    }\n",
       "\n",
       "    .dataframe tbody tr th {\n",
       "        vertical-align: top;\n",
       "    }\n",
       "\n",
       "    .dataframe thead th {\n",
       "        text-align: right;\n",
       "    }\n",
       "</style>\n",
       "<table border=\"1\" class=\"dataframe\">\n",
       "  <thead>\n",
       "    <tr style=\"text-align: right;\">\n",
       "      <th></th>\n",
       "      <th>property_type</th>\n",
       "      <th>place_name</th>\n",
       "      <th>state_name</th>\n",
       "      <th>lat</th>\n",
       "      <th>lon</th>\n",
       "      <th>price</th>\n",
       "      <th>currency</th>\n",
       "      <th>price_aprox_local_currency</th>\n",
       "      <th>price_aprox_usd</th>\n",
       "      <th>surface_total_in_m2</th>\n",
       "      <th>surface_covered_in_m2</th>\n",
       "      <th>price_usd_per_m2</th>\n",
       "      <th>price_per_m2</th>\n",
       "      <th>floor</th>\n",
       "      <th>rooms</th>\n",
       "      <th>expenses</th>\n",
       "      <th>properati_url</th>\n",
       "      <th>description</th>\n",
       "      <th>title</th>\n",
       "    </tr>\n",
       "  </thead>\n",
       "  <tbody>\n",
       "    <tr>\n",
       "      <th>19</th>\n",
       "      <td>apartment</td>\n",
       "      <td>Palermo</td>\n",
       "      <td>Capital Federal</td>\n",
       "      <td>-34.580504</td>\n",
       "      <td>-58.405874</td>\n",
       "      <td>350000.0</td>\n",
       "      <td>USD</td>\n",
       "      <td>6175575.00</td>\n",
       "      <td>350000.0</td>\n",
       "      <td>104.0</td>\n",
       "      <td>96.0</td>\n",
       "      <td>3365.384615</td>\n",
       "      <td>3645.833333</td>\n",
       "      <td>NaN</td>\n",
       "      <td>3.0</td>\n",
       "      <td>NaN</td>\n",
       "      <td>http://www.properati.com.ar/15bq8_venta_depart...</td>\n",
       "      <td>Excelente semipiso al contra frente en Bulnes ...</td>\n",
       "      <td>Bulnes y Libertador: espectacular pulmón, con ...</td>\n",
       "    </tr>\n",
       "    <tr>\n",
       "      <th>21</th>\n",
       "      <td>apartment</td>\n",
       "      <td>Palermo</td>\n",
       "      <td>Capital Federal</td>\n",
       "      <td>-34.590926</td>\n",
       "      <td>-58.411665</td>\n",
       "      <td>270500.0</td>\n",
       "      <td>USD</td>\n",
       "      <td>4772837.25</td>\n",
       "      <td>270500.0</td>\n",
       "      <td>118.0</td>\n",
       "      <td>73.0</td>\n",
       "      <td>2292.372881</td>\n",
       "      <td>3705.479452</td>\n",
       "      <td>NaN</td>\n",
       "      <td>4.0</td>\n",
       "      <td>NaN</td>\n",
       "      <td>http://www.properati.com.ar/15bqd_venta_depart...</td>\n",
       "      <td>EXCELENTE ZONA, MULTIPLES MEDIOS DE TRANSPORTE...</td>\n",
       "      <td>Departamento de 4 ambientes en Venta en Palermo</td>\n",
       "    </tr>\n",
       "  </tbody>\n",
       "</table>\n",
       "</div>"
      ],
      "text/plain": [
       "   property_type place_name       state_name        lat        lon     price  \\\n",
       "19     apartment    Palermo  Capital Federal -34.580504 -58.405874  350000.0   \n",
       "21     apartment    Palermo  Capital Federal -34.590926 -58.411665  270500.0   \n",
       "\n",
       "   currency  price_aprox_local_currency  price_aprox_usd  surface_total_in_m2  \\\n",
       "19      USD                  6175575.00         350000.0                104.0   \n",
       "21      USD                  4772837.25         270500.0                118.0   \n",
       "\n",
       "    surface_covered_in_m2  price_usd_per_m2  price_per_m2  floor  rooms  \\\n",
       "19                   96.0       3365.384615   3645.833333    NaN    3.0   \n",
       "21                   73.0       2292.372881   3705.479452    NaN    4.0   \n",
       "\n",
       "    expenses                                      properati_url  \\\n",
       "19       NaN  http://www.properati.com.ar/15bq8_venta_depart...   \n",
       "21       NaN  http://www.properati.com.ar/15bqd_venta_depart...   \n",
       "\n",
       "                                          description  \\\n",
       "19  Excelente semipiso al contra frente en Bulnes ...   \n",
       "21  EXCELENTE ZONA, MULTIPLES MEDIOS DE TRANSPORTE...   \n",
       "\n",
       "                                                title  \n",
       "19  Bulnes y Libertador: espectacular pulmón, con ...  \n",
       "21    Departamento de 4 ambientes en Venta en Palermo  "
      ]
     },
     "execution_count": 15,
     "metadata": {},
     "output_type": "execute_result"
    }
   ],
   "source": [
    "paler.head(2)"
   ]
  },
  {
   "cell_type": "markdown",
   "metadata": {},
   "source": [
    "**Data sets externos**\n",
    "\n",
    "* Agreguen toda otra información construida a partir de los datos originales (o incluso información externa) que consideren relevante y útil para resolver los objetivos planteados."
   ]
  },
  {
   "cell_type": "code",
   "execution_count": 3,
   "metadata": {},
   "outputs": [],
   "source": [
    "subte_data = \"https://raw.githubusercontent.com/carlachka/grupo2dh/master/subte.csv\"\n",
    "ferro_data = \"https://raw.githubusercontent.com/carlachka/grupo2dh/master/ferrocarril.csv\"\n",
    "paradas_df = \"https://raw.githubusercontent.com/carlachka/grupo2dh/master/paradas.csv\"\n",
    "\n",
    "subte = pd.read_csv(subte_data) \n",
    "ferro = pd.read_csv(ferro_data)\n",
    "colec = pd.read_csv(paradas_df)\n"
   ]
  },
  {
   "cell_type": "code",
   "execution_count": 4,
   "metadata": {},
   "outputs": [],
   "source": [
    "#Cambio los nombres de las columnas de paradas de colectivos asi los tres data sets tienen los mismos nombres\n",
    "colec = colec.rename({\n",
    "    'stop_lat': 'lat',\n",
    "    'stop_lon': 'long',\n",
    "}, axis=1)"
   ]
  },
  {
   "cell_type": "code",
   "execution_count": 11,
   "metadata": {},
   "outputs": [
    {
     "name": "stdout",
     "output_type": "stream",
     "text": [
      "(90, 5)\n",
      "(42463, 12)\n",
      "(230, 11)\n"
     ]
    }
   ],
   "source": [
    "subte.head(3) # long lat id estacion linea AGREGAR subte\n",
    "colec.head(3) # lat long stop_id route_id  AGREGAR colectivo\n",
    "ferro.head(3) # lat long id nombre barrio  AGREGAR ferrocarril\n",
    "print(subte.shape)\n",
    "print(colec.shape)\n",
    "print(ferro.shape)"
   ]
  },
  {
   "cell_type": "markdown",
   "metadata": {},
   "source": [
    "**Subte**"
   ]
  },
  {
   "cell_type": "code",
   "execution_count": 23,
   "metadata": {},
   "outputs": [
    {
     "data": {
      "text/html": [
       "<div>\n",
       "<style scoped>\n",
       "    .dataframe tbody tr th:only-of-type {\n",
       "        vertical-align: middle;\n",
       "    }\n",
       "\n",
       "    .dataframe tbody tr th {\n",
       "        vertical-align: top;\n",
       "    }\n",
       "\n",
       "    .dataframe thead th {\n",
       "        text-align: right;\n",
       "    }\n",
       "</style>\n",
       "<table border=\"1\" class=\"dataframe\">\n",
       "  <thead>\n",
       "    <tr style=\"text-align: right;\">\n",
       "      <th></th>\n",
       "      <th>long</th>\n",
       "      <th>lat</th>\n",
       "      <th>id</th>\n",
       "      <th>estacion</th>\n",
       "      <th>linea</th>\n",
       "    </tr>\n",
       "  </thead>\n",
       "  <tbody>\n",
       "    <tr>\n",
       "      <th>0</th>\n",
       "      <td>-58.398928</td>\n",
       "      <td>-34.635750</td>\n",
       "      <td>1.0</td>\n",
       "      <td>CASEROS</td>\n",
       "      <td>H</td>\n",
       "    </tr>\n",
       "    <tr>\n",
       "      <th>1</th>\n",
       "      <td>-58.400970</td>\n",
       "      <td>-34.629376</td>\n",
       "      <td>2.0</td>\n",
       "      <td>INCLAN - MEZQUITA AL AHMAD</td>\n",
       "      <td>H</td>\n",
       "    </tr>\n",
       "    <tr>\n",
       "      <th>2</th>\n",
       "      <td>-58.402323</td>\n",
       "      <td>-34.623092</td>\n",
       "      <td>3.0</td>\n",
       "      <td>HUMBERTO 1°</td>\n",
       "      <td>H</td>\n",
       "    </tr>\n",
       "  </tbody>\n",
       "</table>\n",
       "</div>"
      ],
      "text/plain": [
       "        long        lat   id                    estacion linea\n",
       "0 -58.398928 -34.635750  1.0                     CASEROS     H\n",
       "1 -58.400970 -34.629376  2.0  INCLAN - MEZQUITA AL AHMAD     H\n",
       "2 -58.402323 -34.623092  3.0                 HUMBERTO 1°     H"
      ]
     },
     "execution_count": 23,
     "metadata": {},
     "output_type": "execute_result"
    }
   ],
   "source": [
    "subte.head(3)"
   ]
  },
  {
   "cell_type": "markdown",
   "metadata": {},
   "source": [
    "**Distancia entre dos puntos de latitud y longitud - Haversine_formula**"
   ]
  },
  {
   "cell_type": "markdown",
   "metadata": {},
   "source": [
    "The [haversine](https://en.wikipedia.org/wiki/Haversine_formula) formula allows the haversine of Θ (that is, hav(Θ)) to be computed directly from the latitude and longitude of the two points.\n",
    "\n",
    "<img src=\"h_formula.png\" alt=\"Drawing\" style=\"width: 400px;\"/>\n",
    "\n",
    "\n",
    "* φ1, φ2 are the latitude of point 1 and latitude of point 2 (in radians),\n",
    "* λ1, λ2 are the longitude of point 1 and longitude of point 2 (in radians).\n",
    "\n",
    "As similar formula can be written using cosines (sometimes called the spherical law of cosines, not to be confused with the law of cosines for plane geometry) instead of haversines, but if the two points are close together (e.g. a kilometer apart, on the Earth) you might end up with an inaccurate answer. Since the haversine formula uses sines, it avoids that problem.\n",
    "\n",
    "A [simplified formula](http://www.movable-type.co.uk/scripts/latlong.html) says:\n",
    "\n",
    "<img src=\"h_simple.png\" alt=\"Drawing\" style=\"width: 600px;\"/>\n"
   ]
  },
  {
   "cell_type": "code",
   "execution_count": 16,
   "metadata": {},
   "outputs": [],
   "source": [
    "#vectorized numpy version of the same function\n",
    "\n",
    "import numpy as np\n",
    "\n",
    "def haversine_np(lon1, lat1, lon2, lat2):\n",
    "    \"\"\"\n",
    "    Calculate the great circle distance between two points\n",
    "    on the earth (specified in decimal degrees)\n",
    "\n",
    "    All args must be of equal length.    \n",
    "\n",
    "    \"\"\"\n",
    "    lon1, lat1, lon2, lat2 = map(np.radians, [lon1, lat1, lon2, lat2])\n",
    "\n",
    "    dlon = lon2 - lon1\n",
    "    dlat = lat2 - lat1\n",
    "\n",
    "    a = np.sin(dlat/2.0)**2 + np.cos(lat1) * np.cos(lat2) * np.sin(dlon/2.0)**2\n",
    "\n",
    "    c = 2 * np.arcsin(np.sqrt(a))\n",
    "    \n",
    "    km = 6367 * c  #el radio de la tierra no es 6371 km??\n",
    "    \n",
    "    return km\n"
   ]
  },
  {
   "cell_type": "markdown",
   "metadata": {},
   "source": [
    "Ejemplo de como usar la funcion"
   ]
  },
  {
   "cell_type": "code",
   "execution_count": 27,
   "metadata": {},
   "outputs": [
    {
     "data": {
      "text/html": [
       "<div>\n",
       "<style scoped>\n",
       "    .dataframe tbody tr th:only-of-type {\n",
       "        vertical-align: middle;\n",
       "    }\n",
       "\n",
       "    .dataframe tbody tr th {\n",
       "        vertical-align: top;\n",
       "    }\n",
       "\n",
       "    .dataframe thead th {\n",
       "        text-align: right;\n",
       "    }\n",
       "</style>\n",
       "<table border=\"1\" class=\"dataframe\">\n",
       "  <thead>\n",
       "    <tr style=\"text-align: right;\">\n",
       "      <th></th>\n",
       "      <th>lon1</th>\n",
       "      <th>lon2</th>\n",
       "      <th>lat1</th>\n",
       "      <th>lat2</th>\n",
       "      <th>distance</th>\n",
       "    </tr>\n",
       "  </thead>\n",
       "  <tbody>\n",
       "    <tr>\n",
       "      <th>0</th>\n",
       "      <td>0.556902</td>\n",
       "      <td>0.211185</td>\n",
       "      <td>0.480597</td>\n",
       "      <td>-1.996209</td>\n",
       "      <td>277.902736</td>\n",
       "    </tr>\n",
       "    <tr>\n",
       "      <th>1</th>\n",
       "      <td>0.410545</td>\n",
       "      <td>0.155902</td>\n",
       "      <td>0.428752</td>\n",
       "      <td>-0.974439</td>\n",
       "      <td>158.476321</td>\n",
       "    </tr>\n",
       "  </tbody>\n",
       "</table>\n",
       "</div>"
      ],
      "text/plain": [
       "       lon1      lon2      lat1      lat2    distance\n",
       "0  0.556902  0.211185  0.480597 -1.996209  277.902736\n",
       "1  0.410545  0.155902  0.428752 -0.974439  158.476321"
      ]
     },
     "execution_count": 27,
     "metadata": {},
     "output_type": "execute_result"
    }
   ],
   "source": [
    "#The inputs are all arrays of values, and it should be able to do millions of points instantly. \n",
    "#The requirement is that the inputs are ndarrays but the columns of your pandas table will work.\n",
    "\n",
    "#For example, with randomly generated values:\n",
    "\n",
    "lon1, lon2, lat1, lat2 = np.random.randn(4, 1000000)\n",
    "df = pd.DataFrame(data={'lon1':lon1,'lon2':lon2,'lat1':lat1,'lat2':lat2})\n",
    "km = haversine_np(df['lon1'],df['lat1'],df['lon2'],df['lat2'])\n",
    "\n",
    "#Or if you want to create another column:\n",
    "\n",
    "df['distance'] = haversine_np(df['lon1'],df['lat1'],df['lon2'],df['lat2'])\n",
    "\n",
    "#Looping through arrays of data is very slow in python. Numpy provides functions that operate on entire arrays of data, \n",
    "#which lets you avoid looping and drastically improve performance.\n",
    "df.head(2)"
   ]
  },
  {
   "cell_type": "markdown",
   "metadata": {},
   "source": [
    "**Calculo la distancia entre todas las propiedades de Palermo y las estaciones de subte**"
   ]
  },
  {
   "cell_type": "code",
   "execution_count": 33,
   "metadata": {},
   "outputs": [
    {
     "data": {
      "text/html": [
       "<div>\n",
       "<style scoped>\n",
       "    .dataframe tbody tr th:only-of-type {\n",
       "        vertical-align: middle;\n",
       "    }\n",
       "\n",
       "    .dataframe tbody tr th {\n",
       "        vertical-align: top;\n",
       "    }\n",
       "\n",
       "    .dataframe thead th {\n",
       "        text-align: right;\n",
       "    }\n",
       "</style>\n",
       "<table border=\"1\" class=\"dataframe\">\n",
       "  <thead>\n",
       "    <tr style=\"text-align: right;\">\n",
       "      <th></th>\n",
       "      <th>distance</th>\n",
       "    </tr>\n",
       "  </thead>\n",
       "  <tbody>\n",
       "    <tr>\n",
       "      <th>0</th>\n",
       "      <td>NaN</td>\n",
       "    </tr>\n",
       "    <tr>\n",
       "      <th>1</th>\n",
       "      <td>NaN</td>\n",
       "    </tr>\n",
       "    <tr>\n",
       "      <th>2</th>\n",
       "      <td>NaN</td>\n",
       "    </tr>\n",
       "    <tr>\n",
       "      <th>3</th>\n",
       "      <td>NaN</td>\n",
       "    </tr>\n",
       "    <tr>\n",
       "      <th>4</th>\n",
       "      <td>NaN</td>\n",
       "    </tr>\n",
       "    <tr>\n",
       "      <th>5</th>\n",
       "      <td>NaN</td>\n",
       "    </tr>\n",
       "    <tr>\n",
       "      <th>6</th>\n",
       "      <td>NaN</td>\n",
       "    </tr>\n",
       "    <tr>\n",
       "      <th>7</th>\n",
       "      <td>NaN</td>\n",
       "    </tr>\n",
       "    <tr>\n",
       "      <th>8</th>\n",
       "      <td>NaN</td>\n",
       "    </tr>\n",
       "    <tr>\n",
       "      <th>9</th>\n",
       "      <td>NaN</td>\n",
       "    </tr>\n",
       "    <tr>\n",
       "      <th>10</th>\n",
       "      <td>NaN</td>\n",
       "    </tr>\n",
       "    <tr>\n",
       "      <th>11</th>\n",
       "      <td>NaN</td>\n",
       "    </tr>\n",
       "    <tr>\n",
       "      <th>12</th>\n",
       "      <td>NaN</td>\n",
       "    </tr>\n",
       "    <tr>\n",
       "      <th>13</th>\n",
       "      <td>NaN</td>\n",
       "    </tr>\n",
       "    <tr>\n",
       "      <th>14</th>\n",
       "      <td>NaN</td>\n",
       "    </tr>\n",
       "    <tr>\n",
       "      <th>15</th>\n",
       "      <td>NaN</td>\n",
       "    </tr>\n",
       "    <tr>\n",
       "      <th>16</th>\n",
       "      <td>NaN</td>\n",
       "    </tr>\n",
       "    <tr>\n",
       "      <th>17</th>\n",
       "      <td>NaN</td>\n",
       "    </tr>\n",
       "    <tr>\n",
       "      <th>18</th>\n",
       "      <td>NaN</td>\n",
       "    </tr>\n",
       "    <tr>\n",
       "      <th>19</th>\n",
       "      <td>3.788954</td>\n",
       "    </tr>\n",
       "    <tr>\n",
       "      <th>20</th>\n",
       "      <td>NaN</td>\n",
       "    </tr>\n",
       "    <tr>\n",
       "      <th>21</th>\n",
       "      <td>2.666489</td>\n",
       "    </tr>\n",
       "    <tr>\n",
       "      <th>22</th>\n",
       "      <td>NaN</td>\n",
       "    </tr>\n",
       "    <tr>\n",
       "      <th>23</th>\n",
       "      <td>NaN</td>\n",
       "    </tr>\n",
       "    <tr>\n",
       "      <th>24</th>\n",
       "      <td>NaN</td>\n",
       "    </tr>\n",
       "  </tbody>\n",
       "</table>\n",
       "</div>"
      ],
      "text/plain": [
       "    distance\n",
       "0        NaN\n",
       "1        NaN\n",
       "2        NaN\n",
       "3        NaN\n",
       "4        NaN\n",
       "5        NaN\n",
       "6        NaN\n",
       "7        NaN\n",
       "8        NaN\n",
       "9        NaN\n",
       "10       NaN\n",
       "11       NaN\n",
       "12       NaN\n",
       "13       NaN\n",
       "14       NaN\n",
       "15       NaN\n",
       "16       NaN\n",
       "17       NaN\n",
       "18       NaN\n",
       "19  3.788954\n",
       "20       NaN\n",
       "21  2.666489\n",
       "22       NaN\n",
       "23       NaN\n",
       "24       NaN"
      ]
     },
     "execution_count": 33,
     "metadata": {},
     "output_type": "execute_result"
    }
   ],
   "source": [
    "#creo un nuevo df vacio\n",
    "dist = pd.DataFrame() \n",
    "\n",
    "dist['distance'] = haversine_np(paler['lon'],paler['lat'],subte['long'],subte['lat'])\n",
    "dist.head(25)"
   ]
  },
  {
   "cell_type": "code",
   "execution_count": 36,
   "metadata": {},
   "outputs": [],
   "source": [
    "#PROBLEMA: deberia ser un loop, para que por cada (lon, lat) de las propiedades lo calcule con \n",
    "# CADA UNA de las estaciones. Como usar la funcion en forma de loop o crear un nuevo data set donde se repitan \n",
    "# las long y lat de las estaciones 2885 veces???"
   ]
  },
  {
   "cell_type": "markdown",
   "metadata": {},
   "source": [
    "Lo anterior usa las lon y lat de la propiedad 1 con la estacion de subte 1, y las coordenadas de la propiedad 2 con la estacion 2.\n",
    "\n",
    "Lo que quiero es que calcule la propiedad 1 con la estacion 1 y la estacion 2 y la estacion 3 etc. Luego, la propiedad 2 con la estacion 1 estacion 2 estacion 3 etc…Se entiende?"
   ]
  },
  {
   "cell_type": "code",
   "execution_count": null,
   "metadata": {},
   "outputs": [],
   "source": []
  },
  {
   "cell_type": "code",
   "execution_count": null,
   "metadata": {},
   "outputs": [],
   "source": []
  }
 ],
 "metadata": {
  "kernelspec": {
   "display_name": "Python 3",
   "language": "python",
   "name": "python3"
  },
  "language_info": {
   "codemirror_mode": {
    "name": "ipython",
    "version": 3
   },
   "file_extension": ".py",
   "mimetype": "text/x-python",
   "name": "python",
   "nbconvert_exporter": "python",
   "pygments_lexer": "ipython3",
   "version": "3.7.7"
  }
 },
 "nbformat": 4,
 "nbformat_minor": 4
}
